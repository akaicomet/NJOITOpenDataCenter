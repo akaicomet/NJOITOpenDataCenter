{
  "nbformat": 4,
  "nbformat_minor": 0,
  "metadata": {
    "colab": {
      "name": "NJOITOpenDataCenter-Pension-Record-ModelBuilding-3.ipynb",
      "version": "0.3.2",
      "provenance": [],
      "include_colab_link": true
    },
    "kernelspec": {
      "name": "python3",
      "display_name": "Python 3"
    }
  },
  "cells": [
    {
      "cell_type": "markdown",
      "metadata": {
        "id": "view-in-github",
        "colab_type": "text"
      },
      "source": [
        "<a href=\"https://colab.research.google.com/github/akaicomet/NJOITOpenDataCenter-Pension-Record/blob/master/NJOITOpenDataCenter_Pension_Record_ModelBuilding_3.ipynb\" target=\"_parent\"><img src=\"https://colab.research.google.com/assets/colab-badge.svg\" alt=\"Open In Colab\"/></a>"
      ]
    },
    {
      "metadata": {
        "id": "xpYZu3ckkCEn",
        "colab_type": "code",
        "outputId": "60e9edf0-a986-46d5-e46d-ebac921358ae",
        "colab": {
          "base_uri": "https://localhost:8080/",
          "height": 1493
        }
      },
      "cell_type": "code",
      "source": [
        "!pip install pandas\n",
        "!pip install tqdm\n",
        "!pip install scikit-learn\n",
        "!pip install sodapy\n",
        "!pip install matplotlib\n",
        "!pip install hyperopt\n",
        "!pip install bayesian-optimization\n",
        "!pip install tbvaccine \n",
        "!pip install MulticoreTSNE\n",
        "!pip install -U -q PyDrive"
      ],
      "execution_count": 1,
      "outputs": [
        {
          "output_type": "stream",
          "text": [
            "Requirement already satisfied: pandas in /usr/local/lib/python3.6/dist-packages (0.22.0)\n",
            "Requirement already satisfied: numpy>=1.9.0 in /usr/local/lib/python3.6/dist-packages (from pandas) (1.14.6)\n",
            "Requirement already satisfied: pytz>=2011k in /usr/local/lib/python3.6/dist-packages (from pandas) (2018.9)\n",
            "Requirement already satisfied: python-dateutil>=2 in /usr/local/lib/python3.6/dist-packages (from pandas) (2.5.3)\n",
            "Requirement already satisfied: six>=1.5 in /usr/local/lib/python3.6/dist-packages (from python-dateutil>=2->pandas) (1.11.0)\n",
            "Requirement already satisfied: tqdm in /usr/local/lib/python3.6/dist-packages (4.28.1)\n",
            "Requirement already satisfied: scikit-learn in /usr/local/lib/python3.6/dist-packages (0.20.2)\n",
            "Requirement already satisfied: scipy>=0.13.3 in /usr/local/lib/python3.6/dist-packages (from scikit-learn) (1.1.0)\n",
            "Requirement already satisfied: numpy>=1.8.2 in /usr/local/lib/python3.6/dist-packages (from scikit-learn) (1.14.6)\n",
            "Collecting sodapy\n",
            "  Downloading https://files.pythonhosted.org/packages/25/63/1915146aa7c453289cdfe181df30d4009ef3518a87b5c873269582c20c7b/sodapy-1.5.0-py2.py3-none-any.whl\n",
            "Collecting requests>=2.20.0 (from sodapy)\n",
            "\u001b[?25l  Downloading https://files.pythonhosted.org/packages/7d/e3/20f3d364d6c8e5d2353c72a67778eb189176f08e873c9900e10c0287b84b/requests-2.21.0-py2.py3-none-any.whl (57kB)\n",
            "\u001b[K    100% |████████████████████████████████| 61kB 4.6MB/s \n",
            "\u001b[?25hCollecting future>=0.17.1 (from sodapy)\n",
            "\u001b[?25l  Downloading https://files.pythonhosted.org/packages/90/52/e20466b85000a181e1e144fd8305caf2cf475e2f9674e797b222f8105f5f/future-0.17.1.tar.gz (829kB)\n",
            "\u001b[K    100% |████████████████████████████████| 829kB 21.2MB/s \n",
            "\u001b[?25hRequirement already satisfied: certifi>=2017.4.17 in /usr/local/lib/python3.6/dist-packages (from requests>=2.20.0->sodapy) (2018.11.29)\n",
            "Requirement already satisfied: urllib3<1.25,>=1.21.1 in /usr/local/lib/python3.6/dist-packages (from requests>=2.20.0->sodapy) (1.22)\n",
            "Requirement already satisfied: chardet<3.1.0,>=3.0.2 in /usr/local/lib/python3.6/dist-packages (from requests>=2.20.0->sodapy) (3.0.4)\n",
            "Requirement already satisfied: idna<2.9,>=2.5 in /usr/local/lib/python3.6/dist-packages (from requests>=2.20.0->sodapy) (2.6)\n",
            "Building wheels for collected packages: future\n",
            "  Building wheel for future (setup.py) ... \u001b[?25ldone\n",
            "\u001b[?25h  Stored in directory: /root/.cache/pip/wheels/0c/61/d2/d6b7317325828fbb39ee6ad559dbe4664d0896da4721bf379e\n",
            "Successfully built future\n",
            "\u001b[31mspacy 2.0.18 has requirement numpy>=1.15.0, but you'll have numpy 1.14.6 which is incompatible.\u001b[0m\n",
            "\u001b[31mgoogle-colab 0.0.1a1 has requirement requests~=2.18.0, but you'll have requests 2.21.0 which is incompatible.\u001b[0m\n",
            "\u001b[31mfeaturetools 0.4.1 has requirement pandas>=0.23.0, but you'll have pandas 0.22.0 which is incompatible.\u001b[0m\n",
            "\u001b[31mcufflinks 0.14.6 has requirement plotly>=3.0.0, but you'll have plotly 1.12.12 which is incompatible.\u001b[0m\n",
            "Installing collected packages: requests, future, sodapy\n",
            "  Found existing installation: requests 2.18.4\n",
            "    Uninstalling requests-2.18.4:\n",
            "      Successfully uninstalled requests-2.18.4\n",
            "  Found existing installation: future 0.16.0\n",
            "    Uninstalling future-0.16.0:\n",
            "      Successfully uninstalled future-0.16.0\n",
            "Successfully installed future-0.17.1 requests-2.21.0 sodapy-1.5.0\n"
          ],
          "name": "stdout"
        },
        {
          "output_type": "display_data",
          "data": {
            "application/vnd.colab-display-data+json": {
              "pip_warning": {
                "packages": [
                  "requests"
                ]
              }
            }
          },
          "metadata": {
            "tags": []
          }
        },
        {
          "output_type": "stream",
          "text": [
            "Requirement already satisfied: matplotlib in /usr/local/lib/python3.6/dist-packages (3.0.2)\n",
            "Requirement already satisfied: pyparsing!=2.0.4,!=2.1.2,!=2.1.6,>=2.0.1 in /usr/local/lib/python3.6/dist-packages (from matplotlib) (2.3.1)\n",
            "Requirement already satisfied: numpy>=1.10.0 in /usr/local/lib/python3.6/dist-packages (from matplotlib) (1.14.6)\n",
            "Requirement already satisfied: cycler>=0.10 in /usr/local/lib/python3.6/dist-packages (from matplotlib) (0.10.0)\n",
            "Requirement already satisfied: python-dateutil>=2.1 in /usr/local/lib/python3.6/dist-packages (from matplotlib) (2.5.3)\n",
            "Requirement already satisfied: kiwisolver>=1.0.1 in /usr/local/lib/python3.6/dist-packages (from matplotlib) (1.0.1)\n",
            "Requirement already satisfied: six in /usr/local/lib/python3.6/dist-packages (from cycler>=0.10->matplotlib) (1.11.0)\n",
            "Requirement already satisfied: setuptools in /usr/local/lib/python3.6/dist-packages (from kiwisolver>=1.0.1->matplotlib) (40.7.1)\n",
            "Requirement already satisfied: hyperopt in /usr/local/lib/python3.6/dist-packages (0.1.1)\n",
            "Requirement already satisfied: future in /usr/local/lib/python3.6/dist-packages (from hyperopt) (0.17.1)\n",
            "Requirement already satisfied: six in /usr/local/lib/python3.6/dist-packages (from hyperopt) (1.11.0)\n",
            "Requirement already satisfied: networkx in /usr/local/lib/python3.6/dist-packages (from hyperopt) (2.2)\n",
            "Requirement already satisfied: numpy in /usr/local/lib/python3.6/dist-packages (from hyperopt) (1.14.6)\n",
            "Requirement already satisfied: pymongo in /usr/local/lib/python3.6/dist-packages (from hyperopt) (3.7.2)\n",
            "Requirement already satisfied: scipy in /usr/local/lib/python3.6/dist-packages (from hyperopt) (1.1.0)\n",
            "Requirement already satisfied: decorator>=4.3.0 in /usr/local/lib/python3.6/dist-packages (from networkx->hyperopt) (4.3.2)\n",
            "Collecting bayesian-optimization\n",
            "  Downloading https://files.pythonhosted.org/packages/ad/fd/a53b65d5cff76d1f2783ac8172eb0adb670ec86f4955e7f8f3ef21d71e3a/bayesian-optimization-1.0.0.tar.gz\n",
            "Requirement already satisfied: numpy>=1.9.0 in /usr/local/lib/python3.6/dist-packages (from bayesian-optimization) (1.14.6)\n",
            "Requirement already satisfied: scipy>=0.14.0 in /usr/local/lib/python3.6/dist-packages (from bayesian-optimization) (1.1.0)\n",
            "Requirement already satisfied: scikit-learn>=0.18.0 in /usr/local/lib/python3.6/dist-packages (from bayesian-optimization) (0.20.2)\n",
            "Building wheels for collected packages: bayesian-optimization\n",
            "  Building wheel for bayesian-optimization (setup.py) ... \u001b[?25ldone\n",
            "\u001b[?25h  Stored in directory: /root/.cache/pip/wheels/4b/60/a2/6eec4adc73341c1a2a653022b99ff8e1cb090684dba83be683\n",
            "Successfully built bayesian-optimization\n",
            "Installing collected packages: bayesian-optimization\n",
            "Successfully installed bayesian-optimization-1.0.0\n",
            "Collecting tbvaccine\n",
            "  Downloading https://files.pythonhosted.org/packages/b1/fb/84c930393fb23cf5fef93629df6370c51639306f0f403b9628f1d44b3b26/tbvaccine-0.3.1-py2.py3-none-any.whl\n",
            "Requirement already satisfied: pygments in /usr/local/lib/python3.6/dist-packages (from tbvaccine) (2.1.3)\n",
            "Installing collected packages: tbvaccine\n",
            "Successfully installed tbvaccine-0.3.1\n",
            "Collecting MulticoreTSNE\n",
            "  Downloading https://files.pythonhosted.org/packages/2d/e8/2afa896fa4eebfa1d0d0ba2673fddac45582ec0f06b2bdda88108ced5425/MulticoreTSNE-0.1.tar.gz\n",
            "Requirement already satisfied: numpy in /usr/local/lib/python3.6/dist-packages (from MulticoreTSNE) (1.14.6)\n",
            "Requirement already satisfied: cffi in /usr/local/lib/python3.6/dist-packages (from MulticoreTSNE) (1.11.5)\n",
            "Requirement already satisfied: pycparser in /usr/local/lib/python3.6/dist-packages (from cffi->MulticoreTSNE) (2.19)\n",
            "Building wheels for collected packages: MulticoreTSNE\n",
            "  Building wheel for MulticoreTSNE (setup.py) ... \u001b[?25ldone\n",
            "\u001b[?25h  Stored in directory: /root/.cache/pip/wheels/27/59/53/3b52ee63add3692254c30d687fa4dff4d128d0557861fb028e\n",
            "Successfully built MulticoreTSNE\n",
            "Installing collected packages: MulticoreTSNE\n",
            "Successfully installed MulticoreTSNE-0.1\n",
            "\u001b[K    100% |████████████████████████████████| 993kB 20.4MB/s \n",
            "\u001b[?25h  Building wheel for PyDrive (setup.py) ... \u001b[?25ldone\n",
            "\u001b[?25h"
          ],
          "name": "stdout"
        }
      ]
    },
    {
      "metadata": {
        "id": "JPRrqTJr11-4",
        "colab_type": "text"
      },
      "cell_type": "markdown",
      "source": [
        "#1. Copy python files from  GItHub repository to local"
      ]
    },
    {
      "metadata": {
        "id": "4yirMDyHy6HF",
        "colab_type": "code",
        "outputId": "43eae571-8fcb-47ad-94cd-f423ae51d298",
        "colab": {
          "base_uri": "https://localhost:8080/",
          "height": 268
        }
      },
      "cell_type": "code",
      "source": [
        "!git clone https://github.com/akaicomet/NJOITOpenDataCenter.git\n",
        "!git clone https://github.com/akaicomet/akaicomet_Utility.git\n",
        "!git clone https://github.com/akaicomet/akaicomet_Chart.git\n",
        "!git clone https://github.com/akaicomet/akaicomet_ML.git"
      ],
      "execution_count": 57,
      "outputs": [
        {
          "output_type": "stream",
          "text": [
            "fatal: destination path 'NJOITOpenDataCenter' already exists and is not an empty directory.\n",
            "fatal: destination path 'akaicomet_Utility' already exists and is not an empty directory.\n",
            "Cloning into 'akaicomet_Chart'...\n",
            "remote: Enumerating objects: 73, done.\u001b[K\n",
            "remote: Counting objects: 100% (73/73), done.\u001b[K\n",
            "remote: Compressing objects: 100% (61/61), done.\u001b[K\n",
            "remote: Total 73 (delta 21), reused 0 (delta 0), pack-reused 0\u001b[K\n",
            "Unpacking objects: 100% (73/73), done.\n",
            "Cloning into 'akaicomet_ML'...\n",
            "remote: Enumerating objects: 23, done.\u001b[K\n",
            "remote: Counting objects: 100% (23/23), done.\u001b[K\n",
            "remote: Compressing objects: 100% (23/23), done.\u001b[K\n",
            "remote: Total 174 (delta 12), reused 0 (delta 0), pack-reused 151\u001b[K\n",
            "Receiving objects: 100% (174/174), 54.56 KiB | 6.06 MiB/s, done.\n",
            "Resolving deltas: 100% (72/72), done.\n"
          ],
          "name": "stdout"
        }
      ]
    },
    {
      "metadata": {
        "id": "R80YSeU836YS",
        "colab_type": "text"
      },
      "cell_type": "markdown",
      "source": [
        "#2. Run .py files in local"
      ]
    },
    {
      "metadata": {
        "id": "dl8bTQ7Ms7hJ",
        "colab_type": "code",
        "colab": {}
      },
      "cell_type": "code",
      "source": [
        "%run -i /content/akaicomet_Utility/ErrorHandling.py\n",
        "\n",
        "%run -i /content/NJOITOpenDataCenter/YourMoneyActivePensionMembers.py \n",
        "%run -i /content/NJOITOpenDataCenter/YourMoneyRetiredPensionMembers.py\n",
        "%run -i /content/NJOITOpenDataCenter/YourMoneyPensionMembersMerge.py\n",
        "\n",
        "%run -i /content/akaicomet_Chart/X-Ray_Scan.py\n",
        "%run -i /content/akaicomet_Chart/akaicomet_Chart.py\n",
        "\n",
        "%run -i /content/akaicomet_ML/ML_Init.py\n",
        "%run -i /content/akaicomet_ML/ML_Auto.py\n",
        "%run -i /content/akaicomet_ML/AutoFeatureEngineering.py\n"
      ],
      "execution_count": 0,
      "outputs": []
    },
    {
      "metadata": {
        "id": "ML9MALdY4Z74",
        "colab_type": "text"
      },
      "cell_type": "markdown",
      "source": [
        "#3. Import libraries"
      ]
    },
    {
      "metadata": {
        "id": "yAmvqv05tHPz",
        "colab_type": "code",
        "colab": {}
      },
      "cell_type": "code",
      "source": [
        "import pandas as pd\n",
        "import numpy as np\n",
        "#import matplotlib.pyplot as plt\n",
        "import random\n",
        "from sodapy import Socrata\n",
        "#from pandas.plotting import scatter_matrix\n",
        "#from datetime import datetime\n",
        "import seaborn as sb\n",
        "from tqdm import tqdm\n",
        "import warnings\n",
        "from textwrap import wrap"
      ],
      "execution_count": 0,
      "outputs": []
    },
    {
      "metadata": {
        "id": "905gCAXlsnlH",
        "colab_type": "code",
        "colab": {}
      },
      "cell_type": "code",
      "source": [
        "from sklearn.externals import joblib\n",
        "from pydrive.auth import GoogleAuth\n",
        "from pydrive.drive import GoogleDrive\n",
        "from google.colab import auth\n",
        "from oauth2client.client import GoogleCredentials\n",
        "\n",
        "auth.authenticate_user()\n",
        "gauth = GoogleAuth()\n",
        "gauth.credentials = GoogleCredentials.get_application_default()\n",
        "drive = GoogleDrive(gauth)\n"
      ],
      "execution_count": 0,
      "outputs": []
    },
    {
      "metadata": {
        "id": "bshpCLEA8PcF",
        "colab_type": "text"
      },
      "cell_type": "markdown",
      "source": [
        "#4. YourMoney and the NJOIT Open Data Center \n",
        "##4.1 YourMoney Active Pension Members API\n",
        "\n",
        "**Pension member data load from NJOIT** "
      ]
    },
    {
      "metadata": {
        "id": "jEJfm4bqtKfJ",
        "colab_type": "code",
        "outputId": "f0851317-91c9-448b-80a1-06fc19b161c5",
        "colab": {
          "base_uri": "https://localhost:8080/",
          "height": 33
        }
      },
      "cell_type": "code",
      "source": [
        "client = Socrata(\"data.nj.gov\", None)\n",
        "results = client.get(\"45bd-gwii\", limit=100000000)#100000000"
      ],
      "execution_count": 6,
      "outputs": [
        {
          "output_type": "stream",
          "text": [
            "WARNING:root:Requests made without an app_token will be subject to strict throttling limits.\n"
          ],
          "name": "stderr"
        }
      ]
    },
    {
      "metadata": {
        "id": "plM06Z5vBlAh",
        "colab_type": "text"
      },
      "cell_type": "markdown",
      "source": [
        "**Data Cleansing and Preparation for YourMoney Active Pension Members data**"
      ]
    },
    {
      "metadata": {
        "id": "_X0n-m4XtWdT",
        "colab_type": "code",
        "colab": {}
      },
      "cell_type": "code",
      "source": [
        "ActivePension_df = ActivePensionDataWrangler(results)"
      ],
      "execution_count": 0,
      "outputs": []
    },
    {
      "metadata": {
        "id": "AvLEEgGb9pbg",
        "colab_type": "text"
      },
      "cell_type": "markdown",
      "source": [
        "##4.2 YourMoney Retired Pension Members API\n",
        "**Pension payment member data load from NJOIT**"
      ]
    },
    {
      "metadata": {
        "id": "Pmixfdlx3a5H",
        "colab_type": "code",
        "colab": {}
      },
      "cell_type": "code",
      "source": [
        "results = client.get(\"8up4-62p6\",   limit=100000000)"
      ],
      "execution_count": 0,
      "outputs": []
    },
    {
      "metadata": {
        "id": "ysBme-6pAl4G",
        "colab_type": "text"
      },
      "cell_type": "markdown",
      "source": [
        "**Data Cleansing and Preparation for YourMoney Retired Pension data**"
      ]
    },
    {
      "metadata": {
        "id": "VMnmExggP835",
        "colab_type": "code",
        "colab": {}
      },
      "cell_type": "code",
      "source": [
        "RetiredPension_df_grped = RetiredPensionMembersDataWrangler(results)"
      ],
      "execution_count": 0,
      "outputs": []
    },
    {
      "metadata": {
        "id": "2RMSdT2fCMvo",
        "colab_type": "text"
      },
      "cell_type": "markdown",
      "source": [
        "**Merge YourMoney Active Pension Members data and YourMoney Retired Pension data**"
      ]
    },
    {
      "metadata": {
        "id": "gDDk7d-CV8jm",
        "colab_type": "code",
        "colab": {}
      },
      "cell_type": "code",
      "source": [
        "ActivePension_df = PensionMembersMerge(ActivePension_df,RetiredPension_df_grped)\n",
        "del results"
      ],
      "execution_count": 0,
      "outputs": []
    },
    {
      "metadata": {
        "id": "QKY-9NBXlCSQ",
        "colab_type": "text"
      },
      "cell_type": "markdown",
      "source": [
        "## 5 Recheck  Correlation Variable Validation:"
      ]
    },
    {
      "metadata": {
        "id": "iK84o24evCgM",
        "colab_type": "code",
        "outputId": "b13f7462-d621-4c57-9286-6662b55b28a0",
        "colab": {
          "base_uri": "https://localhost:8080/",
          "height": 336
        }
      },
      "cell_type": "code",
      "source": [
        "#x_cols2 = ['_20_year_status',\t'all_employers_salary_amt',\t\t'employer_freq_pensioned', 'total_months_qty',\t'location_freq_pensioned',\t\t'current_employer_salary_rollingamt', \t'service_months_qty',\t'pension_freq_pensioned', 'pension_fund_name_enc', 'pension_group_name_enc' ]\n",
        "x_cols2 = ['_20_year_status','all_employers_salary_amt','employer_freq_pensioned','total_months_qty','location_freq_pensioned','service_months_qty','pension_freq_pensioned','pension_fund_name_enc','pension_group_name_enc' ]\n",
        "ActivePension_df[x_cols2].corr()"
      ],
      "execution_count": 11,
      "outputs": [
        {
          "output_type": "execute_result",
          "data": {
            "text/html": [
              "<div>\n",
              "<style scoped>\n",
              "    .dataframe tbody tr th:only-of-type {\n",
              "        vertical-align: middle;\n",
              "    }\n",
              "\n",
              "    .dataframe tbody tr th {\n",
              "        vertical-align: top;\n",
              "    }\n",
              "\n",
              "    .dataframe thead th {\n",
              "        text-align: right;\n",
              "    }\n",
              "</style>\n",
              "<table border=\"1\" class=\"dataframe\">\n",
              "  <thead>\n",
              "    <tr style=\"text-align: right;\">\n",
              "      <th></th>\n",
              "      <th>_20_year_status</th>\n",
              "      <th>all_employers_salary_amt</th>\n",
              "      <th>employer_freq_pensioned</th>\n",
              "      <th>total_months_qty</th>\n",
              "      <th>location_freq_pensioned</th>\n",
              "      <th>service_months_qty</th>\n",
              "      <th>pension_freq_pensioned</th>\n",
              "      <th>pension_fund_name_enc</th>\n",
              "      <th>pension_group_name_enc</th>\n",
              "    </tr>\n",
              "  </thead>\n",
              "  <tbody>\n",
              "    <tr>\n",
              "      <th>_20_year_status</th>\n",
              "      <td>1.000000</td>\n",
              "      <td>0.295118</td>\n",
              "      <td>-0.074679</td>\n",
              "      <td>0.844411</td>\n",
              "      <td>0.082618</td>\n",
              "      <td>-0.002429</td>\n",
              "      <td>0.091064</td>\n",
              "      <td>-0.238068</td>\n",
              "      <td>-0.113550</td>\n",
              "    </tr>\n",
              "    <tr>\n",
              "      <th>all_employers_salary_amt</th>\n",
              "      <td>0.295118</td>\n",
              "      <td>1.000000</td>\n",
              "      <td>-0.066198</td>\n",
              "      <td>0.395345</td>\n",
              "      <td>-0.030279</td>\n",
              "      <td>-0.027708</td>\n",
              "      <td>-0.439474</td>\n",
              "      <td>0.207998</td>\n",
              "      <td>0.097105</td>\n",
              "    </tr>\n",
              "    <tr>\n",
              "      <th>employer_freq_pensioned</th>\n",
              "      <td>-0.074679</td>\n",
              "      <td>-0.066198</td>\n",
              "      <td>1.000000</td>\n",
              "      <td>-0.065524</td>\n",
              "      <td>0.187599</td>\n",
              "      <td>0.026186</td>\n",
              "      <td>0.040389</td>\n",
              "      <td>0.099662</td>\n",
              "      <td>-0.033238</td>\n",
              "    </tr>\n",
              "    <tr>\n",
              "      <th>total_months_qty</th>\n",
              "      <td>0.844411</td>\n",
              "      <td>0.395345</td>\n",
              "      <td>-0.065524</td>\n",
              "      <td>1.000000</td>\n",
              "      <td>0.067168</td>\n",
              "      <td>0.000102</td>\n",
              "      <td>0.047303</td>\n",
              "      <td>-0.187378</td>\n",
              "      <td>-0.121364</td>\n",
              "    </tr>\n",
              "    <tr>\n",
              "      <th>location_freq_pensioned</th>\n",
              "      <td>0.082618</td>\n",
              "      <td>-0.030279</td>\n",
              "      <td>0.187599</td>\n",
              "      <td>0.067168</td>\n",
              "      <td>1.000000</td>\n",
              "      <td>0.056022</td>\n",
              "      <td>0.308507</td>\n",
              "      <td>0.047458</td>\n",
              "      <td>-0.063150</td>\n",
              "    </tr>\n",
              "    <tr>\n",
              "      <th>service_months_qty</th>\n",
              "      <td>-0.002429</td>\n",
              "      <td>-0.027708</td>\n",
              "      <td>0.026186</td>\n",
              "      <td>0.000102</td>\n",
              "      <td>0.056022</td>\n",
              "      <td>1.000000</td>\n",
              "      <td>0.079330</td>\n",
              "      <td>0.052583</td>\n",
              "      <td>-0.034342</td>\n",
              "    </tr>\n",
              "    <tr>\n",
              "      <th>pension_freq_pensioned</th>\n",
              "      <td>0.091064</td>\n",
              "      <td>-0.439474</td>\n",
              "      <td>0.040389</td>\n",
              "      <td>0.047303</td>\n",
              "      <td>0.308507</td>\n",
              "      <td>0.079330</td>\n",
              "      <td>1.000000</td>\n",
              "      <td>-0.306339</td>\n",
              "      <td>-0.308736</td>\n",
              "    </tr>\n",
              "    <tr>\n",
              "      <th>pension_fund_name_enc</th>\n",
              "      <td>-0.238068</td>\n",
              "      <td>0.207998</td>\n",
              "      <td>0.099662</td>\n",
              "      <td>-0.187378</td>\n",
              "      <td>0.047458</td>\n",
              "      <td>0.052583</td>\n",
              "      <td>-0.306339</td>\n",
              "      <td>1.000000</td>\n",
              "      <td>0.185796</td>\n",
              "    </tr>\n",
              "    <tr>\n",
              "      <th>pension_group_name_enc</th>\n",
              "      <td>-0.113550</td>\n",
              "      <td>0.097105</td>\n",
              "      <td>-0.033238</td>\n",
              "      <td>-0.121364</td>\n",
              "      <td>-0.063150</td>\n",
              "      <td>-0.034342</td>\n",
              "      <td>-0.308736</td>\n",
              "      <td>0.185796</td>\n",
              "      <td>1.000000</td>\n",
              "    </tr>\n",
              "  </tbody>\n",
              "</table>\n",
              "</div>"
            ],
            "text/plain": [
              "                          _20_year_status  all_employers_salary_amt  \\\n",
              "_20_year_status                  1.000000                  0.295118   \n",
              "all_employers_salary_amt         0.295118                  1.000000   \n",
              "employer_freq_pensioned         -0.074679                 -0.066198   \n",
              "total_months_qty                 0.844411                  0.395345   \n",
              "location_freq_pensioned          0.082618                 -0.030279   \n",
              "service_months_qty              -0.002429                 -0.027708   \n",
              "pension_freq_pensioned           0.091064                 -0.439474   \n",
              "pension_fund_name_enc           -0.238068                  0.207998   \n",
              "pension_group_name_enc          -0.113550                  0.097105   \n",
              "\n",
              "                          employer_freq_pensioned  total_months_qty  \\\n",
              "_20_year_status                         -0.074679          0.844411   \n",
              "all_employers_salary_amt                -0.066198          0.395345   \n",
              "employer_freq_pensioned                  1.000000         -0.065524   \n",
              "total_months_qty                        -0.065524          1.000000   \n",
              "location_freq_pensioned                  0.187599          0.067168   \n",
              "service_months_qty                       0.026186          0.000102   \n",
              "pension_freq_pensioned                   0.040389          0.047303   \n",
              "pension_fund_name_enc                    0.099662         -0.187378   \n",
              "pension_group_name_enc                  -0.033238         -0.121364   \n",
              "\n",
              "                          location_freq_pensioned  service_months_qty  \\\n",
              "_20_year_status                          0.082618           -0.002429   \n",
              "all_employers_salary_amt                -0.030279           -0.027708   \n",
              "employer_freq_pensioned                  0.187599            0.026186   \n",
              "total_months_qty                         0.067168            0.000102   \n",
              "location_freq_pensioned                  1.000000            0.056022   \n",
              "service_months_qty                       0.056022            1.000000   \n",
              "pension_freq_pensioned                   0.308507            0.079330   \n",
              "pension_fund_name_enc                    0.047458            0.052583   \n",
              "pension_group_name_enc                  -0.063150           -0.034342   \n",
              "\n",
              "                          pension_freq_pensioned  pension_fund_name_enc  \\\n",
              "_20_year_status                         0.091064              -0.238068   \n",
              "all_employers_salary_amt               -0.439474               0.207998   \n",
              "employer_freq_pensioned                 0.040389               0.099662   \n",
              "total_months_qty                        0.047303              -0.187378   \n",
              "location_freq_pensioned                 0.308507               0.047458   \n",
              "service_months_qty                      0.079330               0.052583   \n",
              "pension_freq_pensioned                  1.000000              -0.306339   \n",
              "pension_fund_name_enc                  -0.306339               1.000000   \n",
              "pension_group_name_enc                 -0.308736               0.185796   \n",
              "\n",
              "                          pension_group_name_enc  \n",
              "_20_year_status                        -0.113550  \n",
              "all_employers_salary_amt                0.097105  \n",
              "employer_freq_pensioned                -0.033238  \n",
              "total_months_qty                       -0.121364  \n",
              "location_freq_pensioned                -0.063150  \n",
              "service_months_qty                     -0.034342  \n",
              "pension_freq_pensioned                 -0.308736  \n",
              "pension_fund_name_enc                   0.185796  \n",
              "pension_group_name_enc                  1.000000  "
            ]
          },
          "metadata": {
            "tags": []
          },
          "execution_count": 11
        }
      ]
    },
    {
      "metadata": {
        "id": "p6Z7F6NnadUy",
        "colab_type": "text"
      },
      "cell_type": "markdown",
      "source": [
        "# 6 Load clfs Data from Google Drive"
      ]
    },
    {
      "metadata": {
        "id": "DkCzePnPZB-j",
        "colab_type": "code",
        "colab": {}
      },
      "cell_type": "code",
      "source": [
        "#Need to change 'id' everytime\n",
        "\n",
        "downloaded = drive.CreateFile({'id':'1z_loeB0yA9pjlZUpS562WBlowfAn0-1d'})\n",
        "downloaded.GetContentFile('clfs624.pkl')\n",
        "\n",
        "downloaded = drive.CreateFile({'id':'1u1hj69_nk179-7UrXTHFC8AOprl_38v8'})\n",
        "downloaded.GetContentFile('clfs_score624.pkl')"
      ],
      "execution_count": 0,
      "outputs": []
    },
    {
      "metadata": {
        "id": "KeclDdVTZJvc",
        "colab_type": "code",
        "colab": {}
      },
      "cell_type": "code",
      "source": [
        "clfs = joblib.load('clfs624.pkl')\n",
        "clfs_score = joblib.load('clfs_score624.pkl')"
      ],
      "execution_count": 0,
      "outputs": []
    },
    {
      "metadata": {
        "colab_type": "code",
        "id": "ls0XpeDuZgI5",
        "colab": {}
      },
      "cell_type": "code",
      "source": [
        "df_clfs_score = pd.DataFrame.from_dict(clfs_score,orient='index')\n",
        "df_clfs_score = df_clfs_score[~df_clfs_score.duplicated()]"
      ],
      "execution_count": 0,
      "outputs": []
    },
    {
      "metadata": {
        "colab_type": "code",
        "id": "iEk0G4uWZgI2",
        "colab": {}
      },
      "cell_type": "code",
      "source": [
        "df_clfs_score['classifier'] = [i.split('|')[0] for i  in df_clfs_score.index.tolist()]"
      ],
      "execution_count": 0,
      "outputs": []
    },
    {
      "metadata": {
        "colab_type": "code",
        "id": "Nx-zt4b4ZgIy",
        "colab": {}
      },
      "cell_type": "code",
      "source": [
        "df_clfs_score['std'] = df_clfs_score.std(axis=1)"
      ],
      "execution_count": 0,
      "outputs": []
    },
    {
      "metadata": {
        "colab_type": "code",
        "id": "sV7L_9KjZgIu",
        "colab": {}
      },
      "cell_type": "code",
      "source": [
        "df_clfs_score.columns = ['Training', 'Test1', 'Test2', 'classifier','std']\n",
        "df_clfs_score = df_clfs_score[df_clfs_score['Training']  > 0.8]"
      ],
      "execution_count": 0,
      "outputs": []
    },
    {
      "metadata": {
        "id": "OghHh-OW_cI4",
        "colab_type": "code",
        "colab": {}
      },
      "cell_type": "code",
      "source": [
        "df_clfs_score['rank'] = df_clfs_score.sort_values(['classifier','std','Training'], ascending=[True, True, True]).groupby('classifier')['std'].cumcount()"
      ],
      "execution_count": 0,
      "outputs": []
    },
    {
      "metadata": {
        "id": "A6RnlMx0S6Q9",
        "colab_type": "code",
        "outputId": "9e6b91ca-37dc-4952-db32-b08c63c9d91c",
        "colab": {
          "base_uri": "https://localhost:8080/",
          "height": 1300
        }
      },
      "cell_type": "code",
      "source": [
        "df_clfs_score[df_clfs_score['rank']  < 11].sort_values(['classifier','rank'], ascending=[True, True])"
      ],
      "execution_count": 56,
      "outputs": [
        {
          "output_type": "execute_result",
          "data": {
            "text/html": [
              "<div>\n",
              "<style scoped>\n",
              "    .dataframe tbody tr th:only-of-type {\n",
              "        vertical-align: middle;\n",
              "    }\n",
              "\n",
              "    .dataframe tbody tr th {\n",
              "        vertical-align: top;\n",
              "    }\n",
              "\n",
              "    .dataframe thead th {\n",
              "        text-align: right;\n",
              "    }\n",
              "</style>\n",
              "<table border=\"1\" class=\"dataframe\">\n",
              "  <thead>\n",
              "    <tr style=\"text-align: right;\">\n",
              "      <th></th>\n",
              "      <th>Training</th>\n",
              "      <th>Test1</th>\n",
              "      <th>Test2</th>\n",
              "      <th>classifier</th>\n",
              "      <th>std</th>\n",
              "      <th>rank</th>\n",
              "    </tr>\n",
              "  </thead>\n",
              "  <tbody>\n",
              "    <tr>\n",
              "      <th>AdaBoostClassifier|Raw Normalizer_l2|</th>\n",
              "      <td>0.939714</td>\n",
              "      <td>0.938000</td>\n",
              "      <td>0.938667</td>\n",
              "      <td>AdaBoostClassifier</td>\n",
              "      <td>0.000864</td>\n",
              "      <td>0</td>\n",
              "    </tr>\n",
              "    <tr>\n",
              "      <th>AdaBoostClassifier|PCA StandardScalerMTST|StandardScalerMFST|</th>\n",
              "      <td>0.939714</td>\n",
              "      <td>0.938000</td>\n",
              "      <td>0.939333</td>\n",
              "      <td>AdaBoostClassifier</td>\n",
              "      <td>0.000900</td>\n",
              "      <td>1</td>\n",
              "    </tr>\n",
              "    <tr>\n",
              "      <th>AdaBoostClassifier|PCA PowerTransformer_std|PowerTransformer|</th>\n",
              "      <td>0.916000</td>\n",
              "      <td>0.914667</td>\n",
              "      <td>0.914000</td>\n",
              "      <td>AdaBoostClassifier</td>\n",
              "      <td>0.001018</td>\n",
              "      <td>2</td>\n",
              "    </tr>\n",
              "    <tr>\n",
              "      <th>AdaBoostClassifier|PCA StandardScalerMFST|StandardScalerMFSF|</th>\n",
              "      <td>0.939429</td>\n",
              "      <td>0.938000</td>\n",
              "      <td>0.940000</td>\n",
              "      <td>AdaBoostClassifier</td>\n",
              "      <td>0.001030</td>\n",
              "      <td>3</td>\n",
              "    </tr>\n",
              "    <tr>\n",
              "      <th>AdaBoostClassifier|Raw StandardScalerMTST|StandardScalerMTSF|</th>\n",
              "      <td>0.941714</td>\n",
              "      <td>0.940000</td>\n",
              "      <td>0.943333</td>\n",
              "      <td>AdaBoostClassifier</td>\n",
              "      <td>0.001667</td>\n",
              "      <td>4</td>\n",
              "    </tr>\n",
              "    <tr>\n",
              "      <th>AdaBoostClassifier|Raw QuantileTransformer_u|</th>\n",
              "      <td>0.941429</td>\n",
              "      <td>0.939333</td>\n",
              "      <td>0.942667</td>\n",
              "      <td>AdaBoostClassifier</td>\n",
              "      <td>0.001685</td>\n",
              "      <td>5</td>\n",
              "    </tr>\n",
              "    <tr>\n",
              "      <th>AdaBoostClassifier|PCA StandardScalerMTST|StandardScalerMTSF|</th>\n",
              "      <td>0.939714</td>\n",
              "      <td>0.936667</td>\n",
              "      <td>0.940000</td>\n",
              "      <td>AdaBoostClassifier</td>\n",
              "      <td>0.001848</td>\n",
              "      <td>6</td>\n",
              "    </tr>\n",
              "    <tr>\n",
              "      <th>AdaBoostClassifier|Raw StandardScalerMTST|StandardScalerMFST|</th>\n",
              "      <td>0.942857</td>\n",
              "      <td>0.940667</td>\n",
              "      <td>0.944667</td>\n",
              "      <td>AdaBoostClassifier</td>\n",
              "      <td>0.002003</td>\n",
              "      <td>7</td>\n",
              "    </tr>\n",
              "    <tr>\n",
              "      <th>AdaBoostClassifier|Raw StandardScalerMTSF|StandardScalerMFSF|</th>\n",
              "      <td>0.943143</td>\n",
              "      <td>0.941333</td>\n",
              "      <td>0.945333</td>\n",
              "      <td>AdaBoostClassifier</td>\n",
              "      <td>0.002003</td>\n",
              "      <td>8</td>\n",
              "    </tr>\n",
              "    <tr>\n",
              "      <th>AdaBoostClassifier|PCA StandardScalerMTST|</th>\n",
              "      <td>0.937714</td>\n",
              "      <td>0.936000</td>\n",
              "      <td>0.940000</td>\n",
              "      <td>AdaBoostClassifier</td>\n",
              "      <td>0.002007</td>\n",
              "      <td>9</td>\n",
              "    </tr>\n",
              "    <tr>\n",
              "      <th>AdaBoostClassifier|PCA StandardScalerMFST|</th>\n",
              "      <td>0.938286</td>\n",
              "      <td>0.935333</td>\n",
              "      <td>0.939333</td>\n",
              "      <td>AdaBoostClassifier</td>\n",
              "      <td>0.002074</td>\n",
              "      <td>10</td>\n",
              "    </tr>\n",
              "    <tr>\n",
              "      <th>GradientBoostingClassifier|Raw QuantileTransformer_u|QuantileTransformer_n|</th>\n",
              "      <td>0.945429</td>\n",
              "      <td>0.938667</td>\n",
              "      <td>0.945333</td>\n",
              "      <td>GradientBoostingClassifier</td>\n",
              "      <td>0.003877</td>\n",
              "      <td>0</td>\n",
              "    </tr>\n",
              "    <tr>\n",
              "      <th>GradientBoostingClassifier|Raw Normalizer_l1|</th>\n",
              "      <td>0.944857</td>\n",
              "      <td>0.937333</td>\n",
              "      <td>0.943333</td>\n",
              "      <td>GradientBoostingClassifier</td>\n",
              "      <td>0.003978</td>\n",
              "      <td>1</td>\n",
              "    </tr>\n",
              "    <tr>\n",
              "      <th>GradientBoostingClassifier|PCA QuantileTransformer_u|QuantileTransformer_n|</th>\n",
              "      <td>0.947429</td>\n",
              "      <td>0.939333</td>\n",
              "      <td>0.944000</td>\n",
              "      <td>GradientBoostingClassifier</td>\n",
              "      <td>0.004063</td>\n",
              "      <td>2</td>\n",
              "    </tr>\n",
              "    <tr>\n",
              "      <th>GradientBoostingClassifier|Raw Normalizer_l2|</th>\n",
              "      <td>0.945429</td>\n",
              "      <td>0.937333</td>\n",
              "      <td>0.945333</td>\n",
              "      <td>GradientBoostingClassifier</td>\n",
              "      <td>0.004647</td>\n",
              "      <td>3</td>\n",
              "    </tr>\n",
              "    <tr>\n",
              "      <th>GradientBoostingClassifier|PCA QuantileTransformer_n|</th>\n",
              "      <td>0.947429</td>\n",
              "      <td>0.938000</td>\n",
              "      <td>0.944667</td>\n",
              "      <td>GradientBoostingClassifier</td>\n",
              "      <td>0.004847</td>\n",
              "      <td>4</td>\n",
              "    </tr>\n",
              "    <tr>\n",
              "      <th>GradientBoostingClassifier|PCA QuantileTransformer_u|</th>\n",
              "      <td>0.949143</td>\n",
              "      <td>0.939333</td>\n",
              "      <td>0.946667</td>\n",
              "      <td>GradientBoostingClassifier</td>\n",
              "      <td>0.005101</td>\n",
              "      <td>5</td>\n",
              "    </tr>\n",
              "    <tr>\n",
              "      <th>GradientBoostingClassifier|Raw MinMaxScaler|</th>\n",
              "      <td>0.946286</td>\n",
              "      <td>0.936667</td>\n",
              "      <td>0.944667</td>\n",
              "      <td>GradientBoostingClassifier</td>\n",
              "      <td>0.005150</td>\n",
              "      <td>6</td>\n",
              "    </tr>\n",
              "    <tr>\n",
              "      <th>GradientBoostingClassifier|PCA PowerTransformer_std|PowerTransformer|</th>\n",
              "      <td>0.947143</td>\n",
              "      <td>0.936667</td>\n",
              "      <td>0.944667</td>\n",
              "      <td>GradientBoostingClassifier</td>\n",
              "      <td>0.005475</td>\n",
              "      <td>7</td>\n",
              "    </tr>\n",
              "    <tr>\n",
              "      <th>GradientBoostingClassifier|PCA PowerTransformer_std|</th>\n",
              "      <td>0.948571</td>\n",
              "      <td>0.938000</td>\n",
              "      <td>0.946000</td>\n",
              "      <td>GradientBoostingClassifier</td>\n",
              "      <td>0.005513</td>\n",
              "      <td>8</td>\n",
              "    </tr>\n",
              "    <tr>\n",
              "      <th>GradientBoostingClassifier|PCA MinMaxScaler|</th>\n",
              "      <td>0.945714</td>\n",
              "      <td>0.935333</td>\n",
              "      <td>0.944000</td>\n",
              "      <td>GradientBoostingClassifier</td>\n",
              "      <td>0.005565</td>\n",
              "      <td>9</td>\n",
              "    </tr>\n",
              "    <tr>\n",
              "      <th>GradientBoostingClassifier|PCA StandardScalerMTST|</th>\n",
              "      <td>0.945143</td>\n",
              "      <td>0.933333</td>\n",
              "      <td>0.944667</td>\n",
              "      <td>GradientBoostingClassifier</td>\n",
              "      <td>0.006685</td>\n",
              "      <td>10</td>\n",
              "    </tr>\n",
              "    <tr>\n",
              "      <th>LinearSVC|PCA StandardScalerMTSF|StandardScalerMFST|</th>\n",
              "      <td>0.939714</td>\n",
              "      <td>0.939333</td>\n",
              "      <td>0.940667</td>\n",
              "      <td>LinearSVC</td>\n",
              "      <td>0.000687</td>\n",
              "      <td>0</td>\n",
              "    </tr>\n",
              "    <tr>\n",
              "      <th>LinearSVC|Raw MinMaxScaler|</th>\n",
              "      <td>0.940286</td>\n",
              "      <td>0.939333</td>\n",
              "      <td>0.940667</td>\n",
              "      <td>LinearSVC</td>\n",
              "      <td>0.000687</td>\n",
              "      <td>1</td>\n",
              "    </tr>\n",
              "    <tr>\n",
              "      <th>LinearSVC|Raw StandardScalerMFST|</th>\n",
              "      <td>0.940000</td>\n",
              "      <td>0.938667</td>\n",
              "      <td>0.940667</td>\n",
              "      <td>LinearSVC</td>\n",
              "      <td>0.001018</td>\n",
              "      <td>2</td>\n",
              "    </tr>\n",
              "    <tr>\n",
              "      <th>LinearSVC|Raw QuantileTransformer_u|</th>\n",
              "      <td>0.940286</td>\n",
              "      <td>0.938000</td>\n",
              "      <td>0.940667</td>\n",
              "      <td>LinearSVC</td>\n",
              "      <td>0.001442</td>\n",
              "      <td>3</td>\n",
              "    </tr>\n",
              "    <tr>\n",
              "      <th>LinearSVC|Raw PowerTransformer|</th>\n",
              "      <td>0.818286</td>\n",
              "      <td>0.820667</td>\n",
              "      <td>0.816667</td>\n",
              "      <td>LinearSVC</td>\n",
              "      <td>0.002012</td>\n",
              "      <td>4</td>\n",
              "    </tr>\n",
              "    <tr>\n",
              "      <th>LinearSVC|PCA QuantileTransformer_n|</th>\n",
              "      <td>0.913714</td>\n",
              "      <td>0.917333</td>\n",
              "      <td>0.918000</td>\n",
              "      <td>LinearSVC</td>\n",
              "      <td>0.002306</td>\n",
              "      <td>5</td>\n",
              "    </tr>\n",
              "    <tr>\n",
              "      <th>LinearSVC|Raw StandardScalerMTSF|</th>\n",
              "      <td>0.827429</td>\n",
              "      <td>0.824000</td>\n",
              "      <td>0.833333</td>\n",
              "      <td>LinearSVC</td>\n",
              "      <td>0.004721</td>\n",
              "      <td>6</td>\n",
              "    </tr>\n",
              "    <tr>\n",
              "      <th>LinearSVC|PCA QuantileTransformer_u|QuantileTransformer_n|</th>\n",
              "      <td>0.815714</td>\n",
              "      <td>0.804667</td>\n",
              "      <td>0.812000</td>\n",
              "      <td>LinearSVC</td>\n",
              "      <td>0.005622</td>\n",
              "      <td>7</td>\n",
              "    </tr>\n",
              "    <tr>\n",
              "      <th>LogisticRegression2|Raw StandardScalerMTSF|StandardScalerMFSF|</th>\n",
              "      <td>0.940000</td>\n",
              "      <td>0.939333</td>\n",
              "      <td>0.940000</td>\n",
              "      <td>LogisticRegression2</td>\n",
              "      <td>0.000385</td>\n",
              "      <td>0</td>\n",
              "    </tr>\n",
              "    <tr>\n",
              "      <th>RandomForestClassifier|Raw Normalizer_l1|</th>\n",
              "      <td>0.987143</td>\n",
              "      <td>0.939333</td>\n",
              "      <td>0.970667</td>\n",
              "      <td>RandomForestClassifier</td>\n",
              "      <td>0.024286</td>\n",
              "      <td>0</td>\n",
              "    </tr>\n",
              "    <tr>\n",
              "      <th>RandomForestClassifier|Raw Normalizer_l2|</th>\n",
              "      <td>0.986857</td>\n",
              "      <td>0.938667</td>\n",
              "      <td>0.970000</td>\n",
              "      <td>RandomForestClassifier</td>\n",
              "      <td>0.024455</td>\n",
              "      <td>1</td>\n",
              "    </tr>\n",
              "    <tr>\n",
              "      <th>RandomForestClassifier|PCA QuantileTransformer_n|</th>\n",
              "      <td>0.988286</td>\n",
              "      <td>0.940000</td>\n",
              "      <td>0.971333</td>\n",
              "      <td>RandomForestClassifier</td>\n",
              "      <td>0.024497</td>\n",
              "      <td>2</td>\n",
              "    </tr>\n",
              "    <tr>\n",
              "      <th>RandomForestClassifier|Raw QuantileTransformer_u|QuantileTransformer_n|</th>\n",
              "      <td>0.988286</td>\n",
              "      <td>0.940000</td>\n",
              "      <td>0.972000</td>\n",
              "      <td>RandomForestClassifier</td>\n",
              "      <td>0.024565</td>\n",
              "      <td>3</td>\n",
              "    </tr>\n",
              "    <tr>\n",
              "      <th>RandomForestClassifier|PCA QuantileTransformer_u|QuantileTransformer_n|</th>\n",
              "      <td>0.987143</td>\n",
              "      <td>0.938667</td>\n",
              "      <td>0.970667</td>\n",
              "      <td>RandomForestClassifier</td>\n",
              "      <td>0.024649</td>\n",
              "      <td>4</td>\n",
              "    </tr>\n",
              "    <tr>\n",
              "      <th>RandomForestClassifier|PCA QuantileTransformer_u|</th>\n",
              "      <td>0.987143</td>\n",
              "      <td>0.938000</td>\n",
              "      <td>0.970667</td>\n",
              "      <td>RandomForestClassifier</td>\n",
              "      <td>0.025012</td>\n",
              "      <td>5</td>\n",
              "    </tr>\n",
              "    <tr>\n",
              "      <th>RandomForestClassifier|PCA MinMaxScaler|</th>\n",
              "      <td>0.988000</td>\n",
              "      <td>0.938667</td>\n",
              "      <td>0.972667</td>\n",
              "      <td>RandomForestClassifier</td>\n",
              "      <td>0.025248</td>\n",
              "      <td>6</td>\n",
              "    </tr>\n",
              "    <tr>\n",
              "      <th>RandomForestClassifier|PCA StandardScalerMTST|</th>\n",
              "      <td>0.987714</td>\n",
              "      <td>0.938000</td>\n",
              "      <td>0.972667</td>\n",
              "      <td>RandomForestClassifier</td>\n",
              "      <td>0.025494</td>\n",
              "      <td>7</td>\n",
              "    </tr>\n",
              "    <tr>\n",
              "      <th>RandomForestClassifier|Raw PowerTransformer_std|</th>\n",
              "      <td>0.990000</td>\n",
              "      <td>0.940000</td>\n",
              "      <td>0.974000</td>\n",
              "      <td>RandomForestClassifier</td>\n",
              "      <td>0.025534</td>\n",
              "      <td>8</td>\n",
              "    </tr>\n",
              "    <tr>\n",
              "      <th>RandomForestClassifier|PCA PowerTransformer_std|</th>\n",
              "      <td>0.989143</td>\n",
              "      <td>0.938667</td>\n",
              "      <td>0.970667</td>\n",
              "      <td>RandomForestClassifier</td>\n",
              "      <td>0.025538</td>\n",
              "      <td>9</td>\n",
              "    </tr>\n",
              "    <tr>\n",
              "      <th>RandomForestClassifier|Raw MinMaxScaler|</th>\n",
              "      <td>0.990000</td>\n",
              "      <td>0.940000</td>\n",
              "      <td>0.974667</td>\n",
              "      <td>RandomForestClassifier</td>\n",
              "      <td>0.025615</td>\n",
              "      <td>10</td>\n",
              "    </tr>\n",
              "  </tbody>\n",
              "</table>\n",
              "</div>"
            ],
            "text/plain": [
              "                                                    Training     Test1  \\\n",
              "AdaBoostClassifier|Raw Normalizer_l2|               0.939714  0.938000   \n",
              "AdaBoostClassifier|PCA StandardScalerMTST|Stand...  0.939714  0.938000   \n",
              "AdaBoostClassifier|PCA PowerTransformer_std|Pow...  0.916000  0.914667   \n",
              "AdaBoostClassifier|PCA StandardScalerMFST|Stand...  0.939429  0.938000   \n",
              "AdaBoostClassifier|Raw StandardScalerMTST|Stand...  0.941714  0.940000   \n",
              "AdaBoostClassifier|Raw QuantileTransformer_u|       0.941429  0.939333   \n",
              "AdaBoostClassifier|PCA StandardScalerMTST|Stand...  0.939714  0.936667   \n",
              "AdaBoostClassifier|Raw StandardScalerMTST|Stand...  0.942857  0.940667   \n",
              "AdaBoostClassifier|Raw StandardScalerMTSF|Stand...  0.943143  0.941333   \n",
              "AdaBoostClassifier|PCA StandardScalerMTST|          0.937714  0.936000   \n",
              "AdaBoostClassifier|PCA StandardScalerMFST|          0.938286  0.935333   \n",
              "GradientBoostingClassifier|Raw QuantileTransfor...  0.945429  0.938667   \n",
              "GradientBoostingClassifier|Raw Normalizer_l1|       0.944857  0.937333   \n",
              "GradientBoostingClassifier|PCA QuantileTransfor...  0.947429  0.939333   \n",
              "GradientBoostingClassifier|Raw Normalizer_l2|       0.945429  0.937333   \n",
              "GradientBoostingClassifier|PCA QuantileTransfor...  0.947429  0.938000   \n",
              "GradientBoostingClassifier|PCA QuantileTransfor...  0.949143  0.939333   \n",
              "GradientBoostingClassifier|Raw MinMaxScaler|        0.946286  0.936667   \n",
              "GradientBoostingClassifier|PCA PowerTransformer...  0.947143  0.936667   \n",
              "GradientBoostingClassifier|PCA PowerTransformer...  0.948571  0.938000   \n",
              "GradientBoostingClassifier|PCA MinMaxScaler|        0.945714  0.935333   \n",
              "GradientBoostingClassifier|PCA StandardScalerMTST|  0.945143  0.933333   \n",
              "LinearSVC|PCA StandardScalerMTSF|StandardScaler...  0.939714  0.939333   \n",
              "LinearSVC|Raw MinMaxScaler|                         0.940286  0.939333   \n",
              "LinearSVC|Raw StandardScalerMFST|                   0.940000  0.938667   \n",
              "LinearSVC|Raw QuantileTransformer_u|                0.940286  0.938000   \n",
              "LinearSVC|Raw PowerTransformer|                     0.818286  0.820667   \n",
              "LinearSVC|PCA QuantileTransformer_n|                0.913714  0.917333   \n",
              "LinearSVC|Raw StandardScalerMTSF|                   0.827429  0.824000   \n",
              "LinearSVC|PCA QuantileTransformer_u|QuantileTra...  0.815714  0.804667   \n",
              "LogisticRegression2|Raw StandardScalerMTSF|Stan...  0.940000  0.939333   \n",
              "RandomForestClassifier|Raw Normalizer_l1|           0.987143  0.939333   \n",
              "RandomForestClassifier|Raw Normalizer_l2|           0.986857  0.938667   \n",
              "RandomForestClassifier|PCA QuantileTransformer_n|   0.988286  0.940000   \n",
              "RandomForestClassifier|Raw QuantileTransformer_...  0.988286  0.940000   \n",
              "RandomForestClassifier|PCA QuantileTransformer_...  0.987143  0.938667   \n",
              "RandomForestClassifier|PCA QuantileTransformer_u|   0.987143  0.938000   \n",
              "RandomForestClassifier|PCA MinMaxScaler|            0.988000  0.938667   \n",
              "RandomForestClassifier|PCA StandardScalerMTST|      0.987714  0.938000   \n",
              "RandomForestClassifier|Raw PowerTransformer_std|    0.990000  0.940000   \n",
              "RandomForestClassifier|PCA PowerTransformer_std|    0.989143  0.938667   \n",
              "RandomForestClassifier|Raw MinMaxScaler|            0.990000  0.940000   \n",
              "\n",
              "                                                       Test2  \\\n",
              "AdaBoostClassifier|Raw Normalizer_l2|               0.938667   \n",
              "AdaBoostClassifier|PCA StandardScalerMTST|Stand...  0.939333   \n",
              "AdaBoostClassifier|PCA PowerTransformer_std|Pow...  0.914000   \n",
              "AdaBoostClassifier|PCA StandardScalerMFST|Stand...  0.940000   \n",
              "AdaBoostClassifier|Raw StandardScalerMTST|Stand...  0.943333   \n",
              "AdaBoostClassifier|Raw QuantileTransformer_u|       0.942667   \n",
              "AdaBoostClassifier|PCA StandardScalerMTST|Stand...  0.940000   \n",
              "AdaBoostClassifier|Raw StandardScalerMTST|Stand...  0.944667   \n",
              "AdaBoostClassifier|Raw StandardScalerMTSF|Stand...  0.945333   \n",
              "AdaBoostClassifier|PCA StandardScalerMTST|          0.940000   \n",
              "AdaBoostClassifier|PCA StandardScalerMFST|          0.939333   \n",
              "GradientBoostingClassifier|Raw QuantileTransfor...  0.945333   \n",
              "GradientBoostingClassifier|Raw Normalizer_l1|       0.943333   \n",
              "GradientBoostingClassifier|PCA QuantileTransfor...  0.944000   \n",
              "GradientBoostingClassifier|Raw Normalizer_l2|       0.945333   \n",
              "GradientBoostingClassifier|PCA QuantileTransfor...  0.944667   \n",
              "GradientBoostingClassifier|PCA QuantileTransfor...  0.946667   \n",
              "GradientBoostingClassifier|Raw MinMaxScaler|        0.944667   \n",
              "GradientBoostingClassifier|PCA PowerTransformer...  0.944667   \n",
              "GradientBoostingClassifier|PCA PowerTransformer...  0.946000   \n",
              "GradientBoostingClassifier|PCA MinMaxScaler|        0.944000   \n",
              "GradientBoostingClassifier|PCA StandardScalerMTST|  0.944667   \n",
              "LinearSVC|PCA StandardScalerMTSF|StandardScaler...  0.940667   \n",
              "LinearSVC|Raw MinMaxScaler|                         0.940667   \n",
              "LinearSVC|Raw StandardScalerMFST|                   0.940667   \n",
              "LinearSVC|Raw QuantileTransformer_u|                0.940667   \n",
              "LinearSVC|Raw PowerTransformer|                     0.816667   \n",
              "LinearSVC|PCA QuantileTransformer_n|                0.918000   \n",
              "LinearSVC|Raw StandardScalerMTSF|                   0.833333   \n",
              "LinearSVC|PCA QuantileTransformer_u|QuantileTra...  0.812000   \n",
              "LogisticRegression2|Raw StandardScalerMTSF|Stan...  0.940000   \n",
              "RandomForestClassifier|Raw Normalizer_l1|           0.970667   \n",
              "RandomForestClassifier|Raw Normalizer_l2|           0.970000   \n",
              "RandomForestClassifier|PCA QuantileTransformer_n|   0.971333   \n",
              "RandomForestClassifier|Raw QuantileTransformer_...  0.972000   \n",
              "RandomForestClassifier|PCA QuantileTransformer_...  0.970667   \n",
              "RandomForestClassifier|PCA QuantileTransformer_u|   0.970667   \n",
              "RandomForestClassifier|PCA MinMaxScaler|            0.972667   \n",
              "RandomForestClassifier|PCA StandardScalerMTST|      0.972667   \n",
              "RandomForestClassifier|Raw PowerTransformer_std|    0.974000   \n",
              "RandomForestClassifier|PCA PowerTransformer_std|    0.970667   \n",
              "RandomForestClassifier|Raw MinMaxScaler|            0.974667   \n",
              "\n",
              "                                                                    classifier  \\\n",
              "AdaBoostClassifier|Raw Normalizer_l2|                       AdaBoostClassifier   \n",
              "AdaBoostClassifier|PCA StandardScalerMTST|Stand...          AdaBoostClassifier   \n",
              "AdaBoostClassifier|PCA PowerTransformer_std|Pow...          AdaBoostClassifier   \n",
              "AdaBoostClassifier|PCA StandardScalerMFST|Stand...          AdaBoostClassifier   \n",
              "AdaBoostClassifier|Raw StandardScalerMTST|Stand...          AdaBoostClassifier   \n",
              "AdaBoostClassifier|Raw QuantileTransformer_u|               AdaBoostClassifier   \n",
              "AdaBoostClassifier|PCA StandardScalerMTST|Stand...          AdaBoostClassifier   \n",
              "AdaBoostClassifier|Raw StandardScalerMTST|Stand...          AdaBoostClassifier   \n",
              "AdaBoostClassifier|Raw StandardScalerMTSF|Stand...          AdaBoostClassifier   \n",
              "AdaBoostClassifier|PCA StandardScalerMTST|                  AdaBoostClassifier   \n",
              "AdaBoostClassifier|PCA StandardScalerMFST|                  AdaBoostClassifier   \n",
              "GradientBoostingClassifier|Raw QuantileTransfor...  GradientBoostingClassifier   \n",
              "GradientBoostingClassifier|Raw Normalizer_l1|       GradientBoostingClassifier   \n",
              "GradientBoostingClassifier|PCA QuantileTransfor...  GradientBoostingClassifier   \n",
              "GradientBoostingClassifier|Raw Normalizer_l2|       GradientBoostingClassifier   \n",
              "GradientBoostingClassifier|PCA QuantileTransfor...  GradientBoostingClassifier   \n",
              "GradientBoostingClassifier|PCA QuantileTransfor...  GradientBoostingClassifier   \n",
              "GradientBoostingClassifier|Raw MinMaxScaler|        GradientBoostingClassifier   \n",
              "GradientBoostingClassifier|PCA PowerTransformer...  GradientBoostingClassifier   \n",
              "GradientBoostingClassifier|PCA PowerTransformer...  GradientBoostingClassifier   \n",
              "GradientBoostingClassifier|PCA MinMaxScaler|        GradientBoostingClassifier   \n",
              "GradientBoostingClassifier|PCA StandardScalerMTST|  GradientBoostingClassifier   \n",
              "LinearSVC|PCA StandardScalerMTSF|StandardScaler...                   LinearSVC   \n",
              "LinearSVC|Raw MinMaxScaler|                                          LinearSVC   \n",
              "LinearSVC|Raw StandardScalerMFST|                                    LinearSVC   \n",
              "LinearSVC|Raw QuantileTransformer_u|                                 LinearSVC   \n",
              "LinearSVC|Raw PowerTransformer|                                      LinearSVC   \n",
              "LinearSVC|PCA QuantileTransformer_n|                                 LinearSVC   \n",
              "LinearSVC|Raw StandardScalerMTSF|                                    LinearSVC   \n",
              "LinearSVC|PCA QuantileTransformer_u|QuantileTra...                   LinearSVC   \n",
              "LogisticRegression2|Raw StandardScalerMTSF|Stan...         LogisticRegression2   \n",
              "RandomForestClassifier|Raw Normalizer_l1|               RandomForestClassifier   \n",
              "RandomForestClassifier|Raw Normalizer_l2|               RandomForestClassifier   \n",
              "RandomForestClassifier|PCA QuantileTransformer_n|       RandomForestClassifier   \n",
              "RandomForestClassifier|Raw QuantileTransformer_...      RandomForestClassifier   \n",
              "RandomForestClassifier|PCA QuantileTransformer_...      RandomForestClassifier   \n",
              "RandomForestClassifier|PCA QuantileTransformer_u|       RandomForestClassifier   \n",
              "RandomForestClassifier|PCA MinMaxScaler|                RandomForestClassifier   \n",
              "RandomForestClassifier|PCA StandardScalerMTST|          RandomForestClassifier   \n",
              "RandomForestClassifier|Raw PowerTransformer_std|        RandomForestClassifier   \n",
              "RandomForestClassifier|PCA PowerTransformer_std|        RandomForestClassifier   \n",
              "RandomForestClassifier|Raw MinMaxScaler|                RandomForestClassifier   \n",
              "\n",
              "                                                         std  rank  \n",
              "AdaBoostClassifier|Raw Normalizer_l2|               0.000864     0  \n",
              "AdaBoostClassifier|PCA StandardScalerMTST|Stand...  0.000900     1  \n",
              "AdaBoostClassifier|PCA PowerTransformer_std|Pow...  0.001018     2  \n",
              "AdaBoostClassifier|PCA StandardScalerMFST|Stand...  0.001030     3  \n",
              "AdaBoostClassifier|Raw StandardScalerMTST|Stand...  0.001667     4  \n",
              "AdaBoostClassifier|Raw QuantileTransformer_u|       0.001685     5  \n",
              "AdaBoostClassifier|PCA StandardScalerMTST|Stand...  0.001848     6  \n",
              "AdaBoostClassifier|Raw StandardScalerMTST|Stand...  0.002003     7  \n",
              "AdaBoostClassifier|Raw StandardScalerMTSF|Stand...  0.002003     8  \n",
              "AdaBoostClassifier|PCA StandardScalerMTST|          0.002007     9  \n",
              "AdaBoostClassifier|PCA StandardScalerMFST|          0.002074    10  \n",
              "GradientBoostingClassifier|Raw QuantileTransfor...  0.003877     0  \n",
              "GradientBoostingClassifier|Raw Normalizer_l1|       0.003978     1  \n",
              "GradientBoostingClassifier|PCA QuantileTransfor...  0.004063     2  \n",
              "GradientBoostingClassifier|Raw Normalizer_l2|       0.004647     3  \n",
              "GradientBoostingClassifier|PCA QuantileTransfor...  0.004847     4  \n",
              "GradientBoostingClassifier|PCA QuantileTransfor...  0.005101     5  \n",
              "GradientBoostingClassifier|Raw MinMaxScaler|        0.005150     6  \n",
              "GradientBoostingClassifier|PCA PowerTransformer...  0.005475     7  \n",
              "GradientBoostingClassifier|PCA PowerTransformer...  0.005513     8  \n",
              "GradientBoostingClassifier|PCA MinMaxScaler|        0.005565     9  \n",
              "GradientBoostingClassifier|PCA StandardScalerMTST|  0.006685    10  \n",
              "LinearSVC|PCA StandardScalerMTSF|StandardScaler...  0.000687     0  \n",
              "LinearSVC|Raw MinMaxScaler|                         0.000687     1  \n",
              "LinearSVC|Raw StandardScalerMFST|                   0.001018     2  \n",
              "LinearSVC|Raw QuantileTransformer_u|                0.001442     3  \n",
              "LinearSVC|Raw PowerTransformer|                     0.002012     4  \n",
              "LinearSVC|PCA QuantileTransformer_n|                0.002306     5  \n",
              "LinearSVC|Raw StandardScalerMTSF|                   0.004721     6  \n",
              "LinearSVC|PCA QuantileTransformer_u|QuantileTra...  0.005622     7  \n",
              "LogisticRegression2|Raw StandardScalerMTSF|Stan...  0.000385     0  \n",
              "RandomForestClassifier|Raw Normalizer_l1|           0.024286     0  \n",
              "RandomForestClassifier|Raw Normalizer_l2|           0.024455     1  \n",
              "RandomForestClassifier|PCA QuantileTransformer_n|   0.024497     2  \n",
              "RandomForestClassifier|Raw QuantileTransformer_...  0.024565     3  \n",
              "RandomForestClassifier|PCA QuantileTransformer_...  0.024649     4  \n",
              "RandomForestClassifier|PCA QuantileTransformer_u|   0.025012     5  \n",
              "RandomForestClassifier|PCA MinMaxScaler|            0.025248     6  \n",
              "RandomForestClassifier|PCA StandardScalerMTST|      0.025494     7  \n",
              "RandomForestClassifier|Raw PowerTransformer_std|    0.025534     8  \n",
              "RandomForestClassifier|PCA PowerTransformer_std|    0.025538     9  \n",
              "RandomForestClassifier|Raw MinMaxScaler|            0.025615    10  "
            ]
          },
          "metadata": {
            "tags": []
          },
          "execution_count": 56
        }
      ]
    },
    {
      "metadata": {
        "id": "zWbxaVA_omh6",
        "colab_type": "code",
        "colab": {
          "base_uri": "https://localhost:8080/",
          "height": 154
        },
        "outputId": "f68a9e09-c256-4519-d215-dac3bd5bc20b"
      },
      "cell_type": "code",
      "source": [
        "y_train = ActivePension_df['IsPensionPaid']\n",
        "X_train = ActivePension_df[x_cols2]\n",
        "\n",
        "X_train = X_train.astype(float)\n",
        "\n",
        "clfs = dict()\n",
        "clfs_score = dict()\n",
        "\n",
        "scaling_def = {'QuantileTransformer_n':QuantileTransformer(output_distribution='normal')}\n",
        "redemensioning_def = {'PCA': PCA(n_components=0.99, svd_solver='full')}\n",
        "\n",
        "for data in map(lambda x:Redimensioning2(x[1],x[0],redemensioning_def), scaling3(X_train,scaling_def)):\n",
        "  for x in data:\n",
        "    MLModelBuilding('RandomForestClassifier', x[1], x[0], y_train, 0.3, clfs, [0.1, 1],clfs_score)\n"
      ],
      "execution_count": 62,
      "outputs": [
        {
          "output_type": "stream",
          "text": [
            "/usr/local/lib/python3.6/dist-packages/sklearn/ensemble/forest.py:246: FutureWarning: The default value of n_estimators will change from 10 in version 0.20 to 100 in 0.22.\n",
            "  \"10 in version 0.20 to 100 in 0.22.\", FutureWarning)\n"
          ],
          "name": "stderr"
        },
        {
          "output_type": "stream",
          "text": [
            "Train score: 0.9902523933855527\n",
            "Test score: 0.9549753408761241\n",
            "Test2 score: 0.9802727008993327\n",
            "RandomForestClassifier|PCA QuantileTransformer_n|\n",
            "\n"
          ],
          "name": "stdout"
        }
      ]
    },
    {
      "metadata": {
        "id": "lwXYnTR7-8Q9",
        "colab_type": "code",
        "colab": {
          "base_uri": "https://localhost:8080/",
          "height": 1208
        },
        "outputId": "0b9f40c5-65aa-4348-dc54-e776f4211468"
      },
      "cell_type": "code",
      "source": [
        "clfs = {}\n",
        "clfs_score = dict()\n",
        "\n",
        "scaling_def = {'QuantileTransformer_n':QuantileTransformer(output_distribution='normal')}\n",
        "redemensioning_def = {'PCA': PCA(n_components=0.99, svd_solver='full')}\n",
        "\n",
        "for i in range(0,10):\n",
        "  y_train = ActivePension_df.sample(n=10000, random_state=i)['IsPensionPaid'].as_matrix()\n",
        "  X_train = ActivePension_df[x_cols2].sample(n=10000, random_state=i)\n",
        "\n",
        "  X_train = X_train.astype(float)\n",
        "\n",
        "  for data in map(lambda x:Redimensioning2(x[1],x[0],redemensioning_def), scaling3(X_train,scaling_def)):\n",
        "    for x in data:\n",
        "      MLModelBuilding('RandomForestClassifier', x[1], x[0], y_train, 0.3, clfs, [0.1, 1],clfs_score)"
      ],
      "execution_count": 66,
      "outputs": [
        {
          "output_type": "stream",
          "text": [
            "/usr/local/lib/python3.6/dist-packages/sklearn/ensemble/forest.py:246: FutureWarning: The default value of n_estimators will change from 10 in version 0.20 to 100 in 0.22.\n",
            "  \"10 in version 0.20 to 100 in 0.22.\", FutureWarning)\n"
          ],
          "name": "stderr"
        },
        {
          "output_type": "stream",
          "text": [
            "Train score: 0.989\n",
            "Test score: 0.9466666666666667\n",
            "Test2 score: 0.9743333333333334\n",
            "RandomForestClassifier|PCA QuantileTransformer_n|\n",
            "\n"
          ],
          "name": "stdout"
        },
        {
          "output_type": "stream",
          "text": [
            "/usr/local/lib/python3.6/dist-packages/sklearn/ensemble/forest.py:246: FutureWarning: The default value of n_estimators will change from 10 in version 0.20 to 100 in 0.22.\n",
            "  \"10 in version 0.20 to 100 in 0.22.\", FutureWarning)\n"
          ],
          "name": "stderr"
        },
        {
          "output_type": "stream",
          "text": [
            "Train score: 0.9865714285714285\n",
            "Test score: 0.9426666666666667\n",
            "Test2 score: 0.974\n",
            "RandomForestClassifier|PCA QuantileTransformer_n|\n",
            "\n"
          ],
          "name": "stdout"
        },
        {
          "output_type": "stream",
          "text": [
            "/usr/local/lib/python3.6/dist-packages/sklearn/ensemble/forest.py:246: FutureWarning: The default value of n_estimators will change from 10 in version 0.20 to 100 in 0.22.\n",
            "  \"10 in version 0.20 to 100 in 0.22.\", FutureWarning)\n"
          ],
          "name": "stderr"
        },
        {
          "output_type": "stream",
          "text": [
            "Train score: 0.9897142857142858\n",
            "Test score: 0.9406666666666667\n",
            "Test2 score: 0.9686666666666667\n",
            "RandomForestClassifier|PCA QuantileTransformer_n|\n",
            "\n"
          ],
          "name": "stdout"
        },
        {
          "output_type": "stream",
          "text": [
            "/usr/local/lib/python3.6/dist-packages/sklearn/ensemble/forest.py:246: FutureWarning: The default value of n_estimators will change from 10 in version 0.20 to 100 in 0.22.\n",
            "  \"10 in version 0.20 to 100 in 0.22.\", FutureWarning)\n"
          ],
          "name": "stderr"
        },
        {
          "output_type": "stream",
          "text": [
            "Train score: 0.99\n",
            "Test score: 0.9403333333333334\n",
            "Test2 score: 0.9743333333333334\n",
            "RandomForestClassifier|PCA QuantileTransformer_n|\n",
            "\n"
          ],
          "name": "stdout"
        },
        {
          "output_type": "stream",
          "text": [
            "/usr/local/lib/python3.6/dist-packages/sklearn/ensemble/forest.py:246: FutureWarning: The default value of n_estimators will change from 10 in version 0.20 to 100 in 0.22.\n",
            "  \"10 in version 0.20 to 100 in 0.22.\", FutureWarning)\n"
          ],
          "name": "stderr"
        },
        {
          "output_type": "stream",
          "text": [
            "Train score: 0.9895714285714285\n",
            "Test score: 0.9413333333333334\n",
            "Test2 score: 0.9756666666666667\n",
            "RandomForestClassifier|PCA QuantileTransformer_n|\n",
            "\n"
          ],
          "name": "stdout"
        },
        {
          "output_type": "stream",
          "text": [
            "/usr/local/lib/python3.6/dist-packages/sklearn/ensemble/forest.py:246: FutureWarning: The default value of n_estimators will change from 10 in version 0.20 to 100 in 0.22.\n",
            "  \"10 in version 0.20 to 100 in 0.22.\", FutureWarning)\n"
          ],
          "name": "stderr"
        },
        {
          "output_type": "stream",
          "text": [
            "Train score: 0.9881428571428571\n",
            "Test score: 0.9446666666666667\n",
            "Test2 score: 0.9753333333333334\n",
            "RandomForestClassifier|PCA QuantileTransformer_n|\n",
            "\n"
          ],
          "name": "stdout"
        },
        {
          "output_type": "stream",
          "text": [
            "/usr/local/lib/python3.6/dist-packages/sklearn/ensemble/forest.py:246: FutureWarning: The default value of n_estimators will change from 10 in version 0.20 to 100 in 0.22.\n",
            "  \"10 in version 0.20 to 100 in 0.22.\", FutureWarning)\n"
          ],
          "name": "stderr"
        },
        {
          "output_type": "stream",
          "text": [
            "Train score: 0.9884285714285714\n",
            "Test score: 0.951\n",
            "Test2 score: 0.9756666666666667\n",
            "RandomForestClassifier|PCA QuantileTransformer_n|\n",
            "\n"
          ],
          "name": "stdout"
        },
        {
          "output_type": "stream",
          "text": [
            "/usr/local/lib/python3.6/dist-packages/sklearn/ensemble/forest.py:246: FutureWarning: The default value of n_estimators will change from 10 in version 0.20 to 100 in 0.22.\n",
            "  \"10 in version 0.20 to 100 in 0.22.\", FutureWarning)\n"
          ],
          "name": "stderr"
        },
        {
          "output_type": "stream",
          "text": [
            "Train score: 0.9882857142857143\n",
            "Test score: 0.9456666666666667\n",
            "Test2 score: 0.9746666666666667\n",
            "RandomForestClassifier|PCA QuantileTransformer_n|\n",
            "\n"
          ],
          "name": "stdout"
        },
        {
          "output_type": "stream",
          "text": [
            "/usr/local/lib/python3.6/dist-packages/sklearn/ensemble/forest.py:246: FutureWarning: The default value of n_estimators will change from 10 in version 0.20 to 100 in 0.22.\n",
            "  \"10 in version 0.20 to 100 in 0.22.\", FutureWarning)\n"
          ],
          "name": "stderr"
        },
        {
          "output_type": "stream",
          "text": [
            "Train score: 0.9882857142857143\n",
            "Test score: 0.9386666666666666\n",
            "Test2 score: 0.975\n",
            "RandomForestClassifier|PCA QuantileTransformer_n|\n",
            "\n"
          ],
          "name": "stdout"
        },
        {
          "output_type": "stream",
          "text": [
            "/usr/local/lib/python3.6/dist-packages/sklearn/ensemble/forest.py:246: FutureWarning: The default value of n_estimators will change from 10 in version 0.20 to 100 in 0.22.\n",
            "  \"10 in version 0.20 to 100 in 0.22.\", FutureWarning)\n"
          ],
          "name": "stderr"
        },
        {
          "output_type": "stream",
          "text": [
            "Train score: 0.9895714285714285\n",
            "Test score: 0.942\n",
            "Test2 score: 0.9773333333333334\n",
            "RandomForestClassifier|PCA QuantileTransformer_n|\n",
            "\n"
          ],
          "name": "stdout"
        }
      ]
    },
    {
      "metadata": {
        "id": "VT5eAjfk1sBB",
        "colab_type": "code",
        "colab": {
          "base_uri": "https://localhost:8080/",
          "height": 517
        },
        "outputId": "09cfe013-1cd1-451d-a953-c2668fb07e37"
      },
      "cell_type": "code",
      "source": [
        "clfs = dict()\n",
        "clfs_score = dict()\n",
        "\n",
        "y_train = ActivePension_df.sample(n=10000, random_state=0)['IsPensionPaid'].as_matrix()\n",
        "X_train = ActivePension_df[x_cols2].sample(n=10000, random_state=0)\n",
        "\n",
        "X_train = X_train.astype(float)\n",
        "\n",
        "X_train, X_test, y_train, y_test = train_test_split(X_train, y_train, test_size=0.8)\n",
        "\n",
        "scaling_def = {'QuantileTransformer_n':QuantileTransformer(output_distribution='normal')}\n",
        "redemensioning_def = {'PCA': PCA(n_components=2)}\n",
        "\n",
        "for data in map(lambda x:Redimensioning2(x[1],x[0],redemensioning_def), scaling3(X_train,scaling_def)):\n",
        "  for x in data:\n",
        "    MLModelBuilding('RandomForestClassifier', x[1], x[0], y_train, 0.3, clfs, [0.1, 1],clfs_score)\n",
        "\n",
        "for data in map(lambda x:Redimensioning2(x[1],x[0],redemensioning_def), scaling3(X_test,scaling_def)):\n",
        "  for x in data:\n",
        "    #if x[1] == 'KPCA PowerTransformer|MinMaxScaler|QuantileTransformer|':\n",
        "    plot_decision_regions(x[0], y_test, clfs['RandomForestClassifier|PCA QuantileTransformer_n|'])\n",
        "    #print(x[1])\n",
        "plt.show()"
      ],
      "execution_count": 65,
      "outputs": [
        {
          "output_type": "stream",
          "text": [
            "/usr/local/lib/python3.6/dist-packages/sklearn/ensemble/forest.py:246: FutureWarning: The default value of n_estimators will change from 10 in version 0.20 to 100 in 0.22.\n",
            "  \"10 in version 0.20 to 100 in 0.22.\", FutureWarning)\n"
          ],
          "name": "stderr"
        },
        {
          "output_type": "stream",
          "text": [
            "Train score: 0.985\n",
            "Test score: 0.945\n",
            "Test2 score: 0.9833333333333333\n",
            "RandomForestClassifier|PCA QuantileTransformer_n|\n",
            "\n"
          ],
          "name": "stdout"
        },
        {
          "output_type": "stream",
          "text": [
            "WARNING:matplotlib.axes._axes:'c' argument looks like a single numeric RGB or RGBA sequence, which should be avoided as value-mapping will have precedence in case its length matches with 'x' & 'y'.  Please use a 2-D array with a single row if you really want to specify the same RGB or RGBA value for all points.\n",
            "WARNING:matplotlib.axes._axes:'c' argument looks like a single numeric RGB or RGBA sequence, which should be avoided as value-mapping will have precedence in case its length matches with 'x' & 'y'.  Please use a 2-D array with a single row if you really want to specify the same RGB or RGBA value for all points.\n"
          ],
          "name": "stderr"
        },
        {
          "output_type": "display_data",
          "data": {
            "image/png": "[encoded data removed]",
            "text/plain": [
              "<Figure size 576x396 with 1 Axes>"
            ]
          },
          "metadata": {
            "tags": []
          }
        }
      ]
    }
  ]
}