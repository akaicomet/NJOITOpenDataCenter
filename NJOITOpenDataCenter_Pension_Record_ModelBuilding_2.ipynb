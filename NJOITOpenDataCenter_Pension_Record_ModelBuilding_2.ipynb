{
  "nbformat": 4,
  "nbformat_minor": 0,
  "metadata": {
    "colab": {
      "name": "NJOITOpenDataCenter-Pension-Record-ModelBuilding-2.ipynb",
      "version": "0.3.2",
      "provenance": [],
      "include_colab_link": true
    },
    "kernelspec": {
      "name": "python3",
      "display_name": "Python 3"
    },
    "accelerator": "TPU"
  },
  "cells": [
    {
      "cell_type": "markdown",
      "metadata": {
        "id": "view-in-github",
        "colab_type": "text"
      },
      "source": [
        "<a href=\"https://colab.research.google.com/github/akaicomet/NJOITOpenDataCenter-Pension-Record/blob/master/NJOITOpenDataCenter_Pension_Record_ModelBuilding_2.ipynb\" target=\"_parent\"><img src=\"https://colab.research.google.com/assets/colab-badge.svg\" alt=\"Open In Colab\"/></a>"
      ]
    },
    {
      "metadata": {
        "id": "xpYZu3ckkCEn",
        "colab_type": "code",
        "outputId": "43ac86cb-042f-4600-d789-10287df07871",
        "colab": {
          "base_uri": "https://localhost:8080/",
          "height": 1493
        }
      },
      "cell_type": "code",
      "source": [
        "!pip install pandas\n",
        "!pip install tqdm\n",
        "!pip install scikit-learn\n",
        "!pip install sodapy\n",
        "!pip install matplotlib\n",
        "!pip install hyperopt\n",
        "!pip install bayesian-optimization\n",
        "!pip install tbvaccine \n",
        "!pip install MulticoreTSNE\n",
        "!pip install -U -q PyDrive"
      ],
      "execution_count": 1,
      "outputs": [
        {
          "output_type": "stream",
          "text": [
            "Requirement already satisfied: pandas in /usr/local/lib/python3.6/dist-packages (0.22.0)\n",
            "Requirement already satisfied: numpy>=1.9.0 in /usr/local/lib/python3.6/dist-packages (from pandas) (1.14.6)\n",
            "Requirement already satisfied: pytz>=2011k in /usr/local/lib/python3.6/dist-packages (from pandas) (2018.9)\n",
            "Requirement already satisfied: python-dateutil>=2 in /usr/local/lib/python3.6/dist-packages (from pandas) (2.5.3)\n",
            "Requirement already satisfied: six>=1.5 in /usr/local/lib/python3.6/dist-packages (from python-dateutil>=2->pandas) (1.11.0)\n",
            "Requirement already satisfied: tqdm in /usr/local/lib/python3.6/dist-packages (4.28.1)\n",
            "Requirement already satisfied: scikit-learn in /usr/local/lib/python3.6/dist-packages (0.20.2)\n",
            "Requirement already satisfied: numpy>=1.8.2 in /usr/local/lib/python3.6/dist-packages (from scikit-learn) (1.14.6)\n",
            "Requirement already satisfied: scipy>=0.13.3 in /usr/local/lib/python3.6/dist-packages (from scikit-learn) (1.1.0)\n",
            "Collecting sodapy\n",
            "  Downloading https://files.pythonhosted.org/packages/25/63/1915146aa7c453289cdfe181df30d4009ef3518a87b5c873269582c20c7b/sodapy-1.5.0-py2.py3-none-any.whl\n",
            "Collecting requests>=2.20.0 (from sodapy)\n",
            "\u001b[?25l  Downloading https://files.pythonhosted.org/packages/7d/e3/20f3d364d6c8e5d2353c72a67778eb189176f08e873c9900e10c0287b84b/requests-2.21.0-py2.py3-none-any.whl (57kB)\n",
            "\u001b[K    100% |████████████████████████████████| 61kB 5.4MB/s \n",
            "\u001b[?25hCollecting future>=0.17.1 (from sodapy)\n",
            "\u001b[?25l  Downloading https://files.pythonhosted.org/packages/90/52/e20466b85000a181e1e144fd8305caf2cf475e2f9674e797b222f8105f5f/future-0.17.1.tar.gz (829kB)\n",
            "\u001b[K    100% |████████████████████████████████| 829kB 13.1MB/s \n",
            "\u001b[?25hRequirement already satisfied: idna<2.9,>=2.5 in /usr/local/lib/python3.6/dist-packages (from requests>=2.20.0->sodapy) (2.6)\n",
            "Requirement already satisfied: certifi>=2017.4.17 in /usr/local/lib/python3.6/dist-packages (from requests>=2.20.0->sodapy) (2018.11.29)\n",
            "Requirement already satisfied: chardet<3.1.0,>=3.0.2 in /usr/local/lib/python3.6/dist-packages (from requests>=2.20.0->sodapy) (3.0.4)\n",
            "Requirement already satisfied: urllib3<1.25,>=1.21.1 in /usr/local/lib/python3.6/dist-packages (from requests>=2.20.0->sodapy) (1.22)\n",
            "Building wheels for collected packages: future\n",
            "  Building wheel for future (setup.py) ... \u001b[?25ldone\n",
            "\u001b[?25h  Stored in directory: /root/.cache/pip/wheels/0c/61/d2/d6b7317325828fbb39ee6ad559dbe4664d0896da4721bf379e\n",
            "Successfully built future\n",
            "\u001b[31mspacy 2.0.18 has requirement numpy>=1.15.0, but you'll have numpy 1.14.6 which is incompatible.\u001b[0m\n",
            "\u001b[31mgoogle-colab 0.0.1a1 has requirement requests~=2.18.0, but you'll have requests 2.21.0 which is incompatible.\u001b[0m\n",
            "\u001b[31mfeaturetools 0.4.1 has requirement pandas>=0.23.0, but you'll have pandas 0.22.0 which is incompatible.\u001b[0m\n",
            "\u001b[31mcufflinks 0.14.6 has requirement plotly>=3.0.0, but you'll have plotly 1.12.12 which is incompatible.\u001b[0m\n",
            "Installing collected packages: requests, future, sodapy\n",
            "  Found existing installation: requests 2.18.4\n",
            "    Uninstalling requests-2.18.4:\n",
            "      Successfully uninstalled requests-2.18.4\n",
            "  Found existing installation: future 0.16.0\n",
            "    Uninstalling future-0.16.0:\n",
            "      Successfully uninstalled future-0.16.0\n",
            "Successfully installed future-0.17.1 requests-2.21.0 sodapy-1.5.0\n"
          ],
          "name": "stdout"
        },
        {
          "output_type": "display_data",
          "data": {
            "application/vnd.colab-display-data+json": {
              "pip_warning": {
                "packages": [
                  "requests"
                ]
              }
            }
          },
          "metadata": {
            "tags": []
          }
        },
        {
          "output_type": "stream",
          "text": [
            "Requirement already satisfied: matplotlib in /usr/local/lib/python3.6/dist-packages (3.0.2)\n",
            "Requirement already satisfied: python-dateutil>=2.1 in /usr/local/lib/python3.6/dist-packages (from matplotlib) (2.5.3)\n",
            "Requirement already satisfied: kiwisolver>=1.0.1 in /usr/local/lib/python3.6/dist-packages (from matplotlib) (1.0.1)\n",
            "Requirement already satisfied: numpy>=1.10.0 in /usr/local/lib/python3.6/dist-packages (from matplotlib) (1.14.6)\n",
            "Requirement already satisfied: cycler>=0.10 in /usr/local/lib/python3.6/dist-packages (from matplotlib) (0.10.0)\n",
            "Requirement already satisfied: pyparsing!=2.0.4,!=2.1.2,!=2.1.6,>=2.0.1 in /usr/local/lib/python3.6/dist-packages (from matplotlib) (2.3.1)\n",
            "Requirement already satisfied: six>=1.5 in /usr/local/lib/python3.6/dist-packages (from python-dateutil>=2.1->matplotlib) (1.11.0)\n",
            "Requirement already satisfied: setuptools in /usr/local/lib/python3.6/dist-packages (from kiwisolver>=1.0.1->matplotlib) (40.7.1)\n",
            "Requirement already satisfied: hyperopt in /usr/local/lib/python3.6/dist-packages (0.1.1)\n",
            "Requirement already satisfied: future in /usr/local/lib/python3.6/dist-packages (from hyperopt) (0.17.1)\n",
            "Requirement already satisfied: six in /usr/local/lib/python3.6/dist-packages (from hyperopt) (1.11.0)\n",
            "Requirement already satisfied: pymongo in /usr/local/lib/python3.6/dist-packages (from hyperopt) (3.7.2)\n",
            "Requirement already satisfied: networkx in /usr/local/lib/python3.6/dist-packages (from hyperopt) (2.2)\n",
            "Requirement already satisfied: numpy in /usr/local/lib/python3.6/dist-packages (from hyperopt) (1.14.6)\n",
            "Requirement already satisfied: scipy in /usr/local/lib/python3.6/dist-packages (from hyperopt) (1.1.0)\n",
            "Requirement already satisfied: decorator>=4.3.0 in /usr/local/lib/python3.6/dist-packages (from networkx->hyperopt) (4.3.2)\n",
            "Collecting bayesian-optimization\n",
            "  Downloading https://files.pythonhosted.org/packages/ad/fd/a53b65d5cff76d1f2783ac8172eb0adb670ec86f4955e7f8f3ef21d71e3a/bayesian-optimization-1.0.0.tar.gz\n",
            "Requirement already satisfied: numpy>=1.9.0 in /usr/local/lib/python3.6/dist-packages (from bayesian-optimization) (1.14.6)\n",
            "Requirement already satisfied: scipy>=0.14.0 in /usr/local/lib/python3.6/dist-packages (from bayesian-optimization) (1.1.0)\n",
            "Requirement already satisfied: scikit-learn>=0.18.0 in /usr/local/lib/python3.6/dist-packages (from bayesian-optimization) (0.20.2)\n",
            "Building wheels for collected packages: bayesian-optimization\n",
            "  Building wheel for bayesian-optimization (setup.py) ... \u001b[?25ldone\n",
            "\u001b[?25h  Stored in directory: /root/.cache/pip/wheels/4b/60/a2/6eec4adc73341c1a2a653022b99ff8e1cb090684dba83be683\n",
            "Successfully built bayesian-optimization\n",
            "Installing collected packages: bayesian-optimization\n",
            "Successfully installed bayesian-optimization-1.0.0\n",
            "Collecting tbvaccine\n",
            "  Downloading https://files.pythonhosted.org/packages/b1/fb/84c930393fb23cf5fef93629df6370c51639306f0f403b9628f1d44b3b26/tbvaccine-0.3.1-py2.py3-none-any.whl\n",
            "Requirement already satisfied: pygments in /usr/local/lib/python3.6/dist-packages (from tbvaccine) (2.1.3)\n",
            "Installing collected packages: tbvaccine\n",
            "Successfully installed tbvaccine-0.3.1\n",
            "Collecting MulticoreTSNE\n",
            "  Downloading https://files.pythonhosted.org/packages/2d/e8/2afa896fa4eebfa1d0d0ba2673fddac45582ec0f06b2bdda88108ced5425/MulticoreTSNE-0.1.tar.gz\n",
            "Requirement already satisfied: numpy in /usr/local/lib/python3.6/dist-packages (from MulticoreTSNE) (1.14.6)\n",
            "Requirement already satisfied: cffi in /usr/local/lib/python3.6/dist-packages (from MulticoreTSNE) (1.11.5)\n",
            "Requirement already satisfied: pycparser in /usr/local/lib/python3.6/dist-packages (from cffi->MulticoreTSNE) (2.19)\n",
            "Building wheels for collected packages: MulticoreTSNE\n",
            "  Building wheel for MulticoreTSNE (setup.py) ... \u001b[?25ldone\n",
            "\u001b[?25h  Stored in directory: /root/.cache/pip/wheels/27/59/53/3b52ee63add3692254c30d687fa4dff4d128d0557861fb028e\n",
            "Successfully built MulticoreTSNE\n",
            "Installing collected packages: MulticoreTSNE\n",
            "Successfully installed MulticoreTSNE-0.1\n",
            "\u001b[K    100% |████████████████████████████████| 993kB 21.0MB/s \n",
            "\u001b[?25h  Building wheel for PyDrive (setup.py) ... \u001b[?25ldone\n",
            "\u001b[?25h"
          ],
          "name": "stdout"
        }
      ]
    },
    {
      "metadata": {
        "id": "JPRrqTJr11-4",
        "colab_type": "text"
      },
      "cell_type": "markdown",
      "source": [
        "#1. Copy python files from  GItHub repository to local"
      ]
    },
    {
      "metadata": {
        "id": "4yirMDyHy6HF",
        "colab_type": "code",
        "outputId": "80213fa3-1f8c-4d0c-eb22-22062e515a5b",
        "colab": {
          "base_uri": "https://localhost:8080/",
          "height": 452
        }
      },
      "cell_type": "code",
      "source": [
        "!git clone https://github.com/akaicomet/NJOITOpenDataCenter.git\n",
        "!git clone https://github.com/akaicomet/akaicomet_Utility.git\n",
        "!git clone https://github.com/akaicomet/akaicomet_Chart.git\n",
        "!git clone https://github.com/akaicomet/akaicomet_ML.git"
      ],
      "execution_count": 2,
      "outputs": [
        {
          "output_type": "stream",
          "text": [
            "Cloning into 'NJOITOpenDataCenter'...\n",
            "remote: Enumerating objects: 108, done.\u001b[K\n",
            "remote: Counting objects: 100% (108/108), done.\u001b[K\n",
            "remote: Compressing objects: 100% (108/108), done.\u001b[K\n",
            "remote: Total 108 (delta 62), reused 0 (delta 0), pack-reused 0\u001b[K\n",
            "Receiving objects: 100% (108/108), 11.01 MiB | 7.91 MiB/s, done.\n",
            "Resolving deltas: 100% (62/62), done.\n",
            "Cloning into 'akaicomet_Utility'...\n",
            "remote: Enumerating objects: 12, done.\u001b[K\n",
            "remote: Counting objects: 100% (12/12), done.\u001b[K\n",
            "remote: Compressing objects: 100% (8/8), done.\u001b[K\n",
            "remote: Total 12 (delta 3), reused 0 (delta 0), pack-reused 0\u001b[K\n",
            "Unpacking objects: 100% (12/12), done.\n",
            "Cloning into 'akaicomet_Chart'...\n",
            "remote: Enumerating objects: 73, done.\u001b[K\n",
            "remote: Counting objects: 100% (73/73), done.\u001b[K\n",
            "remote: Compressing objects: 100% (61/61), done.\u001b[K\n",
            "remote: Total 73 (delta 21), reused 0 (delta 0), pack-reused 0\u001b[K\n",
            "Unpacking objects: 100% (73/73), done.\n",
            "Cloning into 'akaicomet_ML'...\n",
            "remote: Enumerating objects: 23, done.\u001b[K\n",
            "remote: Counting objects: 100% (23/23), done.\u001b[K\n",
            "remote: Compressing objects: 100% (23/23), done.\u001b[K\n",
            "remote: Total 174 (delta 12), reused 0 (delta 0), pack-reused 151\u001b[K\n",
            "Receiving objects: 100% (174/174), 54.56 KiB | 3.64 MiB/s, done.\n",
            "Resolving deltas: 100% (72/72), done.\n"
          ],
          "name": "stdout"
        }
      ]
    },
    {
      "metadata": {
        "id": "R80YSeU836YS",
        "colab_type": "text"
      },
      "cell_type": "markdown",
      "source": [
        "#2. Run .py files in local"
      ]
    },
    {
      "metadata": {
        "id": "dl8bTQ7Ms7hJ",
        "colab_type": "code",
        "colab": {}
      },
      "cell_type": "code",
      "source": [
        "%run -i /content/akaicomet_Utility/ErrorHandling.py\n",
        "\n",
        "%run -i /content/NJOITOpenDataCenter/YourMoneyActivePensionMembers.py \n",
        "%run -i /content/NJOITOpenDataCenter/YourMoneyRetiredPensionMembers.py\n",
        "%run -i /content/NJOITOpenDataCenter/YourMoneyPensionMembersMerge.py\n",
        "\n",
        "%run -i /content/akaicomet_Chart/X-Ray_Scan.py\n",
        "%run -i /content/akaicomet_Chart/akaicomet_Chart.py\n",
        "\n",
        "%run -i /content/akaicomet_ML/ML_Init.py\n",
        "%run -i /content/akaicomet_ML/ML_Auto.py\n",
        "%run -i /content/akaicomet_ML/AutoFeatureEngineering.py\n"
      ],
      "execution_count": 0,
      "outputs": []
    },
    {
      "metadata": {
        "id": "ML9MALdY4Z74",
        "colab_type": "text"
      },
      "cell_type": "markdown",
      "source": [
        "#3. Import libraries"
      ]
    },
    {
      "metadata": {
        "id": "yAmvqv05tHPz",
        "colab_type": "code",
        "colab": {}
      },
      "cell_type": "code",
      "source": [
        "import pandas as pd\n",
        "import numpy as np\n",
        "#import matplotlib.pyplot as plt\n",
        "import random\n",
        "from sodapy import Socrata\n",
        "#from pandas.plotting import scatter_matrix\n",
        "#from datetime import datetime\n",
        "import seaborn as sb\n",
        "from tqdm import tqdm\n",
        "import warnings\n",
        "from textwrap import wrap"
      ],
      "execution_count": 0,
      "outputs": []
    },
    {
      "metadata": {
        "id": "905gCAXlsnlH",
        "colab_type": "code",
        "colab": {}
      },
      "cell_type": "code",
      "source": [
        "from sklearn.externals import joblib\n",
        "from pydrive.auth import GoogleAuth\n",
        "from pydrive.drive import GoogleDrive\n",
        "from google.colab import auth\n",
        "from oauth2client.client import GoogleCredentials\n",
        "\n",
        "auth.authenticate_user()\n",
        "gauth = GoogleAuth()\n",
        "gauth.credentials = GoogleCredentials.get_application_default()\n",
        "drive = GoogleDrive(gauth)\n"
      ],
      "execution_count": 0,
      "outputs": []
    },
    {
      "metadata": {
        "id": "bshpCLEA8PcF",
        "colab_type": "text"
      },
      "cell_type": "markdown",
      "source": [
        "#4. YourMoney and the NJOIT Open Data Center \n",
        "##4.1 YourMoney Active Pension Members API\n",
        "\n",
        "**Pension member data load from NJOIT** "
      ]
    },
    {
      "metadata": {
        "id": "jEJfm4bqtKfJ",
        "colab_type": "code",
        "outputId": "06f03d7d-88fe-4d3f-bbee-90ee62f49522",
        "colab": {
          "base_uri": "https://localhost:8080/",
          "height": 33
        }
      },
      "cell_type": "code",
      "source": [
        "client = Socrata(\"data.nj.gov\", None)\n",
        "results = client.get(\"45bd-gwii\", limit=100000000)#100000000"
      ],
      "execution_count": 6,
      "outputs": [
        {
          "output_type": "stream",
          "text": [
            "WARNING:root:Requests made without an app_token will be subject to strict throttling limits.\n"
          ],
          "name": "stderr"
        }
      ]
    },
    {
      "metadata": {
        "id": "plM06Z5vBlAh",
        "colab_type": "text"
      },
      "cell_type": "markdown",
      "source": [
        "**Data Cleansing and Preparation for YourMoney Active Pension Members data**"
      ]
    },
    {
      "metadata": {
        "id": "_X0n-m4XtWdT",
        "colab_type": "code",
        "colab": {}
      },
      "cell_type": "code",
      "source": [
        "ActivePension_df = ActivePensionDataWrangler(results)"
      ],
      "execution_count": 0,
      "outputs": []
    },
    {
      "metadata": {
        "id": "AvLEEgGb9pbg",
        "colab_type": "text"
      },
      "cell_type": "markdown",
      "source": [
        "##4.2 YourMoney Retired Pension Members API\n",
        "**Pension payment member data load from NJOIT**"
      ]
    },
    {
      "metadata": {
        "id": "Pmixfdlx3a5H",
        "colab_type": "code",
        "colab": {}
      },
      "cell_type": "code",
      "source": [
        "results = client.get(\"8up4-62p6\",   limit=100000000)"
      ],
      "execution_count": 0,
      "outputs": []
    },
    {
      "metadata": {
        "id": "ysBme-6pAl4G",
        "colab_type": "text"
      },
      "cell_type": "markdown",
      "source": [
        "**Data Cleansing and Preparation for YourMoney Retired Pension data**"
      ]
    },
    {
      "metadata": {
        "id": "VMnmExggP835",
        "colab_type": "code",
        "colab": {}
      },
      "cell_type": "code",
      "source": [
        "RetiredPension_df_grped = RetiredPensionMembersDataWrangler(results)"
      ],
      "execution_count": 0,
      "outputs": []
    },
    {
      "metadata": {
        "id": "2RMSdT2fCMvo",
        "colab_type": "text"
      },
      "cell_type": "markdown",
      "source": [
        "**Merge YourMoney Active Pension Members data and YourMoney Retired Pension data**"
      ]
    },
    {
      "metadata": {
        "id": "gDDk7d-CV8jm",
        "colab_type": "code",
        "colab": {}
      },
      "cell_type": "code",
      "source": [
        "ActivePension_df = PensionMembersMerge(ActivePension_df,RetiredPension_df_grped)\n",
        "del results"
      ],
      "execution_count": 0,
      "outputs": []
    },
    {
      "metadata": {
        "id": "QKY-9NBXlCSQ",
        "colab_type": "text"
      },
      "cell_type": "markdown",
      "source": [
        "## 5 Recheck  Correlation Variable Validation:"
      ]
    },
    {
      "metadata": {
        "id": "iK84o24evCgM",
        "colab_type": "code",
        "outputId": "ae49a28f-2e68-4800-e446-480877780208",
        "colab": {
          "base_uri": "https://localhost:8080/",
          "height": 336
        }
      },
      "cell_type": "code",
      "source": [
        "#x_cols2 = ['_20_year_status',\t'all_employers_salary_amt',\t\t'employer_freq_pensioned', 'total_months_qty',\t'location_freq_pensioned',\t\t'current_employer_salary_rollingamt', \t'service_months_qty',\t'pension_freq_pensioned', 'pension_fund_name_enc', 'pension_group_name_enc' ]\n",
        "x_cols2 = ['_20_year_status','all_employers_salary_amt','employer_freq_pensioned','total_months_qty','location_freq_pensioned','service_months_qty','pension_freq_pensioned','pension_fund_name_enc','pension_group_name_enc' ]\n",
        "ActivePension_df[x_cols2].corr()"
      ],
      "execution_count": 11,
      "outputs": [
        {
          "output_type": "execute_result",
          "data": {
            "text/html": [
              "<div>\n",
              "<style scoped>\n",
              "    .dataframe tbody tr th:only-of-type {\n",
              "        vertical-align: middle;\n",
              "    }\n",
              "\n",
              "    .dataframe tbody tr th {\n",
              "        vertical-align: top;\n",
              "    }\n",
              "\n",
              "    .dataframe thead th {\n",
              "        text-align: right;\n",
              "    }\n",
              "</style>\n",
              "<table border=\"1\" class=\"dataframe\">\n",
              "  <thead>\n",
              "    <tr style=\"text-align: right;\">\n",
              "      <th></th>\n",
              "      <th>_20_year_status</th>\n",
              "      <th>all_employers_salary_amt</th>\n",
              "      <th>employer_freq_pensioned</th>\n",
              "      <th>total_months_qty</th>\n",
              "      <th>location_freq_pensioned</th>\n",
              "      <th>service_months_qty</th>\n",
              "      <th>pension_freq_pensioned</th>\n",
              "      <th>pension_fund_name_enc</th>\n",
              "      <th>pension_group_name_enc</th>\n",
              "    </tr>\n",
              "  </thead>\n",
              "  <tbody>\n",
              "    <tr>\n",
              "      <th>_20_year_status</th>\n",
              "      <td>1.000000</td>\n",
              "      <td>0.295118</td>\n",
              "      <td>-0.074679</td>\n",
              "      <td>0.844411</td>\n",
              "      <td>0.082618</td>\n",
              "      <td>-0.002429</td>\n",
              "      <td>0.091064</td>\n",
              "      <td>-0.238068</td>\n",
              "      <td>-0.113550</td>\n",
              "    </tr>\n",
              "    <tr>\n",
              "      <th>all_employers_salary_amt</th>\n",
              "      <td>0.295118</td>\n",
              "      <td>1.000000</td>\n",
              "      <td>-0.066198</td>\n",
              "      <td>0.395345</td>\n",
              "      <td>-0.030279</td>\n",
              "      <td>-0.027708</td>\n",
              "      <td>-0.439474</td>\n",
              "      <td>0.207998</td>\n",
              "      <td>0.097105</td>\n",
              "    </tr>\n",
              "    <tr>\n",
              "      <th>employer_freq_pensioned</th>\n",
              "      <td>-0.074679</td>\n",
              "      <td>-0.066198</td>\n",
              "      <td>1.000000</td>\n",
              "      <td>-0.065524</td>\n",
              "      <td>0.187599</td>\n",
              "      <td>0.026186</td>\n",
              "      <td>0.040389</td>\n",
              "      <td>0.099662</td>\n",
              "      <td>-0.033238</td>\n",
              "    </tr>\n",
              "    <tr>\n",
              "      <th>total_months_qty</th>\n",
              "      <td>0.844411</td>\n",
              "      <td>0.395345</td>\n",
              "      <td>-0.065524</td>\n",
              "      <td>1.000000</td>\n",
              "      <td>0.067168</td>\n",
              "      <td>0.000102</td>\n",
              "      <td>0.047303</td>\n",
              "      <td>-0.187378</td>\n",
              "      <td>-0.121364</td>\n",
              "    </tr>\n",
              "    <tr>\n",
              "      <th>location_freq_pensioned</th>\n",
              "      <td>0.082618</td>\n",
              "      <td>-0.030279</td>\n",
              "      <td>0.187599</td>\n",
              "      <td>0.067168</td>\n",
              "      <td>1.000000</td>\n",
              "      <td>0.056022</td>\n",
              "      <td>0.308507</td>\n",
              "      <td>0.047458</td>\n",
              "      <td>-0.063150</td>\n",
              "    </tr>\n",
              "    <tr>\n",
              "      <th>service_months_qty</th>\n",
              "      <td>-0.002429</td>\n",
              "      <td>-0.027708</td>\n",
              "      <td>0.026186</td>\n",
              "      <td>0.000102</td>\n",
              "      <td>0.056022</td>\n",
              "      <td>1.000000</td>\n",
              "      <td>0.079330</td>\n",
              "      <td>0.052583</td>\n",
              "      <td>-0.034342</td>\n",
              "    </tr>\n",
              "    <tr>\n",
              "      <th>pension_freq_pensioned</th>\n",
              "      <td>0.091064</td>\n",
              "      <td>-0.439474</td>\n",
              "      <td>0.040389</td>\n",
              "      <td>0.047303</td>\n",
              "      <td>0.308507</td>\n",
              "      <td>0.079330</td>\n",
              "      <td>1.000000</td>\n",
              "      <td>-0.306339</td>\n",
              "      <td>-0.308736</td>\n",
              "    </tr>\n",
              "    <tr>\n",
              "      <th>pension_fund_name_enc</th>\n",
              "      <td>-0.238068</td>\n",
              "      <td>0.207998</td>\n",
              "      <td>0.099662</td>\n",
              "      <td>-0.187378</td>\n",
              "      <td>0.047458</td>\n",
              "      <td>0.052583</td>\n",
              "      <td>-0.306339</td>\n",
              "      <td>1.000000</td>\n",
              "      <td>0.185796</td>\n",
              "    </tr>\n",
              "    <tr>\n",
              "      <th>pension_group_name_enc</th>\n",
              "      <td>-0.113550</td>\n",
              "      <td>0.097105</td>\n",
              "      <td>-0.033238</td>\n",
              "      <td>-0.121364</td>\n",
              "      <td>-0.063150</td>\n",
              "      <td>-0.034342</td>\n",
              "      <td>-0.308736</td>\n",
              "      <td>0.185796</td>\n",
              "      <td>1.000000</td>\n",
              "    </tr>\n",
              "  </tbody>\n",
              "</table>\n",
              "</div>"
            ],
            "text/plain": [
              "                          _20_year_status  all_employers_salary_amt  \\\n",
              "_20_year_status                  1.000000                  0.295118   \n",
              "all_employers_salary_amt         0.295118                  1.000000   \n",
              "employer_freq_pensioned         -0.074679                 -0.066198   \n",
              "total_months_qty                 0.844411                  0.395345   \n",
              "location_freq_pensioned          0.082618                 -0.030279   \n",
              "service_months_qty              -0.002429                 -0.027708   \n",
              "pension_freq_pensioned           0.091064                 -0.439474   \n",
              "pension_fund_name_enc           -0.238068                  0.207998   \n",
              "pension_group_name_enc          -0.113550                  0.097105   \n",
              "\n",
              "                          employer_freq_pensioned  total_months_qty  \\\n",
              "_20_year_status                         -0.074679          0.844411   \n",
              "all_employers_salary_amt                -0.066198          0.395345   \n",
              "employer_freq_pensioned                  1.000000         -0.065524   \n",
              "total_months_qty                        -0.065524          1.000000   \n",
              "location_freq_pensioned                  0.187599          0.067168   \n",
              "service_months_qty                       0.026186          0.000102   \n",
              "pension_freq_pensioned                   0.040389          0.047303   \n",
              "pension_fund_name_enc                    0.099662         -0.187378   \n",
              "pension_group_name_enc                  -0.033238         -0.121364   \n",
              "\n",
              "                          location_freq_pensioned  service_months_qty  \\\n",
              "_20_year_status                          0.082618           -0.002429   \n",
              "all_employers_salary_amt                -0.030279           -0.027708   \n",
              "employer_freq_pensioned                  0.187599            0.026186   \n",
              "total_months_qty                         0.067168            0.000102   \n",
              "location_freq_pensioned                  1.000000            0.056022   \n",
              "service_months_qty                       0.056022            1.000000   \n",
              "pension_freq_pensioned                   0.308507            0.079330   \n",
              "pension_fund_name_enc                    0.047458            0.052583   \n",
              "pension_group_name_enc                  -0.063150           -0.034342   \n",
              "\n",
              "                          pension_freq_pensioned  pension_fund_name_enc  \\\n",
              "_20_year_status                         0.091064              -0.238068   \n",
              "all_employers_salary_amt               -0.439474               0.207998   \n",
              "employer_freq_pensioned                 0.040389               0.099662   \n",
              "total_months_qty                        0.047303              -0.187378   \n",
              "location_freq_pensioned                 0.308507               0.047458   \n",
              "service_months_qty                      0.079330               0.052583   \n",
              "pension_freq_pensioned                  1.000000              -0.306339   \n",
              "pension_fund_name_enc                  -0.306339               1.000000   \n",
              "pension_group_name_enc                 -0.308736               0.185796   \n",
              "\n",
              "                          pension_group_name_enc  \n",
              "_20_year_status                        -0.113550  \n",
              "all_employers_salary_amt                0.097105  \n",
              "employer_freq_pensioned                -0.033238  \n",
              "total_months_qty                       -0.121364  \n",
              "location_freq_pensioned                -0.063150  \n",
              "service_months_qty                     -0.034342  \n",
              "pension_freq_pensioned                 -0.308736  \n",
              "pension_fund_name_enc                   0.185796  \n",
              "pension_group_name_enc                  1.000000  "
            ]
          },
          "metadata": {
            "tags": []
          },
          "execution_count": 11
        }
      ]
    },
    {
      "metadata": {
        "id": "bpTgBRi0XxR1",
        "colab_type": "text"
      },
      "cell_type": "markdown",
      "source": [
        "# 6 Load clfs Data from Google Drive\n",
        "##  6.1 Join Table "
      ]
    },
    {
      "metadata": {
        "id": "zCKhqkUXTfZ4",
        "colab_type": "code",
        "colab": {
          "base_uri": "https://localhost:8080/",
          "height": 485
        },
        "outputId": "f6d40cce-a29b-41a8-951b-f193624c5269"
      },
      "cell_type": "code",
      "source": [
        "#Need to change 'id' everytime\n",
        "\n",
        "downloaded = drive.CreateFile({'id':'1IU4Dxszpgxz9vJs8hH9Nz5v5ClPKiFPA'})\n",
        "downloaded.GetContentFile('clfs_score612.pkl')\n",
        "\n",
        "downloaded = drive.CreateFile({'id':'1qlumiKj10YDBFX4s2jxCTTSx36hUOplm'})\n",
        "downloaded.GetContentFile('clfs_score623.pkl')"
      ],
      "execution_count": 12,
      "outputs": [
        {
          "output_type": "stream",
          "text": [
            "WARNING:googleapiclient.discovery_cache:file_cache is unavailable when using oauth2client >= 4.0.0\n",
            "Traceback (most recent call last):\n",
            "  File \"/usr/local/lib/python3.6/dist-packages/googleapiclient/discovery_cache/__init__.py\", line 36, in autodetect\n",
            "    from google.appengine.api import memcache\n",
            "ModuleNotFoundError: No module named 'google.appengine'\n",
            "\n",
            "During handling of the above exception, another exception occurred:\n",
            "\n",
            "Traceback (most recent call last):\n",
            "  File \"/usr/local/lib/python3.6/dist-packages/googleapiclient/discovery_cache/file_cache.py\", line 33, in <module>\n",
            "    from oauth2client.contrib.locked_file import LockedFile\n",
            "ModuleNotFoundError: No module named 'oauth2client.contrib.locked_file'\n",
            "\n",
            "During handling of the above exception, another exception occurred:\n",
            "\n",
            "Traceback (most recent call last):\n",
            "  File \"/usr/local/lib/python3.6/dist-packages/googleapiclient/discovery_cache/file_cache.py\", line 37, in <module>\n",
            "    from oauth2client.locked_file import LockedFile\n",
            "ModuleNotFoundError: No module named 'oauth2client.locked_file'\n",
            "\n",
            "During handling of the above exception, another exception occurred:\n",
            "\n",
            "Traceback (most recent call last):\n",
            "  File \"/usr/local/lib/python3.6/dist-packages/googleapiclient/discovery_cache/__init__.py\", line 41, in autodetect\n",
            "    from . import file_cache\n",
            "  File \"/usr/local/lib/python3.6/dist-packages/googleapiclient/discovery_cache/file_cache.py\", line 41, in <module>\n",
            "    'file_cache is unavailable when using oauth2client >= 4.0.0')\n",
            "ImportError: file_cache is unavailable when using oauth2client >= 4.0.0\n"
          ],
          "name": "stderr"
        }
      ]
    },
    {
      "metadata": {
        "id": "EpSUbejpGpPv",
        "colab_type": "code",
        "colab": {}
      },
      "cell_type": "code",
      "source": [
        "#downloaded = drive.CreateFile({'id':'1vA1Z9Y9OkTNp83XR3WLuAyA-HemgTErA'})\n",
        "#downloaded.GetContentFile('clfs612.pkl')\n",
        "#clfs = joblib.load('clfs612.pkl')"
      ],
      "execution_count": 0,
      "outputs": []
    },
    {
      "metadata": {
        "id": "Lvs3n3_hASi4",
        "colab_type": "code",
        "colab": {}
      },
      "cell_type": "code",
      "source": [
        "clfs_score612 = joblib.load('clfs_score612.pkl')\n",
        "clfs_score623 = joblib.load('clfs_score623.pkl')"
      ],
      "execution_count": 0,
      "outputs": []
    },
    {
      "metadata": {
        "id": "XB-BHtaT21Wi",
        "colab_type": "code",
        "colab": {}
      },
      "cell_type": "code",
      "source": [
        "df_clfs_score = pd.DataFrame.from_dict(clfs_score612,orient='index')"
      ],
      "execution_count": 0,
      "outputs": []
    },
    {
      "metadata": {
        "id": "UOhoDy145ET4",
        "colab_type": "code",
        "colab": {}
      },
      "cell_type": "code",
      "source": [
        "df_clfs_score2 = pd.DataFrame.from_dict(clfs_score623,orient='index')"
      ],
      "execution_count": 0,
      "outputs": []
    },
    {
      "metadata": {
        "id": "CjCvhJg15_OE",
        "colab_type": "code",
        "colab": {}
      },
      "cell_type": "code",
      "source": [
        "df_clfs_score = pd.concat([df_clfs_score, df_clfs_score2], axis=1, join='inner')"
      ],
      "execution_count": 0,
      "outputs": []
    },
    {
      "metadata": {
        "id": "DF1E76wA7gMG",
        "colab_type": "text"
      },
      "cell_type": "markdown",
      "source": [
        "## 6.2  Additional Field and Manupulation"
      ]
    },
    {
      "metadata": {
        "id": "fHuegdk5N-Br",
        "colab_type": "code",
        "colab": {}
      },
      "cell_type": "code",
      "source": [
        "df_clfs_score['classifier'] = [i.split('|')[0] for i  in df_clfs_score.index.tolist()]"
      ],
      "execution_count": 0,
      "outputs": []
    },
    {
      "metadata": {
        "id": "KAPxedqmu-uA",
        "colab_type": "code",
        "colab": {}
      },
      "cell_type": "code",
      "source": [
        "df_clfs_score['std'] = df_clfs_score.std(axis=1)"
      ],
      "execution_count": 0,
      "outputs": []
    },
    {
      "metadata": {
        "id": "d6gUpRgwVx7F",
        "colab_type": "code",
        "colab": {}
      },
      "cell_type": "code",
      "source": [
        "df_clfs_score.columns = ['Training', 'Test1', 'Test2', 'Test3', 'classifier','std']"
      ],
      "execution_count": 0,
      "outputs": []
    },
    {
      "metadata": {
        "id": "S3CTXYWuUSn_",
        "colab_type": "code",
        "outputId": "11207204-5346-440a-dc4e-45d7ac6ca745",
        "colab": {
          "base_uri": "https://localhost:8080/",
          "height": 1895
        }
      },
      "cell_type": "code",
      "source": [
        "df_clfs_score.sort_values(['classifier','std','Training'], ascending=[True, True, True]).groupby('classifier')['std'].nsmallest(10)"
      ],
      "execution_count": 23,
      "outputs": [
        {
          "output_type": "execute_result",
          "data": {
            "text/html": [
              "<div>\n",
              "<style scoped>\n",
              "    .dataframe tbody tr th:only-of-type {\n",
              "        vertical-align: middle;\n",
              "    }\n",
              "\n",
              "    .dataframe tbody tr th {\n",
              "        vertical-align: top;\n",
              "    }\n",
              "\n",
              "    .dataframe thead th {\n",
              "        text-align: right;\n",
              "    }\n",
              "</style>\n",
              "<table border=\"1\" class=\"dataframe\">\n",
              "  <thead>\n",
              "    <tr style=\"text-align: right;\">\n",
              "      <th></th>\n",
              "      <th>Training</th>\n",
              "      <th>Test1</th>\n",
              "      <th>Test2</th>\n",
              "      <th>Test3</th>\n",
              "      <th>classifier</th>\n",
              "      <th>std</th>\n",
              "    </tr>\n",
              "  </thead>\n",
              "  <tbody>\n",
              "    <tr>\n",
              "      <th>AdaBoostClassifier|MDS MinMaxScaler|Normalizer|</th>\n",
              "      <td>0.929429</td>\n",
              "      <td>0.930000</td>\n",
              "      <td>0.931333</td>\n",
              "      <td>0.921</td>\n",
              "      <td>AdaBoostClassifier</td>\n",
              "      <td>0.004695</td>\n",
              "    </tr>\n",
              "    <tr>\n",
              "      <th>AdaBoostClassifier|Raw MinMaxScaler|</th>\n",
              "      <td>0.940857</td>\n",
              "      <td>0.944000</td>\n",
              "      <td>0.942667</td>\n",
              "      <td>0.931</td>\n",
              "      <td>AdaBoostClassifier</td>\n",
              "      <td>0.005896</td>\n",
              "    </tr>\n",
              "    <tr>\n",
              "      <th>AdaBoostClassifier|KPCA MinMaxScaler|Normalizer|</th>\n",
              "      <td>0.942286</td>\n",
              "      <td>0.940000</td>\n",
              "      <td>0.942667</td>\n",
              "      <td>0.930</td>\n",
              "      <td>AdaBoostClassifier</td>\n",
              "      <td>0.005943</td>\n",
              "    </tr>\n",
              "    <tr>\n",
              "      <th>AdaBoostClassifier|KPCA Normalizer|QuantileTransformer|</th>\n",
              "      <td>0.942286</td>\n",
              "      <td>0.940667</td>\n",
              "      <td>0.942667</td>\n",
              "      <td>0.930</td>\n",
              "      <td>AdaBoostClassifier</td>\n",
              "      <td>0.005999</td>\n",
              "    </tr>\n",
              "    <tr>\n",
              "      <th>AdaBoostClassifier|Raw StandardScaler|</th>\n",
              "      <td>0.943143</td>\n",
              "      <td>0.938667</td>\n",
              "      <td>0.942667</td>\n",
              "      <td>0.930</td>\n",
              "      <td>AdaBoostClassifier</td>\n",
              "      <td>0.006087</td>\n",
              "    </tr>\n",
              "    <tr>\n",
              "      <th>AdaBoostClassifier|Raw QuantileTransformer|</th>\n",
              "      <td>0.941143</td>\n",
              "      <td>0.942667</td>\n",
              "      <td>0.942667</td>\n",
              "      <td>0.930</td>\n",
              "      <td>AdaBoostClassifier</td>\n",
              "      <td>0.006122</td>\n",
              "    </tr>\n",
              "    <tr>\n",
              "      <th>AdaBoostClassifier|KPCA PowerTransformer|QuantileTransformer|</th>\n",
              "      <td>0.941143</td>\n",
              "      <td>0.942667</td>\n",
              "      <td>0.942667</td>\n",
              "      <td>0.930</td>\n",
              "      <td>AdaBoostClassifier</td>\n",
              "      <td>0.006122</td>\n",
              "    </tr>\n",
              "    <tr>\n",
              "      <th>AdaBoostClassifier|PCA MinMaxScaler|Normalizer|</th>\n",
              "      <td>0.943429</td>\n",
              "      <td>0.937333</td>\n",
              "      <td>0.942667</td>\n",
              "      <td>0.930</td>\n",
              "      <td>AdaBoostClassifier</td>\n",
              "      <td>0.006196</td>\n",
              "    </tr>\n",
              "    <tr>\n",
              "      <th>AdaBoostClassifier|PCA StandardScaler|QuantileTransformer|</th>\n",
              "      <td>0.940857</td>\n",
              "      <td>0.943333</td>\n",
              "      <td>0.942667</td>\n",
              "      <td>0.930</td>\n",
              "      <td>AdaBoostClassifier</td>\n",
              "      <td>0.006231</td>\n",
              "    </tr>\n",
              "    <tr>\n",
              "      <th>AdaBoostClassifier|Raw MinMaxScaler|PowerTransformer|</th>\n",
              "      <td>0.940857</td>\n",
              "      <td>0.944000</td>\n",
              "      <td>0.942667</td>\n",
              "      <td>0.930</td>\n",
              "      <td>AdaBoostClassifier</td>\n",
              "      <td>0.006385</td>\n",
              "    </tr>\n",
              "    <tr>\n",
              "      <th>AdaBoostClassifier|Raw Normalizer|QuantileTransformer|</th>\n",
              "      <td>0.943429</td>\n",
              "      <td>0.934000</td>\n",
              "      <td>0.940000</td>\n",
              "      <td>0.929</td>\n",
              "      <td>AdaBoostClassifier</td>\n",
              "      <td>0.006396</td>\n",
              "    </tr>\n",
              "    <tr>\n",
              "      <th>AdaBoostClassifier|Raw PowerTransformer|QuantileTransformer|</th>\n",
              "      <td>0.944286</td>\n",
              "      <td>0.935333</td>\n",
              "      <td>0.942667</td>\n",
              "      <td>0.930</td>\n",
              "      <td>AdaBoostClassifier</td>\n",
              "      <td>0.006643</td>\n",
              "    </tr>\n",
              "    <tr>\n",
              "      <th>AdaBoostClassifier|Raw MinMaxScaler|StandardScaler|</th>\n",
              "      <td>0.943429</td>\n",
              "      <td>0.940667</td>\n",
              "      <td>0.944667</td>\n",
              "      <td>0.930</td>\n",
              "      <td>AdaBoostClassifier</td>\n",
              "      <td>0.006673</td>\n",
              "    </tr>\n",
              "    <tr>\n",
              "      <th>AdaBoostClassifier|Raw MinMaxScaler|QuantileTransformer|</th>\n",
              "      <td>0.944571</td>\n",
              "      <td>0.946000</td>\n",
              "      <td>0.946000</td>\n",
              "      <td>0.932</td>\n",
              "      <td>AdaBoostClassifier</td>\n",
              "      <td>0.006795</td>\n",
              "    </tr>\n",
              "    <tr>\n",
              "      <th>AdaBoostClassifier|PCA MinMaxScaler|QuantileTransformer|</th>\n",
              "      <td>0.940571</td>\n",
              "      <td>0.945333</td>\n",
              "      <td>0.943333</td>\n",
              "      <td>0.930</td>\n",
              "      <td>AdaBoostClassifier</td>\n",
              "      <td>0.006825</td>\n",
              "    </tr>\n",
              "    <tr>\n",
              "      <th>AdaBoostClassifier|PCA MinMaxScaler|</th>\n",
              "      <td>0.940857</td>\n",
              "      <td>0.942667</td>\n",
              "      <td>0.942667</td>\n",
              "      <td>0.928</td>\n",
              "      <td>AdaBoostClassifier</td>\n",
              "      <td>0.007083</td>\n",
              "    </tr>\n",
              "    <tr>\n",
              "      <th>AdaBoostClassifier|Raw Normalizer|</th>\n",
              "      <td>0.943143</td>\n",
              "      <td>0.941333</td>\n",
              "      <td>0.944667</td>\n",
              "      <td>0.929</td>\n",
              "      <td>AdaBoostClassifier</td>\n",
              "      <td>0.007155</td>\n",
              "    </tr>\n",
              "    <tr>\n",
              "      <th>AdaBoostClassifier|Raw PowerTransformer|</th>\n",
              "      <td>0.944000</td>\n",
              "      <td>0.943333</td>\n",
              "      <td>0.945333</td>\n",
              "      <td>0.930</td>\n",
              "      <td>AdaBoostClassifier</td>\n",
              "      <td>0.007160</td>\n",
              "    </tr>\n",
              "    <tr>\n",
              "      <th>AdaBoostClassifier|Raw StandardScaler|QuantileTransformer|</th>\n",
              "      <td>0.944857</td>\n",
              "      <td>0.944667</td>\n",
              "      <td>0.946667</td>\n",
              "      <td>0.931</td>\n",
              "      <td>AdaBoostClassifier</td>\n",
              "      <td>0.007255</td>\n",
              "    </tr>\n",
              "    <tr>\n",
              "      <th>AdaBoostClassifier|Raw Normalizer|PowerTransformer|</th>\n",
              "      <td>0.939429</td>\n",
              "      <td>0.947333</td>\n",
              "      <td>0.942667</td>\n",
              "      <td>0.930</td>\n",
              "      <td>AdaBoostClassifier</td>\n",
              "      <td>0.007329</td>\n",
              "    </tr>\n",
              "    <tr>\n",
              "      <th>AdaBoostClassifier|PCA PowerTransformer|QuantileTransformer|</th>\n",
              "      <td>0.944857</td>\n",
              "      <td>0.935333</td>\n",
              "      <td>0.942667</td>\n",
              "      <td>0.928</td>\n",
              "      <td>AdaBoostClassifier</td>\n",
              "      <td>0.007650</td>\n",
              "    </tr>\n",
              "    <tr>\n",
              "      <th>AdaBoostClassifier|KPCA QuantileTransformer|</th>\n",
              "      <td>0.946286</td>\n",
              "      <td>0.929333</td>\n",
              "      <td>0.936667</td>\n",
              "      <td>0.930</td>\n",
              "      <td>AdaBoostClassifier</td>\n",
              "      <td>0.007873</td>\n",
              "    </tr>\n",
              "    <tr>\n",
              "      <th>AdaBoostClassifier|Raw MinMaxScaler|Normalizer|</th>\n",
              "      <td>0.892571</td>\n",
              "      <td>0.884667</td>\n",
              "      <td>0.904667</td>\n",
              "      <td>0.888</td>\n",
              "      <td>AdaBoostClassifier</td>\n",
              "      <td>0.008749</td>\n",
              "    </tr>\n",
              "    <tr>\n",
              "      <th>AdaBoostClassifier|PCA Normalizer|QuantileTransformer|</th>\n",
              "      <td>0.944286</td>\n",
              "      <td>0.935333</td>\n",
              "      <td>0.943333</td>\n",
              "      <td>0.924</td>\n",
              "      <td>AdaBoostClassifier</td>\n",
              "      <td>0.009393</td>\n",
              "    </tr>\n",
              "    <tr>\n",
              "      <th>AdaBoostClassifier|Raw StandardScaler|PowerTransformer|</th>\n",
              "      <td>0.944857</td>\n",
              "      <td>0.941333</td>\n",
              "      <td>0.944667</td>\n",
              "      <td>0.925</td>\n",
              "      <td>AdaBoostClassifier</td>\n",
              "      <td>0.009449</td>\n",
              "    </tr>\n",
              "    <tr>\n",
              "      <th>AdaBoostClassifier|PCA StandardScaler|</th>\n",
              "      <td>0.943429</td>\n",
              "      <td>0.937333</td>\n",
              "      <td>0.942667</td>\n",
              "      <td>0.922</td>\n",
              "      <td>AdaBoostClassifier</td>\n",
              "      <td>0.009948</td>\n",
              "    </tr>\n",
              "    <tr>\n",
              "      <th>AdaBoostClassifier|PCA QuantileTransformer|</th>\n",
              "      <td>0.915714</td>\n",
              "      <td>0.914667</td>\n",
              "      <td>0.918000</td>\n",
              "      <td>0.896</td>\n",
              "      <td>AdaBoostClassifier</td>\n",
              "      <td>0.010159</td>\n",
              "    </tr>\n",
              "    <tr>\n",
              "      <th>AdaBoostClassifier|PCA MinMaxScaler|StandardScaler|</th>\n",
              "      <td>0.940286</td>\n",
              "      <td>0.936667</td>\n",
              "      <td>0.942000</td>\n",
              "      <td>0.918</td>\n",
              "      <td>AdaBoostClassifier</td>\n",
              "      <td>0.011051</td>\n",
              "    </tr>\n",
              "    <tr>\n",
              "      <th>AdaBoostClassifier|PCA StandardScaler|PowerTransformer|</th>\n",
              "      <td>0.941143</td>\n",
              "      <td>0.938667</td>\n",
              "      <td>0.941333</td>\n",
              "      <td>0.910</td>\n",
              "      <td>AdaBoostClassifier</td>\n",
              "      <td>0.015239</td>\n",
              "    </tr>\n",
              "    <tr>\n",
              "      <th>AdaBoostClassifier|Raw Normalizer|StandardScaler|</th>\n",
              "      <td>0.941714</td>\n",
              "      <td>0.941333</td>\n",
              "      <td>0.942667</td>\n",
              "      <td>0.900</td>\n",
              "      <td>AdaBoostClassifier</td>\n",
              "      <td>0.020960</td>\n",
              "    </tr>\n",
              "    <tr>\n",
              "      <th>...</th>\n",
              "      <td>...</td>\n",
              "      <td>...</td>\n",
              "      <td>...</td>\n",
              "      <td>...</td>\n",
              "      <td>...</td>\n",
              "      <td>...</td>\n",
              "    </tr>\n",
              "    <tr>\n",
              "      <th>RandomForestClassifier|Raw Normalizer|PowerTransformer|</th>\n",
              "      <td>0.990857</td>\n",
              "      <td>0.939333</td>\n",
              "      <td>0.971333</td>\n",
              "      <td>0.928</td>\n",
              "      <td>RandomForestClassifier</td>\n",
              "      <td>0.028892</td>\n",
              "    </tr>\n",
              "    <tr>\n",
              "      <th>RandomForestClassifier|Raw StandardScaler|PowerTransformer|</th>\n",
              "      <td>0.988000</td>\n",
              "      <td>0.937333</td>\n",
              "      <td>0.973333</td>\n",
              "      <td>0.927</td>\n",
              "      <td>RandomForestClassifier</td>\n",
              "      <td>0.028944</td>\n",
              "    </tr>\n",
              "    <tr>\n",
              "      <th>RandomForestClassifier|Raw MinMaxScaler|StandardScaler|</th>\n",
              "      <td>0.988286</td>\n",
              "      <td>0.938000</td>\n",
              "      <td>0.972667</td>\n",
              "      <td>0.926</td>\n",
              "      <td>RandomForestClassifier</td>\n",
              "      <td>0.029120</td>\n",
              "    </tr>\n",
              "    <tr>\n",
              "      <th>RandomForestClassifier|Raw StandardScaler|QuantileTransformer|</th>\n",
              "      <td>0.988857</td>\n",
              "      <td>0.940000</td>\n",
              "      <td>0.973333</td>\n",
              "      <td>0.925</td>\n",
              "      <td>RandomForestClassifier</td>\n",
              "      <td>0.029408</td>\n",
              "    </tr>\n",
              "    <tr>\n",
              "      <th>RandomForestClassifier|Raw MinMaxScaler|</th>\n",
              "      <td>0.990000</td>\n",
              "      <td>0.941333</td>\n",
              "      <td>0.973333</td>\n",
              "      <td>0.925</td>\n",
              "      <td>RandomForestClassifier</td>\n",
              "      <td>0.029578</td>\n",
              "    </tr>\n",
              "    <tr>\n",
              "      <th>RandomForestClassifier|PCA PowerTransformer|QuantileTransformer|</th>\n",
              "      <td>0.991143</td>\n",
              "      <td>0.934667</td>\n",
              "      <td>0.973333</td>\n",
              "      <td>0.930</td>\n",
              "      <td>RandomForestClassifier</td>\n",
              "      <td>0.029777</td>\n",
              "    </tr>\n",
              "    <tr>\n",
              "      <th>RandomForestClassifier|PCA MinMaxScaler|Normalizer|</th>\n",
              "      <td>0.991143</td>\n",
              "      <td>0.937333</td>\n",
              "      <td>0.973333</td>\n",
              "      <td>0.927</td>\n",
              "      <td>RandomForestClassifier</td>\n",
              "      <td>0.030106</td>\n",
              "    </tr>\n",
              "    <tr>\n",
              "      <th>RandomForestClassifier|Raw MinMaxScaler|Normalizer|</th>\n",
              "      <td>0.988571</td>\n",
              "      <td>0.935333</td>\n",
              "      <td>0.972667</td>\n",
              "      <td>0.925</td>\n",
              "      <td>RandomForestClassifier</td>\n",
              "      <td>0.030140</td>\n",
              "    </tr>\n",
              "    <tr>\n",
              "      <th>RandomForestClassifier|PCA MinMaxScaler|StandardScaler|</th>\n",
              "      <td>0.987429</td>\n",
              "      <td>0.935333</td>\n",
              "      <td>0.971333</td>\n",
              "      <td>0.923</td>\n",
              "      <td>RandomForestClassifier</td>\n",
              "      <td>0.030150</td>\n",
              "    </tr>\n",
              "    <tr>\n",
              "      <th>RandomForestClassifier|Raw Normalizer|QuantileTransformer|</th>\n",
              "      <td>0.989143</td>\n",
              "      <td>0.934667</td>\n",
              "      <td>0.972667</td>\n",
              "      <td>0.926</td>\n",
              "      <td>RandomForestClassifier</td>\n",
              "      <td>0.030170</td>\n",
              "    </tr>\n",
              "    <tr>\n",
              "      <th>RandomForestClassifier|PCA MinMaxScaler|</th>\n",
              "      <td>0.989714</td>\n",
              "      <td>0.940000</td>\n",
              "      <td>0.974000</td>\n",
              "      <td>0.923</td>\n",
              "      <td>RandomForestClassifier</td>\n",
              "      <td>0.030571</td>\n",
              "    </tr>\n",
              "    <tr>\n",
              "      <th>RandomForestClassifier|Raw Normalizer|StandardScaler|</th>\n",
              "      <td>0.985714</td>\n",
              "      <td>0.936667</td>\n",
              "      <td>0.972000</td>\n",
              "      <td>0.918</td>\n",
              "      <td>RandomForestClassifier</td>\n",
              "      <td>0.031214</td>\n",
              "    </tr>\n",
              "    <tr>\n",
              "      <th>RandomForestClassifier|PCA StandardScaler|QuantileTransformer|</th>\n",
              "      <td>0.992286</td>\n",
              "      <td>0.941333</td>\n",
              "      <td>0.978667</td>\n",
              "      <td>0.925</td>\n",
              "      <td>RandomForestClassifier</td>\n",
              "      <td>0.031424</td>\n",
              "    </tr>\n",
              "    <tr>\n",
              "      <th>RandomForestClassifier|KPCA MinMaxScaler|QuantileTransformer|</th>\n",
              "      <td>0.985143</td>\n",
              "      <td>0.940667</td>\n",
              "      <td>0.972000</td>\n",
              "      <td>0.915</td>\n",
              "      <td>RandomForestClassifier</td>\n",
              "      <td>0.031571</td>\n",
              "    </tr>\n",
              "    <tr>\n",
              "      <th>RandomForestClassifier|Raw MinMaxScaler|PowerTransformer|</th>\n",
              "      <td>0.991429</td>\n",
              "      <td>0.939333</td>\n",
              "      <td>0.978000</td>\n",
              "      <td>0.924</td>\n",
              "      <td>RandomForestClassifier</td>\n",
              "      <td>0.031737</td>\n",
              "    </tr>\n",
              "    <tr>\n",
              "      <th>RandomForestClassifier|Raw PowerTransformer|QuantileTransformer|</th>\n",
              "      <td>0.990571</td>\n",
              "      <td>0.933333</td>\n",
              "      <td>0.970667</td>\n",
              "      <td>0.921</td>\n",
              "      <td>RandomForestClassifier</td>\n",
              "      <td>0.032307</td>\n",
              "    </tr>\n",
              "    <tr>\n",
              "      <th>RandomForestClassifier|PCA StandardScaler|PowerTransformer|</th>\n",
              "      <td>0.988857</td>\n",
              "      <td>0.938667</td>\n",
              "      <td>0.977333</td>\n",
              "      <td>0.917</td>\n",
              "      <td>RandomForestClassifier</td>\n",
              "      <td>0.033441</td>\n",
              "    </tr>\n",
              "    <tr>\n",
              "      <th>RandomForestClassifier|PCA StandardScaler|</th>\n",
              "      <td>0.988857</td>\n",
              "      <td>0.936000</td>\n",
              "      <td>0.973333</td>\n",
              "      <td>0.914</td>\n",
              "      <td>RandomForestClassifier</td>\n",
              "      <td>0.034201</td>\n",
              "    </tr>\n",
              "    <tr>\n",
              "      <th>RandomForestClassifier|KPCA MinMaxScaler|Normalizer|</th>\n",
              "      <td>0.987429</td>\n",
              "      <td>0.939333</td>\n",
              "      <td>0.972000</td>\n",
              "      <td>0.909</td>\n",
              "      <td>RandomForestClassifier</td>\n",
              "      <td>0.034951</td>\n",
              "    </tr>\n",
              "    <tr>\n",
              "      <th>RandomForestClassifier|KPCA MinMaxScaler|</th>\n",
              "      <td>0.987714</td>\n",
              "      <td>0.934667</td>\n",
              "      <td>0.971333</td>\n",
              "      <td>0.907</td>\n",
              "      <td>RandomForestClassifier</td>\n",
              "      <td>0.036339</td>\n",
              "    </tr>\n",
              "    <tr>\n",
              "      <th>RandomForestClassifier|KPCA QuantileTransformer|</th>\n",
              "      <td>0.989714</td>\n",
              "      <td>0.934000</td>\n",
              "      <td>0.974667</td>\n",
              "      <td>0.891</td>\n",
              "      <td>RandomForestClassifier</td>\n",
              "      <td>0.044326</td>\n",
              "    </tr>\n",
              "    <tr>\n",
              "      <th>RandomForestClassifier|PCA Normalizer|StandardScaler|</th>\n",
              "      <td>0.987429</td>\n",
              "      <td>0.942667</td>\n",
              "      <td>0.974000</td>\n",
              "      <td>0.870</td>\n",
              "      <td>RandomForestClassifier</td>\n",
              "      <td>0.052481</td>\n",
              "    </tr>\n",
              "    <tr>\n",
              "      <th>RandomForestClassifier|KPCA StandardScaler|</th>\n",
              "      <td>0.989714</td>\n",
              "      <td>0.940667</td>\n",
              "      <td>0.973333</td>\n",
              "      <td>0.869</td>\n",
              "      <td>RandomForestClassifier</td>\n",
              "      <td>0.053490</td>\n",
              "    </tr>\n",
              "    <tr>\n",
              "      <th>RandomForestClassifier|KPCA Normalizer|StandardScaler|</th>\n",
              "      <td>0.988857</td>\n",
              "      <td>0.938000</td>\n",
              "      <td>0.972667</td>\n",
              "      <td>0.856</td>\n",
              "      <td>RandomForestClassifier</td>\n",
              "      <td>0.059186</td>\n",
              "    </tr>\n",
              "    <tr>\n",
              "      <th>RandomForestClassifier|KPCA MinMaxScaler|StandardScaler|</th>\n",
              "      <td>0.988857</td>\n",
              "      <td>0.938667</td>\n",
              "      <td>0.976667</td>\n",
              "      <td>0.856</td>\n",
              "      <td>RandomForestClassifier</td>\n",
              "      <td>0.059970</td>\n",
              "    </tr>\n",
              "    <tr>\n",
              "      <th>RandomForestClassifier|KPCA MinMaxScaler|PowerTransformer|</th>\n",
              "      <td>0.987429</td>\n",
              "      <td>0.936000</td>\n",
              "      <td>0.972000</td>\n",
              "      <td>0.843</td>\n",
              "      <td>RandomForestClassifier</td>\n",
              "      <td>0.064761</td>\n",
              "    </tr>\n",
              "    <tr>\n",
              "      <th>SVC|PCA MinMaxScaler|</th>\n",
              "      <td>0.940571</td>\n",
              "      <td>0.944000</td>\n",
              "      <td>0.942667</td>\n",
              "      <td>0.930</td>\n",
              "      <td>SVC</td>\n",
              "      <td>0.006365</td>\n",
              "    </tr>\n",
              "    <tr>\n",
              "      <th>SVC|KPCA MinMaxScaler|</th>\n",
              "      <td>0.942000</td>\n",
              "      <td>0.940667</td>\n",
              "      <td>0.942667</td>\n",
              "      <td>0.929</td>\n",
              "      <td>SVC</td>\n",
              "      <td>0.006443</td>\n",
              "    </tr>\n",
              "    <tr>\n",
              "      <th>SVC|ICA StandardScaler|PowerTransformer|</th>\n",
              "      <td>0.938571</td>\n",
              "      <td>0.948667</td>\n",
              "      <td>0.942667</td>\n",
              "      <td>0.932</td>\n",
              "      <td>SVC</td>\n",
              "      <td>0.007008</td>\n",
              "    </tr>\n",
              "    <tr>\n",
              "      <th>SVC|ICA MinMaxScaler|StandardScaler|</th>\n",
              "      <td>0.942000</td>\n",
              "      <td>0.940667</td>\n",
              "      <td>0.942667</td>\n",
              "      <td>0.924</td>\n",
              "      <td>SVC</td>\n",
              "      <td>0.008928</td>\n",
              "    </tr>\n",
              "  </tbody>\n",
              "</table>\n",
              "<p>162 rows × 6 columns</p>\n",
              "</div>"
            ],
            "text/plain": [
              "                                                    Training     Test1  \\\n",
              "AdaBoostClassifier|MDS MinMaxScaler|Normalizer|     0.929429  0.930000   \n",
              "AdaBoostClassifier|Raw MinMaxScaler|                0.940857  0.944000   \n",
              "AdaBoostClassifier|KPCA MinMaxScaler|Normalizer|    0.942286  0.940000   \n",
              "AdaBoostClassifier|KPCA Normalizer|QuantileTran...  0.942286  0.940667   \n",
              "AdaBoostClassifier|Raw StandardScaler|              0.943143  0.938667   \n",
              "AdaBoostClassifier|Raw QuantileTransformer|         0.941143  0.942667   \n",
              "AdaBoostClassifier|KPCA PowerTransformer|Quanti...  0.941143  0.942667   \n",
              "AdaBoostClassifier|PCA MinMaxScaler|Normalizer|     0.943429  0.937333   \n",
              "AdaBoostClassifier|PCA StandardScaler|QuantileT...  0.940857  0.943333   \n",
              "AdaBoostClassifier|Raw MinMaxScaler|PowerTransf...  0.940857  0.944000   \n",
              "AdaBoostClassifier|Raw Normalizer|QuantileTrans...  0.943429  0.934000   \n",
              "AdaBoostClassifier|Raw PowerTransformer|Quantil...  0.944286  0.935333   \n",
              "AdaBoostClassifier|Raw MinMaxScaler|StandardSca...  0.943429  0.940667   \n",
              "AdaBoostClassifier|Raw MinMaxScaler|QuantileTra...  0.944571  0.946000   \n",
              "AdaBoostClassifier|PCA MinMaxScaler|QuantileTra...  0.940571  0.945333   \n",
              "AdaBoostClassifier|PCA MinMaxScaler|                0.940857  0.942667   \n",
              "AdaBoostClassifier|Raw Normalizer|                  0.943143  0.941333   \n",
              "AdaBoostClassifier|Raw PowerTransformer|            0.944000  0.943333   \n",
              "AdaBoostClassifier|Raw StandardScaler|QuantileT...  0.944857  0.944667   \n",
              "AdaBoostClassifier|Raw Normalizer|PowerTransfor...  0.939429  0.947333   \n",
              "AdaBoostClassifier|PCA PowerTransformer|Quantil...  0.944857  0.935333   \n",
              "AdaBoostClassifier|KPCA QuantileTransformer|        0.946286  0.929333   \n",
              "AdaBoostClassifier|Raw MinMaxScaler|Normalizer|     0.892571  0.884667   \n",
              "AdaBoostClassifier|PCA Normalizer|QuantileTrans...  0.944286  0.935333   \n",
              "AdaBoostClassifier|Raw StandardScaler|PowerTran...  0.944857  0.941333   \n",
              "AdaBoostClassifier|PCA StandardScaler|              0.943429  0.937333   \n",
              "AdaBoostClassifier|PCA QuantileTransformer|         0.915714  0.914667   \n",
              "AdaBoostClassifier|PCA MinMaxScaler|StandardSca...  0.940286  0.936667   \n",
              "AdaBoostClassifier|PCA StandardScaler|PowerTran...  0.941143  0.938667   \n",
              "AdaBoostClassifier|Raw Normalizer|StandardScaler|   0.941714  0.941333   \n",
              "...                                                      ...       ...   \n",
              "RandomForestClassifier|Raw Normalizer|PowerTran...  0.990857  0.939333   \n",
              "RandomForestClassifier|Raw StandardScaler|Power...  0.988000  0.937333   \n",
              "RandomForestClassifier|Raw MinMaxScaler|Standar...  0.988286  0.938000   \n",
              "RandomForestClassifier|Raw StandardScaler|Quant...  0.988857  0.940000   \n",
              "RandomForestClassifier|Raw MinMaxScaler|            0.990000  0.941333   \n",
              "RandomForestClassifier|PCA PowerTransformer|Qua...  0.991143  0.934667   \n",
              "RandomForestClassifier|PCA MinMaxScaler|Normali...  0.991143  0.937333   \n",
              "RandomForestClassifier|Raw MinMaxScaler|Normali...  0.988571  0.935333   \n",
              "RandomForestClassifier|PCA MinMaxScaler|Standar...  0.987429  0.935333   \n",
              "RandomForestClassifier|Raw Normalizer|QuantileT...  0.989143  0.934667   \n",
              "RandomForestClassifier|PCA MinMaxScaler|            0.989714  0.940000   \n",
              "RandomForestClassifier|Raw Normalizer|StandardS...  0.985714  0.936667   \n",
              "RandomForestClassifier|PCA StandardScaler|Quant...  0.992286  0.941333   \n",
              "RandomForestClassifier|KPCA MinMaxScaler|Quanti...  0.985143  0.940667   \n",
              "RandomForestClassifier|Raw MinMaxScaler|PowerTr...  0.991429  0.939333   \n",
              "RandomForestClassifier|Raw PowerTransformer|Qua...  0.990571  0.933333   \n",
              "RandomForestClassifier|PCA StandardScaler|Power...  0.988857  0.938667   \n",
              "RandomForestClassifier|PCA StandardScaler|          0.988857  0.936000   \n",
              "RandomForestClassifier|KPCA MinMaxScaler|Normal...  0.987429  0.939333   \n",
              "RandomForestClassifier|KPCA MinMaxScaler|           0.987714  0.934667   \n",
              "RandomForestClassifier|KPCA QuantileTransformer|    0.989714  0.934000   \n",
              "RandomForestClassifier|PCA Normalizer|StandardS...  0.987429  0.942667   \n",
              "RandomForestClassifier|KPCA StandardScaler|         0.989714  0.940667   \n",
              "RandomForestClassifier|KPCA Normalizer|Standard...  0.988857  0.938000   \n",
              "RandomForestClassifier|KPCA MinMaxScaler|Standa...  0.988857  0.938667   \n",
              "RandomForestClassifier|KPCA MinMaxScaler|PowerT...  0.987429  0.936000   \n",
              "SVC|PCA MinMaxScaler|                               0.940571  0.944000   \n",
              "SVC|KPCA MinMaxScaler|                              0.942000  0.940667   \n",
              "SVC|ICA StandardScaler|PowerTransformer|            0.938571  0.948667   \n",
              "SVC|ICA MinMaxScaler|StandardScaler|                0.942000  0.940667   \n",
              "\n",
              "                                                       Test2  Test3  \\\n",
              "AdaBoostClassifier|MDS MinMaxScaler|Normalizer|     0.931333  0.921   \n",
              "AdaBoostClassifier|Raw MinMaxScaler|                0.942667  0.931   \n",
              "AdaBoostClassifier|KPCA MinMaxScaler|Normalizer|    0.942667  0.930   \n",
              "AdaBoostClassifier|KPCA Normalizer|QuantileTran...  0.942667  0.930   \n",
              "AdaBoostClassifier|Raw StandardScaler|              0.942667  0.930   \n",
              "AdaBoostClassifier|Raw QuantileTransformer|         0.942667  0.930   \n",
              "AdaBoostClassifier|KPCA PowerTransformer|Quanti...  0.942667  0.930   \n",
              "AdaBoostClassifier|PCA MinMaxScaler|Normalizer|     0.942667  0.930   \n",
              "AdaBoostClassifier|PCA StandardScaler|QuantileT...  0.942667  0.930   \n",
              "AdaBoostClassifier|Raw MinMaxScaler|PowerTransf...  0.942667  0.930   \n",
              "AdaBoostClassifier|Raw Normalizer|QuantileTrans...  0.940000  0.929   \n",
              "AdaBoostClassifier|Raw PowerTransformer|Quantil...  0.942667  0.930   \n",
              "AdaBoostClassifier|Raw MinMaxScaler|StandardSca...  0.944667  0.930   \n",
              "AdaBoostClassifier|Raw MinMaxScaler|QuantileTra...  0.946000  0.932   \n",
              "AdaBoostClassifier|PCA MinMaxScaler|QuantileTra...  0.943333  0.930   \n",
              "AdaBoostClassifier|PCA MinMaxScaler|                0.942667  0.928   \n",
              "AdaBoostClassifier|Raw Normalizer|                  0.944667  0.929   \n",
              "AdaBoostClassifier|Raw PowerTransformer|            0.945333  0.930   \n",
              "AdaBoostClassifier|Raw StandardScaler|QuantileT...  0.946667  0.931   \n",
              "AdaBoostClassifier|Raw Normalizer|PowerTransfor...  0.942667  0.930   \n",
              "AdaBoostClassifier|PCA PowerTransformer|Quantil...  0.942667  0.928   \n",
              "AdaBoostClassifier|KPCA QuantileTransformer|        0.936667  0.930   \n",
              "AdaBoostClassifier|Raw MinMaxScaler|Normalizer|     0.904667  0.888   \n",
              "AdaBoostClassifier|PCA Normalizer|QuantileTrans...  0.943333  0.924   \n",
              "AdaBoostClassifier|Raw StandardScaler|PowerTran...  0.944667  0.925   \n",
              "AdaBoostClassifier|PCA StandardScaler|              0.942667  0.922   \n",
              "AdaBoostClassifier|PCA QuantileTransformer|         0.918000  0.896   \n",
              "AdaBoostClassifier|PCA MinMaxScaler|StandardSca...  0.942000  0.918   \n",
              "AdaBoostClassifier|PCA StandardScaler|PowerTran...  0.941333  0.910   \n",
              "AdaBoostClassifier|Raw Normalizer|StandardScaler|   0.942667  0.900   \n",
              "...                                                      ...    ...   \n",
              "RandomForestClassifier|Raw Normalizer|PowerTran...  0.971333  0.928   \n",
              "RandomForestClassifier|Raw StandardScaler|Power...  0.973333  0.927   \n",
              "RandomForestClassifier|Raw MinMaxScaler|Standar...  0.972667  0.926   \n",
              "RandomForestClassifier|Raw StandardScaler|Quant...  0.973333  0.925   \n",
              "RandomForestClassifier|Raw MinMaxScaler|            0.973333  0.925   \n",
              "RandomForestClassifier|PCA PowerTransformer|Qua...  0.973333  0.930   \n",
              "RandomForestClassifier|PCA MinMaxScaler|Normali...  0.973333  0.927   \n",
              "RandomForestClassifier|Raw MinMaxScaler|Normali...  0.972667  0.925   \n",
              "RandomForestClassifier|PCA MinMaxScaler|Standar...  0.971333  0.923   \n",
              "RandomForestClassifier|Raw Normalizer|QuantileT...  0.972667  0.926   \n",
              "RandomForestClassifier|PCA MinMaxScaler|            0.974000  0.923   \n",
              "RandomForestClassifier|Raw Normalizer|StandardS...  0.972000  0.918   \n",
              "RandomForestClassifier|PCA StandardScaler|Quant...  0.978667  0.925   \n",
              "RandomForestClassifier|KPCA MinMaxScaler|Quanti...  0.972000  0.915   \n",
              "RandomForestClassifier|Raw MinMaxScaler|PowerTr...  0.978000  0.924   \n",
              "RandomForestClassifier|Raw PowerTransformer|Qua...  0.970667  0.921   \n",
              "RandomForestClassifier|PCA StandardScaler|Power...  0.977333  0.917   \n",
              "RandomForestClassifier|PCA StandardScaler|          0.973333  0.914   \n",
              "RandomForestClassifier|KPCA MinMaxScaler|Normal...  0.972000  0.909   \n",
              "RandomForestClassifier|KPCA MinMaxScaler|           0.971333  0.907   \n",
              "RandomForestClassifier|KPCA QuantileTransformer|    0.974667  0.891   \n",
              "RandomForestClassifier|PCA Normalizer|StandardS...  0.974000  0.870   \n",
              "RandomForestClassifier|KPCA StandardScaler|         0.973333  0.869   \n",
              "RandomForestClassifier|KPCA Normalizer|Standard...  0.972667  0.856   \n",
              "RandomForestClassifier|KPCA MinMaxScaler|Standa...  0.976667  0.856   \n",
              "RandomForestClassifier|KPCA MinMaxScaler|PowerT...  0.972000  0.843   \n",
              "SVC|PCA MinMaxScaler|                               0.942667  0.930   \n",
              "SVC|KPCA MinMaxScaler|                              0.942667  0.929   \n",
              "SVC|ICA StandardScaler|PowerTransformer|            0.942667  0.932   \n",
              "SVC|ICA MinMaxScaler|StandardScaler|                0.942667  0.924   \n",
              "\n",
              "                                                                classifier  \\\n",
              "AdaBoostClassifier|MDS MinMaxScaler|Normalizer|         AdaBoostClassifier   \n",
              "AdaBoostClassifier|Raw MinMaxScaler|                    AdaBoostClassifier   \n",
              "AdaBoostClassifier|KPCA MinMaxScaler|Normalizer|        AdaBoostClassifier   \n",
              "AdaBoostClassifier|KPCA Normalizer|QuantileTran...      AdaBoostClassifier   \n",
              "AdaBoostClassifier|Raw StandardScaler|                  AdaBoostClassifier   \n",
              "AdaBoostClassifier|Raw QuantileTransformer|             AdaBoostClassifier   \n",
              "AdaBoostClassifier|KPCA PowerTransformer|Quanti...      AdaBoostClassifier   \n",
              "AdaBoostClassifier|PCA MinMaxScaler|Normalizer|         AdaBoostClassifier   \n",
              "AdaBoostClassifier|PCA StandardScaler|QuantileT...      AdaBoostClassifier   \n",
              "AdaBoostClassifier|Raw MinMaxScaler|PowerTransf...      AdaBoostClassifier   \n",
              "AdaBoostClassifier|Raw Normalizer|QuantileTrans...      AdaBoostClassifier   \n",
              "AdaBoostClassifier|Raw PowerTransformer|Quantil...      AdaBoostClassifier   \n",
              "AdaBoostClassifier|Raw MinMaxScaler|StandardSca...      AdaBoostClassifier   \n",
              "AdaBoostClassifier|Raw MinMaxScaler|QuantileTra...      AdaBoostClassifier   \n",
              "AdaBoostClassifier|PCA MinMaxScaler|QuantileTra...      AdaBoostClassifier   \n",
              "AdaBoostClassifier|PCA MinMaxScaler|                    AdaBoostClassifier   \n",
              "AdaBoostClassifier|Raw Normalizer|                      AdaBoostClassifier   \n",
              "AdaBoostClassifier|Raw PowerTransformer|                AdaBoostClassifier   \n",
              "AdaBoostClassifier|Raw StandardScaler|QuantileT...      AdaBoostClassifier   \n",
              "AdaBoostClassifier|Raw Normalizer|PowerTransfor...      AdaBoostClassifier   \n",
              "AdaBoostClassifier|PCA PowerTransformer|Quantil...      AdaBoostClassifier   \n",
              "AdaBoostClassifier|KPCA QuantileTransformer|            AdaBoostClassifier   \n",
              "AdaBoostClassifier|Raw MinMaxScaler|Normalizer|         AdaBoostClassifier   \n",
              "AdaBoostClassifier|PCA Normalizer|QuantileTrans...      AdaBoostClassifier   \n",
              "AdaBoostClassifier|Raw StandardScaler|PowerTran...      AdaBoostClassifier   \n",
              "AdaBoostClassifier|PCA StandardScaler|                  AdaBoostClassifier   \n",
              "AdaBoostClassifier|PCA QuantileTransformer|             AdaBoostClassifier   \n",
              "AdaBoostClassifier|PCA MinMaxScaler|StandardSca...      AdaBoostClassifier   \n",
              "AdaBoostClassifier|PCA StandardScaler|PowerTran...      AdaBoostClassifier   \n",
              "AdaBoostClassifier|Raw Normalizer|StandardScaler|       AdaBoostClassifier   \n",
              "...                                                                    ...   \n",
              "RandomForestClassifier|Raw Normalizer|PowerTran...  RandomForestClassifier   \n",
              "RandomForestClassifier|Raw StandardScaler|Power...  RandomForestClassifier   \n",
              "RandomForestClassifier|Raw MinMaxScaler|Standar...  RandomForestClassifier   \n",
              "RandomForestClassifier|Raw StandardScaler|Quant...  RandomForestClassifier   \n",
              "RandomForestClassifier|Raw MinMaxScaler|            RandomForestClassifier   \n",
              "RandomForestClassifier|PCA PowerTransformer|Qua...  RandomForestClassifier   \n",
              "RandomForestClassifier|PCA MinMaxScaler|Normali...  RandomForestClassifier   \n",
              "RandomForestClassifier|Raw MinMaxScaler|Normali...  RandomForestClassifier   \n",
              "RandomForestClassifier|PCA MinMaxScaler|Standar...  RandomForestClassifier   \n",
              "RandomForestClassifier|Raw Normalizer|QuantileT...  RandomForestClassifier   \n",
              "RandomForestClassifier|PCA MinMaxScaler|            RandomForestClassifier   \n",
              "RandomForestClassifier|Raw Normalizer|StandardS...  RandomForestClassifier   \n",
              "RandomForestClassifier|PCA StandardScaler|Quant...  RandomForestClassifier   \n",
              "RandomForestClassifier|KPCA MinMaxScaler|Quanti...  RandomForestClassifier   \n",
              "RandomForestClassifier|Raw MinMaxScaler|PowerTr...  RandomForestClassifier   \n",
              "RandomForestClassifier|Raw PowerTransformer|Qua...  RandomForestClassifier   \n",
              "RandomForestClassifier|PCA StandardScaler|Power...  RandomForestClassifier   \n",
              "RandomForestClassifier|PCA StandardScaler|          RandomForestClassifier   \n",
              "RandomForestClassifier|KPCA MinMaxScaler|Normal...  RandomForestClassifier   \n",
              "RandomForestClassifier|KPCA MinMaxScaler|           RandomForestClassifier   \n",
              "RandomForestClassifier|KPCA QuantileTransformer|    RandomForestClassifier   \n",
              "RandomForestClassifier|PCA Normalizer|StandardS...  RandomForestClassifier   \n",
              "RandomForestClassifier|KPCA StandardScaler|         RandomForestClassifier   \n",
              "RandomForestClassifier|KPCA Normalizer|Standard...  RandomForestClassifier   \n",
              "RandomForestClassifier|KPCA MinMaxScaler|Standa...  RandomForestClassifier   \n",
              "RandomForestClassifier|KPCA MinMaxScaler|PowerT...  RandomForestClassifier   \n",
              "SVC|PCA MinMaxScaler|                                                  SVC   \n",
              "SVC|KPCA MinMaxScaler|                                                 SVC   \n",
              "SVC|ICA StandardScaler|PowerTransformer|                               SVC   \n",
              "SVC|ICA MinMaxScaler|StandardScaler|                                   SVC   \n",
              "\n",
              "                                                         std  \n",
              "AdaBoostClassifier|MDS MinMaxScaler|Normalizer|     0.004695  \n",
              "AdaBoostClassifier|Raw MinMaxScaler|                0.005896  \n",
              "AdaBoostClassifier|KPCA MinMaxScaler|Normalizer|    0.005943  \n",
              "AdaBoostClassifier|KPCA Normalizer|QuantileTran...  0.005999  \n",
              "AdaBoostClassifier|Raw StandardScaler|              0.006087  \n",
              "AdaBoostClassifier|Raw QuantileTransformer|         0.006122  \n",
              "AdaBoostClassifier|KPCA PowerTransformer|Quanti...  0.006122  \n",
              "AdaBoostClassifier|PCA MinMaxScaler|Normalizer|     0.006196  \n",
              "AdaBoostClassifier|PCA StandardScaler|QuantileT...  0.006231  \n",
              "AdaBoostClassifier|Raw MinMaxScaler|PowerTransf...  0.006385  \n",
              "AdaBoostClassifier|Raw Normalizer|QuantileTrans...  0.006396  \n",
              "AdaBoostClassifier|Raw PowerTransformer|Quantil...  0.006643  \n",
              "AdaBoostClassifier|Raw MinMaxScaler|StandardSca...  0.006673  \n",
              "AdaBoostClassifier|Raw MinMaxScaler|QuantileTra...  0.006795  \n",
              "AdaBoostClassifier|PCA MinMaxScaler|QuantileTra...  0.006825  \n",
              "AdaBoostClassifier|PCA MinMaxScaler|                0.007083  \n",
              "AdaBoostClassifier|Raw Normalizer|                  0.007155  \n",
              "AdaBoostClassifier|Raw PowerTransformer|            0.007160  \n",
              "AdaBoostClassifier|Raw StandardScaler|QuantileT...  0.007255  \n",
              "AdaBoostClassifier|Raw Normalizer|PowerTransfor...  0.007329  \n",
              "AdaBoostClassifier|PCA PowerTransformer|Quantil...  0.007650  \n",
              "AdaBoostClassifier|KPCA QuantileTransformer|        0.007873  \n",
              "AdaBoostClassifier|Raw MinMaxScaler|Normalizer|     0.008749  \n",
              "AdaBoostClassifier|PCA Normalizer|QuantileTrans...  0.009393  \n",
              "AdaBoostClassifier|Raw StandardScaler|PowerTran...  0.009449  \n",
              "AdaBoostClassifier|PCA StandardScaler|              0.009948  \n",
              "AdaBoostClassifier|PCA QuantileTransformer|         0.010159  \n",
              "AdaBoostClassifier|PCA MinMaxScaler|StandardSca...  0.011051  \n",
              "AdaBoostClassifier|PCA StandardScaler|PowerTran...  0.015239  \n",
              "AdaBoostClassifier|Raw Normalizer|StandardScaler|   0.020960  \n",
              "...                                                      ...  \n",
              "RandomForestClassifier|Raw Normalizer|PowerTran...  0.028892  \n",
              "RandomForestClassifier|Raw StandardScaler|Power...  0.028944  \n",
              "RandomForestClassifier|Raw MinMaxScaler|Standar...  0.029120  \n",
              "RandomForestClassifier|Raw StandardScaler|Quant...  0.029408  \n",
              "RandomForestClassifier|Raw MinMaxScaler|            0.029578  \n",
              "RandomForestClassifier|PCA PowerTransformer|Qua...  0.029777  \n",
              "RandomForestClassifier|PCA MinMaxScaler|Normali...  0.030106  \n",
              "RandomForestClassifier|Raw MinMaxScaler|Normali...  0.030140  \n",
              "RandomForestClassifier|PCA MinMaxScaler|Standar...  0.030150  \n",
              "RandomForestClassifier|Raw Normalizer|QuantileT...  0.030170  \n",
              "RandomForestClassifier|PCA MinMaxScaler|            0.030571  \n",
              "RandomForestClassifier|Raw Normalizer|StandardS...  0.031214  \n",
              "RandomForestClassifier|PCA StandardScaler|Quant...  0.031424  \n",
              "RandomForestClassifier|KPCA MinMaxScaler|Quanti...  0.031571  \n",
              "RandomForestClassifier|Raw MinMaxScaler|PowerTr...  0.031737  \n",
              "RandomForestClassifier|Raw PowerTransformer|Qua...  0.032307  \n",
              "RandomForestClassifier|PCA StandardScaler|Power...  0.033441  \n",
              "RandomForestClassifier|PCA StandardScaler|          0.034201  \n",
              "RandomForestClassifier|KPCA MinMaxScaler|Normal...  0.034951  \n",
              "RandomForestClassifier|KPCA MinMaxScaler|           0.036339  \n",
              "RandomForestClassifier|KPCA QuantileTransformer|    0.044326  \n",
              "RandomForestClassifier|PCA Normalizer|StandardS...  0.052481  \n",
              "RandomForestClassifier|KPCA StandardScaler|         0.053490  \n",
              "RandomForestClassifier|KPCA Normalizer|Standard...  0.059186  \n",
              "RandomForestClassifier|KPCA MinMaxScaler|Standa...  0.059970  \n",
              "RandomForestClassifier|KPCA MinMaxScaler|PowerT...  0.064761  \n",
              "SVC|PCA MinMaxScaler|                               0.006365  \n",
              "SVC|KPCA MinMaxScaler|                              0.006443  \n",
              "SVC|ICA StandardScaler|PowerTransformer|            0.007008  \n",
              "SVC|ICA MinMaxScaler|StandardScaler|                0.008928  \n",
              "\n",
              "[162 rows x 6 columns]"
            ]
          },
          "metadata": {
            "tags": []
          },
          "execution_count": 23
        }
      ]
    },
    {
      "metadata": {
        "colab_type": "text",
        "id": "TAZWwpZCEM6x"
      },
      "cell_type": "markdown",
      "source": [
        "## 6.3 Refine Redimensioning to Validate Model "
      ]
    },
    {
      "metadata": {
        "id": "4m1C0rdkEZjw",
        "colab_type": "code",
        "outputId": "a0e649cb-acb6-4f19-a518-7d0aba5ec3e8",
        "colab": {
          "base_uri": "https://localhost:8080/",
          "height": 80294
        }
      },
      "cell_type": "code",
      "source": [
        "manager = Manager()\n",
        "clfs3 = manager.dict()\n",
        "clfs_score3 = manager.dict()\n",
        "\n",
        "flatten = lambda l: [item for sublist in l for item in sublist]\n",
        "\n",
        "y_train = ActivePension_df.sample(n=5000, random_state=2)['IsPensionPaid'].as_matrix()\n",
        "X_train = ActivePension_df[x_cols2].sample(n=5000, random_state=2)\n",
        "\n",
        "X_train = X_train.astype(float)\n",
        "\n",
        "scaling_def = {'MinMaxScaler': MinMaxScaler(),\n",
        "               'QuantileTransformer_u':QuantileTransformer(output_distribution='uniform'),'QuantileTransformer_n':QuantileTransformer(output_distribution='normal'),\n",
        "               'StandardScalerMTST': StandardScaler(with_mean=True, with_std=True),'StandardScalerMTSF': StandardScaler(with_mean=True, with_std=False),'StandardScalerMFST': StandardScaler(with_mean=False, with_std=True),'StandardScalerMFSF': StandardScaler(with_mean=False, with_std=False),\n",
        "               'Normalizer_l2': Normalizer(norm='l2'), 'Normalizer_l1': Normalizer(norm='l1'),\n",
        "               'PowerTransformer_std':PowerTransformer(standardize=True),'PowerTransformer':PowerTransformer(standardize=False)\n",
        "              \n",
        "              }\n",
        "\n",
        "\n",
        "redemensioning_def = {'Raw':None,\n",
        "                      'PCA': PCA(n_components=0.99, svd_solver='full',whiten=False),'PCAW': PCA(n_components=0.99, svd_solver='full',whiten=True),\n",
        "                      'ICA_P': FastICA(n_components=len(X_train.columns), algorithm='parallel'),'ICA_D': FastICA(n_components=len(X_train.columns), algorithm='deflation'),\n",
        "                      'KPCA_rbf': KernelPCA(n_components=len(X_train.columns), kernel='rbf',n_jobs=-1),'KPCA_lin': KernelPCA(n_components=len(X_train.columns), kernel='linear',n_jobs=-1),'KPCA_pol': KernelPCA(n_components=len(X_train.columns), kernel='poly',n_jobs=-1),'KPCA_sigm': KernelPCA(n_components=len(X_train.columns), kernel='sigmoid',n_jobs=-1),'KPCA_cos': KernelPCA(n_components=len(X_train.columns), kernel='cosine',n_jobs=-1),\n",
        "                      'MDS_met': MDS(n_components=len(X_train.columns), metric=True, n_jobs=-1),'MDS': MDS(n_components=len(X_train.columns), metric=False, n_jobs=-1)\n",
        "                     }\n",
        "\n",
        "\n",
        "for clf in df_clfs_score.index.tolist():\n",
        "  for i in clf.split(' ')[1:]:\n",
        "    for j in i.split('|'):\n",
        "      if j != '':\n",
        "        scaling_def_temp = {s: scaling_def[s]  for s in scaling_def if j in s}\n",
        "        redemensioning_def_temp = {i: redemensioning_def[i] for i in flatten([i.split(' ') for i in clf.split('|')])[1:] if i in redemensioning_def}\n",
        "        for data in map(lambda x:Redimensioning2(x[1],x[0],redemensioning_def_temp), scaling(X_train,scaling_def_temp)):\n",
        "          for x in data:                  \n",
        "            #print(x[1])\n",
        "            #print(x[0])\n",
        "            p = Process(target=MLModelBuilding, args=(clf.split('|')[0], x[1], x[0], y_train, 0.3, clfs3,[0.9,0.1],clfs_score3))\n",
        "            #MLModelBuilding(clf.split('|')[0], x[1], x[0], y_train, 0.3, clfs3,[0.9,0.1],clfs_score3)\n",
        "            p.start()\n",
        "            p.join(180)\n",
        "            p.terminate()\n",
        "              "
      ],
      "execution_count": 24,
      "outputs": [
        {
          "output_type": "stream",
          "text": [
            "/usr/local/lib/python3.6/dist-packages/sklearn/ensemble/forest.py:246: FutureWarning: The default value of n_estimators will change from 10 in version 0.20 to 100 in 0.22.\n",
            "  \"10 in version 0.20 to 100 in 0.22.\", FutureWarning)\n"
          ],
          "name": "stderr"
        },
        {
          "output_type": "stream",
          "text": [
            "Train score: 0.9894285714285714\n",
            "Test score: 0.9406666666666667\n",
            "Test2 score: 0.9706666666666667\n",
            "RandomForestClassifier|Raw MinMaxScaler|\n",
            "\n",
            "Train score: 0.9445714285714286\n",
            "Test score: 0.9366666666666666\n",
            "Test2 score: 0.944\n",
            "GradientBoostingClassifier|Raw MinMaxScaler|\n",
            "\n",
            "best estimate parameters {'C': 0.5291466378476807, 'class_weight': '', 'fit_intercept': False, 'intercept_scaling': 0.009939277570796379, 'loss': 'hinge', 'max_iter': 87, 'tol': 0.9736301921902784}\n",
            "Train score: 0.9397142857142857\n",
            "Test score: 0.9406666666666667\n",
            "Test2 score: 0.9406666666666667\n",
            "LinearSVC|Raw MinMaxScaler|\n",
            "\n",
            "best estimate parameters {'C': 0.5809364371899274, 'intercept_scaling': 0.11976046044066235, 'max_iter': 85, 'solver': 'saga', 'tol': 0.6178361288585833}\n",
            "Train score: 0.9397142857142857\n",
            "Test score: 0.9406666666666667\n",
            "Test2 score: 0.9406666666666667\n",
            "LogisticRegression2|Raw MinMaxScaler|\n",
            "\n",
            "best estimate parameters {'learning_rate': 2.0323819474931994, 'n_estimators': 203}\n",
            "Train score: 0.9411428571428572\n",
            "Test score: 0.9406666666666667\n",
            "Test2 score: 0.9426666666666667\n",
            "AdaBoostClassifier|Raw MinMaxScaler|\n",
            "\n"
          ],
          "name": "stdout"
        },
        {
          "output_type": "stream",
          "text": [
            "/usr/local/lib/python3.6/dist-packages/sklearn/ensemble/forest.py:246: FutureWarning: The default value of n_estimators will change from 10 in version 0.20 to 100 in 0.22.\n",
            "  \"10 in version 0.20 to 100 in 0.22.\", FutureWarning)\n"
          ],
          "name": "stderr"
        },
        {
          "output_type": "stream",
          "text": [
            "Train score: 0.9897142857142858\n",
            "Test score: 0.94\n",
            "Test2 score: 0.9726666666666667\n",
            "RandomForestClassifier|PCA MinMaxScaler|\n",
            "\n",
            "Train score: 0.9442857142857143\n",
            "Test score: 0.9413333333333334\n",
            "Test2 score: 0.9433333333333334\n",
            "GradientBoostingClassifier|PCA MinMaxScaler|\n",
            "\n",
            "best estimate parameters {'C': 0.02270943032400552, 'class_weight': '', 'fit_intercept': False, 'intercept_scaling': 0.6544403038733598, 'loss': 'squared_hinge', 'max_iter': 62, 'tol': 0.42870669957202856}\n",
            "Train score: 0.9397142857142857\n",
            "Test score: 0.9406666666666667\n",
            "Test2 score: 0.9406666666666667\n",
            "LinearSVC|PCA MinMaxScaler|\n",
            "\n",
            "best estimate parameters {'C': 0.24158687301357062, 'intercept_scaling': 0.8852944170232928, 'max_iter': 78, 'solver': 'liblinear', 'tol': 0.4680698849845861}\n"
          ],
          "name": "stdout"
        },
        {
          "output_type": "stream",
          "text": [
            "/usr/local/lib/python3.6/dist-packages/sklearn/linear_model/logistic.py:1300: UserWarning: 'n_jobs' > 1 does not have any effect when 'solver' is set to 'liblinear'. Got 'n_jobs' = 2.\n",
            "  \" = {}.\".format(effective_n_jobs(self.n_jobs)))\n"
          ],
          "name": "stderr"
        },
        {
          "output_type": "stream",
          "text": [
            "Train score: 0.9397142857142857\n",
            "Test score: 0.9406666666666667\n",
            "Test2 score: 0.9406666666666667\n",
            "LogisticRegression2|PCA MinMaxScaler|\n",
            "\n",
            "best estimate parameters {'learning_rate': 2.5838868100480865, 'n_estimators': 127}\n",
            "Train score: 0.9397142857142857\n",
            "Test score: 0.9406666666666667\n",
            "Test2 score: 0.9406666666666667\n",
            "AdaBoostClassifier|PCA MinMaxScaler|\n",
            "\n",
            "best estimate parameters {'C': 0.5823316970581498, 'intercept_scaling': 0.3048696970880783, 'max_iter': 41, 'solver': 'sag', 'tol': 0.8748028361713556}\n",
            "LogisticRegression2|MDS MinMaxScaler|\n",
            "\n"
          ],
          "name": "stdout"
        },
        {
          "output_type": "stream",
          "text": [
            "/usr/local/lib/python3.6/dist-packages/sklearn/ensemble/forest.py:246: FutureWarning: The default value of n_estimators will change from 10 in version 0.20 to 100 in 0.22.\n",
            "  \"10 in version 0.20 to 100 in 0.22.\", FutureWarning)\n"
          ],
          "name": "stderr"
        },
        {
          "output_type": "stream",
          "text": [
            "Train score: 0.9882857142857143\n",
            "Test score: 0.9406666666666667\n",
            "Test2 score: 0.974\n",
            "RandomForestClassifier|Raw Normalizer_l2|\n",
            "\n"
          ],
          "name": "stdout"
        },
        {
          "output_type": "stream",
          "text": [
            "/usr/local/lib/python3.6/dist-packages/sklearn/ensemble/forest.py:246: FutureWarning: The default value of n_estimators will change from 10 in version 0.20 to 100 in 0.22.\n",
            "  \"10 in version 0.20 to 100 in 0.22.\", FutureWarning)\n"
          ],
          "name": "stderr"
        },
        {
          "output_type": "stream",
          "text": [
            "Train score: 0.9874285714285714\n",
            "Test score: 0.942\n",
            "Test2 score: 0.9733333333333334\n",
            "RandomForestClassifier|Raw Normalizer_l1|\n",
            "\n"
          ],
          "name": "stdout"
        },
        {
          "output_type": "stream",
          "text": [
            "/usr/local/lib/python3.6/dist-packages/sklearn/ensemble/forest.py:246: FutureWarning: The default value of n_estimators will change from 10 in version 0.20 to 100 in 0.22.\n",
            "  \"10 in version 0.20 to 100 in 0.22.\", FutureWarning)\n"
          ],
          "name": "stderr"
        },
        {
          "output_type": "stream",
          "text": [
            "Train score: 0.9874285714285714\n",
            "Test score: 0.942\n",
            "Test2 score: 0.9733333333333334\n",
            "RandomForestClassifier|Raw Normalizer_l2|Normalizer_l1|\n",
            "\n",
            "Train score: 0.9448571428571428\n",
            "Test score: 0.9413333333333334\n",
            "Test2 score: 0.946\n",
            "GradientBoostingClassifier|Raw Normalizer_l2|\n",
            "\n",
            "Train score: 0.9434285714285714\n",
            "Test score: 0.9386666666666666\n",
            "Test2 score: 0.9446666666666667\n",
            "GradientBoostingClassifier|Raw Normalizer_l1|\n",
            "\n",
            "Train score: 0.9434285714285714\n",
            "Test score: 0.9386666666666666\n",
            "Test2 score: 0.9446666666666667\n",
            "GradientBoostingClassifier|Raw Normalizer_l2|Normalizer_l1|\n",
            "\n",
            "best estimate parameters {'learning_rate': 1.4703516436498247, 'n_estimators': 10}\n",
            "Train score: 0.9397142857142857\n",
            "Test score: 0.9406666666666667\n",
            "Test2 score: 0.9406666666666667\n",
            "AdaBoostClassifier|Raw Normalizer_l2|\n",
            "\n",
            "best estimate parameters {'learning_rate': 1.1122721915311953, 'n_estimators': 7}\n",
            "Train score: 0.9397142857142857\n",
            "Test score: 0.9406666666666667\n",
            "Test2 score: 0.9406666666666667\n",
            "AdaBoostClassifier|Raw Normalizer_l1|\n",
            "\n",
            "best estimate parameters {'learning_rate': 1.2727901055059654, 'n_estimators': 27}\n",
            "Train score: 0.9408571428571428\n",
            "Test score: 0.9406666666666667\n",
            "Test2 score: 0.9426666666666667\n",
            "AdaBoostClassifier|Raw Normalizer_l2|Normalizer_l1|\n",
            "\n"
          ],
          "name": "stdout"
        },
        {
          "output_type": "stream",
          "text": [
            "/usr/local/lib/python3.6/dist-packages/sklearn/ensemble/forest.py:246: FutureWarning: The default value of n_estimators will change from 10 in version 0.20 to 100 in 0.22.\n",
            "  \"10 in version 0.20 to 100 in 0.22.\", FutureWarning)\n"
          ],
          "name": "stderr"
        },
        {
          "output_type": "stream",
          "text": [
            "Train score: 0.9888571428571429\n",
            "Test score: 0.944\n",
            "Test2 score: 0.9766666666666667\n",
            "RandomForestClassifier|Raw StandardScalerMTST|\n",
            "\n"
          ],
          "name": "stdout"
        },
        {
          "output_type": "stream",
          "text": [
            "/usr/local/lib/python3.6/dist-packages/sklearn/ensemble/forest.py:246: FutureWarning: The default value of n_estimators will change from 10 in version 0.20 to 100 in 0.22.\n",
            "  \"10 in version 0.20 to 100 in 0.22.\", FutureWarning)\n"
          ],
          "name": "stderr"
        },
        {
          "output_type": "stream",
          "text": [
            "Train score: 0.9888571428571429\n",
            "Test score: 0.944\n",
            "Test2 score: 0.9766666666666667\n",
            "RandomForestClassifier|Raw StandardScalerMTSF|\n",
            "\n"
          ],
          "name": "stdout"
        },
        {
          "output_type": "stream",
          "text": [
            "/usr/local/lib/python3.6/dist-packages/sklearn/ensemble/forest.py:246: FutureWarning: The default value of n_estimators will change from 10 in version 0.20 to 100 in 0.22.\n",
            "  \"10 in version 0.20 to 100 in 0.22.\", FutureWarning)\n"
          ],
          "name": "stderr"
        },
        {
          "output_type": "stream",
          "text": [
            "Train score: 0.9888571428571429\n",
            "Test score: 0.944\n",
            "Test2 score: 0.9766666666666667\n",
            "RandomForestClassifier|Raw StandardScalerMFST|\n",
            "\n"
          ],
          "name": "stdout"
        },
        {
          "output_type": "stream",
          "text": [
            "/usr/local/lib/python3.6/dist-packages/sklearn/ensemble/forest.py:246: FutureWarning: The default value of n_estimators will change from 10 in version 0.20 to 100 in 0.22.\n",
            "  \"10 in version 0.20 to 100 in 0.22.\", FutureWarning)\n"
          ],
          "name": "stderr"
        },
        {
          "output_type": "stream",
          "text": [
            "Train score: 0.9888571428571429\n",
            "Test score: 0.944\n",
            "Test2 score: 0.9766666666666667\n",
            "RandomForestClassifier|Raw StandardScalerMFSF|\n",
            "\n"
          ],
          "name": "stdout"
        },
        {
          "output_type": "stream",
          "text": [
            "/usr/local/lib/python3.6/dist-packages/sklearn/ensemble/forest.py:246: FutureWarning: The default value of n_estimators will change from 10 in version 0.20 to 100 in 0.22.\n",
            "  \"10 in version 0.20 to 100 in 0.22.\", FutureWarning)\n"
          ],
          "name": "stderr"
        },
        {
          "output_type": "stream",
          "text": [
            "Train score: 0.9888571428571429\n",
            "Test score: 0.944\n",
            "Test2 score: 0.9766666666666667\n",
            "RandomForestClassifier|Raw StandardScalerMTST|StandardScalerMTSF|\n",
            "\n"
          ],
          "name": "stdout"
        },
        {
          "output_type": "stream",
          "text": [
            "/usr/local/lib/python3.6/dist-packages/sklearn/ensemble/forest.py:246: FutureWarning: The default value of n_estimators will change from 10 in version 0.20 to 100 in 0.22.\n",
            "  \"10 in version 0.20 to 100 in 0.22.\", FutureWarning)\n"
          ],
          "name": "stderr"
        },
        {
          "output_type": "stream",
          "text": [
            "Train score: 0.9888571428571429\n",
            "Test score: 0.944\n",
            "Test2 score: 0.9766666666666667\n",
            "RandomForestClassifier|Raw StandardScalerMTST|StandardScalerMFST|\n",
            "\n"
          ],
          "name": "stdout"
        },
        {
          "output_type": "stream",
          "text": [
            "/usr/local/lib/python3.6/dist-packages/sklearn/ensemble/forest.py:246: FutureWarning: The default value of n_estimators will change from 10 in version 0.20 to 100 in 0.22.\n",
            "  \"10 in version 0.20 to 100 in 0.22.\", FutureWarning)\n"
          ],
          "name": "stderr"
        },
        {
          "output_type": "stream",
          "text": [
            "Train score: 0.9888571428571429\n",
            "Test score: 0.944\n",
            "Test2 score: 0.9766666666666667\n",
            "RandomForestClassifier|Raw StandardScalerMTST|StandardScalerMFSF|\n",
            "\n"
          ],
          "name": "stdout"
        },
        {
          "output_type": "stream",
          "text": [
            "/usr/local/lib/python3.6/dist-packages/sklearn/ensemble/forest.py:246: FutureWarning: The default value of n_estimators will change from 10 in version 0.20 to 100 in 0.22.\n",
            "  \"10 in version 0.20 to 100 in 0.22.\", FutureWarning)\n"
          ],
          "name": "stderr"
        },
        {
          "output_type": "stream",
          "text": [
            "Train score: 0.9888571428571429\n",
            "Test score: 0.944\n",
            "Test2 score: 0.9766666666666667\n",
            "RandomForestClassifier|Raw StandardScalerMTSF|StandardScalerMFST|\n",
            "\n"
          ],
          "name": "stdout"
        },
        {
          "output_type": "stream",
          "text": [
            "/usr/local/lib/python3.6/dist-packages/sklearn/ensemble/forest.py:246: FutureWarning: The default value of n_estimators will change from 10 in version 0.20 to 100 in 0.22.\n",
            "  \"10 in version 0.20 to 100 in 0.22.\", FutureWarning)\n"
          ],
          "name": "stderr"
        },
        {
          "output_type": "stream",
          "text": [
            "Train score: 0.9888571428571429\n",
            "Test score: 0.944\n",
            "Test2 score: 0.9766666666666667\n",
            "RandomForestClassifier|Raw StandardScalerMTSF|StandardScalerMFSF|\n",
            "\n"
          ],
          "name": "stdout"
        },
        {
          "output_type": "stream",
          "text": [
            "/usr/local/lib/python3.6/dist-packages/sklearn/ensemble/forest.py:246: FutureWarning: The default value of n_estimators will change from 10 in version 0.20 to 100 in 0.22.\n",
            "  \"10 in version 0.20 to 100 in 0.22.\", FutureWarning)\n"
          ],
          "name": "stderr"
        },
        {
          "output_type": "stream",
          "text": [
            "Train score: 0.9888571428571429\n",
            "Test score: 0.944\n",
            "Test2 score: 0.9766666666666667\n",
            "RandomForestClassifier|Raw StandardScalerMFST|StandardScalerMFSF|\n",
            "\n",
            "Train score: 0.9442857142857143\n",
            "Test score: 0.94\n",
            "Test2 score: 0.9453333333333334\n",
            "GradientBoostingClassifier|Raw StandardScalerMTST|\n",
            "\n",
            "Train score: 0.9442857142857143\n",
            "Test score: 0.94\n",
            "Test2 score: 0.9453333333333334\n",
            "GradientBoostingClassifier|Raw StandardScalerMTSF|\n",
            "\n",
            "Train score: 0.9442857142857143\n",
            "Test score: 0.94\n",
            "Test2 score: 0.9453333333333334\n",
            "GradientBoostingClassifier|Raw StandardScalerMFST|\n",
            "\n",
            "Train score: 0.9442857142857143\n",
            "Test score: 0.94\n",
            "Test2 score: 0.9453333333333334\n",
            "GradientBoostingClassifier|Raw StandardScalerMFSF|\n",
            "\n",
            "Train score: 0.9442857142857143\n",
            "Test score: 0.94\n",
            "Test2 score: 0.9453333333333334\n",
            "GradientBoostingClassifier|Raw StandardScalerMTST|StandardScalerMTSF|\n",
            "\n",
            "Train score: 0.9442857142857143\n",
            "Test score: 0.94\n",
            "Test2 score: 0.9453333333333334\n",
            "GradientBoostingClassifier|Raw StandardScalerMTST|StandardScalerMFST|\n",
            "\n",
            "Train score: 0.9442857142857143\n",
            "Test score: 0.94\n",
            "Test2 score: 0.9453333333333334\n",
            "GradientBoostingClassifier|Raw StandardScalerMTST|StandardScalerMFSF|\n",
            "\n",
            "Train score: 0.9442857142857143\n",
            "Test score: 0.94\n",
            "Test2 score: 0.9453333333333334\n",
            "GradientBoostingClassifier|Raw StandardScalerMTSF|StandardScalerMFST|\n",
            "\n",
            "Train score: 0.9442857142857143\n",
            "Test score: 0.94\n",
            "Test2 score: 0.9453333333333334\n",
            "GradientBoostingClassifier|Raw StandardScalerMTSF|StandardScalerMFSF|\n",
            "\n",
            "Train score: 0.9442857142857143\n",
            "Test score: 0.94\n",
            "Test2 score: 0.9453333333333334\n",
            "GradientBoostingClassifier|Raw StandardScalerMFST|StandardScalerMFSF|\n",
            "\n",
            "best estimate parameters {'C': 0.4794588711170793, 'intercept_scaling': 0.18362709045504644, 'max_iter': 40, 'solver': 'liblinear', 'tol': 0.6937908718241008}\n"
          ],
          "name": "stdout"
        },
        {
          "output_type": "stream",
          "text": [
            "/usr/local/lib/python3.6/dist-packages/sklearn/linear_model/logistic.py:1300: UserWarning: 'n_jobs' > 1 does not have any effect when 'solver' is set to 'liblinear'. Got 'n_jobs' = 2.\n",
            "  \" = {}.\".format(effective_n_jobs(self.n_jobs)))\n"
          ],
          "name": "stderr"
        },
        {
          "output_type": "stream",
          "text": [
            "Train score: 0.9388571428571428\n",
            "Test score: 0.9406666666666667\n",
            "Test2 score: 0.9393333333333334\n",
            "LogisticRegression2|Raw StandardScalerMTST|\n",
            "\n",
            "best estimate parameters {'C': 0.9975976154978509, 'intercept_scaling': 0.33621717141692353, 'max_iter': 64, 'solver': 'newton-cg', 'tol': 0.14633412077324126}\n"
          ],
          "name": "stdout"
        },
        {
          "output_type": "stream",
          "text": [
            "/usr/local/lib/python3.6/dist-packages/sklearn/utils/optimize.py:203: ConvergenceWarning: newton-cg failed to converge. Increase the number of iterations.\n",
            "  \"number of iterations.\", ConvergenceWarning)\n"
          ],
          "name": "stderr"
        },
        {
          "output_type": "stream",
          "text": [
            "Train score: 0.9397142857142857\n",
            "Test score: 0.9406666666666667\n",
            "Test2 score: 0.9406666666666667\n",
            "LogisticRegression2|Raw StandardScalerMTSF|\n",
            "\n",
            "best estimate parameters {'C': 0.7824465054357512, 'intercept_scaling': 0.42774587420554, 'max_iter': 61, 'solver': 'newton-cg', 'tol': 0.12193477805387964}\n",
            "Train score: 0.9397142857142857\n",
            "Test score: 0.9406666666666667\n",
            "Test2 score: 0.9406666666666667\n",
            "LogisticRegression2|Raw StandardScalerMFST|\n",
            "\n",
            "best estimate parameters {'C': 0.12276042869792803, 'intercept_scaling': 0.14942899784144548, 'max_iter': 77, 'solver': 'newton-cg', 'tol': 0.9462415958565177}\n"
          ],
          "name": "stdout"
        },
        {
          "output_type": "stream",
          "text": [
            "/usr/local/lib/python3.6/dist-packages/sklearn/utils/optimize.py:203: ConvergenceWarning: newton-cg failed to converge. Increase the number of iterations.\n",
            "  \"number of iterations.\", ConvergenceWarning)\n"
          ],
          "name": "stderr"
        },
        {
          "output_type": "stream",
          "text": [
            "Train score: 0.9397142857142857\n",
            "Test score: 0.9406666666666667\n",
            "Test2 score: 0.9406666666666667\n",
            "LogisticRegression2|Raw StandardScalerMFSF|\n",
            "\n",
            "best estimate parameters {'C': 0.2690448834980663, 'intercept_scaling': 0.20918432235444262, 'max_iter': 11, 'solver': 'sag', 'tol': 0.31954489133191}\n",
            "Train score: 0.9397142857142857\n",
            "Test score: 0.9406666666666667\n",
            "Test2 score: 0.9406666666666667\n",
            "LogisticRegression2|Raw StandardScalerMTST|StandardScalerMTSF|\n",
            "\n",
            "best estimate parameters {'C': 0.9218399097506508, 'intercept_scaling': 0.7003461419249009, 'max_iter': 26, 'solver': 'sag', 'tol': 0.7419108466040966}\n",
            "Train score: 0.9397142857142857\n",
            "Test score: 0.9406666666666667\n",
            "Test2 score: 0.9406666666666667\n",
            "LogisticRegression2|Raw StandardScalerMTST|StandardScalerMFST|\n",
            "\n",
            "best estimate parameters {'C': 0.9486348932634922, 'intercept_scaling': 0.24537114492587075, 'max_iter': 64, 'solver': 'saga', 'tol': 0.37634243334745354}\n",
            "Train score: 0.9397142857142857\n",
            "Test score: 0.9406666666666667\n",
            "Test2 score: 0.9406666666666667\n",
            "LogisticRegression2|Raw StandardScalerMTST|StandardScalerMFSF|\n",
            "\n",
            "best estimate parameters {'C': 0.1709423537504493, 'intercept_scaling': 0.014813938374869329, 'max_iter': 35, 'solver': 'newton-cg', 'tol': 0.49215547743952304}\n",
            "Train score: 0.9397142857142857\n",
            "Test score: 0.9406666666666667\n",
            "Test2 score: 0.9406666666666667\n",
            "LogisticRegression2|Raw StandardScalerMTSF|StandardScalerMFST|\n",
            "\n",
            "best estimate parameters {'C': 0.4217477888762309, 'intercept_scaling': 0.8638974947316872, 'max_iter': 90, 'solver': 'newton-cg', 'tol': 0.7954520452992818}\n"
          ],
          "name": "stdout"
        },
        {
          "output_type": "stream",
          "text": [
            "/usr/local/lib/python3.6/dist-packages/sklearn/utils/optimize.py:203: ConvergenceWarning: newton-cg failed to converge. Increase the number of iterations.\n",
            "  \"number of iterations.\", ConvergenceWarning)\n"
          ],
          "name": "stderr"
        },
        {
          "output_type": "stream",
          "text": [
            "Train score: 0.9397142857142857\n",
            "Test score: 0.9406666666666667\n",
            "Test2 score: 0.9406666666666667\n",
            "LogisticRegression2|Raw StandardScalerMTSF|StandardScalerMFSF|\n",
            "\n",
            "best estimate parameters {'C': 0.7163845938046866, 'intercept_scaling': 0.3750423832978652, 'max_iter': 35, 'solver': 'newton-cg', 'tol': 0.8574990208906051}\n",
            "Train score: 0.9397142857142857\n",
            "Test score: 0.9406666666666667\n",
            "Test2 score: 0.9406666666666667\n",
            "LogisticRegression2|Raw StandardScalerMFST|StandardScalerMFSF|\n",
            "\n",
            "best estimate parameters {'C': 0.5562111721568229, 'class_weight': 'balanced', 'fit_intercept': False, 'intercept_scaling': 0.3196125632773513, 'loss': 'hinge', 'max_iter': 94, 'tol': 0.382464269098193}\n",
            "Train score: 0.9397142857142857\n",
            "Test score: 0.9406666666666667\n",
            "Test2 score: 0.9406666666666667\n",
            "LinearSVC|Raw StandardScalerMTST|\n",
            "\n",
            "best estimate parameters {'C': 0.08719700624165072, 'class_weight': '', 'fit_intercept': True, 'intercept_scaling': 0.08665580924961336, 'loss': 'squared_hinge', 'max_iter': 30, 'tol': 0.20152774510961635}\n"
          ],
          "name": "stdout"
        },
        {
          "output_type": "stream",
          "text": [
            "/usr/local/lib/python3.6/dist-packages/sklearn/svm/base.py:931: ConvergenceWarning: Liblinear failed to converge, increase the number of iterations.\n",
            "  \"the number of iterations.\", ConvergenceWarning)\n"
          ],
          "name": "stderr"
        },
        {
          "output_type": "stream",
          "text": [
            "LinearSVC|Raw StandardScalerMTSF|\n",
            "\n",
            "best estimate parameters {'C': 0.614314087200221, 'class_weight': 'balanced', 'fit_intercept': True, 'intercept_scaling': 0.3685527964107572, 'loss': 'squared_hinge', 'max_iter': 63, 'tol': 0.43492527562151717}\n"
          ],
          "name": "stdout"
        },
        {
          "output_type": "stream",
          "text": [
            "/usr/local/lib/python3.6/dist-packages/sklearn/svm/base.py:931: ConvergenceWarning: Liblinear failed to converge, increase the number of iterations.\n",
            "  \"the number of iterations.\", ConvergenceWarning)\n"
          ],
          "name": "stderr"
        },
        {
          "output_type": "stream",
          "text": [
            "Train score: 0.9397142857142857\n",
            "Test score: 0.9406666666666667\n",
            "Test2 score: 0.9406666666666667\n",
            "LinearSVC|Raw StandardScalerMFST|\n",
            "\n",
            "best estimate parameters {'C': 0.5761958361199001, 'class_weight': 'balanced', 'fit_intercept': True, 'intercept_scaling': 0.18415475162540926, 'loss': 'squared_hinge', 'max_iter': 94, 'tol': 0.4607091565930378}\n"
          ],
          "name": "stdout"
        },
        {
          "output_type": "stream",
          "text": [
            "/usr/local/lib/python3.6/dist-packages/sklearn/svm/base.py:931: ConvergenceWarning: Liblinear failed to converge, increase the number of iterations.\n",
            "  \"the number of iterations.\", ConvergenceWarning)\n"
          ],
          "name": "stderr"
        },
        {
          "output_type": "stream",
          "text": [
            "LinearSVC|Raw StandardScalerMFSF|\n",
            "\n",
            "best estimate parameters {'C': 0.32505390813976676, 'class_weight': 'balanced', 'fit_intercept': False, 'intercept_scaling': 0.5272895086349216, 'loss': 'hinge', 'max_iter': 53, 'tol': 0.10092198659136609}\n",
            "Train score: 0.9397142857142857\n",
            "Test score: 0.9406666666666667\n",
            "Test2 score: 0.9406666666666667\n",
            "LinearSVC|Raw StandardScalerMTST|StandardScalerMTSF|\n",
            "\n",
            "best estimate parameters {'C': 0.10348792727999323, 'class_weight': '', 'fit_intercept': True, 'intercept_scaling': 0.9159337187106958, 'loss': 'squared_hinge', 'max_iter': 73, 'tol': 0.9518514226323241}\n",
            "Train score: 0.9397142857142857\n",
            "Test score: 0.9406666666666667\n",
            "Test2 score: 0.9406666666666667\n",
            "LinearSVC|Raw StandardScalerMTST|StandardScalerMFST|\n",
            "\n",
            "best estimate parameters {'C': 0.2179543401105799, 'class_weight': '', 'fit_intercept': False, 'intercept_scaling': 0.0026158219715373132, 'loss': 'hinge', 'max_iter': 32, 'tol': 0.25191787951403055}\n",
            "Train score: 0.9397142857142857\n",
            "Test score: 0.9406666666666667\n",
            "Test2 score: 0.9406666666666667\n",
            "LinearSVC|Raw StandardScalerMTST|StandardScalerMFSF|\n",
            "\n",
            "best estimate parameters {'C': 0.8000848655281605, 'class_weight': '', 'fit_intercept': False, 'intercept_scaling': 0.7533146979994362, 'loss': 'hinge', 'max_iter': 89, 'tol': 0.9225111771907794}\n",
            "Train score: 0.9397142857142857\n",
            "Test score: 0.9406666666666667\n",
            "Test2 score: 0.9406666666666667\n",
            "LinearSVC|Raw StandardScalerMTSF|StandardScalerMFST|\n",
            "\n",
            "best estimate parameters {'C': 0.9995935737985447, 'class_weight': 'balanced', 'fit_intercept': False, 'intercept_scaling': 0.2914853988474534, 'loss': 'hinge', 'max_iter': 30, 'tol': 0.4299405074386224}\n"
          ],
          "name": "stdout"
        },
        {
          "output_type": "stream",
          "text": [
            "/usr/local/lib/python3.6/dist-packages/sklearn/svm/base.py:931: ConvergenceWarning: Liblinear failed to converge, increase the number of iterations.\n",
            "  \"the number of iterations.\", ConvergenceWarning)\n"
          ],
          "name": "stderr"
        },
        {
          "output_type": "stream",
          "text": [
            "LinearSVC|Raw StandardScalerMTSF|StandardScalerMFSF|\n",
            "\n",
            "best estimate parameters {'C': 0.45703885476677153, 'class_weight': 'balanced', 'fit_intercept': False, 'intercept_scaling': 0.26404518642417707, 'loss': 'hinge', 'max_iter': 30, 'tol': 0.2987414607830493}\n"
          ],
          "name": "stdout"
        },
        {
          "output_type": "stream",
          "text": [
            "/usr/local/lib/python3.6/dist-packages/sklearn/svm/base.py:931: ConvergenceWarning: Liblinear failed to converge, increase the number of iterations.\n",
            "  \"the number of iterations.\", ConvergenceWarning)\n"
          ],
          "name": "stderr"
        },
        {
          "output_type": "stream",
          "text": [
            "Train score: 0.9397142857142857\n",
            "Test score: 0.9406666666666667\n",
            "Test2 score: 0.9406666666666667\n",
            "LinearSVC|Raw StandardScalerMFST|StandardScalerMFSF|\n",
            "\n",
            "best estimate parameters {'learning_rate': 1.0674394047438618, 'n_estimators': 198}\n",
            "Train score: 0.942\n",
            "Test score: 0.9406666666666667\n",
            "Test2 score: 0.9433333333333334\n",
            "AdaBoostClassifier|Raw StandardScalerMTST|\n",
            "\n",
            "best estimate parameters {'learning_rate': 1.0109134540318236, 'n_estimators': 241}\n",
            "Train score: 0.9428571428571428\n",
            "Test score: 0.9413333333333334\n",
            "Test2 score: 0.9446666666666667\n",
            "AdaBoostClassifier|Raw StandardScalerMTSF|\n",
            "\n",
            "best estimate parameters {'learning_rate': 1.2537460251811618, 'n_estimators': 43}\n",
            "Train score: 0.9408571428571428\n",
            "Test score: 0.9406666666666667\n",
            "Test2 score: 0.9426666666666667\n",
            "AdaBoostClassifier|Raw StandardScalerMFST|\n",
            "\n",
            "best estimate parameters {'learning_rate': 1.0703435854946886, 'n_estimators': 141}\n",
            "Train score: 0.9417142857142857\n",
            "Test score: 0.942\n",
            "Test2 score: 0.944\n",
            "AdaBoostClassifier|Raw StandardScalerMFSF|\n",
            "\n",
            "best estimate parameters {'learning_rate': 1.056394881628881, 'n_estimators': 208}\n",
            "Train score: 0.9428571428571428\n",
            "Test score: 0.9413333333333334\n",
            "Test2 score: 0.9446666666666667\n",
            "AdaBoostClassifier|Raw StandardScalerMTST|StandardScalerMTSF|\n",
            "\n",
            "best estimate parameters {'learning_rate': 1.047934761399747, 'n_estimators': 257}\n",
            "Train score: 0.9425714285714286\n",
            "Test score: 0.942\n",
            "Test2 score: 0.9446666666666667\n",
            "AdaBoostClassifier|Raw StandardScalerMTST|StandardScalerMFST|\n",
            "\n",
            "best estimate parameters {'learning_rate': 1.089009553408306, 'n_estimators': 162}\n",
            "Train score: 0.9411428571428572\n",
            "Test score: 0.9406666666666667\n",
            "Test2 score: 0.9433333333333334\n",
            "AdaBoostClassifier|Raw StandardScalerMTST|StandardScalerMFSF|\n",
            "\n",
            "best estimate parameters {'learning_rate': 1.0729154252499007, 'n_estimators': 249}\n",
            "Train score: 0.9417142857142857\n",
            "Test score: 0.9413333333333334\n",
            "Test2 score: 0.944\n",
            "AdaBoostClassifier|Raw StandardScalerMTSF|StandardScalerMFST|\n",
            "\n",
            "best estimate parameters {'learning_rate': 1.5205921068863808, 'n_estimators': 91}\n",
            "Train score: 0.9422857142857143\n",
            "Test score: 0.9406666666666667\n",
            "Test2 score: 0.944\n",
            "AdaBoostClassifier|Raw StandardScalerMTSF|StandardScalerMFSF|\n",
            "\n",
            "best estimate parameters {'learning_rate': 1.304085185658669, 'n_estimators': 68}\n",
            "Train score: 0.9414285714285714\n",
            "Test score: 0.9413333333333334\n",
            "Test2 score: 0.944\n",
            "AdaBoostClassifier|Raw StandardScalerMFST|StandardScalerMFSF|\n",
            "\n"
          ],
          "name": "stdout"
        },
        {
          "output_type": "stream",
          "text": [
            "/usr/local/lib/python3.6/dist-packages/sklearn/ensemble/forest.py:246: FutureWarning: The default value of n_estimators will change from 10 in version 0.20 to 100 in 0.22.\n",
            "  \"10 in version 0.20 to 100 in 0.22.\", FutureWarning)\n"
          ],
          "name": "stderr"
        },
        {
          "output_type": "stream",
          "text": [
            "Train score: 0.9905714285714285\n",
            "Test score: 0.942\n",
            "Test2 score: 0.9773333333333334\n",
            "RandomForestClassifier|PCA StandardScalerMTST|\n",
            "\n"
          ],
          "name": "stdout"
        },
        {
          "output_type": "stream",
          "text": [
            "/usr/local/lib/python3.6/dist-packages/sklearn/ensemble/forest.py:246: FutureWarning: The default value of n_estimators will change from 10 in version 0.20 to 100 in 0.22.\n",
            "  \"10 in version 0.20 to 100 in 0.22.\", FutureWarning)\n"
          ],
          "name": "stderr"
        },
        {
          "output_type": "stream",
          "text": [
            "RandomForestClassifier|PCA StandardScalerMTSF|\n",
            "\n"
          ],
          "name": "stdout"
        },
        {
          "output_type": "stream",
          "text": [
            "/usr/local/lib/python3.6/dist-packages/sklearn/ensemble/forest.py:246: FutureWarning: The default value of n_estimators will change from 10 in version 0.20 to 100 in 0.22.\n",
            "  \"10 in version 0.20 to 100 in 0.22.\", FutureWarning)\n"
          ],
          "name": "stderr"
        },
        {
          "output_type": "stream",
          "text": [
            "Train score: 0.9905714285714285\n",
            "Test score: 0.942\n",
            "Test2 score: 0.9773333333333334\n",
            "RandomForestClassifier|PCA StandardScalerMFST|\n",
            "\n"
          ],
          "name": "stdout"
        },
        {
          "output_type": "stream",
          "text": [
            "/usr/local/lib/python3.6/dist-packages/sklearn/ensemble/forest.py:246: FutureWarning: The default value of n_estimators will change from 10 in version 0.20 to 100 in 0.22.\n",
            "  \"10 in version 0.20 to 100 in 0.22.\", FutureWarning)\n"
          ],
          "name": "stderr"
        },
        {
          "output_type": "stream",
          "text": [
            "RandomForestClassifier|PCA StandardScalerMFSF|\n",
            "\n"
          ],
          "name": "stdout"
        },
        {
          "output_type": "stream",
          "text": [
            "/usr/local/lib/python3.6/dist-packages/sklearn/ensemble/forest.py:246: FutureWarning: The default value of n_estimators will change from 10 in version 0.20 to 100 in 0.22.\n",
            "  \"10 in version 0.20 to 100 in 0.22.\", FutureWarning)\n"
          ],
          "name": "stderr"
        },
        {
          "output_type": "stream",
          "text": [
            "Train score: 0.9905714285714285\n",
            "Test score: 0.942\n",
            "Test2 score: 0.9773333333333334\n",
            "RandomForestClassifier|PCA StandardScalerMTST|StandardScalerMTSF|\n",
            "\n"
          ],
          "name": "stdout"
        },
        {
          "output_type": "stream",
          "text": [
            "/usr/local/lib/python3.6/dist-packages/sklearn/ensemble/forest.py:246: FutureWarning: The default value of n_estimators will change from 10 in version 0.20 to 100 in 0.22.\n",
            "  \"10 in version 0.20 to 100 in 0.22.\", FutureWarning)\n"
          ],
          "name": "stderr"
        },
        {
          "output_type": "stream",
          "text": [
            "Train score: 0.9905714285714285\n",
            "Test score: 0.942\n",
            "Test2 score: 0.9773333333333334\n",
            "RandomForestClassifier|PCA StandardScalerMTST|StandardScalerMFST|\n",
            "\n"
          ],
          "name": "stdout"
        },
        {
          "output_type": "stream",
          "text": [
            "/usr/local/lib/python3.6/dist-packages/sklearn/ensemble/forest.py:246: FutureWarning: The default value of n_estimators will change from 10 in version 0.20 to 100 in 0.22.\n",
            "  \"10 in version 0.20 to 100 in 0.22.\", FutureWarning)\n"
          ],
          "name": "stderr"
        },
        {
          "output_type": "stream",
          "text": [
            "Train score: 0.9905714285714285\n",
            "Test score: 0.942\n",
            "Test2 score: 0.9773333333333334\n",
            "RandomForestClassifier|PCA StandardScalerMTST|StandardScalerMFSF|\n",
            "\n"
          ],
          "name": "stdout"
        },
        {
          "output_type": "stream",
          "text": [
            "/usr/local/lib/python3.6/dist-packages/sklearn/ensemble/forest.py:246: FutureWarning: The default value of n_estimators will change from 10 in version 0.20 to 100 in 0.22.\n",
            "  \"10 in version 0.20 to 100 in 0.22.\", FutureWarning)\n"
          ],
          "name": "stderr"
        },
        {
          "output_type": "stream",
          "text": [
            "Train score: 0.9905714285714285\n",
            "Test score: 0.942\n",
            "Test2 score: 0.9773333333333334\n",
            "RandomForestClassifier|PCA StandardScalerMTSF|StandardScalerMFST|\n",
            "\n"
          ],
          "name": "stdout"
        },
        {
          "output_type": "stream",
          "text": [
            "/usr/local/lib/python3.6/dist-packages/sklearn/ensemble/forest.py:246: FutureWarning: The default value of n_estimators will change from 10 in version 0.20 to 100 in 0.22.\n",
            "  \"10 in version 0.20 to 100 in 0.22.\", FutureWarning)\n"
          ],
          "name": "stderr"
        },
        {
          "output_type": "stream",
          "text": [
            "RandomForestClassifier|PCA StandardScalerMTSF|StandardScalerMFSF|\n",
            "\n"
          ],
          "name": "stdout"
        },
        {
          "output_type": "stream",
          "text": [
            "/usr/local/lib/python3.6/dist-packages/sklearn/ensemble/forest.py:246: FutureWarning: The default value of n_estimators will change from 10 in version 0.20 to 100 in 0.22.\n",
            "  \"10 in version 0.20 to 100 in 0.22.\", FutureWarning)\n"
          ],
          "name": "stderr"
        },
        {
          "output_type": "stream",
          "text": [
            "Train score: 0.9905714285714285\n",
            "Test score: 0.942\n",
            "Test2 score: 0.9773333333333334\n",
            "RandomForestClassifier|PCA StandardScalerMFST|StandardScalerMFSF|\n",
            "\n",
            "Train score: 0.9445714285714286\n",
            "Test score: 0.9366666666666666\n",
            "Test2 score: 0.9446666666666667\n",
            "GradientBoostingClassifier|PCA StandardScalerMTST|\n",
            "\n",
            "GradientBoostingClassifier|PCA StandardScalerMTSF|\n",
            "\n",
            "Train score: 0.9445714285714286\n",
            "Test score: 0.9366666666666666\n",
            "Test2 score: 0.9446666666666667\n",
            "GradientBoostingClassifier|PCA StandardScalerMFST|\n",
            "\n",
            "GradientBoostingClassifier|PCA StandardScalerMFSF|\n",
            "\n",
            "Train score: 0.9445714285714286\n",
            "Test score: 0.9366666666666666\n",
            "Test2 score: 0.9446666666666667\n",
            "GradientBoostingClassifier|PCA StandardScalerMTST|StandardScalerMTSF|\n",
            "\n",
            "Train score: 0.9445714285714286\n",
            "Test score: 0.9366666666666666\n",
            "Test2 score: 0.9446666666666667\n",
            "GradientBoostingClassifier|PCA StandardScalerMTST|StandardScalerMFST|\n",
            "\n",
            "Train score: 0.9445714285714286\n",
            "Test score: 0.9366666666666666\n",
            "Test2 score: 0.9446666666666667\n",
            "GradientBoostingClassifier|PCA StandardScalerMTST|StandardScalerMFSF|\n",
            "\n",
            "Train score: 0.9445714285714286\n",
            "Test score: 0.9366666666666666\n",
            "Test2 score: 0.9446666666666667\n",
            "GradientBoostingClassifier|PCA StandardScalerMTSF|StandardScalerMFST|\n",
            "\n",
            "GradientBoostingClassifier|PCA StandardScalerMTSF|StandardScalerMFSF|\n",
            "\n",
            "Train score: 0.9445714285714286\n",
            "Test score: 0.9366666666666666\n",
            "Test2 score: 0.9446666666666667\n",
            "GradientBoostingClassifier|PCA StandardScalerMFST|StandardScalerMFSF|\n",
            "\n",
            "best estimate parameters {'learning_rate': 1.0606515991542396, 'n_estimators': 61}\n",
            "Train score: 0.9414285714285714\n",
            "Test score: 0.9366666666666666\n",
            "Test2 score: 0.942\n",
            "AdaBoostClassifier|PCA StandardScalerMTST|\n",
            "\n",
            "best estimate parameters {'learning_rate': 1.0081368561523867, 'n_estimators': 206}\n",
            "AdaBoostClassifier|PCA StandardScalerMTSF|\n",
            "\n",
            "best estimate parameters {'learning_rate': 1.2072030223894594, 'n_estimators': 150}\n",
            "Train score: 0.9425714285714286\n",
            "Test score: 0.936\n",
            "Test2 score: 0.94\n",
            "AdaBoostClassifier|PCA StandardScalerMFST|\n",
            "\n",
            "best estimate parameters {'learning_rate': 1.9947902517921885, 'n_estimators': 183}\n",
            "AdaBoostClassifier|PCA StandardScalerMFSF|\n",
            "\n",
            "best estimate parameters {'learning_rate': 1.0610659640481763, 'n_estimators': 148}\n",
            "Train score: 0.944\n",
            "Test score: 0.9366666666666666\n",
            "Test2 score: 0.9426666666666667\n",
            "AdaBoostClassifier|PCA StandardScalerMTST|StandardScalerMTSF|\n",
            "\n",
            "best estimate parameters {'learning_rate': 1.0235294229280634, 'n_estimators': 70}\n",
            "Train score: 0.9411428571428572\n",
            "Test score: 0.9373333333333334\n",
            "Test2 score: 0.94\n",
            "AdaBoostClassifier|PCA StandardScalerMTST|StandardScalerMFST|\n",
            "\n",
            "best estimate parameters {'learning_rate': 1.0366714108519033, 'n_estimators': 34}\n",
            "Train score: 0.9374285714285714\n",
            "Test score: 0.938\n",
            "Test2 score: 0.9386666666666666\n",
            "AdaBoostClassifier|PCA StandardScalerMTST|StandardScalerMFSF|\n",
            "\n",
            "best estimate parameters {'learning_rate': 1.1388388950992492, 'n_estimators': 30}\n",
            "Train score: 0.9382857142857143\n",
            "Test score: 0.936\n",
            "Test2 score: 0.9393333333333334\n",
            "AdaBoostClassifier|PCA StandardScalerMTSF|StandardScalerMFST|\n",
            "\n",
            "best estimate parameters {'learning_rate': 1.3855810402020596, 'n_estimators': 187}\n",
            "AdaBoostClassifier|PCA StandardScalerMTSF|StandardScalerMFSF|\n",
            "\n",
            "best estimate parameters {'learning_rate': 1.027120615250048, 'n_estimators': 15}\n",
            "Train score: 0.9385714285714286\n",
            "Test score: 0.936\n",
            "Test2 score: 0.9406666666666667\n",
            "AdaBoostClassifier|PCA StandardScalerMFST|StandardScalerMFSF|\n",
            "\n"
          ],
          "name": "stdout"
        },
        {
          "output_type": "stream",
          "text": [
            "/usr/local/lib/python3.6/dist-packages/sklearn/ensemble/forest.py:246: FutureWarning: The default value of n_estimators will change from 10 in version 0.20 to 100 in 0.22.\n",
            "  \"10 in version 0.20 to 100 in 0.22.\", FutureWarning)\n"
          ],
          "name": "stderr"
        },
        {
          "output_type": "stream",
          "text": [
            "Train score: 0.9888571428571429\n",
            "Test score: 0.9446666666666667\n",
            "Test2 score: 0.9773333333333334\n",
            "RandomForestClassifier|Raw PowerTransformer_std|\n",
            "\n"
          ],
          "name": "stdout"
        },
        {
          "output_type": "stream",
          "text": [
            "/usr/local/lib/python3.6/dist-packages/sklearn/ensemble/forest.py:246: FutureWarning: The default value of n_estimators will change from 10 in version 0.20 to 100 in 0.22.\n",
            "  \"10 in version 0.20 to 100 in 0.22.\", FutureWarning)\n"
          ],
          "name": "stderr"
        },
        {
          "output_type": "stream",
          "text": [
            "Train score: 0.9888571428571429\n",
            "Test score: 0.9446666666666667\n",
            "Test2 score: 0.9773333333333334\n",
            "RandomForestClassifier|Raw PowerTransformer|\n",
            "\n"
          ],
          "name": "stdout"
        },
        {
          "output_type": "stream",
          "text": [
            "/usr/local/lib/python3.6/dist-packages/sklearn/ensemble/forest.py:246: FutureWarning: The default value of n_estimators will change from 10 in version 0.20 to 100 in 0.22.\n",
            "  \"10 in version 0.20 to 100 in 0.22.\", FutureWarning)\n"
          ],
          "name": "stderr"
        },
        {
          "output_type": "stream",
          "text": [
            "Train score: 0.9888571428571429\n",
            "Test score: 0.9446666666666667\n",
            "Test2 score: 0.9773333333333334\n",
            "RandomForestClassifier|Raw PowerTransformer_std|PowerTransformer|\n",
            "\n",
            "Train score: 0.9442857142857143\n",
            "Test score: 0.94\n",
            "Test2 score: 0.9453333333333334\n",
            "GradientBoostingClassifier|Raw PowerTransformer_std|\n",
            "\n",
            "Train score: 0.9442857142857143\n",
            "Test score: 0.94\n",
            "Test2 score: 0.9453333333333334\n",
            "GradientBoostingClassifier|Raw PowerTransformer|\n",
            "\n",
            "Train score: 0.9442857142857143\n",
            "Test score: 0.94\n",
            "Test2 score: 0.9453333333333334\n",
            "GradientBoostingClassifier|Raw PowerTransformer_std|PowerTransformer|\n",
            "\n",
            "best estimate parameters {'C': 0.5334283296018689, 'intercept_scaling': 0.04208351702040991, 'max_iter': 39, 'solver': 'sag', 'tol': 0.229026566231599}\n",
            "Train score: 0.9397142857142857\n",
            "Test score: 0.9406666666666667\n",
            "Test2 score: 0.9406666666666667\n",
            "LogisticRegression2|Raw PowerTransformer_std|\n",
            "\n",
            "best estimate parameters {'C': 0.6569627925030608, 'intercept_scaling': 0.870045235033689, 'max_iter': 83, 'solver': 'newton-cg', 'tol': 0.7381161687882917}\n"
          ],
          "name": "stdout"
        },
        {
          "output_type": "stream",
          "text": [
            "/usr/local/lib/python3.6/dist-packages/scipy/optimize/linesearch.py:462: LineSearchWarning: The line search algorithm did not converge\n",
            "  warn('The line search algorithm did not converge', LineSearchWarning)\n",
            "/usr/local/lib/python3.6/dist-packages/scipy/optimize/linesearch.py:313: LineSearchWarning: The line search algorithm did not converge\n",
            "  warn('The line search algorithm did not converge', LineSearchWarning)\n",
            "/usr/local/lib/python3.6/dist-packages/scipy/optimize/linesearch.py:462: LineSearchWarning: The line search algorithm did not converge\n",
            "  warn('The line search algorithm did not converge', LineSearchWarning)\n",
            "/usr/local/lib/python3.6/dist-packages/scipy/optimize/linesearch.py:313: LineSearchWarning: The line search algorithm did not converge\n",
            "  warn('The line search algorithm did not converge', LineSearchWarning)\n",
            "/usr/local/lib/python3.6/dist-packages/scipy/optimize/linesearch.py:462: LineSearchWarning: The line search algorithm did not converge\n",
            "  warn('The line search algorithm did not converge', LineSearchWarning)\n",
            "/usr/local/lib/python3.6/dist-packages/scipy/optimize/linesearch.py:313: LineSearchWarning: The line search algorithm did not converge\n",
            "  warn('The line search algorithm did not converge', LineSearchWarning)\n",
            "/usr/local/lib/python3.6/dist-packages/scipy/optimize/linesearch.py:462: LineSearchWarning: The line search algorithm did not converge\n",
            "  warn('The line search algorithm did not converge', LineSearchWarning)\n",
            "/usr/local/lib/python3.6/dist-packages/scipy/optimize/linesearch.py:313: LineSearchWarning: The line search algorithm did not converge\n",
            "  warn('The line search algorithm did not converge', LineSearchWarning)\n",
            "/usr/local/lib/python3.6/dist-packages/sklearn/utils/optimize.py:203: ConvergenceWarning: newton-cg failed to converge. Increase the number of iterations.\n",
            "  \"number of iterations.\", ConvergenceWarning)\n"
          ],
          "name": "stderr"
        },
        {
          "output_type": "stream",
          "text": [
            "Train score: 0.9397142857142857\n",
            "Test score: 0.9406666666666667\n",
            "Test2 score: 0.9406666666666667\n",
            "LogisticRegression2|Raw PowerTransformer|\n",
            "\n",
            "best estimate parameters {'C': 0.18818417952536293, 'intercept_scaling': 0.049286675184140094, 'max_iter': 66, 'solver': 'lbfgs', 'tol': 0.4374660059443287}\n",
            "best estimate parameters {'C': 0.029301853619211893, 'class_weight': 'balanced', 'fit_intercept': True, 'intercept_scaling': 0.8044697895612967, 'loss': 'hinge', 'max_iter': 16, 'tol': 0.7752976323385582}\n",
            "Train score: 0.9397142857142857\n",
            "Test score: 0.9406666666666667\n",
            "Test2 score: 0.9406666666666667\n",
            "LinearSVC|Raw PowerTransformer_std|\n",
            "\n",
            "best estimate parameters {'C': 0.3636209504543444, 'class_weight': '', 'fit_intercept': True, 'intercept_scaling': 0.02906817897820814, 'loss': 'hinge', 'max_iter': 67, 'tol': 0.9358500534947898}\n"
          ],
          "name": "stdout"
        },
        {
          "output_type": "stream",
          "text": [
            "/usr/local/lib/python3.6/dist-packages/sklearn/svm/base.py:931: ConvergenceWarning: Liblinear failed to converge, increase the number of iterations.\n",
            "  \"the number of iterations.\", ConvergenceWarning)\n"
          ],
          "name": "stderr"
        },
        {
          "output_type": "stream",
          "text": [
            "LinearSVC|Raw PowerTransformer|\n",
            "\n",
            "best estimate parameters {'C': 0.06840767726270025, 'class_weight': 'balanced', 'fit_intercept': True, 'intercept_scaling': 0.06162142643599833, 'loss': 'hinge', 'max_iter': 28, 'tol': 0.9772769309908501}\n",
            "Train score: 0.9397142857142857\n",
            "Test score: 0.9406666666666667\n",
            "Test2 score: 0.9406666666666667\n",
            "LinearSVC|Raw PowerTransformer_std|PowerTransformer|\n",
            "\n",
            "best estimate parameters {'learning_rate': 1.0120064601136904, 'n_estimators': 224}\n",
            "Train score: 0.9428571428571428\n",
            "Test score: 0.9413333333333334\n",
            "Test2 score: 0.9453333333333334\n",
            "AdaBoostClassifier|Raw PowerTransformer_std|\n",
            "\n",
            "best estimate parameters {'learning_rate': 1.016895190070356, 'n_estimators': 262}\n",
            "Train score: 0.9422857142857143\n",
            "Test score: 0.9413333333333334\n",
            "Test2 score: 0.9433333333333334\n",
            "AdaBoostClassifier|Raw PowerTransformer|\n",
            "\n",
            "best estimate parameters {'learning_rate': 1.3198280429873919, 'n_estimators': 39}\n",
            "Train score: 0.9411428571428572\n",
            "Test score: 0.9406666666666667\n",
            "Test2 score: 0.9426666666666667\n",
            "AdaBoostClassifier|Raw PowerTransformer_std|PowerTransformer|\n",
            "\n"
          ],
          "name": "stdout"
        },
        {
          "output_type": "stream",
          "text": [
            "/usr/local/lib/python3.6/dist-packages/sklearn/ensemble/forest.py:246: FutureWarning: The default value of n_estimators will change from 10 in version 0.20 to 100 in 0.22.\n",
            "  \"10 in version 0.20 to 100 in 0.22.\", FutureWarning)\n"
          ],
          "name": "stderr"
        },
        {
          "output_type": "stream",
          "text": [
            "Train score: 0.9888571428571429\n",
            "Test score: 0.944\n",
            "Test2 score: 0.9766666666666667\n",
            "RandomForestClassifier|Raw QuantileTransformer_u|\n",
            "\n"
          ],
          "name": "stdout"
        },
        {
          "output_type": "stream",
          "text": [
            "/usr/local/lib/python3.6/dist-packages/sklearn/ensemble/forest.py:246: FutureWarning: The default value of n_estimators will change from 10 in version 0.20 to 100 in 0.22.\n",
            "  \"10 in version 0.20 to 100 in 0.22.\", FutureWarning)\n"
          ],
          "name": "stderr"
        },
        {
          "output_type": "stream",
          "text": [
            "Train score: 0.9888571428571429\n",
            "Test score: 0.944\n",
            "Test2 score: 0.9766666666666667\n",
            "RandomForestClassifier|Raw QuantileTransformer_n|\n",
            "\n"
          ],
          "name": "stdout"
        },
        {
          "output_type": "stream",
          "text": [
            "/usr/local/lib/python3.6/dist-packages/sklearn/ensemble/forest.py:246: FutureWarning: The default value of n_estimators will change from 10 in version 0.20 to 100 in 0.22.\n",
            "  \"10 in version 0.20 to 100 in 0.22.\", FutureWarning)\n"
          ],
          "name": "stderr"
        },
        {
          "output_type": "stream",
          "text": [
            "Train score: 0.9888571428571429\n",
            "Test score: 0.9426666666666667\n",
            "Test2 score: 0.9766666666666667\n",
            "RandomForestClassifier|Raw QuantileTransformer_u|QuantileTransformer_n|\n",
            "\n",
            "Train score: 0.9442857142857143\n",
            "Test score: 0.94\n",
            "Test2 score: 0.9453333333333334\n",
            "GradientBoostingClassifier|Raw QuantileTransformer_u|\n",
            "\n",
            "Train score: 0.9442857142857143\n",
            "Test score: 0.94\n",
            "Test2 score: 0.9453333333333334\n",
            "GradientBoostingClassifier|Raw QuantileTransformer_n|\n",
            "\n",
            "Train score: 0.944\n",
            "Test score: 0.94\n",
            "Test2 score: 0.9446666666666667\n",
            "GradientBoostingClassifier|Raw QuantileTransformer_u|QuantileTransformer_n|\n",
            "\n",
            "best estimate parameters {'C': 0.8071420301780681, 'class_weight': 'balanced', 'fit_intercept': False, 'intercept_scaling': 0.6843818929695704, 'loss': 'hinge', 'max_iter': 27, 'tol': 0.23075965374673713}\n",
            "Train score: 0.9397142857142857\n",
            "Test score: 0.9386666666666666\n",
            "Test2 score: 0.9406666666666667\n",
            "LinearSVC|Raw QuantileTransformer_u|\n",
            "\n",
            "best estimate parameters {'C': 0.11759076515755262, 'class_weight': 'balanced', 'fit_intercept': True, 'intercept_scaling': 0.5982484086765687, 'loss': 'squared_hinge', 'max_iter': 85, 'tol': 0.9487993733365443}\n",
            "Train score: 0.9397142857142857\n",
            "Test score: 0.9406666666666667\n",
            "Test2 score: 0.9406666666666667\n",
            "LinearSVC|Raw QuantileTransformer_n|\n",
            "\n",
            "best estimate parameters {'C': 0.23415391063890412, 'class_weight': '', 'fit_intercept': True, 'intercept_scaling': 0.770750398511027, 'loss': 'squared_hinge', 'max_iter': 49, 'tol': 0.3784507338924683}\n"
          ],
          "name": "stdout"
        },
        {
          "output_type": "stream",
          "text": [
            "/usr/local/lib/python3.6/dist-packages/sklearn/svm/base.py:931: ConvergenceWarning: Liblinear failed to converge, increase the number of iterations.\n",
            "  \"the number of iterations.\", ConvergenceWarning)\n"
          ],
          "name": "stderr"
        },
        {
          "output_type": "stream",
          "text": [
            "Train score: 0.9397142857142857\n",
            "Test score: 0.9406666666666667\n",
            "Test2 score: 0.9406666666666667\n",
            "LinearSVC|Raw QuantileTransformer_u|QuantileTransformer_n|\n",
            "\n",
            "best estimate parameters {'C': 0.012500070475036207, 'intercept_scaling': 0.22242871007425102, 'max_iter': 3, 'solver': 'newton-cg', 'tol': 0.6621463565244945}\n"
          ],
          "name": "stdout"
        },
        {
          "output_type": "stream",
          "text": [
            "/usr/local/lib/python3.6/dist-packages/sklearn/utils/optimize.py:203: ConvergenceWarning: newton-cg failed to converge. Increase the number of iterations.\n",
            "  \"number of iterations.\", ConvergenceWarning)\n"
          ],
          "name": "stderr"
        },
        {
          "output_type": "stream",
          "text": [
            "Train score: 0.9397142857142857\n",
            "Test score: 0.9406666666666667\n",
            "Test2 score: 0.9406666666666667\n",
            "LogisticRegression2|Raw QuantileTransformer_u|\n",
            "\n",
            "best estimate parameters {'C': 0.6415829381487873, 'intercept_scaling': 0.4060202377781038, 'max_iter': 66, 'solver': 'lbfgs', 'tol': 0.9397585035484808}\n",
            "best estimate parameters {'C': 0.3222307471472837, 'intercept_scaling': 0.9480870903186268, 'max_iter': 75, 'solver': 'saga', 'tol': 0.18872015844750556}\n",
            "Train score: 0.9397142857142857\n",
            "Test score: 0.9406666666666667\n",
            "Test2 score: 0.9406666666666667\n",
            "LogisticRegression2|Raw QuantileTransformer_u|QuantileTransformer_n|\n",
            "\n",
            "best estimate parameters {'learning_rate': 1.5158306871878622, 'n_estimators': 70}\n",
            "Train score: 0.9422857142857143\n",
            "Test score: 0.9406666666666667\n",
            "Test2 score: 0.944\n",
            "AdaBoostClassifier|Raw QuantileTransformer_u|\n",
            "\n",
            "best estimate parameters {'learning_rate': 1.4962646869283873, 'n_estimators': 58}\n",
            "Train score: 0.9417142857142857\n",
            "Test score: 0.9406666666666667\n",
            "Test2 score: 0.9426666666666667\n",
            "AdaBoostClassifier|Raw QuantileTransformer_n|\n",
            "\n",
            "best estimate parameters {'learning_rate': 1.5216922067433893, 'n_estimators': 10}\n",
            "Train score: 0.9397142857142857\n",
            "Test score: 0.9406666666666667\n",
            "Test2 score: 0.9406666666666667\n",
            "AdaBoostClassifier|Raw QuantileTransformer_u|QuantileTransformer_n|\n",
            "\n"
          ],
          "name": "stdout"
        },
        {
          "output_type": "stream",
          "text": [
            "/usr/local/lib/python3.6/dist-packages/sklearn/ensemble/forest.py:246: FutureWarning: The default value of n_estimators will change from 10 in version 0.20 to 100 in 0.22.\n",
            "  \"10 in version 0.20 to 100 in 0.22.\", FutureWarning)\n"
          ],
          "name": "stderr"
        },
        {
          "output_type": "stream",
          "text": [
            "Train score: 0.9902857142857143\n",
            "Test score: 0.9393333333333334\n",
            "Test2 score: 0.9773333333333334\n",
            "RandomForestClassifier|PCA QuantileTransformer_u|\n",
            "\n"
          ],
          "name": "stdout"
        },
        {
          "output_type": "stream",
          "text": [
            "/usr/local/lib/python3.6/dist-packages/sklearn/ensemble/forest.py:246: FutureWarning: The default value of n_estimators will change from 10 in version 0.20 to 100 in 0.22.\n",
            "  \"10 in version 0.20 to 100 in 0.22.\", FutureWarning)\n"
          ],
          "name": "stderr"
        },
        {
          "output_type": "stream",
          "text": [
            "Train score: 0.9888571428571429\n",
            "Test score: 0.9426666666666667\n",
            "Test2 score: 0.9766666666666667\n",
            "RandomForestClassifier|PCA QuantileTransformer_n|\n",
            "\n"
          ],
          "name": "stdout"
        },
        {
          "output_type": "stream",
          "text": [
            "/usr/local/lib/python3.6/dist-packages/sklearn/ensemble/forest.py:246: FutureWarning: The default value of n_estimators will change from 10 in version 0.20 to 100 in 0.22.\n",
            "  \"10 in version 0.20 to 100 in 0.22.\", FutureWarning)\n"
          ],
          "name": "stderr"
        },
        {
          "output_type": "stream",
          "text": [
            "Train score: 0.9882857142857143\n",
            "Test score: 0.944\n",
            "Test2 score: 0.9733333333333334\n",
            "RandomForestClassifier|PCA QuantileTransformer_u|QuantileTransformer_n|\n",
            "\n",
            "Train score: 0.948\n",
            "Test score: 0.9393333333333334\n",
            "Test2 score: 0.946\n",
            "GradientBoostingClassifier|PCA QuantileTransformer_u|\n",
            "\n",
            "Train score: 0.946\n",
            "Test score: 0.9406666666666667\n",
            "Test2 score: 0.9446666666666667\n",
            "GradientBoostingClassifier|PCA QuantileTransformer_n|\n",
            "\n",
            "Train score: 0.9451428571428572\n",
            "Test score: 0.9406666666666667\n",
            "Test2 score: 0.944\n",
            "GradientBoostingClassifier|PCA QuantileTransformer_u|QuantileTransformer_n|\n",
            "\n",
            "best estimate parameters {'C': 0.025039924124862445, 'class_weight': 'balanced', 'fit_intercept': True, 'intercept_scaling': 0.051973710254689776, 'loss': 'squared_hinge', 'max_iter': 60, 'tol': 0.8842351294323895}\n",
            "Train score: 0.9397142857142857\n",
            "Test score: 0.9406666666666667\n",
            "Test2 score: 0.9406666666666667\n",
            "LinearSVC|PCA QuantileTransformer_u|\n",
            "\n",
            "best estimate parameters {'C': 0.5424137437411636, 'class_weight': '', 'fit_intercept': False, 'intercept_scaling': 0.39566439736917647, 'loss': 'hinge', 'max_iter': 89, 'tol': 0.8950556601540283}\n",
            "Train score: 0.9397142857142857\n",
            "Test score: 0.9406666666666667\n",
            "Test2 score: 0.9406666666666667\n",
            "LinearSVC|PCA QuantileTransformer_n|\n",
            "\n",
            "best estimate parameters {'C': 0.9707443328826713, 'class_weight': '', 'fit_intercept': True, 'intercept_scaling': 0.08417901447187048, 'loss': 'hinge', 'max_iter': 74, 'tol': 0.9266740218393905}\n",
            "Train score: 0.9397142857142857\n",
            "Test score: 0.9406666666666667\n",
            "Test2 score: 0.9406666666666667\n",
            "LinearSVC|PCA QuantileTransformer_u|QuantileTransformer_n|\n",
            "\n",
            "best estimate parameters {'learning_rate': 2.533536559376021, 'n_estimators': 25}\n",
            "Train score: 0.9405714285714286\n",
            "Test score: 0.9406666666666667\n",
            "Test2 score: 0.9413333333333334\n",
            "AdaBoostClassifier|PCA QuantileTransformer_u|\n",
            "\n",
            "best estimate parameters {'learning_rate': 2.063219025239363, 'n_estimators': 215}\n",
            "Train score: 0.9397142857142857\n",
            "Test score: 0.9406666666666667\n",
            "Test2 score: 0.9406666666666667\n",
            "AdaBoostClassifier|PCA QuantileTransformer_n|\n",
            "\n",
            "best estimate parameters {'learning_rate': 2.0643002505800996, 'n_estimators': 85}\n",
            "AdaBoostClassifier|PCA QuantileTransformer_u|QuantileTransformer_n|\n",
            "\n"
          ],
          "name": "stdout"
        },
        {
          "output_type": "stream",
          "text": [
            "/usr/local/lib/python3.6/dist-packages/sklearn/ensemble/forest.py:246: FutureWarning: The default value of n_estimators will change from 10 in version 0.20 to 100 in 0.22.\n",
            "  \"10 in version 0.20 to 100 in 0.22.\", FutureWarning)\n"
          ],
          "name": "stderr"
        },
        {
          "output_type": "stream",
          "text": [
            "Train score: 0.9888571428571429\n",
            "Test score: 0.9446666666666667\n",
            "Test2 score: 0.9773333333333334\n",
            "RandomForestClassifier|Raw MinMaxScaler|\n",
            "\n"
          ],
          "name": "stdout"
        },
        {
          "output_type": "stream",
          "text": [
            "/usr/local/lib/python3.6/dist-packages/sklearn/ensemble/forest.py:246: FutureWarning: The default value of n_estimators will change from 10 in version 0.20 to 100 in 0.22.\n",
            "  \"10 in version 0.20 to 100 in 0.22.\", FutureWarning)\n"
          ],
          "name": "stderr"
        },
        {
          "output_type": "stream",
          "text": [
            "Train score: 0.9882857142857143\n",
            "Test score: 0.9406666666666667\n",
            "Test2 score: 0.974\n",
            "RandomForestClassifier|Raw Normalizer_l2|\n",
            "\n"
          ],
          "name": "stdout"
        },
        {
          "output_type": "stream",
          "text": [
            "/usr/local/lib/python3.6/dist-packages/sklearn/ensemble/forest.py:246: FutureWarning: The default value of n_estimators will change from 10 in version 0.20 to 100 in 0.22.\n",
            "  \"10 in version 0.20 to 100 in 0.22.\", FutureWarning)\n"
          ],
          "name": "stderr"
        },
        {
          "output_type": "stream",
          "text": [
            "Train score: 0.9874285714285714\n",
            "Test score: 0.942\n",
            "Test2 score: 0.9733333333333334\n",
            "RandomForestClassifier|Raw Normalizer_l1|\n",
            "\n"
          ],
          "name": "stdout"
        },
        {
          "output_type": "stream",
          "text": [
            "/usr/local/lib/python3.6/dist-packages/sklearn/ensemble/forest.py:246: FutureWarning: The default value of n_estimators will change from 10 in version 0.20 to 100 in 0.22.\n",
            "  \"10 in version 0.20 to 100 in 0.22.\", FutureWarning)\n"
          ],
          "name": "stderr"
        },
        {
          "output_type": "stream",
          "text": [
            "Train score: 0.9874285714285714\n",
            "Test score: 0.942\n",
            "Test2 score: 0.9733333333333334\n",
            "RandomForestClassifier|Raw Normalizer_l2|Normalizer_l1|\n",
            "\n",
            "Train score: 0.9442857142857143\n",
            "Test score: 0.94\n",
            "Test2 score: 0.9453333333333334\n",
            "GradientBoostingClassifier|Raw MinMaxScaler|\n",
            "\n",
            "Train score: 0.9448571428571428\n",
            "Test score: 0.9413333333333334\n",
            "Test2 score: 0.946\n",
            "GradientBoostingClassifier|Raw Normalizer_l2|\n",
            "\n",
            "Train score: 0.9434285714285714\n",
            "Test score: 0.9386666666666666\n",
            "Test2 score: 0.9446666666666667\n",
            "GradientBoostingClassifier|Raw Normalizer_l1|\n",
            "\n",
            "Train score: 0.9434285714285714\n",
            "Test score: 0.9386666666666666\n",
            "Test2 score: 0.9446666666666667\n",
            "GradientBoostingClassifier|Raw Normalizer_l2|Normalizer_l1|\n",
            "\n",
            "best estimate parameters {'C': 0.08260250735772601, 'class_weight': 'balanced', 'fit_intercept': False, 'intercept_scaling': 0.35814200995085466, 'loss': 'hinge', 'max_iter': 83, 'tol': 0.07003955806836615}\n",
            "Train score: 0.9397142857142857\n",
            "Test score: 0.9406666666666667\n",
            "Test2 score: 0.9406666666666667\n",
            "LinearSVC|Raw MinMaxScaler|\n",
            "\n",
            "best estimate parameters {'C': 0.5005217971513907, 'class_weight': 'balanced', 'fit_intercept': True, 'intercept_scaling': 0.7430320368315839, 'loss': 'squared_hinge', 'max_iter': 0, 'tol': 0.49349593425381905}\n"
          ],
          "name": "stdout"
        },
        {
          "output_type": "stream",
          "text": [
            "/usr/local/lib/python3.6/dist-packages/sklearn/svm/base.py:931: ConvergenceWarning: Liblinear failed to converge, increase the number of iterations.\n",
            "  \"the number of iterations.\", ConvergenceWarning)\n"
          ],
          "name": "stderr"
        },
        {
          "output_type": "stream",
          "text": [
            "LinearSVC|Raw Normalizer_l2|\n",
            "\n",
            "best estimate parameters {'C': 0.46559900887433664, 'class_weight': 'balanced', 'fit_intercept': False, 'intercept_scaling': 0.7326552434896713, 'loss': 'squared_hinge', 'max_iter': 59, 'tol': 0.9925283997293148}\n",
            "LinearSVC|Raw Normalizer_l1|\n",
            "\n",
            "best estimate parameters {'C': 0.8279796083130035, 'class_weight': 'balanced', 'fit_intercept': False, 'intercept_scaling': 0.12502745075334748, 'loss': 'squared_hinge', 'max_iter': 24, 'tol': 0.9949317742655719}\n",
            "LinearSVC|Raw Normalizer_l2|Normalizer_l1|\n",
            "\n",
            "best estimate parameters {'C': 0.1824198873400844, 'intercept_scaling': 0.17551444056632126, 'max_iter': 79, 'solver': 'lbfgs', 'tol': 0.4796181374553561}\n",
            "best estimate parameters {'C': 0.6025532756294871, 'intercept_scaling': 0.07290056970350534, 'max_iter': 37, 'solver': 'sag', 'tol': 0.5218254496308271}\n",
            "LogisticRegression2|Raw Normalizer_l2|\n",
            "\n",
            "best estimate parameters {'C': 0.41290975226900617, 'intercept_scaling': 0.8642472760604867, 'max_iter': 50, 'solver': 'sag', 'tol': 0.8747268303698427}\n",
            "LogisticRegression2|Raw Normalizer_l1|\n",
            "\n",
            "best estimate parameters {'C': 0.4025881514548701, 'intercept_scaling': 0.8341522893054896, 'max_iter': 86, 'solver': 'sag', 'tol': 0.6877200495416331}\n",
            "LogisticRegression2|Raw Normalizer_l2|Normalizer_l1|\n",
            "\n",
            "best estimate parameters {'learning_rate': 1.02233897616327, 'n_estimators': 177}\n",
            "Train score: 0.9422857142857143\n",
            "Test score: 0.9413333333333334\n",
            "Test2 score: 0.9433333333333334\n",
            "AdaBoostClassifier|Raw MinMaxScaler|\n",
            "\n",
            "best estimate parameters {'learning_rate': 1.2175004675403998, 'n_estimators': 22}\n",
            "Train score: 0.9405714285714286\n",
            "Test score: 0.9413333333333334\n",
            "Test2 score: 0.942\n",
            "AdaBoostClassifier|Raw Normalizer_l2|\n",
            "\n",
            "best estimate parameters {'learning_rate': 1.20251114200804, 'n_estimators': 2}\n",
            "Train score: 0.9397142857142857\n",
            "Test score: 0.9406666666666667\n",
            "Test2 score: 0.9406666666666667\n",
            "AdaBoostClassifier|Raw Normalizer_l1|\n",
            "\n",
            "best estimate parameters {'learning_rate': 1.0320216511399594, 'n_estimators': 8}\n",
            "Train score: 0.9397142857142857\n",
            "Test score: 0.938\n",
            "Test2 score: 0.9406666666666667\n",
            "AdaBoostClassifier|Raw Normalizer_l2|Normalizer_l1|\n",
            "\n"
          ],
          "name": "stdout"
        },
        {
          "output_type": "stream",
          "text": [
            "/usr/local/lib/python3.6/dist-packages/sklearn/ensemble/forest.py:246: FutureWarning: The default value of n_estimators will change from 10 in version 0.20 to 100 in 0.22.\n",
            "  \"10 in version 0.20 to 100 in 0.22.\", FutureWarning)\n"
          ],
          "name": "stderr"
        },
        {
          "output_type": "stream",
          "text": [
            "Train score: 0.99\n",
            "Test score: 0.944\n",
            "Test2 score: 0.9773333333333334\n",
            "RandomForestClassifier|PCA MinMaxScaler|\n",
            "\n"
          ],
          "name": "stdout"
        },
        {
          "output_type": "stream",
          "text": [
            "/usr/local/lib/python3.6/dist-packages/sklearn/ensemble/forest.py:246: FutureWarning: The default value of n_estimators will change from 10 in version 0.20 to 100 in 0.22.\n",
            "  \"10 in version 0.20 to 100 in 0.22.\", FutureWarning)\n"
          ],
          "name": "stderr"
        },
        {
          "output_type": "stream",
          "text": [
            "RandomForestClassifier|PCA Normalizer_l2|\n",
            "\n"
          ],
          "name": "stdout"
        },
        {
          "output_type": "stream",
          "text": [
            "/usr/local/lib/python3.6/dist-packages/sklearn/ensemble/forest.py:246: FutureWarning: The default value of n_estimators will change from 10 in version 0.20 to 100 in 0.22.\n",
            "  \"10 in version 0.20 to 100 in 0.22.\", FutureWarning)\n"
          ],
          "name": "stderr"
        },
        {
          "output_type": "stream",
          "text": [
            "RandomForestClassifier|PCA Normalizer_l1|\n",
            "\n"
          ],
          "name": "stdout"
        },
        {
          "output_type": "stream",
          "text": [
            "/usr/local/lib/python3.6/dist-packages/sklearn/ensemble/forest.py:246: FutureWarning: The default value of n_estimators will change from 10 in version 0.20 to 100 in 0.22.\n",
            "  \"10 in version 0.20 to 100 in 0.22.\", FutureWarning)\n"
          ],
          "name": "stderr"
        },
        {
          "output_type": "stream",
          "text": [
            "RandomForestClassifier|PCA Normalizer_l2|Normalizer_l1|\n",
            "\n",
            "Train score: 0.9465714285714286\n",
            "Test score: 0.94\n",
            "Test2 score: 0.9446666666666667\n",
            "GradientBoostingClassifier|PCA MinMaxScaler|\n",
            "\n",
            "GradientBoostingClassifier|PCA Normalizer_l2|\n",
            "\n",
            "GradientBoostingClassifier|PCA Normalizer_l1|\n",
            "\n",
            "GradientBoostingClassifier|PCA Normalizer_l2|Normalizer_l1|\n",
            "\n",
            "best estimate parameters {'C': 0.8635959492355587, 'class_weight': '', 'fit_intercept': True, 'intercept_scaling': 0.22430462199928014, 'loss': 'squared_hinge', 'max_iter': 33, 'tol': 0.5284725775444453}\n",
            "Train score: 0.9397142857142857\n",
            "Test score: 0.9406666666666667\n",
            "Test2 score: 0.9406666666666667\n",
            "LinearSVC|PCA MinMaxScaler|\n",
            "\n",
            "best estimate parameters {'C': 0.08680025292888789, 'class_weight': 'balanced', 'fit_intercept': True, 'intercept_scaling': 0.8795641404146225, 'loss': 'squared_hinge', 'max_iter': 88, 'tol': 0.1438410650277565}\n",
            "LinearSVC|PCA Normalizer_l2|\n",
            "\n",
            "best estimate parameters {'C': 0.6625462193166249, 'class_weight': 'balanced', 'fit_intercept': False, 'intercept_scaling': 0.8451657402956739, 'loss': 'squared_hinge', 'max_iter': 32, 'tol': 0.9252939484510172}\n",
            "LinearSVC|PCA Normalizer_l1|\n",
            "\n",
            "best estimate parameters {'C': 0.9235941074788071, 'class_weight': 'balanced', 'fit_intercept': True, 'intercept_scaling': 0.704849170704248, 'loss': 'squared_hinge', 'max_iter': 28, 'tol': 0.9163169303575319}\n",
            "LinearSVC|PCA Normalizer_l2|Normalizer_l1|\n",
            "\n",
            "best estimate parameters {'learning_rate': 1.8695459947732358, 'n_estimators': 2}\n",
            "Train score: 0.9397142857142857\n",
            "Test score: 0.9406666666666667\n",
            "Test2 score: 0.9406666666666667\n",
            "AdaBoostClassifier|PCA MinMaxScaler|\n",
            "\n",
            "best estimate parameters {'learning_rate': 1.1076340296834217, 'n_estimators': 2}\n",
            "AdaBoostClassifier|PCA Normalizer_l2|\n",
            "\n",
            "best estimate parameters {'learning_rate': 1.870416433489826, 'n_estimators': 176}\n",
            "AdaBoostClassifier|PCA Normalizer_l1|\n",
            "\n",
            "best estimate parameters {'learning_rate': 1.7456173574250349, 'n_estimators': 164}\n",
            "AdaBoostClassifier|PCA Normalizer_l2|Normalizer_l1|\n",
            "\n",
            "best estimate parameters {'C': 0.8059451079350897, 'class_weight': 'balanced', 'fit_intercept': False, 'intercept_scaling': 0.45527343676623794, 'loss': 'squared_hinge', 'max_iter': 2, 'tol': 0.9553902947464168}\n"
          ],
          "name": "stdout"
        },
        {
          "output_type": "stream",
          "text": [
            "/usr/local/lib/python3.6/dist-packages/sklearn/svm/base.py:931: ConvergenceWarning: Liblinear failed to converge, increase the number of iterations.\n",
            "  \"the number of iterations.\", ConvergenceWarning)\n"
          ],
          "name": "stderr"
        },
        {
          "output_type": "stream",
          "text": [
            "LinearSVC|MDS MinMaxScaler|\n",
            "\n",
            "best estimate parameters {'C': 0.796226088502267, 'class_weight': 'balanced', 'fit_intercept': False, 'intercept_scaling': 0.3672357483132377, 'loss': 'squared_hinge', 'max_iter': 63, 'tol': 0.9612313483777682}\n",
            "LinearSVC|MDS Normalizer_l2|\n",
            "\n",
            "best estimate parameters {'C': 0.6221001690994235, 'class_weight': 'balanced', 'fit_intercept': True, 'intercept_scaling': 0.8555076534412179, 'loss': 'squared_hinge', 'max_iter': 93, 'tol': 0.95720749737975}\n",
            "LinearSVC|MDS Normalizer_l1|\n",
            "\n",
            "best estimate parameters {'C': 0.9546628100523111, 'class_weight': 'balanced', 'fit_intercept': True, 'intercept_scaling': 0.9723462162209693, 'loss': 'squared_hinge', 'max_iter': 6, 'tol': 0.8112162824397968}\n"
          ],
          "name": "stdout"
        },
        {
          "output_type": "stream",
          "text": [
            "/usr/local/lib/python3.6/dist-packages/sklearn/svm/base.py:931: ConvergenceWarning: Liblinear failed to converge, increase the number of iterations.\n",
            "  \"the number of iterations.\", ConvergenceWarning)\n"
          ],
          "name": "stderr"
        },
        {
          "output_type": "stream",
          "text": [
            "LinearSVC|MDS Normalizer_l2|Normalizer_l1|\n",
            "\n",
            "best estimate parameters {'C': 0.20208784706457705, 'intercept_scaling': 0.6405739279544052, 'max_iter': 36, 'solver': 'sag', 'tol': 0.993034624568981}\n",
            "LogisticRegression2|MDS MinMaxScaler|\n",
            "\n",
            "best estimate parameters {'C': 0.38166840200537777, 'intercept_scaling': 0.1944376319603256, 'max_iter': 45, 'solver': 'sag', 'tol': 0.7839332936250534}\n",
            "LogisticRegression2|MDS Normalizer_l2|\n",
            "\n",
            "best estimate parameters {'C': 0.02288664989499989, 'intercept_scaling': 0.507145954398496, 'max_iter': 38, 'solver': 'sag', 'tol': 0.84467849909872}\n",
            "LogisticRegression2|MDS Normalizer_l1|\n",
            "\n",
            "best estimate parameters {'C': 0.7191285120184289, 'intercept_scaling': 0.6771938349595519, 'max_iter': 59, 'solver': 'sag', 'tol': 0.9900893310567954}\n",
            "LogisticRegression2|MDS Normalizer_l2|Normalizer_l1|\n",
            "\n",
            "best estimate parameters {'learning_rate': 2.29108014818153, 'n_estimators': 104}\n",
            "AdaBoostClassifier|MDS MinMaxScaler|\n",
            "\n",
            "best estimate parameters {'learning_rate': 2.529836954387266, 'n_estimators': 27}\n",
            "AdaBoostClassifier|MDS Normalizer_l2|\n",
            "\n",
            "best estimate parameters {'learning_rate': 2.63079527797091, 'n_estimators': 34}\n",
            "AdaBoostClassifier|MDS Normalizer_l1|\n",
            "\n"
          ],
          "name": "stdout"
        },
        {
          "output_type": "stream",
          "text": [
            "/usr/local/lib/python3.6/dist-packages/sklearn/externals/joblib/externals/loky/process_executor.py:706: UserWarning: A worker stopped while some jobs were given to the executor. This can be caused by a too short worker timeout or by a memory leak.\n",
            "  \"timeout or by a memory leak.\", UserWarning\n"
          ],
          "name": "stderr"
        },
        {
          "output_type": "stream",
          "text": [
            "best estimate parameters {'learning_rate': 2.3995862957778393, 'n_estimators': 32}\n",
            "AdaBoostClassifier|MDS Normalizer_l2|Normalizer_l1|\n",
            "\n"
          ],
          "name": "stdout"
        },
        {
          "output_type": "stream",
          "text": [
            "/usr/local/lib/python3.6/dist-packages/sklearn/ensemble/forest.py:246: FutureWarning: The default value of n_estimators will change from 10 in version 0.20 to 100 in 0.22.\n",
            "  \"10 in version 0.20 to 100 in 0.22.\", FutureWarning)\n"
          ],
          "name": "stderr"
        },
        {
          "output_type": "stream",
          "text": [
            "Train score: 0.9894285714285714\n",
            "Test score: 0.942\n",
            "Test2 score: 0.974\n",
            "RandomForestClassifier|Raw MinMaxScaler|\n",
            "\n"
          ],
          "name": "stdout"
        },
        {
          "output_type": "stream",
          "text": [
            "/usr/local/lib/python3.6/dist-packages/sklearn/ensemble/forest.py:246: FutureWarning: The default value of n_estimators will change from 10 in version 0.20 to 100 in 0.22.\n",
            "  \"10 in version 0.20 to 100 in 0.22.\", FutureWarning)\n"
          ],
          "name": "stderr"
        },
        {
          "output_type": "stream",
          "text": [
            "Train score: 0.9894285714285714\n",
            "Test score: 0.942\n",
            "Test2 score: 0.974\n",
            "RandomForestClassifier|Raw StandardScalerMTST|\n",
            "\n"
          ],
          "name": "stdout"
        },
        {
          "output_type": "stream",
          "text": [
            "/usr/local/lib/python3.6/dist-packages/sklearn/ensemble/forest.py:246: FutureWarning: The default value of n_estimators will change from 10 in version 0.20 to 100 in 0.22.\n",
            "  \"10 in version 0.20 to 100 in 0.22.\", FutureWarning)\n"
          ],
          "name": "stderr"
        },
        {
          "output_type": "stream",
          "text": [
            "Train score: 0.9894285714285714\n",
            "Test score: 0.9413333333333334\n",
            "Test2 score: 0.9733333333333334\n",
            "RandomForestClassifier|Raw StandardScalerMTSF|\n",
            "\n"
          ],
          "name": "stdout"
        },
        {
          "output_type": "stream",
          "text": [
            "/usr/local/lib/python3.6/dist-packages/sklearn/ensemble/forest.py:246: FutureWarning: The default value of n_estimators will change from 10 in version 0.20 to 100 in 0.22.\n",
            "  \"10 in version 0.20 to 100 in 0.22.\", FutureWarning)\n"
          ],
          "name": "stderr"
        },
        {
          "output_type": "stream",
          "text": [
            "Train score: 0.9894285714285714\n",
            "Test score: 0.942\n",
            "Test2 score: 0.974\n",
            "RandomForestClassifier|Raw StandardScalerMFST|\n",
            "\n"
          ],
          "name": "stdout"
        },
        {
          "output_type": "stream",
          "text": [
            "/usr/local/lib/python3.6/dist-packages/sklearn/ensemble/forest.py:246: FutureWarning: The default value of n_estimators will change from 10 in version 0.20 to 100 in 0.22.\n",
            "  \"10 in version 0.20 to 100 in 0.22.\", FutureWarning)\n"
          ],
          "name": "stderr"
        },
        {
          "output_type": "stream",
          "text": [
            "Train score: 0.9894285714285714\n",
            "Test score: 0.942\n",
            "Test2 score: 0.974\n",
            "RandomForestClassifier|Raw StandardScalerMFSF|\n",
            "\n"
          ],
          "name": "stdout"
        },
        {
          "output_type": "stream",
          "text": [
            "/usr/local/lib/python3.6/dist-packages/sklearn/ensemble/forest.py:246: FutureWarning: The default value of n_estimators will change from 10 in version 0.20 to 100 in 0.22.\n",
            "  \"10 in version 0.20 to 100 in 0.22.\", FutureWarning)\n"
          ],
          "name": "stderr"
        },
        {
          "output_type": "stream",
          "text": [
            "Train score: 0.9894285714285714\n",
            "Test score: 0.942\n",
            "Test2 score: 0.974\n",
            "RandomForestClassifier|Raw StandardScalerMTST|StandardScalerMTSF|\n",
            "\n"
          ],
          "name": "stdout"
        },
        {
          "output_type": "stream",
          "text": [
            "/usr/local/lib/python3.6/dist-packages/sklearn/ensemble/forest.py:246: FutureWarning: The default value of n_estimators will change from 10 in version 0.20 to 100 in 0.22.\n",
            "  \"10 in version 0.20 to 100 in 0.22.\", FutureWarning)\n"
          ],
          "name": "stderr"
        },
        {
          "output_type": "stream",
          "text": [
            "Train score: 0.9894285714285714\n",
            "Test score: 0.942\n",
            "Test2 score: 0.974\n",
            "RandomForestClassifier|Raw StandardScalerMTST|StandardScalerMFST|\n",
            "\n"
          ],
          "name": "stdout"
        },
        {
          "output_type": "stream",
          "text": [
            "/usr/local/lib/python3.6/dist-packages/sklearn/ensemble/forest.py:246: FutureWarning: The default value of n_estimators will change from 10 in version 0.20 to 100 in 0.22.\n",
            "  \"10 in version 0.20 to 100 in 0.22.\", FutureWarning)\n"
          ],
          "name": "stderr"
        },
        {
          "output_type": "stream",
          "text": [
            "Train score: 0.9894285714285714\n",
            "Test score: 0.942\n",
            "Test2 score: 0.974\n",
            "RandomForestClassifier|Raw StandardScalerMTST|StandardScalerMFSF|\n",
            "\n"
          ],
          "name": "stdout"
        },
        {
          "output_type": "stream",
          "text": [
            "/usr/local/lib/python3.6/dist-packages/sklearn/ensemble/forest.py:246: FutureWarning: The default value of n_estimators will change from 10 in version 0.20 to 100 in 0.22.\n",
            "  \"10 in version 0.20 to 100 in 0.22.\", FutureWarning)\n"
          ],
          "name": "stderr"
        },
        {
          "output_type": "stream",
          "text": [
            "Train score: 0.9894285714285714\n",
            "Test score: 0.942\n",
            "Test2 score: 0.974\n",
            "RandomForestClassifier|Raw StandardScalerMTSF|StandardScalerMFST|\n",
            "\n"
          ],
          "name": "stdout"
        },
        {
          "output_type": "stream",
          "text": [
            "/usr/local/lib/python3.6/dist-packages/sklearn/ensemble/forest.py:246: FutureWarning: The default value of n_estimators will change from 10 in version 0.20 to 100 in 0.22.\n",
            "  \"10 in version 0.20 to 100 in 0.22.\", FutureWarning)\n"
          ],
          "name": "stderr"
        },
        {
          "output_type": "stream",
          "text": [
            "Train score: 0.9894285714285714\n",
            "Test score: 0.9413333333333334\n",
            "Test2 score: 0.9733333333333334\n",
            "RandomForestClassifier|Raw StandardScalerMTSF|StandardScalerMFSF|\n",
            "\n"
          ],
          "name": "stdout"
        },
        {
          "output_type": "stream",
          "text": [
            "/usr/local/lib/python3.6/dist-packages/sklearn/ensemble/forest.py:246: FutureWarning: The default value of n_estimators will change from 10 in version 0.20 to 100 in 0.22.\n",
            "  \"10 in version 0.20 to 100 in 0.22.\", FutureWarning)\n"
          ],
          "name": "stderr"
        },
        {
          "output_type": "stream",
          "text": [
            "Train score: 0.9894285714285714\n",
            "Test score: 0.942\n",
            "Test2 score: 0.974\n",
            "RandomForestClassifier|Raw StandardScalerMFST|StandardScalerMFSF|\n",
            "\n",
            "Train score: 0.942\n",
            "Test score: 0.9453333333333334\n",
            "Test2 score: 0.944\n",
            "GradientBoostingClassifier|Raw MinMaxScaler|\n",
            "\n",
            "Train score: 0.942\n",
            "Test score: 0.9453333333333334\n",
            "Test2 score: 0.944\n",
            "GradientBoostingClassifier|Raw StandardScalerMTST|\n",
            "\n",
            "Train score: 0.942\n",
            "Test score: 0.9453333333333334\n",
            "Test2 score: 0.944\n",
            "GradientBoostingClassifier|Raw StandardScalerMTSF|\n",
            "\n",
            "Train score: 0.942\n",
            "Test score: 0.9453333333333334\n",
            "Test2 score: 0.944\n",
            "GradientBoostingClassifier|Raw StandardScalerMFST|\n",
            "\n",
            "Train score: 0.942\n",
            "Test score: 0.9453333333333334\n",
            "Test2 score: 0.944\n",
            "GradientBoostingClassifier|Raw StandardScalerMFSF|\n",
            "\n",
            "Train score: 0.942\n",
            "Test score: 0.9453333333333334\n",
            "Test2 score: 0.944\n",
            "GradientBoostingClassifier|Raw StandardScalerMTST|StandardScalerMTSF|\n",
            "\n",
            "Train score: 0.942\n",
            "Test score: 0.9453333333333334\n",
            "Test2 score: 0.944\n",
            "GradientBoostingClassifier|Raw StandardScalerMTST|StandardScalerMFST|\n",
            "\n",
            "Train score: 0.942\n",
            "Test score: 0.9453333333333334\n",
            "Test2 score: 0.944\n",
            "GradientBoostingClassifier|Raw StandardScalerMTST|StandardScalerMFSF|\n",
            "\n",
            "Train score: 0.942\n",
            "Test score: 0.9453333333333334\n",
            "Test2 score: 0.944\n",
            "GradientBoostingClassifier|Raw StandardScalerMTSF|StandardScalerMFST|\n",
            "\n",
            "Train score: 0.942\n",
            "Test score: 0.9453333333333334\n",
            "Test2 score: 0.944\n",
            "GradientBoostingClassifier|Raw StandardScalerMTSF|StandardScalerMFSF|\n",
            "\n",
            "Train score: 0.942\n",
            "Test score: 0.9453333333333334\n",
            "Test2 score: 0.944\n",
            "GradientBoostingClassifier|Raw StandardScalerMFST|StandardScalerMFSF|\n",
            "\n",
            "best estimate parameters {'C': 0.5487522862686786, 'intercept_scaling': 0.5938057675469623, 'max_iter': 24, 'solver': 'lbfgs', 'tol': 0.947129082024737}\n",
            "best estimate parameters {'C': 0.9450580491418512, 'intercept_scaling': 0.11052715417884085, 'max_iter': 19, 'solver': 'lbfgs', 'tol': 0.6382678936912054}\n",
            "best estimate parameters {'C': 0.7994655332026064, 'intercept_scaling': 0.16444491225655156, 'max_iter': 70, 'solver': 'newton-cg', 'tol': 0.07745900643450632}\n"
          ],
          "name": "stdout"
        },
        {
          "output_type": "stream",
          "text": [
            "/usr/local/lib/python3.6/dist-packages/sklearn/utils/optimize.py:203: ConvergenceWarning: newton-cg failed to converge. Increase the number of iterations.\n",
            "  \"number of iterations.\", ConvergenceWarning)\n"
          ],
          "name": "stderr"
        },
        {
          "output_type": "stream",
          "text": [
            "Train score: 0.9377142857142857\n",
            "Test score: 0.9453333333333334\n",
            "Test2 score: 0.9406666666666667\n",
            "LogisticRegression2|Raw StandardScalerMTSF|\n",
            "\n",
            "best estimate parameters {'C': 0.9855550211035955, 'intercept_scaling': 0.6585644968067295, 'max_iter': 87, 'solver': 'newton-cg', 'tol': 0.29980600602083174}\n",
            "Train score: 0.9377142857142857\n",
            "Test score: 0.9453333333333334\n",
            "Test2 score: 0.9406666666666667\n",
            "LogisticRegression2|Raw StandardScalerMFST|\n",
            "\n",
            "best estimate parameters {'C': 0.8236388609936721, 'intercept_scaling': 0.6312116860758571, 'max_iter': 69, 'solver': 'newton-cg', 'tol': 0.3625974581361563}\n"
          ],
          "name": "stdout"
        },
        {
          "output_type": "stream",
          "text": [
            "/usr/local/lib/python3.6/dist-packages/scipy/optimize/linesearch.py:462: LineSearchWarning: The line search algorithm did not converge\n",
            "  warn('The line search algorithm did not converge', LineSearchWarning)\n",
            "/usr/local/lib/python3.6/dist-packages/scipy/optimize/linesearch.py:313: LineSearchWarning: The line search algorithm did not converge\n",
            "  warn('The line search algorithm did not converge', LineSearchWarning)\n",
            "/usr/local/lib/python3.6/dist-packages/sklearn/utils/optimize.py:203: ConvergenceWarning: newton-cg failed to converge. Increase the number of iterations.\n",
            "  \"number of iterations.\", ConvergenceWarning)\n"
          ],
          "name": "stderr"
        },
        {
          "output_type": "stream",
          "text": [
            "Train score: 0.9377142857142857\n",
            "Test score: 0.9453333333333334\n",
            "Test2 score: 0.9406666666666667\n",
            "LogisticRegression2|Raw StandardScalerMFSF|\n",
            "\n",
            "best estimate parameters {'C': 0.8375821961524482, 'intercept_scaling': 0.3782386946294961, 'max_iter': 89, 'solver': 'newton-cg', 'tol': 0.05582798964685609}\n",
            "Train score: 0.9377142857142857\n",
            "Test score: 0.9453333333333334\n",
            "Test2 score: 0.9406666666666667\n",
            "LogisticRegression2|Raw StandardScalerMTST|StandardScalerMTSF|\n",
            "\n",
            "best estimate parameters {'C': 0.4770832719557283, 'intercept_scaling': 0.517357314821292, 'max_iter': 38, 'solver': 'newton-cg', 'tol': 0.6798887555877811}\n",
            "Train score: 0.9377142857142857\n",
            "Test score: 0.9453333333333334\n",
            "Test2 score: 0.9406666666666667\n",
            "LogisticRegression2|Raw StandardScalerMTST|StandardScalerMFST|\n",
            "\n",
            "best estimate parameters {'C': 0.9997405158853875, 'intercept_scaling': 0.9788740360355154, 'max_iter': 38, 'solver': 'saga', 'tol': 0.0583951973773823}\n",
            "Train score: 0.9377142857142857\n",
            "Test score: 0.9453333333333334\n",
            "Test2 score: 0.9406666666666667\n",
            "LogisticRegression2|Raw StandardScalerMTST|StandardScalerMFSF|\n",
            "\n",
            "best estimate parameters {'C': 0.3709937708190667, 'intercept_scaling': 0.19035892808014954, 'max_iter': 39, 'solver': 'newton-cg', 'tol': 0.1835905496549396}\n",
            "Train score: 0.9377142857142857\n",
            "Test score: 0.9453333333333334\n",
            "Test2 score: 0.9406666666666667\n",
            "LogisticRegression2|Raw StandardScalerMTSF|StandardScalerMFST|\n",
            "\n",
            "best estimate parameters {'C': 0.16461317684300342, 'intercept_scaling': 0.03273139543599479, 'max_iter': 81, 'solver': 'lbfgs', 'tol': 0.5555431182191269}\n",
            "best estimate parameters {'C': 0.23057494420124447, 'intercept_scaling': 0.6770202561269566, 'max_iter': 33, 'solver': 'newton-cg', 'tol': 0.7177725664543775}\n",
            "Train score: 0.9377142857142857\n",
            "Test score: 0.9453333333333334\n",
            "Test2 score: 0.9406666666666667\n",
            "LogisticRegression2|Raw StandardScalerMFST|StandardScalerMFSF|\n",
            "\n",
            "best estimate parameters {'C': 0.8547203995814315, 'class_weight': 'balanced', 'fit_intercept': False, 'intercept_scaling': 0.052651614347179354, 'loss': 'squared_hinge', 'max_iter': 53, 'tol': 0.48996760229476666}\n",
            "Train score: 0.938\n",
            "Test score: 0.9453333333333334\n",
            "Test2 score: 0.9406666666666667\n",
            "LinearSVC|Raw MinMaxScaler|\n",
            "\n",
            "best estimate parameters {'C': 0.13842842705779757, 'class_weight': 'balanced', 'fit_intercept': False, 'intercept_scaling': 0.6838930557393423, 'loss': 'hinge', 'max_iter': 74, 'tol': 0.8034840294632929}\n",
            "Train score: 0.9377142857142857\n",
            "Test score: 0.9453333333333334\n",
            "Test2 score: 0.9406666666666667\n",
            "LinearSVC|Raw StandardScalerMTST|\n",
            "\n",
            "best estimate parameters {'C': 0.001473375879916727, 'class_weight': '', 'fit_intercept': True, 'intercept_scaling': 0.7607202970769411, 'loss': 'hinge', 'max_iter': 50, 'tol': 0.6417402314948171}\n"
          ],
          "name": "stdout"
        },
        {
          "output_type": "stream",
          "text": [
            "/usr/local/lib/python3.6/dist-packages/sklearn/svm/base.py:931: ConvergenceWarning: Liblinear failed to converge, increase the number of iterations.\n",
            "  \"the number of iterations.\", ConvergenceWarning)\n"
          ],
          "name": "stderr"
        },
        {
          "output_type": "stream",
          "text": [
            "LinearSVC|Raw StandardScalerMTSF|\n",
            "\n",
            "best estimate parameters {'C': 0.5461965986414965, 'class_weight': 'balanced', 'fit_intercept': True, 'intercept_scaling': 0.0074887093478108735, 'loss': 'squared_hinge', 'max_iter': 35, 'tol': 0.33609359673148675}\n"
          ],
          "name": "stdout"
        },
        {
          "output_type": "stream",
          "text": [
            "/usr/local/lib/python3.6/dist-packages/sklearn/svm/base.py:931: ConvergenceWarning: Liblinear failed to converge, increase the number of iterations.\n",
            "  \"the number of iterations.\", ConvergenceWarning)\n"
          ],
          "name": "stderr"
        },
        {
          "output_type": "stream",
          "text": [
            "Train score: 0.9377142857142857\n",
            "Test score: 0.9453333333333334\n",
            "Test2 score: 0.9406666666666667\n",
            "LinearSVC|Raw StandardScalerMFST|\n",
            "\n",
            "best estimate parameters {'C': 0.32555678318128944, 'class_weight': '', 'fit_intercept': True, 'intercept_scaling': 0.7150868167538104, 'loss': 'squared_hinge', 'max_iter': 87, 'tol': 0.11332795658142515}\n"
          ],
          "name": "stdout"
        },
        {
          "output_type": "stream",
          "text": [
            "/usr/local/lib/python3.6/dist-packages/sklearn/svm/base.py:931: ConvergenceWarning: Liblinear failed to converge, increase the number of iterations.\n",
            "  \"the number of iterations.\", ConvergenceWarning)\n"
          ],
          "name": "stderr"
        },
        {
          "output_type": "stream",
          "text": [
            "LinearSVC|Raw StandardScalerMFSF|\n",
            "\n",
            "best estimate parameters {'C': 0.8212385677687012, 'class_weight': '', 'fit_intercept': True, 'intercept_scaling': 0.9400783565367884, 'loss': 'squared_hinge', 'max_iter': 67, 'tol': 0.3969090785274919}\n"
          ],
          "name": "stdout"
        },
        {
          "output_type": "stream",
          "text": [
            "/usr/local/lib/python3.6/dist-packages/sklearn/svm/base.py:931: ConvergenceWarning: Liblinear failed to converge, increase the number of iterations.\n",
            "  \"the number of iterations.\", ConvergenceWarning)\n"
          ],
          "name": "stderr"
        },
        {
          "output_type": "stream",
          "text": [
            "Train score: 0.9377142857142857\n",
            "Test score: 0.9453333333333334\n",
            "Test2 score: 0.9406666666666667\n",
            "LinearSVC|Raw StandardScalerMTST|StandardScalerMTSF|\n",
            "\n",
            "best estimate parameters {'C': 0.0016994743946792124, 'class_weight': 'balanced', 'fit_intercept': False, 'intercept_scaling': 0.8771279492487144, 'loss': 'hinge', 'max_iter': 90, 'tol': 0.8382452874828731}\n",
            "Train score: 0.9377142857142857\n",
            "Test score: 0.9453333333333334\n",
            "Test2 score: 0.9406666666666667\n",
            "LinearSVC|Raw StandardScalerMTST|StandardScalerMFST|\n",
            "\n",
            "best estimate parameters {'C': 0.26048802660157266, 'class_weight': 'balanced', 'fit_intercept': False, 'intercept_scaling': 0.8197316632709806, 'loss': 'hinge', 'max_iter': 93, 'tol': 0.18953737095699674}\n",
            "Train score: 0.9377142857142857\n",
            "Test score: 0.9453333333333334\n",
            "Test2 score: 0.9406666666666667\n",
            "LinearSVC|Raw StandardScalerMTST|StandardScalerMFSF|\n",
            "\n",
            "best estimate parameters {'C': 0.08587460867624219, 'class_weight': '', 'fit_intercept': True, 'intercept_scaling': 0.9435892025685942, 'loss': 'squared_hinge', 'max_iter': 92, 'tol': 0.9732301503088294}\n",
            "Train score: 0.9377142857142857\n",
            "Test score: 0.9453333333333334\n",
            "Test2 score: 0.9406666666666667\n",
            "LinearSVC|Raw StandardScalerMTSF|StandardScalerMFST|\n",
            "\n",
            "best estimate parameters {'C': 0.32831573039158224, 'class_weight': 'balanced', 'fit_intercept': False, 'intercept_scaling': 0.4824748326063091, 'loss': 'squared_hinge', 'max_iter': 50, 'tol': 0.6812592082444259}\n"
          ],
          "name": "stdout"
        },
        {
          "output_type": "stream",
          "text": [
            "/usr/local/lib/python3.6/dist-packages/sklearn/svm/base.py:931: ConvergenceWarning: Liblinear failed to converge, increase the number of iterations.\n",
            "  \"the number of iterations.\", ConvergenceWarning)\n"
          ],
          "name": "stderr"
        },
        {
          "output_type": "stream",
          "text": [
            "LinearSVC|Raw StandardScalerMTSF|StandardScalerMFSF|\n",
            "\n",
            "best estimate parameters {'C': 0.7507604563519078, 'class_weight': 'balanced', 'fit_intercept': True, 'intercept_scaling': 0.14997716175587517, 'loss': 'squared_hinge', 'max_iter': 43, 'tol': 0.7910919088049825}\n"
          ],
          "name": "stdout"
        },
        {
          "output_type": "stream",
          "text": [
            "/usr/local/lib/python3.6/dist-packages/sklearn/svm/base.py:931: ConvergenceWarning: Liblinear failed to converge, increase the number of iterations.\n",
            "  \"the number of iterations.\", ConvergenceWarning)\n"
          ],
          "name": "stderr"
        },
        {
          "output_type": "stream",
          "text": [
            "Train score: 0.9377142857142857\n",
            "Test score: 0.9453333333333334\n",
            "Test2 score: 0.9406666666666667\n",
            "LinearSVC|Raw StandardScalerMFST|StandardScalerMFSF|\n",
            "\n",
            "best estimate parameters {'learning_rate': 1.1183350450101914, 'n_estimators': 141}\n",
            "Train score: 0.9402857142857143\n",
            "Test score: 0.944\n",
            "Test2 score: 0.944\n",
            "AdaBoostClassifier|Raw MinMaxScaler|\n",
            "\n",
            "best estimate parameters {'learning_rate': 1.115165019694775, 'n_estimators': 212}\n",
            "Train score: 0.9414285714285714\n",
            "Test score: 0.9453333333333334\n",
            "Test2 score: 0.946\n",
            "AdaBoostClassifier|Raw StandardScalerMTST|\n",
            "\n",
            "best estimate parameters {'learning_rate': 1.1136913640077908, 'n_estimators': 150}\n",
            "Train score: 0.9411428571428572\n",
            "Test score: 0.9446666666666667\n",
            "Test2 score: 0.9453333333333334\n",
            "AdaBoostClassifier|Raw StandardScalerMTSF|\n",
            "\n",
            "best estimate parameters {'learning_rate': 1.0139940258586837, 'n_estimators': 70}\n",
            "Train score: 0.94\n",
            "Test score: 0.944\n",
            "Test2 score: 0.944\n",
            "AdaBoostClassifier|Raw StandardScalerMFST|\n",
            "\n",
            "best estimate parameters {'learning_rate': 2.1807330026435188, 'n_estimators': 137}\n",
            "Train score: 0.9377142857142857\n",
            "Test score: 0.9453333333333334\n",
            "Test2 score: 0.9406666666666667\n",
            "AdaBoostClassifier|Raw StandardScalerMFSF|\n",
            "\n",
            "best estimate parameters {'learning_rate': 1.9255997161961174, 'n_estimators': 48}\n",
            "Train score: 0.9377142857142857\n",
            "Test score: 0.944\n",
            "Test2 score: 0.9406666666666667\n",
            "AdaBoostClassifier|Raw StandardScalerMTST|StandardScalerMTSF|\n",
            "\n",
            "best estimate parameters {'learning_rate': 1.0170607653904407, 'n_estimators': 129}\n",
            "Train score: 0.94\n",
            "Test score: 0.9446666666666667\n",
            "Test2 score: 0.944\n",
            "AdaBoostClassifier|Raw StandardScalerMTST|StandardScalerMFST|\n",
            "\n",
            "best estimate parameters {'learning_rate': 1.2207100671474878, 'n_estimators': 136}\n",
            "Train score: 0.9414285714285714\n",
            "Test score: 0.944\n",
            "Test2 score: 0.9453333333333334\n",
            "AdaBoostClassifier|Raw StandardScalerMTST|StandardScalerMFSF|\n",
            "\n",
            "best estimate parameters {'learning_rate': 2.2722552583083133, 'n_estimators': 123}\n",
            "Train score: 0.9377142857142857\n",
            "Test score: 0.9453333333333334\n",
            "Test2 score: 0.9406666666666667\n",
            "AdaBoostClassifier|Raw StandardScalerMTSF|StandardScalerMFST|\n",
            "\n",
            "best estimate parameters {'learning_rate': 1.041517096451481, 'n_estimators': 122}\n",
            "Train score: 0.94\n",
            "Test score: 0.944\n",
            "Test2 score: 0.944\n",
            "AdaBoostClassifier|Raw StandardScalerMTSF|StandardScalerMFSF|\n",
            "\n",
            "best estimate parameters {'learning_rate': 1.8583316805935404, 'n_estimators': 102}\n",
            "Train score: 0.9405714285714286\n",
            "Test score: 0.9426666666666667\n",
            "Test2 score: 0.9446666666666667\n",
            "AdaBoostClassifier|Raw StandardScalerMFST|StandardScalerMFSF|\n",
            "\n"
          ],
          "name": "stdout"
        },
        {
          "output_type": "stream",
          "text": [
            "/usr/local/lib/python3.6/dist-packages/sklearn/ensemble/forest.py:246: FutureWarning: The default value of n_estimators will change from 10 in version 0.20 to 100 in 0.22.\n",
            "  \"10 in version 0.20 to 100 in 0.22.\", FutureWarning)\n"
          ],
          "name": "stderr"
        },
        {
          "output_type": "stream",
          "text": [
            "Train score: 0.9897142857142858\n",
            "Test score: 0.944\n",
            "Test2 score: 0.9766666666666667\n",
            "RandomForestClassifier|PCA MinMaxScaler|\n",
            "\n"
          ],
          "name": "stdout"
        },
        {
          "output_type": "stream",
          "text": [
            "/usr/local/lib/python3.6/dist-packages/sklearn/ensemble/forest.py:246: FutureWarning: The default value of n_estimators will change from 10 in version 0.20 to 100 in 0.22.\n",
            "  \"10 in version 0.20 to 100 in 0.22.\", FutureWarning)\n"
          ],
          "name": "stderr"
        },
        {
          "output_type": "stream",
          "text": [
            "Train score: 0.9897142857142858\n",
            "Test score: 0.942\n",
            "Test2 score: 0.976\n",
            "RandomForestClassifier|PCA StandardScalerMTST|\n",
            "\n"
          ],
          "name": "stdout"
        },
        {
          "output_type": "stream",
          "text": [
            "/usr/local/lib/python3.6/dist-packages/sklearn/ensemble/forest.py:246: FutureWarning: The default value of n_estimators will change from 10 in version 0.20 to 100 in 0.22.\n",
            "  \"10 in version 0.20 to 100 in 0.22.\", FutureWarning)\n"
          ],
          "name": "stderr"
        },
        {
          "output_type": "stream",
          "text": [
            "RandomForestClassifier|PCA StandardScalerMTSF|\n",
            "\n"
          ],
          "name": "stdout"
        },
        {
          "output_type": "stream",
          "text": [
            "/usr/local/lib/python3.6/dist-packages/sklearn/ensemble/forest.py:246: FutureWarning: The default value of n_estimators will change from 10 in version 0.20 to 100 in 0.22.\n",
            "  \"10 in version 0.20 to 100 in 0.22.\", FutureWarning)\n"
          ],
          "name": "stderr"
        },
        {
          "output_type": "stream",
          "text": [
            "Train score: 0.9897142857142858\n",
            "Test score: 0.942\n",
            "Test2 score: 0.976\n",
            "RandomForestClassifier|PCA StandardScalerMFST|\n",
            "\n"
          ],
          "name": "stdout"
        },
        {
          "output_type": "stream",
          "text": [
            "/usr/local/lib/python3.6/dist-packages/sklearn/ensemble/forest.py:246: FutureWarning: The default value of n_estimators will change from 10 in version 0.20 to 100 in 0.22.\n",
            "  \"10 in version 0.20 to 100 in 0.22.\", FutureWarning)\n"
          ],
          "name": "stderr"
        },
        {
          "output_type": "stream",
          "text": [
            "RandomForestClassifier|PCA StandardScalerMFSF|\n",
            "\n"
          ],
          "name": "stdout"
        },
        {
          "output_type": "stream",
          "text": [
            "/usr/local/lib/python3.6/dist-packages/sklearn/ensemble/forest.py:246: FutureWarning: The default value of n_estimators will change from 10 in version 0.20 to 100 in 0.22.\n",
            "  \"10 in version 0.20 to 100 in 0.22.\", FutureWarning)\n"
          ],
          "name": "stderr"
        },
        {
          "output_type": "stream",
          "text": [
            "Train score: 0.9897142857142858\n",
            "Test score: 0.942\n",
            "Test2 score: 0.976\n",
            "RandomForestClassifier|PCA StandardScalerMTST|StandardScalerMTSF|\n",
            "\n"
          ],
          "name": "stdout"
        },
        {
          "output_type": "stream",
          "text": [
            "/usr/local/lib/python3.6/dist-packages/sklearn/ensemble/forest.py:246: FutureWarning: The default value of n_estimators will change from 10 in version 0.20 to 100 in 0.22.\n",
            "  \"10 in version 0.20 to 100 in 0.22.\", FutureWarning)\n"
          ],
          "name": "stderr"
        },
        {
          "output_type": "stream",
          "text": [
            "Train score: 0.9897142857142858\n",
            "Test score: 0.942\n",
            "Test2 score: 0.976\n",
            "RandomForestClassifier|PCA StandardScalerMTST|StandardScalerMFST|\n",
            "\n"
          ],
          "name": "stdout"
        },
        {
          "output_type": "stream",
          "text": [
            "/usr/local/lib/python3.6/dist-packages/sklearn/ensemble/forest.py:246: FutureWarning: The default value of n_estimators will change from 10 in version 0.20 to 100 in 0.22.\n",
            "  \"10 in version 0.20 to 100 in 0.22.\", FutureWarning)\n"
          ],
          "name": "stderr"
        },
        {
          "output_type": "stream",
          "text": [
            "Train score: 0.9897142857142858\n",
            "Test score: 0.942\n",
            "Test2 score: 0.976\n",
            "RandomForestClassifier|PCA StandardScalerMTST|StandardScalerMFSF|\n",
            "\n"
          ],
          "name": "stdout"
        },
        {
          "output_type": "stream",
          "text": [
            "/usr/local/lib/python3.6/dist-packages/sklearn/ensemble/forest.py:246: FutureWarning: The default value of n_estimators will change from 10 in version 0.20 to 100 in 0.22.\n",
            "  \"10 in version 0.20 to 100 in 0.22.\", FutureWarning)\n"
          ],
          "name": "stderr"
        },
        {
          "output_type": "stream",
          "text": [
            "Train score: 0.9897142857142858\n",
            "Test score: 0.942\n",
            "Test2 score: 0.976\n",
            "RandomForestClassifier|PCA StandardScalerMTSF|StandardScalerMFST|\n",
            "\n"
          ],
          "name": "stdout"
        },
        {
          "output_type": "stream",
          "text": [
            "/usr/local/lib/python3.6/dist-packages/sklearn/ensemble/forest.py:246: FutureWarning: The default value of n_estimators will change from 10 in version 0.20 to 100 in 0.22.\n",
            "  \"10 in version 0.20 to 100 in 0.22.\", FutureWarning)\n"
          ],
          "name": "stderr"
        },
        {
          "output_type": "stream",
          "text": [
            "RandomForestClassifier|PCA StandardScalerMTSF|StandardScalerMFSF|\n",
            "\n"
          ],
          "name": "stdout"
        },
        {
          "output_type": "stream",
          "text": [
            "/usr/local/lib/python3.6/dist-packages/sklearn/ensemble/forest.py:246: FutureWarning: The default value of n_estimators will change from 10 in version 0.20 to 100 in 0.22.\n",
            "  \"10 in version 0.20 to 100 in 0.22.\", FutureWarning)\n"
          ],
          "name": "stderr"
        },
        {
          "output_type": "stream",
          "text": [
            "Train score: 0.9897142857142858\n",
            "Test score: 0.942\n",
            "Test2 score: 0.976\n",
            "RandomForestClassifier|PCA StandardScalerMFST|StandardScalerMFSF|\n",
            "\n",
            "Train score: 0.9437142857142857\n",
            "Test score: 0.944\n",
            "Test2 score: 0.944\n",
            "GradientBoostingClassifier|PCA MinMaxScaler|\n",
            "\n",
            "Train score: 0.9437142857142857\n",
            "Test score: 0.942\n",
            "Test2 score: 0.9433333333333334\n",
            "GradientBoostingClassifier|PCA StandardScalerMTST|\n",
            "\n",
            "GradientBoostingClassifier|PCA StandardScalerMTSF|\n",
            "\n",
            "Train score: 0.9437142857142857\n",
            "Test score: 0.942\n",
            "Test2 score: 0.9433333333333334\n",
            "GradientBoostingClassifier|PCA StandardScalerMFST|\n",
            "\n",
            "GradientBoostingClassifier|PCA StandardScalerMFSF|\n",
            "\n",
            "Train score: 0.9437142857142857\n",
            "Test score: 0.942\n",
            "Test2 score: 0.9433333333333334\n",
            "GradientBoostingClassifier|PCA StandardScalerMTST|StandardScalerMTSF|\n",
            "\n",
            "Train score: 0.9437142857142857\n",
            "Test score: 0.942\n",
            "Test2 score: 0.9433333333333334\n",
            "GradientBoostingClassifier|PCA StandardScalerMTST|StandardScalerMFST|\n",
            "\n",
            "Train score: 0.9437142857142857\n",
            "Test score: 0.942\n",
            "Test2 score: 0.9433333333333334\n",
            "GradientBoostingClassifier|PCA StandardScalerMTST|StandardScalerMFSF|\n",
            "\n",
            "Train score: 0.9437142857142857\n",
            "Test score: 0.942\n",
            "Test2 score: 0.9433333333333334\n",
            "GradientBoostingClassifier|PCA StandardScalerMTSF|StandardScalerMFST|\n",
            "\n",
            "GradientBoostingClassifier|PCA StandardScalerMTSF|StandardScalerMFSF|\n",
            "\n",
            "Train score: 0.9437142857142857\n",
            "Test score: 0.942\n",
            "Test2 score: 0.9433333333333334\n",
            "GradientBoostingClassifier|PCA StandardScalerMFST|StandardScalerMFSF|\n",
            "\n",
            "best estimate parameters {'C': 0.21999178667208896, 'intercept_scaling': 0.8070651738978513, 'max_iter': 42, 'solver': 'sag', 'tol': 0.7286882424677751}\n",
            "Train score: 0.9377142857142857\n",
            "Test score: 0.9453333333333334\n",
            "Test2 score: 0.9406666666666667\n",
            "LogisticRegression2|PCA MinMaxScaler|\n",
            "\n",
            "best estimate parameters {'C': 0.4530015295482531, 'intercept_scaling': 0.12778938961851638, 'max_iter': 52, 'solver': 'lbfgs', 'tol': 0.04353875330555523}\n",
            "best estimate parameters {'C': 0.44836348257156977, 'intercept_scaling': 0.1662478223804098, 'max_iter': 28, 'solver': 'saga', 'tol': 0.11660085213417404}\n",
            "LogisticRegression2|PCA StandardScalerMTSF|\n",
            "\n",
            "best estimate parameters {'C': 0.25438620021450487, 'intercept_scaling': 0.5187271340804958, 'max_iter': 4, 'solver': 'lbfgs', 'tol': 0.5704852187237531}\n",
            "best estimate parameters {'C': 0.11794097676665627, 'intercept_scaling': 0.02811450309501362, 'max_iter': 46, 'solver': 'saga', 'tol': 0.9877837209348982}\n",
            "LogisticRegression2|PCA StandardScalerMFSF|\n",
            "\n",
            "best estimate parameters {'C': 0.868141137531019, 'intercept_scaling': 0.4674669767052996, 'max_iter': 76, 'solver': 'saga', 'tol': 0.887268673842693}\n",
            "Train score: 0.9377142857142857\n",
            "Test score: 0.9453333333333334\n",
            "Test2 score: 0.9406666666666667\n",
            "LogisticRegression2|PCA StandardScalerMTST|StandardScalerMTSF|\n",
            "\n",
            "best estimate parameters {'C': 0.38431694118821447, 'intercept_scaling': 0.44989961192873074, 'max_iter': 28, 'solver': 'saga', 'tol': 0.8099773021898512}\n",
            "Train score: 0.9377142857142857\n",
            "Test score: 0.9453333333333334\n",
            "Test2 score: 0.9406666666666667\n",
            "LogisticRegression2|PCA StandardScalerMTST|StandardScalerMFST|\n",
            "\n",
            "best estimate parameters {'C': 0.9497075341210691, 'intercept_scaling': 0.9950100601268752, 'max_iter': 63, 'solver': 'sag', 'tol': 0.8521937782797665}\n",
            "Train score: 0.9377142857142857\n",
            "Test score: 0.9453333333333334\n",
            "Test2 score: 0.9406666666666667\n",
            "LogisticRegression2|PCA StandardScalerMTST|StandardScalerMFSF|\n",
            "\n",
            "best estimate parameters {'C': 0.12770015133528922, 'intercept_scaling': 0.09008240820323465, 'max_iter': 84, 'solver': 'newton-cg', 'tol': 0.9109854066441535}\n",
            "Train score: 0.9377142857142857\n",
            "Test score: 0.9453333333333334\n",
            "Test2 score: 0.9406666666666667\n",
            "LogisticRegression2|PCA StandardScalerMTSF|StandardScalerMFST|\n",
            "\n",
            "best estimate parameters {'C': 0.15613020480186535, 'intercept_scaling': 0.8406713086634398, 'max_iter': 80, 'solver': 'saga', 'tol': 0.6452363989257406}\n",
            "LogisticRegression2|PCA StandardScalerMTSF|StandardScalerMFSF|\n",
            "\n",
            "best estimate parameters {'C': 0.8175675566135616, 'intercept_scaling': 0.3103664069985541, 'max_iter': 34, 'solver': 'lbfgs', 'tol': 0.5068373894195587}\n",
            "best estimate parameters {'C': 0.49398467559676484, 'class_weight': '', 'fit_intercept': False, 'intercept_scaling': 0.8896158335635163, 'loss': 'squared_hinge', 'max_iter': 44, 'tol': 0.1757170064451652}\n",
            "Train score: 0.9377142857142857\n",
            "Test score: 0.9453333333333334\n",
            "Test2 score: 0.9406666666666667\n",
            "LinearSVC|PCA MinMaxScaler|\n",
            "\n",
            "best estimate parameters {'C': 0.1274768789423848, 'class_weight': '', 'fit_intercept': False, 'intercept_scaling': 0.987125813814999, 'loss': 'hinge', 'max_iter': 39, 'tol': 0.7816317743946911}\n",
            "Train score: 0.9377142857142857\n",
            "Test score: 0.9453333333333334\n",
            "Test2 score: 0.9406666666666667\n",
            "LinearSVC|PCA StandardScalerMTST|\n",
            "\n",
            "best estimate parameters {'C': 0.5938252779722919, 'class_weight': 'balanced', 'fit_intercept': False, 'intercept_scaling': 0.2556314376327105, 'loss': 'hinge', 'max_iter': 54, 'tol': 0.7641335540145956}\n"
          ],
          "name": "stdout"
        },
        {
          "output_type": "stream",
          "text": [
            "/usr/local/lib/python3.6/dist-packages/sklearn/svm/base.py:931: ConvergenceWarning: Liblinear failed to converge, increase the number of iterations.\n",
            "  \"the number of iterations.\", ConvergenceWarning)\n"
          ],
          "name": "stderr"
        },
        {
          "output_type": "stream",
          "text": [
            "LinearSVC|PCA StandardScalerMTSF|\n",
            "\n",
            "best estimate parameters {'C': 0.44744852751514574, 'class_weight': 'balanced', 'fit_intercept': True, 'intercept_scaling': 0.9041298714445722, 'loss': 'squared_hinge', 'max_iter': 35, 'tol': 0.0929010450509331}\n"
          ],
          "name": "stdout"
        },
        {
          "output_type": "stream",
          "text": [
            "/usr/local/lib/python3.6/dist-packages/sklearn/svm/base.py:931: ConvergenceWarning: Liblinear failed to converge, increase the number of iterations.\n",
            "  \"the number of iterations.\", ConvergenceWarning)\n"
          ],
          "name": "stderr"
        },
        {
          "output_type": "stream",
          "text": [
            "Train score: 0.9377142857142857\n",
            "Test score: 0.9453333333333334\n",
            "Test2 score: 0.9406666666666667\n",
            "LinearSVC|PCA StandardScalerMFST|\n",
            "\n",
            "best estimate parameters {'C': 0.9769057899265908, 'class_weight': 'balanced', 'fit_intercept': True, 'intercept_scaling': 0.8245376189440017, 'loss': 'squared_hinge', 'max_iter': 54, 'tol': 0.4525806340869927}\n"
          ],
          "name": "stdout"
        },
        {
          "output_type": "stream",
          "text": [
            "/usr/local/lib/python3.6/dist-packages/sklearn/svm/base.py:931: ConvergenceWarning: Liblinear failed to converge, increase the number of iterations.\n",
            "  \"the number of iterations.\", ConvergenceWarning)\n"
          ],
          "name": "stderr"
        },
        {
          "output_type": "stream",
          "text": [
            "LinearSVC|PCA StandardScalerMFSF|\n",
            "\n",
            "best estimate parameters {'C': 0.4933186777616614, 'class_weight': 'balanced', 'fit_intercept': True, 'intercept_scaling': 0.05818309201299121, 'loss': 'squared_hinge', 'max_iter': 48, 'tol': 0.6232846970357543}\n"
          ],
          "name": "stdout"
        },
        {
          "output_type": "stream",
          "text": [
            "/usr/local/lib/python3.6/dist-packages/sklearn/svm/base.py:931: ConvergenceWarning: Liblinear failed to converge, increase the number of iterations.\n",
            "  \"the number of iterations.\", ConvergenceWarning)\n"
          ],
          "name": "stderr"
        },
        {
          "output_type": "stream",
          "text": [
            "Train score: 0.9377142857142857\n",
            "Test score: 0.9453333333333334\n",
            "Test2 score: 0.9406666666666667\n",
            "LinearSVC|PCA StandardScalerMTST|StandardScalerMTSF|\n",
            "\n",
            "best estimate parameters {'C': 0.6559413948957494, 'class_weight': '', 'fit_intercept': True, 'intercept_scaling': 0.5267926650225098, 'loss': 'hinge', 'max_iter': 53, 'tol': 0.3426045715601276}\n",
            "Train score: 0.9377142857142857\n",
            "Test score: 0.9453333333333334\n",
            "Test2 score: 0.9406666666666667\n",
            "LinearSVC|PCA StandardScalerMTST|StandardScalerMFST|\n",
            "\n",
            "best estimate parameters {'C': 0.63939431829539, 'class_weight': '', 'fit_intercept': True, 'intercept_scaling': 0.32906376952208294, 'loss': 'squared_hinge', 'max_iter': 10, 'tol': 0.21686188235555603}\n"
          ],
          "name": "stdout"
        },
        {
          "output_type": "stream",
          "text": [
            "/usr/local/lib/python3.6/dist-packages/sklearn/svm/base.py:931: ConvergenceWarning: Liblinear failed to converge, increase the number of iterations.\n",
            "  \"the number of iterations.\", ConvergenceWarning)\n"
          ],
          "name": "stderr"
        },
        {
          "output_type": "stream",
          "text": [
            "Train score: 0.9262857142857143\n",
            "Test score: 0.9393333333333334\n",
            "Test2 score: 0.9273333333333333\n",
            "LinearSVC|PCA StandardScalerMTST|StandardScalerMFSF|\n",
            "\n",
            "best estimate parameters {'C': 0.1829917419012106, 'class_weight': '', 'fit_intercept': True, 'intercept_scaling': 0.13432966088727083, 'loss': 'hinge', 'max_iter': 51, 'tol': 0.7880449442473705}\n",
            "Train score: 0.9377142857142857\n",
            "Test score: 0.9453333333333334\n",
            "Test2 score: 0.9406666666666667\n",
            "LinearSVC|PCA StandardScalerMTSF|StandardScalerMFST|\n",
            "\n",
            "best estimate parameters {'C': 0.5230906210240751, 'class_weight': 'balanced', 'fit_intercept': True, 'intercept_scaling': 0.3447191966827991, 'loss': 'squared_hinge', 'max_iter': 54, 'tol': 0.03398415785927951}\n"
          ],
          "name": "stdout"
        },
        {
          "output_type": "stream",
          "text": [
            "/usr/local/lib/python3.6/dist-packages/sklearn/svm/base.py:931: ConvergenceWarning: Liblinear failed to converge, increase the number of iterations.\n",
            "  \"the number of iterations.\", ConvergenceWarning)\n"
          ],
          "name": "stderr"
        },
        {
          "output_type": "stream",
          "text": [
            "LinearSVC|PCA StandardScalerMTSF|StandardScalerMFSF|\n",
            "\n",
            "best estimate parameters {'C': 0.7995645498237136, 'class_weight': '', 'fit_intercept': True, 'intercept_scaling': 0.10748747523527369, 'loss': 'hinge', 'max_iter': 88, 'tol': 0.24661282764824888}\n",
            "Train score: 0.9377142857142857\n",
            "Test score: 0.9453333333333334\n",
            "Test2 score: 0.9406666666666667\n",
            "LinearSVC|PCA StandardScalerMFST|StandardScalerMFSF|\n",
            "\n",
            "best estimate parameters {'learning_rate': 2.350886726555914, 'n_estimators': 151}\n",
            "Train score: 0.9377142857142857\n",
            "Test score: 0.9453333333333334\n",
            "Test2 score: 0.9406666666666667\n",
            "AdaBoostClassifier|PCA MinMaxScaler|\n",
            "\n",
            "best estimate parameters {'learning_rate': 1.3681438524498857, 'n_estimators': 54}\n",
            "Train score: 0.9374285714285714\n",
            "Test score: 0.942\n",
            "Test2 score: 0.9406666666666667\n",
            "AdaBoostClassifier|PCA StandardScalerMTST|\n",
            "\n",
            "best estimate parameters {'learning_rate': 2.3996694893375383, 'n_estimators': 39}\n",
            "AdaBoostClassifier|PCA StandardScalerMTSF|\n",
            "\n",
            "best estimate parameters {'learning_rate': 1.3817324707946885, 'n_estimators': 3}\n",
            "Train score: 0.9197142857142857\n",
            "Test score: 0.9286666666666666\n",
            "Test2 score: 0.924\n",
            "AdaBoostClassifier|PCA StandardScalerMFST|\n",
            "\n",
            "best estimate parameters {'learning_rate': 2.111993809470328, 'n_estimators': 87}\n",
            "AdaBoostClassifier|PCA StandardScalerMFSF|\n",
            "\n",
            "best estimate parameters {'learning_rate': 1.009266626584959, 'n_estimators': 1}\n",
            "Train score: 0.9325714285714286\n",
            "Test score: 0.94\n",
            "Test2 score: 0.9373333333333334\n",
            "AdaBoostClassifier|PCA StandardScalerMTST|StandardScalerMTSF|\n",
            "\n",
            "best estimate parameters {'learning_rate': 1.1268435176534835, 'n_estimators': 33}\n",
            "Train score: 0.9365714285714286\n",
            "Test score: 0.9426666666666667\n",
            "Test2 score: 0.9406666666666667\n",
            "AdaBoostClassifier|PCA StandardScalerMTST|StandardScalerMFST|\n",
            "\n",
            "best estimate parameters {'learning_rate': 1.06047087896384, 'n_estimators': 83}\n",
            "Train score: 0.9377142857142857\n",
            "Test score: 0.942\n",
            "Test2 score: 0.9406666666666667\n",
            "AdaBoostClassifier|PCA StandardScalerMTST|StandardScalerMFSF|\n",
            "\n",
            "best estimate parameters {'learning_rate': 1.080119781220154, 'n_estimators': 126}\n",
            "Train score: 0.94\n",
            "Test score: 0.942\n",
            "Test2 score: 0.94\n",
            "AdaBoostClassifier|PCA StandardScalerMTSF|StandardScalerMFST|\n",
            "\n",
            "best estimate parameters {'learning_rate': 1.9918010029355608, 'n_estimators': 102}\n",
            "AdaBoostClassifier|PCA StandardScalerMTSF|StandardScalerMFSF|\n",
            "\n",
            "best estimate parameters {'learning_rate': 1.210343478586199, 'n_estimators': 118}\n",
            "Train score: 0.9417142857142857\n",
            "Test score: 0.942\n",
            "Test2 score: 0.9433333333333334\n",
            "AdaBoostClassifier|PCA StandardScalerMFST|StandardScalerMFSF|\n",
            "\n"
          ],
          "name": "stdout"
        },
        {
          "output_type": "stream",
          "text": [
            "/usr/local/lib/python3.6/dist-packages/sklearn/ensemble/forest.py:246: FutureWarning: The default value of n_estimators will change from 10 in version 0.20 to 100 in 0.22.\n",
            "  \"10 in version 0.20 to 100 in 0.22.\", FutureWarning)\n"
          ],
          "name": "stderr"
        },
        {
          "output_type": "stream",
          "text": [
            "Train score: 0.9894285714285714\n",
            "Test score: 0.942\n",
            "Test2 score: 0.974\n",
            "RandomForestClassifier|Raw MinMaxScaler|\n",
            "\n"
          ],
          "name": "stdout"
        },
        {
          "output_type": "stream",
          "text": [
            "/usr/local/lib/python3.6/dist-packages/sklearn/ensemble/forest.py:246: FutureWarning: The default value of n_estimators will change from 10 in version 0.20 to 100 in 0.22.\n",
            "  \"10 in version 0.20 to 100 in 0.22.\", FutureWarning)\n"
          ],
          "name": "stderr"
        },
        {
          "output_type": "stream",
          "text": [
            "Train score: 0.9894285714285714\n",
            "Test score: 0.942\n",
            "Test2 score: 0.974\n",
            "RandomForestClassifier|Raw PowerTransformer_std|\n",
            "\n"
          ],
          "name": "stdout"
        },
        {
          "output_type": "stream",
          "text": [
            "/usr/local/lib/python3.6/dist-packages/sklearn/ensemble/forest.py:246: FutureWarning: The default value of n_estimators will change from 10 in version 0.20 to 100 in 0.22.\n",
            "  \"10 in version 0.20 to 100 in 0.22.\", FutureWarning)\n"
          ],
          "name": "stderr"
        },
        {
          "output_type": "stream",
          "text": [
            "Train score: 0.9894285714285714\n",
            "Test score: 0.942\n",
            "Test2 score: 0.974\n",
            "RandomForestClassifier|Raw PowerTransformer|\n",
            "\n"
          ],
          "name": "stdout"
        },
        {
          "output_type": "stream",
          "text": [
            "/usr/local/lib/python3.6/dist-packages/sklearn/ensemble/forest.py:246: FutureWarning: The default value of n_estimators will change from 10 in version 0.20 to 100 in 0.22.\n",
            "  \"10 in version 0.20 to 100 in 0.22.\", FutureWarning)\n"
          ],
          "name": "stderr"
        },
        {
          "output_type": "stream",
          "text": [
            "Train score: 0.9894285714285714\n",
            "Test score: 0.942\n",
            "Test2 score: 0.974\n",
            "RandomForestClassifier|Raw PowerTransformer_std|PowerTransformer|\n",
            "\n",
            "Train score: 0.942\n",
            "Test score: 0.9453333333333334\n",
            "Test2 score: 0.944\n",
            "GradientBoostingClassifier|Raw MinMaxScaler|\n",
            "\n",
            "Train score: 0.942\n",
            "Test score: 0.9453333333333334\n",
            "Test2 score: 0.944\n",
            "GradientBoostingClassifier|Raw PowerTransformer_std|\n",
            "\n",
            "Train score: 0.942\n",
            "Test score: 0.9453333333333334\n",
            "Test2 score: 0.944\n",
            "GradientBoostingClassifier|Raw PowerTransformer|\n",
            "\n",
            "Train score: 0.942\n",
            "Test score: 0.9453333333333334\n",
            "Test2 score: 0.944\n",
            "GradientBoostingClassifier|Raw PowerTransformer_std|PowerTransformer|\n",
            "\n",
            "best estimate parameters {'C': 0.6722955579087355, 'intercept_scaling': 0.48151218542680274, 'max_iter': 19, 'solver': 'saga', 'tol': 0.9463179862836673}\n",
            "Train score: 0.9377142857142857\n",
            "Test score: 0.9453333333333334\n",
            "Test2 score: 0.9406666666666667\n",
            "LogisticRegression2|Raw MinMaxScaler|\n",
            "\n",
            "best estimate parameters {'C': 0.2264392749228077, 'intercept_scaling': 0.7663759806949181, 'max_iter': 73, 'solver': 'lbfgs', 'tol': 0.5865926442078232}\n",
            "best estimate parameters {'C': 0.91110830173378, 'intercept_scaling': 0.7430109006081125, 'max_iter': 94, 'solver': 'newton-cg', 'tol': 0.3403889681010376}\n"
          ],
          "name": "stdout"
        },
        {
          "output_type": "stream",
          "text": [
            "/usr/local/lib/python3.6/dist-packages/scipy/optimize/linesearch.py:462: LineSearchWarning: The line search algorithm did not converge\n",
            "  warn('The line search algorithm did not converge', LineSearchWarning)\n",
            "/usr/local/lib/python3.6/dist-packages/scipy/optimize/linesearch.py:313: LineSearchWarning: The line search algorithm did not converge\n",
            "  warn('The line search algorithm did not converge', LineSearchWarning)\n",
            "/usr/local/lib/python3.6/dist-packages/scipy/optimize/linesearch.py:462: LineSearchWarning: The line search algorithm did not converge\n",
            "  warn('The line search algorithm did not converge', LineSearchWarning)\n",
            "/usr/local/lib/python3.6/dist-packages/scipy/optimize/linesearch.py:313: LineSearchWarning: The line search algorithm did not converge\n",
            "  warn('The line search algorithm did not converge', LineSearchWarning)\n",
            "/usr/local/lib/python3.6/dist-packages/scipy/optimize/linesearch.py:462: LineSearchWarning: The line search algorithm did not converge\n",
            "  warn('The line search algorithm did not converge', LineSearchWarning)\n",
            "/usr/local/lib/python3.6/dist-packages/scipy/optimize/linesearch.py:313: LineSearchWarning: The line search algorithm did not converge\n",
            "  warn('The line search algorithm did not converge', LineSearchWarning)\n",
            "/usr/local/lib/python3.6/dist-packages/scipy/optimize/linesearch.py:462: LineSearchWarning: The line search algorithm did not converge\n",
            "  warn('The line search algorithm did not converge', LineSearchWarning)\n",
            "/usr/local/lib/python3.6/dist-packages/scipy/optimize/linesearch.py:313: LineSearchWarning: The line search algorithm did not converge\n",
            "  warn('The line search algorithm did not converge', LineSearchWarning)\n",
            "/usr/local/lib/python3.6/dist-packages/scipy/optimize/linesearch.py:462: LineSearchWarning: The line search algorithm did not converge\n",
            "  warn('The line search algorithm did not converge', LineSearchWarning)\n",
            "/usr/local/lib/python3.6/dist-packages/scipy/optimize/linesearch.py:313: LineSearchWarning: The line search algorithm did not converge\n",
            "  warn('The line search algorithm did not converge', LineSearchWarning)\n",
            "/usr/local/lib/python3.6/dist-packages/scipy/optimize/linesearch.py:462: LineSearchWarning: The line search algorithm did not converge\n",
            "  warn('The line search algorithm did not converge', LineSearchWarning)\n",
            "/usr/local/lib/python3.6/dist-packages/scipy/optimize/linesearch.py:313: LineSearchWarning: The line search algorithm did not converge\n",
            "  warn('The line search algorithm did not converge', LineSearchWarning)\n",
            "/usr/local/lib/python3.6/dist-packages/sklearn/utils/optimize.py:203: ConvergenceWarning: newton-cg failed to converge. Increase the number of iterations.\n",
            "  \"number of iterations.\", ConvergenceWarning)\n"
          ],
          "name": "stderr"
        },
        {
          "output_type": "stream",
          "text": [
            "Train score: 0.9377142857142857\n",
            "Test score: 0.9453333333333334\n",
            "Test2 score: 0.9406666666666667\n",
            "LogisticRegression2|Raw PowerTransformer|\n",
            "\n",
            "best estimate parameters {'C': 0.04414173548905498, 'intercept_scaling': 0.2511523702465033, 'max_iter': 8, 'solver': 'liblinear', 'tol': 0.7304719718298189}\n"
          ],
          "name": "stdout"
        },
        {
          "output_type": "stream",
          "text": [
            "/usr/local/lib/python3.6/dist-packages/sklearn/linear_model/logistic.py:1300: UserWarning: 'n_jobs' > 1 does not have any effect when 'solver' is set to 'liblinear'. Got 'n_jobs' = 2.\n",
            "  \" = {}.\".format(effective_n_jobs(self.n_jobs)))\n"
          ],
          "name": "stderr"
        },
        {
          "output_type": "stream",
          "text": [
            "Train score: 0.9377142857142857\n",
            "Test score: 0.9453333333333334\n",
            "Test2 score: 0.9406666666666667\n",
            "LogisticRegression2|Raw PowerTransformer_std|PowerTransformer|\n",
            "\n",
            "best estimate parameters {'C': 0.9648854120333733, 'class_weight': '', 'fit_intercept': False, 'intercept_scaling': 0.7815270380746691, 'loss': 'squared_hinge', 'max_iter': 57, 'tol': 0.2555078620195772}\n",
            "Train score: 0.9377142857142857\n",
            "Test score: 0.9453333333333334\n",
            "Test2 score: 0.9406666666666667\n",
            "LinearSVC|Raw MinMaxScaler|\n",
            "\n",
            "best estimate parameters {'C': 0.4252410018405477, 'class_weight': '', 'fit_intercept': False, 'intercept_scaling': 0.8399055003183701, 'loss': 'hinge', 'max_iter': 4, 'tol': 0.2530048344371004}\n"
          ],
          "name": "stdout"
        },
        {
          "output_type": "stream",
          "text": [
            "/usr/local/lib/python3.6/dist-packages/sklearn/svm/base.py:931: ConvergenceWarning: Liblinear failed to converge, increase the number of iterations.\n",
            "  \"the number of iterations.\", ConvergenceWarning)\n"
          ],
          "name": "stderr"
        },
        {
          "output_type": "stream",
          "text": [
            "Train score: 0.9377142857142857\n",
            "Test score: 0.9453333333333334\n",
            "Test2 score: 0.9406666666666667\n",
            "LinearSVC|Raw PowerTransformer_std|\n",
            "\n",
            "best estimate parameters {'C': 0.7106122410780548, 'class_weight': 'balanced', 'fit_intercept': False, 'intercept_scaling': 0.9513084072191388, 'loss': 'squared_hinge', 'max_iter': 90, 'tol': 0.14847981335459268}\n"
          ],
          "name": "stdout"
        },
        {
          "output_type": "stream",
          "text": [
            "/usr/local/lib/python3.6/dist-packages/sklearn/svm/base.py:931: ConvergenceWarning: Liblinear failed to converge, increase the number of iterations.\n",
            "  \"the number of iterations.\", ConvergenceWarning)\n"
          ],
          "name": "stderr"
        },
        {
          "output_type": "stream",
          "text": [
            "LinearSVC|Raw PowerTransformer|\n",
            "\n",
            "best estimate parameters {'C': 0.9671400151373066, 'class_weight': '', 'fit_intercept': False, 'intercept_scaling': 0.37523086101471304, 'loss': 'squared_hinge', 'max_iter': 69, 'tol': 0.18841521134357697}\n"
          ],
          "name": "stdout"
        },
        {
          "output_type": "stream",
          "text": [
            "/usr/local/lib/python3.6/dist-packages/sklearn/svm/base.py:931: ConvergenceWarning: Liblinear failed to converge, increase the number of iterations.\n",
            "  \"the number of iterations.\", ConvergenceWarning)\n"
          ],
          "name": "stderr"
        },
        {
          "output_type": "stream",
          "text": [
            "Train score: 0.9377142857142857\n",
            "Test score: 0.9453333333333334\n",
            "Test2 score: 0.9406666666666667\n",
            "LinearSVC|Raw PowerTransformer_std|PowerTransformer|\n",
            "\n",
            "best estimate parameters {'learning_rate': 1.6666881991709388, 'n_estimators': 43}\n",
            "Train score: 0.9382857142857143\n",
            "Test score: 0.9433333333333334\n",
            "Test2 score: 0.9413333333333334\n",
            "AdaBoostClassifier|Raw MinMaxScaler|\n",
            "\n",
            "best estimate parameters {'learning_rate': 1.0213154116535368, 'n_estimators': 178}\n",
            "Train score: 0.9397142857142857\n",
            "Test score: 0.944\n",
            "Test2 score: 0.9433333333333334\n",
            "AdaBoostClassifier|Raw PowerTransformer_std|\n",
            "\n",
            "best estimate parameters {'learning_rate': 1.7728935011087592, 'n_estimators': 15}\n",
            "Train score: 0.9374285714285714\n",
            "Test score: 0.9453333333333334\n",
            "Test2 score: 0.9406666666666667\n",
            "AdaBoostClassifier|Raw PowerTransformer|\n",
            "\n",
            "best estimate parameters {'learning_rate': 1.083514452087407, 'n_estimators': 60}\n",
            "Train score: 0.9394285714285714\n",
            "Test score: 0.9446666666666667\n",
            "Test2 score: 0.9433333333333334\n",
            "AdaBoostClassifier|Raw PowerTransformer_std|PowerTransformer|\n",
            "\n",
            "best estimate parameters {'learning_rate': 2.6032296240615027, 'n_estimators': 95}\n",
            "AdaBoostClassifier|MDS MinMaxScaler|\n",
            "\n",
            "best estimate parameters {'learning_rate': 2.57032042615248, 'n_estimators': 232}\n",
            "AdaBoostClassifier|MDS PowerTransformer_std|\n",
            "\n",
            "best estimate parameters {'learning_rate': 2.406597431488053, 'n_estimators': 240}\n",
            "AdaBoostClassifier|MDS PowerTransformer|\n",
            "\n",
            "best estimate parameters {'learning_rate': 2.078649119721919, 'n_estimators': 28}\n",
            "AdaBoostClassifier|MDS PowerTransformer_std|PowerTransformer|\n",
            "\n"
          ],
          "name": "stdout"
        },
        {
          "output_type": "stream",
          "text": [
            "/usr/local/lib/python3.6/dist-packages/sklearn/ensemble/forest.py:246: FutureWarning: The default value of n_estimators will change from 10 in version 0.20 to 100 in 0.22.\n",
            "  \"10 in version 0.20 to 100 in 0.22.\", FutureWarning)\n"
          ],
          "name": "stderr"
        },
        {
          "output_type": "stream",
          "text": [
            "Train score: 0.99\n",
            "Test score: 0.94\n",
            "Test2 score: 0.9746666666666667\n",
            "RandomForestClassifier|Raw MinMaxScaler|\n",
            "\n"
          ],
          "name": "stdout"
        },
        {
          "output_type": "stream",
          "text": [
            "/usr/local/lib/python3.6/dist-packages/sklearn/ensemble/forest.py:246: FutureWarning: The default value of n_estimators will change from 10 in version 0.20 to 100 in 0.22.\n",
            "  \"10 in version 0.20 to 100 in 0.22.\", FutureWarning)\n"
          ],
          "name": "stderr"
        },
        {
          "output_type": "stream",
          "text": [
            "Train score: 0.9905714285714285\n",
            "Test score: 0.9393333333333334\n",
            "Test2 score: 0.9746666666666667\n",
            "RandomForestClassifier|Raw QuantileTransformer_u|\n",
            "\n"
          ],
          "name": "stdout"
        },
        {
          "output_type": "stream",
          "text": [
            "/usr/local/lib/python3.6/dist-packages/sklearn/ensemble/forest.py:246: FutureWarning: The default value of n_estimators will change from 10 in version 0.20 to 100 in 0.22.\n",
            "  \"10 in version 0.20 to 100 in 0.22.\", FutureWarning)\n"
          ],
          "name": "stderr"
        },
        {
          "output_type": "stream",
          "text": [
            "Train score: 0.99\n",
            "Test score: 0.9393333333333334\n",
            "Test2 score: 0.974\n",
            "RandomForestClassifier|Raw QuantileTransformer_n|\n",
            "\n"
          ],
          "name": "stdout"
        },
        {
          "output_type": "stream",
          "text": [
            "/usr/local/lib/python3.6/dist-packages/sklearn/ensemble/forest.py:246: FutureWarning: The default value of n_estimators will change from 10 in version 0.20 to 100 in 0.22.\n",
            "  \"10 in version 0.20 to 100 in 0.22.\", FutureWarning)\n"
          ],
          "name": "stderr"
        },
        {
          "output_type": "stream",
          "text": [
            "Train score: 0.9882857142857143\n",
            "Test score: 0.94\n",
            "Test2 score: 0.972\n",
            "RandomForestClassifier|Raw QuantileTransformer_u|QuantileTransformer_n|\n",
            "\n",
            "Train score: 0.9462857142857143\n",
            "Test score: 0.9366666666666666\n",
            "Test2 score: 0.9446666666666667\n",
            "GradientBoostingClassifier|Raw MinMaxScaler|\n",
            "\n",
            "Train score: 0.9462857142857143\n",
            "Test score: 0.9366666666666666\n",
            "Test2 score: 0.9446666666666667\n",
            "GradientBoostingClassifier|Raw QuantileTransformer_u|\n",
            "\n",
            "Train score: 0.9462857142857143\n",
            "Test score: 0.9366666666666666\n",
            "Test2 score: 0.9446666666666667\n",
            "GradientBoostingClassifier|Raw QuantileTransformer_n|\n",
            "\n",
            "Train score: 0.9454285714285714\n",
            "Test score: 0.9386666666666666\n",
            "Test2 score: 0.9453333333333334\n",
            "GradientBoostingClassifier|Raw QuantileTransformer_u|QuantileTransformer_n|\n",
            "\n",
            "best estimate parameters {'C': 0.04805663268384519, 'class_weight': '', 'fit_intercept': False, 'intercept_scaling': 0.19941326515810154, 'loss': 'hinge', 'max_iter': 59, 'tol': 0.0003875733736387055}\n",
            "Train score: 0.9402857142857143\n",
            "Test score: 0.9393333333333334\n",
            "Test2 score: 0.9406666666666667\n",
            "LinearSVC|Raw MinMaxScaler|\n",
            "\n",
            "best estimate parameters {'C': 0.7455399916233753, 'class_weight': '', 'fit_intercept': False, 'intercept_scaling': 0.42537378001188264, 'loss': 'squared_hinge', 'max_iter': 10, 'tol': 0.1191338839913959}\n"
          ],
          "name": "stdout"
        },
        {
          "output_type": "stream",
          "text": [
            "/usr/local/lib/python3.6/dist-packages/sklearn/svm/base.py:931: ConvergenceWarning: Liblinear failed to converge, increase the number of iterations.\n",
            "  \"the number of iterations.\", ConvergenceWarning)\n"
          ],
          "name": "stderr"
        },
        {
          "output_type": "stream",
          "text": [
            "Train score: 0.9402857142857143\n",
            "Test score: 0.9393333333333334\n",
            "Test2 score: 0.9406666666666667\n",
            "LinearSVC|Raw QuantileTransformer_u|\n",
            "\n",
            "best estimate parameters {'C': 0.03161952155783332, 'class_weight': 'balanced', 'fit_intercept': False, 'intercept_scaling': 0.657610204685942, 'loss': 'squared_hinge', 'max_iter': 75, 'tol': 0.1055348305002074}\n",
            "Train score: 0.9402857142857143\n",
            "Test score: 0.9393333333333334\n",
            "Test2 score: 0.9406666666666667\n",
            "LinearSVC|Raw QuantileTransformer_n|\n",
            "\n",
            "best estimate parameters {'C': 0.7100246057963177, 'class_weight': 'balanced', 'fit_intercept': False, 'intercept_scaling': 0.5298262900524069, 'loss': 'squared_hinge', 'max_iter': 73, 'tol': 0.5084896088889594}\n"
          ],
          "name": "stdout"
        },
        {
          "output_type": "stream",
          "text": [
            "/usr/local/lib/python3.6/dist-packages/sklearn/svm/base.py:931: ConvergenceWarning: Liblinear failed to converge, increase the number of iterations.\n",
            "  \"the number of iterations.\", ConvergenceWarning)\n"
          ],
          "name": "stderr"
        },
        {
          "output_type": "stream",
          "text": [
            "Train score: 0.9402857142857143\n",
            "Test score: 0.9393333333333334\n",
            "Test2 score: 0.9406666666666667\n",
            "LinearSVC|Raw QuantileTransformer_u|QuantileTransformer_n|\n",
            "\n",
            "best estimate parameters {'C': 0.6313939362739025, 'intercept_scaling': 0.26789705788366847, 'max_iter': 0, 'solver': 'sag', 'tol': 0.2611693158602467}\n",
            "LogisticRegression2|Raw MinMaxScaler|\n",
            "\n",
            "best estimate parameters {'C': 0.5656452334591611, 'intercept_scaling': 0.9961664640104444, 'max_iter': 92, 'solver': 'lbfgs', 'tol': 0.4104620431201552}\n",
            "best estimate parameters {'C': 0.6939292993079021, 'intercept_scaling': 0.03118025445266337, 'max_iter': 48, 'solver': 'newton-cg', 'tol': 0.2810378552535244}\n",
            "Train score: 0.9402857142857143\n",
            "Test score: 0.9393333333333334\n",
            "Test2 score: 0.9406666666666667\n",
            "LogisticRegression2|Raw QuantileTransformer_n|\n",
            "\n",
            "best estimate parameters {'C': 0.9323802599113653, 'intercept_scaling': 0.9024366978520106, 'max_iter': 35, 'solver': 'lbfgs', 'tol': 0.49620821021872097}\n",
            "best estimate parameters {'learning_rate': 1.1306215938387505, 'n_estimators': 114}\n",
            "Train score: 0.9428571428571428\n",
            "Test score: 0.94\n",
            "Test2 score: 0.9453333333333334\n",
            "AdaBoostClassifier|Raw MinMaxScaler|\n",
            "\n",
            "best estimate parameters {'learning_rate': 2.441185016478867, 'n_estimators': 45}\n",
            "Train score: 0.9414285714285714\n",
            "Test score: 0.9393333333333334\n",
            "Test2 score: 0.942\n",
            "AdaBoostClassifier|Raw QuantileTransformer_u|\n",
            "\n",
            "best estimate parameters {'learning_rate': 1.0275159257641042, 'n_estimators': 84}\n",
            "Train score: 0.9417142857142857\n",
            "Test score: 0.94\n",
            "Test2 score: 0.9433333333333334\n",
            "AdaBoostClassifier|Raw QuantileTransformer_n|\n",
            "\n",
            "best estimate parameters {'learning_rate': 1.2123545913515235, 'n_estimators': 92}\n",
            "Train score: 0.942\n",
            "Test score: 0.9393333333333334\n",
            "Test2 score: 0.9446666666666667\n",
            "AdaBoostClassifier|Raw QuantileTransformer_u|QuantileTransformer_n|\n",
            "\n"
          ],
          "name": "stdout"
        },
        {
          "output_type": "stream",
          "text": [
            "/usr/local/lib/python3.6/dist-packages/sklearn/ensemble/forest.py:246: FutureWarning: The default value of n_estimators will change from 10 in version 0.20 to 100 in 0.22.\n",
            "  \"10 in version 0.20 to 100 in 0.22.\", FutureWarning)\n"
          ],
          "name": "stderr"
        },
        {
          "output_type": "stream",
          "text": [
            "Train score: 0.988\n",
            "Test score: 0.9386666666666666\n",
            "Test2 score: 0.9726666666666667\n",
            "RandomForestClassifier|PCA MinMaxScaler|\n",
            "\n"
          ],
          "name": "stdout"
        },
        {
          "output_type": "stream",
          "text": [
            "/usr/local/lib/python3.6/dist-packages/sklearn/ensemble/forest.py:246: FutureWarning: The default value of n_estimators will change from 10 in version 0.20 to 100 in 0.22.\n",
            "  \"10 in version 0.20 to 100 in 0.22.\", FutureWarning)\n"
          ],
          "name": "stderr"
        },
        {
          "output_type": "stream",
          "text": [
            "Train score: 0.9871428571428571\n",
            "Test score: 0.938\n",
            "Test2 score: 0.9706666666666667\n",
            "RandomForestClassifier|PCA QuantileTransformer_u|\n",
            "\n"
          ],
          "name": "stdout"
        },
        {
          "output_type": "stream",
          "text": [
            "/usr/local/lib/python3.6/dist-packages/sklearn/ensemble/forest.py:246: FutureWarning: The default value of n_estimators will change from 10 in version 0.20 to 100 in 0.22.\n",
            "  \"10 in version 0.20 to 100 in 0.22.\", FutureWarning)\n"
          ],
          "name": "stderr"
        },
        {
          "output_type": "stream",
          "text": [
            "Train score: 0.9882857142857143\n",
            "Test score: 0.94\n",
            "Test2 score: 0.9713333333333334\n",
            "RandomForestClassifier|PCA QuantileTransformer_n|\n",
            "\n"
          ],
          "name": "stdout"
        },
        {
          "output_type": "stream",
          "text": [
            "/usr/local/lib/python3.6/dist-packages/sklearn/ensemble/forest.py:246: FutureWarning: The default value of n_estimators will change from 10 in version 0.20 to 100 in 0.22.\n",
            "  \"10 in version 0.20 to 100 in 0.22.\", FutureWarning)\n"
          ],
          "name": "stderr"
        },
        {
          "output_type": "stream",
          "text": [
            "Train score: 0.9871428571428571\n",
            "Test score: 0.9386666666666666\n",
            "Test2 score: 0.9706666666666667\n",
            "RandomForestClassifier|PCA QuantileTransformer_u|QuantileTransformer_n|\n",
            "\n",
            "Train score: 0.9457142857142857\n",
            "Test score: 0.9353333333333333\n",
            "Test2 score: 0.944\n",
            "GradientBoostingClassifier|PCA MinMaxScaler|\n",
            "\n",
            "Train score: 0.9491428571428572\n",
            "Test score: 0.9393333333333334\n",
            "Test2 score: 0.9466666666666667\n",
            "GradientBoostingClassifier|PCA QuantileTransformer_u|\n",
            "\n",
            "Train score: 0.9474285714285714\n",
            "Test score: 0.938\n",
            "Test2 score: 0.9446666666666667\n",
            "GradientBoostingClassifier|PCA QuantileTransformer_n|\n",
            "\n",
            "Train score: 0.9474285714285714\n",
            "Test score: 0.9393333333333334\n",
            "Test2 score: 0.944\n",
            "GradientBoostingClassifier|PCA QuantileTransformer_u|QuantileTransformer_n|\n",
            "\n",
            "best estimate parameters {'C': 0.6076228181680545, 'class_weight': 'balanced', 'fit_intercept': False, 'intercept_scaling': 0.08049314250730044, 'loss': 'hinge', 'max_iter': 46, 'tol': 0.652064555262191}\n",
            "Train score: 0.9402857142857143\n",
            "Test score: 0.9393333333333334\n",
            "Test2 score: 0.9406666666666667\n",
            "LinearSVC|PCA MinMaxScaler|\n",
            "\n",
            "best estimate parameters {'C': 0.30392514943924076, 'class_weight': 'balanced', 'fit_intercept': False, 'intercept_scaling': 0.21639378079399374, 'loss': 'hinge', 'max_iter': 2, 'tol': 0.3218123255430927}\n"
          ],
          "name": "stdout"
        },
        {
          "output_type": "stream",
          "text": [
            "/usr/local/lib/python3.6/dist-packages/sklearn/svm/base.py:931: ConvergenceWarning: Liblinear failed to converge, increase the number of iterations.\n",
            "  \"the number of iterations.\", ConvergenceWarning)\n"
          ],
          "name": "stderr"
        },
        {
          "output_type": "stream",
          "text": [
            "Train score: 0.9402857142857143\n",
            "Test score: 0.9393333333333334\n",
            "Test2 score: 0.9406666666666667\n",
            "LinearSVC|PCA QuantileTransformer_u|\n",
            "\n",
            "best estimate parameters {'C': 0.9120923905327489, 'class_weight': 'balanced', 'fit_intercept': False, 'intercept_scaling': 0.9515086194844177, 'loss': 'squared_hinge', 'max_iter': 9, 'tol': 0.24854062670983407}\n"
          ],
          "name": "stdout"
        },
        {
          "output_type": "stream",
          "text": [
            "/usr/local/lib/python3.6/dist-packages/sklearn/svm/base.py:931: ConvergenceWarning: Liblinear failed to converge, increase the number of iterations.\n",
            "  \"the number of iterations.\", ConvergenceWarning)\n"
          ],
          "name": "stderr"
        },
        {
          "output_type": "stream",
          "text": [
            "Train score: 0.9402857142857143\n",
            "Test score: 0.9393333333333334\n",
            "Test2 score: 0.9406666666666667\n",
            "LinearSVC|PCA QuantileTransformer_n|\n",
            "\n",
            "best estimate parameters {'C': 0.9321309532997424, 'class_weight': 'balanced', 'fit_intercept': False, 'intercept_scaling': 0.0462827012634035, 'loss': 'hinge', 'max_iter': 41, 'tol': 0.5749655466218877}\n"
          ],
          "name": "stdout"
        },
        {
          "output_type": "stream",
          "text": [
            "/usr/local/lib/python3.6/dist-packages/sklearn/svm/base.py:931: ConvergenceWarning: Liblinear failed to converge, increase the number of iterations.\n",
            "  \"the number of iterations.\", ConvergenceWarning)\n"
          ],
          "name": "stderr"
        },
        {
          "output_type": "stream",
          "text": [
            "Train score: 0.9402857142857143\n",
            "Test score: 0.9393333333333334\n",
            "Test2 score: 0.9406666666666667\n",
            "LinearSVC|PCA QuantileTransformer_u|QuantileTransformer_n|\n",
            "\n",
            "best estimate parameters {'C': 0.6858411467563611, 'intercept_scaling': 0.9065461127378824, 'max_iter': 44, 'solver': 'newton-cg', 'tol': 0.09266373075801415}\n",
            "Train score: 0.9402857142857143\n",
            "Test score: 0.9393333333333334\n",
            "Test2 score: 0.9406666666666667\n",
            "LogisticRegression2|PCA MinMaxScaler|\n",
            "\n",
            "best estimate parameters {'C': 0.5326295251191531, 'intercept_scaling': 0.0720675117935996, 'max_iter': 16, 'solver': 'sag', 'tol': 0.4697213617118655}\n",
            "Train score: 0.9402857142857143\n",
            "Test score: 0.9393333333333334\n",
            "Test2 score: 0.9406666666666667\n",
            "LogisticRegression2|PCA QuantileTransformer_u|\n",
            "\n",
            "best estimate parameters {'C': 0.26869507503921464, 'intercept_scaling': 0.6163746918655468, 'max_iter': 94, 'solver': 'liblinear', 'tol': 0.019891394847433186}\n"
          ],
          "name": "stdout"
        },
        {
          "output_type": "stream",
          "text": [
            "/usr/local/lib/python3.6/dist-packages/sklearn/linear_model/logistic.py:1300: UserWarning: 'n_jobs' > 1 does not have any effect when 'solver' is set to 'liblinear'. Got 'n_jobs' = 2.\n",
            "  \" = {}.\".format(effective_n_jobs(self.n_jobs)))\n"
          ],
          "name": "stderr"
        },
        {
          "output_type": "stream",
          "text": [
            "Train score: 0.9402857142857143\n",
            "Test score: 0.9393333333333334\n",
            "Test2 score: 0.9406666666666667\n",
            "LogisticRegression2|PCA QuantileTransformer_n|\n",
            "\n",
            "best estimate parameters {'C': 0.25493273051947685, 'intercept_scaling': 0.6223431295018544, 'max_iter': 44, 'solver': 'saga', 'tol': 0.5830560103101287}\n",
            "Train score: 0.9402857142857143\n",
            "Test score: 0.9393333333333334\n",
            "Test2 score: 0.9406666666666667\n",
            "LogisticRegression2|PCA QuantileTransformer_u|QuantileTransformer_n|\n",
            "\n",
            "best estimate parameters {'learning_rate': 1.952782094002845, 'n_estimators': 139}\n",
            "Train score: 0.9434285714285714\n",
            "Test score: 0.9393333333333334\n",
            "Test2 score: 0.9426666666666667\n",
            "AdaBoostClassifier|PCA MinMaxScaler|\n",
            "\n",
            "best estimate parameters {'learning_rate': 2.711831355367433, 'n_estimators': 245}\n",
            "Train score: 0.9408571428571428\n",
            "Test score: 0.9393333333333334\n",
            "Test2 score: 0.9406666666666667\n",
            "AdaBoostClassifier|PCA QuantileTransformer_u|\n",
            "\n",
            "best estimate parameters {'learning_rate': 2.1197652642018623, 'n_estimators': 211}\n",
            "Train score: 0.9402857142857143\n",
            "Test score: 0.9393333333333334\n",
            "Test2 score: 0.9406666666666667\n",
            "AdaBoostClassifier|PCA QuantileTransformer_n|\n",
            "\n",
            "best estimate parameters {'learning_rate': 2.036957559825807, 'n_estimators': 209}\n",
            "Train score: 0.9402857142857143\n",
            "Test score: 0.9393333333333334\n",
            "Test2 score: 0.9406666666666667\n",
            "AdaBoostClassifier|PCA QuantileTransformer_u|QuantileTransformer_n|\n",
            "\n"
          ],
          "name": "stdout"
        },
        {
          "output_type": "stream",
          "text": [
            "/usr/local/lib/python3.6/dist-packages/sklearn/ensemble/forest.py:246: FutureWarning: The default value of n_estimators will change from 10 in version 0.20 to 100 in 0.22.\n",
            "  \"10 in version 0.20 to 100 in 0.22.\", FutureWarning)\n"
          ],
          "name": "stderr"
        },
        {
          "output_type": "stream",
          "text": [
            "Train score: 0.9868571428571429\n",
            "Test score: 0.9386666666666666\n",
            "Test2 score: 0.97\n",
            "RandomForestClassifier|Raw Normalizer_l2|\n",
            "\n"
          ],
          "name": "stdout"
        },
        {
          "output_type": "stream",
          "text": [
            "/usr/local/lib/python3.6/dist-packages/sklearn/ensemble/forest.py:246: FutureWarning: The default value of n_estimators will change from 10 in version 0.20 to 100 in 0.22.\n",
            "  \"10 in version 0.20 to 100 in 0.22.\", FutureWarning)\n"
          ],
          "name": "stderr"
        },
        {
          "output_type": "stream",
          "text": [
            "Train score: 0.9871428571428571\n",
            "Test score: 0.9393333333333334\n",
            "Test2 score: 0.9706666666666667\n",
            "RandomForestClassifier|Raw Normalizer_l1|\n",
            "\n"
          ],
          "name": "stdout"
        },
        {
          "output_type": "stream",
          "text": [
            "/usr/local/lib/python3.6/dist-packages/sklearn/ensemble/forest.py:246: FutureWarning: The default value of n_estimators will change from 10 in version 0.20 to 100 in 0.22.\n",
            "  \"10 in version 0.20 to 100 in 0.22.\", FutureWarning)\n"
          ],
          "name": "stderr"
        },
        {
          "output_type": "stream",
          "text": [
            "Train score: 0.9871428571428571\n",
            "Test score: 0.9393333333333334\n",
            "Test2 score: 0.9706666666666667\n",
            "RandomForestClassifier|Raw Normalizer_l2|Normalizer_l1|\n",
            "\n"
          ],
          "name": "stdout"
        },
        {
          "output_type": "stream",
          "text": [
            "/usr/local/lib/python3.6/dist-packages/sklearn/ensemble/forest.py:246: FutureWarning: The default value of n_estimators will change from 10 in version 0.20 to 100 in 0.22.\n",
            "  \"10 in version 0.20 to 100 in 0.22.\", FutureWarning)\n"
          ],
          "name": "stderr"
        },
        {
          "output_type": "stream",
          "text": [
            "Train score: 0.99\n",
            "Test score: 0.94\n",
            "Test2 score: 0.9746666666666667\n",
            "RandomForestClassifier|Raw StandardScalerMTST|\n",
            "\n"
          ],
          "name": "stdout"
        },
        {
          "output_type": "stream",
          "text": [
            "/usr/local/lib/python3.6/dist-packages/sklearn/ensemble/forest.py:246: FutureWarning: The default value of n_estimators will change from 10 in version 0.20 to 100 in 0.22.\n",
            "  \"10 in version 0.20 to 100 in 0.22.\", FutureWarning)\n"
          ],
          "name": "stderr"
        },
        {
          "output_type": "stream",
          "text": [
            "Train score: 0.99\n",
            "Test score: 0.94\n",
            "Test2 score: 0.9746666666666667\n",
            "RandomForestClassifier|Raw StandardScalerMTSF|\n",
            "\n"
          ],
          "name": "stdout"
        },
        {
          "output_type": "stream",
          "text": [
            "/usr/local/lib/python3.6/dist-packages/sklearn/ensemble/forest.py:246: FutureWarning: The default value of n_estimators will change from 10 in version 0.20 to 100 in 0.22.\n",
            "  \"10 in version 0.20 to 100 in 0.22.\", FutureWarning)\n"
          ],
          "name": "stderr"
        },
        {
          "output_type": "stream",
          "text": [
            "Train score: 0.99\n",
            "Test score: 0.94\n",
            "Test2 score: 0.9746666666666667\n",
            "RandomForestClassifier|Raw StandardScalerMFST|\n",
            "\n"
          ],
          "name": "stdout"
        },
        {
          "output_type": "stream",
          "text": [
            "/usr/local/lib/python3.6/dist-packages/sklearn/ensemble/forest.py:246: FutureWarning: The default value of n_estimators will change from 10 in version 0.20 to 100 in 0.22.\n",
            "  \"10 in version 0.20 to 100 in 0.22.\", FutureWarning)\n"
          ],
          "name": "stderr"
        },
        {
          "output_type": "stream",
          "text": [
            "Train score: 0.99\n",
            "Test score: 0.94\n",
            "Test2 score: 0.9746666666666667\n",
            "RandomForestClassifier|Raw StandardScalerMFSF|\n",
            "\n"
          ],
          "name": "stdout"
        },
        {
          "output_type": "stream",
          "text": [
            "/usr/local/lib/python3.6/dist-packages/sklearn/ensemble/forest.py:246: FutureWarning: The default value of n_estimators will change from 10 in version 0.20 to 100 in 0.22.\n",
            "  \"10 in version 0.20 to 100 in 0.22.\", FutureWarning)\n"
          ],
          "name": "stderr"
        },
        {
          "output_type": "stream",
          "text": [
            "Train score: 0.99\n",
            "Test score: 0.94\n",
            "Test2 score: 0.9746666666666667\n",
            "RandomForestClassifier|Raw StandardScalerMTST|StandardScalerMTSF|\n",
            "\n"
          ],
          "name": "stdout"
        },
        {
          "output_type": "stream",
          "text": [
            "/usr/local/lib/python3.6/dist-packages/sklearn/ensemble/forest.py:246: FutureWarning: The default value of n_estimators will change from 10 in version 0.20 to 100 in 0.22.\n",
            "  \"10 in version 0.20 to 100 in 0.22.\", FutureWarning)\n"
          ],
          "name": "stderr"
        },
        {
          "output_type": "stream",
          "text": [
            "Train score: 0.99\n",
            "Test score: 0.94\n",
            "Test2 score: 0.9746666666666667\n",
            "RandomForestClassifier|Raw StandardScalerMTST|StandardScalerMFST|\n",
            "\n"
          ],
          "name": "stdout"
        },
        {
          "output_type": "stream",
          "text": [
            "/usr/local/lib/python3.6/dist-packages/sklearn/ensemble/forest.py:246: FutureWarning: The default value of n_estimators will change from 10 in version 0.20 to 100 in 0.22.\n",
            "  \"10 in version 0.20 to 100 in 0.22.\", FutureWarning)\n"
          ],
          "name": "stderr"
        },
        {
          "output_type": "stream",
          "text": [
            "Train score: 0.99\n",
            "Test score: 0.94\n",
            "Test2 score: 0.9746666666666667\n",
            "RandomForestClassifier|Raw StandardScalerMTST|StandardScalerMFSF|\n",
            "\n"
          ],
          "name": "stdout"
        },
        {
          "output_type": "stream",
          "text": [
            "/usr/local/lib/python3.6/dist-packages/sklearn/ensemble/forest.py:246: FutureWarning: The default value of n_estimators will change from 10 in version 0.20 to 100 in 0.22.\n",
            "  \"10 in version 0.20 to 100 in 0.22.\", FutureWarning)\n"
          ],
          "name": "stderr"
        },
        {
          "output_type": "stream",
          "text": [
            "Train score: 0.99\n",
            "Test score: 0.94\n",
            "Test2 score: 0.9746666666666667\n",
            "RandomForestClassifier|Raw StandardScalerMTSF|StandardScalerMFST|\n",
            "\n"
          ],
          "name": "stdout"
        },
        {
          "output_type": "stream",
          "text": [
            "/usr/local/lib/python3.6/dist-packages/sklearn/ensemble/forest.py:246: FutureWarning: The default value of n_estimators will change from 10 in version 0.20 to 100 in 0.22.\n",
            "  \"10 in version 0.20 to 100 in 0.22.\", FutureWarning)\n"
          ],
          "name": "stderr"
        },
        {
          "output_type": "stream",
          "text": [
            "Train score: 0.99\n",
            "Test score: 0.94\n",
            "Test2 score: 0.9746666666666667\n",
            "RandomForestClassifier|Raw StandardScalerMTSF|StandardScalerMFSF|\n",
            "\n"
          ],
          "name": "stdout"
        },
        {
          "output_type": "stream",
          "text": [
            "/usr/local/lib/python3.6/dist-packages/sklearn/ensemble/forest.py:246: FutureWarning: The default value of n_estimators will change from 10 in version 0.20 to 100 in 0.22.\n",
            "  \"10 in version 0.20 to 100 in 0.22.\", FutureWarning)\n"
          ],
          "name": "stderr"
        },
        {
          "output_type": "stream",
          "text": [
            "Train score: 0.99\n",
            "Test score: 0.94\n",
            "Test2 score: 0.9746666666666667\n",
            "RandomForestClassifier|Raw StandardScalerMFST|StandardScalerMFSF|\n",
            "\n",
            "Train score: 0.9454285714285714\n",
            "Test score: 0.9373333333333334\n",
            "Test2 score: 0.9453333333333334\n",
            "GradientBoostingClassifier|Raw Normalizer_l2|\n",
            "\n",
            "Train score: 0.9448571428571428\n",
            "Test score: 0.9373333333333334\n",
            "Test2 score: 0.9433333333333334\n",
            "GradientBoostingClassifier|Raw Normalizer_l1|\n",
            "\n",
            "Train score: 0.9448571428571428\n",
            "Test score: 0.9373333333333334\n",
            "Test2 score: 0.9433333333333334\n",
            "GradientBoostingClassifier|Raw Normalizer_l2|Normalizer_l1|\n",
            "\n",
            "Train score: 0.9462857142857143\n",
            "Test score: 0.9366666666666666\n",
            "Test2 score: 0.9446666666666667\n",
            "GradientBoostingClassifier|Raw StandardScalerMTST|\n",
            "\n",
            "Train score: 0.9462857142857143\n",
            "Test score: 0.9366666666666666\n",
            "Test2 score: 0.9446666666666667\n",
            "GradientBoostingClassifier|Raw StandardScalerMTSF|\n",
            "\n",
            "Train score: 0.9462857142857143\n",
            "Test score: 0.9366666666666666\n",
            "Test2 score: 0.9446666666666667\n",
            "GradientBoostingClassifier|Raw StandardScalerMFST|\n",
            "\n",
            "Train score: 0.9462857142857143\n",
            "Test score: 0.9366666666666666\n",
            "Test2 score: 0.9446666666666667\n",
            "GradientBoostingClassifier|Raw StandardScalerMFSF|\n",
            "\n",
            "Train score: 0.9462857142857143\n",
            "Test score: 0.9366666666666666\n",
            "Test2 score: 0.9446666666666667\n",
            "GradientBoostingClassifier|Raw StandardScalerMTST|StandardScalerMTSF|\n",
            "\n",
            "Train score: 0.9462857142857143\n",
            "Test score: 0.9366666666666666\n",
            "Test2 score: 0.9446666666666667\n",
            "GradientBoostingClassifier|Raw StandardScalerMTST|StandardScalerMFST|\n",
            "\n",
            "Train score: 0.9462857142857143\n",
            "Test score: 0.9366666666666666\n",
            "Test2 score: 0.9446666666666667\n",
            "GradientBoostingClassifier|Raw StandardScalerMTST|StandardScalerMFSF|\n",
            "\n",
            "Train score: 0.9462857142857143\n",
            "Test score: 0.9366666666666666\n",
            "Test2 score: 0.9446666666666667\n",
            "GradientBoostingClassifier|Raw StandardScalerMTSF|StandardScalerMFST|\n",
            "\n",
            "Train score: 0.9462857142857143\n",
            "Test score: 0.9366666666666666\n",
            "Test2 score: 0.9446666666666667\n",
            "GradientBoostingClassifier|Raw StandardScalerMTSF|StandardScalerMFSF|\n",
            "\n",
            "Train score: 0.9462857142857143\n",
            "Test score: 0.9366666666666666\n",
            "Test2 score: 0.9446666666666667\n",
            "GradientBoostingClassifier|Raw StandardScalerMFST|StandardScalerMFSF|\n",
            "\n",
            "best estimate parameters {'C': 0.9559210589298112, 'intercept_scaling': 0.7770590945092861, 'max_iter': 64, 'solver': 'sag', 'tol': 0.6134757565107547}\n",
            "LogisticRegression2|Raw Normalizer_l2|\n",
            "\n",
            "best estimate parameters {'C': 0.6369795716117239, 'intercept_scaling': 0.2693205632277341, 'max_iter': 48, 'solver': 'sag', 'tol': 0.9211722029013326}\n",
            "LogisticRegression2|Raw Normalizer_l1|\n",
            "\n",
            "best estimate parameters {'C': 0.6185630675155523, 'intercept_scaling': 0.1637720129792541, 'max_iter': 25, 'solver': 'sag', 'tol': 0.3637622481212907}\n",
            "LogisticRegression2|Raw Normalizer_l2|Normalizer_l1|\n",
            "\n",
            "best estimate parameters {'C': 0.18524252104000394, 'intercept_scaling': 0.6699022022249588, 'max_iter': 31, 'solver': 'saga', 'tol': 0.08162962756171466}\n",
            "Train score: 0.9402857142857143\n",
            "Test score: 0.9393333333333334\n",
            "Test2 score: 0.9406666666666667\n",
            "LogisticRegression2|Raw StandardScalerMTST|\n",
            "\n",
            "best estimate parameters {'C': 0.502984410236574, 'intercept_scaling': 0.185623948322432, 'max_iter': 89, 'solver': 'newton-cg', 'tol': 0.007150402267051326}\n"
          ],
          "name": "stdout"
        },
        {
          "output_type": "stream",
          "text": [
            "/usr/local/lib/python3.6/dist-packages/sklearn/utils/optimize.py:203: ConvergenceWarning: newton-cg failed to converge. Increase the number of iterations.\n",
            "  \"number of iterations.\", ConvergenceWarning)\n"
          ],
          "name": "stderr"
        },
        {
          "output_type": "stream",
          "text": [
            "Train score: 0.9402857142857143\n",
            "Test score: 0.9393333333333334\n",
            "Test2 score: 0.9406666666666667\n",
            "LogisticRegression2|Raw StandardScalerMTSF|\n",
            "\n",
            "best estimate parameters {'C': 0.4707272795523054, 'intercept_scaling': 0.4252376622509334, 'max_iter': 72, 'solver': 'newton-cg', 'tol': 0.06617038012680665}\n",
            "Train score: 0.9402857142857143\n",
            "Test score: 0.9393333333333334\n",
            "Test2 score: 0.9406666666666667\n",
            "LogisticRegression2|Raw StandardScalerMFST|\n",
            "\n",
            "best estimate parameters {'C': 0.2560686729902283, 'intercept_scaling': 0.666236308017147, 'max_iter': 88, 'solver': 'newton-cg', 'tol': 0.060704788681238186}\n"
          ],
          "name": "stdout"
        },
        {
          "output_type": "stream",
          "text": [
            "/usr/local/lib/python3.6/dist-packages/sklearn/utils/optimize.py:203: ConvergenceWarning: newton-cg failed to converge. Increase the number of iterations.\n",
            "  \"number of iterations.\", ConvergenceWarning)\n"
          ],
          "name": "stderr"
        },
        {
          "output_type": "stream",
          "text": [
            "Train score: 0.9402857142857143\n",
            "Test score: 0.9393333333333334\n",
            "Test2 score: 0.9406666666666667\n",
            "LogisticRegression2|Raw StandardScalerMFSF|\n",
            "\n",
            "best estimate parameters {'C': 0.6338724611074589, 'intercept_scaling': 0.6867468694976832, 'max_iter': 1, 'solver': 'saga', 'tol': 0.7348577790468713}\n"
          ],
          "name": "stdout"
        },
        {
          "output_type": "stream",
          "text": [
            "/usr/local/lib/python3.6/dist-packages/sklearn/linear_model/sag.py:334: ConvergenceWarning: The max_iter was reached which means the coef_ did not converge\n",
            "  \"the coef_ did not converge\", ConvergenceWarning)\n"
          ],
          "name": "stderr"
        },
        {
          "output_type": "stream",
          "text": [
            "Train score: 0.9402857142857143\n",
            "Test score: 0.9393333333333334\n",
            "Test2 score: 0.9406666666666667\n",
            "LogisticRegression2|Raw StandardScalerMTST|StandardScalerMTSF|\n",
            "\n",
            "best estimate parameters {'C': 0.5096209739939661, 'intercept_scaling': 0.24279424373374658, 'max_iter': 30, 'solver': 'sag', 'tol': 0.09339731244060212}\n",
            "Train score: 0.9402857142857143\n",
            "Test score: 0.9393333333333334\n",
            "Test2 score: 0.9406666666666667\n",
            "LogisticRegression2|Raw StandardScalerMTST|StandardScalerMFST|\n",
            "\n",
            "best estimate parameters {'C': 0.9402221924913404, 'intercept_scaling': 0.2557789304875717, 'max_iter': 93, 'solver': 'saga', 'tol': 0.46476561629060753}\n",
            "Train score: 0.9402857142857143\n",
            "Test score: 0.9393333333333334\n",
            "Test2 score: 0.9406666666666667\n",
            "LogisticRegression2|Raw StandardScalerMTST|StandardScalerMFSF|\n",
            "\n",
            "best estimate parameters {'C': 0.42890431597176226, 'intercept_scaling': 0.4399215357847319, 'max_iter': 16, 'solver': 'saga', 'tol': 0.9846095226960369}\n",
            "Train score: 0.9402857142857143\n",
            "Test score: 0.9393333333333334\n",
            "Test2 score: 0.9406666666666667\n",
            "LogisticRegression2|Raw StandardScalerMTSF|StandardScalerMFST|\n",
            "\n",
            "best estimate parameters {'C': 0.4962547203881117, 'intercept_scaling': 0.12828274170230913, 'max_iter': 72, 'solver': 'newton-cg', 'tol': 0.12022953520593327}\n"
          ],
          "name": "stdout"
        },
        {
          "output_type": "stream",
          "text": [
            "/usr/local/lib/python3.6/dist-packages/sklearn/utils/optimize.py:203: ConvergenceWarning: newton-cg failed to converge. Increase the number of iterations.\n",
            "  \"number of iterations.\", ConvergenceWarning)\n"
          ],
          "name": "stderr"
        },
        {
          "output_type": "stream",
          "text": [
            "Train score: 0.9402857142857143\n",
            "Test score: 0.9393333333333334\n",
            "Test2 score: 0.9406666666666667\n",
            "LogisticRegression2|Raw StandardScalerMTSF|StandardScalerMFSF|\n",
            "\n",
            "best estimate parameters {'C': 0.7558193525016206, 'intercept_scaling': 0.10676009106840267, 'max_iter': 30, 'solver': 'lbfgs', 'tol': 0.25629883139993603}\n",
            "best estimate parameters {'C': 0.9263256443505097, 'class_weight': 'balanced', 'fit_intercept': False, 'intercept_scaling': 0.2484714535579881, 'loss': 'squared_hinge', 'max_iter': 48, 'tol': 0.9430656415443307}\n",
            "LinearSVC|Raw Normalizer_l2|\n",
            "\n",
            "best estimate parameters {'C': 0.9537324679173049, 'class_weight': 'balanced', 'fit_intercept': True, 'intercept_scaling': 0.3510733064737877, 'loss': 'squared_hinge', 'max_iter': 27, 'tol': 0.5648841706542678}\n",
            "LinearSVC|Raw Normalizer_l1|\n",
            "\n",
            "best estimate parameters {'C': 0.90027908264718, 'class_weight': 'balanced', 'fit_intercept': True, 'intercept_scaling': 0.8005479586244387, 'loss': 'squared_hinge', 'max_iter': 0, 'tol': 0.941138487521159}\n"
          ],
          "name": "stdout"
        },
        {
          "output_type": "stream",
          "text": [
            "/usr/local/lib/python3.6/dist-packages/sklearn/svm/base.py:931: ConvergenceWarning: Liblinear failed to converge, increase the number of iterations.\n",
            "  \"the number of iterations.\", ConvergenceWarning)\n"
          ],
          "name": "stderr"
        },
        {
          "output_type": "stream",
          "text": [
            "LinearSVC|Raw Normalizer_l2|Normalizer_l1|\n",
            "\n",
            "best estimate parameters {'C': 0.5642911342058997, 'class_weight': 'balanced', 'fit_intercept': False, 'intercept_scaling': 0.9302725045327831, 'loss': 'squared_hinge', 'max_iter': 36, 'tol': 0.07490578268319567}\n"
          ],
          "name": "stdout"
        },
        {
          "output_type": "stream",
          "text": [
            "/usr/local/lib/python3.6/dist-packages/sklearn/svm/base.py:931: ConvergenceWarning: Liblinear failed to converge, increase the number of iterations.\n",
            "  \"the number of iterations.\", ConvergenceWarning)\n"
          ],
          "name": "stderr"
        },
        {
          "output_type": "stream",
          "text": [
            "Train score: 0.9402857142857143\n",
            "Test score: 0.9393333333333334\n",
            "Test2 score: 0.9406666666666667\n",
            "LinearSVC|Raw StandardScalerMTST|\n",
            "\n",
            "best estimate parameters {'C': 0.7709189432777472, 'class_weight': 'balanced', 'fit_intercept': False, 'intercept_scaling': 0.49625700477696466, 'loss': 'hinge', 'max_iter': 63, 'tol': 0.24439898755834377}\n"
          ],
          "name": "stdout"
        },
        {
          "output_type": "stream",
          "text": [
            "/usr/local/lib/python3.6/dist-packages/sklearn/svm/base.py:931: ConvergenceWarning: Liblinear failed to converge, increase the number of iterations.\n",
            "  \"the number of iterations.\", ConvergenceWarning)\n"
          ],
          "name": "stderr"
        },
        {
          "output_type": "stream",
          "text": [
            "LinearSVC|Raw StandardScalerMTSF|\n",
            "\n",
            "best estimate parameters {'C': 0.22212305195730653, 'class_weight': 'balanced', 'fit_intercept': True, 'intercept_scaling': 0.5018160864982601, 'loss': 'squared_hinge', 'max_iter': 85, 'tol': 0.7734277497240641}\n"
          ],
          "name": "stdout"
        },
        {
          "output_type": "stream",
          "text": [
            "/usr/local/lib/python3.6/dist-packages/sklearn/svm/base.py:931: ConvergenceWarning: Liblinear failed to converge, increase the number of iterations.\n",
            "  \"the number of iterations.\", ConvergenceWarning)\n"
          ],
          "name": "stderr"
        },
        {
          "output_type": "stream",
          "text": [
            "Train score: 0.9402857142857143\n",
            "Test score: 0.9393333333333334\n",
            "Test2 score: 0.9406666666666667\n",
            "LinearSVC|Raw StandardScalerMFST|\n",
            "\n",
            "best estimate parameters {'C': 0.14350362664922925, 'class_weight': '', 'fit_intercept': True, 'intercept_scaling': 0.7548507374364712, 'loss': 'squared_hinge', 'max_iter': 72, 'tol': 0.01871066505558042}\n"
          ],
          "name": "stdout"
        },
        {
          "output_type": "stream",
          "text": [
            "/usr/local/lib/python3.6/dist-packages/sklearn/svm/base.py:931: ConvergenceWarning: Liblinear failed to converge, increase the number of iterations.\n",
            "  \"the number of iterations.\", ConvergenceWarning)\n"
          ],
          "name": "stderr"
        },
        {
          "output_type": "stream",
          "text": [
            "LinearSVC|Raw StandardScalerMFSF|\n",
            "\n",
            "best estimate parameters {'C': 0.5929030752803565, 'class_weight': 'balanced', 'fit_intercept': True, 'intercept_scaling': 0.3931341161255931, 'loss': 'hinge', 'max_iter': 19, 'tol': 0.0284501245374279}\n"
          ],
          "name": "stdout"
        },
        {
          "output_type": "stream",
          "text": [
            "/usr/local/lib/python3.6/dist-packages/sklearn/svm/base.py:931: ConvergenceWarning: Liblinear failed to converge, increase the number of iterations.\n",
            "  \"the number of iterations.\", ConvergenceWarning)\n"
          ],
          "name": "stderr"
        },
        {
          "output_type": "stream",
          "text": [
            "Train score: 0.9402857142857143\n",
            "Test score: 0.9393333333333334\n",
            "Test2 score: 0.9406666666666667\n",
            "LinearSVC|Raw StandardScalerMTST|StandardScalerMTSF|\n",
            "\n",
            "best estimate parameters {'C': 0.9187844975009711, 'class_weight': '', 'fit_intercept': True, 'intercept_scaling': 0.5161332870424753, 'loss': 'squared_hinge', 'max_iter': 5, 'tol': 0.546460829048207}\n"
          ],
          "name": "stdout"
        },
        {
          "output_type": "stream",
          "text": [
            "/usr/local/lib/python3.6/dist-packages/sklearn/svm/base.py:931: ConvergenceWarning: Liblinear failed to converge, increase the number of iterations.\n",
            "  \"the number of iterations.\", ConvergenceWarning)\n"
          ],
          "name": "stderr"
        },
        {
          "output_type": "stream",
          "text": [
            "Train score: 0.9402857142857143\n",
            "Test score: 0.9393333333333334\n",
            "Test2 score: 0.9406666666666667\n",
            "LinearSVC|Raw StandardScalerMTST|StandardScalerMFST|\n",
            "\n",
            "best estimate parameters {'C': 0.5328866850747209, 'class_weight': '', 'fit_intercept': True, 'intercept_scaling': 0.883907837900965, 'loss': 'squared_hinge', 'max_iter': 5, 'tol': 0.37714809431525964}\n"
          ],
          "name": "stdout"
        },
        {
          "output_type": "stream",
          "text": [
            "/usr/local/lib/python3.6/dist-packages/sklearn/svm/base.py:931: ConvergenceWarning: Liblinear failed to converge, increase the number of iterations.\n",
            "  \"the number of iterations.\", ConvergenceWarning)\n"
          ],
          "name": "stderr"
        },
        {
          "output_type": "stream",
          "text": [
            "Train score: 0.9377142857142857\n",
            "Test score: 0.9346666666666666\n",
            "Test2 score: 0.9373333333333334\n",
            "LinearSVC|Raw StandardScalerMTST|StandardScalerMFSF|\n",
            "\n",
            "best estimate parameters {'C': 0.9312960035273773, 'class_weight': 'balanced', 'fit_intercept': False, 'intercept_scaling': 0.24428552820697225, 'loss': 'hinge', 'max_iter': 88, 'tol': 0.9649766449296486}\n",
            "Train score: 0.9402857142857143\n",
            "Test score: 0.9393333333333334\n",
            "Test2 score: 0.9406666666666667\n",
            "LinearSVC|Raw StandardScalerMTSF|StandardScalerMFST|\n",
            "\n",
            "best estimate parameters {'C': 0.5258606215801518, 'class_weight': 'balanced', 'fit_intercept': True, 'intercept_scaling': 0.24396402325302766, 'loss': 'squared_hinge', 'max_iter': 63, 'tol': 0.9604761908197998}\n"
          ],
          "name": "stdout"
        },
        {
          "output_type": "stream",
          "text": [
            "/usr/local/lib/python3.6/dist-packages/sklearn/svm/base.py:931: ConvergenceWarning: Liblinear failed to converge, increase the number of iterations.\n",
            "  \"the number of iterations.\", ConvergenceWarning)\n"
          ],
          "name": "stderr"
        },
        {
          "output_type": "stream",
          "text": [
            "LinearSVC|Raw StandardScalerMTSF|StandardScalerMFSF|\n",
            "\n",
            "best estimate parameters {'C': 0.30664266356091996, 'class_weight': '', 'fit_intercept': False, 'intercept_scaling': 0.594128056123308, 'loss': 'hinge', 'max_iter': 56, 'tol': 0.5834645365805817}\n"
          ],
          "name": "stdout"
        },
        {
          "output_type": "stream",
          "text": [
            "/usr/local/lib/python3.6/dist-packages/sklearn/svm/base.py:931: ConvergenceWarning: Liblinear failed to converge, increase the number of iterations.\n",
            "  \"the number of iterations.\", ConvergenceWarning)\n"
          ],
          "name": "stderr"
        },
        {
          "output_type": "stream",
          "text": [
            "Train score: 0.9402857142857143\n",
            "Test score: 0.9393333333333334\n",
            "Test2 score: 0.9406666666666667\n",
            "LinearSVC|Raw StandardScalerMFST|StandardScalerMFSF|\n",
            "\n",
            "best estimate parameters {'learning_rate': 2.1139939250588027, 'n_estimators': 209}\n",
            "Train score: 0.9402857142857143\n",
            "Test score: 0.9393333333333334\n",
            "Test2 score: 0.9406666666666667\n",
            "AdaBoostClassifier|Raw Normalizer_l2|\n",
            "\n",
            "best estimate parameters {'learning_rate': 1.920236549719175, 'n_estimators': 95}\n",
            "Train score: 0.9442857142857143\n",
            "Test score: 0.94\n",
            "Test2 score: 0.9413333333333334\n",
            "AdaBoostClassifier|Raw Normalizer_l1|\n",
            "\n",
            "best estimate parameters {'learning_rate': 2.292073950831277, 'n_estimators': 233}\n",
            "Train score: 0.9402857142857143\n",
            "Test score: 0.9393333333333334\n",
            "Test2 score: 0.9406666666666667\n",
            "AdaBoostClassifier|Raw Normalizer_l2|Normalizer_l1|\n",
            "\n",
            "best estimate parameters {'learning_rate': 1.0153950990011733, 'n_estimators': 140}\n",
            "Train score: 0.9422857142857143\n",
            "Test score: 0.94\n",
            "Test2 score: 0.9433333333333334\n",
            "AdaBoostClassifier|Raw StandardScalerMTST|\n",
            "\n",
            "best estimate parameters {'learning_rate': 1.1086326092230985, 'n_estimators': 128}\n",
            "Train score: 0.9425714285714286\n",
            "Test score: 0.94\n",
            "Test2 score: 0.944\n",
            "AdaBoostClassifier|Raw StandardScalerMTSF|\n",
            "\n",
            "best estimate parameters {'learning_rate': 1.062826700985721, 'n_estimators': 78}\n",
            "Train score: 0.9417142857142857\n",
            "Test score: 0.9393333333333334\n",
            "Test2 score: 0.9433333333333334\n",
            "AdaBoostClassifier|Raw StandardScalerMFST|\n",
            "\n",
            "best estimate parameters {'learning_rate': 1.1991848453512592, 'n_estimators': 75}\n",
            "Train score: 0.9414285714285714\n",
            "Test score: 0.9373333333333334\n",
            "Test2 score: 0.942\n",
            "AdaBoostClassifier|Raw StandardScalerMFSF|\n",
            "\n",
            "best estimate parameters {'learning_rate': 1.0635128534678628, 'n_estimators': 92}\n",
            "Train score: 0.942\n",
            "Test score: 0.9393333333333334\n",
            "Test2 score: 0.944\n",
            "AdaBoostClassifier|Raw StandardScalerMTST|StandardScalerMTSF|\n",
            "\n",
            "best estimate parameters {'learning_rate': 1.1691649677876728, 'n_estimators': 117}\n",
            "Train score: 0.9414285714285714\n",
            "Test score: 0.94\n",
            "Test2 score: 0.9433333333333334\n",
            "AdaBoostClassifier|Raw StandardScalerMTST|StandardScalerMFST|\n",
            "\n",
            "best estimate parameters {'learning_rate': 1.1715837661360753, 'n_estimators': 112}\n",
            "Train score: 0.9414285714285714\n",
            "Test score: 0.94\n",
            "Test2 score: 0.9433333333333334\n",
            "AdaBoostClassifier|Raw StandardScalerMTST|StandardScalerMFSF|\n",
            "\n",
            "best estimate parameters {'learning_rate': 1.1028625340894371, 'n_estimators': 105}\n",
            "Train score: 0.9417142857142857\n",
            "Test score: 0.94\n",
            "Test2 score: 0.9433333333333334\n",
            "AdaBoostClassifier|Raw StandardScalerMTSF|StandardScalerMFST|\n",
            "\n",
            "best estimate parameters {'learning_rate': 1.1623885329875676, 'n_estimators': 96}\n",
            "Train score: 0.9428571428571428\n",
            "Test score: 0.94\n",
            "Test2 score: 0.9453333333333334\n",
            "AdaBoostClassifier|Raw StandardScalerMTSF|StandardScalerMFSF|\n",
            "\n",
            "best estimate parameters {'learning_rate': 1.0678230262596526, 'n_estimators': 232}\n",
            "Train score: 0.944\n",
            "Test score: 0.94\n",
            "Test2 score: 0.9453333333333334\n",
            "AdaBoostClassifier|Raw StandardScalerMFST|StandardScalerMFSF|\n",
            "\n"
          ],
          "name": "stdout"
        },
        {
          "output_type": "stream",
          "text": [
            "/usr/local/lib/python3.6/dist-packages/sklearn/ensemble/forest.py:246: FutureWarning: The default value of n_estimators will change from 10 in version 0.20 to 100 in 0.22.\n",
            "  \"10 in version 0.20 to 100 in 0.22.\", FutureWarning)\n"
          ],
          "name": "stderr"
        },
        {
          "output_type": "stream",
          "text": [
            "RandomForestClassifier|PCA Normalizer_l2|\n",
            "\n"
          ],
          "name": "stdout"
        },
        {
          "output_type": "stream",
          "text": [
            "/usr/local/lib/python3.6/dist-packages/sklearn/ensemble/forest.py:246: FutureWarning: The default value of n_estimators will change from 10 in version 0.20 to 100 in 0.22.\n",
            "  \"10 in version 0.20 to 100 in 0.22.\", FutureWarning)\n"
          ],
          "name": "stderr"
        },
        {
          "output_type": "stream",
          "text": [
            "RandomForestClassifier|PCA Normalizer_l1|\n",
            "\n"
          ],
          "name": "stdout"
        },
        {
          "output_type": "stream",
          "text": [
            "/usr/local/lib/python3.6/dist-packages/sklearn/ensemble/forest.py:246: FutureWarning: The default value of n_estimators will change from 10 in version 0.20 to 100 in 0.22.\n",
            "  \"10 in version 0.20 to 100 in 0.22.\", FutureWarning)\n"
          ],
          "name": "stderr"
        },
        {
          "output_type": "stream",
          "text": [
            "RandomForestClassifier|PCA Normalizer_l2|Normalizer_l1|\n",
            "\n"
          ],
          "name": "stdout"
        },
        {
          "output_type": "stream",
          "text": [
            "/usr/local/lib/python3.6/dist-packages/sklearn/ensemble/forest.py:246: FutureWarning: The default value of n_estimators will change from 10 in version 0.20 to 100 in 0.22.\n",
            "  \"10 in version 0.20 to 100 in 0.22.\", FutureWarning)\n"
          ],
          "name": "stderr"
        },
        {
          "output_type": "stream",
          "text": [
            "Train score: 0.9877142857142858\n",
            "Test score: 0.938\n",
            "Test2 score: 0.9726666666666667\n",
            "RandomForestClassifier|PCA StandardScalerMTST|\n",
            "\n"
          ],
          "name": "stdout"
        },
        {
          "output_type": "stream",
          "text": [
            "/usr/local/lib/python3.6/dist-packages/sklearn/ensemble/forest.py:246: FutureWarning: The default value of n_estimators will change from 10 in version 0.20 to 100 in 0.22.\n",
            "  \"10 in version 0.20 to 100 in 0.22.\", FutureWarning)\n"
          ],
          "name": "stderr"
        },
        {
          "output_type": "stream",
          "text": [
            "RandomForestClassifier|PCA StandardScalerMTSF|\n",
            "\n"
          ],
          "name": "stdout"
        },
        {
          "output_type": "stream",
          "text": [
            "/usr/local/lib/python3.6/dist-packages/sklearn/ensemble/forest.py:246: FutureWarning: The default value of n_estimators will change from 10 in version 0.20 to 100 in 0.22.\n",
            "  \"10 in version 0.20 to 100 in 0.22.\", FutureWarning)\n"
          ],
          "name": "stderr"
        },
        {
          "output_type": "stream",
          "text": [
            "Train score: 0.9877142857142858\n",
            "Test score: 0.938\n",
            "Test2 score: 0.9726666666666667\n",
            "RandomForestClassifier|PCA StandardScalerMFST|\n",
            "\n"
          ],
          "name": "stdout"
        },
        {
          "output_type": "stream",
          "text": [
            "/usr/local/lib/python3.6/dist-packages/sklearn/ensemble/forest.py:246: FutureWarning: The default value of n_estimators will change from 10 in version 0.20 to 100 in 0.22.\n",
            "  \"10 in version 0.20 to 100 in 0.22.\", FutureWarning)\n"
          ],
          "name": "stderr"
        },
        {
          "output_type": "stream",
          "text": [
            "RandomForestClassifier|PCA StandardScalerMFSF|\n",
            "\n"
          ],
          "name": "stdout"
        },
        {
          "output_type": "stream",
          "text": [
            "/usr/local/lib/python3.6/dist-packages/sklearn/ensemble/forest.py:246: FutureWarning: The default value of n_estimators will change from 10 in version 0.20 to 100 in 0.22.\n",
            "  \"10 in version 0.20 to 100 in 0.22.\", FutureWarning)\n"
          ],
          "name": "stderr"
        },
        {
          "output_type": "stream",
          "text": [
            "Train score: 0.9877142857142858\n",
            "Test score: 0.938\n",
            "Test2 score: 0.9726666666666667\n",
            "RandomForestClassifier|PCA StandardScalerMTST|StandardScalerMTSF|\n",
            "\n"
          ],
          "name": "stdout"
        },
        {
          "output_type": "stream",
          "text": [
            "/usr/local/lib/python3.6/dist-packages/sklearn/ensemble/forest.py:246: FutureWarning: The default value of n_estimators will change from 10 in version 0.20 to 100 in 0.22.\n",
            "  \"10 in version 0.20 to 100 in 0.22.\", FutureWarning)\n"
          ],
          "name": "stderr"
        },
        {
          "output_type": "stream",
          "text": [
            "Train score: 0.9877142857142858\n",
            "Test score: 0.938\n",
            "Test2 score: 0.9726666666666667\n",
            "RandomForestClassifier|PCA StandardScalerMTST|StandardScalerMFST|\n",
            "\n"
          ],
          "name": "stdout"
        },
        {
          "output_type": "stream",
          "text": [
            "/usr/local/lib/python3.6/dist-packages/sklearn/ensemble/forest.py:246: FutureWarning: The default value of n_estimators will change from 10 in version 0.20 to 100 in 0.22.\n",
            "  \"10 in version 0.20 to 100 in 0.22.\", FutureWarning)\n"
          ],
          "name": "stderr"
        },
        {
          "output_type": "stream",
          "text": [
            "Train score: 0.9877142857142858\n",
            "Test score: 0.938\n",
            "Test2 score: 0.9726666666666667\n",
            "RandomForestClassifier|PCA StandardScalerMTST|StandardScalerMFSF|\n",
            "\n"
          ],
          "name": "stdout"
        },
        {
          "output_type": "stream",
          "text": [
            "/usr/local/lib/python3.6/dist-packages/sklearn/ensemble/forest.py:246: FutureWarning: The default value of n_estimators will change from 10 in version 0.20 to 100 in 0.22.\n",
            "  \"10 in version 0.20 to 100 in 0.22.\", FutureWarning)\n"
          ],
          "name": "stderr"
        },
        {
          "output_type": "stream",
          "text": [
            "Train score: 0.9877142857142858\n",
            "Test score: 0.938\n",
            "Test2 score: 0.9726666666666667\n",
            "RandomForestClassifier|PCA StandardScalerMTSF|StandardScalerMFST|\n",
            "\n"
          ],
          "name": "stdout"
        },
        {
          "output_type": "stream",
          "text": [
            "/usr/local/lib/python3.6/dist-packages/sklearn/ensemble/forest.py:246: FutureWarning: The default value of n_estimators will change from 10 in version 0.20 to 100 in 0.22.\n",
            "  \"10 in version 0.20 to 100 in 0.22.\", FutureWarning)\n"
          ],
          "name": "stderr"
        },
        {
          "output_type": "stream",
          "text": [
            "RandomForestClassifier|PCA StandardScalerMTSF|StandardScalerMFSF|\n",
            "\n"
          ],
          "name": "stdout"
        },
        {
          "output_type": "stream",
          "text": [
            "/usr/local/lib/python3.6/dist-packages/sklearn/ensemble/forest.py:246: FutureWarning: The default value of n_estimators will change from 10 in version 0.20 to 100 in 0.22.\n",
            "  \"10 in version 0.20 to 100 in 0.22.\", FutureWarning)\n"
          ],
          "name": "stderr"
        },
        {
          "output_type": "stream",
          "text": [
            "Train score: 0.9877142857142858\n",
            "Test score: 0.938\n",
            "Test2 score: 0.9726666666666667\n",
            "RandomForestClassifier|PCA StandardScalerMFST|StandardScalerMFSF|\n",
            "\n",
            "GradientBoostingClassifier|PCA Normalizer_l2|\n",
            "\n",
            "GradientBoostingClassifier|PCA Normalizer_l1|\n",
            "\n",
            "GradientBoostingClassifier|PCA Normalizer_l2|Normalizer_l1|\n",
            "\n",
            "Train score: 0.9451428571428572\n",
            "Test score: 0.9333333333333333\n",
            "Test2 score: 0.9446666666666667\n",
            "GradientBoostingClassifier|PCA StandardScalerMTST|\n",
            "\n",
            "GradientBoostingClassifier|PCA StandardScalerMTSF|\n",
            "\n",
            "Train score: 0.9451428571428572\n",
            "Test score: 0.9333333333333333\n",
            "Test2 score: 0.9446666666666667\n",
            "GradientBoostingClassifier|PCA StandardScalerMFST|\n",
            "\n",
            "GradientBoostingClassifier|PCA StandardScalerMFSF|\n",
            "\n",
            "Train score: 0.9451428571428572\n",
            "Test score: 0.9333333333333333\n",
            "Test2 score: 0.9446666666666667\n",
            "GradientBoostingClassifier|PCA StandardScalerMTST|StandardScalerMTSF|\n",
            "\n",
            "Train score: 0.9451428571428572\n",
            "Test score: 0.9333333333333333\n",
            "Test2 score: 0.9446666666666667\n",
            "GradientBoostingClassifier|PCA StandardScalerMTST|StandardScalerMFST|\n",
            "\n",
            "Train score: 0.9451428571428572\n",
            "Test score: 0.9333333333333333\n",
            "Test2 score: 0.9446666666666667\n",
            "GradientBoostingClassifier|PCA StandardScalerMTST|StandardScalerMFSF|\n",
            "\n",
            "Train score: 0.9451428571428572\n",
            "Test score: 0.9333333333333333\n",
            "Test2 score: 0.9446666666666667\n",
            "GradientBoostingClassifier|PCA StandardScalerMTSF|StandardScalerMFST|\n",
            "\n",
            "GradientBoostingClassifier|PCA StandardScalerMTSF|StandardScalerMFSF|\n",
            "\n",
            "Train score: 0.9451428571428572\n",
            "Test score: 0.9333333333333333\n",
            "Test2 score: 0.9446666666666667\n",
            "GradientBoostingClassifier|PCA StandardScalerMFST|StandardScalerMFSF|\n",
            "\n"
          ],
          "name": "stdout"
        },
        {
          "output_type": "stream",
          "text": [
            "/usr/local/lib/python3.6/dist-packages/sklearn/ensemble/forest.py:246: FutureWarning: The default value of n_estimators will change from 10 in version 0.20 to 100 in 0.22.\n",
            "  \"10 in version 0.20 to 100 in 0.22.\", FutureWarning)\n"
          ],
          "name": "stderr"
        },
        {
          "output_type": "stream",
          "text": [
            "Train score: 0.9868571428571429\n",
            "Test score: 0.9386666666666666\n",
            "Test2 score: 0.97\n",
            "RandomForestClassifier|Raw Normalizer_l2|\n",
            "\n"
          ],
          "name": "stdout"
        },
        {
          "output_type": "stream",
          "text": [
            "/usr/local/lib/python3.6/dist-packages/sklearn/ensemble/forest.py:246: FutureWarning: The default value of n_estimators will change from 10 in version 0.20 to 100 in 0.22.\n",
            "  \"10 in version 0.20 to 100 in 0.22.\", FutureWarning)\n"
          ],
          "name": "stderr"
        },
        {
          "output_type": "stream",
          "text": [
            "Train score: 0.9871428571428571\n",
            "Test score: 0.9393333333333334\n",
            "Test2 score: 0.9706666666666667\n",
            "RandomForestClassifier|Raw Normalizer_l1|\n",
            "\n"
          ],
          "name": "stdout"
        },
        {
          "output_type": "stream",
          "text": [
            "/usr/local/lib/python3.6/dist-packages/sklearn/ensemble/forest.py:246: FutureWarning: The default value of n_estimators will change from 10 in version 0.20 to 100 in 0.22.\n",
            "  \"10 in version 0.20 to 100 in 0.22.\", FutureWarning)\n"
          ],
          "name": "stderr"
        },
        {
          "output_type": "stream",
          "text": [
            "Train score: 0.9871428571428571\n",
            "Test score: 0.9393333333333334\n",
            "Test2 score: 0.9706666666666667\n",
            "RandomForestClassifier|Raw Normalizer_l2|Normalizer_l1|\n",
            "\n"
          ],
          "name": "stdout"
        },
        {
          "output_type": "stream",
          "text": [
            "/usr/local/lib/python3.6/dist-packages/sklearn/ensemble/forest.py:246: FutureWarning: The default value of n_estimators will change from 10 in version 0.20 to 100 in 0.22.\n",
            "  \"10 in version 0.20 to 100 in 0.22.\", FutureWarning)\n"
          ],
          "name": "stderr"
        },
        {
          "output_type": "stream",
          "text": [
            "Train score: 0.99\n",
            "Test score: 0.94\n",
            "Test2 score: 0.974\n",
            "RandomForestClassifier|Raw PowerTransformer_std|\n",
            "\n"
          ],
          "name": "stdout"
        },
        {
          "output_type": "stream",
          "text": [
            "/usr/local/lib/python3.6/dist-packages/sklearn/ensemble/forest.py:246: FutureWarning: The default value of n_estimators will change from 10 in version 0.20 to 100 in 0.22.\n",
            "  \"10 in version 0.20 to 100 in 0.22.\", FutureWarning)\n"
          ],
          "name": "stderr"
        },
        {
          "output_type": "stream",
          "text": [
            "Train score: 0.99\n",
            "Test score: 0.94\n",
            "Test2 score: 0.974\n",
            "RandomForestClassifier|Raw PowerTransformer|\n",
            "\n"
          ],
          "name": "stdout"
        },
        {
          "output_type": "stream",
          "text": [
            "/usr/local/lib/python3.6/dist-packages/sklearn/ensemble/forest.py:246: FutureWarning: The default value of n_estimators will change from 10 in version 0.20 to 100 in 0.22.\n",
            "  \"10 in version 0.20 to 100 in 0.22.\", FutureWarning)\n"
          ],
          "name": "stderr"
        },
        {
          "output_type": "stream",
          "text": [
            "Train score: 0.99\n",
            "Test score: 0.94\n",
            "Test2 score: 0.974\n",
            "RandomForestClassifier|Raw PowerTransformer_std|PowerTransformer|\n",
            "\n",
            "Train score: 0.9454285714285714\n",
            "Test score: 0.9373333333333334\n",
            "Test2 score: 0.9453333333333334\n",
            "GradientBoostingClassifier|Raw Normalizer_l2|\n",
            "\n",
            "Train score: 0.9448571428571428\n",
            "Test score: 0.9373333333333334\n",
            "Test2 score: 0.9433333333333334\n",
            "GradientBoostingClassifier|Raw Normalizer_l1|\n",
            "\n",
            "Train score: 0.9448571428571428\n",
            "Test score: 0.9373333333333334\n",
            "Test2 score: 0.9433333333333334\n",
            "GradientBoostingClassifier|Raw Normalizer_l2|Normalizer_l1|\n",
            "\n",
            "Train score: 0.9462857142857143\n",
            "Test score: 0.9366666666666666\n",
            "Test2 score: 0.9446666666666667\n",
            "GradientBoostingClassifier|Raw PowerTransformer_std|\n",
            "\n",
            "Train score: 0.9462857142857143\n",
            "Test score: 0.9366666666666666\n",
            "Test2 score: 0.9446666666666667\n",
            "GradientBoostingClassifier|Raw PowerTransformer|\n",
            "\n",
            "Train score: 0.9462857142857143\n",
            "Test score: 0.9366666666666666\n",
            "Test2 score: 0.9446666666666667\n",
            "GradientBoostingClassifier|Raw PowerTransformer_std|PowerTransformer|\n",
            "\n",
            "best estimate parameters {'C': 0.9982126442226654, 'intercept_scaling': 0.22186496696849392, 'max_iter': 44, 'solver': 'sag', 'tol': 0.3655761425396622}\n",
            "LogisticRegression2|Raw Normalizer_l2|\n",
            "\n",
            "best estimate parameters {'C': 0.6257231686057666, 'intercept_scaling': 0.7174352059310016, 'max_iter': 61, 'solver': 'sag', 'tol': 0.7005985490542846}\n",
            "LogisticRegression2|Raw Normalizer_l1|\n",
            "\n",
            "best estimate parameters {'C': 0.638307972125764, 'intercept_scaling': 0.6643127714036313, 'max_iter': 52, 'solver': 'sag', 'tol': 0.7954144500024647}\n",
            "LogisticRegression2|Raw Normalizer_l2|Normalizer_l1|\n",
            "\n",
            "best estimate parameters {'C': 0.17117595454528622, 'intercept_scaling': 0.8289314561916566, 'max_iter': 50, 'solver': 'sag', 'tol': 0.6426505563884894}\n",
            "Train score: 0.9402857142857143\n",
            "Test score: 0.9393333333333334\n",
            "Test2 score: 0.9406666666666667\n",
            "LogisticRegression2|Raw PowerTransformer_std|\n",
            "\n",
            "best estimate parameters {'C': 0.05253331008170137, 'intercept_scaling': 0.15738110532495153, 'max_iter': 60, 'solver': 'newton-cg', 'tol': 0.47326667179658377}\n"
          ],
          "name": "stdout"
        },
        {
          "output_type": "stream",
          "text": [
            "/usr/local/lib/python3.6/dist-packages/scipy/optimize/linesearch.py:462: LineSearchWarning: The line search algorithm did not converge\n",
            "  warn('The line search algorithm did not converge', LineSearchWarning)\n",
            "/usr/local/lib/python3.6/dist-packages/scipy/optimize/linesearch.py:313: LineSearchWarning: The line search algorithm did not converge\n",
            "  warn('The line search algorithm did not converge', LineSearchWarning)\n",
            "/usr/local/lib/python3.6/dist-packages/scipy/optimize/linesearch.py:462: LineSearchWarning: The line search algorithm did not converge\n",
            "  warn('The line search algorithm did not converge', LineSearchWarning)\n",
            "/usr/local/lib/python3.6/dist-packages/scipy/optimize/linesearch.py:313: LineSearchWarning: The line search algorithm did not converge\n",
            "  warn('The line search algorithm did not converge', LineSearchWarning)\n",
            "/usr/local/lib/python3.6/dist-packages/sklearn/utils/optimize.py:203: ConvergenceWarning: newton-cg failed to converge. Increase the number of iterations.\n",
            "  \"number of iterations.\", ConvergenceWarning)\n"
          ],
          "name": "stderr"
        },
        {
          "output_type": "stream",
          "text": [
            "Train score: 0.9388571428571428\n",
            "Test score: 0.9373333333333334\n",
            "Test2 score: 0.94\n",
            "LogisticRegression2|Raw PowerTransformer|\n",
            "\n",
            "best estimate parameters {'C': 0.09038967402810572, 'intercept_scaling': 0.398945164650057, 'max_iter': 29, 'solver': 'newton-cg', 'tol': 0.4213838922464509}\n",
            "Train score: 0.9402857142857143\n",
            "Test score: 0.9393333333333334\n",
            "Test2 score: 0.9406666666666667\n",
            "LogisticRegression2|Raw PowerTransformer_std|PowerTransformer|\n",
            "\n",
            "best estimate parameters {'C': 0.9879515747583626, 'class_weight': 'balanced', 'fit_intercept': False, 'intercept_scaling': 0.7076363440566072, 'loss': 'squared_hinge', 'max_iter': 3, 'tol': 0.39706993230611004}\n"
          ],
          "name": "stdout"
        },
        {
          "output_type": "stream",
          "text": [
            "/usr/local/lib/python3.6/dist-packages/sklearn/svm/base.py:931: ConvergenceWarning: Liblinear failed to converge, increase the number of iterations.\n",
            "  \"the number of iterations.\", ConvergenceWarning)\n"
          ],
          "name": "stderr"
        },
        {
          "output_type": "stream",
          "text": [
            "LinearSVC|Raw Normalizer_l2|\n",
            "\n",
            "best estimate parameters {'C': 0.9973342091518432, 'class_weight': 'balanced', 'fit_intercept': False, 'intercept_scaling': 0.5213578456097634, 'loss': 'squared_hinge', 'max_iter': 17, 'tol': 0.21888468482186754}\n",
            "LinearSVC|Raw Normalizer_l1|\n",
            "\n",
            "best estimate parameters {'C': 0.9776464970804996, 'class_weight': 'balanced', 'fit_intercept': False, 'intercept_scaling': 0.6480132763196724, 'loss': 'squared_hinge', 'max_iter': 0, 'tol': 0.6473542948255092}\n"
          ],
          "name": "stdout"
        },
        {
          "output_type": "stream",
          "text": [
            "/usr/local/lib/python3.6/dist-packages/sklearn/svm/base.py:931: ConvergenceWarning: Liblinear failed to converge, increase the number of iterations.\n",
            "  \"the number of iterations.\", ConvergenceWarning)\n"
          ],
          "name": "stderr"
        },
        {
          "output_type": "stream",
          "text": [
            "LinearSVC|Raw Normalizer_l2|Normalizer_l1|\n",
            "\n",
            "best estimate parameters {'C': 0.9822700888941137, 'class_weight': 'balanced', 'fit_intercept': False, 'intercept_scaling': 0.015297615613208748, 'loss': 'hinge', 'max_iter': 57, 'tol': 0.16548890365825508}\n",
            "Train score: 0.9402857142857143\n",
            "Test score: 0.9393333333333334\n",
            "Test2 score: 0.9406666666666667\n",
            "LinearSVC|Raw PowerTransformer_std|\n",
            "\n",
            "best estimate parameters {'C': 0.6134014326721137, 'class_weight': 'balanced', 'fit_intercept': False, 'intercept_scaling': 0.6041219139988002, 'loss': 'hinge', 'max_iter': 63, 'tol': 0.33051748342617715}\n"
          ],
          "name": "stdout"
        },
        {
          "output_type": "stream",
          "text": [
            "/usr/local/lib/python3.6/dist-packages/sklearn/svm/base.py:931: ConvergenceWarning: Liblinear failed to converge, increase the number of iterations.\n",
            "  \"the number of iterations.\", ConvergenceWarning)\n"
          ],
          "name": "stderr"
        },
        {
          "output_type": "stream",
          "text": [
            "LinearSVC|Raw PowerTransformer|\n",
            "\n",
            "best estimate parameters {'C': 0.6856049568765129, 'class_weight': 'balanced', 'fit_intercept': False, 'intercept_scaling': 0.573643669779679, 'loss': 'hinge', 'max_iter': 94, 'tol': 0.4990373808821752}\n"
          ],
          "name": "stdout"
        },
        {
          "output_type": "stream",
          "text": [
            "/usr/local/lib/python3.6/dist-packages/sklearn/svm/base.py:931: ConvergenceWarning: Liblinear failed to converge, increase the number of iterations.\n",
            "  \"the number of iterations.\", ConvergenceWarning)\n"
          ],
          "name": "stderr"
        },
        {
          "output_type": "stream",
          "text": [
            "Train score: 0.9402857142857143\n",
            "Test score: 0.9393333333333334\n",
            "Test2 score: 0.9406666666666667\n",
            "LinearSVC|Raw PowerTransformer_std|PowerTransformer|\n",
            "\n",
            "best estimate parameters {'learning_rate': 2.5774943835721547, 'n_estimators': 129}\n",
            "Train score: 0.9402857142857143\n",
            "Test score: 0.9393333333333334\n",
            "Test2 score: 0.9406666666666667\n",
            "AdaBoostClassifier|Raw Normalizer_l2|\n",
            "\n",
            "best estimate parameters {'learning_rate': 1.8983355613469497, 'n_estimators': 124}\n",
            "Train score: 0.9442857142857143\n",
            "Test score: 0.94\n",
            "Test2 score: 0.942\n",
            "AdaBoostClassifier|Raw Normalizer_l1|\n",
            "\n",
            "best estimate parameters {'learning_rate': 1.9169175471341802, 'n_estimators': 59}\n",
            "Train score: 0.9422857142857143\n",
            "Test score: 0.94\n",
            "Test2 score: 0.9393333333333334\n",
            "AdaBoostClassifier|Raw Normalizer_l2|Normalizer_l1|\n",
            "\n",
            "best estimate parameters {'learning_rate': 1.1134562791965277, 'n_estimators': 152}\n",
            "Train score: 0.9437142857142857\n",
            "Test score: 0.94\n",
            "Test2 score: 0.946\n",
            "AdaBoostClassifier|Raw PowerTransformer_std|\n",
            "\n",
            "best estimate parameters {'learning_rate': 1.7927487326921967, 'n_estimators': 181}\n",
            "Train score: 0.9437142857142857\n",
            "Test score: 0.936\n",
            "Test2 score: 0.9446666666666667\n",
            "AdaBoostClassifier|Raw PowerTransformer|\n",
            "\n",
            "best estimate parameters {'learning_rate': 1.2029003660104254, 'n_estimators': 74}\n",
            "Train score: 0.9417142857142857\n",
            "Test score: 0.9373333333333334\n",
            "Test2 score: 0.942\n",
            "AdaBoostClassifier|Raw PowerTransformer_std|PowerTransformer|\n",
            "\n"
          ],
          "name": "stdout"
        },
        {
          "output_type": "stream",
          "text": [
            "/usr/local/lib/python3.6/dist-packages/sklearn/ensemble/forest.py:246: FutureWarning: The default value of n_estimators will change from 10 in version 0.20 to 100 in 0.22.\n",
            "  \"10 in version 0.20 to 100 in 0.22.\", FutureWarning)\n"
          ],
          "name": "stderr"
        },
        {
          "output_type": "stream",
          "text": [
            "Train score: 0.9868571428571429\n",
            "Test score: 0.9386666666666666\n",
            "Test2 score: 0.97\n",
            "RandomForestClassifier|Raw Normalizer_l2|\n",
            "\n"
          ],
          "name": "stdout"
        },
        {
          "output_type": "stream",
          "text": [
            "/usr/local/lib/python3.6/dist-packages/sklearn/ensemble/forest.py:246: FutureWarning: The default value of n_estimators will change from 10 in version 0.20 to 100 in 0.22.\n",
            "  \"10 in version 0.20 to 100 in 0.22.\", FutureWarning)\n"
          ],
          "name": "stderr"
        },
        {
          "output_type": "stream",
          "text": [
            "Train score: 0.9871428571428571\n",
            "Test score: 0.9393333333333334\n",
            "Test2 score: 0.9706666666666667\n",
            "RandomForestClassifier|Raw Normalizer_l1|\n",
            "\n"
          ],
          "name": "stdout"
        },
        {
          "output_type": "stream",
          "text": [
            "/usr/local/lib/python3.6/dist-packages/sklearn/ensemble/forest.py:246: FutureWarning: The default value of n_estimators will change from 10 in version 0.20 to 100 in 0.22.\n",
            "  \"10 in version 0.20 to 100 in 0.22.\", FutureWarning)\n"
          ],
          "name": "stderr"
        },
        {
          "output_type": "stream",
          "text": [
            "Train score: 0.9871428571428571\n",
            "Test score: 0.9393333333333334\n",
            "Test2 score: 0.9706666666666667\n",
            "RandomForestClassifier|Raw Normalizer_l2|Normalizer_l1|\n",
            "\n"
          ],
          "name": "stdout"
        },
        {
          "output_type": "stream",
          "text": [
            "/usr/local/lib/python3.6/dist-packages/sklearn/ensemble/forest.py:246: FutureWarning: The default value of n_estimators will change from 10 in version 0.20 to 100 in 0.22.\n",
            "  \"10 in version 0.20 to 100 in 0.22.\", FutureWarning)\n"
          ],
          "name": "stderr"
        },
        {
          "output_type": "stream",
          "text": [
            "Train score: 0.9905714285714285\n",
            "Test score: 0.9393333333333334\n",
            "Test2 score: 0.9746666666666667\n",
            "RandomForestClassifier|Raw QuantileTransformer_u|\n",
            "\n"
          ],
          "name": "stdout"
        },
        {
          "output_type": "stream",
          "text": [
            "/usr/local/lib/python3.6/dist-packages/sklearn/ensemble/forest.py:246: FutureWarning: The default value of n_estimators will change from 10 in version 0.20 to 100 in 0.22.\n",
            "  \"10 in version 0.20 to 100 in 0.22.\", FutureWarning)\n"
          ],
          "name": "stderr"
        },
        {
          "output_type": "stream",
          "text": [
            "Train score: 0.99\n",
            "Test score: 0.9393333333333334\n",
            "Test2 score: 0.974\n",
            "RandomForestClassifier|Raw QuantileTransformer_n|\n",
            "\n"
          ],
          "name": "stdout"
        },
        {
          "output_type": "stream",
          "text": [
            "/usr/local/lib/python3.6/dist-packages/sklearn/ensemble/forest.py:246: FutureWarning: The default value of n_estimators will change from 10 in version 0.20 to 100 in 0.22.\n",
            "  \"10 in version 0.20 to 100 in 0.22.\", FutureWarning)\n"
          ],
          "name": "stderr"
        },
        {
          "output_type": "stream",
          "text": [
            "Train score: 0.9882857142857143\n",
            "Test score: 0.94\n",
            "Test2 score: 0.972\n",
            "RandomForestClassifier|Raw QuantileTransformer_u|QuantileTransformer_n|\n",
            "\n",
            "Train score: 0.9454285714285714\n",
            "Test score: 0.9373333333333334\n",
            "Test2 score: 0.9453333333333334\n",
            "GradientBoostingClassifier|Raw Normalizer_l2|\n",
            "\n",
            "Train score: 0.9448571428571428\n",
            "Test score: 0.9373333333333334\n",
            "Test2 score: 0.9433333333333334\n",
            "GradientBoostingClassifier|Raw Normalizer_l1|\n",
            "\n",
            "Train score: 0.9448571428571428\n",
            "Test score: 0.9373333333333334\n",
            "Test2 score: 0.9433333333333334\n",
            "GradientBoostingClassifier|Raw Normalizer_l2|Normalizer_l1|\n",
            "\n",
            "Train score: 0.9462857142857143\n",
            "Test score: 0.9366666666666666\n",
            "Test2 score: 0.9446666666666667\n",
            "GradientBoostingClassifier|Raw QuantileTransformer_u|\n",
            "\n",
            "Train score: 0.9462857142857143\n",
            "Test score: 0.9366666666666666\n",
            "Test2 score: 0.9446666666666667\n",
            "GradientBoostingClassifier|Raw QuantileTransformer_n|\n",
            "\n",
            "Train score: 0.9454285714285714\n",
            "Test score: 0.9386666666666666\n",
            "Test2 score: 0.9453333333333334\n",
            "GradientBoostingClassifier|Raw QuantileTransformer_u|QuantileTransformer_n|\n",
            "\n",
            "best estimate parameters {'C': 0.9962534713693911, 'class_weight': 'balanced', 'fit_intercept': True, 'intercept_scaling': 0.2810483184746765, 'loss': 'squared_hinge', 'max_iter': 0, 'tol': 0.06772128464905915}\n"
          ],
          "name": "stdout"
        },
        {
          "output_type": "stream",
          "text": [
            "/usr/local/lib/python3.6/dist-packages/sklearn/svm/base.py:931: ConvergenceWarning: Liblinear failed to converge, increase the number of iterations.\n",
            "  \"the number of iterations.\", ConvergenceWarning)\n"
          ],
          "name": "stderr"
        },
        {
          "output_type": "stream",
          "text": [
            "LinearSVC|Raw Normalizer_l2|\n",
            "\n",
            "best estimate parameters {'C': 0.8511945174528468, 'class_weight': 'balanced', 'fit_intercept': True, 'intercept_scaling': 0.7429679732610531, 'loss': 'squared_hinge', 'max_iter': 0, 'tol': 0.09549982601599827}\n"
          ],
          "name": "stdout"
        },
        {
          "output_type": "stream",
          "text": [
            "/usr/local/lib/python3.6/dist-packages/sklearn/svm/base.py:931: ConvergenceWarning: Liblinear failed to converge, increase the number of iterations.\n",
            "  \"the number of iterations.\", ConvergenceWarning)\n"
          ],
          "name": "stderr"
        },
        {
          "output_type": "stream",
          "text": [
            "LinearSVC|Raw Normalizer_l1|\n",
            "\n",
            "best estimate parameters {'C': 0.9480223285418599, 'class_weight': 'balanced', 'fit_intercept': False, 'intercept_scaling': 0.6162275177013582, 'loss': 'squared_hinge', 'max_iter': 84, 'tol': 0.25528908110118476}\n",
            "LinearSVC|Raw Normalizer_l2|Normalizer_l1|\n",
            "\n",
            "best estimate parameters {'C': 0.5777758903162603, 'class_weight': '', 'fit_intercept': True, 'intercept_scaling': 0.8561554691971753, 'loss': 'squared_hinge', 'max_iter': 11, 'tol': 0.7339144870144171}\n"
          ],
          "name": "stdout"
        },
        {
          "output_type": "stream",
          "text": [
            "/usr/local/lib/python3.6/dist-packages/sklearn/svm/base.py:931: ConvergenceWarning: Liblinear failed to converge, increase the number of iterations.\n",
            "  \"the number of iterations.\", ConvergenceWarning)\n"
          ],
          "name": "stderr"
        },
        {
          "output_type": "stream",
          "text": [
            "Train score: 0.9402857142857143\n",
            "Test score: 0.9393333333333334\n",
            "Test2 score: 0.9406666666666667\n",
            "LinearSVC|Raw QuantileTransformer_u|\n",
            "\n",
            "best estimate parameters {'C': 0.7210859523479074, 'class_weight': '', 'fit_intercept': False, 'intercept_scaling': 0.8101350016369153, 'loss': 'squared_hinge', 'max_iter': 90, 'tol': 0.057124751921730776}\n"
          ],
          "name": "stdout"
        },
        {
          "output_type": "stream",
          "text": [
            "/usr/local/lib/python3.6/dist-packages/sklearn/svm/base.py:931: ConvergenceWarning: Liblinear failed to converge, increase the number of iterations.\n",
            "  \"the number of iterations.\", ConvergenceWarning)\n"
          ],
          "name": "stderr"
        },
        {
          "output_type": "stream",
          "text": [
            "Train score: 0.9402857142857143\n",
            "Test score: 0.9393333333333334\n",
            "Test2 score: 0.9406666666666667\n",
            "LinearSVC|Raw QuantileTransformer_n|\n",
            "\n",
            "best estimate parameters {'C': 0.7425532356476408, 'class_weight': 'balanced', 'fit_intercept': True, 'intercept_scaling': 0.6847845947631445, 'loss': 'squared_hinge', 'max_iter': 64, 'tol': 0.408808272848762}\n"
          ],
          "name": "stdout"
        },
        {
          "output_type": "stream",
          "text": [
            "/usr/local/lib/python3.6/dist-packages/sklearn/svm/base.py:931: ConvergenceWarning: Liblinear failed to converge, increase the number of iterations.\n",
            "  \"the number of iterations.\", ConvergenceWarning)\n"
          ],
          "name": "stderr"
        },
        {
          "output_type": "stream",
          "text": [
            "Train score: 0.9402857142857143\n",
            "Test score: 0.9393333333333334\n",
            "Test2 score: 0.9406666666666667\n",
            "LinearSVC|Raw QuantileTransformer_u|QuantileTransformer_n|\n",
            "\n",
            "best estimate parameters {'learning_rate': 1.5746986895246382, 'n_estimators': 9}\n",
            "Train score: 0.9397142857142857\n",
            "Test score: 0.938\n",
            "Test2 score: 0.9386666666666666\n",
            "AdaBoostClassifier|Raw Normalizer_l2|\n",
            "\n",
            "best estimate parameters {'learning_rate': 1.9179893517143534, 'n_estimators': 22}\n",
            "Train score: 0.9402857142857143\n",
            "Test score: 0.9393333333333334\n",
            "Test2 score: 0.9406666666666667\n",
            "AdaBoostClassifier|Raw Normalizer_l1|\n",
            "\n",
            "best estimate parameters {'learning_rate': 1.914944585237871, 'n_estimators': 92}\n",
            "Train score: 0.9451428571428572\n",
            "Test score: 0.9393333333333334\n",
            "Test2 score: 0.942\n",
            "AdaBoostClassifier|Raw Normalizer_l2|Normalizer_l1|\n",
            "\n",
            "best estimate parameters {'learning_rate': 1.8434189518525905, 'n_estimators': 166}\n",
            "Train score: 0.946\n",
            "Test score: 0.9353333333333333\n",
            "Test2 score: 0.946\n",
            "AdaBoostClassifier|Raw QuantileTransformer_u|\n",
            "\n",
            "best estimate parameters {'learning_rate': 1.219939793511055, 'n_estimators': 83}\n",
            "Train score: 0.9422857142857143\n",
            "Test score: 0.9386666666666666\n",
            "Test2 score: 0.9433333333333334\n",
            "AdaBoostClassifier|Raw QuantileTransformer_n|\n",
            "\n",
            "best estimate parameters {'learning_rate': 1.2109238127256918, 'n_estimators': 116}\n",
            "Train score: 0.9428571428571428\n",
            "Test score: 0.9406666666666667\n",
            "Test2 score: 0.9466666666666667\n",
            "AdaBoostClassifier|Raw QuantileTransformer_u|QuantileTransformer_n|\n",
            "\n"
          ],
          "name": "stdout"
        },
        {
          "output_type": "stream",
          "text": [
            "/usr/local/lib/python3.6/dist-packages/sklearn/ensemble/forest.py:246: FutureWarning: The default value of n_estimators will change from 10 in version 0.20 to 100 in 0.22.\n",
            "  \"10 in version 0.20 to 100 in 0.22.\", FutureWarning)\n"
          ],
          "name": "stderr"
        },
        {
          "output_type": "stream",
          "text": [
            "RandomForestClassifier|PCA Normalizer_l2|\n",
            "\n"
          ],
          "name": "stdout"
        },
        {
          "output_type": "stream",
          "text": [
            "/usr/local/lib/python3.6/dist-packages/sklearn/ensemble/forest.py:246: FutureWarning: The default value of n_estimators will change from 10 in version 0.20 to 100 in 0.22.\n",
            "  \"10 in version 0.20 to 100 in 0.22.\", FutureWarning)\n"
          ],
          "name": "stderr"
        },
        {
          "output_type": "stream",
          "text": [
            "RandomForestClassifier|PCA Normalizer_l1|\n",
            "\n"
          ],
          "name": "stdout"
        },
        {
          "output_type": "stream",
          "text": [
            "/usr/local/lib/python3.6/dist-packages/sklearn/ensemble/forest.py:246: FutureWarning: The default value of n_estimators will change from 10 in version 0.20 to 100 in 0.22.\n",
            "  \"10 in version 0.20 to 100 in 0.22.\", FutureWarning)\n"
          ],
          "name": "stderr"
        },
        {
          "output_type": "stream",
          "text": [
            "RandomForestClassifier|PCA Normalizer_l2|Normalizer_l1|\n",
            "\n"
          ],
          "name": "stdout"
        },
        {
          "output_type": "stream",
          "text": [
            "/usr/local/lib/python3.6/dist-packages/sklearn/ensemble/forest.py:246: FutureWarning: The default value of n_estimators will change from 10 in version 0.20 to 100 in 0.22.\n",
            "  \"10 in version 0.20 to 100 in 0.22.\", FutureWarning)\n"
          ],
          "name": "stderr"
        },
        {
          "output_type": "stream",
          "text": [
            "Train score: 0.9871428571428571\n",
            "Test score: 0.938\n",
            "Test2 score: 0.9706666666666667\n",
            "RandomForestClassifier|PCA QuantileTransformer_u|\n",
            "\n"
          ],
          "name": "stdout"
        },
        {
          "output_type": "stream",
          "text": [
            "/usr/local/lib/python3.6/dist-packages/sklearn/ensemble/forest.py:246: FutureWarning: The default value of n_estimators will change from 10 in version 0.20 to 100 in 0.22.\n",
            "  \"10 in version 0.20 to 100 in 0.22.\", FutureWarning)\n"
          ],
          "name": "stderr"
        },
        {
          "output_type": "stream",
          "text": [
            "Train score: 0.9882857142857143\n",
            "Test score: 0.94\n",
            "Test2 score: 0.9713333333333334\n",
            "RandomForestClassifier|PCA QuantileTransformer_n|\n",
            "\n"
          ],
          "name": "stdout"
        },
        {
          "output_type": "stream",
          "text": [
            "/usr/local/lib/python3.6/dist-packages/sklearn/ensemble/forest.py:246: FutureWarning: The default value of n_estimators will change from 10 in version 0.20 to 100 in 0.22.\n",
            "  \"10 in version 0.20 to 100 in 0.22.\", FutureWarning)\n"
          ],
          "name": "stderr"
        },
        {
          "output_type": "stream",
          "text": [
            "Train score: 0.9871428571428571\n",
            "Test score: 0.9386666666666666\n",
            "Test2 score: 0.9706666666666667\n",
            "RandomForestClassifier|PCA QuantileTransformer_u|QuantileTransformer_n|\n",
            "\n",
            "GradientBoostingClassifier|PCA Normalizer_l2|\n",
            "\n",
            "GradientBoostingClassifier|PCA Normalizer_l1|\n",
            "\n",
            "GradientBoostingClassifier|PCA Normalizer_l2|Normalizer_l1|\n",
            "\n",
            "Train score: 0.9491428571428572\n",
            "Test score: 0.9393333333333334\n",
            "Test2 score: 0.9466666666666667\n",
            "GradientBoostingClassifier|PCA QuantileTransformer_u|\n",
            "\n",
            "Train score: 0.9474285714285714\n",
            "Test score: 0.938\n",
            "Test2 score: 0.9446666666666667\n",
            "GradientBoostingClassifier|PCA QuantileTransformer_n|\n",
            "\n",
            "Train score: 0.9474285714285714\n",
            "Test score: 0.9393333333333334\n",
            "Test2 score: 0.944\n",
            "GradientBoostingClassifier|PCA QuantileTransformer_u|QuantileTransformer_n|\n",
            "\n",
            "best estimate parameters {'C': 0.42210206080384677, 'class_weight': 'balanced', 'fit_intercept': False, 'intercept_scaling': 0.9904490516744151, 'loss': 'squared_hinge', 'max_iter': 53, 'tol': 0.7545636712079403}\n",
            "LinearSVC|PCA Normalizer_l2|\n",
            "\n",
            "best estimate parameters {'C': 0.5495473968504555, 'class_weight': 'balanced', 'fit_intercept': True, 'intercept_scaling': 0.7990539928426963, 'loss': 'squared_hinge', 'max_iter': 6, 'tol': 0.7598689097205452}\n",
            "LinearSVC|PCA Normalizer_l1|\n",
            "\n",
            "best estimate parameters {'C': 0.6983677662681953, 'class_weight': 'balanced', 'fit_intercept': True, 'intercept_scaling': 0.6841848894663148, 'loss': 'squared_hinge', 'max_iter': 92, 'tol': 0.9582564457330706}\n",
            "LinearSVC|PCA Normalizer_l2|Normalizer_l1|\n",
            "\n",
            "best estimate parameters {'C': 0.5045712453315504, 'class_weight': '', 'fit_intercept': False, 'intercept_scaling': 0.9519268618560289, 'loss': 'hinge', 'max_iter': 2, 'tol': 0.8174546776410427}\n"
          ],
          "name": "stdout"
        },
        {
          "output_type": "stream",
          "text": [
            "/usr/local/lib/python3.6/dist-packages/sklearn/svm/base.py:931: ConvergenceWarning: Liblinear failed to converge, increase the number of iterations.\n",
            "  \"the number of iterations.\", ConvergenceWarning)\n"
          ],
          "name": "stderr"
        },
        {
          "output_type": "stream",
          "text": [
            "Train score: 0.9402857142857143\n",
            "Test score: 0.9393333333333334\n",
            "Test2 score: 0.9406666666666667\n",
            "LinearSVC|PCA QuantileTransformer_u|\n",
            "\n",
            "best estimate parameters {'C': 0.565465322115609, 'class_weight': 'balanced', 'fit_intercept': True, 'intercept_scaling': 0.5302699977236217, 'loss': 'squared_hinge', 'max_iter': 92, 'tol': 0.9635226185871171}\n"
          ],
          "name": "stdout"
        },
        {
          "output_type": "stream",
          "text": [
            "/usr/local/lib/python3.6/dist-packages/sklearn/svm/base.py:931: ConvergenceWarning: Liblinear failed to converge, increase the number of iterations.\n",
            "  \"the number of iterations.\", ConvergenceWarning)\n"
          ],
          "name": "stderr"
        },
        {
          "output_type": "stream",
          "text": [
            "Train score: 0.9402857142857143\n",
            "Test score: 0.9393333333333334\n",
            "Test2 score: 0.9406666666666667\n",
            "LinearSVC|PCA QuantileTransformer_n|\n",
            "\n",
            "best estimate parameters {'C': 0.06760512773522898, 'class_weight': 'balanced', 'fit_intercept': False, 'intercept_scaling': 0.25842356337309447, 'loss': 'hinge', 'max_iter': 81, 'tol': 0.57620170607581}\n",
            "Train score: 0.9402857142857143\n",
            "Test score: 0.9393333333333334\n",
            "Test2 score: 0.9406666666666667\n",
            "LinearSVC|PCA QuantileTransformer_u|QuantileTransformer_n|\n",
            "\n",
            "best estimate parameters {'C': 0.3755431232234713, 'intercept_scaling': 0.02867546891861291, 'max_iter': 55, 'solver': 'sag', 'tol': 0.08812780592554403}\n",
            "LogisticRegression2|PCA Normalizer_l2|\n",
            "\n",
            "best estimate parameters {'C': 0.7805212983600895, 'intercept_scaling': 0.6076495148699836, 'max_iter': 10, 'solver': 'sag', 'tol': 0.9010638717317193}\n",
            "LogisticRegression2|PCA Normalizer_l1|\n",
            "\n",
            "best estimate parameters {'C': 0.8568042512793818, 'intercept_scaling': 0.30974591293800946, 'max_iter': 68, 'solver': 'sag', 'tol': 0.35599433537681413}\n",
            "LogisticRegression2|PCA Normalizer_l2|Normalizer_l1|\n",
            "\n",
            "best estimate parameters {'C': 0.46566588772919615, 'intercept_scaling': 0.28475391941438466, 'max_iter': 31, 'solver': 'newton-cg', 'tol': 0.34235321748210756}\n",
            "Train score: 0.9402857142857143\n",
            "Test score: 0.9393333333333334\n",
            "Test2 score: 0.9406666666666667\n",
            "LogisticRegression2|PCA QuantileTransformer_u|\n",
            "\n",
            "best estimate parameters {'C': 0.9507348972655094, 'intercept_scaling': 0.5887964995150823, 'max_iter': 26, 'solver': 'sag', 'tol': 0.682620967164312}\n",
            "Train score: 0.9394285714285714\n",
            "Test score: 0.9393333333333334\n",
            "Test2 score: 0.9406666666666667\n",
            "LogisticRegression2|PCA QuantileTransformer_n|\n",
            "\n",
            "best estimate parameters {'C': 0.054342958499973726, 'intercept_scaling': 0.7752573940567397, 'max_iter': 7, 'solver': 'newton-cg', 'tol': 0.8241951626339343}\n"
          ],
          "name": "stdout"
        },
        {
          "output_type": "stream",
          "text": [
            "/usr/local/lib/python3.6/dist-packages/sklearn/utils/optimize.py:203: ConvergenceWarning: newton-cg failed to converge. Increase the number of iterations.\n",
            "  \"number of iterations.\", ConvergenceWarning)\n"
          ],
          "name": "stderr"
        },
        {
          "output_type": "stream",
          "text": [
            "Train score: 0.9402857142857143\n",
            "Test score: 0.9393333333333334\n",
            "Test2 score: 0.9406666666666667\n",
            "LogisticRegression2|PCA QuantileTransformer_u|QuantileTransformer_n|\n",
            "\n",
            "best estimate parameters {'learning_rate': 1.7023099964843214, 'n_estimators': 20}\n",
            "AdaBoostClassifier|PCA Normalizer_l2|\n",
            "\n",
            "best estimate parameters {'learning_rate': 1.4508657751722265, 'n_estimators': 89}\n",
            "AdaBoostClassifier|PCA Normalizer_l1|\n",
            "\n",
            "best estimate parameters {'learning_rate': 1.1382199506824, 'n_estimators': 212}\n",
            "AdaBoostClassifier|PCA Normalizer_l2|Normalizer_l1|\n",
            "\n",
            "best estimate parameters {'learning_rate': 1.1587547080713978, 'n_estimators': 7}\n",
            "Train score: 0.9402857142857143\n",
            "Test score: 0.9393333333333334\n",
            "Test2 score: 0.9406666666666667\n",
            "AdaBoostClassifier|PCA QuantileTransformer_u|\n",
            "\n",
            "best estimate parameters {'learning_rate': 2.107317172105002, 'n_estimators': 175}\n",
            "Train score: 0.9402857142857143\n",
            "Test score: 0.9393333333333334\n",
            "Test2 score: 0.9406666666666667\n",
            "AdaBoostClassifier|PCA QuantileTransformer_n|\n",
            "\n",
            "best estimate parameters {'learning_rate': 2.1717520870168023, 'n_estimators': 35}\n",
            "Train score: 0.9402857142857143\n",
            "Test score: 0.9393333333333334\n",
            "Test2 score: 0.9406666666666667\n",
            "AdaBoostClassifier|PCA QuantileTransformer_u|QuantileTransformer_n|\n",
            "\n"
          ],
          "name": "stdout"
        },
        {
          "output_type": "stream",
          "text": [
            "/usr/local/lib/python3.6/dist-packages/sklearn/ensemble/forest.py:246: FutureWarning: The default value of n_estimators will change from 10 in version 0.20 to 100 in 0.22.\n",
            "  \"10 in version 0.20 to 100 in 0.22.\", FutureWarning)\n"
          ],
          "name": "stderr"
        },
        {
          "output_type": "stream",
          "text": [
            "Train score: 0.99\n",
            "Test score: 0.94\n",
            "Test2 score: 0.9746666666666667\n",
            "RandomForestClassifier|Raw StandardScalerMTST|\n",
            "\n"
          ],
          "name": "stdout"
        },
        {
          "output_type": "stream",
          "text": [
            "/usr/local/lib/python3.6/dist-packages/sklearn/ensemble/forest.py:246: FutureWarning: The default value of n_estimators will change from 10 in version 0.20 to 100 in 0.22.\n",
            "  \"10 in version 0.20 to 100 in 0.22.\", FutureWarning)\n"
          ],
          "name": "stderr"
        },
        {
          "output_type": "stream",
          "text": [
            "Train score: 0.99\n",
            "Test score: 0.94\n",
            "Test2 score: 0.9746666666666667\n",
            "RandomForestClassifier|Raw StandardScalerMTSF|\n",
            "\n"
          ],
          "name": "stdout"
        },
        {
          "output_type": "stream",
          "text": [
            "/usr/local/lib/python3.6/dist-packages/sklearn/ensemble/forest.py:246: FutureWarning: The default value of n_estimators will change from 10 in version 0.20 to 100 in 0.22.\n",
            "  \"10 in version 0.20 to 100 in 0.22.\", FutureWarning)\n"
          ],
          "name": "stderr"
        },
        {
          "output_type": "stream",
          "text": [
            "Train score: 0.99\n",
            "Test score: 0.94\n",
            "Test2 score: 0.9746666666666667\n",
            "RandomForestClassifier|Raw StandardScalerMFST|\n",
            "\n"
          ],
          "name": "stdout"
        },
        {
          "output_type": "stream",
          "text": [
            "/usr/local/lib/python3.6/dist-packages/sklearn/ensemble/forest.py:246: FutureWarning: The default value of n_estimators will change from 10 in version 0.20 to 100 in 0.22.\n",
            "  \"10 in version 0.20 to 100 in 0.22.\", FutureWarning)\n"
          ],
          "name": "stderr"
        },
        {
          "output_type": "stream",
          "text": [
            "Train score: 0.99\n",
            "Test score: 0.94\n",
            "Test2 score: 0.9746666666666667\n",
            "RandomForestClassifier|Raw StandardScalerMFSF|\n",
            "\n"
          ],
          "name": "stdout"
        },
        {
          "output_type": "stream",
          "text": [
            "/usr/local/lib/python3.6/dist-packages/sklearn/ensemble/forest.py:246: FutureWarning: The default value of n_estimators will change from 10 in version 0.20 to 100 in 0.22.\n",
            "  \"10 in version 0.20 to 100 in 0.22.\", FutureWarning)\n"
          ],
          "name": "stderr"
        },
        {
          "output_type": "stream",
          "text": [
            "Train score: 0.99\n",
            "Test score: 0.94\n",
            "Test2 score: 0.9746666666666667\n",
            "RandomForestClassifier|Raw StandardScalerMTST|StandardScalerMTSF|\n",
            "\n"
          ],
          "name": "stdout"
        },
        {
          "output_type": "stream",
          "text": [
            "/usr/local/lib/python3.6/dist-packages/sklearn/ensemble/forest.py:246: FutureWarning: The default value of n_estimators will change from 10 in version 0.20 to 100 in 0.22.\n",
            "  \"10 in version 0.20 to 100 in 0.22.\", FutureWarning)\n"
          ],
          "name": "stderr"
        },
        {
          "output_type": "stream",
          "text": [
            "Train score: 0.99\n",
            "Test score: 0.94\n",
            "Test2 score: 0.9746666666666667\n",
            "RandomForestClassifier|Raw StandardScalerMTST|StandardScalerMFST|\n",
            "\n"
          ],
          "name": "stdout"
        },
        {
          "output_type": "stream",
          "text": [
            "/usr/local/lib/python3.6/dist-packages/sklearn/ensemble/forest.py:246: FutureWarning: The default value of n_estimators will change from 10 in version 0.20 to 100 in 0.22.\n",
            "  \"10 in version 0.20 to 100 in 0.22.\", FutureWarning)\n"
          ],
          "name": "stderr"
        },
        {
          "output_type": "stream",
          "text": [
            "Train score: 0.99\n",
            "Test score: 0.94\n",
            "Test2 score: 0.9746666666666667\n",
            "RandomForestClassifier|Raw StandardScalerMTST|StandardScalerMFSF|\n",
            "\n"
          ],
          "name": "stdout"
        },
        {
          "output_type": "stream",
          "text": [
            "/usr/local/lib/python3.6/dist-packages/sklearn/ensemble/forest.py:246: FutureWarning: The default value of n_estimators will change from 10 in version 0.20 to 100 in 0.22.\n",
            "  \"10 in version 0.20 to 100 in 0.22.\", FutureWarning)\n"
          ],
          "name": "stderr"
        },
        {
          "output_type": "stream",
          "text": [
            "Train score: 0.99\n",
            "Test score: 0.94\n",
            "Test2 score: 0.9746666666666667\n",
            "RandomForestClassifier|Raw StandardScalerMTSF|StandardScalerMFST|\n",
            "\n"
          ],
          "name": "stdout"
        },
        {
          "output_type": "stream",
          "text": [
            "/usr/local/lib/python3.6/dist-packages/sklearn/ensemble/forest.py:246: FutureWarning: The default value of n_estimators will change from 10 in version 0.20 to 100 in 0.22.\n",
            "  \"10 in version 0.20 to 100 in 0.22.\", FutureWarning)\n"
          ],
          "name": "stderr"
        },
        {
          "output_type": "stream",
          "text": [
            "Train score: 0.99\n",
            "Test score: 0.94\n",
            "Test2 score: 0.9746666666666667\n",
            "RandomForestClassifier|Raw StandardScalerMTSF|StandardScalerMFSF|\n",
            "\n"
          ],
          "name": "stdout"
        },
        {
          "output_type": "stream",
          "text": [
            "/usr/local/lib/python3.6/dist-packages/sklearn/ensemble/forest.py:246: FutureWarning: The default value of n_estimators will change from 10 in version 0.20 to 100 in 0.22.\n",
            "  \"10 in version 0.20 to 100 in 0.22.\", FutureWarning)\n"
          ],
          "name": "stderr"
        },
        {
          "output_type": "stream",
          "text": [
            "Train score: 0.99\n",
            "Test score: 0.94\n",
            "Test2 score: 0.9746666666666667\n",
            "RandomForestClassifier|Raw StandardScalerMFST|StandardScalerMFSF|\n",
            "\n"
          ],
          "name": "stdout"
        },
        {
          "output_type": "stream",
          "text": [
            "/usr/local/lib/python3.6/dist-packages/sklearn/ensemble/forest.py:246: FutureWarning: The default value of n_estimators will change from 10 in version 0.20 to 100 in 0.22.\n",
            "  \"10 in version 0.20 to 100 in 0.22.\", FutureWarning)\n"
          ],
          "name": "stderr"
        },
        {
          "output_type": "stream",
          "text": [
            "Train score: 0.99\n",
            "Test score: 0.94\n",
            "Test2 score: 0.974\n",
            "RandomForestClassifier|Raw PowerTransformer_std|\n",
            "\n"
          ],
          "name": "stdout"
        },
        {
          "output_type": "stream",
          "text": [
            "/usr/local/lib/python3.6/dist-packages/sklearn/ensemble/forest.py:246: FutureWarning: The default value of n_estimators will change from 10 in version 0.20 to 100 in 0.22.\n",
            "  \"10 in version 0.20 to 100 in 0.22.\", FutureWarning)\n"
          ],
          "name": "stderr"
        },
        {
          "output_type": "stream",
          "text": [
            "Train score: 0.99\n",
            "Test score: 0.94\n",
            "Test2 score: 0.974\n",
            "RandomForestClassifier|Raw PowerTransformer|\n",
            "\n"
          ],
          "name": "stdout"
        },
        {
          "output_type": "stream",
          "text": [
            "/usr/local/lib/python3.6/dist-packages/sklearn/ensemble/forest.py:246: FutureWarning: The default value of n_estimators will change from 10 in version 0.20 to 100 in 0.22.\n",
            "  \"10 in version 0.20 to 100 in 0.22.\", FutureWarning)\n"
          ],
          "name": "stderr"
        },
        {
          "output_type": "stream",
          "text": [
            "Train score: 0.99\n",
            "Test score: 0.94\n",
            "Test2 score: 0.974\n",
            "RandomForestClassifier|Raw PowerTransformer_std|PowerTransformer|\n",
            "\n",
            "Train score: 0.9462857142857143\n",
            "Test score: 0.9366666666666666\n",
            "Test2 score: 0.9446666666666667\n",
            "GradientBoostingClassifier|Raw StandardScalerMTST|\n",
            "\n",
            "Train score: 0.9462857142857143\n",
            "Test score: 0.9366666666666666\n",
            "Test2 score: 0.9446666666666667\n",
            "GradientBoostingClassifier|Raw StandardScalerMTSF|\n",
            "\n",
            "Train score: 0.9462857142857143\n",
            "Test score: 0.9366666666666666\n",
            "Test2 score: 0.9446666666666667\n",
            "GradientBoostingClassifier|Raw StandardScalerMFST|\n",
            "\n",
            "Train score: 0.9462857142857143\n",
            "Test score: 0.9366666666666666\n",
            "Test2 score: 0.9446666666666667\n",
            "GradientBoostingClassifier|Raw StandardScalerMFSF|\n",
            "\n",
            "Train score: 0.9462857142857143\n",
            "Test score: 0.9366666666666666\n",
            "Test2 score: 0.9446666666666667\n",
            "GradientBoostingClassifier|Raw StandardScalerMTST|StandardScalerMTSF|\n",
            "\n",
            "Train score: 0.9462857142857143\n",
            "Test score: 0.9366666666666666\n",
            "Test2 score: 0.9446666666666667\n",
            "GradientBoostingClassifier|Raw StandardScalerMTST|StandardScalerMFST|\n",
            "\n",
            "Train score: 0.9462857142857143\n",
            "Test score: 0.9366666666666666\n",
            "Test2 score: 0.9446666666666667\n",
            "GradientBoostingClassifier|Raw StandardScalerMTST|StandardScalerMFSF|\n",
            "\n",
            "Train score: 0.9462857142857143\n",
            "Test score: 0.9366666666666666\n",
            "Test2 score: 0.9446666666666667\n",
            "GradientBoostingClassifier|Raw StandardScalerMTSF|StandardScalerMFST|\n",
            "\n",
            "Train score: 0.9462857142857143\n",
            "Test score: 0.9366666666666666\n",
            "Test2 score: 0.9446666666666667\n",
            "GradientBoostingClassifier|Raw StandardScalerMTSF|StandardScalerMFSF|\n",
            "\n",
            "Train score: 0.9462857142857143\n",
            "Test score: 0.9366666666666666\n",
            "Test2 score: 0.9446666666666667\n",
            "GradientBoostingClassifier|Raw StandardScalerMFST|StandardScalerMFSF|\n",
            "\n",
            "Train score: 0.9462857142857143\n",
            "Test score: 0.9366666666666666\n",
            "Test2 score: 0.9446666666666667\n",
            "GradientBoostingClassifier|Raw PowerTransformer_std|\n",
            "\n",
            "Train score: 0.9462857142857143\n",
            "Test score: 0.9366666666666666\n",
            "Test2 score: 0.9446666666666667\n",
            "GradientBoostingClassifier|Raw PowerTransformer|\n",
            "\n",
            "Train score: 0.9462857142857143\n",
            "Test score: 0.9366666666666666\n",
            "Test2 score: 0.9446666666666667\n",
            "GradientBoostingClassifier|Raw PowerTransformer_std|PowerTransformer|\n",
            "\n",
            "best estimate parameters {'C': 0.3298458884675666, 'intercept_scaling': 0.7873094550138506, 'max_iter': 51, 'solver': 'sag', 'tol': 0.07817439468205556}\n",
            "Train score: 0.9402857142857143\n",
            "Test score: 0.9393333333333334\n",
            "Test2 score: 0.9406666666666667\n",
            "LogisticRegression2|Raw StandardScalerMTST|\n",
            "\n",
            "best estimate parameters {'C': 0.3845239799440119, 'intercept_scaling': 0.5082239634590507, 'max_iter': 48, 'solver': 'newton-cg', 'tol': 0.58531677718335}\n"
          ],
          "name": "stdout"
        },
        {
          "output_type": "stream",
          "text": [
            "/usr/local/lib/python3.6/dist-packages/sklearn/utils/optimize.py:203: ConvergenceWarning: newton-cg failed to converge. Increase the number of iterations.\n",
            "  \"number of iterations.\", ConvergenceWarning)\n"
          ],
          "name": "stderr"
        },
        {
          "output_type": "stream",
          "text": [
            "Train score: 0.9402857142857143\n",
            "Test score: 0.9393333333333334\n",
            "Test2 score: 0.9406666666666667\n",
            "LogisticRegression2|Raw StandardScalerMTSF|\n",
            "\n",
            "best estimate parameters {'C': 0.2944951526798164, 'intercept_scaling': 0.42359618854628855, 'max_iter': 77, 'solver': 'liblinear', 'tol': 0.9701169808805974}\n"
          ],
          "name": "stdout"
        },
        {
          "output_type": "stream",
          "text": [
            "/usr/local/lib/python3.6/dist-packages/sklearn/linear_model/logistic.py:1300: UserWarning: 'n_jobs' > 1 does not have any effect when 'solver' is set to 'liblinear'. Got 'n_jobs' = 2.\n",
            "  \" = {}.\".format(effective_n_jobs(self.n_jobs)))\n"
          ],
          "name": "stderr"
        },
        {
          "output_type": "stream",
          "text": [
            "Train score: 0.9402857142857143\n",
            "Test score: 0.9393333333333334\n",
            "Test2 score: 0.9406666666666667\n",
            "LogisticRegression2|Raw StandardScalerMFST|\n",
            "\n",
            "best estimate parameters {'C': 0.31656943471224275, 'intercept_scaling': 0.7730764175183196, 'max_iter': 86, 'solver': 'newton-cg', 'tol': 0.2378331386579962}\n"
          ],
          "name": "stdout"
        },
        {
          "output_type": "stream",
          "text": [
            "/usr/local/lib/python3.6/dist-packages/scipy/optimize/linesearch.py:462: LineSearchWarning: The line search algorithm did not converge\n",
            "  warn('The line search algorithm did not converge', LineSearchWarning)\n",
            "/usr/local/lib/python3.6/dist-packages/scipy/optimize/linesearch.py:313: LineSearchWarning: The line search algorithm did not converge\n",
            "  warn('The line search algorithm did not converge', LineSearchWarning)\n",
            "/usr/local/lib/python3.6/dist-packages/scipy/optimize/linesearch.py:462: LineSearchWarning: The line search algorithm did not converge\n",
            "  warn('The line search algorithm did not converge', LineSearchWarning)\n",
            "/usr/local/lib/python3.6/dist-packages/scipy/optimize/linesearch.py:313: LineSearchWarning: The line search algorithm did not converge\n",
            "  warn('The line search algorithm did not converge', LineSearchWarning)\n",
            "/usr/local/lib/python3.6/dist-packages/sklearn/utils/optimize.py:203: ConvergenceWarning: newton-cg failed to converge. Increase the number of iterations.\n",
            "  \"number of iterations.\", ConvergenceWarning)\n"
          ],
          "name": "stderr"
        },
        {
          "output_type": "stream",
          "text": [
            "Train score: 0.9402857142857143\n",
            "Test score: 0.9393333333333334\n",
            "Test2 score: 0.9406666666666667\n",
            "LogisticRegression2|Raw StandardScalerMFSF|\n",
            "\n",
            "best estimate parameters {'C': 0.8835951756213242, 'intercept_scaling': 0.4345598249743907, 'max_iter': 40, 'solver': 'newton-cg', 'tol': 0.25517856155010443}\n",
            "Train score: 0.9402857142857143\n",
            "Test score: 0.9393333333333334\n",
            "Test2 score: 0.9406666666666667\n",
            "LogisticRegression2|Raw StandardScalerMTST|StandardScalerMTSF|\n",
            "\n",
            "best estimate parameters {'C': 0.11113392021593693, 'intercept_scaling': 0.7705504104722002, 'max_iter': 88, 'solver': 'lbfgs', 'tol': 0.6707844535429976}\n",
            "best estimate parameters {'C': 0.8327623133318118, 'intercept_scaling': 0.8696375156435106, 'max_iter': 19, 'solver': 'newton-cg', 'tol': 0.09903583074999966}\n",
            "Train score: 0.9402857142857143\n",
            "Test score: 0.9393333333333334\n",
            "Test2 score: 0.9406666666666667\n",
            "LogisticRegression2|Raw StandardScalerMTST|StandardScalerMFSF|\n",
            "\n",
            "best estimate parameters {'C': 0.6527983629503765, 'intercept_scaling': 0.4511405180775374, 'max_iter': 7, 'solver': 'liblinear', 'tol': 0.035685616651600305}\n"
          ],
          "name": "stdout"
        },
        {
          "output_type": "stream",
          "text": [
            "/usr/local/lib/python3.6/dist-packages/sklearn/linear_model/logistic.py:1300: UserWarning: 'n_jobs' > 1 does not have any effect when 'solver' is set to 'liblinear'. Got 'n_jobs' = 2.\n",
            "  \" = {}.\".format(effective_n_jobs(self.n_jobs)))\n"
          ],
          "name": "stderr"
        },
        {
          "output_type": "stream",
          "text": [
            "Train score: 0.9402857142857143\n",
            "Test score: 0.9393333333333334\n",
            "Test2 score: 0.9406666666666667\n",
            "LogisticRegression2|Raw StandardScalerMTSF|StandardScalerMFST|\n",
            "\n",
            "best estimate parameters {'C': 0.9681622980265155, 'intercept_scaling': 0.8443012071958981, 'max_iter': 30, 'solver': 'newton-cg', 'tol': 0.11101655747532313}\n"
          ],
          "name": "stdout"
        },
        {
          "output_type": "stream",
          "text": [
            "/usr/local/lib/python3.6/dist-packages/sklearn/utils/optimize.py:203: ConvergenceWarning: newton-cg failed to converge. Increase the number of iterations.\n",
            "  \"number of iterations.\", ConvergenceWarning)\n"
          ],
          "name": "stderr"
        },
        {
          "output_type": "stream",
          "text": [
            "Train score: 0.94\n",
            "Test score: 0.9393333333333334\n",
            "Test2 score: 0.94\n",
            "LogisticRegression2|Raw StandardScalerMTSF|StandardScalerMFSF|\n",
            "\n",
            "best estimate parameters {'C': 0.8750744412121609, 'intercept_scaling': 0.3176865521209997, 'max_iter': 66, 'solver': 'newton-cg', 'tol': 0.8954474202212134}\n",
            "Train score: 0.9402857142857143\n",
            "Test score: 0.9393333333333334\n",
            "Test2 score: 0.9406666666666667\n",
            "LogisticRegression2|Raw StandardScalerMFST|StandardScalerMFSF|\n",
            "\n",
            "best estimate parameters {'C': 0.757330298656373, 'intercept_scaling': 0.7307709014468271, 'max_iter': 4, 'solver': 'newton-cg', 'tol': 0.5920295273171454}\n"
          ],
          "name": "stdout"
        },
        {
          "output_type": "stream",
          "text": [
            "/usr/local/lib/python3.6/dist-packages/sklearn/utils/optimize.py:203: ConvergenceWarning: newton-cg failed to converge. Increase the number of iterations.\n",
            "  \"number of iterations.\", ConvergenceWarning)\n"
          ],
          "name": "stderr"
        },
        {
          "output_type": "stream",
          "text": [
            "Train score: 0.9402857142857143\n",
            "Test score: 0.9393333333333334\n",
            "Test2 score: 0.9406666666666667\n",
            "LogisticRegression2|Raw PowerTransformer_std|\n",
            "\n",
            "best estimate parameters {'C': 0.7443419369119738, 'intercept_scaling': 0.6188412634103869, 'max_iter': 71, 'solver': 'newton-cg', 'tol': 0.3165789403496162}\n"
          ],
          "name": "stdout"
        },
        {
          "output_type": "stream",
          "text": [
            "/usr/local/lib/python3.6/dist-packages/scipy/optimize/linesearch.py:462: LineSearchWarning: The line search algorithm did not converge\n",
            "  warn('The line search algorithm did not converge', LineSearchWarning)\n",
            "/usr/local/lib/python3.6/dist-packages/scipy/optimize/linesearch.py:313: LineSearchWarning: The line search algorithm did not converge\n",
            "  warn('The line search algorithm did not converge', LineSearchWarning)\n",
            "/usr/local/lib/python3.6/dist-packages/scipy/optimize/linesearch.py:462: LineSearchWarning: The line search algorithm did not converge\n",
            "  warn('The line search algorithm did not converge', LineSearchWarning)\n",
            "/usr/local/lib/python3.6/dist-packages/scipy/optimize/linesearch.py:313: LineSearchWarning: The line search algorithm did not converge\n",
            "  warn('The line search algorithm did not converge', LineSearchWarning)\n",
            "/usr/local/lib/python3.6/dist-packages/scipy/optimize/linesearch.py:462: LineSearchWarning: The line search algorithm did not converge\n",
            "  warn('The line search algorithm did not converge', LineSearchWarning)\n",
            "/usr/local/lib/python3.6/dist-packages/scipy/optimize/linesearch.py:313: LineSearchWarning: The line search algorithm did not converge\n",
            "  warn('The line search algorithm did not converge', LineSearchWarning)\n",
            "/usr/local/lib/python3.6/dist-packages/sklearn/utils/optimize.py:203: ConvergenceWarning: newton-cg failed to converge. Increase the number of iterations.\n",
            "  \"number of iterations.\", ConvergenceWarning)\n"
          ],
          "name": "stderr"
        },
        {
          "output_type": "stream",
          "text": [
            "Train score: 0.9402857142857143\n",
            "Test score: 0.9393333333333334\n",
            "Test2 score: 0.9406666666666667\n",
            "LogisticRegression2|Raw PowerTransformer|\n",
            "\n",
            "best estimate parameters {'C': 0.1132181414007839, 'intercept_scaling': 0.8348685301486068, 'max_iter': 77, 'solver': 'newton-cg', 'tol': 0.8030165621726287}\n",
            "Train score: 0.9402857142857143\n",
            "Test score: 0.9393333333333334\n",
            "Test2 score: 0.9406666666666667\n",
            "LogisticRegression2|Raw PowerTransformer_std|PowerTransformer|\n",
            "\n",
            "best estimate parameters {'C': 0.3777837202710962, 'class_weight': 'balanced', 'fit_intercept': True, 'intercept_scaling': 0.1078159090355909, 'loss': 'squared_hinge', 'max_iter': 2, 'tol': 0.40353817407522075}\n"
          ],
          "name": "stdout"
        },
        {
          "output_type": "stream",
          "text": [
            "/usr/local/lib/python3.6/dist-packages/sklearn/svm/base.py:931: ConvergenceWarning: Liblinear failed to converge, increase the number of iterations.\n",
            "  \"the number of iterations.\", ConvergenceWarning)\n"
          ],
          "name": "stderr"
        },
        {
          "output_type": "stream",
          "text": [
            "Train score: 0.9397142857142857\n",
            "Test score: 0.9373333333333334\n",
            "Test2 score: 0.9406666666666667\n",
            "LinearSVC|Raw StandardScalerMTST|\n",
            "\n",
            "best estimate parameters {'C': 0.6112278715743712, 'class_weight': '', 'fit_intercept': False, 'intercept_scaling': 0.29303167516581075, 'loss': 'hinge', 'max_iter': 63, 'tol': 0.8697259537247756}\n"
          ],
          "name": "stdout"
        },
        {
          "output_type": "stream",
          "text": [
            "/usr/local/lib/python3.6/dist-packages/sklearn/svm/base.py:931: ConvergenceWarning: Liblinear failed to converge, increase the number of iterations.\n",
            "  \"the number of iterations.\", ConvergenceWarning)\n"
          ],
          "name": "stderr"
        },
        {
          "output_type": "stream",
          "text": [
            "LinearSVC|Raw StandardScalerMTSF|\n",
            "\n",
            "best estimate parameters {'C': 0.9031472173295911, 'class_weight': 'balanced', 'fit_intercept': True, 'intercept_scaling': 0.831166732793177, 'loss': 'squared_hinge', 'max_iter': 46, 'tol': 0.6252528146122122}\n"
          ],
          "name": "stdout"
        },
        {
          "output_type": "stream",
          "text": [
            "/usr/local/lib/python3.6/dist-packages/sklearn/svm/base.py:931: ConvergenceWarning: Liblinear failed to converge, increase the number of iterations.\n",
            "  \"the number of iterations.\", ConvergenceWarning)\n"
          ],
          "name": "stderr"
        },
        {
          "output_type": "stream",
          "text": [
            "Train score: 0.9402857142857143\n",
            "Test score: 0.9393333333333334\n",
            "Test2 score: 0.9406666666666667\n",
            "LinearSVC|Raw StandardScalerMFST|\n",
            "\n",
            "best estimate parameters {'C': 0.22460765555107076, 'class_weight': '', 'fit_intercept': True, 'intercept_scaling': 0.40840364898546033, 'loss': 'hinge', 'max_iter': 72, 'tol': 0.8926643334271074}\n"
          ],
          "name": "stdout"
        },
        {
          "output_type": "stream",
          "text": [
            "/usr/local/lib/python3.6/dist-packages/sklearn/svm/base.py:931: ConvergenceWarning: Liblinear failed to converge, increase the number of iterations.\n",
            "  \"the number of iterations.\", ConvergenceWarning)\n"
          ],
          "name": "stderr"
        },
        {
          "output_type": "stream",
          "text": [
            "LinearSVC|Raw StandardScalerMFSF|\n",
            "\n",
            "best estimate parameters {'C': 0.3621256703427235, 'class_weight': '', 'fit_intercept': True, 'intercept_scaling': 0.03212384545807004, 'loss': 'squared_hinge', 'max_iter': 19, 'tol': 0.6025032463259767}\n"
          ],
          "name": "stdout"
        },
        {
          "output_type": "stream",
          "text": [
            "/usr/local/lib/python3.6/dist-packages/sklearn/svm/base.py:931: ConvergenceWarning: Liblinear failed to converge, increase the number of iterations.\n",
            "  \"the number of iterations.\", ConvergenceWarning)\n"
          ],
          "name": "stderr"
        },
        {
          "output_type": "stream",
          "text": [
            "Train score: 0.9402857142857143\n",
            "Test score: 0.9393333333333334\n",
            "Test2 score: 0.9406666666666667\n",
            "LinearSVC|Raw StandardScalerMTST|StandardScalerMTSF|\n",
            "\n",
            "best estimate parameters {'C': 0.6609248034511858, 'class_weight': '', 'fit_intercept': True, 'intercept_scaling': 0.527922275400825, 'loss': 'squared_hinge', 'max_iter': 15, 'tol': 0.8962060547896786}\n"
          ],
          "name": "stdout"
        },
        {
          "output_type": "stream",
          "text": [
            "/usr/local/lib/python3.6/dist-packages/sklearn/svm/base.py:931: ConvergenceWarning: Liblinear failed to converge, increase the number of iterations.\n",
            "  \"the number of iterations.\", ConvergenceWarning)\n"
          ],
          "name": "stderr"
        },
        {
          "output_type": "stream",
          "text": [
            "Train score: 0.9402857142857143\n",
            "Test score: 0.9393333333333334\n",
            "Test2 score: 0.9406666666666667\n",
            "LinearSVC|Raw StandardScalerMTST|StandardScalerMFST|\n",
            "\n",
            "best estimate parameters {'C': 0.4545288437229068, 'class_weight': '', 'fit_intercept': True, 'intercept_scaling': 0.42687837053497096, 'loss': 'squared_hinge', 'max_iter': 5, 'tol': 0.08317577578352414}\n"
          ],
          "name": "stdout"
        },
        {
          "output_type": "stream",
          "text": [
            "/usr/local/lib/python3.6/dist-packages/sklearn/svm/base.py:931: ConvergenceWarning: Liblinear failed to converge, increase the number of iterations.\n",
            "  \"the number of iterations.\", ConvergenceWarning)\n"
          ],
          "name": "stderr"
        },
        {
          "output_type": "stream",
          "text": [
            "Train score: 0.9402857142857143\n",
            "Test score: 0.9393333333333334\n",
            "Test2 score: 0.9406666666666667\n",
            "LinearSVC|Raw StandardScalerMTST|StandardScalerMFSF|\n",
            "\n",
            "best estimate parameters {'C': 0.5066117253209255, 'class_weight': '', 'fit_intercept': True, 'intercept_scaling': 0.7305962718754119, 'loss': 'squared_hinge', 'max_iter': 42, 'tol': 0.3885756229834005}\n"
          ],
          "name": "stdout"
        },
        {
          "output_type": "stream",
          "text": [
            "/usr/local/lib/python3.6/dist-packages/sklearn/svm/base.py:931: ConvergenceWarning: Liblinear failed to converge, increase the number of iterations.\n",
            "  \"the number of iterations.\", ConvergenceWarning)\n"
          ],
          "name": "stderr"
        },
        {
          "output_type": "stream",
          "text": [
            "Train score: 0.9402857142857143\n",
            "Test score: 0.9393333333333334\n",
            "Test2 score: 0.9406666666666667\n",
            "LinearSVC|Raw StandardScalerMTSF|StandardScalerMFST|\n",
            "\n",
            "best estimate parameters {'C': 0.2864106383842756, 'class_weight': 'balanced', 'fit_intercept': True, 'intercept_scaling': 0.6461299164987875, 'loss': 'squared_hinge', 'max_iter': 63, 'tol': 0.22916677593427306}\n"
          ],
          "name": "stdout"
        },
        {
          "output_type": "stream",
          "text": [
            "/usr/local/lib/python3.6/dist-packages/sklearn/svm/base.py:931: ConvergenceWarning: Liblinear failed to converge, increase the number of iterations.\n",
            "  \"the number of iterations.\", ConvergenceWarning)\n"
          ],
          "name": "stderr"
        },
        {
          "output_type": "stream",
          "text": [
            "LinearSVC|Raw StandardScalerMTSF|StandardScalerMFSF|\n",
            "\n",
            "best estimate parameters {'C': 0.7563728945084127, 'class_weight': '', 'fit_intercept': False, 'intercept_scaling': 0.741799977449059, 'loss': 'squared_hinge', 'max_iter': 14, 'tol': 0.7695889582568677}\n"
          ],
          "name": "stdout"
        },
        {
          "output_type": "stream",
          "text": [
            "/usr/local/lib/python3.6/dist-packages/sklearn/svm/base.py:931: ConvergenceWarning: Liblinear failed to converge, increase the number of iterations.\n",
            "  \"the number of iterations.\", ConvergenceWarning)\n"
          ],
          "name": "stderr"
        },
        {
          "output_type": "stream",
          "text": [
            "Train score: 0.9402857142857143\n",
            "Test score: 0.9393333333333334\n",
            "Test2 score: 0.9406666666666667\n",
            "LinearSVC|Raw StandardScalerMFST|StandardScalerMFSF|\n",
            "\n",
            "best estimate parameters {'C': 0.3028744132526602, 'class_weight': 'balanced', 'fit_intercept': False, 'intercept_scaling': 0.23997308934925254, 'loss': 'hinge', 'max_iter': 35, 'tol': 0.2578378707026926}\n",
            "Train score: 0.9402857142857143\n",
            "Test score: 0.9393333333333334\n",
            "Test2 score: 0.9406666666666667\n",
            "LinearSVC|Raw PowerTransformer_std|\n",
            "\n",
            "best estimate parameters {'C': 0.4964375721936275, 'class_weight': 'balanced', 'fit_intercept': False, 'intercept_scaling': 0.4989872464622271, 'loss': 'squared_hinge', 'max_iter': 63, 'tol': 0.8197212268306839}\n"
          ],
          "name": "stdout"
        },
        {
          "output_type": "stream",
          "text": [
            "/usr/local/lib/python3.6/dist-packages/sklearn/svm/base.py:931: ConvergenceWarning: Liblinear failed to converge, increase the number of iterations.\n",
            "  \"the number of iterations.\", ConvergenceWarning)\n"
          ],
          "name": "stderr"
        },
        {
          "output_type": "stream",
          "text": [
            "LinearSVC|Raw PowerTransformer|\n",
            "\n",
            "best estimate parameters {'C': 0.8793905956317829, 'class_weight': '', 'fit_intercept': False, 'intercept_scaling': 0.9552473817971157, 'loss': 'squared_hinge', 'max_iter': 78, 'tol': 0.7617354804587871}\n"
          ],
          "name": "stdout"
        },
        {
          "output_type": "stream",
          "text": [
            "/usr/local/lib/python3.6/dist-packages/sklearn/svm/base.py:931: ConvergenceWarning: Liblinear failed to converge, increase the number of iterations.\n",
            "  \"the number of iterations.\", ConvergenceWarning)\n"
          ],
          "name": "stderr"
        },
        {
          "output_type": "stream",
          "text": [
            "Train score: 0.9402857142857143\n",
            "Test score: 0.9393333333333334\n",
            "Test2 score: 0.9406666666666667\n",
            "LinearSVC|Raw PowerTransformer_std|PowerTransformer|\n",
            "\n",
            "best estimate parameters {'learning_rate': 1.1117634455598908, 'n_estimators': 93}\n",
            "Train score: 0.9411428571428572\n",
            "Test score: 0.938\n",
            "Test2 score: 0.9426666666666667\n",
            "AdaBoostClassifier|Raw StandardScalerMTST|\n",
            "\n",
            "best estimate parameters {'learning_rate': 1.0203365380288083, 'n_estimators': 156}\n",
            "Train score: 0.9437142857142857\n",
            "Test score: 0.9393333333333334\n",
            "Test2 score: 0.9453333333333334\n",
            "AdaBoostClassifier|Raw StandardScalerMTSF|\n",
            "\n",
            "best estimate parameters {'learning_rate': 1.1033772354777518, 'n_estimators': 112}\n",
            "Train score: 0.9417142857142857\n",
            "Test score: 0.94\n",
            "Test2 score: 0.944\n",
            "AdaBoostClassifier|Raw StandardScalerMFST|\n",
            "\n",
            "best estimate parameters {'learning_rate': 1.017099168316537, 'n_estimators': 147}\n",
            "Train score: 0.942\n",
            "Test score: 0.9406666666666667\n",
            "Test2 score: 0.9426666666666667\n",
            "AdaBoostClassifier|Raw StandardScalerMFSF|\n",
            "\n",
            "best estimate parameters {'learning_rate': 1.014992293488834, 'n_estimators': 139}\n",
            "Train score: 0.9425714285714286\n",
            "Test score: 0.9393333333333334\n",
            "Test2 score: 0.944\n",
            "AdaBoostClassifier|Raw StandardScalerMTST|StandardScalerMTSF|\n",
            "\n",
            "best estimate parameters {'learning_rate': 1.127402008420609, 'n_estimators': 110}\n",
            "Train score: 0.9422857142857143\n",
            "Test score: 0.9393333333333334\n",
            "Test2 score: 0.944\n",
            "AdaBoostClassifier|Raw StandardScalerMTST|StandardScalerMFST|\n",
            "\n",
            "best estimate parameters {'learning_rate': 1.3014685309445249, 'n_estimators': 102}\n",
            "Train score: 0.9431428571428572\n",
            "Test score: 0.9386666666666666\n",
            "Test2 score: 0.9446666666666667\n",
            "AdaBoostClassifier|Raw StandardScalerMTST|StandardScalerMFSF|\n",
            "\n",
            "best estimate parameters {'learning_rate': 1.1357647085294362, 'n_estimators': 68}\n",
            "Train score: 0.9417142857142857\n",
            "Test score: 0.9386666666666666\n",
            "Test2 score: 0.9433333333333334\n",
            "AdaBoostClassifier|Raw StandardScalerMTSF|StandardScalerMFST|\n",
            "\n",
            "best estimate parameters {'learning_rate': 1.0711059603886939, 'n_estimators': 137}\n",
            "Train score: 0.9431428571428572\n",
            "Test score: 0.94\n",
            "Test2 score: 0.946\n",
            "AdaBoostClassifier|Raw StandardScalerMTSF|StandardScalerMFSF|\n",
            "\n",
            "best estimate parameters {'learning_rate': 1.0906309658544697, 'n_estimators': 150}\n",
            "Train score: 0.9431428571428572\n",
            "Test score: 0.9406666666666667\n",
            "Test2 score: 0.9453333333333334\n",
            "AdaBoostClassifier|Raw StandardScalerMFST|StandardScalerMFSF|\n",
            "\n",
            "best estimate parameters {'learning_rate': 1.1453145980438404, 'n_estimators': 80}\n",
            "Train score: 0.9422857142857143\n",
            "Test score: 0.9386666666666666\n",
            "Test2 score: 0.944\n",
            "AdaBoostClassifier|Raw PowerTransformer_std|\n",
            "\n",
            "best estimate parameters {'learning_rate': 1.08775725469338, 'n_estimators': 260}\n",
            "Train score: 0.9451428571428572\n",
            "Test score: 0.9386666666666666\n",
            "Test2 score: 0.9466666666666667\n",
            "AdaBoostClassifier|Raw PowerTransformer|\n",
            "\n",
            "best estimate parameters {'learning_rate': 1.1135526506508535, 'n_estimators': 171}\n",
            "Train score: 0.9442857142857143\n",
            "Test score: 0.94\n",
            "Test2 score: 0.946\n",
            "AdaBoostClassifier|Raw PowerTransformer_std|PowerTransformer|\n",
            "\n"
          ],
          "name": "stdout"
        },
        {
          "output_type": "stream",
          "text": [
            "/usr/local/lib/python3.6/dist-packages/sklearn/ensemble/forest.py:246: FutureWarning: The default value of n_estimators will change from 10 in version 0.20 to 100 in 0.22.\n",
            "  \"10 in version 0.20 to 100 in 0.22.\", FutureWarning)\n"
          ],
          "name": "stderr"
        },
        {
          "output_type": "stream",
          "text": [
            "Train score: 0.9877142857142858\n",
            "Test score: 0.938\n",
            "Test2 score: 0.9726666666666667\n",
            "RandomForestClassifier|PCA StandardScalerMTST|\n",
            "\n"
          ],
          "name": "stdout"
        },
        {
          "output_type": "stream",
          "text": [
            "/usr/local/lib/python3.6/dist-packages/sklearn/ensemble/forest.py:246: FutureWarning: The default value of n_estimators will change from 10 in version 0.20 to 100 in 0.22.\n",
            "  \"10 in version 0.20 to 100 in 0.22.\", FutureWarning)\n"
          ],
          "name": "stderr"
        },
        {
          "output_type": "stream",
          "text": [
            "RandomForestClassifier|PCA StandardScalerMTSF|\n",
            "\n"
          ],
          "name": "stdout"
        },
        {
          "output_type": "stream",
          "text": [
            "/usr/local/lib/python3.6/dist-packages/sklearn/ensemble/forest.py:246: FutureWarning: The default value of n_estimators will change from 10 in version 0.20 to 100 in 0.22.\n",
            "  \"10 in version 0.20 to 100 in 0.22.\", FutureWarning)\n"
          ],
          "name": "stderr"
        },
        {
          "output_type": "stream",
          "text": [
            "Train score: 0.9877142857142858\n",
            "Test score: 0.938\n",
            "Test2 score: 0.9726666666666667\n",
            "RandomForestClassifier|PCA StandardScalerMFST|\n",
            "\n"
          ],
          "name": "stdout"
        },
        {
          "output_type": "stream",
          "text": [
            "/usr/local/lib/python3.6/dist-packages/sklearn/ensemble/forest.py:246: FutureWarning: The default value of n_estimators will change from 10 in version 0.20 to 100 in 0.22.\n",
            "  \"10 in version 0.20 to 100 in 0.22.\", FutureWarning)\n"
          ],
          "name": "stderr"
        },
        {
          "output_type": "stream",
          "text": [
            "RandomForestClassifier|PCA StandardScalerMFSF|\n",
            "\n"
          ],
          "name": "stdout"
        },
        {
          "output_type": "stream",
          "text": [
            "/usr/local/lib/python3.6/dist-packages/sklearn/ensemble/forest.py:246: FutureWarning: The default value of n_estimators will change from 10 in version 0.20 to 100 in 0.22.\n",
            "  \"10 in version 0.20 to 100 in 0.22.\", FutureWarning)\n"
          ],
          "name": "stderr"
        },
        {
          "output_type": "stream",
          "text": [
            "Train score: 0.9877142857142858\n",
            "Test score: 0.938\n",
            "Test2 score: 0.9726666666666667\n",
            "RandomForestClassifier|PCA StandardScalerMTST|StandardScalerMTSF|\n",
            "\n"
          ],
          "name": "stdout"
        },
        {
          "output_type": "stream",
          "text": [
            "/usr/local/lib/python3.6/dist-packages/sklearn/ensemble/forest.py:246: FutureWarning: The default value of n_estimators will change from 10 in version 0.20 to 100 in 0.22.\n",
            "  \"10 in version 0.20 to 100 in 0.22.\", FutureWarning)\n"
          ],
          "name": "stderr"
        },
        {
          "output_type": "stream",
          "text": [
            "Train score: 0.9877142857142858\n",
            "Test score: 0.938\n",
            "Test2 score: 0.9726666666666667\n",
            "RandomForestClassifier|PCA StandardScalerMTST|StandardScalerMFST|\n",
            "\n"
          ],
          "name": "stdout"
        },
        {
          "output_type": "stream",
          "text": [
            "/usr/local/lib/python3.6/dist-packages/sklearn/ensemble/forest.py:246: FutureWarning: The default value of n_estimators will change from 10 in version 0.20 to 100 in 0.22.\n",
            "  \"10 in version 0.20 to 100 in 0.22.\", FutureWarning)\n"
          ],
          "name": "stderr"
        },
        {
          "output_type": "stream",
          "text": [
            "Train score: 0.9877142857142858\n",
            "Test score: 0.938\n",
            "Test2 score: 0.9726666666666667\n",
            "RandomForestClassifier|PCA StandardScalerMTST|StandardScalerMFSF|\n",
            "\n"
          ],
          "name": "stdout"
        },
        {
          "output_type": "stream",
          "text": [
            "/usr/local/lib/python3.6/dist-packages/sklearn/ensemble/forest.py:246: FutureWarning: The default value of n_estimators will change from 10 in version 0.20 to 100 in 0.22.\n",
            "  \"10 in version 0.20 to 100 in 0.22.\", FutureWarning)\n"
          ],
          "name": "stderr"
        },
        {
          "output_type": "stream",
          "text": [
            "Train score: 0.9877142857142858\n",
            "Test score: 0.938\n",
            "Test2 score: 0.9726666666666667\n",
            "RandomForestClassifier|PCA StandardScalerMTSF|StandardScalerMFST|\n",
            "\n"
          ],
          "name": "stdout"
        },
        {
          "output_type": "stream",
          "text": [
            "/usr/local/lib/python3.6/dist-packages/sklearn/ensemble/forest.py:246: FutureWarning: The default value of n_estimators will change from 10 in version 0.20 to 100 in 0.22.\n",
            "  \"10 in version 0.20 to 100 in 0.22.\", FutureWarning)\n"
          ],
          "name": "stderr"
        },
        {
          "output_type": "stream",
          "text": [
            "RandomForestClassifier|PCA StandardScalerMTSF|StandardScalerMFSF|\n",
            "\n"
          ],
          "name": "stdout"
        },
        {
          "output_type": "stream",
          "text": [
            "/usr/local/lib/python3.6/dist-packages/sklearn/ensemble/forest.py:246: FutureWarning: The default value of n_estimators will change from 10 in version 0.20 to 100 in 0.22.\n",
            "  \"10 in version 0.20 to 100 in 0.22.\", FutureWarning)\n"
          ],
          "name": "stderr"
        },
        {
          "output_type": "stream",
          "text": [
            "Train score: 0.9877142857142858\n",
            "Test score: 0.938\n",
            "Test2 score: 0.9726666666666667\n",
            "RandomForestClassifier|PCA StandardScalerMFST|StandardScalerMFSF|\n",
            "\n"
          ],
          "name": "stdout"
        },
        {
          "output_type": "stream",
          "text": [
            "/usr/local/lib/python3.6/dist-packages/sklearn/ensemble/forest.py:246: FutureWarning: The default value of n_estimators will change from 10 in version 0.20 to 100 in 0.22.\n",
            "  \"10 in version 0.20 to 100 in 0.22.\", FutureWarning)\n"
          ],
          "name": "stderr"
        },
        {
          "output_type": "stream",
          "text": [
            "Train score: 0.9891428571428571\n",
            "Test score: 0.9386666666666666\n",
            "Test2 score: 0.9706666666666667\n",
            "RandomForestClassifier|PCA PowerTransformer_std|\n",
            "\n"
          ],
          "name": "stdout"
        },
        {
          "output_type": "stream",
          "text": [
            "/usr/local/lib/python3.6/dist-packages/sklearn/ensemble/forest.py:246: FutureWarning: The default value of n_estimators will change from 10 in version 0.20 to 100 in 0.22.\n",
            "  \"10 in version 0.20 to 100 in 0.22.\", FutureWarning)\n"
          ],
          "name": "stderr"
        },
        {
          "output_type": "stream",
          "text": [
            "RandomForestClassifier|PCA PowerTransformer|\n",
            "\n"
          ],
          "name": "stdout"
        },
        {
          "output_type": "stream",
          "text": [
            "/usr/local/lib/python3.6/dist-packages/sklearn/ensemble/forest.py:246: FutureWarning: The default value of n_estimators will change from 10 in version 0.20 to 100 in 0.22.\n",
            "  \"10 in version 0.20 to 100 in 0.22.\", FutureWarning)\n"
          ],
          "name": "stderr"
        },
        {
          "output_type": "stream",
          "text": [
            "Train score: 0.9888571428571429\n",
            "Test score: 0.936\n",
            "Test2 score: 0.97\n",
            "RandomForestClassifier|PCA PowerTransformer_std|PowerTransformer|\n",
            "\n",
            "Train score: 0.9451428571428572\n",
            "Test score: 0.9333333333333333\n",
            "Test2 score: 0.9446666666666667\n",
            "GradientBoostingClassifier|PCA StandardScalerMTST|\n",
            "\n",
            "GradientBoostingClassifier|PCA StandardScalerMTSF|\n",
            "\n",
            "Train score: 0.9451428571428572\n",
            "Test score: 0.9333333333333333\n",
            "Test2 score: 0.9446666666666667\n",
            "GradientBoostingClassifier|PCA StandardScalerMFST|\n",
            "\n",
            "GradientBoostingClassifier|PCA StandardScalerMFSF|\n",
            "\n",
            "Train score: 0.9451428571428572\n",
            "Test score: 0.9333333333333333\n",
            "Test2 score: 0.9446666666666667\n",
            "GradientBoostingClassifier|PCA StandardScalerMTST|StandardScalerMTSF|\n",
            "\n",
            "Train score: 0.9451428571428572\n",
            "Test score: 0.9333333333333333\n",
            "Test2 score: 0.9446666666666667\n",
            "GradientBoostingClassifier|PCA StandardScalerMTST|StandardScalerMFST|\n",
            "\n",
            "Train score: 0.9451428571428572\n",
            "Test score: 0.9333333333333333\n",
            "Test2 score: 0.9446666666666667\n",
            "GradientBoostingClassifier|PCA StandardScalerMTST|StandardScalerMFSF|\n",
            "\n",
            "Train score: 0.9451428571428572\n",
            "Test score: 0.9333333333333333\n",
            "Test2 score: 0.9446666666666667\n",
            "GradientBoostingClassifier|PCA StandardScalerMTSF|StandardScalerMFST|\n",
            "\n",
            "GradientBoostingClassifier|PCA StandardScalerMTSF|StandardScalerMFSF|\n",
            "\n",
            "Train score: 0.9451428571428572\n",
            "Test score: 0.9333333333333333\n",
            "Test2 score: 0.9446666666666667\n",
            "GradientBoostingClassifier|PCA StandardScalerMFST|StandardScalerMFSF|\n",
            "\n",
            "Train score: 0.9485714285714286\n",
            "Test score: 0.938\n",
            "Test2 score: 0.946\n",
            "GradientBoostingClassifier|PCA PowerTransformer_std|\n",
            "\n",
            "GradientBoostingClassifier|PCA PowerTransformer|\n",
            "\n",
            "Train score: 0.9471428571428572\n",
            "Test score: 0.9366666666666666\n",
            "Test2 score: 0.9446666666666667\n",
            "GradientBoostingClassifier|PCA PowerTransformer_std|PowerTransformer|\n",
            "\n",
            "best estimate parameters {'C': 0.9488262448527712, 'intercept_scaling': 0.5196079062672543, 'max_iter': 20, 'solver': 'newton-cg', 'tol': 0.2735593191601515}\n",
            "Train score: 0.9402857142857143\n",
            "Test score: 0.9393333333333334\n",
            "Test2 score: 0.9406666666666667\n",
            "LogisticRegression2|PCA StandardScalerMTST|\n",
            "\n",
            "best estimate parameters {'C': 0.7209265238111289, 'intercept_scaling': 0.15895648826864917, 'max_iter': 94, 'solver': 'sag', 'tol': 0.3866824965455573}\n",
            "LogisticRegression2|PCA StandardScalerMTSF|\n",
            "\n",
            "best estimate parameters {'C': 0.2212608484803512, 'intercept_scaling': 0.1282731568916703, 'max_iter': 93, 'solver': 'liblinear', 'tol': 0.7610168876670756}\n"
          ],
          "name": "stdout"
        },
        {
          "output_type": "stream",
          "text": [
            "/usr/local/lib/python3.6/dist-packages/sklearn/linear_model/logistic.py:1300: UserWarning: 'n_jobs' > 1 does not have any effect when 'solver' is set to 'liblinear'. Got 'n_jobs' = 2.\n",
            "  \" = {}.\".format(effective_n_jobs(self.n_jobs)))\n"
          ],
          "name": "stderr"
        },
        {
          "output_type": "stream",
          "text": [
            "Train score: 0.9402857142857143\n",
            "Test score: 0.9393333333333334\n",
            "Test2 score: 0.9406666666666667\n",
            "LogisticRegression2|PCA StandardScalerMFST|\n",
            "\n",
            "best estimate parameters {'C': 0.5637672249085042, 'intercept_scaling': 0.30127954157919323, 'max_iter': 40, 'solver': 'sag', 'tol': 0.9812295808902871}\n",
            "LogisticRegression2|PCA StandardScalerMFSF|\n",
            "\n",
            "best estimate parameters {'C': 0.027183764482399675, 'intercept_scaling': 0.45487035788185537, 'max_iter': 47, 'solver': 'lbfgs', 'tol': 0.30592875713673606}\n",
            "best estimate parameters {'C': 0.4172000529191817, 'intercept_scaling': 0.8789906644244947, 'max_iter': 57, 'solver': 'liblinear', 'tol': 0.3898885498869563}\n"
          ],
          "name": "stdout"
        },
        {
          "output_type": "stream",
          "text": [
            "/usr/local/lib/python3.6/dist-packages/sklearn/linear_model/logistic.py:1300: UserWarning: 'n_jobs' > 1 does not have any effect when 'solver' is set to 'liblinear'. Got 'n_jobs' = 2.\n",
            "  \" = {}.\".format(effective_n_jobs(self.n_jobs)))\n"
          ],
          "name": "stderr"
        },
        {
          "output_type": "stream",
          "text": [
            "Train score: 0.9402857142857143\n",
            "Test score: 0.9393333333333334\n",
            "Test2 score: 0.9406666666666667\n",
            "LogisticRegression2|PCA StandardScalerMTST|StandardScalerMFST|\n",
            "\n",
            "best estimate parameters {'C': 0.22086361959534817, 'intercept_scaling': 0.17178424986881857, 'max_iter': 78, 'solver': 'liblinear', 'tol': 0.7862887084150181}\n"
          ],
          "name": "stdout"
        },
        {
          "output_type": "stream",
          "text": [
            "/usr/local/lib/python3.6/dist-packages/sklearn/linear_model/logistic.py:1300: UserWarning: 'n_jobs' > 1 does not have any effect when 'solver' is set to 'liblinear'. Got 'n_jobs' = 2.\n",
            "  \" = {}.\".format(effective_n_jobs(self.n_jobs)))\n"
          ],
          "name": "stderr"
        },
        {
          "output_type": "stream",
          "text": [
            "Train score: 0.9402857142857143\n",
            "Test score: 0.9393333333333334\n",
            "Test2 score: 0.9406666666666667\n",
            "LogisticRegression2|PCA StandardScalerMTST|StandardScalerMFSF|\n",
            "\n",
            "best estimate parameters {'C': 0.6088260608745384, 'intercept_scaling': 0.01661988487978361, 'max_iter': 16, 'solver': 'saga', 'tol': 0.43288645650610513}\n",
            "Train score: 0.9402857142857143\n",
            "Test score: 0.9393333333333334\n",
            "Test2 score: 0.9406666666666667\n",
            "LogisticRegression2|PCA StandardScalerMTSF|StandardScalerMFST|\n",
            "\n",
            "best estimate parameters {'C': 0.5073385210217951, 'intercept_scaling': 0.8157272366874656, 'max_iter': 24, 'solver': 'sag', 'tol': 0.6318552698424497}\n",
            "LogisticRegression2|PCA StandardScalerMTSF|StandardScalerMFSF|\n",
            "\n",
            "best estimate parameters {'C': 0.1317281930916152, 'intercept_scaling': 0.22094646660316142, 'max_iter': 71, 'solver': 'liblinear', 'tol': 0.9948219861356304}\n"
          ],
          "name": "stdout"
        },
        {
          "output_type": "stream",
          "text": [
            "/usr/local/lib/python3.6/dist-packages/sklearn/linear_model/logistic.py:1300: UserWarning: 'n_jobs' > 1 does not have any effect when 'solver' is set to 'liblinear'. Got 'n_jobs' = 2.\n",
            "  \" = {}.\".format(effective_n_jobs(self.n_jobs)))\n"
          ],
          "name": "stderr"
        },
        {
          "output_type": "stream",
          "text": [
            "Train score: 0.9402857142857143\n",
            "Test score: 0.9393333333333334\n",
            "Test2 score: 0.9406666666666667\n",
            "LogisticRegression2|PCA StandardScalerMFST|StandardScalerMFSF|\n",
            "\n",
            "best estimate parameters {'C': 0.3624763903252116, 'intercept_scaling': 0.8019587910678425, 'max_iter': 3, 'solver': 'liblinear', 'tol': 0.7911245640851063}\n"
          ],
          "name": "stdout"
        },
        {
          "output_type": "stream",
          "text": [
            "/usr/local/lib/python3.6/dist-packages/sklearn/linear_model/logistic.py:1300: UserWarning: 'n_jobs' > 1 does not have any effect when 'solver' is set to 'liblinear'. Got 'n_jobs' = 2.\n",
            "  \" = {}.\".format(effective_n_jobs(self.n_jobs)))\n"
          ],
          "name": "stderr"
        },
        {
          "output_type": "stream",
          "text": [
            "Train score: 0.9402857142857143\n",
            "Test score: 0.9393333333333334\n",
            "Test2 score: 0.9406666666666667\n",
            "LogisticRegression2|PCA PowerTransformer_std|\n",
            "\n",
            "best estimate parameters {'C': 0.7731315106329416, 'intercept_scaling': 0.45059698136866544, 'max_iter': 0, 'solver': 'sag', 'tol': 0.09148137328969497}\n",
            "LogisticRegression2|PCA PowerTransformer|\n",
            "\n",
            "best estimate parameters {'C': 0.37509201667989367, 'intercept_scaling': 0.9397273058947988, 'max_iter': 35, 'solver': 'lbfgs', 'tol': 0.3353249499646742}\n",
            "best estimate parameters {'C': 0.019263268298975844, 'class_weight': '', 'fit_intercept': False, 'intercept_scaling': 0.4234100095316642, 'loss': 'hinge', 'max_iter': 3, 'tol': 0.7176435866424079}\n"
          ],
          "name": "stdout"
        },
        {
          "output_type": "stream",
          "text": [
            "/usr/local/lib/python3.6/dist-packages/sklearn/svm/base.py:931: ConvergenceWarning: Liblinear failed to converge, increase the number of iterations.\n",
            "  \"the number of iterations.\", ConvergenceWarning)\n"
          ],
          "name": "stderr"
        },
        {
          "output_type": "stream",
          "text": [
            "Train score: 0.9402857142857143\n",
            "Test score: 0.9393333333333334\n",
            "Test2 score: 0.9406666666666667\n",
            "LinearSVC|PCA StandardScalerMTST|\n",
            "\n",
            "best estimate parameters {'C': 0.8068173162746219, 'class_weight': '', 'fit_intercept': True, 'intercept_scaling': 0.32289080508978696, 'loss': 'squared_hinge', 'max_iter': 75, 'tol': 0.7516894149672614}\n"
          ],
          "name": "stdout"
        },
        {
          "output_type": "stream",
          "text": [
            "/usr/local/lib/python3.6/dist-packages/sklearn/svm/base.py:931: ConvergenceWarning: Liblinear failed to converge, increase the number of iterations.\n",
            "  \"the number of iterations.\", ConvergenceWarning)\n"
          ],
          "name": "stderr"
        },
        {
          "output_type": "stream",
          "text": [
            "LinearSVC|PCA StandardScalerMTSF|\n",
            "\n",
            "best estimate parameters {'C': 0.31550140902949675, 'class_weight': '', 'fit_intercept': False, 'intercept_scaling': 0.40844511619303614, 'loss': 'hinge', 'max_iter': 91, 'tol': 0.8707815203797898}\n",
            "Train score: 0.9402857142857143\n",
            "Test score: 0.9393333333333334\n",
            "Test2 score: 0.9406666666666667\n",
            "LinearSVC|PCA StandardScalerMFST|\n",
            "\n",
            "best estimate parameters {'C': 0.18459186118132584, 'class_weight': 'balanced', 'fit_intercept': True, 'intercept_scaling': 0.6041439181113761, 'loss': 'hinge', 'max_iter': 66, 'tol': 0.22348641385508414}\n"
          ],
          "name": "stdout"
        },
        {
          "output_type": "stream",
          "text": [
            "/usr/local/lib/python3.6/dist-packages/sklearn/svm/base.py:931: ConvergenceWarning: Liblinear failed to converge, increase the number of iterations.\n",
            "  \"the number of iterations.\", ConvergenceWarning)\n"
          ],
          "name": "stderr"
        },
        {
          "output_type": "stream",
          "text": [
            "LinearSVC|PCA StandardScalerMFSF|\n",
            "\n",
            "best estimate parameters {'C': 0.47136954463463054, 'class_weight': '', 'fit_intercept': True, 'intercept_scaling': 0.7471124585494772, 'loss': 'squared_hinge', 'max_iter': 72, 'tol': 0.3651217441994755}\n"
          ],
          "name": "stdout"
        },
        {
          "output_type": "stream",
          "text": [
            "/usr/local/lib/python3.6/dist-packages/sklearn/svm/base.py:931: ConvergenceWarning: Liblinear failed to converge, increase the number of iterations.\n",
            "  \"the number of iterations.\", ConvergenceWarning)\n"
          ],
          "name": "stderr"
        },
        {
          "output_type": "stream",
          "text": [
            "Train score: 0.9402857142857143\n",
            "Test score: 0.9393333333333334\n",
            "Test2 score: 0.9406666666666667\n",
            "LinearSVC|PCA StandardScalerMTST|StandardScalerMTSF|\n",
            "\n",
            "best estimate parameters {'C': 0.31025903332512106, 'class_weight': '', 'fit_intercept': False, 'intercept_scaling': 0.9409288206561828, 'loss': 'hinge', 'max_iter': 27, 'tol': 0.8605842642336478}\n",
            "Train score: 0.9402857142857143\n",
            "Test score: 0.9393333333333334\n",
            "Test2 score: 0.9406666666666667\n",
            "LinearSVC|PCA StandardScalerMTST|StandardScalerMFST|\n",
            "\n",
            "best estimate parameters {'C': 0.5159906305068868, 'class_weight': 'balanced', 'fit_intercept': False, 'intercept_scaling': 0.709106189829424, 'loss': 'hinge', 'max_iter': 94, 'tol': 0.6358885746972988}\n",
            "Train score: 0.9402857142857143\n",
            "Test score: 0.9393333333333334\n",
            "Test2 score: 0.9406666666666667\n",
            "LinearSVC|PCA StandardScalerMTST|StandardScalerMFSF|\n",
            "\n",
            "best estimate parameters {'C': 0.8324990281309903, 'class_weight': 'balanced', 'fit_intercept': True, 'intercept_scaling': 0.8622019231044182, 'loss': 'squared_hinge', 'max_iter': 0, 'tol': 0.6835776341342534}\n"
          ],
          "name": "stdout"
        },
        {
          "output_type": "stream",
          "text": [
            "/usr/local/lib/python3.6/dist-packages/sklearn/svm/base.py:931: ConvergenceWarning: Liblinear failed to converge, increase the number of iterations.\n",
            "  \"the number of iterations.\", ConvergenceWarning)\n"
          ],
          "name": "stderr"
        },
        {
          "output_type": "stream",
          "text": [
            "LinearSVC|PCA StandardScalerMTSF|StandardScalerMFST|\n",
            "\n",
            "best estimate parameters {'C': 0.29026298545430973, 'class_weight': 'balanced', 'fit_intercept': False, 'intercept_scaling': 0.552602690704029, 'loss': 'squared_hinge', 'max_iter': 66, 'tol': 0.5463275663536376}\n"
          ],
          "name": "stdout"
        },
        {
          "output_type": "stream",
          "text": [
            "/usr/local/lib/python3.6/dist-packages/sklearn/svm/base.py:931: ConvergenceWarning: Liblinear failed to converge, increase the number of iterations.\n",
            "  \"the number of iterations.\", ConvergenceWarning)\n"
          ],
          "name": "stderr"
        },
        {
          "output_type": "stream",
          "text": [
            "LinearSVC|PCA StandardScalerMTSF|StandardScalerMFSF|\n",
            "\n",
            "best estimate parameters {'C': 0.8498652262734145, 'class_weight': '', 'fit_intercept': False, 'intercept_scaling': 0.9069888422967535, 'loss': 'hinge', 'max_iter': 74, 'tol': 0.24876890192423484}\n",
            "Train score: 0.9402857142857143\n",
            "Test score: 0.9393333333333334\n",
            "Test2 score: 0.9406666666666667\n",
            "LinearSVC|PCA StandardScalerMFST|StandardScalerMFSF|\n",
            "\n",
            "best estimate parameters {'C': 0.426249925054377, 'class_weight': '', 'fit_intercept': True, 'intercept_scaling': 0.6270741555569133, 'loss': 'hinge', 'max_iter': 60, 'tol': 0.9159716001187285}\n",
            "Train score: 0.9402857142857143\n",
            "Test score: 0.9393333333333334\n",
            "Test2 score: 0.9406666666666667\n",
            "LinearSVC|PCA PowerTransformer_std|\n",
            "\n",
            "best estimate parameters {'C': 0.5118555498162044, 'class_weight': 'balanced', 'fit_intercept': False, 'intercept_scaling': 0.5279006818854214, 'loss': 'squared_hinge', 'max_iter': 77, 'tol': 0.5290679198096014}\n"
          ],
          "name": "stdout"
        },
        {
          "output_type": "stream",
          "text": [
            "/usr/local/lib/python3.6/dist-packages/sklearn/svm/base.py:931: ConvergenceWarning: Liblinear failed to converge, increase the number of iterations.\n",
            "  \"the number of iterations.\", ConvergenceWarning)\n"
          ],
          "name": "stderr"
        },
        {
          "output_type": "stream",
          "text": [
            "LinearSVC|PCA PowerTransformer|\n",
            "\n",
            "best estimate parameters {'C': 0.9247557722574233, 'class_weight': '', 'fit_intercept': True, 'intercept_scaling': 0.23615760140071662, 'loss': 'squared_hinge', 'max_iter': 13, 'tol': 0.9520438407753242}\n"
          ],
          "name": "stdout"
        },
        {
          "output_type": "stream",
          "text": [
            "/usr/local/lib/python3.6/dist-packages/sklearn/svm/base.py:931: ConvergenceWarning: Liblinear failed to converge, increase the number of iterations.\n",
            "  \"the number of iterations.\", ConvergenceWarning)\n"
          ],
          "name": "stderr"
        },
        {
          "output_type": "stream",
          "text": [
            "Train score: 0.9391428571428572\n",
            "Test score: 0.9373333333333334\n",
            "Test2 score: 0.9393333333333334\n",
            "LinearSVC|PCA PowerTransformer_std|PowerTransformer|\n",
            "\n",
            "best estimate parameters {'learning_rate': 1.067735294469347, 'n_estimators': 37}\n",
            "Train score: 0.9391428571428572\n",
            "Test score: 0.936\n",
            "Test2 score: 0.9406666666666667\n",
            "AdaBoostClassifier|PCA StandardScalerMTST|\n",
            "\n",
            "best estimate parameters {'learning_rate': 1.979776581510542, 'n_estimators': 72}\n",
            "AdaBoostClassifier|PCA StandardScalerMTSF|\n",
            "\n",
            "best estimate parameters {'learning_rate': 1.067482096830645, 'n_estimators': 40}\n",
            "Train score: 0.9397142857142857\n",
            "Test score: 0.938\n",
            "Test2 score: 0.9406666666666667\n",
            "AdaBoostClassifier|PCA StandardScalerMFST|\n",
            "\n",
            "best estimate parameters {'learning_rate': 2.036254259260837, 'n_estimators': 258}\n",
            "AdaBoostClassifier|PCA StandardScalerMFSF|\n",
            "\n",
            "best estimate parameters {'learning_rate': 1.1748465310226472, 'n_estimators': 2}\n",
            "Train score: 0.9348571428571428\n",
            "Test score: 0.934\n",
            "Test2 score: 0.9366666666666666\n",
            "AdaBoostClassifier|PCA StandardScalerMTST|StandardScalerMTSF|\n",
            "\n",
            "best estimate parameters {'learning_rate': 1.0018013422683851, 'n_estimators': 27}\n",
            "Train score: 0.9391428571428572\n",
            "Test score: 0.938\n",
            "Test2 score: 0.9406666666666667\n",
            "AdaBoostClassifier|PCA StandardScalerMTST|StandardScalerMFST|\n",
            "\n",
            "best estimate parameters {'learning_rate': 1.0008789049394657, 'n_estimators': 2}\n",
            "Train score: 0.9348571428571428\n",
            "Test score: 0.934\n",
            "Test2 score: 0.9366666666666666\n",
            "AdaBoostClassifier|PCA StandardScalerMTST|StandardScalerMFSF|\n",
            "\n",
            "best estimate parameters {'learning_rate': 1.0010925728486586, 'n_estimators': 38}\n",
            "Train score: 0.9394285714285714\n",
            "Test score: 0.9386666666666666\n",
            "Test2 score: 0.9393333333333334\n",
            "AdaBoostClassifier|PCA StandardScalerMTSF|StandardScalerMFST|\n",
            "\n",
            "best estimate parameters {'learning_rate': 1.6346193721325282, 'n_estimators': 265}\n",
            "AdaBoostClassifier|PCA StandardScalerMTSF|StandardScalerMFSF|\n",
            "\n",
            "best estimate parameters {'learning_rate': 1.0432566134275156, 'n_estimators': 16}\n",
            "Train score: 0.9385714285714286\n",
            "Test score: 0.9346666666666666\n",
            "Test2 score: 0.94\n",
            "AdaBoostClassifier|PCA StandardScalerMFST|StandardScalerMFSF|\n",
            "\n",
            "best estimate parameters {'learning_rate': 1.061018026817506, 'n_estimators': 22}\n",
            "Train score: 0.9391428571428572\n",
            "Test score: 0.9346666666666666\n",
            "Test2 score: 0.938\n",
            "AdaBoostClassifier|PCA PowerTransformer_std|\n",
            "\n",
            "best estimate parameters {'learning_rate': 2.230444977097819, 'n_estimators': 56}\n",
            "AdaBoostClassifier|PCA PowerTransformer|\n",
            "\n",
            "best estimate parameters {'learning_rate': 1.0068698830985925, 'n_estimators': 33}\n",
            "Train score: 0.9388571428571428\n",
            "Test score: 0.9326666666666666\n",
            "Test2 score: 0.9366666666666666\n",
            "AdaBoostClassifier|PCA PowerTransformer_std|PowerTransformer|\n",
            "\n"
          ],
          "name": "stdout"
        },
        {
          "output_type": "stream",
          "text": [
            "/usr/local/lib/python3.6/dist-packages/sklearn/ensemble/forest.py:246: FutureWarning: The default value of n_estimators will change from 10 in version 0.20 to 100 in 0.22.\n",
            "  \"10 in version 0.20 to 100 in 0.22.\", FutureWarning)\n"
          ],
          "name": "stderr"
        },
        {
          "output_type": "stream",
          "text": [
            "Train score: 0.99\n",
            "Test score: 0.94\n",
            "Test2 score: 0.9746666666666667\n",
            "RandomForestClassifier|Raw StandardScalerMTST|\n",
            "\n"
          ],
          "name": "stdout"
        },
        {
          "output_type": "stream",
          "text": [
            "/usr/local/lib/python3.6/dist-packages/sklearn/ensemble/forest.py:246: FutureWarning: The default value of n_estimators will change from 10 in version 0.20 to 100 in 0.22.\n",
            "  \"10 in version 0.20 to 100 in 0.22.\", FutureWarning)\n"
          ],
          "name": "stderr"
        },
        {
          "output_type": "stream",
          "text": [
            "Train score: 0.99\n",
            "Test score: 0.94\n",
            "Test2 score: 0.9746666666666667\n",
            "RandomForestClassifier|Raw StandardScalerMTSF|\n",
            "\n"
          ],
          "name": "stdout"
        },
        {
          "output_type": "stream",
          "text": [
            "/usr/local/lib/python3.6/dist-packages/sklearn/ensemble/forest.py:246: FutureWarning: The default value of n_estimators will change from 10 in version 0.20 to 100 in 0.22.\n",
            "  \"10 in version 0.20 to 100 in 0.22.\", FutureWarning)\n"
          ],
          "name": "stderr"
        },
        {
          "output_type": "stream",
          "text": [
            "Train score: 0.99\n",
            "Test score: 0.94\n",
            "Test2 score: 0.9746666666666667\n",
            "RandomForestClassifier|Raw StandardScalerMFST|\n",
            "\n"
          ],
          "name": "stdout"
        },
        {
          "output_type": "stream",
          "text": [
            "/usr/local/lib/python3.6/dist-packages/sklearn/ensemble/forest.py:246: FutureWarning: The default value of n_estimators will change from 10 in version 0.20 to 100 in 0.22.\n",
            "  \"10 in version 0.20 to 100 in 0.22.\", FutureWarning)\n"
          ],
          "name": "stderr"
        },
        {
          "output_type": "stream",
          "text": [
            "Train score: 0.99\n",
            "Test score: 0.94\n",
            "Test2 score: 0.9746666666666667\n",
            "RandomForestClassifier|Raw StandardScalerMFSF|\n",
            "\n"
          ],
          "name": "stdout"
        },
        {
          "output_type": "stream",
          "text": [
            "/usr/local/lib/python3.6/dist-packages/sklearn/ensemble/forest.py:246: FutureWarning: The default value of n_estimators will change from 10 in version 0.20 to 100 in 0.22.\n",
            "  \"10 in version 0.20 to 100 in 0.22.\", FutureWarning)\n"
          ],
          "name": "stderr"
        },
        {
          "output_type": "stream",
          "text": [
            "Train score: 0.99\n",
            "Test score: 0.94\n",
            "Test2 score: 0.9746666666666667\n",
            "RandomForestClassifier|Raw StandardScalerMTST|StandardScalerMTSF|\n",
            "\n"
          ],
          "name": "stdout"
        },
        {
          "output_type": "stream",
          "text": [
            "/usr/local/lib/python3.6/dist-packages/sklearn/ensemble/forest.py:246: FutureWarning: The default value of n_estimators will change from 10 in version 0.20 to 100 in 0.22.\n",
            "  \"10 in version 0.20 to 100 in 0.22.\", FutureWarning)\n"
          ],
          "name": "stderr"
        },
        {
          "output_type": "stream",
          "text": [
            "Train score: 0.99\n",
            "Test score: 0.94\n",
            "Test2 score: 0.9746666666666667\n",
            "RandomForestClassifier|Raw StandardScalerMTST|StandardScalerMFST|\n",
            "\n"
          ],
          "name": "stdout"
        },
        {
          "output_type": "stream",
          "text": [
            "/usr/local/lib/python3.6/dist-packages/sklearn/ensemble/forest.py:246: FutureWarning: The default value of n_estimators will change from 10 in version 0.20 to 100 in 0.22.\n",
            "  \"10 in version 0.20 to 100 in 0.22.\", FutureWarning)\n"
          ],
          "name": "stderr"
        },
        {
          "output_type": "stream",
          "text": [
            "Train score: 0.99\n",
            "Test score: 0.94\n",
            "Test2 score: 0.9746666666666667\n",
            "RandomForestClassifier|Raw StandardScalerMTST|StandardScalerMFSF|\n",
            "\n"
          ],
          "name": "stdout"
        },
        {
          "output_type": "stream",
          "text": [
            "/usr/local/lib/python3.6/dist-packages/sklearn/ensemble/forest.py:246: FutureWarning: The default value of n_estimators will change from 10 in version 0.20 to 100 in 0.22.\n",
            "  \"10 in version 0.20 to 100 in 0.22.\", FutureWarning)\n"
          ],
          "name": "stderr"
        },
        {
          "output_type": "stream",
          "text": [
            "Train score: 0.99\n",
            "Test score: 0.94\n",
            "Test2 score: 0.9746666666666667\n",
            "RandomForestClassifier|Raw StandardScalerMTSF|StandardScalerMFST|\n",
            "\n"
          ],
          "name": "stdout"
        },
        {
          "output_type": "stream",
          "text": [
            "/usr/local/lib/python3.6/dist-packages/sklearn/ensemble/forest.py:246: FutureWarning: The default value of n_estimators will change from 10 in version 0.20 to 100 in 0.22.\n",
            "  \"10 in version 0.20 to 100 in 0.22.\", FutureWarning)\n"
          ],
          "name": "stderr"
        },
        {
          "output_type": "stream",
          "text": [
            "Train score: 0.99\n",
            "Test score: 0.94\n",
            "Test2 score: 0.9746666666666667\n",
            "RandomForestClassifier|Raw StandardScalerMTSF|StandardScalerMFSF|\n",
            "\n"
          ],
          "name": "stdout"
        },
        {
          "output_type": "stream",
          "text": [
            "/usr/local/lib/python3.6/dist-packages/sklearn/ensemble/forest.py:246: FutureWarning: The default value of n_estimators will change from 10 in version 0.20 to 100 in 0.22.\n",
            "  \"10 in version 0.20 to 100 in 0.22.\", FutureWarning)\n"
          ],
          "name": "stderr"
        },
        {
          "output_type": "stream",
          "text": [
            "Train score: 0.99\n",
            "Test score: 0.94\n",
            "Test2 score: 0.9746666666666667\n",
            "RandomForestClassifier|Raw StandardScalerMFST|StandardScalerMFSF|\n",
            "\n"
          ],
          "name": "stdout"
        },
        {
          "output_type": "stream",
          "text": [
            "/usr/local/lib/python3.6/dist-packages/sklearn/ensemble/forest.py:246: FutureWarning: The default value of n_estimators will change from 10 in version 0.20 to 100 in 0.22.\n",
            "  \"10 in version 0.20 to 100 in 0.22.\", FutureWarning)\n"
          ],
          "name": "stderr"
        },
        {
          "output_type": "stream",
          "text": [
            "Train score: 0.9905714285714285\n",
            "Test score: 0.9393333333333334\n",
            "Test2 score: 0.9746666666666667\n",
            "RandomForestClassifier|Raw QuantileTransformer_u|\n",
            "\n"
          ],
          "name": "stdout"
        },
        {
          "output_type": "stream",
          "text": [
            "/usr/local/lib/python3.6/dist-packages/sklearn/ensemble/forest.py:246: FutureWarning: The default value of n_estimators will change from 10 in version 0.20 to 100 in 0.22.\n",
            "  \"10 in version 0.20 to 100 in 0.22.\", FutureWarning)\n"
          ],
          "name": "stderr"
        },
        {
          "output_type": "stream",
          "text": [
            "Train score: 0.99\n",
            "Test score: 0.9393333333333334\n",
            "Test2 score: 0.974\n",
            "RandomForestClassifier|Raw QuantileTransformer_n|\n",
            "\n"
          ],
          "name": "stdout"
        },
        {
          "output_type": "stream",
          "text": [
            "/usr/local/lib/python3.6/dist-packages/sklearn/ensemble/forest.py:246: FutureWarning: The default value of n_estimators will change from 10 in version 0.20 to 100 in 0.22.\n",
            "  \"10 in version 0.20 to 100 in 0.22.\", FutureWarning)\n"
          ],
          "name": "stderr"
        },
        {
          "output_type": "stream",
          "text": [
            "Train score: 0.9882857142857143\n",
            "Test score: 0.94\n",
            "Test2 score: 0.972\n",
            "RandomForestClassifier|Raw QuantileTransformer_u|QuantileTransformer_n|\n",
            "\n",
            "Train score: 0.9462857142857143\n",
            "Test score: 0.9366666666666666\n",
            "Test2 score: 0.9446666666666667\n",
            "GradientBoostingClassifier|Raw StandardScalerMTST|\n",
            "\n",
            "Train score: 0.9462857142857143\n",
            "Test score: 0.9366666666666666\n",
            "Test2 score: 0.9446666666666667\n",
            "GradientBoostingClassifier|Raw StandardScalerMTSF|\n",
            "\n",
            "Train score: 0.9462857142857143\n",
            "Test score: 0.9366666666666666\n",
            "Test2 score: 0.9446666666666667\n",
            "GradientBoostingClassifier|Raw StandardScalerMFST|\n",
            "\n",
            "Train score: 0.9462857142857143\n",
            "Test score: 0.9366666666666666\n",
            "Test2 score: 0.9446666666666667\n",
            "GradientBoostingClassifier|Raw StandardScalerMFSF|\n",
            "\n",
            "Train score: 0.9462857142857143\n",
            "Test score: 0.9366666666666666\n",
            "Test2 score: 0.9446666666666667\n",
            "GradientBoostingClassifier|Raw StandardScalerMTST|StandardScalerMTSF|\n",
            "\n",
            "Train score: 0.9462857142857143\n",
            "Test score: 0.9366666666666666\n",
            "Test2 score: 0.9446666666666667\n",
            "GradientBoostingClassifier|Raw StandardScalerMTST|StandardScalerMFST|\n",
            "\n",
            "Train score: 0.9462857142857143\n",
            "Test score: 0.9366666666666666\n",
            "Test2 score: 0.9446666666666667\n",
            "GradientBoostingClassifier|Raw StandardScalerMTST|StandardScalerMFSF|\n",
            "\n",
            "Train score: 0.9462857142857143\n",
            "Test score: 0.9366666666666666\n",
            "Test2 score: 0.9446666666666667\n",
            "GradientBoostingClassifier|Raw StandardScalerMTSF|StandardScalerMFST|\n",
            "\n",
            "Train score: 0.9462857142857143\n",
            "Test score: 0.9366666666666666\n",
            "Test2 score: 0.9446666666666667\n",
            "GradientBoostingClassifier|Raw StandardScalerMTSF|StandardScalerMFSF|\n",
            "\n",
            "Train score: 0.9462857142857143\n",
            "Test score: 0.9366666666666666\n",
            "Test2 score: 0.9446666666666667\n",
            "GradientBoostingClassifier|Raw StandardScalerMFST|StandardScalerMFSF|\n",
            "\n",
            "Train score: 0.9462857142857143\n",
            "Test score: 0.9366666666666666\n",
            "Test2 score: 0.9446666666666667\n",
            "GradientBoostingClassifier|Raw QuantileTransformer_u|\n",
            "\n",
            "Train score: 0.9462857142857143\n",
            "Test score: 0.9366666666666666\n",
            "Test2 score: 0.9446666666666667\n",
            "GradientBoostingClassifier|Raw QuantileTransformer_n|\n",
            "\n",
            "Train score: 0.9454285714285714\n",
            "Test score: 0.9386666666666666\n",
            "Test2 score: 0.9453333333333334\n",
            "GradientBoostingClassifier|Raw QuantileTransformer_u|QuantileTransformer_n|\n",
            "\n",
            "best estimate parameters {'C': 0.7466837130477593, 'class_weight': '', 'fit_intercept': True, 'intercept_scaling': 0.07491896475770177, 'loss': 'squared_hinge', 'max_iter': 51, 'tol': 0.3828905585440593}\n"
          ],
          "name": "stdout"
        },
        {
          "output_type": "stream",
          "text": [
            "/usr/local/lib/python3.6/dist-packages/sklearn/svm/base.py:931: ConvergenceWarning: Liblinear failed to converge, increase the number of iterations.\n",
            "  \"the number of iterations.\", ConvergenceWarning)\n"
          ],
          "name": "stderr"
        },
        {
          "output_type": "stream",
          "text": [
            "Train score: 0.9402857142857143\n",
            "Test score: 0.9393333333333334\n",
            "Test2 score: 0.9406666666666667\n",
            "LinearSVC|Raw StandardScalerMTST|\n",
            "\n",
            "best estimate parameters {'C': 0.9627094180058345, 'class_weight': '', 'fit_intercept': True, 'intercept_scaling': 0.11810474009260075, 'loss': 'hinge', 'max_iter': 63, 'tol': 0.4593706642337393}\n"
          ],
          "name": "stdout"
        },
        {
          "output_type": "stream",
          "text": [
            "/usr/local/lib/python3.6/dist-packages/sklearn/svm/base.py:931: ConvergenceWarning: Liblinear failed to converge, increase the number of iterations.\n",
            "  \"the number of iterations.\", ConvergenceWarning)\n"
          ],
          "name": "stderr"
        },
        {
          "output_type": "stream",
          "text": [
            "LinearSVC|Raw StandardScalerMTSF|\n",
            "\n",
            "best estimate parameters {'C': 0.16254557545237547, 'class_weight': 'balanced', 'fit_intercept': True, 'intercept_scaling': 0.1326022686837326, 'loss': 'squared_hinge', 'max_iter': 74, 'tol': 0.8419808493351397}\n"
          ],
          "name": "stdout"
        },
        {
          "output_type": "stream",
          "text": [
            "/usr/local/lib/python3.6/dist-packages/sklearn/svm/base.py:931: ConvergenceWarning: Liblinear failed to converge, increase the number of iterations.\n",
            "  \"the number of iterations.\", ConvergenceWarning)\n"
          ],
          "name": "stderr"
        },
        {
          "output_type": "stream",
          "text": [
            "Train score: 0.94\n",
            "Test score: 0.9386666666666666\n",
            "Test2 score: 0.9406666666666667\n",
            "LinearSVC|Raw StandardScalerMFST|\n",
            "\n",
            "best estimate parameters {'C': 0.23454291816858341, 'class_weight': 'balanced', 'fit_intercept': True, 'intercept_scaling': 0.30175833418023634, 'loss': 'hinge', 'max_iter': 72, 'tol': 0.2416414192528385}\n"
          ],
          "name": "stdout"
        },
        {
          "output_type": "stream",
          "text": [
            "/usr/local/lib/python3.6/dist-packages/sklearn/svm/base.py:931: ConvergenceWarning: Liblinear failed to converge, increase the number of iterations.\n",
            "  \"the number of iterations.\", ConvergenceWarning)\n"
          ],
          "name": "stderr"
        },
        {
          "output_type": "stream",
          "text": [
            "LinearSVC|Raw StandardScalerMFSF|\n",
            "\n",
            "best estimate parameters {'C': 0.5652723528212842, 'class_weight': '', 'fit_intercept': False, 'intercept_scaling': 0.9643668571747902, 'loss': 'squared_hinge', 'max_iter': 10, 'tol': 0.26010262763220093}\n"
          ],
          "name": "stdout"
        },
        {
          "output_type": "stream",
          "text": [
            "/usr/local/lib/python3.6/dist-packages/sklearn/svm/base.py:931: ConvergenceWarning: Liblinear failed to converge, increase the number of iterations.\n",
            "  \"the number of iterations.\", ConvergenceWarning)\n"
          ],
          "name": "stderr"
        },
        {
          "output_type": "stream",
          "text": [
            "Train score: 0.9402857142857143\n",
            "Test score: 0.9393333333333334\n",
            "Test2 score: 0.9406666666666667\n",
            "LinearSVC|Raw StandardScalerMTST|StandardScalerMTSF|\n",
            "\n",
            "best estimate parameters {'C': 0.4031023162422942, 'class_weight': '', 'fit_intercept': True, 'intercept_scaling': 0.7429074955740945, 'loss': 'squared_hinge', 'max_iter': 13, 'tol': 0.8278883122678732}\n"
          ],
          "name": "stdout"
        },
        {
          "output_type": "stream",
          "text": [
            "/usr/local/lib/python3.6/dist-packages/sklearn/svm/base.py:931: ConvergenceWarning: Liblinear failed to converge, increase the number of iterations.\n",
            "  \"the number of iterations.\", ConvergenceWarning)\n"
          ],
          "name": "stderr"
        },
        {
          "output_type": "stream",
          "text": [
            "Train score: 0.9402857142857143\n",
            "Test score: 0.9393333333333334\n",
            "Test2 score: 0.9406666666666667\n",
            "LinearSVC|Raw StandardScalerMTST|StandardScalerMFST|\n",
            "\n",
            "best estimate parameters {'C': 0.06858631876209542, 'class_weight': 'balanced', 'fit_intercept': True, 'intercept_scaling': 0.2894065919687021, 'loss': 'hinge', 'max_iter': 6, 'tol': 0.3891713115806944}\n"
          ],
          "name": "stdout"
        },
        {
          "output_type": "stream",
          "text": [
            "/usr/local/lib/python3.6/dist-packages/sklearn/svm/base.py:931: ConvergenceWarning: Liblinear failed to converge, increase the number of iterations.\n",
            "  \"the number of iterations.\", ConvergenceWarning)\n"
          ],
          "name": "stderr"
        },
        {
          "output_type": "stream",
          "text": [
            "Train score: 0.9402857142857143\n",
            "Test score: 0.9393333333333334\n",
            "Test2 score: 0.9406666666666667\n",
            "LinearSVC|Raw StandardScalerMTST|StandardScalerMFSF|\n",
            "\n",
            "best estimate parameters {'C': 0.7097421619588322, 'class_weight': 'balanced', 'fit_intercept': True, 'intercept_scaling': 0.8517025293201178, 'loss': 'squared_hinge', 'max_iter': 0, 'tol': 0.5327360092814732}\n"
          ],
          "name": "stdout"
        },
        {
          "output_type": "stream",
          "text": [
            "/usr/local/lib/python3.6/dist-packages/sklearn/svm/base.py:931: ConvergenceWarning: Liblinear failed to converge, increase the number of iterations.\n",
            "  \"the number of iterations.\", ConvergenceWarning)\n"
          ],
          "name": "stderr"
        },
        {
          "output_type": "stream",
          "text": [
            "LinearSVC|Raw StandardScalerMTSF|StandardScalerMFST|\n",
            "\n",
            "best estimate parameters {'C': 0.6551866879018962, 'class_weight': '', 'fit_intercept': False, 'intercept_scaling': 0.2375038314506551, 'loss': 'hinge', 'max_iter': 63, 'tol': 0.7988497087958389}\n"
          ],
          "name": "stdout"
        },
        {
          "output_type": "stream",
          "text": [
            "/usr/local/lib/python3.6/dist-packages/sklearn/svm/base.py:931: ConvergenceWarning: Liblinear failed to converge, increase the number of iterations.\n",
            "  \"the number of iterations.\", ConvergenceWarning)\n"
          ],
          "name": "stderr"
        },
        {
          "output_type": "stream",
          "text": [
            "LinearSVC|Raw StandardScalerMTSF|StandardScalerMFSF|\n",
            "\n",
            "best estimate parameters {'C': 0.7640471277207205, 'class_weight': 'balanced', 'fit_intercept': True, 'intercept_scaling': 0.4157988158720928, 'loss': 'hinge', 'max_iter': 27, 'tol': 0.5704661032053984}\n"
          ],
          "name": "stdout"
        },
        {
          "output_type": "stream",
          "text": [
            "/usr/local/lib/python3.6/dist-packages/sklearn/svm/base.py:931: ConvergenceWarning: Liblinear failed to converge, increase the number of iterations.\n",
            "  \"the number of iterations.\", ConvergenceWarning)\n"
          ],
          "name": "stderr"
        },
        {
          "output_type": "stream",
          "text": [
            "Train score: 0.9402857142857143\n",
            "Test score: 0.9393333333333334\n",
            "Test2 score: 0.9406666666666667\n",
            "LinearSVC|Raw StandardScalerMFST|StandardScalerMFSF|\n",
            "\n",
            "best estimate parameters {'C': 0.5491970012515933, 'class_weight': 'balanced', 'fit_intercept': False, 'intercept_scaling': 0.287091415397404, 'loss': 'hinge', 'max_iter': 84, 'tol': 0.8997639913087873}\n",
            "Train score: 0.9402857142857143\n",
            "Test score: 0.9373333333333334\n",
            "Test2 score: 0.9406666666666667\n",
            "LinearSVC|Raw QuantileTransformer_u|\n",
            "\n",
            "best estimate parameters {'C': 0.3732247670902791, 'class_weight': '', 'fit_intercept': False, 'intercept_scaling': 0.401101239634035, 'loss': 'squared_hinge', 'max_iter': 14, 'tol': 0.30668170136691153}\n"
          ],
          "name": "stdout"
        },
        {
          "output_type": "stream",
          "text": [
            "/usr/local/lib/python3.6/dist-packages/sklearn/svm/base.py:931: ConvergenceWarning: Liblinear failed to converge, increase the number of iterations.\n",
            "  \"the number of iterations.\", ConvergenceWarning)\n"
          ],
          "name": "stderr"
        },
        {
          "output_type": "stream",
          "text": [
            "Train score: 0.9402857142857143\n",
            "Test score: 0.9393333333333334\n",
            "Test2 score: 0.9406666666666667\n",
            "LinearSVC|Raw QuantileTransformer_n|\n",
            "\n",
            "best estimate parameters {'C': 0.08434381340833219, 'class_weight': '', 'fit_intercept': True, 'intercept_scaling': 0.47303810919619926, 'loss': 'hinge', 'max_iter': 70, 'tol': 0.3132264695517051}\n",
            "Train score: 0.9402857142857143\n",
            "Test score: 0.9393333333333334\n",
            "Test2 score: 0.9406666666666667\n",
            "LinearSVC|Raw QuantileTransformer_u|QuantileTransformer_n|\n",
            "\n",
            "best estimate parameters {'learning_rate': 1.160134928139389, 'n_estimators': 114}\n",
            "Train score: 0.9434285714285714\n",
            "Test score: 0.94\n",
            "Test2 score: 0.946\n",
            "AdaBoostClassifier|Raw StandardScalerMTST|\n",
            "\n",
            "best estimate parameters {'learning_rate': 1.169060624233907, 'n_estimators': 202}\n",
            "Train score: 0.9445714285714286\n",
            "Test score: 0.9393333333333334\n",
            "Test2 score: 0.9473333333333334\n",
            "AdaBoostClassifier|Raw StandardScalerMTSF|\n",
            "\n",
            "best estimate parameters {'learning_rate': 1.0029912966566037, 'n_estimators': 186}\n",
            "Train score: 0.9434285714285714\n",
            "Test score: 0.938\n",
            "Test2 score: 0.9446666666666667\n",
            "AdaBoostClassifier|Raw StandardScalerMFST|\n",
            "\n",
            "best estimate parameters {'learning_rate': 1.1124314170033005, 'n_estimators': 176}\n",
            "Train score: 0.9445714285714286\n",
            "Test score: 0.9406666666666667\n",
            "Test2 score: 0.946\n",
            "AdaBoostClassifier|Raw StandardScalerMFSF|\n",
            "\n",
            "best estimate parameters {'learning_rate': 1.0863294752213395, 'n_estimators': 93}\n",
            "Train score: 0.9417142857142857\n",
            "Test score: 0.94\n",
            "Test2 score: 0.9433333333333334\n",
            "AdaBoostClassifier|Raw StandardScalerMTST|StandardScalerMTSF|\n",
            "\n",
            "best estimate parameters {'learning_rate': 1.0168016710698526, 'n_estimators': 152}\n",
            "Train score: 0.9428571428571428\n",
            "Test score: 0.9406666666666667\n",
            "Test2 score: 0.9446666666666667\n",
            "AdaBoostClassifier|Raw StandardScalerMTST|StandardScalerMFST|\n",
            "\n",
            "best estimate parameters {'learning_rate': 1.2051494812217118, 'n_estimators': 77}\n",
            "Train score: 0.942\n",
            "Test score: 0.9373333333333334\n",
            "Test2 score: 0.942\n",
            "AdaBoostClassifier|Raw StandardScalerMTST|StandardScalerMFSF|\n",
            "\n",
            "best estimate parameters {'learning_rate': 1.1117376196478415, 'n_estimators': 97}\n",
            "Train score: 0.9414285714285714\n",
            "Test score: 0.9386666666666666\n",
            "Test2 score: 0.9433333333333334\n",
            "AdaBoostClassifier|Raw StandardScalerMTSF|StandardScalerMFST|\n",
            "\n",
            "best estimate parameters {'learning_rate': 1.0912661993059658, 'n_estimators': 136}\n",
            "Train score: 0.9431428571428572\n",
            "Test score: 0.9413333333333334\n",
            "Test2 score: 0.9453333333333334\n",
            "AdaBoostClassifier|Raw StandardScalerMTSF|StandardScalerMFSF|\n",
            "\n",
            "best estimate parameters {'learning_rate': 1.0138215881610044, 'n_estimators': 213}\n",
            "Train score: 0.9437142857142857\n",
            "Test score: 0.9393333333333334\n",
            "Test2 score: 0.9446666666666667\n",
            "AdaBoostClassifier|Raw StandardScalerMFST|StandardScalerMFSF|\n",
            "\n",
            "best estimate parameters {'learning_rate': 1.141840759096536, 'n_estimators': 84}\n",
            "Train score: 0.9422857142857143\n",
            "Test score: 0.94\n",
            "Test2 score: 0.944\n",
            "AdaBoostClassifier|Raw QuantileTransformer_u|\n",
            "\n",
            "best estimate parameters {'learning_rate': 1.1457320419423238, 'n_estimators': 106}\n",
            "Train score: 0.942\n",
            "Test score: 0.9406666666666667\n",
            "Test2 score: 0.944\n",
            "AdaBoostClassifier|Raw QuantileTransformer_n|\n",
            "\n",
            "best estimate parameters {'learning_rate': 1.0019652803524772, 'n_estimators': 93}\n",
            "Train score: 0.9425714285714286\n",
            "Test score: 0.94\n",
            "Test2 score: 0.9446666666666667\n",
            "AdaBoostClassifier|Raw QuantileTransformer_u|QuantileTransformer_n|\n",
            "\n"
          ],
          "name": "stdout"
        },
        {
          "output_type": "stream",
          "text": [
            "/usr/local/lib/python3.6/dist-packages/sklearn/ensemble/forest.py:246: FutureWarning: The default value of n_estimators will change from 10 in version 0.20 to 100 in 0.22.\n",
            "  \"10 in version 0.20 to 100 in 0.22.\", FutureWarning)\n"
          ],
          "name": "stderr"
        },
        {
          "output_type": "stream",
          "text": [
            "Train score: 0.9877142857142858\n",
            "Test score: 0.938\n",
            "Test2 score: 0.9726666666666667\n",
            "RandomForestClassifier|PCA StandardScalerMTST|\n",
            "\n"
          ],
          "name": "stdout"
        },
        {
          "output_type": "stream",
          "text": [
            "/usr/local/lib/python3.6/dist-packages/sklearn/ensemble/forest.py:246: FutureWarning: The default value of n_estimators will change from 10 in version 0.20 to 100 in 0.22.\n",
            "  \"10 in version 0.20 to 100 in 0.22.\", FutureWarning)\n"
          ],
          "name": "stderr"
        },
        {
          "output_type": "stream",
          "text": [
            "RandomForestClassifier|PCA StandardScalerMTSF|\n",
            "\n"
          ],
          "name": "stdout"
        },
        {
          "output_type": "stream",
          "text": [
            "/usr/local/lib/python3.6/dist-packages/sklearn/ensemble/forest.py:246: FutureWarning: The default value of n_estimators will change from 10 in version 0.20 to 100 in 0.22.\n",
            "  \"10 in version 0.20 to 100 in 0.22.\", FutureWarning)\n"
          ],
          "name": "stderr"
        },
        {
          "output_type": "stream",
          "text": [
            "Train score: 0.9877142857142858\n",
            "Test score: 0.938\n",
            "Test2 score: 0.9726666666666667\n",
            "RandomForestClassifier|PCA StandardScalerMFST|\n",
            "\n"
          ],
          "name": "stdout"
        },
        {
          "output_type": "stream",
          "text": [
            "/usr/local/lib/python3.6/dist-packages/sklearn/ensemble/forest.py:246: FutureWarning: The default value of n_estimators will change from 10 in version 0.20 to 100 in 0.22.\n",
            "  \"10 in version 0.20 to 100 in 0.22.\", FutureWarning)\n"
          ],
          "name": "stderr"
        },
        {
          "output_type": "stream",
          "text": [
            "RandomForestClassifier|PCA StandardScalerMFSF|\n",
            "\n"
          ],
          "name": "stdout"
        },
        {
          "output_type": "stream",
          "text": [
            "/usr/local/lib/python3.6/dist-packages/sklearn/ensemble/forest.py:246: FutureWarning: The default value of n_estimators will change from 10 in version 0.20 to 100 in 0.22.\n",
            "  \"10 in version 0.20 to 100 in 0.22.\", FutureWarning)\n"
          ],
          "name": "stderr"
        },
        {
          "output_type": "stream",
          "text": [
            "Train score: 0.9877142857142858\n",
            "Test score: 0.938\n",
            "Test2 score: 0.9726666666666667\n",
            "RandomForestClassifier|PCA StandardScalerMTST|StandardScalerMTSF|\n",
            "\n"
          ],
          "name": "stdout"
        },
        {
          "output_type": "stream",
          "text": [
            "/usr/local/lib/python3.6/dist-packages/sklearn/ensemble/forest.py:246: FutureWarning: The default value of n_estimators will change from 10 in version 0.20 to 100 in 0.22.\n",
            "  \"10 in version 0.20 to 100 in 0.22.\", FutureWarning)\n"
          ],
          "name": "stderr"
        },
        {
          "output_type": "stream",
          "text": [
            "Train score: 0.9877142857142858\n",
            "Test score: 0.938\n",
            "Test2 score: 0.9726666666666667\n",
            "RandomForestClassifier|PCA StandardScalerMTST|StandardScalerMFST|\n",
            "\n"
          ],
          "name": "stdout"
        },
        {
          "output_type": "stream",
          "text": [
            "/usr/local/lib/python3.6/dist-packages/sklearn/ensemble/forest.py:246: FutureWarning: The default value of n_estimators will change from 10 in version 0.20 to 100 in 0.22.\n",
            "  \"10 in version 0.20 to 100 in 0.22.\", FutureWarning)\n"
          ],
          "name": "stderr"
        },
        {
          "output_type": "stream",
          "text": [
            "Train score: 0.9877142857142858\n",
            "Test score: 0.938\n",
            "Test2 score: 0.9726666666666667\n",
            "RandomForestClassifier|PCA StandardScalerMTST|StandardScalerMFSF|\n",
            "\n"
          ],
          "name": "stdout"
        },
        {
          "output_type": "stream",
          "text": [
            "/usr/local/lib/python3.6/dist-packages/sklearn/ensemble/forest.py:246: FutureWarning: The default value of n_estimators will change from 10 in version 0.20 to 100 in 0.22.\n",
            "  \"10 in version 0.20 to 100 in 0.22.\", FutureWarning)\n"
          ],
          "name": "stderr"
        },
        {
          "output_type": "stream",
          "text": [
            "Train score: 0.9877142857142858\n",
            "Test score: 0.938\n",
            "Test2 score: 0.9726666666666667\n",
            "RandomForestClassifier|PCA StandardScalerMTSF|StandardScalerMFST|\n",
            "\n"
          ],
          "name": "stdout"
        },
        {
          "output_type": "stream",
          "text": [
            "/usr/local/lib/python3.6/dist-packages/sklearn/ensemble/forest.py:246: FutureWarning: The default value of n_estimators will change from 10 in version 0.20 to 100 in 0.22.\n",
            "  \"10 in version 0.20 to 100 in 0.22.\", FutureWarning)\n"
          ],
          "name": "stderr"
        },
        {
          "output_type": "stream",
          "text": [
            "RandomForestClassifier|PCA StandardScalerMTSF|StandardScalerMFSF|\n",
            "\n"
          ],
          "name": "stdout"
        },
        {
          "output_type": "stream",
          "text": [
            "/usr/local/lib/python3.6/dist-packages/sklearn/ensemble/forest.py:246: FutureWarning: The default value of n_estimators will change from 10 in version 0.20 to 100 in 0.22.\n",
            "  \"10 in version 0.20 to 100 in 0.22.\", FutureWarning)\n"
          ],
          "name": "stderr"
        },
        {
          "output_type": "stream",
          "text": [
            "Train score: 0.9877142857142858\n",
            "Test score: 0.938\n",
            "Test2 score: 0.9726666666666667\n",
            "RandomForestClassifier|PCA StandardScalerMFST|StandardScalerMFSF|\n",
            "\n"
          ],
          "name": "stdout"
        },
        {
          "output_type": "stream",
          "text": [
            "/usr/local/lib/python3.6/dist-packages/sklearn/ensemble/forest.py:246: FutureWarning: The default value of n_estimators will change from 10 in version 0.20 to 100 in 0.22.\n",
            "  \"10 in version 0.20 to 100 in 0.22.\", FutureWarning)\n"
          ],
          "name": "stderr"
        },
        {
          "output_type": "stream",
          "text": [
            "Train score: 0.9871428571428571\n",
            "Test score: 0.938\n",
            "Test2 score: 0.9706666666666667\n",
            "RandomForestClassifier|PCA QuantileTransformer_u|\n",
            "\n"
          ],
          "name": "stdout"
        },
        {
          "output_type": "stream",
          "text": [
            "/usr/local/lib/python3.6/dist-packages/sklearn/ensemble/forest.py:246: FutureWarning: The default value of n_estimators will change from 10 in version 0.20 to 100 in 0.22.\n",
            "  \"10 in version 0.20 to 100 in 0.22.\", FutureWarning)\n"
          ],
          "name": "stderr"
        },
        {
          "output_type": "stream",
          "text": [
            "Train score: 0.9882857142857143\n",
            "Test score: 0.94\n",
            "Test2 score: 0.9713333333333334\n",
            "RandomForestClassifier|PCA QuantileTransformer_n|\n",
            "\n"
          ],
          "name": "stdout"
        },
        {
          "output_type": "stream",
          "text": [
            "/usr/local/lib/python3.6/dist-packages/sklearn/ensemble/forest.py:246: FutureWarning: The default value of n_estimators will change from 10 in version 0.20 to 100 in 0.22.\n",
            "  \"10 in version 0.20 to 100 in 0.22.\", FutureWarning)\n"
          ],
          "name": "stderr"
        },
        {
          "output_type": "stream",
          "text": [
            "Train score: 0.9871428571428571\n",
            "Test score: 0.9386666666666666\n",
            "Test2 score: 0.9706666666666667\n",
            "RandomForestClassifier|PCA QuantileTransformer_u|QuantileTransformer_n|\n",
            "\n",
            "Train score: 0.9451428571428572\n",
            "Test score: 0.9333333333333333\n",
            "Test2 score: 0.9446666666666667\n",
            "GradientBoostingClassifier|PCA StandardScalerMTST|\n",
            "\n",
            "GradientBoostingClassifier|PCA StandardScalerMTSF|\n",
            "\n",
            "Train score: 0.9451428571428572\n",
            "Test score: 0.9333333333333333\n",
            "Test2 score: 0.9446666666666667\n",
            "GradientBoostingClassifier|PCA StandardScalerMFST|\n",
            "\n",
            "GradientBoostingClassifier|PCA StandardScalerMFSF|\n",
            "\n",
            "Train score: 0.9451428571428572\n",
            "Test score: 0.9333333333333333\n",
            "Test2 score: 0.9446666666666667\n",
            "GradientBoostingClassifier|PCA StandardScalerMTST|StandardScalerMTSF|\n",
            "\n",
            "Train score: 0.9451428571428572\n",
            "Test score: 0.9333333333333333\n",
            "Test2 score: 0.9446666666666667\n",
            "GradientBoostingClassifier|PCA StandardScalerMTST|StandardScalerMFST|\n",
            "\n",
            "Train score: 0.9451428571428572\n",
            "Test score: 0.9333333333333333\n",
            "Test2 score: 0.9446666666666667\n",
            "GradientBoostingClassifier|PCA StandardScalerMTST|StandardScalerMFSF|\n",
            "\n",
            "Train score: 0.9451428571428572\n",
            "Test score: 0.9333333333333333\n",
            "Test2 score: 0.9446666666666667\n",
            "GradientBoostingClassifier|PCA StandardScalerMTSF|StandardScalerMFST|\n",
            "\n",
            "GradientBoostingClassifier|PCA StandardScalerMTSF|StandardScalerMFSF|\n",
            "\n",
            "Train score: 0.9451428571428572\n",
            "Test score: 0.9333333333333333\n",
            "Test2 score: 0.9446666666666667\n",
            "GradientBoostingClassifier|PCA StandardScalerMFST|StandardScalerMFSF|\n",
            "\n",
            "Train score: 0.9491428571428572\n",
            "Test score: 0.9393333333333334\n",
            "Test2 score: 0.9466666666666667\n",
            "GradientBoostingClassifier|PCA QuantileTransformer_u|\n",
            "\n",
            "Train score: 0.9474285714285714\n",
            "Test score: 0.938\n",
            "Test2 score: 0.9446666666666667\n",
            "GradientBoostingClassifier|PCA QuantileTransformer_n|\n",
            "\n",
            "Train score: 0.9474285714285714\n",
            "Test score: 0.9393333333333334\n",
            "Test2 score: 0.944\n",
            "GradientBoostingClassifier|PCA QuantileTransformer_u|QuantileTransformer_n|\n",
            "\n",
            "best estimate parameters {'C': 0.9540865956256728, 'class_weight': '', 'fit_intercept': True, 'intercept_scaling': 0.9104278660657913, 'loss': 'squared_hinge', 'max_iter': 44, 'tol': 0.9316966158479706}\n"
          ],
          "name": "stdout"
        },
        {
          "output_type": "stream",
          "text": [
            "/usr/local/lib/python3.6/dist-packages/sklearn/svm/base.py:931: ConvergenceWarning: Liblinear failed to converge, increase the number of iterations.\n",
            "  \"the number of iterations.\", ConvergenceWarning)\n"
          ],
          "name": "stderr"
        },
        {
          "output_type": "stream",
          "text": [
            "Train score: 0.9402857142857143\n",
            "Test score: 0.9393333333333334\n",
            "Test2 score: 0.9406666666666667\n",
            "LinearSVC|PCA StandardScalerMTST|\n",
            "\n",
            "best estimate parameters {'C': 0.36677271541757217, 'class_weight': 'balanced', 'fit_intercept': False, 'intercept_scaling': 0.059818840408514824, 'loss': 'squared_hinge', 'max_iter': 66, 'tol': 0.30254720510862115}\n"
          ],
          "name": "stdout"
        },
        {
          "output_type": "stream",
          "text": [
            "/usr/local/lib/python3.6/dist-packages/sklearn/svm/base.py:931: ConvergenceWarning: Liblinear failed to converge, increase the number of iterations.\n",
            "  \"the number of iterations.\", ConvergenceWarning)\n"
          ],
          "name": "stderr"
        },
        {
          "output_type": "stream",
          "text": [
            "LinearSVC|PCA StandardScalerMTSF|\n",
            "\n",
            "best estimate parameters {'C': 0.7877590417245345, 'class_weight': 'balanced', 'fit_intercept': True, 'intercept_scaling': 0.42032326901708394, 'loss': 'squared_hinge', 'max_iter': 38, 'tol': 0.00830747541161414}\n"
          ],
          "name": "stdout"
        },
        {
          "output_type": "stream",
          "text": [
            "/usr/local/lib/python3.6/dist-packages/sklearn/svm/base.py:931: ConvergenceWarning: Liblinear failed to converge, increase the number of iterations.\n",
            "  \"the number of iterations.\", ConvergenceWarning)\n"
          ],
          "name": "stderr"
        },
        {
          "output_type": "stream",
          "text": [
            "Train score: 0.9402857142857143\n",
            "Test score: 0.9393333333333334\n",
            "Test2 score: 0.9406666666666667\n",
            "LinearSVC|PCA StandardScalerMFST|\n",
            "\n",
            "best estimate parameters {'C': 0.576578027155408, 'class_weight': 'balanced', 'fit_intercept': False, 'intercept_scaling': 0.9989779870956617, 'loss': 'squared_hinge', 'max_iter': 66, 'tol': 0.5771995457745395}\n"
          ],
          "name": "stdout"
        },
        {
          "output_type": "stream",
          "text": [
            "/usr/local/lib/python3.6/dist-packages/sklearn/svm/base.py:931: ConvergenceWarning: Liblinear failed to converge, increase the number of iterations.\n",
            "  \"the number of iterations.\", ConvergenceWarning)\n"
          ],
          "name": "stderr"
        },
        {
          "output_type": "stream",
          "text": [
            "LinearSVC|PCA StandardScalerMFSF|\n",
            "\n",
            "best estimate parameters {'C': 0.9293910436606249, 'class_weight': '', 'fit_intercept': False, 'intercept_scaling': 0.26171660388528395, 'loss': 'hinge', 'max_iter': 80, 'tol': 0.19852999837997287}\n",
            "Train score: 0.9402857142857143\n",
            "Test score: 0.9393333333333334\n",
            "Test2 score: 0.9406666666666667\n",
            "LinearSVC|PCA StandardScalerMTST|StandardScalerMTSF|\n",
            "\n",
            "best estimate parameters {'C': 0.2413593999219864, 'class_weight': '', 'fit_intercept': False, 'intercept_scaling': 0.7521573714431881, 'loss': 'squared_hinge', 'max_iter': 44, 'tol': 0.8620802431298078}\n"
          ],
          "name": "stdout"
        },
        {
          "output_type": "stream",
          "text": [
            "/usr/local/lib/python3.6/dist-packages/sklearn/svm/base.py:931: ConvergenceWarning: Liblinear failed to converge, increase the number of iterations.\n",
            "  \"the number of iterations.\", ConvergenceWarning)\n"
          ],
          "name": "stderr"
        },
        {
          "output_type": "stream",
          "text": [
            "Train score: 0.9402857142857143\n",
            "Test score: 0.9393333333333334\n",
            "Test2 score: 0.9406666666666667\n",
            "LinearSVC|PCA StandardScalerMTST|StandardScalerMFST|\n",
            "\n",
            "best estimate parameters {'C': 0.5523604971533028, 'class_weight': 'balanced', 'fit_intercept': False, 'intercept_scaling': 0.6767361056822452, 'loss': 'squared_hinge', 'max_iter': 72, 'tol': 0.10301277865900656}\n"
          ],
          "name": "stdout"
        },
        {
          "output_type": "stream",
          "text": [
            "/usr/local/lib/python3.6/dist-packages/sklearn/svm/base.py:931: ConvergenceWarning: Liblinear failed to converge, increase the number of iterations.\n",
            "  \"the number of iterations.\", ConvergenceWarning)\n"
          ],
          "name": "stderr"
        },
        {
          "output_type": "stream",
          "text": [
            "Train score: 0.9402857142857143\n",
            "Test score: 0.9393333333333334\n",
            "Test2 score: 0.9406666666666667\n",
            "LinearSVC|PCA StandardScalerMTST|StandardScalerMFSF|\n",
            "\n",
            "best estimate parameters {'C': 0.9988491827568284, 'class_weight': '', 'fit_intercept': True, 'intercept_scaling': 0.4102742481695301, 'loss': 'squared_hinge', 'max_iter': 68, 'tol': 0.5410478344183309}\n"
          ],
          "name": "stdout"
        },
        {
          "output_type": "stream",
          "text": [
            "/usr/local/lib/python3.6/dist-packages/sklearn/svm/base.py:931: ConvergenceWarning: Liblinear failed to converge, increase the number of iterations.\n",
            "  \"the number of iterations.\", ConvergenceWarning)\n"
          ],
          "name": "stderr"
        },
        {
          "output_type": "stream",
          "text": [
            "Train score: 0.9397142857142857\n",
            "Test score: 0.9393333333333334\n",
            "Test2 score: 0.9406666666666667\n",
            "LinearSVC|PCA StandardScalerMTSF|StandardScalerMFST|\n",
            "\n",
            "best estimate parameters {'C': 0.26665012888252826, 'class_weight': 'balanced', 'fit_intercept': False, 'intercept_scaling': 0.21095767854153605, 'loss': 'hinge', 'max_iter': 66, 'tol': 0.7041495056133225}\n"
          ],
          "name": "stdout"
        },
        {
          "output_type": "stream",
          "text": [
            "/usr/local/lib/python3.6/dist-packages/sklearn/svm/base.py:931: ConvergenceWarning: Liblinear failed to converge, increase the number of iterations.\n",
            "  \"the number of iterations.\", ConvergenceWarning)\n"
          ],
          "name": "stderr"
        },
        {
          "output_type": "stream",
          "text": [
            "LinearSVC|PCA StandardScalerMTSF|StandardScalerMFSF|\n",
            "\n",
            "best estimate parameters {'C': 0.681133551886157, 'class_weight': '', 'fit_intercept': True, 'intercept_scaling': 0.6106232803834721, 'loss': 'hinge', 'max_iter': 75, 'tol': 0.18194437610628822}\n",
            "Train score: 0.9402857142857143\n",
            "Test score: 0.9393333333333334\n",
            "Test2 score: 0.9406666666666667\n",
            "LinearSVC|PCA StandardScalerMFST|StandardScalerMFSF|\n",
            "\n",
            "best estimate parameters {'C': 0.22364816578898017, 'class_weight': 'balanced', 'fit_intercept': False, 'intercept_scaling': 0.7075139584669714, 'loss': 'hinge', 'max_iter': 12, 'tol': 0.4530482239079914}\n",
            "Train score: 0.9402857142857143\n",
            "Test score: 0.9393333333333334\n",
            "Test2 score: 0.9406666666666667\n",
            "LinearSVC|PCA QuantileTransformer_u|\n",
            "\n",
            "best estimate parameters {'C': 0.8234621093531932, 'class_weight': 'balanced', 'fit_intercept': True, 'intercept_scaling': 0.7478807062634847, 'loss': 'hinge', 'max_iter': 44, 'tol': 0.6468595709294244}\n"
          ],
          "name": "stdout"
        },
        {
          "output_type": "stream",
          "text": [
            "/usr/local/lib/python3.6/dist-packages/sklearn/svm/base.py:931: ConvergenceWarning: Liblinear failed to converge, increase the number of iterations.\n",
            "  \"the number of iterations.\", ConvergenceWarning)\n"
          ],
          "name": "stderr"
        },
        {
          "output_type": "stream",
          "text": [
            "Train score: 0.9402857142857143\n",
            "Test score: 0.9393333333333334\n",
            "Test2 score: 0.9406666666666667\n",
            "LinearSVC|PCA QuantileTransformer_n|\n",
            "\n",
            "best estimate parameters {'C': 0.24932838160008108, 'class_weight': 'balanced', 'fit_intercept': False, 'intercept_scaling': 0.23535673922187483, 'loss': 'squared_hinge', 'max_iter': 37, 'tol': 0.15789502338690642}\n"
          ],
          "name": "stdout"
        },
        {
          "output_type": "stream",
          "text": [
            "/usr/local/lib/python3.6/dist-packages/sklearn/svm/base.py:931: ConvergenceWarning: Liblinear failed to converge, increase the number of iterations.\n",
            "  \"the number of iterations.\", ConvergenceWarning)\n"
          ],
          "name": "stderr"
        },
        {
          "output_type": "stream",
          "text": [
            "Train score: 0.9402857142857143\n",
            "Test score: 0.9393333333333334\n",
            "Test2 score: 0.9406666666666667\n",
            "LinearSVC|PCA QuantileTransformer_u|QuantileTransformer_n|\n",
            "\n",
            "best estimate parameters {'C': 0.05612418992722479, 'intercept_scaling': 0.6527731092504057, 'max_iter': 9, 'solver': 'saga', 'tol': 0.46226208737435337}\n",
            "Train score: 0.9402857142857143\n",
            "Test score: 0.9393333333333334\n",
            "Test2 score: 0.9406666666666667\n",
            "LogisticRegression2|PCA StandardScalerMTST|\n",
            "\n",
            "best estimate parameters {'C': 0.821224700578537, 'intercept_scaling': 0.698897395141484, 'max_iter': 84, 'solver': 'sag', 'tol': 0.6729202914718121}\n",
            "LogisticRegression2|PCA StandardScalerMTSF|\n",
            "\n",
            "best estimate parameters {'C': 0.21986869342405924, 'intercept_scaling': 0.3936610281706552, 'max_iter': 24, 'solver': 'lbfgs', 'tol': 0.7029453111047834}\n",
            "best estimate parameters {'C': 0.3401429472532923, 'intercept_scaling': 0.626340845104841, 'max_iter': 54, 'solver': 'sag', 'tol': 0.36666870223420045}\n",
            "LogisticRegression2|PCA StandardScalerMFSF|\n",
            "\n",
            "best estimate parameters {'C': 0.6816308116058011, 'intercept_scaling': 0.2814398515691434, 'max_iter': 7, 'solver': 'saga', 'tol': 0.30396785740215304}\n",
            "Train score: 0.9402857142857143\n",
            "Test score: 0.9393333333333334\n",
            "Test2 score: 0.9406666666666667\n",
            "LogisticRegression2|PCA StandardScalerMTST|StandardScalerMTSF|\n",
            "\n",
            "best estimate parameters {'C': 0.5187844899032514, 'intercept_scaling': 0.055460002905711625, 'max_iter': 38, 'solver': 'saga', 'tol': 0.5430371758901871}\n",
            "Train score: 0.9402857142857143\n",
            "Test score: 0.9393333333333334\n",
            "Test2 score: 0.9406666666666667\n",
            "LogisticRegression2|PCA StandardScalerMTST|StandardScalerMFST|\n",
            "\n",
            "best estimate parameters {'C': 0.8453058484099746, 'intercept_scaling': 0.24145200601286754, 'max_iter': 56, 'solver': 'lbfgs', 'tol': 0.0940553277107743}\n",
            "best estimate parameters {'C': 0.9377465071225183, 'intercept_scaling': 0.42268155614083913, 'max_iter': 56, 'solver': 'saga', 'tol': 0.33674312117395766}\n",
            "Train score: 0.9402857142857143\n",
            "Test score: 0.9393333333333334\n",
            "Test2 score: 0.9406666666666667\n",
            "LogisticRegression2|PCA StandardScalerMTSF|StandardScalerMFST|\n",
            "\n",
            "best estimate parameters {'C': 0.2998257832596767, 'intercept_scaling': 0.4560151096704783, 'max_iter': 54, 'solver': 'sag', 'tol': 0.38165076204737647}\n",
            "LogisticRegression2|PCA StandardScalerMTSF|StandardScalerMFSF|\n",
            "\n",
            "best estimate parameters {'C': 0.745504913774616, 'intercept_scaling': 0.7580114258904265, 'max_iter': 8, 'solver': 'lbfgs', 'tol': 0.2924082107134047}\n",
            "best estimate parameters {'C': 0.12710831585415583, 'intercept_scaling': 0.3375347700478267, 'max_iter': 62, 'solver': 'liblinear', 'tol': 0.6913696395088773}\n"
          ],
          "name": "stdout"
        },
        {
          "output_type": "stream",
          "text": [
            "/usr/local/lib/python3.6/dist-packages/sklearn/linear_model/logistic.py:1300: UserWarning: 'n_jobs' > 1 does not have any effect when 'solver' is set to 'liblinear'. Got 'n_jobs' = 2.\n",
            "  \" = {}.\".format(effective_n_jobs(self.n_jobs)))\n"
          ],
          "name": "stderr"
        },
        {
          "output_type": "stream",
          "text": [
            "Train score: 0.9402857142857143\n",
            "Test score: 0.9393333333333334\n",
            "Test2 score: 0.9406666666666667\n",
            "LogisticRegression2|PCA QuantileTransformer_u|\n",
            "\n",
            "best estimate parameters {'C': 0.006116530784457064, 'intercept_scaling': 0.08356798132383592, 'max_iter': 49, 'solver': 'sag', 'tol': 0.8681457781182569}\n",
            "Train score: 0.9402857142857143\n",
            "Test score: 0.9393333333333334\n",
            "Test2 score: 0.9406666666666667\n",
            "LogisticRegression2|PCA QuantileTransformer_n|\n",
            "\n",
            "best estimate parameters {'C': 0.79248001699321, 'intercept_scaling': 0.44021890910813466, 'max_iter': 14, 'solver': 'liblinear', 'tol': 0.25607231401367325}\n"
          ],
          "name": "stdout"
        },
        {
          "output_type": "stream",
          "text": [
            "/usr/local/lib/python3.6/dist-packages/sklearn/linear_model/logistic.py:1300: UserWarning: 'n_jobs' > 1 does not have any effect when 'solver' is set to 'liblinear'. Got 'n_jobs' = 2.\n",
            "  \" = {}.\".format(effective_n_jobs(self.n_jobs)))\n"
          ],
          "name": "stderr"
        },
        {
          "output_type": "stream",
          "text": [
            "Train score: 0.9402857142857143\n",
            "Test score: 0.9393333333333334\n",
            "Test2 score: 0.9406666666666667\n",
            "LogisticRegression2|PCA QuantileTransformer_u|QuantileTransformer_n|\n",
            "\n",
            "best estimate parameters {'learning_rate': 1.1345369569387986, 'n_estimators': 10}\n",
            "Train score: 0.9377142857142857\n",
            "Test score: 0.936\n",
            "Test2 score: 0.94\n",
            "AdaBoostClassifier|PCA StandardScalerMTST|\n",
            "\n",
            "best estimate parameters {'learning_rate': 2.0398604773859454, 'n_estimators': 202}\n",
            "AdaBoostClassifier|PCA StandardScalerMTSF|\n",
            "\n",
            "best estimate parameters {'learning_rate': 1.1179974159125807, 'n_estimators': 27}\n",
            "Train score: 0.9382857142857143\n",
            "Test score: 0.9353333333333333\n",
            "Test2 score: 0.9393333333333334\n",
            "AdaBoostClassifier|PCA StandardScalerMFST|\n",
            "\n",
            "best estimate parameters {'learning_rate': 2.039599904405305, 'n_estimators': 232}\n",
            "AdaBoostClassifier|PCA StandardScalerMFSF|\n",
            "\n",
            "best estimate parameters {'learning_rate': 1.0492566703651078, 'n_estimators': 27}\n",
            "Train score: 0.9397142857142857\n",
            "Test score: 0.9366666666666666\n",
            "Test2 score: 0.94\n",
            "AdaBoostClassifier|PCA StandardScalerMTST|StandardScalerMTSF|\n",
            "\n",
            "best estimate parameters {'learning_rate': 1.0047616563313713, 'n_estimators': 36}\n",
            "Train score: 0.9397142857142857\n",
            "Test score: 0.938\n",
            "Test2 score: 0.9393333333333334\n",
            "AdaBoostClassifier|PCA StandardScalerMTST|StandardScalerMFST|\n",
            "\n",
            "best estimate parameters {'learning_rate': 1.1063295358160767, 'n_estimators': 36}\n",
            "Train score: 0.9397142857142857\n",
            "Test score: 0.9353333333333333\n",
            "Test2 score: 0.9413333333333334\n",
            "AdaBoostClassifier|PCA StandardScalerMTST|StandardScalerMFSF|\n",
            "\n",
            "best estimate parameters {'learning_rate': 1.0084603756721435, 'n_estimators': 32}\n",
            "Train score: 0.9405714285714286\n",
            "Test score: 0.9366666666666666\n",
            "Test2 score: 0.9413333333333334\n",
            "AdaBoostClassifier|PCA StandardScalerMTSF|StandardScalerMFST|\n",
            "\n",
            "best estimate parameters {'learning_rate': 1.978585990027516, 'n_estimators': 72}\n",
            "AdaBoostClassifier|PCA StandardScalerMTSF|StandardScalerMFSF|\n",
            "\n",
            "best estimate parameters {'learning_rate': 1.0227488265006395, 'n_estimators': 24}\n",
            "Train score: 0.9394285714285714\n",
            "Test score: 0.938\n",
            "Test2 score: 0.94\n",
            "AdaBoostClassifier|PCA StandardScalerMFST|StandardScalerMFSF|\n",
            "\n",
            "best estimate parameters {'learning_rate': 1.3867589369864948, 'n_estimators': 93}\n",
            "Train score: 0.9434285714285714\n",
            "Test score: 0.9386666666666666\n",
            "Test2 score: 0.9413333333333334\n",
            "AdaBoostClassifier|PCA QuantileTransformer_u|\n",
            "\n",
            "best estimate parameters {'learning_rate': 2.093879793878052, 'n_estimators': 61}\n",
            "Train score: 0.908\n",
            "Test score: 0.8893333333333333\n",
            "Test2 score: 0.9093333333333333\n",
            "AdaBoostClassifier|PCA QuantileTransformer_n|\n",
            "\n",
            "best estimate parameters {'learning_rate': 2.180721135835631, 'n_estimators': 181}\n",
            "Train score: 0.9402857142857143\n",
            "Test score: 0.9393333333333334\n",
            "Test2 score: 0.9406666666666667\n",
            "AdaBoostClassifier|PCA QuantileTransformer_u|QuantileTransformer_n|\n",
            "\n"
          ],
          "name": "stdout"
        },
        {
          "output_type": "stream",
          "text": [
            "/usr/local/lib/python3.6/dist-packages/sklearn/ensemble/forest.py:246: FutureWarning: The default value of n_estimators will change from 10 in version 0.20 to 100 in 0.22.\n",
            "  \"10 in version 0.20 to 100 in 0.22.\", FutureWarning)\n"
          ],
          "name": "stderr"
        },
        {
          "output_type": "stream",
          "text": [
            "Train score: 0.99\n",
            "Test score: 0.94\n",
            "Test2 score: 0.974\n",
            "RandomForestClassifier|Raw PowerTransformer_std|\n",
            "\n"
          ],
          "name": "stdout"
        },
        {
          "output_type": "stream",
          "text": [
            "/usr/local/lib/python3.6/dist-packages/sklearn/ensemble/forest.py:246: FutureWarning: The default value of n_estimators will change from 10 in version 0.20 to 100 in 0.22.\n",
            "  \"10 in version 0.20 to 100 in 0.22.\", FutureWarning)\n"
          ],
          "name": "stderr"
        },
        {
          "output_type": "stream",
          "text": [
            "Train score: 0.99\n",
            "Test score: 0.94\n",
            "Test2 score: 0.974\n",
            "RandomForestClassifier|Raw PowerTransformer|\n",
            "\n"
          ],
          "name": "stdout"
        },
        {
          "output_type": "stream",
          "text": [
            "/usr/local/lib/python3.6/dist-packages/sklearn/ensemble/forest.py:246: FutureWarning: The default value of n_estimators will change from 10 in version 0.20 to 100 in 0.22.\n",
            "  \"10 in version 0.20 to 100 in 0.22.\", FutureWarning)\n"
          ],
          "name": "stderr"
        },
        {
          "output_type": "stream",
          "text": [
            "Train score: 0.99\n",
            "Test score: 0.94\n",
            "Test2 score: 0.974\n",
            "RandomForestClassifier|Raw PowerTransformer_std|PowerTransformer|\n",
            "\n"
          ],
          "name": "stdout"
        },
        {
          "output_type": "stream",
          "text": [
            "/usr/local/lib/python3.6/dist-packages/sklearn/ensemble/forest.py:246: FutureWarning: The default value of n_estimators will change from 10 in version 0.20 to 100 in 0.22.\n",
            "  \"10 in version 0.20 to 100 in 0.22.\", FutureWarning)\n"
          ],
          "name": "stderr"
        },
        {
          "output_type": "stream",
          "text": [
            "Train score: 0.9905714285714285\n",
            "Test score: 0.9393333333333334\n",
            "Test2 score: 0.9746666666666667\n",
            "RandomForestClassifier|Raw QuantileTransformer_u|\n",
            "\n"
          ],
          "name": "stdout"
        },
        {
          "output_type": "stream",
          "text": [
            "/usr/local/lib/python3.6/dist-packages/sklearn/ensemble/forest.py:246: FutureWarning: The default value of n_estimators will change from 10 in version 0.20 to 100 in 0.22.\n",
            "  \"10 in version 0.20 to 100 in 0.22.\", FutureWarning)\n"
          ],
          "name": "stderr"
        },
        {
          "output_type": "stream",
          "text": [
            "Train score: 0.99\n",
            "Test score: 0.9393333333333334\n",
            "Test2 score: 0.974\n",
            "RandomForestClassifier|Raw QuantileTransformer_n|\n",
            "\n"
          ],
          "name": "stdout"
        },
        {
          "output_type": "stream",
          "text": [
            "/usr/local/lib/python3.6/dist-packages/sklearn/ensemble/forest.py:246: FutureWarning: The default value of n_estimators will change from 10 in version 0.20 to 100 in 0.22.\n",
            "  \"10 in version 0.20 to 100 in 0.22.\", FutureWarning)\n"
          ],
          "name": "stderr"
        },
        {
          "output_type": "stream",
          "text": [
            "Train score: 0.9882857142857143\n",
            "Test score: 0.94\n",
            "Test2 score: 0.972\n",
            "RandomForestClassifier|Raw QuantileTransformer_u|QuantileTransformer_n|\n",
            "\n",
            "Train score: 0.9462857142857143\n",
            "Test score: 0.9366666666666666\n",
            "Test2 score: 0.9446666666666667\n",
            "GradientBoostingClassifier|Raw PowerTransformer_std|\n",
            "\n",
            "Train score: 0.9462857142857143\n",
            "Test score: 0.9366666666666666\n",
            "Test2 score: 0.9446666666666667\n",
            "GradientBoostingClassifier|Raw PowerTransformer|\n",
            "\n",
            "Train score: 0.9462857142857143\n",
            "Test score: 0.9366666666666666\n",
            "Test2 score: 0.9446666666666667\n",
            "GradientBoostingClassifier|Raw PowerTransformer_std|PowerTransformer|\n",
            "\n",
            "Train score: 0.9462857142857143\n",
            "Test score: 0.9366666666666666\n",
            "Test2 score: 0.9446666666666667\n",
            "GradientBoostingClassifier|Raw QuantileTransformer_u|\n",
            "\n",
            "Train score: 0.9462857142857143\n",
            "Test score: 0.9366666666666666\n",
            "Test2 score: 0.9446666666666667\n",
            "GradientBoostingClassifier|Raw QuantileTransformer_n|\n",
            "\n",
            "Train score: 0.9454285714285714\n",
            "Test score: 0.9386666666666666\n",
            "Test2 score: 0.9453333333333334\n",
            "GradientBoostingClassifier|Raw QuantileTransformer_u|QuantileTransformer_n|\n",
            "\n",
            "best estimate parameters {'C': 0.8973620348660405, 'class_weight': 'balanced', 'fit_intercept': False, 'intercept_scaling': 0.07757340955676151, 'loss': 'squared_hinge', 'max_iter': 91, 'tol': 0.49416592437144924}\n"
          ],
          "name": "stdout"
        },
        {
          "output_type": "stream",
          "text": [
            "/usr/local/lib/python3.6/dist-packages/sklearn/svm/base.py:931: ConvergenceWarning: Liblinear failed to converge, increase the number of iterations.\n",
            "  \"the number of iterations.\", ConvergenceWarning)\n"
          ],
          "name": "stderr"
        },
        {
          "output_type": "stream",
          "text": [
            "Train score: 0.9402857142857143\n",
            "Test score: 0.9393333333333334\n",
            "Test2 score: 0.9406666666666667\n",
            "LinearSVC|Raw PowerTransformer_std|\n",
            "\n",
            "best estimate parameters {'C': 0.02833224502600684, 'class_weight': '', 'fit_intercept': False, 'intercept_scaling': 0.1290205087673053, 'loss': 'squared_hinge', 'max_iter': 63, 'tol': 0.024329692439236217}\n"
          ],
          "name": "stdout"
        },
        {
          "output_type": "stream",
          "text": [
            "/usr/local/lib/python3.6/dist-packages/sklearn/svm/base.py:931: ConvergenceWarning: Liblinear failed to converge, increase the number of iterations.\n",
            "  \"the number of iterations.\", ConvergenceWarning)\n"
          ],
          "name": "stderr"
        },
        {
          "output_type": "stream",
          "text": [
            "LinearSVC|Raw PowerTransformer|\n",
            "\n",
            "best estimate parameters {'C': 0.05832313946536816, 'class_weight': 'balanced', 'fit_intercept': False, 'intercept_scaling': 0.20384865483877568, 'loss': 'squared_hinge', 'max_iter': 1, 'tol': 0.24456576175784694}\n"
          ],
          "name": "stdout"
        },
        {
          "output_type": "stream",
          "text": [
            "/usr/local/lib/python3.6/dist-packages/sklearn/svm/base.py:931: ConvergenceWarning: Liblinear failed to converge, increase the number of iterations.\n",
            "  \"the number of iterations.\", ConvergenceWarning)\n"
          ],
          "name": "stderr"
        },
        {
          "output_type": "stream",
          "text": [
            "Train score: 0.9394285714285714\n",
            "Test score: 0.938\n",
            "Test2 score: 0.94\n",
            "LinearSVC|Raw PowerTransformer_std|PowerTransformer|\n",
            "\n",
            "best estimate parameters {'C': 0.779026121983626, 'class_weight': 'balanced', 'fit_intercept': False, 'intercept_scaling': 0.2936499525793299, 'loss': 'squared_hinge', 'max_iter': 56, 'tol': 0.540490863620419}\n",
            "Train score: 0.9402857142857143\n",
            "Test score: 0.938\n",
            "Test2 score: 0.9406666666666667\n",
            "LinearSVC|Raw QuantileTransformer_u|\n",
            "\n",
            "best estimate parameters {'C': 0.5015802903625641, 'class_weight': 'balanced', 'fit_intercept': False, 'intercept_scaling': 0.7961856030321698, 'loss': 'squared_hinge', 'max_iter': 7, 'tol': 0.9192768801840031}\n"
          ],
          "name": "stdout"
        },
        {
          "output_type": "stream",
          "text": [
            "/usr/local/lib/python3.6/dist-packages/sklearn/svm/base.py:931: ConvergenceWarning: Liblinear failed to converge, increase the number of iterations.\n",
            "  \"the number of iterations.\", ConvergenceWarning)\n"
          ],
          "name": "stderr"
        },
        {
          "output_type": "stream",
          "text": [
            "Train score: 0.9402857142857143\n",
            "Test score: 0.9393333333333334\n",
            "Test2 score: 0.9406666666666667\n",
            "LinearSVC|Raw QuantileTransformer_n|\n",
            "\n",
            "best estimate parameters {'C': 0.6964409103448399, 'class_weight': '', 'fit_intercept': True, 'intercept_scaling': 0.21138749202650597, 'loss': 'hinge', 'max_iter': 92, 'tol': 0.40424858696263555}\n",
            "Train score: 0.9402857142857143\n",
            "Test score: 0.9393333333333334\n",
            "Test2 score: 0.9406666666666667\n",
            "LinearSVC|Raw QuantileTransformer_u|QuantileTransformer_n|\n",
            "\n",
            "best estimate parameters {'C': 0.49631438037020736, 'intercept_scaling': 0.3872634076974909, 'max_iter': 81, 'solver': 'sag', 'tol': 0.35271068261702254}\n",
            "Train score: 0.9402857142857143\n",
            "Test score: 0.9393333333333334\n",
            "Test2 score: 0.9406666666666667\n",
            "LogisticRegression2|Raw PowerTransformer_std|\n",
            "\n",
            "best estimate parameters {'C': 0.5419056516675853, 'intercept_scaling': 0.06609688065608432, 'max_iter': 90, 'solver': 'newton-cg', 'tol': 0.050254302967996045}\n"
          ],
          "name": "stdout"
        },
        {
          "output_type": "stream",
          "text": [
            "/usr/local/lib/python3.6/dist-packages/scipy/optimize/linesearch.py:462: LineSearchWarning: The line search algorithm did not converge\n",
            "  warn('The line search algorithm did not converge', LineSearchWarning)\n",
            "/usr/local/lib/python3.6/dist-packages/scipy/optimize/linesearch.py:313: LineSearchWarning: The line search algorithm did not converge\n",
            "  warn('The line search algorithm did not converge', LineSearchWarning)\n",
            "/usr/local/lib/python3.6/dist-packages/scipy/optimize/linesearch.py:462: LineSearchWarning: The line search algorithm did not converge\n",
            "  warn('The line search algorithm did not converge', LineSearchWarning)\n",
            "/usr/local/lib/python3.6/dist-packages/scipy/optimize/linesearch.py:313: LineSearchWarning: The line search algorithm did not converge\n",
            "  warn('The line search algorithm did not converge', LineSearchWarning)\n",
            "/usr/local/lib/python3.6/dist-packages/sklearn/utils/optimize.py:203: ConvergenceWarning: newton-cg failed to converge. Increase the number of iterations.\n",
            "  \"number of iterations.\", ConvergenceWarning)\n"
          ],
          "name": "stderr"
        },
        {
          "output_type": "stream",
          "text": [
            "Train score: 0.9402857142857143\n",
            "Test score: 0.9393333333333334\n",
            "Test2 score: 0.9406666666666667\n",
            "LogisticRegression2|Raw PowerTransformer|\n",
            "\n",
            "best estimate parameters {'C': 0.3722189432135369, 'intercept_scaling': 0.41298519131023426, 'max_iter': 46, 'solver': 'saga', 'tol': 0.08432022275672435}\n",
            "Train score: 0.9402857142857143\n",
            "Test score: 0.9393333333333334\n",
            "Test2 score: 0.9406666666666667\n",
            "LogisticRegression2|Raw PowerTransformer_std|PowerTransformer|\n",
            "\n",
            "best estimate parameters {'C': 0.1401627426259323, 'intercept_scaling': 0.4527914682926826, 'max_iter': 83, 'solver': 'sag', 'tol': 0.14255592915898774}\n",
            "Train score: 0.9402857142857143\n",
            "Test score: 0.9393333333333334\n",
            "Test2 score: 0.9406666666666667\n",
            "LogisticRegression2|Raw QuantileTransformer_u|\n",
            "\n",
            "best estimate parameters {'C': 0.44956187769672573, 'intercept_scaling': 0.10711312691848573, 'max_iter': 43, 'solver': 'newton-cg', 'tol': 0.29068544871041957}\n",
            "Train score: 0.9402857142857143\n",
            "Test score: 0.9393333333333334\n",
            "Test2 score: 0.9406666666666667\n",
            "LogisticRegression2|Raw QuantileTransformer_n|\n",
            "\n",
            "best estimate parameters {'C': 0.42405112870787, 'intercept_scaling': 0.45650320806210254, 'max_iter': 22, 'solver': 'newton-cg', 'tol': 0.7770582642932828}\n",
            "Train score: 0.9402857142857143\n",
            "Test2 score: 0.9406666666666667\n",
            "Test score: 0.9393333333333334\n",
            "LogisticRegression2|Raw QuantileTransformer_u|QuantileTransformer_n|\n",
            "\n",
            "best estimate parameters {'learning_rate': 1.2188404253248963, 'n_estimators': 106}\n",
            "Train score: 0.9428571428571428\n",
            "Test score: 0.9393333333333334\n",
            "Test2 score: 0.9453333333333334\n",
            "AdaBoostClassifier|Raw PowerTransformer_std|\n",
            "\n",
            "best estimate parameters {'learning_rate': 1.2042462880626215, 'n_estimators': 112}\n",
            "Train score: 0.9431428571428572\n",
            "Test score: 0.9406666666666667\n",
            "Test2 score: 0.9453333333333334\n",
            "AdaBoostClassifier|Raw PowerTransformer|\n",
            "\n",
            "best estimate parameters {'learning_rate': 1.0703770934628054, 'n_estimators': 131}\n",
            "Train score: 0.9434285714285714\n",
            "Test score: 0.94\n",
            "Test2 score: 0.946\n",
            "AdaBoostClassifier|Raw PowerTransformer_std|PowerTransformer|\n",
            "\n",
            "best estimate parameters {'learning_rate': 1.0836519121869224, 'n_estimators': 86}\n",
            "Train score: 0.9414285714285714\n",
            "Test score: 0.9393333333333334\n",
            "Test2 score: 0.9426666666666667\n",
            "AdaBoostClassifier|Raw QuantileTransformer_u|\n",
            "\n",
            "best estimate parameters {'learning_rate': 1.1358444521086661, 'n_estimators': 59}\n",
            "Train score: 0.9414285714285714\n",
            "Test score: 0.9393333333333334\n",
            "Test2 score: 0.9426666666666667\n",
            "AdaBoostClassifier|Raw QuantileTransformer_n|\n",
            "\n",
            "best estimate parameters {'learning_rate': 1.7126862369870828, 'n_estimators': 71}\n",
            "Train score: 0.9428571428571428\n",
            "Test score: 0.938\n",
            "Test2 score: 0.944\n",
            "AdaBoostClassifier|Raw QuantileTransformer_u|QuantileTransformer_n|\n",
            "\n"
          ],
          "name": "stdout"
        },
        {
          "output_type": "stream",
          "text": [
            "/usr/local/lib/python3.6/dist-packages/sklearn/ensemble/forest.py:246: FutureWarning: The default value of n_estimators will change from 10 in version 0.20 to 100 in 0.22.\n",
            "  \"10 in version 0.20 to 100 in 0.22.\", FutureWarning)\n"
          ],
          "name": "stderr"
        },
        {
          "output_type": "stream",
          "text": [
            "Train score: 0.9891428571428571\n",
            "Test score: 0.9386666666666666\n",
            "Test2 score: 0.9706666666666667\n",
            "RandomForestClassifier|PCA PowerTransformer_std|\n",
            "\n"
          ],
          "name": "stdout"
        },
        {
          "output_type": "stream",
          "text": [
            "/usr/local/lib/python3.6/dist-packages/sklearn/ensemble/forest.py:246: FutureWarning: The default value of n_estimators will change from 10 in version 0.20 to 100 in 0.22.\n",
            "  \"10 in version 0.20 to 100 in 0.22.\", FutureWarning)\n"
          ],
          "name": "stderr"
        },
        {
          "output_type": "stream",
          "text": [
            "RandomForestClassifier|PCA PowerTransformer|\n",
            "\n"
          ],
          "name": "stdout"
        },
        {
          "output_type": "stream",
          "text": [
            "/usr/local/lib/python3.6/dist-packages/sklearn/ensemble/forest.py:246: FutureWarning: The default value of n_estimators will change from 10 in version 0.20 to 100 in 0.22.\n",
            "  \"10 in version 0.20 to 100 in 0.22.\", FutureWarning)\n"
          ],
          "name": "stderr"
        },
        {
          "output_type": "stream",
          "text": [
            "Train score: 0.9888571428571429\n",
            "Test score: 0.936\n",
            "Test2 score: 0.97\n",
            "RandomForestClassifier|PCA PowerTransformer_std|PowerTransformer|\n",
            "\n"
          ],
          "name": "stdout"
        },
        {
          "output_type": "stream",
          "text": [
            "/usr/local/lib/python3.6/dist-packages/sklearn/ensemble/forest.py:246: FutureWarning: The default value of n_estimators will change from 10 in version 0.20 to 100 in 0.22.\n",
            "  \"10 in version 0.20 to 100 in 0.22.\", FutureWarning)\n"
          ],
          "name": "stderr"
        },
        {
          "output_type": "stream",
          "text": [
            "Train score: 0.9871428571428571\n",
            "Test score: 0.938\n",
            "Test2 score: 0.9706666666666667\n",
            "RandomForestClassifier|PCA QuantileTransformer_u|\n",
            "\n"
          ],
          "name": "stdout"
        },
        {
          "output_type": "stream",
          "text": [
            "/usr/local/lib/python3.6/dist-packages/sklearn/ensemble/forest.py:246: FutureWarning: The default value of n_estimators will change from 10 in version 0.20 to 100 in 0.22.\n",
            "  \"10 in version 0.20 to 100 in 0.22.\", FutureWarning)\n"
          ],
          "name": "stderr"
        },
        {
          "output_type": "stream",
          "text": [
            "Train score: 0.9882857142857143\n",
            "Test score: 0.94\n",
            "Test2 score: 0.9713333333333334\n",
            "RandomForestClassifier|PCA QuantileTransformer_n|\n",
            "\n"
          ],
          "name": "stdout"
        },
        {
          "output_type": "stream",
          "text": [
            "/usr/local/lib/python3.6/dist-packages/sklearn/ensemble/forest.py:246: FutureWarning: The default value of n_estimators will change from 10 in version 0.20 to 100 in 0.22.\n",
            "  \"10 in version 0.20 to 100 in 0.22.\", FutureWarning)\n"
          ],
          "name": "stderr"
        },
        {
          "output_type": "stream",
          "text": [
            "Train score: 0.9871428571428571\n",
            "Test score: 0.9386666666666666\n",
            "Test2 score: 0.9706666666666667\n",
            "RandomForestClassifier|PCA QuantileTransformer_u|QuantileTransformer_n|\n",
            "\n",
            "Train score: 0.9485714285714286\n",
            "Test score: 0.938\n",
            "Test2 score: 0.946\n",
            "GradientBoostingClassifier|PCA PowerTransformer_std|\n",
            "\n",
            "GradientBoostingClassifier|PCA PowerTransformer|\n",
            "\n",
            "Train score: 0.9471428571428572\n",
            "Test score: 0.9366666666666666\n",
            "Test2 score: 0.9446666666666667\n",
            "GradientBoostingClassifier|PCA PowerTransformer_std|PowerTransformer|\n",
            "\n",
            "Train score: 0.9491428571428572\n",
            "Test score: 0.9393333333333334\n",
            "Test2 score: 0.9466666666666667\n",
            "GradientBoostingClassifier|PCA QuantileTransformer_u|\n",
            "\n",
            "Train score: 0.9474285714285714\n",
            "Test score: 0.938\n",
            "Test2 score: 0.9446666666666667\n",
            "GradientBoostingClassifier|PCA QuantileTransformer_n|\n",
            "\n",
            "Train score: 0.9474285714285714\n",
            "Test score: 0.9393333333333334\n",
            "Test2 score: 0.944\n",
            "GradientBoostingClassifier|PCA QuantileTransformer_u|QuantileTransformer_n|\n",
            "\n",
            "best estimate parameters {'C': 0.1319551143238108, 'class_weight': '', 'fit_intercept': True, 'intercept_scaling': 0.11137824763594495, 'loss': 'hinge', 'max_iter': 63, 'tol': 0.2836027039882849}\n",
            "Train score: 0.9402857142857143\n",
            "Test score: 0.9393333333333334\n",
            "Test2 score: 0.9406666666666667\n",
            "LinearSVC|PCA PowerTransformer_std|\n",
            "\n",
            "best estimate parameters {'C': 0.4891042856199279, 'class_weight': '', 'fit_intercept': True, 'intercept_scaling': 0.9795050995541361, 'loss': 'hinge', 'max_iter': 59, 'tol': 0.6796130001249628}\n"
          ],
          "name": "stdout"
        },
        {
          "output_type": "stream",
          "text": [
            "/usr/local/lib/python3.6/dist-packages/sklearn/svm/base.py:931: ConvergenceWarning: Liblinear failed to converge, increase the number of iterations.\n",
            "  \"the number of iterations.\", ConvergenceWarning)\n"
          ],
          "name": "stderr"
        },
        {
          "output_type": "stream",
          "text": [
            "LinearSVC|PCA PowerTransformer|\n",
            "\n",
            "best estimate parameters {'C': 0.7090449300953342, 'class_weight': 'balanced', 'fit_intercept': False, 'intercept_scaling': 0.4387665797111633, 'loss': 'squared_hinge', 'max_iter': 74, 'tol': 0.5204298201480696}\n"
          ],
          "name": "stdout"
        },
        {
          "output_type": "stream",
          "text": [
            "/usr/local/lib/python3.6/dist-packages/sklearn/svm/base.py:931: ConvergenceWarning: Liblinear failed to converge, increase the number of iterations.\n",
            "  \"the number of iterations.\", ConvergenceWarning)\n"
          ],
          "name": "stderr"
        },
        {
          "output_type": "stream",
          "text": [
            "Train score: 0.9402857142857143\n",
            "Test score: 0.9393333333333334\n",
            "Test2 score: 0.9406666666666667\n",
            "LinearSVC|PCA PowerTransformer_std|PowerTransformer|\n",
            "\n",
            "best estimate parameters {'C': 0.059556336716874325, 'class_weight': '', 'fit_intercept': False, 'intercept_scaling': 0.6448636004379484, 'loss': 'squared_hinge', 'max_iter': 78, 'tol': 0.8152553458792184}\n",
            "Train score: 0.9402857142857143\n",
            "Test score: 0.9393333333333334\n",
            "Test2 score: 0.9406666666666667\n",
            "LinearSVC|PCA QuantileTransformer_u|\n",
            "\n",
            "best estimate parameters {'C': 0.532245790340536, 'class_weight': 'balanced', 'fit_intercept': True, 'intercept_scaling': 0.2208464782975919, 'loss': 'squared_hinge', 'max_iter': 4, 'tol': 0.21147974994349225}\n"
          ],
          "name": "stdout"
        },
        {
          "output_type": "stream",
          "text": [
            "/usr/local/lib/python3.6/dist-packages/sklearn/svm/base.py:931: ConvergenceWarning: Liblinear failed to converge, increase the number of iterations.\n",
            "  \"the number of iterations.\", ConvergenceWarning)\n"
          ],
          "name": "stderr"
        },
        {
          "output_type": "stream",
          "text": [
            "Train score: 0.9137142857142857\n",
            "Test score: 0.9173333333333333\n",
            "Test2 score: 0.918\n",
            "LinearSVC|PCA QuantileTransformer_n|\n",
            "\n",
            "best estimate parameters {'C': 0.9986144397784276, 'class_weight': '', 'fit_intercept': True, 'intercept_scaling': 0.6848297481620492, 'loss': 'hinge', 'max_iter': 12, 'tol': 0.8519931859422311}\n"
          ],
          "name": "stdout"
        },
        {
          "output_type": "stream",
          "text": [
            "/usr/local/lib/python3.6/dist-packages/sklearn/svm/base.py:931: ConvergenceWarning: Liblinear failed to converge, increase the number of iterations.\n",
            "  \"the number of iterations.\", ConvergenceWarning)\n"
          ],
          "name": "stderr"
        },
        {
          "output_type": "stream",
          "text": [
            "LinearSVC|PCA QuantileTransformer_u|QuantileTransformer_n|\n",
            "\n",
            "best estimate parameters {'learning_rate': 1.0612899289154218, 'n_estimators': 31}\n",
            "Train score: 0.9397142857142857\n",
            "Test score: 0.9353333333333333\n",
            "Test2 score: 0.938\n",
            "AdaBoostClassifier|PCA PowerTransformer_std|\n",
            "\n",
            "best estimate parameters {'learning_rate': 2.2199142360800215, 'n_estimators': 256}\n",
            "AdaBoostClassifier|PCA PowerTransformer|\n",
            "\n",
            "best estimate parameters {'learning_rate': 1.3423617146430704, 'n_estimators': 3}\n",
            "Train score: 0.916\n",
            "Test score: 0.9146666666666666\n",
            "Test2 score: 0.914\n",
            "AdaBoostClassifier|PCA PowerTransformer_std|PowerTransformer|\n",
            "\n",
            "best estimate parameters {'learning_rate': 1.3885771549660122, 'n_estimators': 92}\n",
            "Train score: 0.9434285714285714\n",
            "Test score: 0.938\n",
            "Test2 score: 0.942\n",
            "AdaBoostClassifier|PCA QuantileTransformer_u|\n",
            "\n",
            "best estimate parameters {'learning_rate': 2.0602471485740974, 'n_estimators': 267}\n",
            "Train score: 0.9402857142857143\n",
            "Test score: 0.9393333333333334\n",
            "Test2 score: 0.9406666666666667\n",
            "AdaBoostClassifier|PCA QuantileTransformer_n|\n",
            "\n",
            "best estimate parameters {'learning_rate': 1.0609785438854282, 'n_estimators': 9}\n",
            "Train score: 0.9402857142857143\n",
            "Test score: 0.9393333333333334\n",
            "Test2 score: 0.9406666666666667\n",
            "AdaBoostClassifier|PCA QuantileTransformer_u|QuantileTransformer_n|\n",
            "\n"
          ],
          "name": "stdout"
        }
      ]
    },
    {
      "metadata": {
        "id": "sMZ6tm1BS8Bb",
        "colab_type": "code",
        "outputId": "61101d5b-fce4-4df3-cb86-3d7213596e1e",
        "colab": {
          "base_uri": "https://localhost:8080/",
          "height": 33
        }
      },
      "cell_type": "code",
      "source": [
        "clfs32 = clfs3.copy()\n",
        "clfs_score32 = clfs_score3.copy()\n",
        "\n",
        "joblib.dump(clfs32, 'clfs624.pkl', compress=True)\n",
        "joblib.dump(clfs_score32, 'clfs_score624.pkl', compress=True)"
      ],
      "execution_count": 25,
      "outputs": [
        {
          "output_type": "execute_result",
          "data": {
            "text/plain": [
              "['clfs_score624.pkl']"
            ]
          },
          "metadata": {
            "tags": []
          },
          "execution_count": 25
        }
      ]
    },
    {
      "metadata": {
        "id": "jGRPZwvLZbXX",
        "colab_type": "code",
        "outputId": "c943de8e-e751-45df-dbeb-e4049d702218",
        "colab": {
          "base_uri": "https://localhost:8080/",
          "height": 485
        }
      },
      "cell_type": "code",
      "source": [
        "folder_id = '1wRbAVDSYm-NJsRMUqkRsreELnGaNM88R'\n",
        "file = drive.CreateFile({'mimeType': 'content/clfs624.pkl','parents': [{'kind': 'drive#fileLink', 'id':folder_id}]})\n",
        "file.SetContentFile('clfs624.pkl')\n",
        "file.Upload() \n",
        "file = drive.CreateFile({'mimeType': 'content/clfs_score624.pkl','parents': [{'kind': 'drive#fileLink', 'id':folder_id}]})\n",
        "file.SetContentFile('clfs_score624.pkl')\n",
        "file.Upload() "
      ],
      "execution_count": 29,
      "outputs": [
        {
          "output_type": "stream",
          "text": [
            "WARNING:googleapiclient.discovery_cache:file_cache is unavailable when using oauth2client >= 4.0.0\n",
            "Traceback (most recent call last):\n",
            "  File \"/usr/local/lib/python3.6/dist-packages/googleapiclient/discovery_cache/__init__.py\", line 36, in autodetect\n",
            "    from google.appengine.api import memcache\n",
            "ModuleNotFoundError: No module named 'google.appengine'\n",
            "\n",
            "During handling of the above exception, another exception occurred:\n",
            "\n",
            "Traceback (most recent call last):\n",
            "  File \"/usr/local/lib/python3.6/dist-packages/googleapiclient/discovery_cache/file_cache.py\", line 33, in <module>\n",
            "    from oauth2client.contrib.locked_file import LockedFile\n",
            "ModuleNotFoundError: No module named 'oauth2client.contrib.locked_file'\n",
            "\n",
            "During handling of the above exception, another exception occurred:\n",
            "\n",
            "Traceback (most recent call last):\n",
            "  File \"/usr/local/lib/python3.6/dist-packages/googleapiclient/discovery_cache/file_cache.py\", line 37, in <module>\n",
            "    from oauth2client.locked_file import LockedFile\n",
            "ModuleNotFoundError: No module named 'oauth2client.locked_file'\n",
            "\n",
            "During handling of the above exception, another exception occurred:\n",
            "\n",
            "Traceback (most recent call last):\n",
            "  File \"/usr/local/lib/python3.6/dist-packages/googleapiclient/discovery_cache/__init__.py\", line 41, in autodetect\n",
            "    from . import file_cache\n",
            "  File \"/usr/local/lib/python3.6/dist-packages/googleapiclient/discovery_cache/file_cache.py\", line 41, in <module>\n",
            "    'file_cache is unavailable when using oauth2client >= 4.0.0')\n",
            "ImportError: file_cache is unavailable when using oauth2client >= 4.0.0\n"
          ],
          "name": "stderr"
        }
      ]
    },
    {
      "metadata": {
        "id": "5X16psxn6gX1",
        "colab_type": "code",
        "colab": {}
      },
      "cell_type": "code",
      "source": [
        ""
      ],
      "execution_count": 0,
      "outputs": []
    },
    {
      "metadata": {
        "colab_type": "code",
        "id": "nE1oIu7c8H1D",
        "colab": {}
      },
      "cell_type": "code",
      "source": [
        "#clfs3 = joblib.load('clfs624.pkl')\n",
        "#clfs_score3 = joblib.load('clfs_score624.pkl')"
      ],
      "execution_count": 0,
      "outputs": []
    }
  ]
}