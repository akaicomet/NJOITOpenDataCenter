{
  "nbformat": 4,
  "nbformat_minor": 0,
  "metadata": {
    "colab": {
      "name": "NJOITOpenDataCenter-Pension-Record-ModelBuilding-2.ipynb",
      "version": "0.3.2",
      "provenance": [],
      "include_colab_link": true
    },
    "kernelspec": {
      "name": "python3",
      "display_name": "Python 3"
    },
    "accelerator": "TPU"
  },
  "cells": [
    {
      "cell_type": "markdown",
      "metadata": {
        "id": "view-in-github",
        "colab_type": "text"
      },
      "source": [
        "<a href=\"https://colab.research.google.com/github/akaicomet/NJOITOpenDataCenter-Pension-Record/blob/master/NJOITOpenDataCenter_Pension_Record_ModelBuilding_2.ipynb\" target=\"_parent\"><img src=\"https://colab.research.google.com/assets/colab-badge.svg\" alt=\"Open In Colab\"/></a>"
      ]
    },
    {
      "metadata": {
        "id": "xpYZu3ckkCEn",
        "colab_type": "code",
        "outputId": "a6dbae5c-8c69-43da-f33a-17ab5ea8f2e5",
        "colab": {
          "base_uri": "https://localhost:8080/",
          "height": 1493
        }
      },
      "cell_type": "code",
      "source": [
        "!pip install pandas\n",
        "!pip install tqdm\n",
        "!pip install scikit-learn\n",
        "!pip install sodapy\n",
        "!pip install matplotlib\n",
        "!pip install hyperopt\n",
        "!pip install bayesian-optimization\n",
        "!pip install tbvaccine \n",
        "!pip install MulticoreTSNE\n",
        "!pip install -U -q PyDrive"
      ],
      "execution_count": 1,
      "outputs": [
        {
          "output_type": "stream",
          "text": [
            "Requirement already satisfied: pandas in /usr/local/lib/python3.6/dist-packages (0.22.0)\n",
            "Requirement already satisfied: pytz>=2011k in /usr/local/lib/python3.6/dist-packages (from pandas) (2018.9)\n",
            "Requirement already satisfied: numpy>=1.9.0 in /usr/local/lib/python3.6/dist-packages (from pandas) (1.14.6)\n",
            "Requirement already satisfied: python-dateutil>=2 in /usr/local/lib/python3.6/dist-packages (from pandas) (2.5.3)\n",
            "Requirement already satisfied: six>=1.5 in /usr/local/lib/python3.6/dist-packages (from python-dateutil>=2->pandas) (1.11.0)\n",
            "Requirement already satisfied: tqdm in /usr/local/lib/python3.6/dist-packages (4.28.1)\n",
            "Requirement already satisfied: scikit-learn in /usr/local/lib/python3.6/dist-packages (0.20.2)\n",
            "Requirement already satisfied: scipy>=0.13.3 in /usr/local/lib/python3.6/dist-packages (from scikit-learn) (1.1.0)\n",
            "Requirement already satisfied: numpy>=1.8.2 in /usr/local/lib/python3.6/dist-packages (from scikit-learn) (1.14.6)\n",
            "Collecting sodapy\n",
            "  Downloading https://files.pythonhosted.org/packages/25/63/1915146aa7c453289cdfe181df30d4009ef3518a87b5c873269582c20c7b/sodapy-1.5.0-py2.py3-none-any.whl\n",
            "Collecting requests>=2.20.0 (from sodapy)\n",
            "\u001b[?25l  Downloading https://files.pythonhosted.org/packages/7d/e3/20f3d364d6c8e5d2353c72a67778eb189176f08e873c9900e10c0287b84b/requests-2.21.0-py2.py3-none-any.whl (57kB)\n",
            "\u001b[K    100% |████████████████████████████████| 61kB 5.5MB/s \n",
            "\u001b[?25hCollecting future>=0.17.1 (from sodapy)\n",
            "\u001b[?25l  Downloading https://files.pythonhosted.org/packages/90/52/e20466b85000a181e1e144fd8305caf2cf475e2f9674e797b222f8105f5f/future-0.17.1.tar.gz (829kB)\n",
            "\u001b[K    100% |████████████████████████████████| 829kB 11.5MB/s \n",
            "\u001b[?25hRequirement already satisfied: idna<2.9,>=2.5 in /usr/local/lib/python3.6/dist-packages (from requests>=2.20.0->sodapy) (2.6)\n",
            "Requirement already satisfied: chardet<3.1.0,>=3.0.2 in /usr/local/lib/python3.6/dist-packages (from requests>=2.20.0->sodapy) (3.0.4)\n",
            "Requirement already satisfied: certifi>=2017.4.17 in /usr/local/lib/python3.6/dist-packages (from requests>=2.20.0->sodapy) (2018.11.29)\n",
            "Requirement already satisfied: urllib3<1.25,>=1.21.1 in /usr/local/lib/python3.6/dist-packages (from requests>=2.20.0->sodapy) (1.22)\n",
            "Building wheels for collected packages: future\n",
            "  Building wheel for future (setup.py) ... \u001b[?25ldone\n",
            "\u001b[?25h  Stored in directory: /root/.cache/pip/wheels/0c/61/d2/d6b7317325828fbb39ee6ad559dbe4664d0896da4721bf379e\n",
            "Successfully built future\n",
            "\u001b[31mspacy 2.0.18 has requirement numpy>=1.15.0, but you'll have numpy 1.14.6 which is incompatible.\u001b[0m\n",
            "\u001b[31mgoogle-colab 0.0.1a1 has requirement requests~=2.18.0, but you'll have requests 2.21.0 which is incompatible.\u001b[0m\n",
            "\u001b[31mfeaturetools 0.4.1 has requirement pandas>=0.23.0, but you'll have pandas 0.22.0 which is incompatible.\u001b[0m\n",
            "\u001b[31mcufflinks 0.14.6 has requirement plotly>=3.0.0, but you'll have plotly 1.12.12 which is incompatible.\u001b[0m\n",
            "Installing collected packages: requests, future, sodapy\n",
            "  Found existing installation: requests 2.18.4\n",
            "    Uninstalling requests-2.18.4:\n",
            "      Successfully uninstalled requests-2.18.4\n",
            "  Found existing installation: future 0.16.0\n",
            "    Uninstalling future-0.16.0:\n",
            "      Successfully uninstalled future-0.16.0\n",
            "Successfully installed future-0.17.1 requests-2.21.0 sodapy-1.5.0\n"
          ],
          "name": "stdout"
        },
        {
          "output_type": "display_data",
          "data": {
            "application/vnd.colab-display-data+json": {
              "pip_warning": {
                "packages": [
                  "requests"
                ]
              }
            }
          },
          "metadata": {
            "tags": []
          }
        },
        {
          "output_type": "stream",
          "text": [
            "Requirement already satisfied: matplotlib in /usr/local/lib/python3.6/dist-packages (3.0.2)\n",
            "Requirement already satisfied: cycler>=0.10 in /usr/local/lib/python3.6/dist-packages (from matplotlib) (0.10.0)\n",
            "Requirement already satisfied: pyparsing!=2.0.4,!=2.1.2,!=2.1.6,>=2.0.1 in /usr/local/lib/python3.6/dist-packages (from matplotlib) (2.3.1)\n",
            "Requirement already satisfied: python-dateutil>=2.1 in /usr/local/lib/python3.6/dist-packages (from matplotlib) (2.5.3)\n",
            "Requirement already satisfied: kiwisolver>=1.0.1 in /usr/local/lib/python3.6/dist-packages (from matplotlib) (1.0.1)\n",
            "Requirement already satisfied: numpy>=1.10.0 in /usr/local/lib/python3.6/dist-packages (from matplotlib) (1.14.6)\n",
            "Requirement already satisfied: six in /usr/local/lib/python3.6/dist-packages (from cycler>=0.10->matplotlib) (1.11.0)\n",
            "Requirement already satisfied: setuptools in /usr/local/lib/python3.6/dist-packages (from kiwisolver>=1.0.1->matplotlib) (40.7.0)\n",
            "Requirement already satisfied: hyperopt in /usr/local/lib/python3.6/dist-packages (0.1.1)\n",
            "Requirement already satisfied: future in /usr/local/lib/python3.6/dist-packages (from hyperopt) (0.17.1)\n",
            "Requirement already satisfied: scipy in /usr/local/lib/python3.6/dist-packages (from hyperopt) (1.1.0)\n",
            "Requirement already satisfied: numpy in /usr/local/lib/python3.6/dist-packages (from hyperopt) (1.14.6)\n",
            "Requirement already satisfied: pymongo in /usr/local/lib/python3.6/dist-packages (from hyperopt) (3.7.2)\n",
            "Requirement already satisfied: networkx in /usr/local/lib/python3.6/dist-packages (from hyperopt) (2.2)\n",
            "Requirement already satisfied: six in /usr/local/lib/python3.6/dist-packages (from hyperopt) (1.11.0)\n",
            "Requirement already satisfied: decorator>=4.3.0 in /usr/local/lib/python3.6/dist-packages (from networkx->hyperopt) (4.3.2)\n",
            "Collecting bayesian-optimization\n",
            "  Downloading https://files.pythonhosted.org/packages/ad/fd/a53b65d5cff76d1f2783ac8172eb0adb670ec86f4955e7f8f3ef21d71e3a/bayesian-optimization-1.0.0.tar.gz\n",
            "Requirement already satisfied: numpy>=1.9.0 in /usr/local/lib/python3.6/dist-packages (from bayesian-optimization) (1.14.6)\n",
            "Requirement already satisfied: scipy>=0.14.0 in /usr/local/lib/python3.6/dist-packages (from bayesian-optimization) (1.1.0)\n",
            "Requirement already satisfied: scikit-learn>=0.18.0 in /usr/local/lib/python3.6/dist-packages (from bayesian-optimization) (0.20.2)\n",
            "Building wheels for collected packages: bayesian-optimization\n",
            "  Building wheel for bayesian-optimization (setup.py) ... \u001b[?25ldone\n",
            "\u001b[?25h  Stored in directory: /root/.cache/pip/wheels/4b/60/a2/6eec4adc73341c1a2a653022b99ff8e1cb090684dba83be683\n",
            "Successfully built bayesian-optimization\n",
            "Installing collected packages: bayesian-optimization\n",
            "Successfully installed bayesian-optimization-1.0.0\n",
            "Collecting tbvaccine\n",
            "  Downloading https://files.pythonhosted.org/packages/b1/fb/84c930393fb23cf5fef93629df6370c51639306f0f403b9628f1d44b3b26/tbvaccine-0.3.1-py2.py3-none-any.whl\n",
            "Requirement already satisfied: pygments in /usr/local/lib/python3.6/dist-packages (from tbvaccine) (2.1.3)\n",
            "Installing collected packages: tbvaccine\n",
            "Successfully installed tbvaccine-0.3.1\n",
            "Collecting MulticoreTSNE\n",
            "  Downloading https://files.pythonhosted.org/packages/2d/e8/2afa896fa4eebfa1d0d0ba2673fddac45582ec0f06b2bdda88108ced5425/MulticoreTSNE-0.1.tar.gz\n",
            "Requirement already satisfied: numpy in /usr/local/lib/python3.6/dist-packages (from MulticoreTSNE) (1.14.6)\n",
            "Requirement already satisfied: cffi in /usr/local/lib/python3.6/dist-packages (from MulticoreTSNE) (1.11.5)\n",
            "Requirement already satisfied: pycparser in /usr/local/lib/python3.6/dist-packages (from cffi->MulticoreTSNE) (2.19)\n",
            "Building wheels for collected packages: MulticoreTSNE\n",
            "  Building wheel for MulticoreTSNE (setup.py) ... \u001b[?25ldone\n",
            "\u001b[?25h  Stored in directory: /root/.cache/pip/wheels/27/59/53/3b52ee63add3692254c30d687fa4dff4d128d0557861fb028e\n",
            "Successfully built MulticoreTSNE\n",
            "Installing collected packages: MulticoreTSNE\n",
            "Successfully installed MulticoreTSNE-0.1\n",
            "\u001b[K    100% |████████████████████████████████| 993kB 18.4MB/s \n",
            "\u001b[?25h  Building wheel for PyDrive (setup.py) ... \u001b[?25ldone\n",
            "\u001b[?25h"
          ],
          "name": "stdout"
        }
      ]
    },
    {
      "metadata": {
        "id": "JPRrqTJr11-4",
        "colab_type": "text"
      },
      "cell_type": "markdown",
      "source": [
        "#1. Copy python files from  GItHub repository to local"
      ]
    },
    {
      "metadata": {
        "id": "4yirMDyHy6HF",
        "colab_type": "code",
        "colab": {
          "base_uri": "https://localhost:8080/",
          "height": 435
        },
        "outputId": "4b0f7089-0da9-4c52-e627-99b5b9d9207a"
      },
      "cell_type": "code",
      "source": [
        "!git clone https://github.com/akaicomet/NJOITOpenDataCenter.git\n",
        "!git clone https://github.com/akaicomet/akaicomet_Utility.git\n",
        "!git clone https://github.com/akaicomet/akaicomet_Chart.git\n",
        "!git clone https://github.com/akaicomet/akaicomet_ML.git"
      ],
      "execution_count": 2,
      "outputs": [
        {
          "output_type": "stream",
          "text": [
            "Cloning into 'NJOITOpenDataCenter'...\n",
            "remote: Enumerating objects: 90, done.\u001b[K\n",
            "remote: Counting objects: 100% (90/90), done.\u001b[K\n",
            "remote: Compressing objects: 100% (90/90), done.\u001b[K\n",
            "remote: Total 90 (delta 50), reused 0 (delta 0), pack-reused 0\u001b[K\n",
            "Unpacking objects: 100% (90/90), done.\n",
            "Cloning into 'akaicomet_Utility'...\n",
            "remote: Enumerating objects: 12, done.\u001b[K\n",
            "remote: Counting objects: 100% (12/12), done.\u001b[K\n",
            "remote: Compressing objects: 100% (8/8), done.\u001b[K\n",
            "remote: Total 12 (delta 3), reused 0 (delta 0), pack-reused 0\u001b[K\n",
            "Unpacking objects: 100% (12/12), done.\n",
            "Cloning into 'akaicomet_Chart'...\n",
            "remote: Enumerating objects: 58, done.\u001b[K\n",
            "remote: Counting objects: 100% (58/58), done.\u001b[K\n",
            "remote: Compressing objects: 100% (46/46), done.\u001b[K\n",
            "remote: Total 58 (delta 16), reused 0 (delta 0), pack-reused 0\u001b[K\n",
            "Unpacking objects: 100% (58/58), done.\n",
            "Cloning into 'akaicomet_ML'...\n",
            "remote: Enumerating objects: 23, done.\u001b[K\n",
            "remote: Counting objects: 100% (23/23), done.\u001b[K\n",
            "remote: Compressing objects: 100% (23/23), done.\u001b[K\n",
            "remote: Total 174 (delta 12), reused 0 (delta 0), pack-reused 151\u001b[K\n",
            "Receiving objects: 100% (174/174), 54.56 KiB | 3.03 MiB/s, done.\n",
            "Resolving deltas: 100% (72/72), done.\n"
          ],
          "name": "stdout"
        }
      ]
    },
    {
      "metadata": {
        "id": "R80YSeU836YS",
        "colab_type": "text"
      },
      "cell_type": "markdown",
      "source": [
        "#2. Run .py files in local"
      ]
    },
    {
      "metadata": {
        "id": "dl8bTQ7Ms7hJ",
        "colab_type": "code",
        "colab": {}
      },
      "cell_type": "code",
      "source": [
        "%run -i /content/akaicomet_Utility/ErrorHandling.py\n",
        "\n",
        "%run -i /content/NJOITOpenDataCenter/YourMoneyActivePensionMembers.py \n",
        "%run -i /content/NJOITOpenDataCenter/YourMoneyRetiredPensionMembers.py\n",
        "%run -i /content/NJOITOpenDataCenter/YourMoneyPensionMembersMerge.py\n",
        "\n",
        "%run -i /content/akaicomet_Chart/X-Ray_Scan.py\n",
        "%run -i /content/akaicomet_Chart/akaicomet_Chart.py\n",
        "\n",
        "%run -i /content/akaicomet_ML/ML_Init.py\n",
        "%run -i /content/akaicomet_ML/ML_Auto.py\n",
        "%run -i /content/akaicomet_ML/AutoFeatureEngineering.py\n"
      ],
      "execution_count": 0,
      "outputs": []
    },
    {
      "metadata": {
        "id": "ML9MALdY4Z74",
        "colab_type": "text"
      },
      "cell_type": "markdown",
      "source": [
        "#3. Import libraries"
      ]
    },
    {
      "metadata": {
        "id": "yAmvqv05tHPz",
        "colab_type": "code",
        "colab": {}
      },
      "cell_type": "code",
      "source": [
        "import pandas as pd\n",
        "import numpy as np\n",
        "#import matplotlib.pyplot as plt\n",
        "import random\n",
        "from sodapy import Socrata\n",
        "#from pandas.plotting import scatter_matrix\n",
        "#from datetime import datetime\n",
        "import seaborn as sb\n",
        "from tqdm import tqdm\n",
        "import warnings\n",
        "from textwrap import wrap"
      ],
      "execution_count": 0,
      "outputs": []
    },
    {
      "metadata": {
        "id": "905gCAXlsnlH",
        "colab_type": "code",
        "colab": {}
      },
      "cell_type": "code",
      "source": [
        "from sklearn.externals import joblib\n",
        "from pydrive.auth import GoogleAuth\n",
        "from pydrive.drive import GoogleDrive\n",
        "from google.colab import auth\n",
        "from oauth2client.client import GoogleCredentials\n",
        "\n",
        "auth.authenticate_user()\n",
        "gauth = GoogleAuth()\n",
        "gauth.credentials = GoogleCredentials.get_application_default()\n",
        "drive = GoogleDrive(gauth)\n"
      ],
      "execution_count": 0,
      "outputs": []
    },
    {
      "metadata": {
        "id": "bshpCLEA8PcF",
        "colab_type": "text"
      },
      "cell_type": "markdown",
      "source": [
        "#4. YourMoney and the NJOIT Open Data Center \n",
        "##4.1 YourMoney Active Pension Members API\n",
        "\n",
        "**Pension member data load from NJOIT** "
      ]
    },
    {
      "metadata": {
        "id": "jEJfm4bqtKfJ",
        "colab_type": "code",
        "colab": {
          "base_uri": "https://localhost:8080/",
          "height": 33
        },
        "outputId": "e5e7436b-c3e6-4bb8-db63-e12fdb2c728e"
      },
      "cell_type": "code",
      "source": [
        "client = Socrata(\"data.nj.gov\", None)\n",
        "results = client.get(\"45bd-gwii\", limit=100000000)#100000000"
      ],
      "execution_count": 6,
      "outputs": [
        {
          "output_type": "stream",
          "text": [
            "WARNING:root:Requests made without an app_token will be subject to strict throttling limits.\n"
          ],
          "name": "stderr"
        }
      ]
    },
    {
      "metadata": {
        "id": "plM06Z5vBlAh",
        "colab_type": "text"
      },
      "cell_type": "markdown",
      "source": [
        "**Data Cleansing and Preparation for YourMoney Active Pension Members data**"
      ]
    },
    {
      "metadata": {
        "id": "_X0n-m4XtWdT",
        "colab_type": "code",
        "colab": {}
      },
      "cell_type": "code",
      "source": [
        "ActivePension_df = ActivePensionDataWrangler(results)"
      ],
      "execution_count": 0,
      "outputs": []
    },
    {
      "metadata": {
        "id": "AvLEEgGb9pbg",
        "colab_type": "text"
      },
      "cell_type": "markdown",
      "source": [
        "##4.2 YourMoney Retired Pension Members API\n",
        "**Pension payment member data load from NJOIT**"
      ]
    },
    {
      "metadata": {
        "id": "Pmixfdlx3a5H",
        "colab_type": "code",
        "colab": {}
      },
      "cell_type": "code",
      "source": [
        "results = client.get(\"8up4-62p6\",   limit=100000000)"
      ],
      "execution_count": 0,
      "outputs": []
    },
    {
      "metadata": {
        "id": "ysBme-6pAl4G",
        "colab_type": "text"
      },
      "cell_type": "markdown",
      "source": [
        "**Data Cleansing and Preparation for YourMoney Retired Pension data**"
      ]
    },
    {
      "metadata": {
        "id": "VMnmExggP835",
        "colab_type": "code",
        "colab": {}
      },
      "cell_type": "code",
      "source": [
        "RetiredPension_df_grped = RetiredPensionMembersDataWrangler(results)"
      ],
      "execution_count": 0,
      "outputs": []
    },
    {
      "metadata": {
        "id": "2RMSdT2fCMvo",
        "colab_type": "text"
      },
      "cell_type": "markdown",
      "source": [
        "**Merge YourMoney Active Pension Members data and YourMoney Retired Pension data**"
      ]
    },
    {
      "metadata": {
        "id": "gDDk7d-CV8jm",
        "colab_type": "code",
        "colab": {}
      },
      "cell_type": "code",
      "source": [
        "ActivePension_df = PensionMembersMerge(ActivePension_df,RetiredPension_df_grped)\n",
        "del results"
      ],
      "execution_count": 0,
      "outputs": []
    },
    {
      "metadata": {
        "id": "QKY-9NBXlCSQ",
        "colab_type": "text"
      },
      "cell_type": "markdown",
      "source": [
        "## 5 Recheck  Correlation Variable Validation:"
      ]
    },
    {
      "metadata": {
        "id": "iK84o24evCgM",
        "colab_type": "code",
        "colab": {
          "base_uri": "https://localhost:8080/",
          "height": 336
        },
        "outputId": "501309fb-37a8-4745-9d4c-e8add071c972"
      },
      "cell_type": "code",
      "source": [
        "#x_cols2 = ['_20_year_status',\t'all_employers_salary_amt',\t\t'employer_freq_pensioned', 'total_months_qty',\t'location_freq_pensioned',\t\t'current_employer_salary_rollingamt', \t'service_months_qty',\t'pension_freq_pensioned', 'pension_fund_name_enc', 'pension_group_name_enc' ]\n",
        "x_cols2 = ['_20_year_status','all_employers_salary_amt','employer_freq_pensioned','total_months_qty','location_freq_pensioned','service_months_qty','pension_freq_pensioned','pension_fund_name_enc','pension_group_name_enc' ]\n",
        "ActivePension_df[x_cols2].corr()"
      ],
      "execution_count": 11,
      "outputs": [
        {
          "output_type": "execute_result",
          "data": {
            "text/html": [
              "<div>\n",
              "<style scoped>\n",
              "    .dataframe tbody tr th:only-of-type {\n",
              "        vertical-align: middle;\n",
              "    }\n",
              "\n",
              "    .dataframe tbody tr th {\n",
              "        vertical-align: top;\n",
              "    }\n",
              "\n",
              "    .dataframe thead th {\n",
              "        text-align: right;\n",
              "    }\n",
              "</style>\n",
              "<table border=\"1\" class=\"dataframe\">\n",
              "  <thead>\n",
              "    <tr style=\"text-align: right;\">\n",
              "      <th></th>\n",
              "      <th>_20_year_status</th>\n",
              "      <th>all_employers_salary_amt</th>\n",
              "      <th>employer_freq_pensioned</th>\n",
              "      <th>total_months_qty</th>\n",
              "      <th>location_freq_pensioned</th>\n",
              "      <th>service_months_qty</th>\n",
              "      <th>pension_freq_pensioned</th>\n",
              "      <th>pension_fund_name_enc</th>\n",
              "      <th>pension_group_name_enc</th>\n",
              "    </tr>\n",
              "  </thead>\n",
              "  <tbody>\n",
              "    <tr>\n",
              "      <th>_20_year_status</th>\n",
              "      <td>1.000000</td>\n",
              "      <td>0.295118</td>\n",
              "      <td>-0.074679</td>\n",
              "      <td>0.844411</td>\n",
              "      <td>0.082618</td>\n",
              "      <td>-0.002429</td>\n",
              "      <td>0.091064</td>\n",
              "      <td>-0.238068</td>\n",
              "      <td>-0.113550</td>\n",
              "    </tr>\n",
              "    <tr>\n",
              "      <th>all_employers_salary_amt</th>\n",
              "      <td>0.295118</td>\n",
              "      <td>1.000000</td>\n",
              "      <td>-0.066198</td>\n",
              "      <td>0.395345</td>\n",
              "      <td>-0.030279</td>\n",
              "      <td>-0.027708</td>\n",
              "      <td>-0.439474</td>\n",
              "      <td>0.207998</td>\n",
              "      <td>0.097105</td>\n",
              "    </tr>\n",
              "    <tr>\n",
              "      <th>employer_freq_pensioned</th>\n",
              "      <td>-0.074679</td>\n",
              "      <td>-0.066198</td>\n",
              "      <td>1.000000</td>\n",
              "      <td>-0.065524</td>\n",
              "      <td>0.187599</td>\n",
              "      <td>0.026186</td>\n",
              "      <td>0.040389</td>\n",
              "      <td>0.099662</td>\n",
              "      <td>-0.033238</td>\n",
              "    </tr>\n",
              "    <tr>\n",
              "      <th>total_months_qty</th>\n",
              "      <td>0.844411</td>\n",
              "      <td>0.395345</td>\n",
              "      <td>-0.065524</td>\n",
              "      <td>1.000000</td>\n",
              "      <td>0.067168</td>\n",
              "      <td>0.000102</td>\n",
              "      <td>0.047303</td>\n",
              "      <td>-0.187378</td>\n",
              "      <td>-0.121364</td>\n",
              "    </tr>\n",
              "    <tr>\n",
              "      <th>location_freq_pensioned</th>\n",
              "      <td>0.082618</td>\n",
              "      <td>-0.030279</td>\n",
              "      <td>0.187599</td>\n",
              "      <td>0.067168</td>\n",
              "      <td>1.000000</td>\n",
              "      <td>0.056022</td>\n",
              "      <td>0.308507</td>\n",
              "      <td>0.047458</td>\n",
              "      <td>-0.063150</td>\n",
              "    </tr>\n",
              "    <tr>\n",
              "      <th>service_months_qty</th>\n",
              "      <td>-0.002429</td>\n",
              "      <td>-0.027708</td>\n",
              "      <td>0.026186</td>\n",
              "      <td>0.000102</td>\n",
              "      <td>0.056022</td>\n",
              "      <td>1.000000</td>\n",
              "      <td>0.079330</td>\n",
              "      <td>0.052583</td>\n",
              "      <td>-0.034342</td>\n",
              "    </tr>\n",
              "    <tr>\n",
              "      <th>pension_freq_pensioned</th>\n",
              "      <td>0.091064</td>\n",
              "      <td>-0.439474</td>\n",
              "      <td>0.040389</td>\n",
              "      <td>0.047303</td>\n",
              "      <td>0.308507</td>\n",
              "      <td>0.079330</td>\n",
              "      <td>1.000000</td>\n",
              "      <td>-0.306339</td>\n",
              "      <td>-0.308736</td>\n",
              "    </tr>\n",
              "    <tr>\n",
              "      <th>pension_fund_name_enc</th>\n",
              "      <td>-0.238068</td>\n",
              "      <td>0.207998</td>\n",
              "      <td>0.099662</td>\n",
              "      <td>-0.187378</td>\n",
              "      <td>0.047458</td>\n",
              "      <td>0.052583</td>\n",
              "      <td>-0.306339</td>\n",
              "      <td>1.000000</td>\n",
              "      <td>0.185796</td>\n",
              "    </tr>\n",
              "    <tr>\n",
              "      <th>pension_group_name_enc</th>\n",
              "      <td>-0.113550</td>\n",
              "      <td>0.097105</td>\n",
              "      <td>-0.033238</td>\n",
              "      <td>-0.121364</td>\n",
              "      <td>-0.063150</td>\n",
              "      <td>-0.034342</td>\n",
              "      <td>-0.308736</td>\n",
              "      <td>0.185796</td>\n",
              "      <td>1.000000</td>\n",
              "    </tr>\n",
              "  </tbody>\n",
              "</table>\n",
              "</div>"
            ],
            "text/plain": [
              "                          _20_year_status  all_employers_salary_amt  \\\n",
              "_20_year_status                  1.000000                  0.295118   \n",
              "all_employers_salary_amt         0.295118                  1.000000   \n",
              "employer_freq_pensioned         -0.074679                 -0.066198   \n",
              "total_months_qty                 0.844411                  0.395345   \n",
              "location_freq_pensioned          0.082618                 -0.030279   \n",
              "service_months_qty              -0.002429                 -0.027708   \n",
              "pension_freq_pensioned           0.091064                 -0.439474   \n",
              "pension_fund_name_enc           -0.238068                  0.207998   \n",
              "pension_group_name_enc          -0.113550                  0.097105   \n",
              "\n",
              "                          employer_freq_pensioned  total_months_qty  \\\n",
              "_20_year_status                         -0.074679          0.844411   \n",
              "all_employers_salary_amt                -0.066198          0.395345   \n",
              "employer_freq_pensioned                  1.000000         -0.065524   \n",
              "total_months_qty                        -0.065524          1.000000   \n",
              "location_freq_pensioned                  0.187599          0.067168   \n",
              "service_months_qty                       0.026186          0.000102   \n",
              "pension_freq_pensioned                   0.040389          0.047303   \n",
              "pension_fund_name_enc                    0.099662         -0.187378   \n",
              "pension_group_name_enc                  -0.033238         -0.121364   \n",
              "\n",
              "                          location_freq_pensioned  service_months_qty  \\\n",
              "_20_year_status                          0.082618           -0.002429   \n",
              "all_employers_salary_amt                -0.030279           -0.027708   \n",
              "employer_freq_pensioned                  0.187599            0.026186   \n",
              "total_months_qty                         0.067168            0.000102   \n",
              "location_freq_pensioned                  1.000000            0.056022   \n",
              "service_months_qty                       0.056022            1.000000   \n",
              "pension_freq_pensioned                   0.308507            0.079330   \n",
              "pension_fund_name_enc                    0.047458            0.052583   \n",
              "pension_group_name_enc                  -0.063150           -0.034342   \n",
              "\n",
              "                          pension_freq_pensioned  pension_fund_name_enc  \\\n",
              "_20_year_status                         0.091064              -0.238068   \n",
              "all_employers_salary_amt               -0.439474               0.207998   \n",
              "employer_freq_pensioned                 0.040389               0.099662   \n",
              "total_months_qty                        0.047303              -0.187378   \n",
              "location_freq_pensioned                 0.308507               0.047458   \n",
              "service_months_qty                      0.079330               0.052583   \n",
              "pension_freq_pensioned                  1.000000              -0.306339   \n",
              "pension_fund_name_enc                  -0.306339               1.000000   \n",
              "pension_group_name_enc                 -0.308736               0.185796   \n",
              "\n",
              "                          pension_group_name_enc  \n",
              "_20_year_status                        -0.113550  \n",
              "all_employers_salary_amt                0.097105  \n",
              "employer_freq_pensioned                -0.033238  \n",
              "total_months_qty                       -0.121364  \n",
              "location_freq_pensioned                -0.063150  \n",
              "service_months_qty                     -0.034342  \n",
              "pension_freq_pensioned                 -0.308736  \n",
              "pension_fund_name_enc                   0.185796  \n",
              "pension_group_name_enc                  1.000000  "
            ]
          },
          "metadata": {
            "tags": []
          },
          "execution_count": 11
        }
      ]
    },
    {
      "metadata": {
        "id": "bpTgBRi0XxR1",
        "colab_type": "text"
      },
      "cell_type": "markdown",
      "source": [
        "# 6 Load clfs Data from Google Drive\n",
        "##  6.1 Join Table "
      ]
    },
    {
      "metadata": {
        "id": "zCKhqkUXTfZ4",
        "colab_type": "code",
        "colab": {
          "base_uri": "https://localhost:8080/",
          "height": 485
        },
        "outputId": "efc05e8f-5591-4708-81e2-d2e5c1a4a2c2"
      },
      "cell_type": "code",
      "source": [
        "#Need to change 'id' everytime\n",
        "\n",
        "downloaded = drive.CreateFile({'id':'1XRf0Zu7tYeCLRsqxxcuT9LhfyEVDhiPo'})\n",
        "downloaded.GetContentFile('clfs_score612.pkl')\n",
        "\n",
        "downloaded = drive.CreateFile({'id':'13BdyYzlrM4eD9HpUrmAign0cmLqrY7dl'})\n",
        "downloaded.GetContentFile('clfs_score623.pkl')"
      ],
      "execution_count": 12,
      "outputs": [
        {
          "output_type": "stream",
          "text": [
            "WARNING:googleapiclient.discovery_cache:file_cache is unavailable when using oauth2client >= 4.0.0\n",
            "Traceback (most recent call last):\n",
            "  File \"/usr/local/lib/python3.6/dist-packages/googleapiclient/discovery_cache/__init__.py\", line 36, in autodetect\n",
            "    from google.appengine.api import memcache\n",
            "ModuleNotFoundError: No module named 'google.appengine'\n",
            "\n",
            "During handling of the above exception, another exception occurred:\n",
            "\n",
            "Traceback (most recent call last):\n",
            "  File \"/usr/local/lib/python3.6/dist-packages/googleapiclient/discovery_cache/file_cache.py\", line 33, in <module>\n",
            "    from oauth2client.contrib.locked_file import LockedFile\n",
            "ModuleNotFoundError: No module named 'oauth2client.contrib.locked_file'\n",
            "\n",
            "During handling of the above exception, another exception occurred:\n",
            "\n",
            "Traceback (most recent call last):\n",
            "  File \"/usr/local/lib/python3.6/dist-packages/googleapiclient/discovery_cache/file_cache.py\", line 37, in <module>\n",
            "    from oauth2client.locked_file import LockedFile\n",
            "ModuleNotFoundError: No module named 'oauth2client.locked_file'\n",
            "\n",
            "During handling of the above exception, another exception occurred:\n",
            "\n",
            "Traceback (most recent call last):\n",
            "  File \"/usr/local/lib/python3.6/dist-packages/googleapiclient/discovery_cache/__init__.py\", line 41, in autodetect\n",
            "    from . import file_cache\n",
            "  File \"/usr/local/lib/python3.6/dist-packages/googleapiclient/discovery_cache/file_cache.py\", line 41, in <module>\n",
            "    'file_cache is unavailable when using oauth2client >= 4.0.0')\n",
            "ImportError: file_cache is unavailable when using oauth2client >= 4.0.0\n"
          ],
          "name": "stderr"
        }
      ]
    },
    {
      "metadata": {
        "id": "EpSUbejpGpPv",
        "colab_type": "code",
        "colab": {}
      },
      "cell_type": "code",
      "source": [
        "#downloaded = drive.CreateFile({'id':'1vA1Z9Y9OkTNp83XR3WLuAyA-HemgTErA'})\n",
        "#downloaded.GetContentFile('clfs612.pkl')\n",
        "#clfs = joblib.load('clfs612.pkl')"
      ],
      "execution_count": 0,
      "outputs": []
    },
    {
      "metadata": {
        "id": "Lvs3n3_hASi4",
        "colab_type": "code",
        "colab": {}
      },
      "cell_type": "code",
      "source": [
        "clfs_score612 = joblib.load('clfs_score612.pkl')\n",
        "clfs_score623 = joblib.load('clfs_score623.pkl')"
      ],
      "execution_count": 0,
      "outputs": []
    },
    {
      "metadata": {
        "id": "XB-BHtaT21Wi",
        "colab_type": "code",
        "colab": {}
      },
      "cell_type": "code",
      "source": [
        "df_clfs_score = pd.DataFrame.from_dict(clfs_score612,orient='index')"
      ],
      "execution_count": 0,
      "outputs": []
    },
    {
      "metadata": {
        "id": "UOhoDy145ET4",
        "colab_type": "code",
        "colab": {}
      },
      "cell_type": "code",
      "source": [
        "df_clfs_score2 = pd.DataFrame.from_dict(clfs_score623,orient='index')"
      ],
      "execution_count": 0,
      "outputs": []
    },
    {
      "metadata": {
        "id": "CjCvhJg15_OE",
        "colab_type": "code",
        "colab": {}
      },
      "cell_type": "code",
      "source": [
        "df_clfs_score = pd.concat([df_clfs_score, df_clfs_score2], axis=1, join='inner')"
      ],
      "execution_count": 0,
      "outputs": []
    },
    {
      "metadata": {
        "id": "DF1E76wA7gMG",
        "colab_type": "text"
      },
      "cell_type": "markdown",
      "source": [
        "## 6.2  Additional Field and Manupulation"
      ]
    },
    {
      "metadata": {
        "id": "fHuegdk5N-Br",
        "colab_type": "code",
        "colab": {}
      },
      "cell_type": "code",
      "source": [
        "df_clfs_score['classifier'] = [i.split('|')[0] for i  in df_clfs_score.index.tolist()]"
      ],
      "execution_count": 0,
      "outputs": []
    },
    {
      "metadata": {
        "id": "KAPxedqmu-uA",
        "colab_type": "code",
        "colab": {}
      },
      "cell_type": "code",
      "source": [
        "df_clfs_score['std'] = df_clfs_score.std(axis=1)"
      ],
      "execution_count": 0,
      "outputs": []
    },
    {
      "metadata": {
        "id": "d6gUpRgwVx7F",
        "colab_type": "code",
        "colab": {}
      },
      "cell_type": "code",
      "source": [
        "df_clfs_score.columns = ['Training', 'Test1', 'Test2', 'Test3', 'classifier','std']"
      ],
      "execution_count": 0,
      "outputs": []
    },
    {
      "metadata": {
        "id": "S3CTXYWuUSn_",
        "colab_type": "code",
        "outputId": "73d0077d-9fda-4ea2-9e86-a799f4d4e0c6",
        "colab": {
          "base_uri": "https://localhost:8080/",
          "height": 1895
        }
      },
      "cell_type": "code",
      "source": [
        "df_clfs_score.sort_values(['classifier','Training','std'], ascending=[True, False, True])"
      ],
      "execution_count": 21,
      "outputs": [
        {
          "output_type": "execute_result",
          "data": {
            "text/html": [
              "<div>\n",
              "<style scoped>\n",
              "    .dataframe tbody tr th:only-of-type {\n",
              "        vertical-align: middle;\n",
              "    }\n",
              "\n",
              "    .dataframe tbody tr th {\n",
              "        vertical-align: top;\n",
              "    }\n",
              "\n",
              "    .dataframe thead th {\n",
              "        text-align: right;\n",
              "    }\n",
              "</style>\n",
              "<table border=\"1\" class=\"dataframe\">\n",
              "  <thead>\n",
              "    <tr style=\"text-align: right;\">\n",
              "      <th></th>\n",
              "      <th>Training</th>\n",
              "      <th>Test1</th>\n",
              "      <th>Test2</th>\n",
              "      <th>Test3</th>\n",
              "      <th>classifier</th>\n",
              "      <th>std</th>\n",
              "    </tr>\n",
              "  </thead>\n",
              "  <tbody>\n",
              "    <tr>\n",
              "      <th>AdaBoostClassifier|PCA StandardScaler|PowerTransformer|</th>\n",
              "      <td>0.949143</td>\n",
              "      <td>0.930667</td>\n",
              "      <td>0.946000</td>\n",
              "      <td>0.922</td>\n",
              "      <td>AdaBoostClassifier</td>\n",
              "      <td>0.012826</td>\n",
              "    </tr>\n",
              "    <tr>\n",
              "      <th>AdaBoostClassifier|PCA MinMaxScaler|PowerTransformer|</th>\n",
              "      <td>0.948857</td>\n",
              "      <td>0.938000</td>\n",
              "      <td>0.948667</td>\n",
              "      <td>0.863</td>\n",
              "      <td>AdaBoostClassifier</td>\n",
              "      <td>0.041399</td>\n",
              "    </tr>\n",
              "    <tr>\n",
              "      <th>AdaBoostClassifier|Raw PowerTransformer|QuantileTransformer|</th>\n",
              "      <td>0.947143</td>\n",
              "      <td>0.937333</td>\n",
              "      <td>0.945333</td>\n",
              "      <td>0.937</td>\n",
              "      <td>AdaBoostClassifier</td>\n",
              "      <td>0.005291</td>\n",
              "    </tr>\n",
              "    <tr>\n",
              "      <th>AdaBoostClassifier|Raw StandardScaler|PowerTransformer|</th>\n",
              "      <td>0.946286</td>\n",
              "      <td>0.932000</td>\n",
              "      <td>0.944000</td>\n",
              "      <td>0.940</td>\n",
              "      <td>AdaBoostClassifier</td>\n",
              "      <td>0.006277</td>\n",
              "    </tr>\n",
              "    <tr>\n",
              "      <th>AdaBoostClassifier|Raw Normalizer|StandardScaler|</th>\n",
              "      <td>0.946286</td>\n",
              "      <td>0.947333</td>\n",
              "      <td>0.948667</td>\n",
              "      <td>0.933</td>\n",
              "      <td>AdaBoostClassifier</td>\n",
              "      <td>0.007280</td>\n",
              "    </tr>\n",
              "    <tr>\n",
              "      <th>AdaBoostClassifier|Raw Normalizer|PowerTransformer|</th>\n",
              "      <td>0.946000</td>\n",
              "      <td>0.938000</td>\n",
              "      <td>0.945333</td>\n",
              "      <td>0.937</td>\n",
              "      <td>AdaBoostClassifier</td>\n",
              "      <td>0.004740</td>\n",
              "    </tr>\n",
              "    <tr>\n",
              "      <th>AdaBoostClassifier|KPCA MinMaxScaler|QuantileTransformer|</th>\n",
              "      <td>0.945429</td>\n",
              "      <td>0.945333</td>\n",
              "      <td>0.947333</td>\n",
              "      <td>0.939</td>\n",
              "      <td>AdaBoostClassifier</td>\n",
              "      <td>0.003635</td>\n",
              "    </tr>\n",
              "    <tr>\n",
              "      <th>AdaBoostClassifier|Raw StandardScaler|QuantileTransformer|</th>\n",
              "      <td>0.944857</td>\n",
              "      <td>0.943333</td>\n",
              "      <td>0.946000</td>\n",
              "      <td>0.934</td>\n",
              "      <td>AdaBoostClassifier</td>\n",
              "      <td>0.005475</td>\n",
              "    </tr>\n",
              "    <tr>\n",
              "      <th>AdaBoostClassifier|PCA PowerTransformer|QuantileTransformer|</th>\n",
              "      <td>0.944000</td>\n",
              "      <td>0.939333</td>\n",
              "      <td>0.944667</td>\n",
              "      <td>0.938</td>\n",
              "      <td>AdaBoostClassifier</td>\n",
              "      <td>0.003328</td>\n",
              "    </tr>\n",
              "    <tr>\n",
              "      <th>AdaBoostClassifier|PCA StandardScaler|QuantileTransformer|</th>\n",
              "      <td>0.943429</td>\n",
              "      <td>0.942000</td>\n",
              "      <td>0.944000</td>\n",
              "      <td>0.939</td>\n",
              "      <td>AdaBoostClassifier</td>\n",
              "      <td>0.002236</td>\n",
              "    </tr>\n",
              "    <tr>\n",
              "      <th>AdaBoostClassifier|Raw MinMaxScaler|PowerTransformer|</th>\n",
              "      <td>0.943429</td>\n",
              "      <td>0.944000</td>\n",
              "      <td>0.944000</td>\n",
              "      <td>0.939</td>\n",
              "      <td>AdaBoostClassifier</td>\n",
              "      <td>0.002420</td>\n",
              "    </tr>\n",
              "    <tr>\n",
              "      <th>AdaBoostClassifier|Raw MinMaxScaler|Normalizer|</th>\n",
              "      <td>0.943429</td>\n",
              "      <td>0.940000</td>\n",
              "      <td>0.944667</td>\n",
              "      <td>0.939</td>\n",
              "      <td>AdaBoostClassifier</td>\n",
              "      <td>0.002705</td>\n",
              "    </tr>\n",
              "    <tr>\n",
              "      <th>AdaBoostClassifier|PCA MinMaxScaler|Normalizer|</th>\n",
              "      <td>0.942857</td>\n",
              "      <td>0.939333</td>\n",
              "      <td>0.944000</td>\n",
              "      <td>0.941</td>\n",
              "      <td>AdaBoostClassifier</td>\n",
              "      <td>0.002056</td>\n",
              "    </tr>\n",
              "    <tr>\n",
              "      <th>AdaBoostClassifier|PCA Normalizer|PowerTransformer|</th>\n",
              "      <td>0.942286</td>\n",
              "      <td>0.937333</td>\n",
              "      <td>0.943333</td>\n",
              "      <td>0.939</td>\n",
              "      <td>AdaBoostClassifier</td>\n",
              "      <td>0.002798</td>\n",
              "    </tr>\n",
              "    <tr>\n",
              "      <th>AdaBoostClassifier|Raw MinMaxScaler|QuantileTransformer|</th>\n",
              "      <td>0.941429</td>\n",
              "      <td>0.943333</td>\n",
              "      <td>0.944000</td>\n",
              "      <td>0.940</td>\n",
              "      <td>AdaBoostClassifier</td>\n",
              "      <td>0.001822</td>\n",
              "    </tr>\n",
              "    <tr>\n",
              "      <th>AdaBoostClassifier|PCA MinMaxScaler|QuantileTransformer|</th>\n",
              "      <td>0.941429</td>\n",
              "      <td>0.943333</td>\n",
              "      <td>0.944000</td>\n",
              "      <td>0.940</td>\n",
              "      <td>AdaBoostClassifier</td>\n",
              "      <td>0.001822</td>\n",
              "    </tr>\n",
              "    <tr>\n",
              "      <th>AdaBoostClassifier|KPCA MinMaxScaler|StandardScaler|</th>\n",
              "      <td>0.940857</td>\n",
              "      <td>0.940000</td>\n",
              "      <td>0.946000</td>\n",
              "      <td>0.834</td>\n",
              "      <td>AdaBoostClassifier</td>\n",
              "      <td>0.054208</td>\n",
              "    </tr>\n",
              "    <tr>\n",
              "      <th>AdaBoostClassifier|Raw Normalizer|QuantileTransformer|</th>\n",
              "      <td>0.939429</td>\n",
              "      <td>0.948000</td>\n",
              "      <td>0.944000</td>\n",
              "      <td>0.940</td>\n",
              "      <td>AdaBoostClassifier</td>\n",
              "      <td>0.003986</td>\n",
              "    </tr>\n",
              "    <tr>\n",
              "      <th>AdaBoostClassifier|PCA Normalizer|QuantileTransformer|</th>\n",
              "      <td>0.939143</td>\n",
              "      <td>0.948000</td>\n",
              "      <td>0.944667</td>\n",
              "      <td>0.940</td>\n",
              "      <td>AdaBoostClassifier</td>\n",
              "      <td>0.004149</td>\n",
              "    </tr>\n",
              "    <tr>\n",
              "      <th>AdaBoostClassifier|Raw MinMaxScaler|StandardScaler|</th>\n",
              "      <td>0.938000</td>\n",
              "      <td>0.956000</td>\n",
              "      <td>0.945333</td>\n",
              "      <td>0.928</td>\n",
              "      <td>AdaBoostClassifier</td>\n",
              "      <td>0.011818</td>\n",
              "    </tr>\n",
              "    <tr>\n",
              "      <th>AdaBoostClassifier|KPCA MinMaxScaler|Normalizer|</th>\n",
              "      <td>0.936286</td>\n",
              "      <td>0.956667</td>\n",
              "      <td>0.945333</td>\n",
              "      <td>0.939</td>\n",
              "      <td>AdaBoostClassifier</td>\n",
              "      <td>0.009061</td>\n",
              "    </tr>\n",
              "    <tr>\n",
              "      <th>AdaBoostClassifier|ICA MinMaxScaler|StandardScaler|</th>\n",
              "      <td>0.935429</td>\n",
              "      <td>0.958667</td>\n",
              "      <td>0.944000</td>\n",
              "      <td>0.940</td>\n",
              "      <td>AdaBoostClassifier</td>\n",
              "      <td>0.010058</td>\n",
              "    </tr>\n",
              "    <tr>\n",
              "      <th>AdaBoostClassifier|PCA MinMaxScaler|StandardScaler|</th>\n",
              "      <td>0.931714</td>\n",
              "      <td>0.952000</td>\n",
              "      <td>0.939333</td>\n",
              "      <td>0.931</td>\n",
              "      <td>AdaBoostClassifier</td>\n",
              "      <td>0.009751</td>\n",
              "    </tr>\n",
              "    <tr>\n",
              "      <th>AdaBoostClassifier|MDS StandardScaler|PowerTransformer|</th>\n",
              "      <td>0.881429</td>\n",
              "      <td>0.878667</td>\n",
              "      <td>0.886000</td>\n",
              "      <td>0.835</td>\n",
              "      <td>AdaBoostClassifier</td>\n",
              "      <td>0.023710</td>\n",
              "    </tr>\n",
              "    <tr>\n",
              "      <th>GradientBoostingClassifier|PCA StandardScaler|PowerTransformer|</th>\n",
              "      <td>0.952857</td>\n",
              "      <td>0.931333</td>\n",
              "      <td>0.949333</td>\n",
              "      <td>0.930</td>\n",
              "      <td>GradientBoostingClassifier</td>\n",
              "      <td>0.011894</td>\n",
              "    </tr>\n",
              "    <tr>\n",
              "      <th>GradientBoostingClassifier|KPCA StandardScaler|QuantileTransformer|</th>\n",
              "      <td>0.952286</td>\n",
              "      <td>0.936000</td>\n",
              "      <td>0.950000</td>\n",
              "      <td>0.936</td>\n",
              "      <td>GradientBoostingClassifier</td>\n",
              "      <td>0.008792</td>\n",
              "    </tr>\n",
              "    <tr>\n",
              "      <th>GradientBoostingClassifier|KPCA PowerTransformer|QuantileTransformer|</th>\n",
              "      <td>0.951714</td>\n",
              "      <td>0.941333</td>\n",
              "      <td>0.952667</td>\n",
              "      <td>0.913</td>\n",
              "      <td>GradientBoostingClassifier</td>\n",
              "      <td>0.018512</td>\n",
              "    </tr>\n",
              "    <tr>\n",
              "      <th>GradientBoostingClassifier|PCA PowerTransformer|QuantileTransformer|</th>\n",
              "      <td>0.951429</td>\n",
              "      <td>0.935333</td>\n",
              "      <td>0.949333</td>\n",
              "      <td>0.937</td>\n",
              "      <td>GradientBoostingClassifier</td>\n",
              "      <td>0.008279</td>\n",
              "    </tr>\n",
              "    <tr>\n",
              "      <th>GradientBoostingClassifier|PCA Normalizer|PowerTransformer|</th>\n",
              "      <td>0.950857</td>\n",
              "      <td>0.938667</td>\n",
              "      <td>0.948000</td>\n",
              "      <td>0.939</td>\n",
              "      <td>GradientBoostingClassifier</td>\n",
              "      <td>0.006229</td>\n",
              "    </tr>\n",
              "    <tr>\n",
              "      <th>GradientBoostingClassifier|Raw StandardScaler|PowerTransformer|</th>\n",
              "      <td>0.950286</td>\n",
              "      <td>0.931333</td>\n",
              "      <td>0.946000</td>\n",
              "      <td>0.938</td>\n",
              "      <td>GradientBoostingClassifier</td>\n",
              "      <td>0.008426</td>\n",
              "    </tr>\n",
              "    <tr>\n",
              "      <th>...</th>\n",
              "      <td>...</td>\n",
              "      <td>...</td>\n",
              "      <td>...</td>\n",
              "      <td>...</td>\n",
              "      <td>...</td>\n",
              "      <td>...</td>\n",
              "    </tr>\n",
              "    <tr>\n",
              "      <th>LogisticRegression2|KPCA MinMaxScaler|Normalizer|</th>\n",
              "      <td>0.935714</td>\n",
              "      <td>0.956667</td>\n",
              "      <td>0.944000</td>\n",
              "      <td>0.940</td>\n",
              "      <td>LogisticRegression2</td>\n",
              "      <td>0.009038</td>\n",
              "    </tr>\n",
              "    <tr>\n",
              "      <th>LogisticRegression2|Raw MinMaxScaler|StandardScaler|</th>\n",
              "      <td>0.935714</td>\n",
              "      <td>0.956667</td>\n",
              "      <td>0.944000</td>\n",
              "      <td>0.940</td>\n",
              "      <td>LogisticRegression2</td>\n",
              "      <td>0.009038</td>\n",
              "    </tr>\n",
              "    <tr>\n",
              "      <th>LogisticRegression2|PCA MinMaxScaler|StandardScaler|</th>\n",
              "      <td>0.935714</td>\n",
              "      <td>0.956667</td>\n",
              "      <td>0.944000</td>\n",
              "      <td>0.936</td>\n",
              "      <td>LogisticRegression2</td>\n",
              "      <td>0.009829</td>\n",
              "    </tr>\n",
              "    <tr>\n",
              "      <th>LogisticRegression2|KPCA Normalizer|PowerTransformer|</th>\n",
              "      <td>0.934857</td>\n",
              "      <td>0.948000</td>\n",
              "      <td>0.940667</td>\n",
              "      <td>0.869</td>\n",
              "      <td>LogisticRegression2</td>\n",
              "      <td>0.036486</td>\n",
              "    </tr>\n",
              "    <tr>\n",
              "      <th>LogisticRegression2|KPCA Normalizer|StandardScaler|</th>\n",
              "      <td>0.934286</td>\n",
              "      <td>0.934667</td>\n",
              "      <td>0.937333</td>\n",
              "      <td>0.874</td>\n",
              "      <td>LogisticRegression2</td>\n",
              "      <td>0.030744</td>\n",
              "    </tr>\n",
              "    <tr>\n",
              "      <th>RandomForestClassifier|Raw StandardScaler|PowerTransformer|</th>\n",
              "      <td>0.993143</td>\n",
              "      <td>0.932000</td>\n",
              "      <td>0.974667</td>\n",
              "      <td>0.933</td>\n",
              "      <td>RandomForestClassifier</td>\n",
              "      <td>0.030625</td>\n",
              "    </tr>\n",
              "    <tr>\n",
              "      <th>RandomForestClassifier|PCA StandardScaler|PowerTransformer|</th>\n",
              "      <td>0.992571</td>\n",
              "      <td>0.931333</td>\n",
              "      <td>0.978667</td>\n",
              "      <td>0.933</td>\n",
              "      <td>RandomForestClassifier</td>\n",
              "      <td>0.031386</td>\n",
              "    </tr>\n",
              "    <tr>\n",
              "      <th>RandomForestClassifier|KPCA Normalizer|QuantileTransformer|</th>\n",
              "      <td>0.992000</td>\n",
              "      <td>0.932000</td>\n",
              "      <td>0.976000</td>\n",
              "      <td>0.928</td>\n",
              "      <td>RandomForestClassifier</td>\n",
              "      <td>0.031896</td>\n",
              "    </tr>\n",
              "    <tr>\n",
              "      <th>RandomForestClassifier|PCA MinMaxScaler|PowerTransformer|</th>\n",
              "      <td>0.990857</td>\n",
              "      <td>0.943333</td>\n",
              "      <td>0.977333</td>\n",
              "      <td>0.937</td>\n",
              "      <td>RandomForestClassifier</td>\n",
              "      <td>0.026085</td>\n",
              "    </tr>\n",
              "    <tr>\n",
              "      <th>RandomForestClassifier|Raw PowerTransformer|QuantileTransformer|</th>\n",
              "      <td>0.990000</td>\n",
              "      <td>0.942000</td>\n",
              "      <td>0.980000</td>\n",
              "      <td>0.937</td>\n",
              "      <td>RandomForestClassifier</td>\n",
              "      <td>0.026663</td>\n",
              "    </tr>\n",
              "    <tr>\n",
              "      <th>RandomForestClassifier|PCA StandardScaler|QuantileTransformer|</th>\n",
              "      <td>0.990000</td>\n",
              "      <td>0.941333</td>\n",
              "      <td>0.978000</td>\n",
              "      <td>0.933</td>\n",
              "      <td>RandomForestClassifier</td>\n",
              "      <td>0.027689</td>\n",
              "    </tr>\n",
              "    <tr>\n",
              "      <th>RandomForestClassifier|Raw StandardScaler|QuantileTransformer|</th>\n",
              "      <td>0.989714</td>\n",
              "      <td>0.944000</td>\n",
              "      <td>0.975333</td>\n",
              "      <td>0.940</td>\n",
              "      <td>RandomForestClassifier</td>\n",
              "      <td>0.024177</td>\n",
              "    </tr>\n",
              "    <tr>\n",
              "      <th>RandomForestClassifier|Raw Normalizer|PowerTransformer|</th>\n",
              "      <td>0.989714</td>\n",
              "      <td>0.940000</td>\n",
              "      <td>0.972667</td>\n",
              "      <td>0.940</td>\n",
              "      <td>RandomForestClassifier</td>\n",
              "      <td>0.024779</td>\n",
              "    </tr>\n",
              "    <tr>\n",
              "      <th>RandomForestClassifier|KPCA StandardScaler|QuantileTransformer|</th>\n",
              "      <td>0.989714</td>\n",
              "      <td>0.934667</td>\n",
              "      <td>0.977333</td>\n",
              "      <td>0.896</td>\n",
              "      <td>RandomForestClassifier</td>\n",
              "      <td>0.042717</td>\n",
              "    </tr>\n",
              "    <tr>\n",
              "      <th>RandomForestClassifier|Raw MinMaxScaler|PowerTransformer|</th>\n",
              "      <td>0.989429</td>\n",
              "      <td>0.943333</td>\n",
              "      <td>0.974000</td>\n",
              "      <td>0.940</td>\n",
              "      <td>RandomForestClassifier</td>\n",
              "      <td>0.024003</td>\n",
              "    </tr>\n",
              "    <tr>\n",
              "      <th>RandomForestClassifier|PCA MinMaxScaler|Normalizer|</th>\n",
              "      <td>0.989429</td>\n",
              "      <td>0.942000</td>\n",
              "      <td>0.979333</td>\n",
              "      <td>0.936</td>\n",
              "      <td>RandomForestClassifier</td>\n",
              "      <td>0.026636</td>\n",
              "    </tr>\n",
              "    <tr>\n",
              "      <th>RandomForestClassifier|PCA Normalizer|PowerTransformer|</th>\n",
              "      <td>0.989143</td>\n",
              "      <td>0.938000</td>\n",
              "      <td>0.973333</td>\n",
              "      <td>0.932</td>\n",
              "      <td>RandomForestClassifier</td>\n",
              "      <td>0.027574</td>\n",
              "    </tr>\n",
              "    <tr>\n",
              "      <th>RandomForestClassifier|KPCA PowerTransformer|QuantileTransformer|</th>\n",
              "      <td>0.989143</td>\n",
              "      <td>0.940000</td>\n",
              "      <td>0.974000</td>\n",
              "      <td>0.917</td>\n",
              "      <td>RandomForestClassifier</td>\n",
              "      <td>0.032638</td>\n",
              "    </tr>\n",
              "    <tr>\n",
              "      <th>RandomForestClassifier|Raw MinMaxScaler|Normalizer|</th>\n",
              "      <td>0.988857</td>\n",
              "      <td>0.943333</td>\n",
              "      <td>0.980000</td>\n",
              "      <td>0.934</td>\n",
              "      <td>RandomForestClassifier</td>\n",
              "      <td>0.026938</td>\n",
              "    </tr>\n",
              "    <tr>\n",
              "      <th>RandomForestClassifier|Raw MinMaxScaler|StandardScaler|</th>\n",
              "      <td>0.988571</td>\n",
              "      <td>0.954000</td>\n",
              "      <td>0.974667</td>\n",
              "      <td>0.938</td>\n",
              "      <td>RandomForestClassifier</td>\n",
              "      <td>0.022311</td>\n",
              "    </tr>\n",
              "    <tr>\n",
              "      <th>RandomForestClassifier|PCA PowerTransformer|QuantileTransformer|</th>\n",
              "      <td>0.988571</td>\n",
              "      <td>0.939333</td>\n",
              "      <td>0.977333</td>\n",
              "      <td>0.932</td>\n",
              "      <td>RandomForestClassifier</td>\n",
              "      <td>0.027845</td>\n",
              "    </tr>\n",
              "    <tr>\n",
              "      <th>RandomForestClassifier|PCA MinMaxScaler|StandardScaler|</th>\n",
              "      <td>0.988286</td>\n",
              "      <td>0.953333</td>\n",
              "      <td>0.974000</td>\n",
              "      <td>0.931</td>\n",
              "      <td>RandomForestClassifier</td>\n",
              "      <td>0.024970</td>\n",
              "    </tr>\n",
              "    <tr>\n",
              "      <th>RandomForestClassifier|PCA MinMaxScaler|QuantileTransformer|</th>\n",
              "      <td>0.988286</td>\n",
              "      <td>0.942667</td>\n",
              "      <td>0.976667</td>\n",
              "      <td>0.936</td>\n",
              "      <td>RandomForestClassifier</td>\n",
              "      <td>0.025502</td>\n",
              "    </tr>\n",
              "    <tr>\n",
              "      <th>RandomForestClassifier|Raw MinMaxScaler|QuantileTransformer|</th>\n",
              "      <td>0.987714</td>\n",
              "      <td>0.945333</td>\n",
              "      <td>0.978000</td>\n",
              "      <td>0.939</td>\n",
              "      <td>RandomForestClassifier</td>\n",
              "      <td>0.023965</td>\n",
              "    </tr>\n",
              "    <tr>\n",
              "      <th>RandomForestClassifier|PCA Normalizer|QuantileTransformer|</th>\n",
              "      <td>0.987429</td>\n",
              "      <td>0.949333</td>\n",
              "      <td>0.980000</td>\n",
              "      <td>0.937</td>\n",
              "      <td>RandomForestClassifier</td>\n",
              "      <td>0.024137</td>\n",
              "    </tr>\n",
              "    <tr>\n",
              "      <th>RandomForestClassifier|Raw Normalizer|QuantileTransformer|</th>\n",
              "      <td>0.987143</td>\n",
              "      <td>0.948667</td>\n",
              "      <td>0.982000</td>\n",
              "      <td>0.940</td>\n",
              "      <td>RandomForestClassifier</td>\n",
              "      <td>0.023593</td>\n",
              "    </tr>\n",
              "    <tr>\n",
              "      <th>RandomForestClassifier|KPCA MinMaxScaler|Normalizer|</th>\n",
              "      <td>0.986857</td>\n",
              "      <td>0.956000</td>\n",
              "      <td>0.976000</td>\n",
              "      <td>0.925</td>\n",
              "      <td>RandomForestClassifier</td>\n",
              "      <td>0.027170</td>\n",
              "    </tr>\n",
              "    <tr>\n",
              "      <th>RandomForestClassifier|Raw Normalizer|StandardScaler|</th>\n",
              "      <td>0.985429</td>\n",
              "      <td>0.946667</td>\n",
              "      <td>0.973333</td>\n",
              "      <td>0.939</td>\n",
              "      <td>RandomForestClassifier</td>\n",
              "      <td>0.021896</td>\n",
              "    </tr>\n",
              "    <tr>\n",
              "      <th>SVC|PCA MinMaxScaler|Normalizer|</th>\n",
              "      <td>0.941714</td>\n",
              "      <td>0.940000</td>\n",
              "      <td>0.942667</td>\n",
              "      <td>0.939</td>\n",
              "      <td>SVC</td>\n",
              "      <td>0.001652</td>\n",
              "    </tr>\n",
              "    <tr>\n",
              "      <th>SVC|PCA MinMaxScaler|QuantileTransformer|</th>\n",
              "      <td>0.941429</td>\n",
              "      <td>0.943333</td>\n",
              "      <td>0.944000</td>\n",
              "      <td>0.940</td>\n",
              "      <td>SVC</td>\n",
              "      <td>0.001822</td>\n",
              "    </tr>\n",
              "  </tbody>\n",
              "</table>\n",
              "<p>120 rows × 6 columns</p>\n",
              "</div>"
            ],
            "text/plain": [
              "                                                    Training     Test1  \\\n",
              "AdaBoostClassifier|PCA StandardScaler|PowerTran...  0.949143  0.930667   \n",
              "AdaBoostClassifier|PCA MinMaxScaler|PowerTransf...  0.948857  0.938000   \n",
              "AdaBoostClassifier|Raw PowerTransformer|Quantil...  0.947143  0.937333   \n",
              "AdaBoostClassifier|Raw StandardScaler|PowerTran...  0.946286  0.932000   \n",
              "AdaBoostClassifier|Raw Normalizer|StandardScaler|   0.946286  0.947333   \n",
              "AdaBoostClassifier|Raw Normalizer|PowerTransfor...  0.946000  0.938000   \n",
              "AdaBoostClassifier|KPCA MinMaxScaler|QuantileTr...  0.945429  0.945333   \n",
              "AdaBoostClassifier|Raw StandardScaler|QuantileT...  0.944857  0.943333   \n",
              "AdaBoostClassifier|PCA PowerTransformer|Quantil...  0.944000  0.939333   \n",
              "AdaBoostClassifier|PCA StandardScaler|QuantileT...  0.943429  0.942000   \n",
              "AdaBoostClassifier|Raw MinMaxScaler|PowerTransf...  0.943429  0.944000   \n",
              "AdaBoostClassifier|Raw MinMaxScaler|Normalizer|     0.943429  0.940000   \n",
              "AdaBoostClassifier|PCA MinMaxScaler|Normalizer|     0.942857  0.939333   \n",
              "AdaBoostClassifier|PCA Normalizer|PowerTransfor...  0.942286  0.937333   \n",
              "AdaBoostClassifier|Raw MinMaxScaler|QuantileTra...  0.941429  0.943333   \n",
              "AdaBoostClassifier|PCA MinMaxScaler|QuantileTra...  0.941429  0.943333   \n",
              "AdaBoostClassifier|KPCA MinMaxScaler|StandardSc...  0.940857  0.940000   \n",
              "AdaBoostClassifier|Raw Normalizer|QuantileTrans...  0.939429  0.948000   \n",
              "AdaBoostClassifier|PCA Normalizer|QuantileTrans...  0.939143  0.948000   \n",
              "AdaBoostClassifier|Raw MinMaxScaler|StandardSca...  0.938000  0.956000   \n",
              "AdaBoostClassifier|KPCA MinMaxScaler|Normalizer|    0.936286  0.956667   \n",
              "AdaBoostClassifier|ICA MinMaxScaler|StandardSca...  0.935429  0.958667   \n",
              "AdaBoostClassifier|PCA MinMaxScaler|StandardSca...  0.931714  0.952000   \n",
              "AdaBoostClassifier|MDS StandardScaler|PowerTran...  0.881429  0.878667   \n",
              "GradientBoostingClassifier|PCA StandardScaler|P...  0.952857  0.931333   \n",
              "GradientBoostingClassifier|KPCA StandardScaler|...  0.952286  0.936000   \n",
              "GradientBoostingClassifier|KPCA PowerTransforme...  0.951714  0.941333   \n",
              "GradientBoostingClassifier|PCA PowerTransformer...  0.951429  0.935333   \n",
              "GradientBoostingClassifier|PCA Normalizer|Power...  0.950857  0.938667   \n",
              "GradientBoostingClassifier|Raw StandardScaler|P...  0.950286  0.931333   \n",
              "...                                                      ...       ...   \n",
              "LogisticRegression2|KPCA MinMaxScaler|Normalizer|   0.935714  0.956667   \n",
              "LogisticRegression2|Raw MinMaxScaler|StandardSc...  0.935714  0.956667   \n",
              "LogisticRegression2|PCA MinMaxScaler|StandardSc...  0.935714  0.956667   \n",
              "LogisticRegression2|KPCA Normalizer|PowerTransf...  0.934857  0.948000   \n",
              "LogisticRegression2|KPCA Normalizer|StandardSca...  0.934286  0.934667   \n",
              "RandomForestClassifier|Raw StandardScaler|Power...  0.993143  0.932000   \n",
              "RandomForestClassifier|PCA StandardScaler|Power...  0.992571  0.931333   \n",
              "RandomForestClassifier|KPCA Normalizer|Quantile...  0.992000  0.932000   \n",
              "RandomForestClassifier|PCA MinMaxScaler|PowerTr...  0.990857  0.943333   \n",
              "RandomForestClassifier|Raw PowerTransformer|Qua...  0.990000  0.942000   \n",
              "RandomForestClassifier|PCA StandardScaler|Quant...  0.990000  0.941333   \n",
              "RandomForestClassifier|Raw StandardScaler|Quant...  0.989714  0.944000   \n",
              "RandomForestClassifier|Raw Normalizer|PowerTran...  0.989714  0.940000   \n",
              "RandomForestClassifier|KPCA StandardScaler|Quan...  0.989714  0.934667   \n",
              "RandomForestClassifier|Raw MinMaxScaler|PowerTr...  0.989429  0.943333   \n",
              "RandomForestClassifier|PCA MinMaxScaler|Normali...  0.989429  0.942000   \n",
              "RandomForestClassifier|PCA Normalizer|PowerTran...  0.989143  0.938000   \n",
              "RandomForestClassifier|KPCA PowerTransformer|Qu...  0.989143  0.940000   \n",
              "RandomForestClassifier|Raw MinMaxScaler|Normali...  0.988857  0.943333   \n",
              "RandomForestClassifier|Raw MinMaxScaler|Standar...  0.988571  0.954000   \n",
              "RandomForestClassifier|PCA PowerTransformer|Qua...  0.988571  0.939333   \n",
              "RandomForestClassifier|PCA MinMaxScaler|Standar...  0.988286  0.953333   \n",
              "RandomForestClassifier|PCA MinMaxScaler|Quantil...  0.988286  0.942667   \n",
              "RandomForestClassifier|Raw MinMaxScaler|Quantil...  0.987714  0.945333   \n",
              "RandomForestClassifier|PCA Normalizer|QuantileT...  0.987429  0.949333   \n",
              "RandomForestClassifier|Raw Normalizer|QuantileT...  0.987143  0.948667   \n",
              "RandomForestClassifier|KPCA MinMaxScaler|Normal...  0.986857  0.956000   \n",
              "RandomForestClassifier|Raw Normalizer|StandardS...  0.985429  0.946667   \n",
              "SVC|PCA MinMaxScaler|Normalizer|                    0.941714  0.940000   \n",
              "SVC|PCA MinMaxScaler|QuantileTransformer|           0.941429  0.943333   \n",
              "\n",
              "                                                       Test2  Test3  \\\n",
              "AdaBoostClassifier|PCA StandardScaler|PowerTran...  0.946000  0.922   \n",
              "AdaBoostClassifier|PCA MinMaxScaler|PowerTransf...  0.948667  0.863   \n",
              "AdaBoostClassifier|Raw PowerTransformer|Quantil...  0.945333  0.937   \n",
              "AdaBoostClassifier|Raw StandardScaler|PowerTran...  0.944000  0.940   \n",
              "AdaBoostClassifier|Raw Normalizer|StandardScaler|   0.948667  0.933   \n",
              "AdaBoostClassifier|Raw Normalizer|PowerTransfor...  0.945333  0.937   \n",
              "AdaBoostClassifier|KPCA MinMaxScaler|QuantileTr...  0.947333  0.939   \n",
              "AdaBoostClassifier|Raw StandardScaler|QuantileT...  0.946000  0.934   \n",
              "AdaBoostClassifier|PCA PowerTransformer|Quantil...  0.944667  0.938   \n",
              "AdaBoostClassifier|PCA StandardScaler|QuantileT...  0.944000  0.939   \n",
              "AdaBoostClassifier|Raw MinMaxScaler|PowerTransf...  0.944000  0.939   \n",
              "AdaBoostClassifier|Raw MinMaxScaler|Normalizer|     0.944667  0.939   \n",
              "AdaBoostClassifier|PCA MinMaxScaler|Normalizer|     0.944000  0.941   \n",
              "AdaBoostClassifier|PCA Normalizer|PowerTransfor...  0.943333  0.939   \n",
              "AdaBoostClassifier|Raw MinMaxScaler|QuantileTra...  0.944000  0.940   \n",
              "AdaBoostClassifier|PCA MinMaxScaler|QuantileTra...  0.944000  0.940   \n",
              "AdaBoostClassifier|KPCA MinMaxScaler|StandardSc...  0.946000  0.834   \n",
              "AdaBoostClassifier|Raw Normalizer|QuantileTrans...  0.944000  0.940   \n",
              "AdaBoostClassifier|PCA Normalizer|QuantileTrans...  0.944667  0.940   \n",
              "AdaBoostClassifier|Raw MinMaxScaler|StandardSca...  0.945333  0.928   \n",
              "AdaBoostClassifier|KPCA MinMaxScaler|Normalizer|    0.945333  0.939   \n",
              "AdaBoostClassifier|ICA MinMaxScaler|StandardSca...  0.944000  0.940   \n",
              "AdaBoostClassifier|PCA MinMaxScaler|StandardSca...  0.939333  0.931   \n",
              "AdaBoostClassifier|MDS StandardScaler|PowerTran...  0.886000  0.835   \n",
              "GradientBoostingClassifier|PCA StandardScaler|P...  0.949333  0.930   \n",
              "GradientBoostingClassifier|KPCA StandardScaler|...  0.950000  0.936   \n",
              "GradientBoostingClassifier|KPCA PowerTransforme...  0.952667  0.913   \n",
              "GradientBoostingClassifier|PCA PowerTransformer...  0.949333  0.937   \n",
              "GradientBoostingClassifier|PCA Normalizer|Power...  0.948000  0.939   \n",
              "GradientBoostingClassifier|Raw StandardScaler|P...  0.946000  0.938   \n",
              "...                                                      ...    ...   \n",
              "LogisticRegression2|KPCA MinMaxScaler|Normalizer|   0.944000  0.940   \n",
              "LogisticRegression2|Raw MinMaxScaler|StandardSc...  0.944000  0.940   \n",
              "LogisticRegression2|PCA MinMaxScaler|StandardSc...  0.944000  0.936   \n",
              "LogisticRegression2|KPCA Normalizer|PowerTransf...  0.940667  0.869   \n",
              "LogisticRegression2|KPCA Normalizer|StandardSca...  0.937333  0.874   \n",
              "RandomForestClassifier|Raw StandardScaler|Power...  0.974667  0.933   \n",
              "RandomForestClassifier|PCA StandardScaler|Power...  0.978667  0.933   \n",
              "RandomForestClassifier|KPCA Normalizer|Quantile...  0.976000  0.928   \n",
              "RandomForestClassifier|PCA MinMaxScaler|PowerTr...  0.977333  0.937   \n",
              "RandomForestClassifier|Raw PowerTransformer|Qua...  0.980000  0.937   \n",
              "RandomForestClassifier|PCA StandardScaler|Quant...  0.978000  0.933   \n",
              "RandomForestClassifier|Raw StandardScaler|Quant...  0.975333  0.940   \n",
              "RandomForestClassifier|Raw Normalizer|PowerTran...  0.972667  0.940   \n",
              "RandomForestClassifier|KPCA StandardScaler|Quan...  0.977333  0.896   \n",
              "RandomForestClassifier|Raw MinMaxScaler|PowerTr...  0.974000  0.940   \n",
              "RandomForestClassifier|PCA MinMaxScaler|Normali...  0.979333  0.936   \n",
              "RandomForestClassifier|PCA Normalizer|PowerTran...  0.973333  0.932   \n",
              "RandomForestClassifier|KPCA PowerTransformer|Qu...  0.974000  0.917   \n",
              "RandomForestClassifier|Raw MinMaxScaler|Normali...  0.980000  0.934   \n",
              "RandomForestClassifier|Raw MinMaxScaler|Standar...  0.974667  0.938   \n",
              "RandomForestClassifier|PCA PowerTransformer|Qua...  0.977333  0.932   \n",
              "RandomForestClassifier|PCA MinMaxScaler|Standar...  0.974000  0.931   \n",
              "RandomForestClassifier|PCA MinMaxScaler|Quantil...  0.976667  0.936   \n",
              "RandomForestClassifier|Raw MinMaxScaler|Quantil...  0.978000  0.939   \n",
              "RandomForestClassifier|PCA Normalizer|QuantileT...  0.980000  0.937   \n",
              "RandomForestClassifier|Raw Normalizer|QuantileT...  0.982000  0.940   \n",
              "RandomForestClassifier|KPCA MinMaxScaler|Normal...  0.976000  0.925   \n",
              "RandomForestClassifier|Raw Normalizer|StandardS...  0.973333  0.939   \n",
              "SVC|PCA MinMaxScaler|Normalizer|                    0.942667  0.939   \n",
              "SVC|PCA MinMaxScaler|QuantileTransformer|           0.944000  0.940   \n",
              "\n",
              "                                                                    classifier  \\\n",
              "AdaBoostClassifier|PCA StandardScaler|PowerTran...          AdaBoostClassifier   \n",
              "AdaBoostClassifier|PCA MinMaxScaler|PowerTransf...          AdaBoostClassifier   \n",
              "AdaBoostClassifier|Raw PowerTransformer|Quantil...          AdaBoostClassifier   \n",
              "AdaBoostClassifier|Raw StandardScaler|PowerTran...          AdaBoostClassifier   \n",
              "AdaBoostClassifier|Raw Normalizer|StandardScaler|           AdaBoostClassifier   \n",
              "AdaBoostClassifier|Raw Normalizer|PowerTransfor...          AdaBoostClassifier   \n",
              "AdaBoostClassifier|KPCA MinMaxScaler|QuantileTr...          AdaBoostClassifier   \n",
              "AdaBoostClassifier|Raw StandardScaler|QuantileT...          AdaBoostClassifier   \n",
              "AdaBoostClassifier|PCA PowerTransformer|Quantil...          AdaBoostClassifier   \n",
              "AdaBoostClassifier|PCA StandardScaler|QuantileT...          AdaBoostClassifier   \n",
              "AdaBoostClassifier|Raw MinMaxScaler|PowerTransf...          AdaBoostClassifier   \n",
              "AdaBoostClassifier|Raw MinMaxScaler|Normalizer|             AdaBoostClassifier   \n",
              "AdaBoostClassifier|PCA MinMaxScaler|Normalizer|             AdaBoostClassifier   \n",
              "AdaBoostClassifier|PCA Normalizer|PowerTransfor...          AdaBoostClassifier   \n",
              "AdaBoostClassifier|Raw MinMaxScaler|QuantileTra...          AdaBoostClassifier   \n",
              "AdaBoostClassifier|PCA MinMaxScaler|QuantileTra...          AdaBoostClassifier   \n",
              "AdaBoostClassifier|KPCA MinMaxScaler|StandardSc...          AdaBoostClassifier   \n",
              "AdaBoostClassifier|Raw Normalizer|QuantileTrans...          AdaBoostClassifier   \n",
              "AdaBoostClassifier|PCA Normalizer|QuantileTrans...          AdaBoostClassifier   \n",
              "AdaBoostClassifier|Raw MinMaxScaler|StandardSca...          AdaBoostClassifier   \n",
              "AdaBoostClassifier|KPCA MinMaxScaler|Normalizer|            AdaBoostClassifier   \n",
              "AdaBoostClassifier|ICA MinMaxScaler|StandardSca...          AdaBoostClassifier   \n",
              "AdaBoostClassifier|PCA MinMaxScaler|StandardSca...          AdaBoostClassifier   \n",
              "AdaBoostClassifier|MDS StandardScaler|PowerTran...          AdaBoostClassifier   \n",
              "GradientBoostingClassifier|PCA StandardScaler|P...  GradientBoostingClassifier   \n",
              "GradientBoostingClassifier|KPCA StandardScaler|...  GradientBoostingClassifier   \n",
              "GradientBoostingClassifier|KPCA PowerTransforme...  GradientBoostingClassifier   \n",
              "GradientBoostingClassifier|PCA PowerTransformer...  GradientBoostingClassifier   \n",
              "GradientBoostingClassifier|PCA Normalizer|Power...  GradientBoostingClassifier   \n",
              "GradientBoostingClassifier|Raw StandardScaler|P...  GradientBoostingClassifier   \n",
              "...                                                                        ...   \n",
              "LogisticRegression2|KPCA MinMaxScaler|Normalizer|          LogisticRegression2   \n",
              "LogisticRegression2|Raw MinMaxScaler|StandardSc...         LogisticRegression2   \n",
              "LogisticRegression2|PCA MinMaxScaler|StandardSc...         LogisticRegression2   \n",
              "LogisticRegression2|KPCA Normalizer|PowerTransf...         LogisticRegression2   \n",
              "LogisticRegression2|KPCA Normalizer|StandardSca...         LogisticRegression2   \n",
              "RandomForestClassifier|Raw StandardScaler|Power...      RandomForestClassifier   \n",
              "RandomForestClassifier|PCA StandardScaler|Power...      RandomForestClassifier   \n",
              "RandomForestClassifier|KPCA Normalizer|Quantile...      RandomForestClassifier   \n",
              "RandomForestClassifier|PCA MinMaxScaler|PowerTr...      RandomForestClassifier   \n",
              "RandomForestClassifier|Raw PowerTransformer|Qua...      RandomForestClassifier   \n",
              "RandomForestClassifier|PCA StandardScaler|Quant...      RandomForestClassifier   \n",
              "RandomForestClassifier|Raw StandardScaler|Quant...      RandomForestClassifier   \n",
              "RandomForestClassifier|Raw Normalizer|PowerTran...      RandomForestClassifier   \n",
              "RandomForestClassifier|KPCA StandardScaler|Quan...      RandomForestClassifier   \n",
              "RandomForestClassifier|Raw MinMaxScaler|PowerTr...      RandomForestClassifier   \n",
              "RandomForestClassifier|PCA MinMaxScaler|Normali...      RandomForestClassifier   \n",
              "RandomForestClassifier|PCA Normalizer|PowerTran...      RandomForestClassifier   \n",
              "RandomForestClassifier|KPCA PowerTransformer|Qu...      RandomForestClassifier   \n",
              "RandomForestClassifier|Raw MinMaxScaler|Normali...      RandomForestClassifier   \n",
              "RandomForestClassifier|Raw MinMaxScaler|Standar...      RandomForestClassifier   \n",
              "RandomForestClassifier|PCA PowerTransformer|Qua...      RandomForestClassifier   \n",
              "RandomForestClassifier|PCA MinMaxScaler|Standar...      RandomForestClassifier   \n",
              "RandomForestClassifier|PCA MinMaxScaler|Quantil...      RandomForestClassifier   \n",
              "RandomForestClassifier|Raw MinMaxScaler|Quantil...      RandomForestClassifier   \n",
              "RandomForestClassifier|PCA Normalizer|QuantileT...      RandomForestClassifier   \n",
              "RandomForestClassifier|Raw Normalizer|QuantileT...      RandomForestClassifier   \n",
              "RandomForestClassifier|KPCA MinMaxScaler|Normal...      RandomForestClassifier   \n",
              "RandomForestClassifier|Raw Normalizer|StandardS...      RandomForestClassifier   \n",
              "SVC|PCA MinMaxScaler|Normalizer|                                           SVC   \n",
              "SVC|PCA MinMaxScaler|QuantileTransformer|                                  SVC   \n",
              "\n",
              "                                                         std  \n",
              "AdaBoostClassifier|PCA StandardScaler|PowerTran...  0.012826  \n",
              "AdaBoostClassifier|PCA MinMaxScaler|PowerTransf...  0.041399  \n",
              "AdaBoostClassifier|Raw PowerTransformer|Quantil...  0.005291  \n",
              "AdaBoostClassifier|Raw StandardScaler|PowerTran...  0.006277  \n",
              "AdaBoostClassifier|Raw Normalizer|StandardScaler|   0.007280  \n",
              "AdaBoostClassifier|Raw Normalizer|PowerTransfor...  0.004740  \n",
              "AdaBoostClassifier|KPCA MinMaxScaler|QuantileTr...  0.003635  \n",
              "AdaBoostClassifier|Raw StandardScaler|QuantileT...  0.005475  \n",
              "AdaBoostClassifier|PCA PowerTransformer|Quantil...  0.003328  \n",
              "AdaBoostClassifier|PCA StandardScaler|QuantileT...  0.002236  \n",
              "AdaBoostClassifier|Raw MinMaxScaler|PowerTransf...  0.002420  \n",
              "AdaBoostClassifier|Raw MinMaxScaler|Normalizer|     0.002705  \n",
              "AdaBoostClassifier|PCA MinMaxScaler|Normalizer|     0.002056  \n",
              "AdaBoostClassifier|PCA Normalizer|PowerTransfor...  0.002798  \n",
              "AdaBoostClassifier|Raw MinMaxScaler|QuantileTra...  0.001822  \n",
              "AdaBoostClassifier|PCA MinMaxScaler|QuantileTra...  0.001822  \n",
              "AdaBoostClassifier|KPCA MinMaxScaler|StandardSc...  0.054208  \n",
              "AdaBoostClassifier|Raw Normalizer|QuantileTrans...  0.003986  \n",
              "AdaBoostClassifier|PCA Normalizer|QuantileTrans...  0.004149  \n",
              "AdaBoostClassifier|Raw MinMaxScaler|StandardSca...  0.011818  \n",
              "AdaBoostClassifier|KPCA MinMaxScaler|Normalizer|    0.009061  \n",
              "AdaBoostClassifier|ICA MinMaxScaler|StandardSca...  0.010058  \n",
              "AdaBoostClassifier|PCA MinMaxScaler|StandardSca...  0.009751  \n",
              "AdaBoostClassifier|MDS StandardScaler|PowerTran...  0.023710  \n",
              "GradientBoostingClassifier|PCA StandardScaler|P...  0.011894  \n",
              "GradientBoostingClassifier|KPCA StandardScaler|...  0.008792  \n",
              "GradientBoostingClassifier|KPCA PowerTransforme...  0.018512  \n",
              "GradientBoostingClassifier|PCA PowerTransformer...  0.008279  \n",
              "GradientBoostingClassifier|PCA Normalizer|Power...  0.006229  \n",
              "GradientBoostingClassifier|Raw StandardScaler|P...  0.008426  \n",
              "...                                                      ...  \n",
              "LogisticRegression2|KPCA MinMaxScaler|Normalizer|   0.009038  \n",
              "LogisticRegression2|Raw MinMaxScaler|StandardSc...  0.009038  \n",
              "LogisticRegression2|PCA MinMaxScaler|StandardSc...  0.009829  \n",
              "LogisticRegression2|KPCA Normalizer|PowerTransf...  0.036486  \n",
              "LogisticRegression2|KPCA Normalizer|StandardSca...  0.030744  \n",
              "RandomForestClassifier|Raw StandardScaler|Power...  0.030625  \n",
              "RandomForestClassifier|PCA StandardScaler|Power...  0.031386  \n",
              "RandomForestClassifier|KPCA Normalizer|Quantile...  0.031896  \n",
              "RandomForestClassifier|PCA MinMaxScaler|PowerTr...  0.026085  \n",
              "RandomForestClassifier|Raw PowerTransformer|Qua...  0.026663  \n",
              "RandomForestClassifier|PCA StandardScaler|Quant...  0.027689  \n",
              "RandomForestClassifier|Raw StandardScaler|Quant...  0.024177  \n",
              "RandomForestClassifier|Raw Normalizer|PowerTran...  0.024779  \n",
              "RandomForestClassifier|KPCA StandardScaler|Quan...  0.042717  \n",
              "RandomForestClassifier|Raw MinMaxScaler|PowerTr...  0.024003  \n",
              "RandomForestClassifier|PCA MinMaxScaler|Normali...  0.026636  \n",
              "RandomForestClassifier|PCA Normalizer|PowerTran...  0.027574  \n",
              "RandomForestClassifier|KPCA PowerTransformer|Qu...  0.032638  \n",
              "RandomForestClassifier|Raw MinMaxScaler|Normali...  0.026938  \n",
              "RandomForestClassifier|Raw MinMaxScaler|Standar...  0.022311  \n",
              "RandomForestClassifier|PCA PowerTransformer|Qua...  0.027845  \n",
              "RandomForestClassifier|PCA MinMaxScaler|Standar...  0.024970  \n",
              "RandomForestClassifier|PCA MinMaxScaler|Quantil...  0.025502  \n",
              "RandomForestClassifier|Raw MinMaxScaler|Quantil...  0.023965  \n",
              "RandomForestClassifier|PCA Normalizer|QuantileT...  0.024137  \n",
              "RandomForestClassifier|Raw Normalizer|QuantileT...  0.023593  \n",
              "RandomForestClassifier|KPCA MinMaxScaler|Normal...  0.027170  \n",
              "RandomForestClassifier|Raw Normalizer|StandardS...  0.021896  \n",
              "SVC|PCA MinMaxScaler|Normalizer|                    0.001652  \n",
              "SVC|PCA MinMaxScaler|QuantileTransformer|           0.001822  \n",
              "\n",
              "[120 rows x 6 columns]"
            ]
          },
          "metadata": {
            "tags": []
          },
          "execution_count": 21
        }
      ]
    },
    {
      "metadata": {
        "id": "KeV4NAiM_aC-",
        "colab_type": "code",
        "colab": {
          "base_uri": "https://localhost:8080/",
          "height": 33
        },
        "outputId": "e230c653-c92e-4472-99aa-f8a0bd4a1da0"
      },
      "cell_type": "code",
      "source": [
        "set([i.split('|')[1].split(' ')[0] for i  in df_clfs_score.index.tolist()])"
      ],
      "execution_count": 15,
      "outputs": [
        {
          "output_type": "execute_result",
          "data": {
            "text/plain": [
              "{'ICA', 'KPCA', 'MDS', 'PCA', 'Raw'}"
            ]
          },
          "metadata": {
            "tags": []
          },
          "execution_count": 15
        }
      ]
    },
    {
      "metadata": {
        "id": "gVA5s1zlBRon",
        "colab_type": "code",
        "colab": {
          "base_uri": "https://localhost:8080/",
          "height": 33
        },
        "outputId": "c5fde65c-9f0d-4c1f-f382-78c9df87095d"
      },
      "cell_type": "code",
      "source": [
        "set([i.split('|')[1].split(' ')[1] for i  in df_clfs_score.index.tolist()])"
      ],
      "execution_count": 16,
      "outputs": [
        {
          "output_type": "execute_result",
          "data": {
            "text/plain": [
              "{'MinMaxScaler', 'Normalizer', 'PowerTransformer', 'StandardScaler'}"
            ]
          },
          "metadata": {
            "tags": []
          },
          "execution_count": 16
        }
      ]
    },
    {
      "metadata": {
        "id": "EgR7Ih2SBcJ3",
        "colab_type": "code",
        "colab": {
          "base_uri": "https://localhost:8080/",
          "height": 33
        },
        "outputId": "78056bb5-e7ef-46cf-d781-1fb886208de3"
      },
      "cell_type": "code",
      "source": [
        "set([i.split('|')[2] for i  in df_clfs_score.index.tolist()])"
      ],
      "execution_count": 17,
      "outputs": [
        {
          "output_type": "execute_result",
          "data": {
            "text/plain": [
              "{'Normalizer', 'PowerTransformer', 'QuantileTransformer', 'StandardScaler'}"
            ]
          },
          "metadata": {
            "tags": []
          },
          "execution_count": 17
        }
      ]
    },
    {
      "metadata": {
        "colab_type": "text",
        "id": "TAZWwpZCEM6x"
      },
      "cell_type": "markdown",
      "source": [
        "## 6.3 Refine Redimensioning to Validate Model "
      ]
    },
    {
      "metadata": {
        "id": "4m1C0rdkEZjw",
        "colab_type": "code",
        "colab": {
          "base_uri": "https://localhost:8080/",
          "height": 10408
        },
        "outputId": "e2572e14-70d3-4a3f-dd91-856cc994ecf5"
      },
      "cell_type": "code",
      "source": [
        "manager = Manager()\n",
        "clfs3 = manager.dict()\n",
        "clfs_score3 = manager.dict()\n",
        "\n",
        "flatten = lambda l: [item for sublist in l for item in sublist]\n",
        "\n",
        "y_train = ActivePension_df.sample(n=5000, random_state=2)['IsPensionPaid'].as_matrix()\n",
        "X_train = ActivePension_df[x_cols2].sample(n=5000, random_state=2)\n",
        "\n",
        "X_train = X_train.astype(float)\n",
        "\n",
        "scaling_def = {'MinMaxScaler': MinMaxScaler(),\n",
        "               'QuantileTransformer_u':QuantileTransformer(output_distribution='uniform'),'QuantileTransformer_n':QuantileTransformer(output_distribution='normal'),\n",
        "               'StandardScalerMTST': StandardScaler(with_mean=True, with_std=True),'StandardScalerMTSF': StandardScaler(with_mean=True, with_std=False),'StandardScalerMFST': StandardScaler(with_mean=False, with_std=True),'StandardScalerMFSF': StandardScaler(with_mean=False, with_std=False),\n",
        "               'Normalizer_l2': Normalizer(norm='l2'), 'Normalizer_l1': Normalizer(norm='l1'),\n",
        "               'PowerTransformer_std':PowerTransformer(standardize=True),'PowerTransformer':PowerTransformer(standardize=False)\n",
        "              \n",
        "              }\n",
        "\n",
        "#scaling_def = {'MinMaxScaler': MinMaxScaler()}\n",
        "\n",
        "redemensioning_def = {'Raw':None,\n",
        "                      'PCA': PCA(n_components=0.99, svd_solver='full',whiten=False),'PCAW': PCA(n_components=0.99, svd_solver='full',whiten=True),\n",
        "                      'ICA_P': FastICA(n_components=len(X_train.columns), algorithm='parallel'),'ICA_D': FastICA(n_components=len(X_train.columns), algorithm='deflation'),\n",
        "                      'KPCA_rbf': KernelPCA(n_components=len(X_train.columns), kernel='rbf',n_jobs=-1),'KPCA_lin': KernelPCA(n_components=len(X_train.columns), kernel='linear',n_jobs=-1),'KPCA_pol': KernelPCA(n_components=len(X_train.columns), kernel='poly',n_jobs=-1),'KPCA_sigm': KernelPCA(n_components=len(X_train.columns), kernel='sigmoid',n_jobs=-1),'KPCA_cos': KernelPCA(n_components=len(X_train.columns), kernel='cosine',n_jobs=-1),\n",
        "                      'MDS_met': MDS(n_components=len(X_train.columns), metric=True, n_jobs=-1),'MDS': MDS(n_components=len(X_train.columns), metric=False, n_jobs=-1)\n",
        "                     }\n",
        "\n",
        "\n",
        "#redemensioning_def = {'Raw':None}\n",
        "\n",
        "for clf in df_clfs_score.index.tolist():\n",
        "  for i in clf.split(' ')[1:]:\n",
        "    for j in i.split('|'):\n",
        "      if j != '':\n",
        "        scaling_def_temp = {s: scaling_def[s]  for s in scaling_def if j in s}\n",
        "        redemensioning_def_temp = {i: redemensioning_def[i] for i in flatten([i.split(' ') for i in clf.split('|')])[1:] if i in redemensioning_def}\n",
        "        for data in map(lambda x:Redimensioning2(x[1],x[0],redemensioning_def_temp), scaling3(X_train,scaling_def_temp)):\n",
        "          for x in data:                  \n",
        "            #print(x[1])\n",
        "            #print(x[0])\n",
        "            p = Process(target=MLModelBuilding, args=(clf.split('|')[0], x[1], x[0], y_train, 0.3, clfs3,[0.9,0.1],clfs_score3))\n",
        "            #MLModelBuilding(clf.split('|')[0], x[1], x[0], y_train, 0.3, clfs3,[0.9,0.1],clfs_score3)\n",
        "            p.start()\n",
        "            p.join(180)\n",
        "            p.terminate()\n",
        "              "
      ],
      "execution_count": 23,
      "outputs": [
        {
          "output_type": "stream",
          "text": [
            "/usr/local/lib/python3.6/dist-packages/sklearn/ensemble/forest.py:246: FutureWarning: The default value of n_estimators will change from 10 in version 0.20 to 100 in 0.22.\n",
            "  \"10 in version 0.20 to 100 in 0.22.\", FutureWarning)\n"
          ],
          "name": "stderr"
        },
        {
          "output_type": "stream",
          "text": [
            "Train score: 0.9857142857142858\n",
            "Test score: 0.9066666666666666\n",
            "Test2 score: 0.9666666666666667\n",
            "RandomForestClassifier|Raw MinMaxScaler|\n",
            "\n"
          ],
          "name": "stdout"
        },
        {
          "output_type": "stream",
          "text": [
            "/usr/local/lib/python3.6/dist-packages/sklearn/ensemble/forest.py:246: FutureWarning: The default value of n_estimators will change from 10 in version 0.20 to 100 in 0.22.\n",
            "  \"10 in version 0.20 to 100 in 0.22.\", FutureWarning)\n"
          ],
          "name": "stderr"
        },
        {
          "output_type": "stream",
          "text": [
            "Train score: 0.9871428571428571\n",
            "Test score: 0.9066666666666666\n",
            "Test2 score: 0.9666666666666667\n",
            "RandomForestClassifier|Raw \n",
            "\n",
            "Train score: 0.96\n",
            "Test score: 0.91\n",
            "Test2 score: 0.96\n",
            "GradientBoostingClassifier|Raw MinMaxScaler|\n",
            "\n",
            "Train score: 0.96\n",
            "Test score: 0.91\n",
            "Test2 score: 0.96\n",
            "GradientBoostingClassifier|Raw \n",
            "\n",
            "best estimate parameters {'C': 0.41071634636468335, 'class_weight': 'balanced', 'fit_intercept': False, 'intercept_scaling': 0.5563573218252669, 'loss': 'squared_hinge', 'max_iter': 51, 'tol': 0.252119990158549}\n",
            "Train score: 0.94\n",
            "Test score: 0.91\n",
            "Test2 score: 0.94\n",
            "LinearSVC|Raw MinMaxScaler|\n",
            "\n",
            "best estimate parameters {'C': 0.9786815370071502, 'class_weight': 'balanced', 'fit_intercept': True, 'intercept_scaling': 0.08670086476878891, 'loss': 'squared_hinge', 'max_iter': 92, 'tol': 0.4293827532256457}\n"
          ],
          "name": "stdout"
        },
        {
          "output_type": "stream",
          "text": [
            "/usr/local/lib/python3.6/dist-packages/sklearn/svm/base.py:931: ConvergenceWarning: Liblinear failed to converge, increase the number of iterations.\n",
            "  \"the number of iterations.\", ConvergenceWarning)\n"
          ],
          "name": "stderr"
        },
        {
          "output_type": "stream",
          "text": [
            "LinearSVC|Raw \n",
            "\n",
            "best estimate parameters {'C': 0.9916848316247971, 'intercept_scaling': 0.738214237196977, 'max_iter': 38, 'solver': 'saga', 'tol': 0.3319464934452362}\n",
            "Train score: 0.94\n",
            "Test score: 0.91\n",
            "Test2 score: 0.94\n",
            "LogisticRegression2|Raw MinMaxScaler|\n",
            "\n",
            "best estimate parameters {'C': 0.42882879677056085, 'intercept_scaling': 0.9317156541525596, 'max_iter': 94, 'solver': 'newton-cg', 'tol': 0.39741686400136167}\n"
          ],
          "name": "stdout"
        },
        {
          "output_type": "stream",
          "text": [
            "/usr/local/lib/python3.6/dist-packages/scipy/optimize/linesearch.py:462: LineSearchWarning: The line search algorithm did not converge\n",
            "  warn('The line search algorithm did not converge', LineSearchWarning)\n",
            "/usr/local/lib/python3.6/dist-packages/scipy/optimize/linesearch.py:313: LineSearchWarning: The line search algorithm did not converge\n",
            "  warn('The line search algorithm did not converge', LineSearchWarning)\n",
            "/usr/local/lib/python3.6/dist-packages/sklearn/utils/optimize.py:203: ConvergenceWarning: newton-cg failed to converge. Increase the number of iterations.\n",
            "  \"number of iterations.\", ConvergenceWarning)\n"
          ],
          "name": "stderr"
        },
        {
          "output_type": "stream",
          "text": [
            "Train score: 0.94\n",
            "Test score: 0.91\n",
            "Test2 score: 0.94\n",
            "LogisticRegression2|Raw \n",
            "\n",
            "best estimate parameters {'learning_rate': 1.7548902244267157, 'n_estimators': 96}\n",
            "Train score: 0.9685714285714285\n",
            "Test score: 0.9066666666666666\n",
            "Test2 score: 0.9566666666666667\n",
            "AdaBoostClassifier|Raw MinMaxScaler|\n",
            "\n",
            "best estimate parameters {'learning_rate': 1.9666013012014187, 'n_estimators': 100}\n",
            "Train score: 0.9414285714285714\n",
            "Test score: 0.91\n",
            "Test2 score: 0.9333333333333333\n",
            "AdaBoostClassifier|Raw \n",
            "\n"
          ],
          "name": "stdout"
        },
        {
          "output_type": "stream",
          "text": [
            "/usr/local/lib/python3.6/dist-packages/sklearn/ensemble/forest.py:246: FutureWarning: The default value of n_estimators will change from 10 in version 0.20 to 100 in 0.22.\n",
            "  \"10 in version 0.20 to 100 in 0.22.\", FutureWarning)\n"
          ],
          "name": "stderr"
        },
        {
          "output_type": "stream",
          "text": [
            "Train score: 0.9857142857142858\n",
            "Test score: 0.9066666666666666\n",
            "Test2 score: 0.9666666666666667\n",
            "RandomForestClassifier|Raw MinMaxScaler|\n",
            "\n"
          ],
          "name": "stdout"
        },
        {
          "output_type": "stream",
          "text": [
            "/usr/local/lib/python3.6/dist-packages/sklearn/ensemble/forest.py:246: FutureWarning: The default value of n_estimators will change from 10 in version 0.20 to 100 in 0.22.\n",
            "  \"10 in version 0.20 to 100 in 0.22.\", FutureWarning)\n"
          ],
          "name": "stderr"
        },
        {
          "output_type": "stream",
          "text": [
            "Train score: 0.9871428571428571\n",
            "Test score: 0.9066666666666666\n",
            "Test2 score: 0.9666666666666667\n",
            "RandomForestClassifier|Raw \n",
            "\n",
            "Train score: 0.96\n",
            "Test score: 0.91\n",
            "Test2 score: 0.96\n",
            "GradientBoostingClassifier|Raw MinMaxScaler|\n",
            "\n",
            "Train score: 0.96\n",
            "Test score: 0.91\n",
            "Test2 score: 0.96\n",
            "GradientBoostingClassifier|Raw \n",
            "\n",
            "best estimate parameters {'C': 0.6524742078994579, 'intercept_scaling': 0.40875518350332996, 'max_iter': 19, 'solver': 'lbfgs', 'tol': 0.5693920980530134}\n",
            "Train score: 0.94\n",
            "Test score: 0.91\n",
            "Test2 score: 0.94\n",
            "LogisticRegression2|Raw MinMaxScaler|\n",
            "\n",
            "best estimate parameters {'C': 0.8474599257125642, 'intercept_scaling': 0.027693004735723448, 'max_iter': 81, 'solver': 'newton-cg', 'tol': 0.015803301727690622}\n"
          ],
          "name": "stdout"
        },
        {
          "output_type": "stream",
          "text": [
            "/usr/local/lib/python3.6/dist-packages/scipy/optimize/linesearch.py:462: LineSearchWarning: The line search algorithm did not converge\n",
            "  warn('The line search algorithm did not converge', LineSearchWarning)\n",
            "/usr/local/lib/python3.6/dist-packages/scipy/optimize/linesearch.py:313: LineSearchWarning: The line search algorithm did not converge\n",
            "  warn('The line search algorithm did not converge', LineSearchWarning)\n",
            "/usr/local/lib/python3.6/dist-packages/scipy/optimize/linesearch.py:462: LineSearchWarning: The line search algorithm did not converge\n",
            "  warn('The line search algorithm did not converge', LineSearchWarning)\n",
            "/usr/local/lib/python3.6/dist-packages/scipy/optimize/linesearch.py:313: LineSearchWarning: The line search algorithm did not converge\n",
            "  warn('The line search algorithm did not converge', LineSearchWarning)\n",
            "/usr/local/lib/python3.6/dist-packages/sklearn/utils/optimize.py:203: ConvergenceWarning: newton-cg failed to converge. Increase the number of iterations.\n",
            "  \"number of iterations.\", ConvergenceWarning)\n"
          ],
          "name": "stderr"
        },
        {
          "output_type": "stream",
          "text": [
            "Train score: 0.94\n",
            "Test score: 0.91\n",
            "Test2 score: 0.94\n",
            "LogisticRegression2|Raw \n",
            "\n",
            "best estimate parameters {'C': 0.8615189414894533, 'class_weight': 'balanced', 'fit_intercept': False, 'intercept_scaling': 0.02151595211650459, 'loss': 'hinge', 'max_iter': 77, 'tol': 0.27731885652859034}\n",
            "Train score: 0.94\n",
            "Test score: 0.91\n",
            "Test2 score: 0.94\n",
            "LinearSVC|Raw MinMaxScaler|\n",
            "\n",
            "best estimate parameters {'C': 0.12850777331892704, 'class_weight': 'balanced', 'fit_intercept': False, 'intercept_scaling': 0.5309887575603403, 'loss': 'hinge', 'max_iter': 80, 'tol': 0.8528601123312851}\n"
          ],
          "name": "stdout"
        },
        {
          "output_type": "stream",
          "text": [
            "/usr/local/lib/python3.6/dist-packages/sklearn/svm/base.py:931: ConvergenceWarning: Liblinear failed to converge, increase the number of iterations.\n",
            "  \"the number of iterations.\", ConvergenceWarning)\n"
          ],
          "name": "stderr"
        },
        {
          "output_type": "stream",
          "text": [
            "LinearSVC|Raw \n",
            "\n",
            "best estimate parameters {'learning_rate': 1.914192782888905, 'n_estimators': 50}\n",
            "Train score: 0.9471428571428572\n",
            "Test score: 0.8966666666666666\n",
            "Test2 score: 0.9366666666666666\n",
            "AdaBoostClassifier|Raw MinMaxScaler|\n",
            "\n",
            "best estimate parameters {'learning_rate': 2.540508365657223, 'n_estimators': 137}\n",
            "Train score: 0.9442857142857143\n",
            "Test score: 0.91\n",
            "Test2 score: 0.94\n",
            "AdaBoostClassifier|Raw \n",
            "\n"
          ],
          "name": "stdout"
        },
        {
          "output_type": "stream",
          "text": [
            "/usr/local/lib/python3.6/dist-packages/sklearn/ensemble/forest.py:246: FutureWarning: The default value of n_estimators will change from 10 in version 0.20 to 100 in 0.22.\n",
            "  \"10 in version 0.20 to 100 in 0.22.\", FutureWarning)\n"
          ],
          "name": "stderr"
        },
        {
          "output_type": "stream",
          "text": [
            "Train score: 0.9857142857142858\n",
            "Test score: 0.9066666666666666\n",
            "Test2 score: 0.9666666666666667\n",
            "RandomForestClassifier|Raw MinMaxScaler|\n",
            "\n"
          ],
          "name": "stdout"
        },
        {
          "output_type": "stream",
          "text": [
            "/usr/local/lib/python3.6/dist-packages/sklearn/ensemble/forest.py:246: FutureWarning: The default value of n_estimators will change from 10 in version 0.20 to 100 in 0.22.\n",
            "  \"10 in version 0.20 to 100 in 0.22.\", FutureWarning)\n"
          ],
          "name": "stderr"
        },
        {
          "output_type": "stream",
          "text": [
            "Train score: 0.9871428571428571\n",
            "Test score: 0.9066666666666666\n",
            "Test2 score: 0.9666666666666667\n",
            "RandomForestClassifier|Raw \n",
            "\n",
            "Train score: 0.96\n",
            "Test score: 0.91\n",
            "Test2 score: 0.96\n",
            "GradientBoostingClassifier|Raw MinMaxScaler|\n",
            "\n",
            "Train score: 0.96\n",
            "Test score: 0.91\n",
            "Test2 score: 0.96\n",
            "GradientBoostingClassifier|Raw \n",
            "\n",
            "best estimate parameters {'C': 0.9838073969859641, 'intercept_scaling': 0.7952612442526739, 'max_iter': 0, 'solver': 'saga', 'tol': 0.14740588213781491}\n",
            "LogisticRegression2|Raw MinMaxScaler|\n",
            "\n",
            "best estimate parameters {'C': 0.6012766464244754, 'intercept_scaling': 0.44151520266714367, 'max_iter': 61, 'solver': 'newton-cg', 'tol': 0.8620595726618898}\n"
          ],
          "name": "stdout"
        },
        {
          "output_type": "stream",
          "text": [
            "/usr/local/lib/python3.6/dist-packages/scipy/optimize/linesearch.py:462: LineSearchWarning: The line search algorithm did not converge\n",
            "  warn('The line search algorithm did not converge', LineSearchWarning)\n",
            "/usr/local/lib/python3.6/dist-packages/scipy/optimize/linesearch.py:313: LineSearchWarning: The line search algorithm did not converge\n",
            "  warn('The line search algorithm did not converge', LineSearchWarning)\n",
            "/usr/local/lib/python3.6/dist-packages/sklearn/utils/optimize.py:203: ConvergenceWarning: newton-cg failed to converge. Increase the number of iterations.\n",
            "  \"number of iterations.\", ConvergenceWarning)\n"
          ],
          "name": "stderr"
        },
        {
          "output_type": "stream",
          "text": [
            "Train score: 0.94\n",
            "Test score: 0.91\n",
            "Test2 score: 0.94\n",
            "LogisticRegression2|Raw \n",
            "\n",
            "best estimate parameters {'C': 0.7901134624858944, 'class_weight': '', 'fit_intercept': False, 'intercept_scaling': 0.9235113782034201, 'loss': 'squared_hinge', 'max_iter': 87, 'tol': 0.6662346673869164}\n",
            "Train score: 0.94\n",
            "Test score: 0.91\n",
            "Test2 score: 0.94\n",
            "LinearSVC|Raw MinMaxScaler|\n",
            "\n",
            "best estimate parameters {'C': 0.016536536119320266, 'class_weight': '', 'fit_intercept': False, 'intercept_scaling': 0.9788766368717815, 'loss': 'squared_hinge', 'max_iter': 92, 'tol': 0.5892507721208308}\n"
          ],
          "name": "stdout"
        },
        {
          "output_type": "stream",
          "text": [
            "/usr/local/lib/python3.6/dist-packages/sklearn/svm/base.py:931: ConvergenceWarning: Liblinear failed to converge, increase the number of iterations.\n",
            "  \"the number of iterations.\", ConvergenceWarning)\n"
          ],
          "name": "stderr"
        },
        {
          "output_type": "stream",
          "text": [
            "LinearSVC|Raw \n",
            "\n",
            "best estimate parameters {'learning_rate': 2.5793512407944146, 'n_estimators': 105}\n",
            "Train score: 0.9442857142857143\n",
            "Test score: 0.91\n",
            "Test2 score: 0.94\n",
            "AdaBoostClassifier|Raw MinMaxScaler|\n",
            "\n",
            "best estimate parameters {'learning_rate': 1.9594607571953742, 'n_estimators': 42}\n",
            "Train score: 0.9328571428571428\n",
            "Test score: 0.8733333333333333\n",
            "Test2 score: 0.94\n",
            "AdaBoostClassifier|Raw \n",
            "\n"
          ],
          "name": "stdout"
        },
        {
          "output_type": "stream",
          "text": [
            "/usr/local/lib/python3.6/dist-packages/sklearn/ensemble/forest.py:246: FutureWarning: The default value of n_estimators will change from 10 in version 0.20 to 100 in 0.22.\n",
            "  \"10 in version 0.20 to 100 in 0.22.\", FutureWarning)\n"
          ],
          "name": "stderr"
        },
        {
          "output_type": "stream",
          "text": [
            "Train score: 0.9857142857142858\n",
            "Test score: 0.9066666666666666\n",
            "Test2 score: 0.9666666666666667\n",
            "RandomForestClassifier|Raw MinMaxScaler|\n",
            "\n"
          ],
          "name": "stdout"
        },
        {
          "output_type": "stream",
          "text": [
            "/usr/local/lib/python3.6/dist-packages/sklearn/ensemble/forest.py:246: FutureWarning: The default value of n_estimators will change from 10 in version 0.20 to 100 in 0.22.\n",
            "  \"10 in version 0.20 to 100 in 0.22.\", FutureWarning)\n"
          ],
          "name": "stderr"
        },
        {
          "output_type": "stream",
          "text": [
            "Train score: 0.9871428571428571\n",
            "Test score: 0.9066666666666666\n",
            "Test2 score: 0.9666666666666667\n",
            "RandomForestClassifier|Raw \n",
            "\n",
            "Train score: 0.96\n",
            "Test score: 0.91\n",
            "Test2 score: 0.96\n",
            "GradientBoostingClassifier|Raw MinMaxScaler|\n",
            "\n",
            "Train score: 0.96\n",
            "Test score: 0.91\n",
            "Test2 score: 0.96\n",
            "GradientBoostingClassifier|Raw \n",
            "\n",
            "best estimate parameters {'C': 0.7181596757366413, 'class_weight': '', 'fit_intercept': False, 'intercept_scaling': 0.2874051925575405, 'loss': 'squared_hinge', 'max_iter': 13, 'tol': 0.3434694265114394}\n"
          ],
          "name": "stdout"
        },
        {
          "output_type": "stream",
          "text": [
            "/usr/local/lib/python3.6/dist-packages/sklearn/svm/base.py:931: ConvergenceWarning: Liblinear failed to converge, increase the number of iterations.\n",
            "  \"the number of iterations.\", ConvergenceWarning)\n"
          ],
          "name": "stderr"
        },
        {
          "output_type": "stream",
          "text": [
            "Train score: 0.94\n",
            "Test score: 0.91\n",
            "Test2 score: 0.94\n",
            "LinearSVC|Raw MinMaxScaler|\n",
            "\n",
            "best estimate parameters {'C': 0.2533774176186028, 'class_weight': 'balanced', 'fit_intercept': True, 'intercept_scaling': 0.6596354922695075, 'loss': 'hinge', 'max_iter': 92, 'tol': 0.7171027257966506}\n"
          ],
          "name": "stdout"
        },
        {
          "output_type": "stream",
          "text": [
            "/usr/local/lib/python3.6/dist-packages/sklearn/svm/base.py:931: ConvergenceWarning: Liblinear failed to converge, increase the number of iterations.\n",
            "  \"the number of iterations.\", ConvergenceWarning)\n"
          ],
          "name": "stderr"
        },
        {
          "output_type": "stream",
          "text": [
            "LinearSVC|Raw \n",
            "\n",
            "best estimate parameters {'C': 0.5653919727381329, 'intercept_scaling': 0.41154812000699537, 'max_iter': 37, 'solver': 'newton-cg', 'tol': 0.26930593852976115}\n",
            "Train score: 0.94\n",
            "Test score: 0.91\n",
            "Test2 score: 0.94\n",
            "LogisticRegression2|Raw MinMaxScaler|\n",
            "\n",
            "best estimate parameters {'C': 0.10684226354055903, 'intercept_scaling': 0.5780443912412497, 'max_iter': 77, 'solver': 'newton-cg', 'tol': 0.9386486135991846}\n"
          ],
          "name": "stdout"
        },
        {
          "output_type": "stream",
          "text": [
            "/usr/local/lib/python3.6/dist-packages/sklearn/utils/optimize.py:203: ConvergenceWarning: newton-cg failed to converge. Increase the number of iterations.\n",
            "  \"number of iterations.\", ConvergenceWarning)\n"
          ],
          "name": "stderr"
        },
        {
          "output_type": "stream",
          "text": [
            "Train score: 0.94\n",
            "Test score: 0.9066666666666666\n",
            "Test2 score: 0.94\n",
            "LogisticRegression2|Raw \n",
            "\n",
            "best estimate parameters {'learning_rate': 2.202531046528002, 'n_estimators': 75}\n",
            "Train score: 0.9442857142857143\n",
            "Test score: 0.91\n",
            "Test2 score: 0.94\n",
            "AdaBoostClassifier|Raw MinMaxScaler|\n",
            "\n",
            "best estimate parameters {'learning_rate': 2.2844606366259845, 'n_estimators': 111}\n",
            "Train score: 0.9442857142857143\n",
            "Test score: 0.91\n",
            "Test2 score: 0.94\n",
            "AdaBoostClassifier|Raw \n",
            "\n"
          ],
          "name": "stdout"
        },
        {
          "output_type": "stream",
          "text": [
            "/usr/local/lib/python3.6/dist-packages/sklearn/ensemble/forest.py:246: FutureWarning: The default value of n_estimators will change from 10 in version 0.20 to 100 in 0.22.\n",
            "  \"10 in version 0.20 to 100 in 0.22.\", FutureWarning)\n"
          ],
          "name": "stderr"
        },
        {
          "output_type": "stream",
          "text": [
            "Train score: 0.9871428571428571\n",
            "Test score: 0.9066666666666666\n",
            "Test2 score: 0.9666666666666667\n",
            "RandomForestClassifier|Raw \n",
            "\n"
          ],
          "name": "stdout"
        },
        {
          "output_type": "stream",
          "text": [
            "/usr/local/lib/python3.6/dist-packages/sklearn/ensemble/forest.py:246: FutureWarning: The default value of n_estimators will change from 10 in version 0.20 to 100 in 0.22.\n",
            "  \"10 in version 0.20 to 100 in 0.22.\", FutureWarning)\n"
          ],
          "name": "stderr"
        },
        {
          "output_type": "stream",
          "text": [
            "Train score: 0.9871428571428571\n",
            "Test score: 0.9066666666666666\n",
            "Test2 score: 0.9666666666666667\n",
            "RandomForestClassifier|Raw \n",
            "\n",
            "Train score: 0.96\n",
            "Test score: 0.91\n",
            "Test2 score: 0.96\n",
            "GradientBoostingClassifier|Raw \n",
            "\n",
            "Train score: 0.96\n",
            "Test score: 0.91\n",
            "Test2 score: 0.96\n",
            "GradientBoostingClassifier|Raw \n",
            "\n",
            "best estimate parameters {'C': 0.28886269735728054, 'class_weight': 'balanced', 'fit_intercept': False, 'intercept_scaling': 0.2866773017824028, 'loss': 'hinge', 'max_iter': 92, 'tol': 0.014095775269562169}\n"
          ],
          "name": "stdout"
        },
        {
          "output_type": "stream",
          "text": [
            "/usr/local/lib/python3.6/dist-packages/sklearn/svm/base.py:931: ConvergenceWarning: Liblinear failed to converge, increase the number of iterations.\n",
            "  \"the number of iterations.\", ConvergenceWarning)\n"
          ],
          "name": "stderr"
        },
        {
          "output_type": "stream",
          "text": [
            "LinearSVC|Raw \n",
            "\n",
            "best estimate parameters {'C': 0.7052302325464865, 'class_weight': 'balanced', 'fit_intercept': True, 'intercept_scaling': 0.11993518172984652, 'loss': 'squared_hinge', 'max_iter': 92, 'tol': 0.5634184605458878}\n"
          ],
          "name": "stdout"
        },
        {
          "output_type": "stream",
          "text": [
            "/usr/local/lib/python3.6/dist-packages/sklearn/svm/base.py:931: ConvergenceWarning: Liblinear failed to converge, increase the number of iterations.\n",
            "  \"the number of iterations.\", ConvergenceWarning)\n"
          ],
          "name": "stderr"
        },
        {
          "output_type": "stream",
          "text": [
            "LinearSVC|Raw \n",
            "\n",
            "best estimate parameters {'C': 0.3150956938218653, 'intercept_scaling': 0.435205624177477, 'max_iter': 79, 'solver': 'newton-cg', 'tol': 0.8686947770514756}\n"
          ],
          "name": "stdout"
        },
        {
          "output_type": "stream",
          "text": [
            "/usr/local/lib/python3.6/dist-packages/sklearn/utils/optimize.py:203: ConvergenceWarning: newton-cg failed to converge. Increase the number of iterations.\n",
            "  \"number of iterations.\", ConvergenceWarning)\n"
          ],
          "name": "stderr"
        },
        {
          "output_type": "stream",
          "text": [
            "Train score: 0.94\n",
            "Test score: 0.91\n",
            "Test2 score: 0.94\n",
            "LogisticRegression2|Raw \n",
            "\n",
            "best estimate parameters {'C': 0.9713277104113536, 'intercept_scaling': 0.2713065052842071, 'max_iter': 88, 'solver': 'newton-cg', 'tol': 0.4979042383801848}\n"
          ],
          "name": "stdout"
        },
        {
          "output_type": "stream",
          "text": [
            "/usr/local/lib/python3.6/dist-packages/scipy/optimize/linesearch.py:462: LineSearchWarning: The line search algorithm did not converge\n",
            "  warn('The line search algorithm did not converge', LineSearchWarning)\n",
            "/usr/local/lib/python3.6/dist-packages/scipy/optimize/linesearch.py:313: LineSearchWarning: The line search algorithm did not converge\n",
            "  warn('The line search algorithm did not converge', LineSearchWarning)\n",
            "/usr/local/lib/python3.6/dist-packages/sklearn/utils/optimize.py:203: ConvergenceWarning: newton-cg failed to converge. Increase the number of iterations.\n",
            "  \"number of iterations.\", ConvergenceWarning)\n"
          ],
          "name": "stderr"
        },
        {
          "output_type": "stream",
          "text": [
            "Train score: 0.94\n",
            "Test score: 0.91\n",
            "Test2 score: 0.94\n",
            "LogisticRegression2|Raw \n",
            "\n",
            "best estimate parameters {'learning_rate': 2.197500648738208, 'n_estimators': 43}\n",
            "Train score: 0.9442857142857143\n",
            "Test score: 0.91\n",
            "Test2 score: 0.94\n",
            "AdaBoostClassifier|Raw \n",
            "\n",
            "best estimate parameters {'learning_rate': 2.676617994644029, 'n_estimators': 239}\n",
            "Train score: 0.9428571428571428\n",
            "Test score: 0.91\n",
            "Test2 score: 0.94\n",
            "AdaBoostClassifier|Raw \n",
            "\n"
          ],
          "name": "stdout"
        },
        {
          "output_type": "stream",
          "text": [
            "/usr/local/lib/python3.6/dist-packages/sklearn/ensemble/forest.py:246: FutureWarning: The default value of n_estimators will change from 10 in version 0.20 to 100 in 0.22.\n",
            "  \"10 in version 0.20 to 100 in 0.22.\", FutureWarning)\n"
          ],
          "name": "stderr"
        },
        {
          "output_type": "stream",
          "text": [
            "Train score: 0.9871428571428571\n",
            "Test score: 0.9066666666666666\n",
            "Test2 score: 0.9666666666666667\n",
            "RandomForestClassifier|Raw \n",
            "\n"
          ],
          "name": "stdout"
        },
        {
          "output_type": "stream",
          "text": [
            "/usr/local/lib/python3.6/dist-packages/sklearn/ensemble/forest.py:246: FutureWarning: The default value of n_estimators will change from 10 in version 0.20 to 100 in 0.22.\n",
            "  \"10 in version 0.20 to 100 in 0.22.\", FutureWarning)\n"
          ],
          "name": "stderr"
        },
        {
          "output_type": "stream",
          "text": [
            "Train score: 0.9871428571428571\n",
            "Test score: 0.9066666666666666\n",
            "Test2 score: 0.9666666666666667\n",
            "RandomForestClassifier|Raw \n",
            "\n",
            "Train score: 0.96\n",
            "Test score: 0.91\n",
            "Test2 score: 0.96\n",
            "GradientBoostingClassifier|Raw \n",
            "\n",
            "Train score: 0.96\n",
            "Test score: 0.91\n",
            "Test2 score: 0.96\n",
            "GradientBoostingClassifier|Raw \n",
            "\n",
            "best estimate parameters {'C': 0.4065769522520202, 'intercept_scaling': 0.7089258088698258, 'max_iter': 87, 'solver': 'newton-cg', 'tol': 0.6142576537829576}\n"
          ],
          "name": "stdout"
        },
        {
          "output_type": "stream",
          "text": [
            "/usr/local/lib/python3.6/dist-packages/scipy/optimize/linesearch.py:462: LineSearchWarning: The line search algorithm did not converge\n",
            "  warn('The line search algorithm did not converge', LineSearchWarning)\n",
            "/usr/local/lib/python3.6/dist-packages/scipy/optimize/linesearch.py:313: LineSearchWarning: The line search algorithm did not converge\n",
            "  warn('The line search algorithm did not converge', LineSearchWarning)\n",
            "/usr/local/lib/python3.6/dist-packages/sklearn/utils/optimize.py:203: ConvergenceWarning: newton-cg failed to converge. Increase the number of iterations.\n",
            "  \"number of iterations.\", ConvergenceWarning)\n"
          ],
          "name": "stderr"
        },
        {
          "output_type": "stream",
          "text": [
            "Train score: 0.94\n",
            "Test score: 0.91\n",
            "Test2 score: 0.94\n",
            "LogisticRegression2|Raw \n",
            "\n",
            "best estimate parameters {'C': 0.8000165992301086, 'intercept_scaling': 0.008604242776564255, 'max_iter': 72, 'solver': 'newton-cg', 'tol': 0.9655852956124394}\n"
          ],
          "name": "stdout"
        },
        {
          "output_type": "stream",
          "text": [
            "/usr/local/lib/python3.6/dist-packages/sklearn/utils/optimize.py:203: ConvergenceWarning: newton-cg failed to converge. Increase the number of iterations.\n",
            "  \"number of iterations.\", ConvergenceWarning)\n"
          ],
          "name": "stderr"
        },
        {
          "output_type": "stream",
          "text": [
            "Train score: 0.94\n",
            "Test score: 0.91\n",
            "Test2 score: 0.94\n",
            "LogisticRegression2|Raw \n",
            "\n",
            "best estimate parameters {'C': 0.1869466118127623, 'class_weight': 'balanced', 'fit_intercept': True, 'intercept_scaling': 0.8480547337488845, 'loss': 'hinge', 'max_iter': 80, 'tol': 0.7796452803708195}\n"
          ],
          "name": "stdout"
        },
        {
          "output_type": "stream",
          "text": [
            "/usr/local/lib/python3.6/dist-packages/sklearn/svm/base.py:931: ConvergenceWarning: Liblinear failed to converge, increase the number of iterations.\n",
            "  \"the number of iterations.\", ConvergenceWarning)\n"
          ],
          "name": "stderr"
        },
        {
          "output_type": "stream",
          "text": [
            "LinearSVC|Raw \n",
            "\n",
            "best estimate parameters {'C': 0.8606405068513003, 'class_weight': '', 'fit_intercept': True, 'intercept_scaling': 0.006218501818016742, 'loss': 'squared_hinge', 'max_iter': 92, 'tol': 0.9401777828772838}\n"
          ],
          "name": "stdout"
        },
        {
          "output_type": "stream",
          "text": [
            "/usr/local/lib/python3.6/dist-packages/sklearn/svm/base.py:931: ConvergenceWarning: Liblinear failed to converge, increase the number of iterations.\n",
            "  \"the number of iterations.\", ConvergenceWarning)\n"
          ],
          "name": "stderr"
        },
        {
          "output_type": "stream",
          "text": [
            "LinearSVC|Raw \n",
            "\n",
            "best estimate parameters {'learning_rate': 1.9584784593752973, 'n_estimators': 42}\n",
            "Train score: 0.9314285714285714\n",
            "Test score: 0.8733333333333333\n",
            "Test2 score: 0.94\n",
            "AdaBoostClassifier|Raw \n",
            "\n",
            "best estimate parameters {'learning_rate': 2.60510665326331, 'n_estimators': 25}\n",
            "Train score: 0.9442857142857143\n",
            "Test score: 0.91\n",
            "Test2 score: 0.94\n",
            "AdaBoostClassifier|Raw \n",
            "\n"
          ],
          "name": "stdout"
        },
        {
          "output_type": "stream",
          "text": [
            "/usr/local/lib/python3.6/dist-packages/sklearn/ensemble/forest.py:246: FutureWarning: The default value of n_estimators will change from 10 in version 0.20 to 100 in 0.22.\n",
            "  \"10 in version 0.20 to 100 in 0.22.\", FutureWarning)\n"
          ],
          "name": "stderr"
        },
        {
          "output_type": "stream",
          "text": [
            "Train score: 0.9871428571428571\n",
            "Test score: 0.9066666666666666\n",
            "Test2 score: 0.9666666666666667\n",
            "RandomForestClassifier|Raw \n",
            "\n"
          ],
          "name": "stdout"
        },
        {
          "output_type": "stream",
          "text": [
            "/usr/local/lib/python3.6/dist-packages/sklearn/ensemble/forest.py:246: FutureWarning: The default value of n_estimators will change from 10 in version 0.20 to 100 in 0.22.\n",
            "  \"10 in version 0.20 to 100 in 0.22.\", FutureWarning)\n"
          ],
          "name": "stderr"
        },
        {
          "output_type": "stream",
          "text": [
            "Train score: 0.9871428571428571\n",
            "Test score: 0.9066666666666666\n",
            "Test2 score: 0.9666666666666667\n",
            "RandomForestClassifier|Raw \n",
            "\n",
            "Train score: 0.96\n",
            "Test score: 0.91\n",
            "Test2 score: 0.96\n",
            "GradientBoostingClassifier|Raw \n",
            "\n",
            "Train score: 0.96\n",
            "Test score: 0.91\n",
            "Test2 score: 0.96\n",
            "GradientBoostingClassifier|Raw \n",
            "\n",
            "best estimate parameters {'C': 0.1251826030551663, 'class_weight': '', 'fit_intercept': False, 'intercept_scaling': 0.7411042126511038, 'loss': 'squared_hinge', 'max_iter': 92, 'tol': 0.5319518765185804}\n"
          ],
          "name": "stdout"
        },
        {
          "output_type": "stream",
          "text": [
            "/usr/local/lib/python3.6/dist-packages/sklearn/svm/base.py:931: ConvergenceWarning: Liblinear failed to converge, increase the number of iterations.\n",
            "  \"the number of iterations.\", ConvergenceWarning)\n"
          ],
          "name": "stderr"
        },
        {
          "output_type": "stream",
          "text": [
            "LinearSVC|Raw \n",
            "\n",
            "best estimate parameters {'C': 0.31394839516048256, 'class_weight': '', 'fit_intercept': False, 'intercept_scaling': 0.5566604047414029, 'loss': 'hinge', 'max_iter': 92, 'tol': 0.28025235451506314}\n"
          ],
          "name": "stdout"
        },
        {
          "output_type": "stream",
          "text": [
            "/usr/local/lib/python3.6/dist-packages/sklearn/svm/base.py:931: ConvergenceWarning: Liblinear failed to converge, increase the number of iterations.\n",
            "  \"the number of iterations.\", ConvergenceWarning)\n"
          ],
          "name": "stderr"
        },
        {
          "output_type": "stream",
          "text": [
            "LinearSVC|Raw \n",
            "\n",
            "best estimate parameters {'C': 0.8734991847510923, 'intercept_scaling': 0.5943248860387252, 'max_iter': 58, 'solver': 'newton-cg', 'tol': 0.8283269817789402}\n"
          ],
          "name": "stdout"
        },
        {
          "output_type": "stream",
          "text": [
            "/usr/local/lib/python3.6/dist-packages/sklearn/utils/optimize.py:203: ConvergenceWarning: newton-cg failed to converge. Increase the number of iterations.\n",
            "  \"number of iterations.\", ConvergenceWarning)\n"
          ],
          "name": "stderr"
        },
        {
          "output_type": "stream",
          "text": [
            "Train score: 0.94\n",
            "Test score: 0.91\n",
            "Test2 score: 0.94\n",
            "LogisticRegression2|Raw \n",
            "\n",
            "best estimate parameters {'C': 0.26819611625886564, 'intercept_scaling': 0.5886356579612194, 'max_iter': 72, 'solver': 'newton-cg', 'tol': 0.835034787341591}\n"
          ],
          "name": "stdout"
        },
        {
          "output_type": "stream",
          "text": [
            "/usr/local/lib/python3.6/dist-packages/sklearn/utils/optimize.py:203: ConvergenceWarning: newton-cg failed to converge. Increase the number of iterations.\n",
            "  \"number of iterations.\", ConvergenceWarning)\n"
          ],
          "name": "stderr"
        },
        {
          "output_type": "stream",
          "text": [
            "Train score: 0.94\n",
            "Test score: 0.91\n",
            "Test2 score: 0.94\n",
            "LogisticRegression2|Raw \n",
            "\n",
            "best estimate parameters {'learning_rate': 2.0565486351011386, 'n_estimators': 113}\n",
            "Train score: 0.9442857142857143\n",
            "Test score: 0.91\n",
            "Test2 score: 0.94\n",
            "AdaBoostClassifier|Raw \n",
            "\n",
            "best estimate parameters {'learning_rate': 2.172723257694972, 'n_estimators': 179}\n",
            "Train score: 0.9442857142857143\n",
            "Test score: 0.91\n",
            "Test2 score: 0.94\n",
            "AdaBoostClassifier|Raw \n",
            "\n"
          ],
          "name": "stdout"
        },
        {
          "output_type": "stream",
          "text": [
            "/usr/local/lib/python3.6/dist-packages/sklearn/ensemble/forest.py:246: FutureWarning: The default value of n_estimators will change from 10 in version 0.20 to 100 in 0.22.\n",
            "  \"10 in version 0.20 to 100 in 0.22.\", FutureWarning)\n"
          ],
          "name": "stderr"
        },
        {
          "output_type": "stream",
          "text": [
            "Train score: 0.9871428571428571\n",
            "Test score: 0.9066666666666666\n",
            "Test2 score: 0.9666666666666667\n",
            "RandomForestClassifier|Raw \n",
            "\n"
          ],
          "name": "stdout"
        },
        {
          "output_type": "stream",
          "text": [
            "/usr/local/lib/python3.6/dist-packages/sklearn/ensemble/forest.py:246: FutureWarning: The default value of n_estimators will change from 10 in version 0.20 to 100 in 0.22.\n",
            "  \"10 in version 0.20 to 100 in 0.22.\", FutureWarning)\n"
          ],
          "name": "stderr"
        },
        {
          "output_type": "stream",
          "text": [
            "Train score: 0.9871428571428571\n",
            "Test score: 0.9066666666666666\n",
            "Test2 score: 0.9666666666666667\n",
            "RandomForestClassifier|Raw \n",
            "\n",
            "Train score: 0.96\n",
            "Test score: 0.91\n",
            "Test2 score: 0.96\n",
            "GradientBoostingClassifier|Raw \n",
            "\n",
            "Train score: 0.96\n",
            "Test score: 0.91\n",
            "Test2 score: 0.96\n",
            "GradientBoostingClassifier|Raw \n",
            "\n",
            "best estimate parameters {'C': 0.7361334436523375, 'intercept_scaling': 0.10635797762624588, 'max_iter': 66, 'solver': 'newton-cg', 'tol': 0.09935830838118476}\n"
          ],
          "name": "stdout"
        },
        {
          "output_type": "stream",
          "text": [
            "/usr/local/lib/python3.6/dist-packages/sklearn/utils/optimize.py:203: ConvergenceWarning: newton-cg failed to converge. Increase the number of iterations.\n",
            "  \"number of iterations.\", ConvergenceWarning)\n"
          ],
          "name": "stderr"
        },
        {
          "output_type": "stream",
          "text": [
            "Train score: 0.94\n",
            "Test score: 0.91\n",
            "Test2 score: 0.94\n",
            "LogisticRegression2|Raw \n",
            "\n",
            "best estimate parameters {'C': 0.7273256167490272, 'intercept_scaling': 0.29742387916248836, 'max_iter': 85, 'solver': 'newton-cg', 'tol': 0.32809024020923994}\n"
          ],
          "name": "stdout"
        },
        {
          "output_type": "stream",
          "text": [
            "/usr/local/lib/python3.6/dist-packages/sklearn/utils/optimize.py:203: ConvergenceWarning: newton-cg failed to converge. Increase the number of iterations.\n",
            "  \"number of iterations.\", ConvergenceWarning)\n"
          ],
          "name": "stderr"
        },
        {
          "output_type": "stream",
          "text": [
            "Train score: 0.94\n",
            "Test score: 0.91\n",
            "Test2 score: 0.94\n",
            "LogisticRegression2|Raw \n",
            "\n",
            "best estimate parameters {'C': 0.09091403098687012, 'class_weight': 'balanced', 'fit_intercept': True, 'intercept_scaling': 0.7913250051576145, 'loss': 'squared_hinge', 'max_iter': 80, 'tol': 0.07454930116022995}\n"
          ],
          "name": "stdout"
        },
        {
          "output_type": "stream",
          "text": [
            "/usr/local/lib/python3.6/dist-packages/sklearn/svm/base.py:931: ConvergenceWarning: Liblinear failed to converge, increase the number of iterations.\n",
            "  \"the number of iterations.\", ConvergenceWarning)\n"
          ],
          "name": "stderr"
        },
        {
          "output_type": "stream",
          "text": [
            "LinearSVC|Raw \n",
            "\n",
            "best estimate parameters {'C': 0.42616721185136286, 'class_weight': '', 'fit_intercept': True, 'intercept_scaling': 0.6676283636419245, 'loss': 'hinge', 'max_iter': 92, 'tol': 0.007302408115393413}\n"
          ],
          "name": "stdout"
        },
        {
          "output_type": "stream",
          "text": [
            "/usr/local/lib/python3.6/dist-packages/sklearn/svm/base.py:931: ConvergenceWarning: Liblinear failed to converge, increase the number of iterations.\n",
            "  \"the number of iterations.\", ConvergenceWarning)\n"
          ],
          "name": "stderr"
        },
        {
          "output_type": "stream",
          "text": [
            "LinearSVC|Raw \n",
            "\n",
            "best estimate parameters {'learning_rate': 2.6605219965386677, 'n_estimators': 95}\n",
            "Train score: 0.9428571428571428\n",
            "Test score: 0.91\n",
            "Test2 score: 0.94\n",
            "AdaBoostClassifier|Raw \n",
            "\n",
            "best estimate parameters {'learning_rate': 2.472638009579693, 'n_estimators': 73}\n",
            "Train score: 0.9442857142857143\n",
            "Test score: 0.91\n",
            "Test2 score: 0.94\n",
            "AdaBoostClassifier|Raw \n",
            "\n"
          ],
          "name": "stdout"
        },
        {
          "output_type": "stream",
          "text": [
            "/usr/local/lib/python3.6/dist-packages/sklearn/ensemble/forest.py:246: FutureWarning: The default value of n_estimators will change from 10 in version 0.20 to 100 in 0.22.\n",
            "  \"10 in version 0.20 to 100 in 0.22.\", FutureWarning)\n"
          ],
          "name": "stderr"
        },
        {
          "output_type": "stream",
          "text": [
            "Train score: 0.9871428571428571\n",
            "Test score: 0.9066666666666666\n",
            "Test2 score: 0.9666666666666667\n",
            "RandomForestClassifier|Raw \n",
            "\n"
          ],
          "name": "stdout"
        },
        {
          "output_type": "stream",
          "text": [
            "/usr/local/lib/python3.6/dist-packages/sklearn/ensemble/forest.py:246: FutureWarning: The default value of n_estimators will change from 10 in version 0.20 to 100 in 0.22.\n",
            "  \"10 in version 0.20 to 100 in 0.22.\", FutureWarning)\n"
          ],
          "name": "stderr"
        },
        {
          "output_type": "stream",
          "text": [
            "Train score: 0.9871428571428571\n",
            "Test score: 0.9066666666666666\n",
            "Test2 score: 0.9666666666666667\n",
            "RandomForestClassifier|Raw \n",
            "\n",
            "Train score: 0.96\n",
            "Test score: 0.91\n",
            "Test2 score: 0.96\n",
            "GradientBoostingClassifier|Raw \n",
            "\n",
            "Train score: 0.96\n",
            "Test score: 0.91\n",
            "Test2 score: 0.96\n",
            "GradientBoostingClassifier|Raw \n",
            "\n",
            "best estimate parameters {'C': 0.563385044505378, 'class_weight': '', 'fit_intercept': False, 'intercept_scaling': 0.7143581345999104, 'loss': 'squared_hinge', 'max_iter': 92, 'tol': 0.232940952060528}\n"
          ],
          "name": "stdout"
        },
        {
          "output_type": "stream",
          "text": [
            "/usr/local/lib/python3.6/dist-packages/sklearn/svm/base.py:931: ConvergenceWarning: Liblinear failed to converge, increase the number of iterations.\n",
            "  \"the number of iterations.\", ConvergenceWarning)\n"
          ],
          "name": "stderr"
        },
        {
          "output_type": "stream",
          "text": [
            "LinearSVC|Raw \n",
            "\n",
            "best estimate parameters {'C': 0.4310039237389819, 'class_weight': 'balanced', 'fit_intercept': True, 'intercept_scaling': 0.7703282988588686, 'loss': 'hinge', 'max_iter': 92, 'tol': 0.9230621934249553}\n"
          ],
          "name": "stdout"
        },
        {
          "output_type": "stream",
          "text": [
            "/usr/local/lib/python3.6/dist-packages/sklearn/svm/base.py:931: ConvergenceWarning: Liblinear failed to converge, increase the number of iterations.\n",
            "  \"the number of iterations.\", ConvergenceWarning)\n"
          ],
          "name": "stderr"
        },
        {
          "output_type": "stream",
          "text": [
            "LinearSVC|Raw \n",
            "\n",
            "best estimate parameters {'C': 0.896004945521247, 'intercept_scaling': 0.2227281396287305, 'max_iter': 46, 'solver': 'newton-cg', 'tol': 0.45990693872144417}\n"
          ],
          "name": "stdout"
        },
        {
          "output_type": "stream",
          "text": [
            "/usr/local/lib/python3.6/dist-packages/sklearn/utils/optimize.py:203: ConvergenceWarning: newton-cg failed to converge. Increase the number of iterations.\n",
            "  \"number of iterations.\", ConvergenceWarning)\n"
          ],
          "name": "stderr"
        },
        {
          "output_type": "stream",
          "text": [
            "Train score: 0.94\n",
            "Test score: 0.9066666666666666\n",
            "Test2 score: 0.94\n",
            "LogisticRegression2|Raw \n",
            "\n",
            "best estimate parameters {'C': 0.8479267030204615, 'intercept_scaling': 0.3722163197577195, 'max_iter': 81, 'solver': 'newton-cg', 'tol': 0.18332940461699532}\n"
          ],
          "name": "stdout"
        },
        {
          "output_type": "stream",
          "text": [
            "/usr/local/lib/python3.6/dist-packages/sklearn/utils/optimize.py:203: ConvergenceWarning: newton-cg failed to converge. Increase the number of iterations.\n",
            "  \"number of iterations.\", ConvergenceWarning)\n"
          ],
          "name": "stderr"
        },
        {
          "output_type": "stream",
          "text": [
            "Train score: 0.94\n",
            "Test score: 0.91\n",
            "Test2 score: 0.94\n",
            "LogisticRegression2|Raw \n",
            "\n",
            "best estimate parameters {'learning_rate': 2.409273563413311, 'n_estimators': 31}\n",
            "Train score: 0.9442857142857143\n",
            "Test score: 0.91\n",
            "Test2 score: 0.94\n",
            "AdaBoostClassifier|Raw \n",
            "\n",
            "best estimate parameters {'learning_rate': 2.127915126859561, 'n_estimators': 245}\n",
            "Train score: 0.9442857142857143\n",
            "Test score: 0.91\n",
            "Test2 score: 0.94\n",
            "AdaBoostClassifier|Raw \n",
            "\n"
          ],
          "name": "stdout"
        },
        {
          "output_type": "stream",
          "text": [
            "/usr/local/lib/python3.6/dist-packages/sklearn/ensemble/forest.py:246: FutureWarning: The default value of n_estimators will change from 10 in version 0.20 to 100 in 0.22.\n",
            "  \"10 in version 0.20 to 100 in 0.22.\", FutureWarning)\n"
          ],
          "name": "stderr"
        },
        {
          "output_type": "stream",
          "text": [
            "Train score: 0.9871428571428571\n",
            "Test score: 0.9066666666666666\n",
            "Test2 score: 0.9666666666666667\n",
            "RandomForestClassifier|Raw \n",
            "\n"
          ],
          "name": "stdout"
        },
        {
          "output_type": "stream",
          "text": [
            "/usr/local/lib/python3.6/dist-packages/sklearn/ensemble/forest.py:246: FutureWarning: The default value of n_estimators will change from 10 in version 0.20 to 100 in 0.22.\n",
            "  \"10 in version 0.20 to 100 in 0.22.\", FutureWarning)\n"
          ],
          "name": "stderr"
        },
        {
          "output_type": "stream",
          "text": [
            "Train score: 0.9871428571428571\n",
            "Test score: 0.9066666666666666\n",
            "Test2 score: 0.9666666666666667\n",
            "RandomForestClassifier|Raw \n",
            "\n",
            "Train score: 0.96\n",
            "Test score: 0.91\n",
            "Test2 score: 0.96\n",
            "GradientBoostingClassifier|Raw \n",
            "\n",
            "Train score: 0.96\n",
            "Test score: 0.91\n",
            "Test2 score: 0.96\n",
            "GradientBoostingClassifier|Raw \n",
            "\n",
            "best estimate parameters {'C': 0.14340106147551357, 'class_weight': 'balanced', 'fit_intercept': False, 'intercept_scaling': 0.5328693907115676, 'loss': 'hinge', 'max_iter': 80, 'tol': 0.9160536987651704}\n"
          ],
          "name": "stdout"
        },
        {
          "output_type": "stream",
          "text": [
            "/usr/local/lib/python3.6/dist-packages/sklearn/svm/base.py:931: ConvergenceWarning: Liblinear failed to converge, increase the number of iterations.\n",
            "  \"the number of iterations.\", ConvergenceWarning)\n"
          ],
          "name": "stderr"
        },
        {
          "output_type": "stream",
          "text": [
            "LinearSVC|Raw \n",
            "\n",
            "best estimate parameters {'C': 0.22701728450713632, 'class_weight': 'balanced', 'fit_intercept': True, 'intercept_scaling': 0.4484005757556022, 'loss': 'squared_hinge', 'max_iter': 92, 'tol': 0.8055385120608737}\n"
          ],
          "name": "stdout"
        },
        {
          "output_type": "stream",
          "text": [
            "/usr/local/lib/python3.6/dist-packages/sklearn/svm/base.py:931: ConvergenceWarning: Liblinear failed to converge, increase the number of iterations.\n",
            "  \"the number of iterations.\", ConvergenceWarning)\n"
          ],
          "name": "stderr"
        },
        {
          "output_type": "stream",
          "text": [
            "LinearSVC|Raw \n",
            "\n",
            "best estimate parameters {'learning_rate': 1.9687168550308016, 'n_estimators': 44}\n",
            "AdaBoostClassifier|Raw \n",
            "\n",
            "best estimate parameters {'learning_rate': 1.7243623941238897, 'n_estimators': 9}\n",
            "Train score: 0.9385714285714286\n",
            "Test score: 0.9066666666666666\n",
            "Test2 score: 0.9333333333333333\n",
            "AdaBoostClassifier|Raw \n",
            "\n"
          ],
          "name": "stdout"
        }
      ]
    },
    {
      "metadata": {
        "id": "sMZ6tm1BS8Bb",
        "colab_type": "code",
        "colab": {}
      },
      "cell_type": "code",
      "source": [
        "clfs32 = clfs3.copy()\n",
        "clfs_score32 = clfs_score3.copy()\n",
        "\n",
        "joblib.dump(clfs32, 'clfs624.pkl', compress=True)\n",
        "joblib.dump(clfs_score32, 'clfs_score624.pkl', compress=True)"
      ],
      "execution_count": 0,
      "outputs": []
    },
    {
      "metadata": {
        "id": "jGRPZwvLZbXX",
        "colab_type": "code",
        "colab": {}
      },
      "cell_type": "code",
      "source": [
        "folder_id = '1wRbAVDSYm-NJsRMUqkRsreELnGaNM88R'\n",
        "file = drive.CreateFile({'mimeType': 'content/clfs624.pkl','parents': [{'kind': 'drive#fileLink', 'id':folder_id}]})\n",
        "file.SetContentFile('clfs624.pkl')\n",
        "file.Upload() \n",
        "file = drive.CreateFile({'mimeType': 'content/clfs_score624.pkl','parents': [{'kind': 'drive#fileLink', 'id':folder_id}]})\n",
        "file.SetContentFile('clfs_score624.pkl')\n",
        "file.Upload() "
      ],
      "execution_count": 0,
      "outputs": []
    }
  ]
}