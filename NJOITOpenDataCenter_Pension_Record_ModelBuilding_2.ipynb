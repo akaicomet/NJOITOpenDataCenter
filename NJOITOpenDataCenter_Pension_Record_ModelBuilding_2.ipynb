{
  "nbformat": 4,
  "nbformat_minor": 0,
  "metadata": {
    "colab": {
      "name": "NJOITOpenDataCenter-Pension-Record-ModelBuilding-2.ipynb",
      "version": "0.3.2",
      "provenance": [],
      "include_colab_link": true
    },
    "kernelspec": {
      "name": "python3",
      "display_name": "Python 3"
    },
    "accelerator": "TPU"
  },
  "cells": [
    {
      "cell_type": "markdown",
      "metadata": {
        "id": "view-in-github",
        "colab_type": "text"
      },
      "source": [
        "<a href=\"https://colab.research.google.com/github/akaicomet/NJOITOpenDataCenter-Pension-Record/blob/master/NJOITOpenDataCenter_Pension_Record_ModelBuilding_2.ipynb\" target=\"_parent\"><img src=\"https://colab.research.google.com/assets/colab-badge.svg\" alt=\"Open In Colab\"/></a>"
      ]
    },
    {
      "metadata": {
        "id": "xpYZu3ckkCEn",
        "colab_type": "code",
        "outputId": "a6dbae5c-8c69-43da-f33a-17ab5ea8f2e5",
        "colab": {
          "base_uri": "https://localhost:8080/",
          "height": 1493
        }
      },
      "cell_type": "code",
      "source": [
        "!pip install pandas\n",
        "!pip install tqdm\n",
        "!pip install scikit-learn\n",
        "!pip install sodapy\n",
        "!pip install matplotlib\n",
        "!pip install hyperopt\n",
        "!pip install bayesian-optimization\n",
        "!pip install tbvaccine \n",
        "!pip install MulticoreTSNE\n",
        "!pip install -U -q PyDrive"
      ],
      "execution_count": 1,
      "outputs": [
        {
          "output_type": "stream",
          "text": [
            "Requirement already satisfied: pandas in /usr/local/lib/python3.6/dist-packages (0.22.0)\n",
            "Requirement already satisfied: pytz>=2011k in /usr/local/lib/python3.6/dist-packages (from pandas) (2018.9)\n",
            "Requirement already satisfied: numpy>=1.9.0 in /usr/local/lib/python3.6/dist-packages (from pandas) (1.14.6)\n",
            "Requirement already satisfied: python-dateutil>=2 in /usr/local/lib/python3.6/dist-packages (from pandas) (2.5.3)\n",
            "Requirement already satisfied: six>=1.5 in /usr/local/lib/python3.6/dist-packages (from python-dateutil>=2->pandas) (1.11.0)\n",
            "Requirement already satisfied: tqdm in /usr/local/lib/python3.6/dist-packages (4.28.1)\n",
            "Requirement already satisfied: scikit-learn in /usr/local/lib/python3.6/dist-packages (0.20.2)\n",
            "Requirement already satisfied: scipy>=0.13.3 in /usr/local/lib/python3.6/dist-packages (from scikit-learn) (1.1.0)\n",
            "Requirement already satisfied: numpy>=1.8.2 in /usr/local/lib/python3.6/dist-packages (from scikit-learn) (1.14.6)\n",
            "Collecting sodapy\n",
            "  Downloading https://files.pythonhosted.org/packages/25/63/1915146aa7c453289cdfe181df30d4009ef3518a87b5c873269582c20c7b/sodapy-1.5.0-py2.py3-none-any.whl\n",
            "Collecting requests>=2.20.0 (from sodapy)\n",
            "\u001b[?25l  Downloading https://files.pythonhosted.org/packages/7d/e3/20f3d364d6c8e5d2353c72a67778eb189176f08e873c9900e10c0287b84b/requests-2.21.0-py2.py3-none-any.whl (57kB)\n",
            "\u001b[K    100% |████████████████████████████████| 61kB 5.5MB/s \n",
            "\u001b[?25hCollecting future>=0.17.1 (from sodapy)\n",
            "\u001b[?25l  Downloading https://files.pythonhosted.org/packages/90/52/e20466b85000a181e1e144fd8305caf2cf475e2f9674e797b222f8105f5f/future-0.17.1.tar.gz (829kB)\n",
            "\u001b[K    100% |████████████████████████████████| 829kB 11.5MB/s \n",
            "\u001b[?25hRequirement already satisfied: idna<2.9,>=2.5 in /usr/local/lib/python3.6/dist-packages (from requests>=2.20.0->sodapy) (2.6)\n",
            "Requirement already satisfied: chardet<3.1.0,>=3.0.2 in /usr/local/lib/python3.6/dist-packages (from requests>=2.20.0->sodapy) (3.0.4)\n",
            "Requirement already satisfied: certifi>=2017.4.17 in /usr/local/lib/python3.6/dist-packages (from requests>=2.20.0->sodapy) (2018.11.29)\n",
            "Requirement already satisfied: urllib3<1.25,>=1.21.1 in /usr/local/lib/python3.6/dist-packages (from requests>=2.20.0->sodapy) (1.22)\n",
            "Building wheels for collected packages: future\n",
            "  Building wheel for future (setup.py) ... \u001b[?25ldone\n",
            "\u001b[?25h  Stored in directory: /root/.cache/pip/wheels/0c/61/d2/d6b7317325828fbb39ee6ad559dbe4664d0896da4721bf379e\n",
            "Successfully built future\n",
            "\u001b[31mspacy 2.0.18 has requirement numpy>=1.15.0, but you'll have numpy 1.14.6 which is incompatible.\u001b[0m\n",
            "\u001b[31mgoogle-colab 0.0.1a1 has requirement requests~=2.18.0, but you'll have requests 2.21.0 which is incompatible.\u001b[0m\n",
            "\u001b[31mfeaturetools 0.4.1 has requirement pandas>=0.23.0, but you'll have pandas 0.22.0 which is incompatible.\u001b[0m\n",
            "\u001b[31mcufflinks 0.14.6 has requirement plotly>=3.0.0, but you'll have plotly 1.12.12 which is incompatible.\u001b[0m\n",
            "Installing collected packages: requests, future, sodapy\n",
            "  Found existing installation: requests 2.18.4\n",
            "    Uninstalling requests-2.18.4:\n",
            "      Successfully uninstalled requests-2.18.4\n",
            "  Found existing installation: future 0.16.0\n",
            "    Uninstalling future-0.16.0:\n",
            "      Successfully uninstalled future-0.16.0\n",
            "Successfully installed future-0.17.1 requests-2.21.0 sodapy-1.5.0\n"
          ],
          "name": "stdout"
        },
        {
          "output_type": "display_data",
          "data": {
            "application/vnd.colab-display-data+json": {
              "pip_warning": {
                "packages": [
                  "requests"
                ]
              }
            }
          },
          "metadata": {
            "tags": []
          }
        },
        {
          "output_type": "stream",
          "text": [
            "Requirement already satisfied: matplotlib in /usr/local/lib/python3.6/dist-packages (3.0.2)\n",
            "Requirement already satisfied: cycler>=0.10 in /usr/local/lib/python3.6/dist-packages (from matplotlib) (0.10.0)\n",
            "Requirement already satisfied: pyparsing!=2.0.4,!=2.1.2,!=2.1.6,>=2.0.1 in /usr/local/lib/python3.6/dist-packages (from matplotlib) (2.3.1)\n",
            "Requirement already satisfied: python-dateutil>=2.1 in /usr/local/lib/python3.6/dist-packages (from matplotlib) (2.5.3)\n",
            "Requirement already satisfied: kiwisolver>=1.0.1 in /usr/local/lib/python3.6/dist-packages (from matplotlib) (1.0.1)\n",
            "Requirement already satisfied: numpy>=1.10.0 in /usr/local/lib/python3.6/dist-packages (from matplotlib) (1.14.6)\n",
            "Requirement already satisfied: six in /usr/local/lib/python3.6/dist-packages (from cycler>=0.10->matplotlib) (1.11.0)\n",
            "Requirement already satisfied: setuptools in /usr/local/lib/python3.6/dist-packages (from kiwisolver>=1.0.1->matplotlib) (40.7.0)\n",
            "Requirement already satisfied: hyperopt in /usr/local/lib/python3.6/dist-packages (0.1.1)\n",
            "Requirement already satisfied: future in /usr/local/lib/python3.6/dist-packages (from hyperopt) (0.17.1)\n",
            "Requirement already satisfied: scipy in /usr/local/lib/python3.6/dist-packages (from hyperopt) (1.1.0)\n",
            "Requirement already satisfied: numpy in /usr/local/lib/python3.6/dist-packages (from hyperopt) (1.14.6)\n",
            "Requirement already satisfied: pymongo in /usr/local/lib/python3.6/dist-packages (from hyperopt) (3.7.2)\n",
            "Requirement already satisfied: networkx in /usr/local/lib/python3.6/dist-packages (from hyperopt) (2.2)\n",
            "Requirement already satisfied: six in /usr/local/lib/python3.6/dist-packages (from hyperopt) (1.11.0)\n",
            "Requirement already satisfied: decorator>=4.3.0 in /usr/local/lib/python3.6/dist-packages (from networkx->hyperopt) (4.3.2)\n",
            "Collecting bayesian-optimization\n",
            "  Downloading https://files.pythonhosted.org/packages/ad/fd/a53b65d5cff76d1f2783ac8172eb0adb670ec86f4955e7f8f3ef21d71e3a/bayesian-optimization-1.0.0.tar.gz\n",
            "Requirement already satisfied: numpy>=1.9.0 in /usr/local/lib/python3.6/dist-packages (from bayesian-optimization) (1.14.6)\n",
            "Requirement already satisfied: scipy>=0.14.0 in /usr/local/lib/python3.6/dist-packages (from bayesian-optimization) (1.1.0)\n",
            "Requirement already satisfied: scikit-learn>=0.18.0 in /usr/local/lib/python3.6/dist-packages (from bayesian-optimization) (0.20.2)\n",
            "Building wheels for collected packages: bayesian-optimization\n",
            "  Building wheel for bayesian-optimization (setup.py) ... \u001b[?25ldone\n",
            "\u001b[?25h  Stored in directory: /root/.cache/pip/wheels/4b/60/a2/6eec4adc73341c1a2a653022b99ff8e1cb090684dba83be683\n",
            "Successfully built bayesian-optimization\n",
            "Installing collected packages: bayesian-optimization\n",
            "Successfully installed bayesian-optimization-1.0.0\n",
            "Collecting tbvaccine\n",
            "  Downloading https://files.pythonhosted.org/packages/b1/fb/84c930393fb23cf5fef93629df6370c51639306f0f403b9628f1d44b3b26/tbvaccine-0.3.1-py2.py3-none-any.whl\n",
            "Requirement already satisfied: pygments in /usr/local/lib/python3.6/dist-packages (from tbvaccine) (2.1.3)\n",
            "Installing collected packages: tbvaccine\n",
            "Successfully installed tbvaccine-0.3.1\n",
            "Collecting MulticoreTSNE\n",
            "  Downloading https://files.pythonhosted.org/packages/2d/e8/2afa896fa4eebfa1d0d0ba2673fddac45582ec0f06b2bdda88108ced5425/MulticoreTSNE-0.1.tar.gz\n",
            "Requirement already satisfied: numpy in /usr/local/lib/python3.6/dist-packages (from MulticoreTSNE) (1.14.6)\n",
            "Requirement already satisfied: cffi in /usr/local/lib/python3.6/dist-packages (from MulticoreTSNE) (1.11.5)\n",
            "Requirement already satisfied: pycparser in /usr/local/lib/python3.6/dist-packages (from cffi->MulticoreTSNE) (2.19)\n",
            "Building wheels for collected packages: MulticoreTSNE\n",
            "  Building wheel for MulticoreTSNE (setup.py) ... \u001b[?25ldone\n",
            "\u001b[?25h  Stored in directory: /root/.cache/pip/wheels/27/59/53/3b52ee63add3692254c30d687fa4dff4d128d0557861fb028e\n",
            "Successfully built MulticoreTSNE\n",
            "Installing collected packages: MulticoreTSNE\n",
            "Successfully installed MulticoreTSNE-0.1\n",
            "\u001b[K    100% |████████████████████████████████| 993kB 18.4MB/s \n",
            "\u001b[?25h  Building wheel for PyDrive (setup.py) ... \u001b[?25ldone\n",
            "\u001b[?25h"
          ],
          "name": "stdout"
        }
      ]
    },
    {
      "metadata": {
        "id": "JPRrqTJr11-4",
        "colab_type": "text"
      },
      "cell_type": "markdown",
      "source": [
        "#1. Copy python files from  GItHub repository to local"
      ]
    },
    {
      "metadata": {
        "id": "4yirMDyHy6HF",
        "colab_type": "code",
        "colab": {
          "base_uri": "https://localhost:8080/",
          "height": 435
        },
        "outputId": "4b0f7089-0da9-4c52-e627-99b5b9d9207a"
      },
      "cell_type": "code",
      "source": [
        "!git clone https://github.com/akaicomet/NJOITOpenDataCenter.git\n",
        "!git clone https://github.com/akaicomet/akaicomet_Utility.git\n",
        "!git clone https://github.com/akaicomet/akaicomet_Chart.git\n",
        "!git clone https://github.com/akaicomet/akaicomet_ML.git"
      ],
      "execution_count": 2,
      "outputs": [
        {
          "output_type": "stream",
          "text": [
            "Cloning into 'NJOITOpenDataCenter'...\n",
            "remote: Enumerating objects: 90, done.\u001b[K\n",
            "remote: Counting objects: 100% (90/90), done.\u001b[K\n",
            "remote: Compressing objects: 100% (90/90), done.\u001b[K\n",
            "remote: Total 90 (delta 50), reused 0 (delta 0), pack-reused 0\u001b[K\n",
            "Unpacking objects: 100% (90/90), done.\n",
            "Cloning into 'akaicomet_Utility'...\n",
            "remote: Enumerating objects: 12, done.\u001b[K\n",
            "remote: Counting objects: 100% (12/12), done.\u001b[K\n",
            "remote: Compressing objects: 100% (8/8), done.\u001b[K\n",
            "remote: Total 12 (delta 3), reused 0 (delta 0), pack-reused 0\u001b[K\n",
            "Unpacking objects: 100% (12/12), done.\n",
            "Cloning into 'akaicomet_Chart'...\n",
            "remote: Enumerating objects: 58, done.\u001b[K\n",
            "remote: Counting objects: 100% (58/58), done.\u001b[K\n",
            "remote: Compressing objects: 100% (46/46), done.\u001b[K\n",
            "remote: Total 58 (delta 16), reused 0 (delta 0), pack-reused 0\u001b[K\n",
            "Unpacking objects: 100% (58/58), done.\n",
            "Cloning into 'akaicomet_ML'...\n",
            "remote: Enumerating objects: 23, done.\u001b[K\n",
            "remote: Counting objects: 100% (23/23), done.\u001b[K\n",
            "remote: Compressing objects: 100% (23/23), done.\u001b[K\n",
            "remote: Total 174 (delta 12), reused 0 (delta 0), pack-reused 151\u001b[K\n",
            "Receiving objects: 100% (174/174), 54.56 KiB | 3.03 MiB/s, done.\n",
            "Resolving deltas: 100% (72/72), done.\n"
          ],
          "name": "stdout"
        }
      ]
    },
    {
      "metadata": {
        "id": "R80YSeU836YS",
        "colab_type": "text"
      },
      "cell_type": "markdown",
      "source": [
        "#2. Run .py files in local"
      ]
    },
    {
      "metadata": {
        "id": "dl8bTQ7Ms7hJ",
        "colab_type": "code",
        "colab": {}
      },
      "cell_type": "code",
      "source": [
        "%run -i /content/akaicomet_Utility/ErrorHandling.py\n",
        "\n",
        "%run -i /content/NJOITOpenDataCenter/YourMoneyActivePensionMembers.py \n",
        "%run -i /content/NJOITOpenDataCenter/YourMoneyRetiredPensionMembers.py\n",
        "%run -i /content/NJOITOpenDataCenter/YourMoneyPensionMembersMerge.py\n",
        "\n",
        "%run -i /content/akaicomet_Chart/X-Ray_Scan.py\n",
        "%run -i /content/akaicomet_Chart/akaicomet_Chart.py\n",
        "\n",
        "%run -i /content/akaicomet_ML/ML_Init.py\n",
        "%run -i /content/akaicomet_ML/ML_Auto.py\n",
        "%run -i /content/akaicomet_ML/AutoFeatureEngineering.py\n"
      ],
      "execution_count": 0,
      "outputs": []
    },
    {
      "metadata": {
        "id": "ML9MALdY4Z74",
        "colab_type": "text"
      },
      "cell_type": "markdown",
      "source": [
        "#3. Import libraries"
      ]
    },
    {
      "metadata": {
        "id": "yAmvqv05tHPz",
        "colab_type": "code",
        "colab": {}
      },
      "cell_type": "code",
      "source": [
        "import pandas as pd\n",
        "import numpy as np\n",
        "#import matplotlib.pyplot as plt\n",
        "import random\n",
        "from sodapy import Socrata\n",
        "#from pandas.plotting import scatter_matrix\n",
        "#from datetime import datetime\n",
        "import seaborn as sb\n",
        "from tqdm import tqdm\n",
        "import warnings\n",
        "from textwrap import wrap"
      ],
      "execution_count": 0,
      "outputs": []
    },
    {
      "metadata": {
        "id": "905gCAXlsnlH",
        "colab_type": "code",
        "colab": {}
      },
      "cell_type": "code",
      "source": [
        "from sklearn.externals import joblib\n",
        "from pydrive.auth import GoogleAuth\n",
        "from pydrive.drive import GoogleDrive\n",
        "from google.colab import auth\n",
        "from oauth2client.client import GoogleCredentials\n",
        "\n",
        "auth.authenticate_user()\n",
        "gauth = GoogleAuth()\n",
        "gauth.credentials = GoogleCredentials.get_application_default()\n",
        "drive = GoogleDrive(gauth)\n"
      ],
      "execution_count": 0,
      "outputs": []
    },
    {
      "metadata": {
        "id": "bshpCLEA8PcF",
        "colab_type": "text"
      },
      "cell_type": "markdown",
      "source": [
        "#4. YourMoney and the NJOIT Open Data Center \n",
        "##4.1 YourMoney Active Pension Members API\n",
        "\n",
        "**Pension member data load from NJOIT** "
      ]
    },
    {
      "metadata": {
        "id": "jEJfm4bqtKfJ",
        "colab_type": "code",
        "colab": {
          "base_uri": "https://localhost:8080/",
          "height": 33
        },
        "outputId": "e5e7436b-c3e6-4bb8-db63-e12fdb2c728e"
      },
      "cell_type": "code",
      "source": [
        "client = Socrata(\"data.nj.gov\", None)\n",
        "results = client.get(\"45bd-gwii\", limit=100000000)#100000000"
      ],
      "execution_count": 6,
      "outputs": [
        {
          "output_type": "stream",
          "text": [
            "WARNING:root:Requests made without an app_token will be subject to strict throttling limits.\n"
          ],
          "name": "stderr"
        }
      ]
    },
    {
      "metadata": {
        "id": "plM06Z5vBlAh",
        "colab_type": "text"
      },
      "cell_type": "markdown",
      "source": [
        "**Data Cleansing and Preparation for YourMoney Active Pension Members data**"
      ]
    },
    {
      "metadata": {
        "id": "_X0n-m4XtWdT",
        "colab_type": "code",
        "colab": {}
      },
      "cell_type": "code",
      "source": [
        "ActivePension_df = ActivePensionDataWrangler(results)"
      ],
      "execution_count": 0,
      "outputs": []
    },
    {
      "metadata": {
        "id": "AvLEEgGb9pbg",
        "colab_type": "text"
      },
      "cell_type": "markdown",
      "source": [
        "##4.2 YourMoney Retired Pension Members API\n",
        "**Pension payment member data load from NJOIT**"
      ]
    },
    {
      "metadata": {
        "id": "Pmixfdlx3a5H",
        "colab_type": "code",
        "colab": {}
      },
      "cell_type": "code",
      "source": [
        "results = client.get(\"8up4-62p6\",   limit=100000000)"
      ],
      "execution_count": 0,
      "outputs": []
    },
    {
      "metadata": {
        "id": "ysBme-6pAl4G",
        "colab_type": "text"
      },
      "cell_type": "markdown",
      "source": [
        "**Data Cleansing and Preparation for YourMoney Retired Pension data**"
      ]
    },
    {
      "metadata": {
        "id": "VMnmExggP835",
        "colab_type": "code",
        "colab": {}
      },
      "cell_type": "code",
      "source": [
        "RetiredPension_df_grped = RetiredPensionMembersDataWrangler(results)"
      ],
      "execution_count": 0,
      "outputs": []
    },
    {
      "metadata": {
        "id": "2RMSdT2fCMvo",
        "colab_type": "text"
      },
      "cell_type": "markdown",
      "source": [
        "**Merge YourMoney Active Pension Members data and YourMoney Retired Pension data**"
      ]
    },
    {
      "metadata": {
        "id": "gDDk7d-CV8jm",
        "colab_type": "code",
        "colab": {}
      },
      "cell_type": "code",
      "source": [
        "ActivePension_df = PensionMembersMerge(ActivePension_df,RetiredPension_df_grped)\n",
        "del results"
      ],
      "execution_count": 0,
      "outputs": []
    },
    {
      "metadata": {
        "id": "QKY-9NBXlCSQ",
        "colab_type": "text"
      },
      "cell_type": "markdown",
      "source": [
        "## 5 Recheck  Correlation Variable Validation:"
      ]
    },
    {
      "metadata": {
        "id": "iK84o24evCgM",
        "colab_type": "code",
        "colab": {
          "base_uri": "https://localhost:8080/",
          "height": 336
        },
        "outputId": "501309fb-37a8-4745-9d4c-e8add071c972"
      },
      "cell_type": "code",
      "source": [
        "#x_cols2 = ['_20_year_status',\t'all_employers_salary_amt',\t\t'employer_freq_pensioned', 'total_months_qty',\t'location_freq_pensioned',\t\t'current_employer_salary_rollingamt', \t'service_months_qty',\t'pension_freq_pensioned', 'pension_fund_name_enc', 'pension_group_name_enc' ]\n",
        "x_cols2 = ['_20_year_status','all_employers_salary_amt','employer_freq_pensioned','total_months_qty','location_freq_pensioned','service_months_qty','pension_freq_pensioned','pension_fund_name_enc','pension_group_name_enc' ]\n",
        "ActivePension_df[x_cols2].corr()"
      ],
      "execution_count": 11,
      "outputs": [
        {
          "output_type": "execute_result",
          "data": {
            "text/html": [
              "<div>\n",
              "<style scoped>\n",
              "    .dataframe tbody tr th:only-of-type {\n",
              "        vertical-align: middle;\n",
              "    }\n",
              "\n",
              "    .dataframe tbody tr th {\n",
              "        vertical-align: top;\n",
              "    }\n",
              "\n",
              "    .dataframe thead th {\n",
              "        text-align: right;\n",
              "    }\n",
              "</style>\n",
              "<table border=\"1\" class=\"dataframe\">\n",
              "  <thead>\n",
              "    <tr style=\"text-align: right;\">\n",
              "      <th></th>\n",
              "      <th>_20_year_status</th>\n",
              "      <th>all_employers_salary_amt</th>\n",
              "      <th>employer_freq_pensioned</th>\n",
              "      <th>total_months_qty</th>\n",
              "      <th>location_freq_pensioned</th>\n",
              "      <th>service_months_qty</th>\n",
              "      <th>pension_freq_pensioned</th>\n",
              "      <th>pension_fund_name_enc</th>\n",
              "      <th>pension_group_name_enc</th>\n",
              "    </tr>\n",
              "  </thead>\n",
              "  <tbody>\n",
              "    <tr>\n",
              "      <th>_20_year_status</th>\n",
              "      <td>1.000000</td>\n",
              "      <td>0.295118</td>\n",
              "      <td>-0.074679</td>\n",
              "      <td>0.844411</td>\n",
              "      <td>0.082618</td>\n",
              "      <td>-0.002429</td>\n",
              "      <td>0.091064</td>\n",
              "      <td>-0.238068</td>\n",
              "      <td>-0.113550</td>\n",
              "    </tr>\n",
              "    <tr>\n",
              "      <th>all_employers_salary_amt</th>\n",
              "      <td>0.295118</td>\n",
              "      <td>1.000000</td>\n",
              "      <td>-0.066198</td>\n",
              "      <td>0.395345</td>\n",
              "      <td>-0.030279</td>\n",
              "      <td>-0.027708</td>\n",
              "      <td>-0.439474</td>\n",
              "      <td>0.207998</td>\n",
              "      <td>0.097105</td>\n",
              "    </tr>\n",
              "    <tr>\n",
              "      <th>employer_freq_pensioned</th>\n",
              "      <td>-0.074679</td>\n",
              "      <td>-0.066198</td>\n",
              "      <td>1.000000</td>\n",
              "      <td>-0.065524</td>\n",
              "      <td>0.187599</td>\n",
              "      <td>0.026186</td>\n",
              "      <td>0.040389</td>\n",
              "      <td>0.099662</td>\n",
              "      <td>-0.033238</td>\n",
              "    </tr>\n",
              "    <tr>\n",
              "      <th>total_months_qty</th>\n",
              "      <td>0.844411</td>\n",
              "      <td>0.395345</td>\n",
              "      <td>-0.065524</td>\n",
              "      <td>1.000000</td>\n",
              "      <td>0.067168</td>\n",
              "      <td>0.000102</td>\n",
              "      <td>0.047303</td>\n",
              "      <td>-0.187378</td>\n",
              "      <td>-0.121364</td>\n",
              "    </tr>\n",
              "    <tr>\n",
              "      <th>location_freq_pensioned</th>\n",
              "      <td>0.082618</td>\n",
              "      <td>-0.030279</td>\n",
              "      <td>0.187599</td>\n",
              "      <td>0.067168</td>\n",
              "      <td>1.000000</td>\n",
              "      <td>0.056022</td>\n",
              "      <td>0.308507</td>\n",
              "      <td>0.047458</td>\n",
              "      <td>-0.063150</td>\n",
              "    </tr>\n",
              "    <tr>\n",
              "      <th>service_months_qty</th>\n",
              "      <td>-0.002429</td>\n",
              "      <td>-0.027708</td>\n",
              "      <td>0.026186</td>\n",
              "      <td>0.000102</td>\n",
              "      <td>0.056022</td>\n",
              "      <td>1.000000</td>\n",
              "      <td>0.079330</td>\n",
              "      <td>0.052583</td>\n",
              "      <td>-0.034342</td>\n",
              "    </tr>\n",
              "    <tr>\n",
              "      <th>pension_freq_pensioned</th>\n",
              "      <td>0.091064</td>\n",
              "      <td>-0.439474</td>\n",
              "      <td>0.040389</td>\n",
              "      <td>0.047303</td>\n",
              "      <td>0.308507</td>\n",
              "      <td>0.079330</td>\n",
              "      <td>1.000000</td>\n",
              "      <td>-0.306339</td>\n",
              "      <td>-0.308736</td>\n",
              "    </tr>\n",
              "    <tr>\n",
              "      <th>pension_fund_name_enc</th>\n",
              "      <td>-0.238068</td>\n",
              "      <td>0.207998</td>\n",
              "      <td>0.099662</td>\n",
              "      <td>-0.187378</td>\n",
              "      <td>0.047458</td>\n",
              "      <td>0.052583</td>\n",
              "      <td>-0.306339</td>\n",
              "      <td>1.000000</td>\n",
              "      <td>0.185796</td>\n",
              "    </tr>\n",
              "    <tr>\n",
              "      <th>pension_group_name_enc</th>\n",
              "      <td>-0.113550</td>\n",
              "      <td>0.097105</td>\n",
              "      <td>-0.033238</td>\n",
              "      <td>-0.121364</td>\n",
              "      <td>-0.063150</td>\n",
              "      <td>-0.034342</td>\n",
              "      <td>-0.308736</td>\n",
              "      <td>0.185796</td>\n",
              "      <td>1.000000</td>\n",
              "    </tr>\n",
              "  </tbody>\n",
              "</table>\n",
              "</div>"
            ],
            "text/plain": [
              "                          _20_year_status  all_employers_salary_amt  \\\n",
              "_20_year_status                  1.000000                  0.295118   \n",
              "all_employers_salary_amt         0.295118                  1.000000   \n",
              "employer_freq_pensioned         -0.074679                 -0.066198   \n",
              "total_months_qty                 0.844411                  0.395345   \n",
              "location_freq_pensioned          0.082618                 -0.030279   \n",
              "service_months_qty              -0.002429                 -0.027708   \n",
              "pension_freq_pensioned           0.091064                 -0.439474   \n",
              "pension_fund_name_enc           -0.238068                  0.207998   \n",
              "pension_group_name_enc          -0.113550                  0.097105   \n",
              "\n",
              "                          employer_freq_pensioned  total_months_qty  \\\n",
              "_20_year_status                         -0.074679          0.844411   \n",
              "all_employers_salary_amt                -0.066198          0.395345   \n",
              "employer_freq_pensioned                  1.000000         -0.065524   \n",
              "total_months_qty                        -0.065524          1.000000   \n",
              "location_freq_pensioned                  0.187599          0.067168   \n",
              "service_months_qty                       0.026186          0.000102   \n",
              "pension_freq_pensioned                   0.040389          0.047303   \n",
              "pension_fund_name_enc                    0.099662         -0.187378   \n",
              "pension_group_name_enc                  -0.033238         -0.121364   \n",
              "\n",
              "                          location_freq_pensioned  service_months_qty  \\\n",
              "_20_year_status                          0.082618           -0.002429   \n",
              "all_employers_salary_amt                -0.030279           -0.027708   \n",
              "employer_freq_pensioned                  0.187599            0.026186   \n",
              "total_months_qty                         0.067168            0.000102   \n",
              "location_freq_pensioned                  1.000000            0.056022   \n",
              "service_months_qty                       0.056022            1.000000   \n",
              "pension_freq_pensioned                   0.308507            0.079330   \n",
              "pension_fund_name_enc                    0.047458            0.052583   \n",
              "pension_group_name_enc                  -0.063150           -0.034342   \n",
              "\n",
              "                          pension_freq_pensioned  pension_fund_name_enc  \\\n",
              "_20_year_status                         0.091064              -0.238068   \n",
              "all_employers_salary_amt               -0.439474               0.207998   \n",
              "employer_freq_pensioned                 0.040389               0.099662   \n",
              "total_months_qty                        0.047303              -0.187378   \n",
              "location_freq_pensioned                 0.308507               0.047458   \n",
              "service_months_qty                      0.079330               0.052583   \n",
              "pension_freq_pensioned                  1.000000              -0.306339   \n",
              "pension_fund_name_enc                  -0.306339               1.000000   \n",
              "pension_group_name_enc                 -0.308736               0.185796   \n",
              "\n",
              "                          pension_group_name_enc  \n",
              "_20_year_status                        -0.113550  \n",
              "all_employers_salary_amt                0.097105  \n",
              "employer_freq_pensioned                -0.033238  \n",
              "total_months_qty                       -0.121364  \n",
              "location_freq_pensioned                -0.063150  \n",
              "service_months_qty                     -0.034342  \n",
              "pension_freq_pensioned                 -0.308736  \n",
              "pension_fund_name_enc                   0.185796  \n",
              "pension_group_name_enc                  1.000000  "
            ]
          },
          "metadata": {
            "tags": []
          },
          "execution_count": 11
        }
      ]
    },
    {
      "metadata": {
        "id": "bpTgBRi0XxR1",
        "colab_type": "text"
      },
      "cell_type": "markdown",
      "source": [
        "# 6 Load clfs Data from Google Drive\n",
        "##  6.1 Join Table "
      ]
    },
    {
      "metadata": {
        "id": "zCKhqkUXTfZ4",
        "colab_type": "code",
        "colab": {
          "base_uri": "https://localhost:8080/",
          "height": 485
        },
        "outputId": "efc05e8f-5591-4708-81e2-d2e5c1a4a2c2"
      },
      "cell_type": "code",
      "source": [
        "#Need to change 'id' everytime\n",
        "\n",
        "downloaded = drive.CreateFile({'id':'1XRf0Zu7tYeCLRsqxxcuT9LhfyEVDhiPo'})\n",
        "downloaded.GetContentFile('clfs_score612.pkl')\n",
        "\n",
        "downloaded = drive.CreateFile({'id':'13BdyYzlrM4eD9HpUrmAign0cmLqrY7dl'})\n",
        "downloaded.GetContentFile('clfs_score623.pkl')"
      ],
      "execution_count": 12,
      "outputs": [
        {
          "output_type": "stream",
          "text": [
            "WARNING:googleapiclient.discovery_cache:file_cache is unavailable when using oauth2client >= 4.0.0\n",
            "Traceback (most recent call last):\n",
            "  File \"/usr/local/lib/python3.6/dist-packages/googleapiclient/discovery_cache/__init__.py\", line 36, in autodetect\n",
            "    from google.appengine.api import memcache\n",
            "ModuleNotFoundError: No module named 'google.appengine'\n",
            "\n",
            "During handling of the above exception, another exception occurred:\n",
            "\n",
            "Traceback (most recent call last):\n",
            "  File \"/usr/local/lib/python3.6/dist-packages/googleapiclient/discovery_cache/file_cache.py\", line 33, in <module>\n",
            "    from oauth2client.contrib.locked_file import LockedFile\n",
            "ModuleNotFoundError: No module named 'oauth2client.contrib.locked_file'\n",
            "\n",
            "During handling of the above exception, another exception occurred:\n",
            "\n",
            "Traceback (most recent call last):\n",
            "  File \"/usr/local/lib/python3.6/dist-packages/googleapiclient/discovery_cache/file_cache.py\", line 37, in <module>\n",
            "    from oauth2client.locked_file import LockedFile\n",
            "ModuleNotFoundError: No module named 'oauth2client.locked_file'\n",
            "\n",
            "During handling of the above exception, another exception occurred:\n",
            "\n",
            "Traceback (most recent call last):\n",
            "  File \"/usr/local/lib/python3.6/dist-packages/googleapiclient/discovery_cache/__init__.py\", line 41, in autodetect\n",
            "    from . import file_cache\n",
            "  File \"/usr/local/lib/python3.6/dist-packages/googleapiclient/discovery_cache/file_cache.py\", line 41, in <module>\n",
            "    'file_cache is unavailable when using oauth2client >= 4.0.0')\n",
            "ImportError: file_cache is unavailable when using oauth2client >= 4.0.0\n"
          ],
          "name": "stderr"
        }
      ]
    },
    {
      "metadata": {
        "id": "EpSUbejpGpPv",
        "colab_type": "code",
        "colab": {}
      },
      "cell_type": "code",
      "source": [
        "#downloaded = drive.CreateFile({'id':'1vA1Z9Y9OkTNp83XR3WLuAyA-HemgTErA'})\n",
        "#downloaded.GetContentFile('clfs612.pkl')\n",
        "#clfs = joblib.load('clfs612.pkl')"
      ],
      "execution_count": 0,
      "outputs": []
    },
    {
      "metadata": {
        "id": "Lvs3n3_hASi4",
        "colab_type": "code",
        "colab": {}
      },
      "cell_type": "code",
      "source": [
        "clfs_score612 = joblib.load('clfs_score612.pkl')\n",
        "clfs_score623 = joblib.load('clfs_score623.pkl')"
      ],
      "execution_count": 0,
      "outputs": []
    },
    {
      "metadata": {
        "id": "XB-BHtaT21Wi",
        "colab_type": "code",
        "colab": {}
      },
      "cell_type": "code",
      "source": [
        "df_clfs_score = pd.DataFrame.from_dict(clfs_score612,orient='index')"
      ],
      "execution_count": 0,
      "outputs": []
    },
    {
      "metadata": {
        "id": "UOhoDy145ET4",
        "colab_type": "code",
        "colab": {}
      },
      "cell_type": "code",
      "source": [
        "df_clfs_score2 = pd.DataFrame.from_dict(clfs_score623,orient='index')"
      ],
      "execution_count": 0,
      "outputs": []
    },
    {
      "metadata": {
        "id": "CjCvhJg15_OE",
        "colab_type": "code",
        "colab": {}
      },
      "cell_type": "code",
      "source": [
        "df_clfs_score = pd.concat([df_clfs_score, df_clfs_score2], axis=1, join='inner')"
      ],
      "execution_count": 0,
      "outputs": []
    },
    {
      "metadata": {
        "id": "DF1E76wA7gMG",
        "colab_type": "text"
      },
      "cell_type": "markdown",
      "source": [
        "## 6.2  Additional Field and Manupulation"
      ]
    },
    {
      "metadata": {
        "id": "fHuegdk5N-Br",
        "colab_type": "code",
        "colab": {}
      },
      "cell_type": "code",
      "source": [
        "df_clfs_score['classifier'] = [i.split('|')[0] for i  in df_clfs_score.index.tolist()]"
      ],
      "execution_count": 0,
      "outputs": []
    },
    {
      "metadata": {
        "id": "KAPxedqmu-uA",
        "colab_type": "code",
        "colab": {}
      },
      "cell_type": "code",
      "source": [
        "df_clfs_score['std'] = df_clfs_score.std(axis=1)"
      ],
      "execution_count": 0,
      "outputs": []
    },
    {
      "metadata": {
        "id": "d6gUpRgwVx7F",
        "colab_type": "code",
        "colab": {}
      },
      "cell_type": "code",
      "source": [
        "df_clfs_score.columns = ['Training', 'Test1', 'Test2', 'Test3', 'classifier','std']"
      ],
      "execution_count": 0,
      "outputs": []
    },
    {
      "metadata": {
        "id": "S3CTXYWuUSn_",
        "colab_type": "code",
        "outputId": "73d0077d-9fda-4ea2-9e86-a799f4d4e0c6",
        "colab": {
          "base_uri": "https://localhost:8080/",
          "height": 1895
        }
      },
      "cell_type": "code",
      "source": [
        "df_clfs_score.sort_values(['classifier','Training','std'], ascending=[True, False, True])"
      ],
      "execution_count": 21,
      "outputs": [
        {
          "output_type": "execute_result",
          "data": {
            "text/html": [
              "<div>\n",
              "<style scoped>\n",
              "    .dataframe tbody tr th:only-of-type {\n",
              "        vertical-align: middle;\n",
              "    }\n",
              "\n",
              "    .dataframe tbody tr th {\n",
              "        vertical-align: top;\n",
              "    }\n",
              "\n",
              "    .dataframe thead th {\n",
              "        text-align: right;\n",
              "    }\n",
              "</style>\n",
              "<table border=\"1\" class=\"dataframe\">\n",
              "  <thead>\n",
              "    <tr style=\"text-align: right;\">\n",
              "      <th></th>\n",
              "      <th>Training</th>\n",
              "      <th>Test1</th>\n",
              "      <th>Test2</th>\n",
              "      <th>Test3</th>\n",
              "      <th>classifier</th>\n",
              "      <th>std</th>\n",
              "    </tr>\n",
              "  </thead>\n",
              "  <tbody>\n",
              "    <tr>\n",
              "      <th>AdaBoostClassifier|PCA StandardScaler|PowerTransformer|</th>\n",
              "      <td>0.949143</td>\n",
              "      <td>0.930667</td>\n",
              "      <td>0.946000</td>\n",
              "      <td>0.922</td>\n",
              "      <td>AdaBoostClassifier</td>\n",
              "      <td>0.012826</td>\n",
              "    </tr>\n",
              "    <tr>\n",
              "      <th>AdaBoostClassifier|PCA MinMaxScaler|PowerTransformer|</th>\n",
              "      <td>0.948857</td>\n",
              "      <td>0.938000</td>\n",
              "      <td>0.948667</td>\n",
              "      <td>0.863</td>\n",
              "      <td>AdaBoostClassifier</td>\n",
              "      <td>0.041399</td>\n",
              "    </tr>\n",
              "    <tr>\n",
              "      <th>AdaBoostClassifier|Raw PowerTransformer|QuantileTransformer|</th>\n",
              "      <td>0.947143</td>\n",
              "      <td>0.937333</td>\n",
              "      <td>0.945333</td>\n",
              "      <td>0.937</td>\n",
              "      <td>AdaBoostClassifier</td>\n",
              "      <td>0.005291</td>\n",
              "    </tr>\n",
              "    <tr>\n",
              "      <th>AdaBoostClassifier|Raw StandardScaler|PowerTransformer|</th>\n",
              "      <td>0.946286</td>\n",
              "      <td>0.932000</td>\n",
              "      <td>0.944000</td>\n",
              "      <td>0.940</td>\n",
              "      <td>AdaBoostClassifier</td>\n",
              "      <td>0.006277</td>\n",
              "    </tr>\n",
              "    <tr>\n",
              "      <th>AdaBoostClassifier|Raw Normalizer|StandardScaler|</th>\n",
              "      <td>0.946286</td>\n",
              "      <td>0.947333</td>\n",
              "      <td>0.948667</td>\n",
              "      <td>0.933</td>\n",
              "      <td>AdaBoostClassifier</td>\n",
              "      <td>0.007280</td>\n",
              "    </tr>\n",
              "    <tr>\n",
              "      <th>AdaBoostClassifier|Raw Normalizer|PowerTransformer|</th>\n",
              "      <td>0.946000</td>\n",
              "      <td>0.938000</td>\n",
              "      <td>0.945333</td>\n",
              "      <td>0.937</td>\n",
              "      <td>AdaBoostClassifier</td>\n",
              "      <td>0.004740</td>\n",
              "    </tr>\n",
              "    <tr>\n",
              "      <th>AdaBoostClassifier|KPCA MinMaxScaler|QuantileTransformer|</th>\n",
              "      <td>0.945429</td>\n",
              "      <td>0.945333</td>\n",
              "      <td>0.947333</td>\n",
              "      <td>0.939</td>\n",
              "      <td>AdaBoostClassifier</td>\n",
              "      <td>0.003635</td>\n",
              "    </tr>\n",
              "    <tr>\n",
              "      <th>AdaBoostClassifier|Raw StandardScaler|QuantileTransformer|</th>\n",
              "      <td>0.944857</td>\n",
              "      <td>0.943333</td>\n",
              "      <td>0.946000</td>\n",
              "      <td>0.934</td>\n",
              "      <td>AdaBoostClassifier</td>\n",
              "      <td>0.005475</td>\n",
              "    </tr>\n",
              "    <tr>\n",
              "      <th>AdaBoostClassifier|PCA PowerTransformer|QuantileTransformer|</th>\n",
              "      <td>0.944000</td>\n",
              "      <td>0.939333</td>\n",
              "      <td>0.944667</td>\n",
              "      <td>0.938</td>\n",
              "      <td>AdaBoostClassifier</td>\n",
              "      <td>0.003328</td>\n",
              "    </tr>\n",
              "    <tr>\n",
              "      <th>AdaBoostClassifier|PCA StandardScaler|QuantileTransformer|</th>\n",
              "      <td>0.943429</td>\n",
              "      <td>0.942000</td>\n",
              "      <td>0.944000</td>\n",
              "      <td>0.939</td>\n",
              "      <td>AdaBoostClassifier</td>\n",
              "      <td>0.002236</td>\n",
              "    </tr>\n",
              "    <tr>\n",
              "      <th>AdaBoostClassifier|Raw MinMaxScaler|PowerTransformer|</th>\n",
              "      <td>0.943429</td>\n",
              "      <td>0.944000</td>\n",
              "      <td>0.944000</td>\n",
              "      <td>0.939</td>\n",
              "      <td>AdaBoostClassifier</td>\n",
              "      <td>0.002420</td>\n",
              "    </tr>\n",
              "    <tr>\n",
              "      <th>AdaBoostClassifier|Raw MinMaxScaler|Normalizer|</th>\n",
              "      <td>0.943429</td>\n",
              "      <td>0.940000</td>\n",
              "      <td>0.944667</td>\n",
              "      <td>0.939</td>\n",
              "      <td>AdaBoostClassifier</td>\n",
              "      <td>0.002705</td>\n",
              "    </tr>\n",
              "    <tr>\n",
              "      <th>AdaBoostClassifier|PCA MinMaxScaler|Normalizer|</th>\n",
              "      <td>0.942857</td>\n",
              "      <td>0.939333</td>\n",
              "      <td>0.944000</td>\n",
              "      <td>0.941</td>\n",
              "      <td>AdaBoostClassifier</td>\n",
              "      <td>0.002056</td>\n",
              "    </tr>\n",
              "    <tr>\n",
              "      <th>AdaBoostClassifier|PCA Normalizer|PowerTransformer|</th>\n",
              "      <td>0.942286</td>\n",
              "      <td>0.937333</td>\n",
              "      <td>0.943333</td>\n",
              "      <td>0.939</td>\n",
              "      <td>AdaBoostClassifier</td>\n",
              "      <td>0.002798</td>\n",
              "    </tr>\n",
              "    <tr>\n",
              "      <th>AdaBoostClassifier|Raw MinMaxScaler|QuantileTransformer|</th>\n",
              "      <td>0.941429</td>\n",
              "      <td>0.943333</td>\n",
              "      <td>0.944000</td>\n",
              "      <td>0.940</td>\n",
              "      <td>AdaBoostClassifier</td>\n",
              "      <td>0.001822</td>\n",
              "    </tr>\n",
              "    <tr>\n",
              "      <th>AdaBoostClassifier|PCA MinMaxScaler|QuantileTransformer|</th>\n",
              "      <td>0.941429</td>\n",
              "      <td>0.943333</td>\n",
              "      <td>0.944000</td>\n",
              "      <td>0.940</td>\n",
              "      <td>AdaBoostClassifier</td>\n",
              "      <td>0.001822</td>\n",
              "    </tr>\n",
              "    <tr>\n",
              "      <th>AdaBoostClassifier|KPCA MinMaxScaler|StandardScaler|</th>\n",
              "      <td>0.940857</td>\n",
              "      <td>0.940000</td>\n",
              "      <td>0.946000</td>\n",
              "      <td>0.834</td>\n",
              "      <td>AdaBoostClassifier</td>\n",
              "      <td>0.054208</td>\n",
              "    </tr>\n",
              "    <tr>\n",
              "      <th>AdaBoostClassifier|Raw Normalizer|QuantileTransformer|</th>\n",
              "      <td>0.939429</td>\n",
              "      <td>0.948000</td>\n",
              "      <td>0.944000</td>\n",
              "      <td>0.940</td>\n",
              "      <td>AdaBoostClassifier</td>\n",
              "      <td>0.003986</td>\n",
              "    </tr>\n",
              "    <tr>\n",
              "      <th>AdaBoostClassifier|PCA Normalizer|QuantileTransformer|</th>\n",
              "      <td>0.939143</td>\n",
              "      <td>0.948000</td>\n",
              "      <td>0.944667</td>\n",
              "      <td>0.940</td>\n",
              "      <td>AdaBoostClassifier</td>\n",
              "      <td>0.004149</td>\n",
              "    </tr>\n",
              "    <tr>\n",
              "      <th>AdaBoostClassifier|Raw MinMaxScaler|StandardScaler|</th>\n",
              "      <td>0.938000</td>\n",
              "      <td>0.956000</td>\n",
              "      <td>0.945333</td>\n",
              "      <td>0.928</td>\n",
              "      <td>AdaBoostClassifier</td>\n",
              "      <td>0.011818</td>\n",
              "    </tr>\n",
              "    <tr>\n",
              "      <th>AdaBoostClassifier|KPCA MinMaxScaler|Normalizer|</th>\n",
              "      <td>0.936286</td>\n",
              "      <td>0.956667</td>\n",
              "      <td>0.945333</td>\n",
              "      <td>0.939</td>\n",
              "      <td>AdaBoostClassifier</td>\n",
              "      <td>0.009061</td>\n",
              "    </tr>\n",
              "    <tr>\n",
              "      <th>AdaBoostClassifier|ICA MinMaxScaler|StandardScaler|</th>\n",
              "      <td>0.935429</td>\n",
              "      <td>0.958667</td>\n",
              "      <td>0.944000</td>\n",
              "      <td>0.940</td>\n",
              "      <td>AdaBoostClassifier</td>\n",
              "      <td>0.010058</td>\n",
              "    </tr>\n",
              "    <tr>\n",
              "      <th>AdaBoostClassifier|PCA MinMaxScaler|StandardScaler|</th>\n",
              "      <td>0.931714</td>\n",
              "      <td>0.952000</td>\n",
              "      <td>0.939333</td>\n",
              "      <td>0.931</td>\n",
              "      <td>AdaBoostClassifier</td>\n",
              "      <td>0.009751</td>\n",
              "    </tr>\n",
              "    <tr>\n",
              "      <th>AdaBoostClassifier|MDS StandardScaler|PowerTransformer|</th>\n",
              "      <td>0.881429</td>\n",
              "      <td>0.878667</td>\n",
              "      <td>0.886000</td>\n",
              "      <td>0.835</td>\n",
              "      <td>AdaBoostClassifier</td>\n",
              "      <td>0.023710</td>\n",
              "    </tr>\n",
              "    <tr>\n",
              "      <th>GradientBoostingClassifier|PCA StandardScaler|PowerTransformer|</th>\n",
              "      <td>0.952857</td>\n",
              "      <td>0.931333</td>\n",
              "      <td>0.949333</td>\n",
              "      <td>0.930</td>\n",
              "      <td>GradientBoostingClassifier</td>\n",
              "      <td>0.011894</td>\n",
              "    </tr>\n",
              "    <tr>\n",
              "      <th>GradientBoostingClassifier|KPCA StandardScaler|QuantileTransformer|</th>\n",
              "      <td>0.952286</td>\n",
              "      <td>0.936000</td>\n",
              "      <td>0.950000</td>\n",
              "      <td>0.936</td>\n",
              "      <td>GradientBoostingClassifier</td>\n",
              "      <td>0.008792</td>\n",
              "    </tr>\n",
              "    <tr>\n",
              "      <th>GradientBoostingClassifier|KPCA PowerTransformer|QuantileTransformer|</th>\n",
              "      <td>0.951714</td>\n",
              "      <td>0.941333</td>\n",
              "      <td>0.952667</td>\n",
              "      <td>0.913</td>\n",
              "      <td>GradientBoostingClassifier</td>\n",
              "      <td>0.018512</td>\n",
              "    </tr>\n",
              "    <tr>\n",
              "      <th>GradientBoostingClassifier|PCA PowerTransformer|QuantileTransformer|</th>\n",
              "      <td>0.951429</td>\n",
              "      <td>0.935333</td>\n",
              "      <td>0.949333</td>\n",
              "      <td>0.937</td>\n",
              "      <td>GradientBoostingClassifier</td>\n",
              "      <td>0.008279</td>\n",
              "    </tr>\n",
              "    <tr>\n",
              "      <th>GradientBoostingClassifier|PCA Normalizer|PowerTransformer|</th>\n",
              "      <td>0.950857</td>\n",
              "      <td>0.938667</td>\n",
              "      <td>0.948000</td>\n",
              "      <td>0.939</td>\n",
              "      <td>GradientBoostingClassifier</td>\n",
              "      <td>0.006229</td>\n",
              "    </tr>\n",
              "    <tr>\n",
              "      <th>GradientBoostingClassifier|Raw StandardScaler|PowerTransformer|</th>\n",
              "      <td>0.950286</td>\n",
              "      <td>0.931333</td>\n",
              "      <td>0.946000</td>\n",
              "      <td>0.938</td>\n",
              "      <td>GradientBoostingClassifier</td>\n",
              "      <td>0.008426</td>\n",
              "    </tr>\n",
              "    <tr>\n",
              "      <th>...</th>\n",
              "      <td>...</td>\n",
              "      <td>...</td>\n",
              "      <td>...</td>\n",
              "      <td>...</td>\n",
              "      <td>...</td>\n",
              "      <td>...</td>\n",
              "    </tr>\n",
              "    <tr>\n",
              "      <th>LogisticRegression2|KPCA MinMaxScaler|Normalizer|</th>\n",
              "      <td>0.935714</td>\n",
              "      <td>0.956667</td>\n",
              "      <td>0.944000</td>\n",
              "      <td>0.940</td>\n",
              "      <td>LogisticRegression2</td>\n",
              "      <td>0.009038</td>\n",
              "    </tr>\n",
              "    <tr>\n",
              "      <th>LogisticRegression2|Raw MinMaxScaler|StandardScaler|</th>\n",
              "      <td>0.935714</td>\n",
              "      <td>0.956667</td>\n",
              "      <td>0.944000</td>\n",
              "      <td>0.940</td>\n",
              "      <td>LogisticRegression2</td>\n",
              "      <td>0.009038</td>\n",
              "    </tr>\n",
              "    <tr>\n",
              "      <th>LogisticRegression2|PCA MinMaxScaler|StandardScaler|</th>\n",
              "      <td>0.935714</td>\n",
              "      <td>0.956667</td>\n",
              "      <td>0.944000</td>\n",
              "      <td>0.936</td>\n",
              "      <td>LogisticRegression2</td>\n",
              "      <td>0.009829</td>\n",
              "    </tr>\n",
              "    <tr>\n",
              "      <th>LogisticRegression2|KPCA Normalizer|PowerTransformer|</th>\n",
              "      <td>0.934857</td>\n",
              "      <td>0.948000</td>\n",
              "      <td>0.940667</td>\n",
              "      <td>0.869</td>\n",
              "      <td>LogisticRegression2</td>\n",
              "      <td>0.036486</td>\n",
              "    </tr>\n",
              "    <tr>\n",
              "      <th>LogisticRegression2|KPCA Normalizer|StandardScaler|</th>\n",
              "      <td>0.934286</td>\n",
              "      <td>0.934667</td>\n",
              "      <td>0.937333</td>\n",
              "      <td>0.874</td>\n",
              "      <td>LogisticRegression2</td>\n",
              "      <td>0.030744</td>\n",
              "    </tr>\n",
              "    <tr>\n",
              "      <th>RandomForestClassifier|Raw StandardScaler|PowerTransformer|</th>\n",
              "      <td>0.993143</td>\n",
              "      <td>0.932000</td>\n",
              "      <td>0.974667</td>\n",
              "      <td>0.933</td>\n",
              "      <td>RandomForestClassifier</td>\n",
              "      <td>0.030625</td>\n",
              "    </tr>\n",
              "    <tr>\n",
              "      <th>RandomForestClassifier|PCA StandardScaler|PowerTransformer|</th>\n",
              "      <td>0.992571</td>\n",
              "      <td>0.931333</td>\n",
              "      <td>0.978667</td>\n",
              "      <td>0.933</td>\n",
              "      <td>RandomForestClassifier</td>\n",
              "      <td>0.031386</td>\n",
              "    </tr>\n",
              "    <tr>\n",
              "      <th>RandomForestClassifier|KPCA Normalizer|QuantileTransformer|</th>\n",
              "      <td>0.992000</td>\n",
              "      <td>0.932000</td>\n",
              "      <td>0.976000</td>\n",
              "      <td>0.928</td>\n",
              "      <td>RandomForestClassifier</td>\n",
              "      <td>0.031896</td>\n",
              "    </tr>\n",
              "    <tr>\n",
              "      <th>RandomForestClassifier|PCA MinMaxScaler|PowerTransformer|</th>\n",
              "      <td>0.990857</td>\n",
              "      <td>0.943333</td>\n",
              "      <td>0.977333</td>\n",
              "      <td>0.937</td>\n",
              "      <td>RandomForestClassifier</td>\n",
              "      <td>0.026085</td>\n",
              "    </tr>\n",
              "    <tr>\n",
              "      <th>RandomForestClassifier|Raw PowerTransformer|QuantileTransformer|</th>\n",
              "      <td>0.990000</td>\n",
              "      <td>0.942000</td>\n",
              "      <td>0.980000</td>\n",
              "      <td>0.937</td>\n",
              "      <td>RandomForestClassifier</td>\n",
              "      <td>0.026663</td>\n",
              "    </tr>\n",
              "    <tr>\n",
              "      <th>RandomForestClassifier|PCA StandardScaler|QuantileTransformer|</th>\n",
              "      <td>0.990000</td>\n",
              "      <td>0.941333</td>\n",
              "      <td>0.978000</td>\n",
              "      <td>0.933</td>\n",
              "      <td>RandomForestClassifier</td>\n",
              "      <td>0.027689</td>\n",
              "    </tr>\n",
              "    <tr>\n",
              "      <th>RandomForestClassifier|Raw StandardScaler|QuantileTransformer|</th>\n",
              "      <td>0.989714</td>\n",
              "      <td>0.944000</td>\n",
              "      <td>0.975333</td>\n",
              "      <td>0.940</td>\n",
              "      <td>RandomForestClassifier</td>\n",
              "      <td>0.024177</td>\n",
              "    </tr>\n",
              "    <tr>\n",
              "      <th>RandomForestClassifier|Raw Normalizer|PowerTransformer|</th>\n",
              "      <td>0.989714</td>\n",
              "      <td>0.940000</td>\n",
              "      <td>0.972667</td>\n",
              "      <td>0.940</td>\n",
              "      <td>RandomForestClassifier</td>\n",
              "      <td>0.024779</td>\n",
              "    </tr>\n",
              "    <tr>\n",
              "      <th>RandomForestClassifier|KPCA StandardScaler|QuantileTransformer|</th>\n",
              "      <td>0.989714</td>\n",
              "      <td>0.934667</td>\n",
              "      <td>0.977333</td>\n",
              "      <td>0.896</td>\n",
              "      <td>RandomForestClassifier</td>\n",
              "      <td>0.042717</td>\n",
              "    </tr>\n",
              "    <tr>\n",
              "      <th>RandomForestClassifier|Raw MinMaxScaler|PowerTransformer|</th>\n",
              "      <td>0.989429</td>\n",
              "      <td>0.943333</td>\n",
              "      <td>0.974000</td>\n",
              "      <td>0.940</td>\n",
              "      <td>RandomForestClassifier</td>\n",
              "      <td>0.024003</td>\n",
              "    </tr>\n",
              "    <tr>\n",
              "      <th>RandomForestClassifier|PCA MinMaxScaler|Normalizer|</th>\n",
              "      <td>0.989429</td>\n",
              "      <td>0.942000</td>\n",
              "      <td>0.979333</td>\n",
              "      <td>0.936</td>\n",
              "      <td>RandomForestClassifier</td>\n",
              "      <td>0.026636</td>\n",
              "    </tr>\n",
              "    <tr>\n",
              "      <th>RandomForestClassifier|PCA Normalizer|PowerTransformer|</th>\n",
              "      <td>0.989143</td>\n",
              "      <td>0.938000</td>\n",
              "      <td>0.973333</td>\n",
              "      <td>0.932</td>\n",
              "      <td>RandomForestClassifier</td>\n",
              "      <td>0.027574</td>\n",
              "    </tr>\n",
              "    <tr>\n",
              "      <th>RandomForestClassifier|KPCA PowerTransformer|QuantileTransformer|</th>\n",
              "      <td>0.989143</td>\n",
              "      <td>0.940000</td>\n",
              "      <td>0.974000</td>\n",
              "      <td>0.917</td>\n",
              "      <td>RandomForestClassifier</td>\n",
              "      <td>0.032638</td>\n",
              "    </tr>\n",
              "    <tr>\n",
              "      <th>RandomForestClassifier|Raw MinMaxScaler|Normalizer|</th>\n",
              "      <td>0.988857</td>\n",
              "      <td>0.943333</td>\n",
              "      <td>0.980000</td>\n",
              "      <td>0.934</td>\n",
              "      <td>RandomForestClassifier</td>\n",
              "      <td>0.026938</td>\n",
              "    </tr>\n",
              "    <tr>\n",
              "      <th>RandomForestClassifier|Raw MinMaxScaler|StandardScaler|</th>\n",
              "      <td>0.988571</td>\n",
              "      <td>0.954000</td>\n",
              "      <td>0.974667</td>\n",
              "      <td>0.938</td>\n",
              "      <td>RandomForestClassifier</td>\n",
              "      <td>0.022311</td>\n",
              "    </tr>\n",
              "    <tr>\n",
              "      <th>RandomForestClassifier|PCA PowerTransformer|QuantileTransformer|</th>\n",
              "      <td>0.988571</td>\n",
              "      <td>0.939333</td>\n",
              "      <td>0.977333</td>\n",
              "      <td>0.932</td>\n",
              "      <td>RandomForestClassifier</td>\n",
              "      <td>0.027845</td>\n",
              "    </tr>\n",
              "    <tr>\n",
              "      <th>RandomForestClassifier|PCA MinMaxScaler|StandardScaler|</th>\n",
              "      <td>0.988286</td>\n",
              "      <td>0.953333</td>\n",
              "      <td>0.974000</td>\n",
              "      <td>0.931</td>\n",
              "      <td>RandomForestClassifier</td>\n",
              "      <td>0.024970</td>\n",
              "    </tr>\n",
              "    <tr>\n",
              "      <th>RandomForestClassifier|PCA MinMaxScaler|QuantileTransformer|</th>\n",
              "      <td>0.988286</td>\n",
              "      <td>0.942667</td>\n",
              "      <td>0.976667</td>\n",
              "      <td>0.936</td>\n",
              "      <td>RandomForestClassifier</td>\n",
              "      <td>0.025502</td>\n",
              "    </tr>\n",
              "    <tr>\n",
              "      <th>RandomForestClassifier|Raw MinMaxScaler|QuantileTransformer|</th>\n",
              "      <td>0.987714</td>\n",
              "      <td>0.945333</td>\n",
              "      <td>0.978000</td>\n",
              "      <td>0.939</td>\n",
              "      <td>RandomForestClassifier</td>\n",
              "      <td>0.023965</td>\n",
              "    </tr>\n",
              "    <tr>\n",
              "      <th>RandomForestClassifier|PCA Normalizer|QuantileTransformer|</th>\n",
              "      <td>0.987429</td>\n",
              "      <td>0.949333</td>\n",
              "      <td>0.980000</td>\n",
              "      <td>0.937</td>\n",
              "      <td>RandomForestClassifier</td>\n",
              "      <td>0.024137</td>\n",
              "    </tr>\n",
              "    <tr>\n",
              "      <th>RandomForestClassifier|Raw Normalizer|QuantileTransformer|</th>\n",
              "      <td>0.987143</td>\n",
              "      <td>0.948667</td>\n",
              "      <td>0.982000</td>\n",
              "      <td>0.940</td>\n",
              "      <td>RandomForestClassifier</td>\n",
              "      <td>0.023593</td>\n",
              "    </tr>\n",
              "    <tr>\n",
              "      <th>RandomForestClassifier|KPCA MinMaxScaler|Normalizer|</th>\n",
              "      <td>0.986857</td>\n",
              "      <td>0.956000</td>\n",
              "      <td>0.976000</td>\n",
              "      <td>0.925</td>\n",
              "      <td>RandomForestClassifier</td>\n",
              "      <td>0.027170</td>\n",
              "    </tr>\n",
              "    <tr>\n",
              "      <th>RandomForestClassifier|Raw Normalizer|StandardScaler|</th>\n",
              "      <td>0.985429</td>\n",
              "      <td>0.946667</td>\n",
              "      <td>0.973333</td>\n",
              "      <td>0.939</td>\n",
              "      <td>RandomForestClassifier</td>\n",
              "      <td>0.021896</td>\n",
              "    </tr>\n",
              "    <tr>\n",
              "      <th>SVC|PCA MinMaxScaler|Normalizer|</th>\n",
              "      <td>0.941714</td>\n",
              "      <td>0.940000</td>\n",
              "      <td>0.942667</td>\n",
              "      <td>0.939</td>\n",
              "      <td>SVC</td>\n",
              "      <td>0.001652</td>\n",
              "    </tr>\n",
              "    <tr>\n",
              "      <th>SVC|PCA MinMaxScaler|QuantileTransformer|</th>\n",
              "      <td>0.941429</td>\n",
              "      <td>0.943333</td>\n",
              "      <td>0.944000</td>\n",
              "      <td>0.940</td>\n",
              "      <td>SVC</td>\n",
              "      <td>0.001822</td>\n",
              "    </tr>\n",
              "  </tbody>\n",
              "</table>\n",
              "<p>120 rows × 6 columns</p>\n",
              "</div>"
            ],
            "text/plain": [
              "                                                    Training     Test1  \\\n",
              "AdaBoostClassifier|PCA StandardScaler|PowerTran...  0.949143  0.930667   \n",
              "AdaBoostClassifier|PCA MinMaxScaler|PowerTransf...  0.948857  0.938000   \n",
              "AdaBoostClassifier|Raw PowerTransformer|Quantil...  0.947143  0.937333   \n",
              "AdaBoostClassifier|Raw StandardScaler|PowerTran...  0.946286  0.932000   \n",
              "AdaBoostClassifier|Raw Normalizer|StandardScaler|   0.946286  0.947333   \n",
              "AdaBoostClassifier|Raw Normalizer|PowerTransfor...  0.946000  0.938000   \n",
              "AdaBoostClassifier|KPCA MinMaxScaler|QuantileTr...  0.945429  0.945333   \n",
              "AdaBoostClassifier|Raw StandardScaler|QuantileT...  0.944857  0.943333   \n",
              "AdaBoostClassifier|PCA PowerTransformer|Quantil...  0.944000  0.939333   \n",
              "AdaBoostClassifier|PCA StandardScaler|QuantileT...  0.943429  0.942000   \n",
              "AdaBoostClassifier|Raw MinMaxScaler|PowerTransf...  0.943429  0.944000   \n",
              "AdaBoostClassifier|Raw MinMaxScaler|Normalizer|     0.943429  0.940000   \n",
              "AdaBoostClassifier|PCA MinMaxScaler|Normalizer|     0.942857  0.939333   \n",
              "AdaBoostClassifier|PCA Normalizer|PowerTransfor...  0.942286  0.937333   \n",
              "AdaBoostClassifier|Raw MinMaxScaler|QuantileTra...  0.941429  0.943333   \n",
              "AdaBoostClassifier|PCA MinMaxScaler|QuantileTra...  0.941429  0.943333   \n",
              "AdaBoostClassifier|KPCA MinMaxScaler|StandardSc...  0.940857  0.940000   \n",
              "AdaBoostClassifier|Raw Normalizer|QuantileTrans...  0.939429  0.948000   \n",
              "AdaBoostClassifier|PCA Normalizer|QuantileTrans...  0.939143  0.948000   \n",
              "AdaBoostClassifier|Raw MinMaxScaler|StandardSca...  0.938000  0.956000   \n",
              "AdaBoostClassifier|KPCA MinMaxScaler|Normalizer|    0.936286  0.956667   \n",
              "AdaBoostClassifier|ICA MinMaxScaler|StandardSca...  0.935429  0.958667   \n",
              "AdaBoostClassifier|PCA MinMaxScaler|StandardSca...  0.931714  0.952000   \n",
              "AdaBoostClassifier|MDS StandardScaler|PowerTran...  0.881429  0.878667   \n",
              "GradientBoostingClassifier|PCA StandardScaler|P...  0.952857  0.931333   \n",
              "GradientBoostingClassifier|KPCA StandardScaler|...  0.952286  0.936000   \n",
              "GradientBoostingClassifier|KPCA PowerTransforme...  0.951714  0.941333   \n",
              "GradientBoostingClassifier|PCA PowerTransformer...  0.951429  0.935333   \n",
              "GradientBoostingClassifier|PCA Normalizer|Power...  0.950857  0.938667   \n",
              "GradientBoostingClassifier|Raw StandardScaler|P...  0.950286  0.931333   \n",
              "...                                                      ...       ...   \n",
              "LogisticRegression2|KPCA MinMaxScaler|Normalizer|   0.935714  0.956667   \n",
              "LogisticRegression2|Raw MinMaxScaler|StandardSc...  0.935714  0.956667   \n",
              "LogisticRegression2|PCA MinMaxScaler|StandardSc...  0.935714  0.956667   \n",
              "LogisticRegression2|KPCA Normalizer|PowerTransf...  0.934857  0.948000   \n",
              "LogisticRegression2|KPCA Normalizer|StandardSca...  0.934286  0.934667   \n",
              "RandomForestClassifier|Raw StandardScaler|Power...  0.993143  0.932000   \n",
              "RandomForestClassifier|PCA StandardScaler|Power...  0.992571  0.931333   \n",
              "RandomForestClassifier|KPCA Normalizer|Quantile...  0.992000  0.932000   \n",
              "RandomForestClassifier|PCA MinMaxScaler|PowerTr...  0.990857  0.943333   \n",
              "RandomForestClassifier|Raw PowerTransformer|Qua...  0.990000  0.942000   \n",
              "RandomForestClassifier|PCA StandardScaler|Quant...  0.990000  0.941333   \n",
              "RandomForestClassifier|Raw StandardScaler|Quant...  0.989714  0.944000   \n",
              "RandomForestClassifier|Raw Normalizer|PowerTran...  0.989714  0.940000   \n",
              "RandomForestClassifier|KPCA StandardScaler|Quan...  0.989714  0.934667   \n",
              "RandomForestClassifier|Raw MinMaxScaler|PowerTr...  0.989429  0.943333   \n",
              "RandomForestClassifier|PCA MinMaxScaler|Normali...  0.989429  0.942000   \n",
              "RandomForestClassifier|PCA Normalizer|PowerTran...  0.989143  0.938000   \n",
              "RandomForestClassifier|KPCA PowerTransformer|Qu...  0.989143  0.940000   \n",
              "RandomForestClassifier|Raw MinMaxScaler|Normali...  0.988857  0.943333   \n",
              "RandomForestClassifier|Raw MinMaxScaler|Standar...  0.988571  0.954000   \n",
              "RandomForestClassifier|PCA PowerTransformer|Qua...  0.988571  0.939333   \n",
              "RandomForestClassifier|PCA MinMaxScaler|Standar...  0.988286  0.953333   \n",
              "RandomForestClassifier|PCA MinMaxScaler|Quantil...  0.988286  0.942667   \n",
              "RandomForestClassifier|Raw MinMaxScaler|Quantil...  0.987714  0.945333   \n",
              "RandomForestClassifier|PCA Normalizer|QuantileT...  0.987429  0.949333   \n",
              "RandomForestClassifier|Raw Normalizer|QuantileT...  0.987143  0.948667   \n",
              "RandomForestClassifier|KPCA MinMaxScaler|Normal...  0.986857  0.956000   \n",
              "RandomForestClassifier|Raw Normalizer|StandardS...  0.985429  0.946667   \n",
              "SVC|PCA MinMaxScaler|Normalizer|                    0.941714  0.940000   \n",
              "SVC|PCA MinMaxScaler|QuantileTransformer|           0.941429  0.943333   \n",
              "\n",
              "                                                       Test2  Test3  \\\n",
              "AdaBoostClassifier|PCA StandardScaler|PowerTran...  0.946000  0.922   \n",
              "AdaBoostClassifier|PCA MinMaxScaler|PowerTransf...  0.948667  0.863   \n",
              "AdaBoostClassifier|Raw PowerTransformer|Quantil...  0.945333  0.937   \n",
              "AdaBoostClassifier|Raw StandardScaler|PowerTran...  0.944000  0.940   \n",
              "AdaBoostClassifier|Raw Normalizer|StandardScaler|   0.948667  0.933   \n",
              "AdaBoostClassifier|Raw Normalizer|PowerTransfor...  0.945333  0.937   \n",
              "AdaBoostClassifier|KPCA MinMaxScaler|QuantileTr...  0.947333  0.939   \n",
              "AdaBoostClassifier|Raw StandardScaler|QuantileT...  0.946000  0.934   \n",
              "AdaBoostClassifier|PCA PowerTransformer|Quantil...  0.944667  0.938   \n",
              "AdaBoostClassifier|PCA StandardScaler|QuantileT...  0.944000  0.939   \n",
              "AdaBoostClassifier|Raw MinMaxScaler|PowerTransf...  0.944000  0.939   \n",
              "AdaBoostClassifier|Raw MinMaxScaler|Normalizer|     0.944667  0.939   \n",
              "AdaBoostClassifier|PCA MinMaxScaler|Normalizer|     0.944000  0.941   \n",
              "AdaBoostClassifier|PCA Normalizer|PowerTransfor...  0.943333  0.939   \n",
              "AdaBoostClassifier|Raw MinMaxScaler|QuantileTra...  0.944000  0.940   \n",
              "AdaBoostClassifier|PCA MinMaxScaler|QuantileTra...  0.944000  0.940   \n",
              "AdaBoostClassifier|KPCA MinMaxScaler|StandardSc...  0.946000  0.834   \n",
              "AdaBoostClassifier|Raw Normalizer|QuantileTrans...  0.944000  0.940   \n",
              "AdaBoostClassifier|PCA Normalizer|QuantileTrans...  0.944667  0.940   \n",
              "AdaBoostClassifier|Raw MinMaxScaler|StandardSca...  0.945333  0.928   \n",
              "AdaBoostClassifier|KPCA MinMaxScaler|Normalizer|    0.945333  0.939   \n",
              "AdaBoostClassifier|ICA MinMaxScaler|StandardSca...  0.944000  0.940   \n",
              "AdaBoostClassifier|PCA MinMaxScaler|StandardSca...  0.939333  0.931   \n",
              "AdaBoostClassifier|MDS StandardScaler|PowerTran...  0.886000  0.835   \n",
              "GradientBoostingClassifier|PCA StandardScaler|P...  0.949333  0.930   \n",
              "GradientBoostingClassifier|KPCA StandardScaler|...  0.950000  0.936   \n",
              "GradientBoostingClassifier|KPCA PowerTransforme...  0.952667  0.913   \n",
              "GradientBoostingClassifier|PCA PowerTransformer...  0.949333  0.937   \n",
              "GradientBoostingClassifier|PCA Normalizer|Power...  0.948000  0.939   \n",
              "GradientBoostingClassifier|Raw StandardScaler|P...  0.946000  0.938   \n",
              "...                                                      ...    ...   \n",
              "LogisticRegression2|KPCA MinMaxScaler|Normalizer|   0.944000  0.940   \n",
              "LogisticRegression2|Raw MinMaxScaler|StandardSc...  0.944000  0.940   \n",
              "LogisticRegression2|PCA MinMaxScaler|StandardSc...  0.944000  0.936   \n",
              "LogisticRegression2|KPCA Normalizer|PowerTransf...  0.940667  0.869   \n",
              "LogisticRegression2|KPCA Normalizer|StandardSca...  0.937333  0.874   \n",
              "RandomForestClassifier|Raw StandardScaler|Power...  0.974667  0.933   \n",
              "RandomForestClassifier|PCA StandardScaler|Power...  0.978667  0.933   \n",
              "RandomForestClassifier|KPCA Normalizer|Quantile...  0.976000  0.928   \n",
              "RandomForestClassifier|PCA MinMaxScaler|PowerTr...  0.977333  0.937   \n",
              "RandomForestClassifier|Raw PowerTransformer|Qua...  0.980000  0.937   \n",
              "RandomForestClassifier|PCA StandardScaler|Quant...  0.978000  0.933   \n",
              "RandomForestClassifier|Raw StandardScaler|Quant...  0.975333  0.940   \n",
              "RandomForestClassifier|Raw Normalizer|PowerTran...  0.972667  0.940   \n",
              "RandomForestClassifier|KPCA StandardScaler|Quan...  0.977333  0.896   \n",
              "RandomForestClassifier|Raw MinMaxScaler|PowerTr...  0.974000  0.940   \n",
              "RandomForestClassifier|PCA MinMaxScaler|Normali...  0.979333  0.936   \n",
              "RandomForestClassifier|PCA Normalizer|PowerTran...  0.973333  0.932   \n",
              "RandomForestClassifier|KPCA PowerTransformer|Qu...  0.974000  0.917   \n",
              "RandomForestClassifier|Raw MinMaxScaler|Normali...  0.980000  0.934   \n",
              "RandomForestClassifier|Raw MinMaxScaler|Standar...  0.974667  0.938   \n",
              "RandomForestClassifier|PCA PowerTransformer|Qua...  0.977333  0.932   \n",
              "RandomForestClassifier|PCA MinMaxScaler|Standar...  0.974000  0.931   \n",
              "RandomForestClassifier|PCA MinMaxScaler|Quantil...  0.976667  0.936   \n",
              "RandomForestClassifier|Raw MinMaxScaler|Quantil...  0.978000  0.939   \n",
              "RandomForestClassifier|PCA Normalizer|QuantileT...  0.980000  0.937   \n",
              "RandomForestClassifier|Raw Normalizer|QuantileT...  0.982000  0.940   \n",
              "RandomForestClassifier|KPCA MinMaxScaler|Normal...  0.976000  0.925   \n",
              "RandomForestClassifier|Raw Normalizer|StandardS...  0.973333  0.939   \n",
              "SVC|PCA MinMaxScaler|Normalizer|                    0.942667  0.939   \n",
              "SVC|PCA MinMaxScaler|QuantileTransformer|           0.944000  0.940   \n",
              "\n",
              "                                                                    classifier  \\\n",
              "AdaBoostClassifier|PCA StandardScaler|PowerTran...          AdaBoostClassifier   \n",
              "AdaBoostClassifier|PCA MinMaxScaler|PowerTransf...          AdaBoostClassifier   \n",
              "AdaBoostClassifier|Raw PowerTransformer|Quantil...          AdaBoostClassifier   \n",
              "AdaBoostClassifier|Raw StandardScaler|PowerTran...          AdaBoostClassifier   \n",
              "AdaBoostClassifier|Raw Normalizer|StandardScaler|           AdaBoostClassifier   \n",
              "AdaBoostClassifier|Raw Normalizer|PowerTransfor...          AdaBoostClassifier   \n",
              "AdaBoostClassifier|KPCA MinMaxScaler|QuantileTr...          AdaBoostClassifier   \n",
              "AdaBoostClassifier|Raw StandardScaler|QuantileT...          AdaBoostClassifier   \n",
              "AdaBoostClassifier|PCA PowerTransformer|Quantil...          AdaBoostClassifier   \n",
              "AdaBoostClassifier|PCA StandardScaler|QuantileT...          AdaBoostClassifier   \n",
              "AdaBoostClassifier|Raw MinMaxScaler|PowerTransf...          AdaBoostClassifier   \n",
              "AdaBoostClassifier|Raw MinMaxScaler|Normalizer|             AdaBoostClassifier   \n",
              "AdaBoostClassifier|PCA MinMaxScaler|Normalizer|             AdaBoostClassifier   \n",
              "AdaBoostClassifier|PCA Normalizer|PowerTransfor...          AdaBoostClassifier   \n",
              "AdaBoostClassifier|Raw MinMaxScaler|QuantileTra...          AdaBoostClassifier   \n",
              "AdaBoostClassifier|PCA MinMaxScaler|QuantileTra...          AdaBoostClassifier   \n",
              "AdaBoostClassifier|KPCA MinMaxScaler|StandardSc...          AdaBoostClassifier   \n",
              "AdaBoostClassifier|Raw Normalizer|QuantileTrans...          AdaBoostClassifier   \n",
              "AdaBoostClassifier|PCA Normalizer|QuantileTrans...          AdaBoostClassifier   \n",
              "AdaBoostClassifier|Raw MinMaxScaler|StandardSca...          AdaBoostClassifier   \n",
              "AdaBoostClassifier|KPCA MinMaxScaler|Normalizer|            AdaBoostClassifier   \n",
              "AdaBoostClassifier|ICA MinMaxScaler|StandardSca...          AdaBoostClassifier   \n",
              "AdaBoostClassifier|PCA MinMaxScaler|StandardSca...          AdaBoostClassifier   \n",
              "AdaBoostClassifier|MDS StandardScaler|PowerTran...          AdaBoostClassifier   \n",
              "GradientBoostingClassifier|PCA StandardScaler|P...  GradientBoostingClassifier   \n",
              "GradientBoostingClassifier|KPCA StandardScaler|...  GradientBoostingClassifier   \n",
              "GradientBoostingClassifier|KPCA PowerTransforme...  GradientBoostingClassifier   \n",
              "GradientBoostingClassifier|PCA PowerTransformer...  GradientBoostingClassifier   \n",
              "GradientBoostingClassifier|PCA Normalizer|Power...  GradientBoostingClassifier   \n",
              "GradientBoostingClassifier|Raw StandardScaler|P...  GradientBoostingClassifier   \n",
              "...                                                                        ...   \n",
              "LogisticRegression2|KPCA MinMaxScaler|Normalizer|          LogisticRegression2   \n",
              "LogisticRegression2|Raw MinMaxScaler|StandardSc...         LogisticRegression2   \n",
              "LogisticRegression2|PCA MinMaxScaler|StandardSc...         LogisticRegression2   \n",
              "LogisticRegression2|KPCA Normalizer|PowerTransf...         LogisticRegression2   \n",
              "LogisticRegression2|KPCA Normalizer|StandardSca...         LogisticRegression2   \n",
              "RandomForestClassifier|Raw StandardScaler|Power...      RandomForestClassifier   \n",
              "RandomForestClassifier|PCA StandardScaler|Power...      RandomForestClassifier   \n",
              "RandomForestClassifier|KPCA Normalizer|Quantile...      RandomForestClassifier   \n",
              "RandomForestClassifier|PCA MinMaxScaler|PowerTr...      RandomForestClassifier   \n",
              "RandomForestClassifier|Raw PowerTransformer|Qua...      RandomForestClassifier   \n",
              "RandomForestClassifier|PCA StandardScaler|Quant...      RandomForestClassifier   \n",
              "RandomForestClassifier|Raw StandardScaler|Quant...      RandomForestClassifier   \n",
              "RandomForestClassifier|Raw Normalizer|PowerTran...      RandomForestClassifier   \n",
              "RandomForestClassifier|KPCA StandardScaler|Quan...      RandomForestClassifier   \n",
              "RandomForestClassifier|Raw MinMaxScaler|PowerTr...      RandomForestClassifier   \n",
              "RandomForestClassifier|PCA MinMaxScaler|Normali...      RandomForestClassifier   \n",
              "RandomForestClassifier|PCA Normalizer|PowerTran...      RandomForestClassifier   \n",
              "RandomForestClassifier|KPCA PowerTransformer|Qu...      RandomForestClassifier   \n",
              "RandomForestClassifier|Raw MinMaxScaler|Normali...      RandomForestClassifier   \n",
              "RandomForestClassifier|Raw MinMaxScaler|Standar...      RandomForestClassifier   \n",
              "RandomForestClassifier|PCA PowerTransformer|Qua...      RandomForestClassifier   \n",
              "RandomForestClassifier|PCA MinMaxScaler|Standar...      RandomForestClassifier   \n",
              "RandomForestClassifier|PCA MinMaxScaler|Quantil...      RandomForestClassifier   \n",
              "RandomForestClassifier|Raw MinMaxScaler|Quantil...      RandomForestClassifier   \n",
              "RandomForestClassifier|PCA Normalizer|QuantileT...      RandomForestClassifier   \n",
              "RandomForestClassifier|Raw Normalizer|QuantileT...      RandomForestClassifier   \n",
              "RandomForestClassifier|KPCA MinMaxScaler|Normal...      RandomForestClassifier   \n",
              "RandomForestClassifier|Raw Normalizer|StandardS...      RandomForestClassifier   \n",
              "SVC|PCA MinMaxScaler|Normalizer|                                           SVC   \n",
              "SVC|PCA MinMaxScaler|QuantileTransformer|                                  SVC   \n",
              "\n",
              "                                                         std  \n",
              "AdaBoostClassifier|PCA StandardScaler|PowerTran...  0.012826  \n",
              "AdaBoostClassifier|PCA MinMaxScaler|PowerTransf...  0.041399  \n",
              "AdaBoostClassifier|Raw PowerTransformer|Quantil...  0.005291  \n",
              "AdaBoostClassifier|Raw StandardScaler|PowerTran...  0.006277  \n",
              "AdaBoostClassifier|Raw Normalizer|StandardScaler|   0.007280  \n",
              "AdaBoostClassifier|Raw Normalizer|PowerTransfor...  0.004740  \n",
              "AdaBoostClassifier|KPCA MinMaxScaler|QuantileTr...  0.003635  \n",
              "AdaBoostClassifier|Raw StandardScaler|QuantileT...  0.005475  \n",
              "AdaBoostClassifier|PCA PowerTransformer|Quantil...  0.003328  \n",
              "AdaBoostClassifier|PCA StandardScaler|QuantileT...  0.002236  \n",
              "AdaBoostClassifier|Raw MinMaxScaler|PowerTransf...  0.002420  \n",
              "AdaBoostClassifier|Raw MinMaxScaler|Normalizer|     0.002705  \n",
              "AdaBoostClassifier|PCA MinMaxScaler|Normalizer|     0.002056  \n",
              "AdaBoostClassifier|PCA Normalizer|PowerTransfor...  0.002798  \n",
              "AdaBoostClassifier|Raw MinMaxScaler|QuantileTra...  0.001822  \n",
              "AdaBoostClassifier|PCA MinMaxScaler|QuantileTra...  0.001822  \n",
              "AdaBoostClassifier|KPCA MinMaxScaler|StandardSc...  0.054208  \n",
              "AdaBoostClassifier|Raw Normalizer|QuantileTrans...  0.003986  \n",
              "AdaBoostClassifier|PCA Normalizer|QuantileTrans...  0.004149  \n",
              "AdaBoostClassifier|Raw MinMaxScaler|StandardSca...  0.011818  \n",
              "AdaBoostClassifier|KPCA MinMaxScaler|Normalizer|    0.009061  \n",
              "AdaBoostClassifier|ICA MinMaxScaler|StandardSca...  0.010058  \n",
              "AdaBoostClassifier|PCA MinMaxScaler|StandardSca...  0.009751  \n",
              "AdaBoostClassifier|MDS StandardScaler|PowerTran...  0.023710  \n",
              "GradientBoostingClassifier|PCA StandardScaler|P...  0.011894  \n",
              "GradientBoostingClassifier|KPCA StandardScaler|...  0.008792  \n",
              "GradientBoostingClassifier|KPCA PowerTransforme...  0.018512  \n",
              "GradientBoostingClassifier|PCA PowerTransformer...  0.008279  \n",
              "GradientBoostingClassifier|PCA Normalizer|Power...  0.006229  \n",
              "GradientBoostingClassifier|Raw StandardScaler|P...  0.008426  \n",
              "...                                                      ...  \n",
              "LogisticRegression2|KPCA MinMaxScaler|Normalizer|   0.009038  \n",
              "LogisticRegression2|Raw MinMaxScaler|StandardSc...  0.009038  \n",
              "LogisticRegression2|PCA MinMaxScaler|StandardSc...  0.009829  \n",
              "LogisticRegression2|KPCA Normalizer|PowerTransf...  0.036486  \n",
              "LogisticRegression2|KPCA Normalizer|StandardSca...  0.030744  \n",
              "RandomForestClassifier|Raw StandardScaler|Power...  0.030625  \n",
              "RandomForestClassifier|PCA StandardScaler|Power...  0.031386  \n",
              "RandomForestClassifier|KPCA Normalizer|Quantile...  0.031896  \n",
              "RandomForestClassifier|PCA MinMaxScaler|PowerTr...  0.026085  \n",
              "RandomForestClassifier|Raw PowerTransformer|Qua...  0.026663  \n",
              "RandomForestClassifier|PCA StandardScaler|Quant...  0.027689  \n",
              "RandomForestClassifier|Raw StandardScaler|Quant...  0.024177  \n",
              "RandomForestClassifier|Raw Normalizer|PowerTran...  0.024779  \n",
              "RandomForestClassifier|KPCA StandardScaler|Quan...  0.042717  \n",
              "RandomForestClassifier|Raw MinMaxScaler|PowerTr...  0.024003  \n",
              "RandomForestClassifier|PCA MinMaxScaler|Normali...  0.026636  \n",
              "RandomForestClassifier|PCA Normalizer|PowerTran...  0.027574  \n",
              "RandomForestClassifier|KPCA PowerTransformer|Qu...  0.032638  \n",
              "RandomForestClassifier|Raw MinMaxScaler|Normali...  0.026938  \n",
              "RandomForestClassifier|Raw MinMaxScaler|Standar...  0.022311  \n",
              "RandomForestClassifier|PCA PowerTransformer|Qua...  0.027845  \n",
              "RandomForestClassifier|PCA MinMaxScaler|Standar...  0.024970  \n",
              "RandomForestClassifier|PCA MinMaxScaler|Quantil...  0.025502  \n",
              "RandomForestClassifier|Raw MinMaxScaler|Quantil...  0.023965  \n",
              "RandomForestClassifier|PCA Normalizer|QuantileT...  0.024137  \n",
              "RandomForestClassifier|Raw Normalizer|QuantileT...  0.023593  \n",
              "RandomForestClassifier|KPCA MinMaxScaler|Normal...  0.027170  \n",
              "RandomForestClassifier|Raw Normalizer|StandardS...  0.021896  \n",
              "SVC|PCA MinMaxScaler|Normalizer|                    0.001652  \n",
              "SVC|PCA MinMaxScaler|QuantileTransformer|           0.001822  \n",
              "\n",
              "[120 rows x 6 columns]"
            ]
          },
          "metadata": {
            "tags": []
          },
          "execution_count": 21
        }
      ]
    },
    {
      "metadata": {
        "id": "KeV4NAiM_aC-",
        "colab_type": "code",
        "colab": {
          "base_uri": "https://localhost:8080/",
          "height": 33
        },
        "outputId": "e230c653-c92e-4472-99aa-f8a0bd4a1da0"
      },
      "cell_type": "code",
      "source": [
        "set([i.split('|')[1].split(' ')[0] for i  in df_clfs_score.index.tolist()])"
      ],
      "execution_count": 15,
      "outputs": [
        {
          "output_type": "execute_result",
          "data": {
            "text/plain": [
              "{'ICA', 'KPCA', 'MDS', 'PCA', 'Raw'}"
            ]
          },
          "metadata": {
            "tags": []
          },
          "execution_count": 15
        }
      ]
    },
    {
      "metadata": {
        "id": "gVA5s1zlBRon",
        "colab_type": "code",
        "colab": {
          "base_uri": "https://localhost:8080/",
          "height": 33
        },
        "outputId": "c5fde65c-9f0d-4c1f-f382-78c9df87095d"
      },
      "cell_type": "code",
      "source": [
        "set([i.split('|')[1].split(' ')[1] for i  in df_clfs_score.index.tolist()])"
      ],
      "execution_count": 16,
      "outputs": [
        {
          "output_type": "execute_result",
          "data": {
            "text/plain": [
              "{'MinMaxScaler', 'Normalizer', 'PowerTransformer', 'StandardScaler'}"
            ]
          },
          "metadata": {
            "tags": []
          },
          "execution_count": 16
        }
      ]
    },
    {
      "metadata": {
        "id": "EgR7Ih2SBcJ3",
        "colab_type": "code",
        "colab": {
          "base_uri": "https://localhost:8080/",
          "height": 33
        },
        "outputId": "78056bb5-e7ef-46cf-d781-1fb886208de3"
      },
      "cell_type": "code",
      "source": [
        "set([i.split('|')[2] for i  in df_clfs_score.index.tolist()])"
      ],
      "execution_count": 17,
      "outputs": [
        {
          "output_type": "execute_result",
          "data": {
            "text/plain": [
              "{'Normalizer', 'PowerTransformer', 'QuantileTransformer', 'StandardScaler'}"
            ]
          },
          "metadata": {
            "tags": []
          },
          "execution_count": 17
        }
      ]
    },
    {
      "metadata": {
        "colab_type": "text",
        "id": "TAZWwpZCEM6x"
      },
      "cell_type": "markdown",
      "source": [
        "## 6.3 Refine Redimensioning to Validate Model "
      ]
    },
    {
      "metadata": {
        "id": "4m1C0rdkEZjw",
        "colab_type": "code",
        "colab": {
          "base_uri": "https://localhost:8080/",
          "height": 18202
        },
        "outputId": "929c319b-81b8-4007-b8fe-6ef4c40cfa8b"
      },
      "cell_type": "code",
      "source": [
        "manager = Manager()\n",
        "clfs3 = manager.dict()\n",
        "clfs_score3 = manager.dict()\n",
        "\n",
        "flatten = lambda l: [item for sublist in l for item in sublist]\n",
        "\n",
        "y_train = ActivePension_df.sample(n=5000, random_state=2)['IsPensionPaid'].as_matrix()\n",
        "X_train = ActivePension_df[x_cols2].sample(n=5000, random_state=2)\n",
        "\n",
        "X_train = X_train.astype(float)\n",
        "\n",
        "scaling_def = {'MinMaxScaler': MinMaxScaler(),\n",
        "               'QuantileTransformer_u':QuantileTransformer(output_distribution='uniform'),'QuantileTransformer_n':QuantileTransformer(output_distribution='normal'),\n",
        "               'StandardScalerMTST': StandardScaler(with_mean=True, with_std=True),'StandardScalerMTSF': StandardScaler(with_mean=True, with_std=False),'StandardScalerMFST': StandardScaler(with_mean=False, with_std=True),'StandardScalerMFSF': StandardScaler(with_mean=False, with_std=False),\n",
        "               'Normalizer_l2': Normalizer(norm='l2'), 'Normalizer_l1': Normalizer(norm='l1'),\n",
        "               'PowerTransformer_std':PowerTransformer(standardize=True),'PowerTransformer':PowerTransformer(standardize=False)\n",
        "              \n",
        "              }\n",
        "\n",
        "\n",
        "redemensioning_def = {'Raw':None,\n",
        "                      'PCA': PCA(n_components=0.99, svd_solver='full',whiten=False),'PCAW': PCA(n_components=0.99, svd_solver='full',whiten=True),\n",
        "                      'ICA_P': FastICA(n_components=len(X_train.columns), algorithm='parallel'),'ICA_D': FastICA(n_components=len(X_train.columns), algorithm='deflation'),\n",
        "                      'KPCA_rbf': KernelPCA(n_components=len(X_train.columns), kernel='rbf',n_jobs=-1),'KPCA_lin': KernelPCA(n_components=len(X_train.columns), kernel='linear',n_jobs=-1),'KPCA_pol': KernelPCA(n_components=len(X_train.columns), kernel='poly',n_jobs=-1),'KPCA_sigm': KernelPCA(n_components=len(X_train.columns), kernel='sigmoid',n_jobs=-1),'KPCA_cos': KernelPCA(n_components=len(X_train.columns), kernel='cosine',n_jobs=-1),\n",
        "                      'MDS_met': MDS(n_components=len(X_train.columns), metric=True, n_jobs=-1),'MDS': MDS(n_components=len(X_train.columns), metric=False, n_jobs=-1)\n",
        "                     }\n",
        "\n",
        "\n",
        "for clf in df_clfs_score.index.tolist():\n",
        "  for i in clf.split(' ')[1:]:\n",
        "    for j in i.split('|'):\n",
        "      if j != '':\n",
        "        scaling_def_temp = {s: scaling_def[s]  for s in scaling_def if j in s}\n",
        "        redemensioning_def_temp = {i: redemensioning_def[i] for i in flatten([i.split(' ') for i in clf.split('|')])[1:] if i in redemensioning_def}\n",
        "        for data in map(lambda x:Redimensioning2(x[1],x[0],redemensioning_def_temp), scaling3(X_train,scaling_def_temp)):\n",
        "          for x in data:                  \n",
        "            #print(x[1])\n",
        "            #print(x[0])\n",
        "            p = Process(target=MLModelBuilding, args=(clf.split('|')[0], x[1], x[0], y_train, 0.3, clfs3,[0.9,0.1],clfs_score3))\n",
        "            #MLModelBuilding(clf.split('|')[0], x[1], x[0], y_train, 0.3, clfs3,[0.9,0.1],clfs_score3)\n",
        "            p.start()\n",
        "            p.join(180)\n",
        "            p.terminate()\n",
        "              "
      ],
      "execution_count": 24,
      "outputs": [
        {
          "output_type": "stream",
          "text": [
            "/usr/local/lib/python3.6/dist-packages/sklearn/ensemble/forest.py:246: FutureWarning: The default value of n_estimators will change from 10 in version 0.20 to 100 in 0.22.\n",
            "  \"10 in version 0.20 to 100 in 0.22.\", FutureWarning)\n"
          ],
          "name": "stderr"
        },
        {
          "output_type": "stream",
          "text": [
            "Train score: 0.9885714285714285\n",
            "Test score: 0.942\n",
            "Test2 score: 0.9773333333333334\n",
            "RandomForestClassifier|Raw MinMaxScaler|\n",
            "\n"
          ],
          "name": "stdout"
        },
        {
          "output_type": "stream",
          "text": [
            "/usr/local/lib/python3.6/dist-packages/sklearn/ensemble/forest.py:246: FutureWarning: The default value of n_estimators will change from 10 in version 0.20 to 100 in 0.22.\n",
            "  \"10 in version 0.20 to 100 in 0.22.\", FutureWarning)\n"
          ],
          "name": "stderr"
        },
        {
          "output_type": "stream",
          "text": [
            "Train score: 0.9882857142857143\n",
            "Test score: 0.9373333333333334\n",
            "Test2 score: 0.9726666666666667\n",
            "RandomForestClassifier|Raw Normalizer_l2|Normalizer_l1|\n",
            "\n",
            "Train score: 0.9414285714285714\n",
            "Test score: 0.9426666666666667\n",
            "Test2 score: 0.9433333333333334\n",
            "GradientBoostingClassifier|Raw MinMaxScaler|\n",
            "\n",
            "Train score: 0.9434285714285714\n",
            "Test score: 0.942\n",
            "Test2 score: 0.946\n",
            "GradientBoostingClassifier|Raw Normalizer_l2|Normalizer_l1|\n",
            "\n",
            "best estimate parameters {'C': 0.9602849272265644, 'class_weight': '', 'fit_intercept': False, 'intercept_scaling': 0.6201871390052668, 'loss': 'squared_hinge', 'max_iter': 20, 'tol': 0.9881475094416194}\n",
            "Train score: 0.9382857142857143\n",
            "Test score: 0.944\n",
            "Test2 score: 0.9406666666666667\n",
            "LinearSVC|Raw MinMaxScaler|\n",
            "\n",
            "best estimate parameters {'C': 0.9910446320684505, 'class_weight': 'balanced', 'fit_intercept': False, 'intercept_scaling': 0.780181259527421, 'loss': 'squared_hinge', 'max_iter': 27, 'tol': 0.9526941032136922}\n",
            "LinearSVC|Raw Normalizer_l2|Normalizer_l1|\n",
            "\n",
            "best estimate parameters {'C': 0.10788661933626253, 'intercept_scaling': 0.09215943415879435, 'max_iter': 11, 'solver': 'saga', 'tol': 0.25482941325649155}\n",
            "Train score: 0.9382857142857143\n",
            "Test score: 0.944\n",
            "Test2 score: 0.9406666666666667\n",
            "LogisticRegression2|Raw MinMaxScaler|\n",
            "\n",
            "best estimate parameters {'C': 0.005607707541440354, 'intercept_scaling': 0.8841075152451527, 'max_iter': 56, 'solver': 'sag', 'tol': 0.627841083163835}\n",
            "LogisticRegression2|Raw Normalizer_l2|Normalizer_l1|\n",
            "\n",
            "best estimate parameters {'learning_rate': 2.4418138276168926, 'n_estimators': 215}\n",
            "Train score: 0.9385714285714286\n",
            "Test score: 0.944\n",
            "Test2 score: 0.9413333333333334\n",
            "AdaBoostClassifier|Raw MinMaxScaler|\n",
            "\n",
            "best estimate parameters {'learning_rate': 2.7103325731541776, 'n_estimators': 97}\n",
            "Train score: 0.9388571428571428\n",
            "Test score: 0.9446666666666667\n",
            "Test2 score: 0.9413333333333334\n",
            "AdaBoostClassifier|Raw Normalizer_l2|Normalizer_l1|\n",
            "\n"
          ],
          "name": "stdout"
        },
        {
          "output_type": "stream",
          "text": [
            "/usr/local/lib/python3.6/dist-packages/sklearn/ensemble/forest.py:246: FutureWarning: The default value of n_estimators will change from 10 in version 0.20 to 100 in 0.22.\n",
            "  \"10 in version 0.20 to 100 in 0.22.\", FutureWarning)\n"
          ],
          "name": "stderr"
        },
        {
          "output_type": "stream",
          "text": [
            "Train score: 0.9911428571428571\n",
            "Test score: 0.9426666666666667\n",
            "Test2 score: 0.978\n",
            "RandomForestClassifier|PCA MinMaxScaler|\n",
            "\n"
          ],
          "name": "stdout"
        },
        {
          "output_type": "stream",
          "text": [
            "/usr/local/lib/python3.6/dist-packages/sklearn/ensemble/forest.py:246: FutureWarning: The default value of n_estimators will change from 10 in version 0.20 to 100 in 0.22.\n",
            "  \"10 in version 0.20 to 100 in 0.22.\", FutureWarning)\n"
          ],
          "name": "stderr"
        },
        {
          "output_type": "stream",
          "text": [
            "RandomForestClassifier|PCA Normalizer_l2|Normalizer_l1|\n",
            "\n",
            "Train score: 0.9437142857142857\n",
            "Test score: 0.9426666666666667\n",
            "Test2 score: 0.9453333333333334\n",
            "GradientBoostingClassifier|PCA MinMaxScaler|\n",
            "\n",
            "GradientBoostingClassifier|PCA Normalizer_l2|Normalizer_l1|\n",
            "\n",
            "best estimate parameters {'C': 0.24561825033304108, 'class_weight': 'balanced', 'fit_intercept': False, 'intercept_scaling': 0.4592996050810958, 'loss': 'squared_hinge', 'max_iter': 59, 'tol': 0.32526592752229266}\n",
            "Train score: 0.9382857142857143\n",
            "Test score: 0.944\n",
            "Test2 score: 0.9406666666666667\n",
            "LinearSVC|PCA MinMaxScaler|\n",
            "\n",
            "best estimate parameters {'C': 0.9821582347432968, 'class_weight': 'balanced', 'fit_intercept': True, 'intercept_scaling': 0.9760559330004763, 'loss': 'squared_hinge', 'max_iter': 0, 'tol': 0.1295168392355761}\n"
          ],
          "name": "stdout"
        },
        {
          "output_type": "stream",
          "text": [
            "/usr/local/lib/python3.6/dist-packages/sklearn/svm/base.py:931: ConvergenceWarning: Liblinear failed to converge, increase the number of iterations.\n",
            "  \"the number of iterations.\", ConvergenceWarning)\n"
          ],
          "name": "stderr"
        },
        {
          "output_type": "stream",
          "text": [
            "LinearSVC|PCA Normalizer_l2|Normalizer_l1|\n",
            "\n",
            "best estimate parameters {'C': 0.548122545116491, 'intercept_scaling': 0.9694050858412167, 'max_iter': 69, 'solver': 'liblinear', 'tol': 0.885774590466784}\n"
          ],
          "name": "stdout"
        },
        {
          "output_type": "stream",
          "text": [
            "/usr/local/lib/python3.6/dist-packages/sklearn/linear_model/logistic.py:1300: UserWarning: 'n_jobs' > 1 does not have any effect when 'solver' is set to 'liblinear'. Got 'n_jobs' = 2.\n",
            "  \" = {}.\".format(effective_n_jobs(self.n_jobs)))\n"
          ],
          "name": "stderr"
        },
        {
          "output_type": "stream",
          "text": [
            "Train score: 0.9382857142857143\n",
            "Test score: 0.944\n",
            "Test2 score: 0.9406666666666667\n",
            "LogisticRegression2|PCA MinMaxScaler|\n",
            "\n",
            "best estimate parameters {'C': 0.0045195024370284775, 'intercept_scaling': 0.20366627075253224, 'max_iter': 52, 'solver': 'saga', 'tol': 0.7034519785878766}\n",
            "LogisticRegression2|PCA Normalizer_l2|Normalizer_l1|\n",
            "\n",
            "best estimate parameters {'C': 22.983328065503784, 'gamma': 98.786167140221, 'kernel': 'rbf'}\n",
            "SVC|PCA Normalizer_l2|Normalizer_l1|\n",
            "\n",
            "best estimate parameters {'learning_rate': 2.288354607461193, 'n_estimators': 213}\n",
            "Train score: 0.9382857142857143\n",
            "Test score: 0.944\n",
            "Test2 score: 0.9406666666666667\n",
            "AdaBoostClassifier|PCA MinMaxScaler|\n",
            "\n",
            "best estimate parameters {'learning_rate': 1.8822385874815937, 'n_estimators': 158}\n",
            "AdaBoostClassifier|PCA Normalizer_l2|Normalizer_l1|\n",
            "\n"
          ],
          "name": "stdout"
        },
        {
          "output_type": "stream",
          "text": [
            "/usr/local/lib/python3.6/dist-packages/sklearn/ensemble/forest.py:246: FutureWarning: The default value of n_estimators will change from 10 in version 0.20 to 100 in 0.22.\n",
            "  \"10 in version 0.20 to 100 in 0.22.\", FutureWarning)\n"
          ],
          "name": "stderr"
        },
        {
          "output_type": "stream",
          "text": [
            "Train score: 0.9885714285714285\n",
            "Test score: 0.942\n",
            "Test2 score: 0.9773333333333334\n",
            "RandomForestClassifier|Raw MinMaxScaler|\n",
            "\n"
          ],
          "name": "stdout"
        },
        {
          "output_type": "stream",
          "text": [
            "/usr/local/lib/python3.6/dist-packages/sklearn/ensemble/forest.py:246: FutureWarning: The default value of n_estimators will change from 10 in version 0.20 to 100 in 0.22.\n",
            "  \"10 in version 0.20 to 100 in 0.22.\", FutureWarning)\n"
          ],
          "name": "stderr"
        },
        {
          "output_type": "stream",
          "text": [
            "Train score: 0.9885714285714285\n",
            "Test score: 0.942\n",
            "Test2 score: 0.9773333333333334\n",
            "RandomForestClassifier|Raw StandardScalerMTST|StandardScalerMTSF|StandardScalerMFST|StandardScalerMFSF|\n",
            "\n",
            "Train score: 0.9414285714285714\n",
            "Test score: 0.9426666666666667\n",
            "Test2 score: 0.9433333333333334\n",
            "GradientBoostingClassifier|Raw MinMaxScaler|\n",
            "\n",
            "Train score: 0.9414285714285714\n",
            "Test score: 0.9426666666666667\n",
            "Test2 score: 0.9433333333333334\n",
            "GradientBoostingClassifier|Raw StandardScalerMTST|StandardScalerMTSF|StandardScalerMFST|StandardScalerMFSF|\n",
            "\n",
            "best estimate parameters {'C': 0.7683393969895844, 'intercept_scaling': 0.1586271745132487, 'max_iter': 26, 'solver': 'sag', 'tol': 0.888143779506145}\n",
            "Train score: 0.9382857142857143\n",
            "Test score: 0.944\n",
            "Test2 score: 0.9406666666666667\n",
            "LogisticRegression2|Raw MinMaxScaler|\n",
            "\n",
            "best estimate parameters {'C': 0.014203923267967822, 'intercept_scaling': 0.8245245826393536, 'max_iter': 91, 'solver': 'liblinear', 'tol': 0.37116259776514016}\n"
          ],
          "name": "stdout"
        },
        {
          "output_type": "stream",
          "text": [
            "/usr/local/lib/python3.6/dist-packages/sklearn/linear_model/logistic.py:1300: UserWarning: 'n_jobs' > 1 does not have any effect when 'solver' is set to 'liblinear'. Got 'n_jobs' = 2.\n",
            "  \" = {}.\".format(effective_n_jobs(self.n_jobs)))\n"
          ],
          "name": "stderr"
        },
        {
          "output_type": "stream",
          "text": [
            "Train score: 0.9382857142857143\n",
            "Test score: 0.944\n",
            "Test2 score: 0.9406666666666667\n",
            "LogisticRegression2|Raw StandardScalerMTST|StandardScalerMTSF|StandardScalerMFST|StandardScalerMFSF|\n",
            "\n",
            "best estimate parameters {'C': 0.49125500409322087, 'class_weight': '', 'fit_intercept': False, 'intercept_scaling': 0.2830307242726471, 'loss': 'hinge', 'max_iter': 51, 'tol': 0.9092213665444221}\n",
            "Train score: 0.9382857142857143\n",
            "Test score: 0.944\n",
            "Test2 score: 0.9406666666666667\n",
            "LinearSVC|Raw MinMaxScaler|\n",
            "\n",
            "best estimate parameters {'C': 0.7475749346935119, 'class_weight': 'balanced', 'fit_intercept': True, 'intercept_scaling': 0.7210198258777473, 'loss': 'hinge', 'max_iter': 33, 'tol': 0.10262449937685403}\n"
          ],
          "name": "stdout"
        },
        {
          "output_type": "stream",
          "text": [
            "/usr/local/lib/python3.6/dist-packages/sklearn/svm/base.py:931: ConvergenceWarning: Liblinear failed to converge, increase the number of iterations.\n",
            "  \"the number of iterations.\", ConvergenceWarning)\n"
          ],
          "name": "stderr"
        },
        {
          "output_type": "stream",
          "text": [
            "Train score: 0.9382857142857143\n",
            "Test score: 0.944\n",
            "Test2 score: 0.9406666666666667\n",
            "LinearSVC|Raw StandardScalerMTST|StandardScalerMTSF|StandardScalerMFST|StandardScalerMFSF|\n",
            "\n",
            "best estimate parameters {'learning_rate': 1.9272007631976376, 'n_estimators': 40}\n",
            "Train score: 0.9374285714285714\n",
            "Test score: 0.9433333333333334\n",
            "Test2 score: 0.94\n",
            "AdaBoostClassifier|Raw MinMaxScaler|\n",
            "\n",
            "best estimate parameters {'learning_rate': 1.927902076058673, 'n_estimators': 33}\n",
            "Train score: 0.9382857142857143\n",
            "Test score: 0.944\n",
            "Test2 score: 0.9406666666666667\n",
            "AdaBoostClassifier|Raw StandardScalerMTST|StandardScalerMTSF|StandardScalerMFST|StandardScalerMFSF|\n",
            "\n"
          ],
          "name": "stdout"
        },
        {
          "output_type": "stream",
          "text": [
            "/usr/local/lib/python3.6/dist-packages/sklearn/ensemble/forest.py:246: FutureWarning: The default value of n_estimators will change from 10 in version 0.20 to 100 in 0.22.\n",
            "  \"10 in version 0.20 to 100 in 0.22.\", FutureWarning)\n"
          ],
          "name": "stderr"
        },
        {
          "output_type": "stream",
          "text": [
            "Train score: 0.9911428571428571\n",
            "Test score: 0.9426666666666667\n",
            "Test2 score: 0.978\n",
            "RandomForestClassifier|PCA MinMaxScaler|\n",
            "\n"
          ],
          "name": "stdout"
        },
        {
          "output_type": "stream",
          "text": [
            "/usr/local/lib/python3.6/dist-packages/sklearn/ensemble/forest.py:246: FutureWarning: The default value of n_estimators will change from 10 in version 0.20 to 100 in 0.22.\n",
            "  \"10 in version 0.20 to 100 in 0.22.\", FutureWarning)\n"
          ],
          "name": "stderr"
        },
        {
          "output_type": "stream",
          "text": [
            "Train score: 0.99\n",
            "Test score: 0.9446666666666667\n",
            "Test2 score: 0.9773333333333334\n",
            "RandomForestClassifier|PCA StandardScalerMTST|StandardScalerMTSF|StandardScalerMFST|StandardScalerMFSF|\n",
            "\n",
            "Train score: 0.9437142857142857\n",
            "Test score: 0.9426666666666667\n",
            "Test2 score: 0.9453333333333334\n",
            "GradientBoostingClassifier|PCA MinMaxScaler|\n",
            "\n",
            "Train score: 0.942\n",
            "Test score: 0.94\n",
            "Test2 score: 0.9406666666666667\n",
            "GradientBoostingClassifier|PCA StandardScalerMTST|StandardScalerMTSF|StandardScalerMFST|StandardScalerMFSF|\n",
            "\n",
            "best estimate parameters {'C': 0.5948533056234396, 'intercept_scaling': 0.4826238608065391, 'max_iter': 5, 'solver': 'newton-cg', 'tol': 0.6862145917954641}\n"
          ],
          "name": "stdout"
        },
        {
          "output_type": "stream",
          "text": [
            "/usr/local/lib/python3.6/dist-packages/sklearn/utils/optimize.py:203: ConvergenceWarning: newton-cg failed to converge. Increase the number of iterations.\n",
            "  \"number of iterations.\", ConvergenceWarning)\n"
          ],
          "name": "stderr"
        },
        {
          "output_type": "stream",
          "text": [
            "Train score: 0.9382857142857143\n",
            "Test score: 0.944\n",
            "Test2 score: 0.9406666666666667\n",
            "LogisticRegression2|PCA MinMaxScaler|\n",
            "\n",
            "best estimate parameters {'C': 0.20025199044416298, 'intercept_scaling': 0.3316266044865884, 'max_iter': 19, 'solver': 'newton-cg', 'tol': 0.08895890324402389}\n",
            "Train score: 0.9382857142857143\n",
            "Test score: 0.944\n",
            "Test2 score: 0.9406666666666667\n",
            "LogisticRegression2|PCA StandardScalerMTST|StandardScalerMTSF|StandardScalerMFST|StandardScalerMFSF|\n",
            "\n",
            "best estimate parameters {'C': 0.2655254945479274, 'class_weight': 'balanced', 'fit_intercept': True, 'intercept_scaling': 0.69413827583928, 'loss': 'squared_hinge', 'max_iter': 18, 'tol': 0.7369086195758622}\n",
            "Train score: 0.9382857142857143\n",
            "Test score: 0.944\n",
            "Test2 score: 0.9406666666666667\n",
            "LinearSVC|PCA MinMaxScaler|\n",
            "\n",
            "best estimate parameters {'C': 0.06271568047373366, 'class_weight': '', 'fit_intercept': True, 'intercept_scaling': 0.9494901534456022, 'loss': 'hinge', 'max_iter': 82, 'tol': 0.5411132949916324}\n",
            "Train score: 0.9382857142857143\n",
            "Test score: 0.944\n",
            "Test2 score: 0.9406666666666667\n",
            "LinearSVC|PCA StandardScalerMTST|StandardScalerMTSF|StandardScalerMFST|StandardScalerMFSF|\n",
            "\n",
            "best estimate parameters {'learning_rate': 2.193310263353149, 'n_estimators': 269}\n",
            "Train score: 0.9385714285714286\n",
            "Test score: 0.944\n",
            "Test2 score: 0.9413333333333334\n",
            "AdaBoostClassifier|PCA MinMaxScaler|\n",
            "\n",
            "best estimate parameters {'learning_rate': 1.0012948930659293, 'n_estimators': 144}\n",
            "Train score: 0.942\n",
            "Test score: 0.94\n",
            "Test2 score: 0.9393333333333334\n",
            "AdaBoostClassifier|PCA StandardScalerMTST|StandardScalerMTSF|StandardScalerMFST|StandardScalerMFSF|\n",
            "\n"
          ],
          "name": "stdout"
        },
        {
          "output_type": "stream",
          "text": [
            "/usr/local/lib/python3.6/dist-packages/sklearn/ensemble/forest.py:246: FutureWarning: The default value of n_estimators will change from 10 in version 0.20 to 100 in 0.22.\n",
            "  \"10 in version 0.20 to 100 in 0.22.\", FutureWarning)\n"
          ],
          "name": "stderr"
        },
        {
          "output_type": "stream",
          "text": [
            "Train score: 0.9885714285714285\n",
            "Test score: 0.942\n",
            "Test2 score: 0.9773333333333334\n",
            "RandomForestClassifier|Raw MinMaxScaler|\n",
            "\n"
          ],
          "name": "stdout"
        },
        {
          "output_type": "stream",
          "text": [
            "/usr/local/lib/python3.6/dist-packages/sklearn/ensemble/forest.py:246: FutureWarning: The default value of n_estimators will change from 10 in version 0.20 to 100 in 0.22.\n",
            "  \"10 in version 0.20 to 100 in 0.22.\", FutureWarning)\n"
          ],
          "name": "stderr"
        },
        {
          "output_type": "stream",
          "text": [
            "Train score: 0.9888571428571429\n",
            "Test score: 0.942\n",
            "Test2 score: 0.9773333333333334\n",
            "RandomForestClassifier|Raw PowerTransformer_std|PowerTransformer|\n",
            "\n",
            "Train score: 0.9414285714285714\n",
            "Test score: 0.9426666666666667\n",
            "Test2 score: 0.9433333333333334\n",
            "GradientBoostingClassifier|Raw MinMaxScaler|\n",
            "\n",
            "Train score: 0.9414285714285714\n",
            "Test score: 0.9426666666666667\n",
            "Test2 score: 0.9433333333333334\n",
            "GradientBoostingClassifier|Raw PowerTransformer_std|PowerTransformer|\n",
            "\n",
            "best estimate parameters {'C': 0.55534267986928, 'intercept_scaling': 0.25480683803166004, 'max_iter': 57, 'solver': 'newton-cg', 'tol': 0.6870911901938207}\n",
            "Train score: 0.9382857142857143\n",
            "Test score: 0.944\n",
            "Test2 score: 0.9406666666666667\n",
            "LogisticRegression2|Raw MinMaxScaler|\n",
            "\n",
            "best estimate parameters {'C': 0.20323136661668173, 'intercept_scaling': 0.864984388483636, 'max_iter': 68, 'solver': 'liblinear', 'tol': 0.9606062098986512}\n"
          ],
          "name": "stdout"
        },
        {
          "output_type": "stream",
          "text": [
            "/usr/local/lib/python3.6/dist-packages/sklearn/linear_model/logistic.py:1300: UserWarning: 'n_jobs' > 1 does not have any effect when 'solver' is set to 'liblinear'. Got 'n_jobs' = 2.\n",
            "  \" = {}.\".format(effective_n_jobs(self.n_jobs)))\n"
          ],
          "name": "stderr"
        },
        {
          "output_type": "stream",
          "text": [
            "Train score: 0.9382857142857143\n",
            "Test score: 0.944\n",
            "Test2 score: 0.9406666666666667\n",
            "LogisticRegression2|Raw PowerTransformer_std|PowerTransformer|\n",
            "\n",
            "best estimate parameters {'C': 0.5493929792587702, 'class_weight': '', 'fit_intercept': False, 'intercept_scaling': 0.1105963939172252, 'loss': 'squared_hinge', 'max_iter': 70, 'tol': 0.21739956551990214}\n",
            "Train score: 0.9374285714285714\n",
            "Test score: 0.9433333333333334\n",
            "Test2 score: 0.9406666666666667\n",
            "LinearSVC|Raw MinMaxScaler|\n",
            "\n",
            "best estimate parameters {'C': 0.7670008872799893, 'class_weight': '', 'fit_intercept': False, 'intercept_scaling': 0.7829878473240373, 'loss': 'squared_hinge', 'max_iter': 44, 'tol': 0.12577384163359406}\n"
          ],
          "name": "stdout"
        },
        {
          "output_type": "stream",
          "text": [
            "/usr/local/lib/python3.6/dist-packages/sklearn/svm/base.py:931: ConvergenceWarning: Liblinear failed to converge, increase the number of iterations.\n",
            "  \"the number of iterations.\", ConvergenceWarning)\n"
          ],
          "name": "stderr"
        },
        {
          "output_type": "stream",
          "text": [
            "Train score: 0.9382857142857143\n",
            "Test score: 0.944\n",
            "Test2 score: 0.9406666666666667\n",
            "LinearSVC|Raw PowerTransformer_std|PowerTransformer|\n",
            "\n",
            "best estimate parameters {'learning_rate': 2.234483292383339, 'n_estimators': 35}\n",
            "Train score: 0.9397142857142857\n",
            "Test score: 0.944\n",
            "Test2 score: 0.9426666666666667\n",
            "AdaBoostClassifier|Raw MinMaxScaler|\n",
            "\n",
            "best estimate parameters {'learning_rate': 2.6221675901652897, 'n_estimators': 161}\n",
            "Train score: 0.9382857142857143\n",
            "Test score: 0.944\n",
            "Test2 score: 0.9406666666666667\n",
            "AdaBoostClassifier|Raw PowerTransformer_std|PowerTransformer|\n",
            "\n"
          ],
          "name": "stdout"
        },
        {
          "output_type": "stream",
          "text": [
            "/usr/local/lib/python3.6/dist-packages/sklearn/ensemble/forest.py:246: FutureWarning: The default value of n_estimators will change from 10 in version 0.20 to 100 in 0.22.\n",
            "  \"10 in version 0.20 to 100 in 0.22.\", FutureWarning)\n"
          ],
          "name": "stderr"
        },
        {
          "output_type": "stream",
          "text": [
            "Train score: 0.9911428571428571\n",
            "Test score: 0.9426666666666667\n",
            "Test2 score: 0.978\n",
            "RandomForestClassifier|PCA MinMaxScaler|\n",
            "\n"
          ],
          "name": "stdout"
        },
        {
          "output_type": "stream",
          "text": [
            "/usr/local/lib/python3.6/dist-packages/sklearn/ensemble/forest.py:246: FutureWarning: The default value of n_estimators will change from 10 in version 0.20 to 100 in 0.22.\n",
            "  \"10 in version 0.20 to 100 in 0.22.\", FutureWarning)\n"
          ],
          "name": "stderr"
        },
        {
          "output_type": "stream",
          "text": [
            "Train score: 0.9911428571428571\n",
            "Test score: 0.946\n",
            "Test2 score: 0.9773333333333334\n",
            "RandomForestClassifier|PCA PowerTransformer_std|PowerTransformer|\n",
            "\n",
            "Train score: 0.9437142857142857\n",
            "Test score: 0.9426666666666667\n",
            "Test2 score: 0.9453333333333334\n",
            "GradientBoostingClassifier|PCA MinMaxScaler|\n",
            "\n",
            "Train score: 0.9468571428571428\n",
            "Test score: 0.9393333333333334\n",
            "Test2 score: 0.9473333333333334\n",
            "GradientBoostingClassifier|PCA PowerTransformer_std|PowerTransformer|\n",
            "\n",
            "best estimate parameters {'C': 0.5668539650375879, 'intercept_scaling': 0.33584557308809493, 'max_iter': 88, 'solver': 'sag', 'tol': 0.6362832862583067}\n",
            "Train score: 0.9382857142857143\n",
            "Test score: 0.944\n",
            "Test2 score: 0.9406666666666667\n",
            "LogisticRegression2|PCA MinMaxScaler|\n",
            "\n",
            "best estimate parameters {'C': 0.06466768776851917, 'intercept_scaling': 0.24467348877332862, 'max_iter': 40, 'solver': 'liblinear', 'tol': 0.3001867019853065}\n"
          ],
          "name": "stdout"
        },
        {
          "output_type": "stream",
          "text": [
            "/usr/local/lib/python3.6/dist-packages/sklearn/linear_model/logistic.py:1300: UserWarning: 'n_jobs' > 1 does not have any effect when 'solver' is set to 'liblinear'. Got 'n_jobs' = 2.\n",
            "  \" = {}.\".format(effective_n_jobs(self.n_jobs)))\n"
          ],
          "name": "stderr"
        },
        {
          "output_type": "stream",
          "text": [
            "Train score: 0.9382857142857143\n",
            "Test score: 0.944\n",
            "Test2 score: 0.9406666666666667\n",
            "LogisticRegression2|PCA PowerTransformer_std|PowerTransformer|\n",
            "\n",
            "best estimate parameters {'C': 0.7790491802029609, 'class_weight': 'balanced', 'fit_intercept': False, 'intercept_scaling': 0.7103971899452332, 'loss': 'hinge', 'max_iter': 85, 'tol': 0.9387872445578846}\n",
            "Train score: 0.9382857142857143\n",
            "Test score: 0.944\n",
            "Test2 score: 0.9406666666666667\n",
            "LinearSVC|PCA MinMaxScaler|\n",
            "\n",
            "best estimate parameters {'C': 0.8974178094485754, 'class_weight': 'balanced', 'fit_intercept': False, 'intercept_scaling': 0.6663585674204766, 'loss': 'squared_hinge', 'max_iter': 82, 'tol': 0.27406988113211095}\n"
          ],
          "name": "stdout"
        },
        {
          "output_type": "stream",
          "text": [
            "/usr/local/lib/python3.6/dist-packages/sklearn/svm/base.py:931: ConvergenceWarning: Liblinear failed to converge, increase the number of iterations.\n",
            "  \"the number of iterations.\", ConvergenceWarning)\n"
          ],
          "name": "stderr"
        },
        {
          "output_type": "stream",
          "text": [
            "Train score: 0.9382857142857143\n",
            "Test score: 0.944\n",
            "Test2 score: 0.9406666666666667\n",
            "LinearSVC|PCA PowerTransformer_std|PowerTransformer|\n",
            "\n",
            "best estimate parameters {'learning_rate': 2.2396387274116725, 'n_estimators': 193}\n",
            "Train score: 0.9382857142857143\n",
            "Test score: 0.944\n",
            "Test2 score: 0.9406666666666667\n",
            "AdaBoostClassifier|PCA MinMaxScaler|\n",
            "\n",
            "best estimate parameters {'learning_rate': 1.164722361792345, 'n_estimators': 115}\n",
            "Train score: 0.94\n",
            "Test score: 0.9406666666666667\n",
            "Test2 score: 0.9413333333333334\n",
            "AdaBoostClassifier|PCA PowerTransformer_std|PowerTransformer|\n",
            "\n"
          ],
          "name": "stdout"
        },
        {
          "output_type": "stream",
          "text": [
            "/usr/local/lib/python3.6/dist-packages/sklearn/ensemble/forest.py:246: FutureWarning: The default value of n_estimators will change from 10 in version 0.20 to 100 in 0.22.\n",
            "  \"10 in version 0.20 to 100 in 0.22.\", FutureWarning)\n"
          ],
          "name": "stderr"
        },
        {
          "output_type": "stream",
          "text": [
            "Train score: 0.9885714285714285\n",
            "Test score: 0.942\n",
            "Test2 score: 0.9773333333333334\n",
            "RandomForestClassifier|Raw MinMaxScaler|\n",
            "\n"
          ],
          "name": "stdout"
        },
        {
          "output_type": "stream",
          "text": [
            "/usr/local/lib/python3.6/dist-packages/sklearn/ensemble/forest.py:246: FutureWarning: The default value of n_estimators will change from 10 in version 0.20 to 100 in 0.22.\n",
            "  \"10 in version 0.20 to 100 in 0.22.\", FutureWarning)\n"
          ],
          "name": "stderr"
        },
        {
          "output_type": "stream",
          "text": [
            "Train score: 0.9885714285714285\n",
            "Test score: 0.942\n",
            "Test2 score: 0.9766666666666667\n",
            "RandomForestClassifier|Raw QuantileTransformer_u|QuantileTransformer_n|\n",
            "\n",
            "Train score: 0.9414285714285714\n",
            "Test score: 0.9426666666666667\n",
            "Test2 score: 0.9433333333333334\n",
            "GradientBoostingClassifier|Raw MinMaxScaler|\n",
            "\n",
            "Train score: 0.9414285714285714\n",
            "Test score: 0.9426666666666667\n",
            "Test2 score: 0.9426666666666667\n",
            "GradientBoostingClassifier|Raw QuantileTransformer_u|QuantileTransformer_n|\n",
            "\n",
            "best estimate parameters {'C': 0.640107840911545, 'class_weight': '', 'fit_intercept': False, 'intercept_scaling': 0.5365819108840243, 'loss': 'squared_hinge', 'max_iter': 43, 'tol': 0.8569341493794894}\n",
            "Train score: 0.938\n",
            "Test score: 0.944\n",
            "Test2 score: 0.9406666666666667\n",
            "LinearSVC|Raw MinMaxScaler|\n",
            "\n",
            "best estimate parameters {'C': 0.41466538081213355, 'class_weight': 'balanced', 'fit_intercept': True, 'intercept_scaling': 0.42582663907942064, 'loss': 'hinge', 'max_iter': 18, 'tol': 0.18016967966352238}\n"
          ],
          "name": "stdout"
        },
        {
          "output_type": "stream",
          "text": [
            "/usr/local/lib/python3.6/dist-packages/sklearn/svm/base.py:931: ConvergenceWarning: Liblinear failed to converge, increase the number of iterations.\n",
            "  \"the number of iterations.\", ConvergenceWarning)\n"
          ],
          "name": "stderr"
        },
        {
          "output_type": "stream",
          "text": [
            "Train score: 0.9377142857142857\n",
            "Test score: 0.942\n",
            "Test2 score: 0.9406666666666667\n",
            "LinearSVC|Raw QuantileTransformer_u|QuantileTransformer_n|\n",
            "\n",
            "best estimate parameters {'C': 0.19912220879803633, 'intercept_scaling': 0.3333094980980146, 'max_iter': 41, 'solver': 'liblinear', 'tol': 0.022315477737973377}\n"
          ],
          "name": "stdout"
        },
        {
          "output_type": "stream",
          "text": [
            "/usr/local/lib/python3.6/dist-packages/sklearn/linear_model/logistic.py:1300: UserWarning: 'n_jobs' > 1 does not have any effect when 'solver' is set to 'liblinear'. Got 'n_jobs' = 2.\n",
            "  \" = {}.\".format(effective_n_jobs(self.n_jobs)))\n"
          ],
          "name": "stderr"
        },
        {
          "output_type": "stream",
          "text": [
            "Train score: 0.9382857142857143\n",
            "Test score: 0.944\n",
            "Test2 score: 0.9406666666666667\n",
            "LogisticRegression2|Raw MinMaxScaler|\n",
            "\n",
            "best estimate parameters {'C': 0.35359420811159925, 'intercept_scaling': 0.2671515809354471, 'max_iter': 17, 'solver': 'lbfgs', 'tol': 0.4353722941550857}\n",
            "Train score: 0.9382857142857143\n",
            "Test score: 0.9433333333333334\n",
            "Test2 score: 0.9406666666666667\n",
            "LogisticRegression2|Raw QuantileTransformer_u|QuantileTransformer_n|\n",
            "\n",
            "best estimate parameters {'learning_rate': 2.2604308173303265, 'n_estimators': 261}\n",
            "Train score: 0.9397142857142857\n",
            "Test score: 0.944\n",
            "Test2 score: 0.9426666666666667\n",
            "AdaBoostClassifier|Raw MinMaxScaler|\n",
            "\n",
            "best estimate parameters {'learning_rate': 2.2459360636113614, 'n_estimators': 39}\n",
            "Train score: 0.9397142857142857\n",
            "Test score: 0.944\n",
            "Test2 score: 0.9426666666666667\n",
            "AdaBoostClassifier|Raw QuantileTransformer_u|QuantileTransformer_n|\n",
            "\n"
          ],
          "name": "stdout"
        },
        {
          "output_type": "stream",
          "text": [
            "/usr/local/lib/python3.6/dist-packages/sklearn/ensemble/forest.py:246: FutureWarning: The default value of n_estimators will change from 10 in version 0.20 to 100 in 0.22.\n",
            "  \"10 in version 0.20 to 100 in 0.22.\", FutureWarning)\n"
          ],
          "name": "stderr"
        },
        {
          "output_type": "stream",
          "text": [
            "Train score: 0.9911428571428571\n",
            "Test score: 0.9426666666666667\n",
            "Test2 score: 0.978\n",
            "RandomForestClassifier|PCA MinMaxScaler|\n",
            "\n"
          ],
          "name": "stdout"
        },
        {
          "output_type": "stream",
          "text": [
            "/usr/local/lib/python3.6/dist-packages/sklearn/ensemble/forest.py:246: FutureWarning: The default value of n_estimators will change from 10 in version 0.20 to 100 in 0.22.\n",
            "  \"10 in version 0.20 to 100 in 0.22.\", FutureWarning)\n"
          ],
          "name": "stderr"
        },
        {
          "output_type": "stream",
          "text": [
            "Train score: 0.988\n",
            "Test score: 0.9433333333333334\n",
            "Test2 score: 0.9746666666666667\n",
            "RandomForestClassifier|PCA QuantileTransformer_u|QuantileTransformer_n|\n",
            "\n",
            "Train score: 0.9437142857142857\n",
            "Test score: 0.9426666666666667\n",
            "Test2 score: 0.9453333333333334\n",
            "GradientBoostingClassifier|PCA MinMaxScaler|\n",
            "\n",
            "Train score: 0.9431428571428572\n",
            "Test score: 0.944\n",
            "Test2 score: 0.9426666666666667\n",
            "GradientBoostingClassifier|PCA QuantileTransformer_u|QuantileTransformer_n|\n",
            "\n",
            "best estimate parameters {'C': 0.7491740589091533, 'class_weight': '', 'fit_intercept': True, 'intercept_scaling': 0.09034983205921121, 'loss': 'hinge', 'max_iter': 78, 'tol': 0.8044586628118253}\n",
            "Train score: 0.9382857142857143\n",
            "Test score: 0.944\n",
            "Test2 score: 0.9406666666666667\n",
            "LinearSVC|PCA MinMaxScaler|\n",
            "\n",
            "best estimate parameters {'C': 0.9156817330538455, 'class_weight': 'balanced', 'fit_intercept': False, 'intercept_scaling': 0.9436878831703974, 'loss': 'hinge', 'max_iter': 81, 'tol': 0.9381395158903495}\n",
            "Train score: 0.9382857142857143\n",
            "LinearSVC|PCA QuantileTransformer_u|QuantileTransformer_n|\n",
            "Test score: 0.944\n",
            "Test2 score: 0.9406666666666667\n",
            "\n",
            "best estimate parameters {'learning_rate': 2.229256210021732, 'n_estimators': 213}\n",
            "Train score: 0.9382857142857143\n",
            "Test score: 0.944\n",
            "Test2 score: 0.9406666666666667\n",
            "AdaBoostClassifier|PCA MinMaxScaler|\n",
            "\n",
            "best estimate parameters {'learning_rate': 2.629262972060702, 'n_estimators': 213}\n",
            "Train score: 0.9388571428571428\n",
            "Test score: 0.944\n",
            "Test2 score: 0.9406666666666667\n",
            "AdaBoostClassifier|PCA QuantileTransformer_u|QuantileTransformer_n|\n",
            "\n",
            "best estimate parameters {'C': 0.027714608977745026, 'intercept_scaling': 0.1509861617831435, 'max_iter': 1, 'solver': 'sag', 'tol': 0.8819819676291925}\n"
          ],
          "name": "stdout"
        },
        {
          "output_type": "stream",
          "text": [
            "/usr/local/lib/python3.6/dist-packages/sklearn/linear_model/sag.py:334: ConvergenceWarning: The max_iter was reached which means the coef_ did not converge\n",
            "  \"the coef_ did not converge\", ConvergenceWarning)\n"
          ],
          "name": "stderr"
        },
        {
          "output_type": "stream",
          "text": [
            "LogisticRegression2|MDS MinMaxScaler|\n",
            "\n"
          ],
          "name": "stdout"
        },
        {
          "output_type": "stream",
          "text": [
            "/usr/local/lib/python3.6/dist-packages/sklearn/externals/joblib/externals/loky/process_executor.py:706: UserWarning: A worker stopped while some jobs were given to the executor. This can be caused by a too short worker timeout or by a memory leak.\n",
            "  \"timeout or by a memory leak.\", UserWarning\n"
          ],
          "name": "stderr"
        },
        {
          "output_type": "stream",
          "text": [
            "best estimate parameters {'C': 0.7543825171561516, 'intercept_scaling': 0.6002563255919866, 'max_iter': 35, 'solver': 'sag', 'tol': 0.9960783770418276}\n",
            "LogisticRegression2|MDS QuantileTransformer_u|QuantileTransformer_n|\n",
            "\n"
          ],
          "name": "stdout"
        },
        {
          "output_type": "stream",
          "text": [
            "/usr/local/lib/python3.6/dist-packages/sklearn/ensemble/forest.py:246: FutureWarning: The default value of n_estimators will change from 10 in version 0.20 to 100 in 0.22.\n",
            "  \"10 in version 0.20 to 100 in 0.22.\", FutureWarning)\n"
          ],
          "name": "stderr"
        },
        {
          "output_type": "stream",
          "text": [
            "Train score: 0.9874285714285714\n",
            "Test score: 0.944\n",
            "Test2 score: 0.9726666666666667\n",
            "RandomForestClassifier|Raw Normalizer_l2|Normalizer_l1|\n",
            "\n"
          ],
          "name": "stdout"
        },
        {
          "output_type": "stream",
          "text": [
            "/usr/local/lib/python3.6/dist-packages/sklearn/ensemble/forest.py:246: FutureWarning: The default value of n_estimators will change from 10 in version 0.20 to 100 in 0.22.\n",
            "  \"10 in version 0.20 to 100 in 0.22.\", FutureWarning)\n"
          ],
          "name": "stderr"
        },
        {
          "output_type": "stream",
          "text": [
            "Train score: 0.9885714285714285\n",
            "Test score: 0.9513333333333334\n",
            "Test2 score: 0.9766666666666667\n",
            "RandomForestClassifier|Raw StandardScalerMTST|StandardScalerMTSF|StandardScalerMFST|StandardScalerMFSF|\n",
            "\n",
            "Train score: 0.9408571428571428\n",
            "Test score: 0.946\n",
            "Test2 score: 0.9433333333333334\n",
            "GradientBoostingClassifier|Raw Normalizer_l2|Normalizer_l1|\n",
            "\n",
            "Train score: 0.9397142857142857\n",
            "Test score: 0.946\n",
            "Test2 score: 0.9413333333333334\n",
            "GradientBoostingClassifier|Raw StandardScalerMTST|StandardScalerMTSF|StandardScalerMFST|StandardScalerMFSF|\n",
            "\n",
            "best estimate parameters {'C': 0.6785058001396083, 'class_weight': 'balanced', 'fit_intercept': False, 'intercept_scaling': 0.4753270604506104, 'loss': 'squared_hinge', 'max_iter': 84, 'tol': 0.9981995901461231}\n",
            "LinearSVC|Raw Normalizer_l2|Normalizer_l1|\n",
            "\n",
            "best estimate parameters {'C': 0.6281522421259832, 'class_weight': 'balanced', 'fit_intercept': False, 'intercept_scaling': 0.5443908880661247, 'loss': 'hinge', 'max_iter': 21, 'tol': 0.6400204525793801}\n"
          ],
          "name": "stdout"
        },
        {
          "output_type": "stream",
          "text": [
            "/usr/local/lib/python3.6/dist-packages/sklearn/svm/base.py:931: ConvergenceWarning: Liblinear failed to converge, increase the number of iterations.\n",
            "  \"the number of iterations.\", ConvergenceWarning)\n"
          ],
          "name": "stderr"
        },
        {
          "output_type": "stream",
          "text": [
            "Train score: 0.9362857142857143\n",
            "Test score: 0.9486666666666667\n",
            "Test2 score: 0.9406666666666667\n",
            "LinearSVC|Raw StandardScalerMTST|StandardScalerMTSF|StandardScalerMFST|StandardScalerMFSF|\n",
            "\n",
            "best estimate parameters {'C': 0.9716906440483197, 'intercept_scaling': 0.07936196471346241, 'max_iter': 13, 'solver': 'sag', 'tol': 0.2698547633630332}\n",
            "LogisticRegression2|Raw Normalizer_l2|Normalizer_l1|\n",
            "\n",
            "best estimate parameters {'C': 0.010364884025154453, 'intercept_scaling': 0.6293948732128947, 'max_iter': 74, 'solver': 'newton-cg', 'tol': 0.5345153580832498}\n",
            "Train score: 0.9362857142857143\n",
            "Test score: 0.9486666666666667\n",
            "Test2 score: 0.9406666666666667\n",
            "LogisticRegression2|Raw StandardScalerMTST|StandardScalerMTSF|StandardScalerMFST|StandardScalerMFSF|\n",
            "\n",
            "best estimate parameters {'learning_rate': 2.1300458057495586, 'n_estimators': 19}\n",
            "Train score: 0.9111428571428571\n",
            "Test score: 0.928\n",
            "Test2 score: 0.9286666666666666\n",
            "AdaBoostClassifier|Raw Normalizer_l2|Normalizer_l1|\n",
            "\n",
            "best estimate parameters {'learning_rate': 2.2224567334291776, 'n_estimators': 155}\n",
            "Train score: 0.9374285714285714\n",
            "Test score: 0.9486666666666667\n",
            "Test2 score: 0.9426666666666667\n",
            "AdaBoostClassifier|Raw StandardScalerMTST|StandardScalerMTSF|StandardScalerMFST|StandardScalerMFSF|\n",
            "\n"
          ],
          "name": "stdout"
        },
        {
          "output_type": "stream",
          "text": [
            "/usr/local/lib/python3.6/dist-packages/sklearn/ensemble/forest.py:246: FutureWarning: The default value of n_estimators will change from 10 in version 0.20 to 100 in 0.22.\n",
            "  \"10 in version 0.20 to 100 in 0.22.\", FutureWarning)\n"
          ],
          "name": "stderr"
        },
        {
          "output_type": "stream",
          "text": [
            "Train score: 0.9874285714285714\n",
            "Test score: 0.944\n",
            "Test2 score: 0.9726666666666667\n",
            "RandomForestClassifier|Raw Normalizer_l2|Normalizer_l1|\n",
            "\n"
          ],
          "name": "stdout"
        },
        {
          "output_type": "stream",
          "text": [
            "/usr/local/lib/python3.6/dist-packages/sklearn/ensemble/forest.py:246: FutureWarning: The default value of n_estimators will change from 10 in version 0.20 to 100 in 0.22.\n",
            "  \"10 in version 0.20 to 100 in 0.22.\", FutureWarning)\n"
          ],
          "name": "stderr"
        },
        {
          "output_type": "stream",
          "text": [
            "Train score: 0.9888571428571429\n",
            "Test score: 0.952\n",
            "Test2 score: 0.9773333333333334\n",
            "RandomForestClassifier|Raw PowerTransformer_std|PowerTransformer|\n",
            "\n",
            "Train score: 0.9408571428571428\n",
            "Test score: 0.946\n",
            "Test2 score: 0.9433333333333334\n",
            "GradientBoostingClassifier|Raw Normalizer_l2|Normalizer_l1|\n",
            "\n",
            "Train score: 0.9397142857142857\n",
            "Test score: 0.946\n",
            "Test2 score: 0.9413333333333334\n",
            "GradientBoostingClassifier|Raw PowerTransformer_std|PowerTransformer|\n",
            "\n",
            "best estimate parameters {'C': 0.4828190743560072, 'intercept_scaling': 0.35012801282591577, 'max_iter': 36, 'solver': 'sag', 'tol': 0.9203089911588136}\n",
            "LogisticRegression2|Raw Normalizer_l2|Normalizer_l1|\n",
            "\n",
            "best estimate parameters {'C': 0.6469387841665262, 'intercept_scaling': 0.2592303156831198, 'max_iter': 81, 'solver': 'lbfgs', 'tol': 0.010611439831632818}\n",
            "best estimate parameters {'C': 0.8527392869966229, 'class_weight': 'balanced', 'fit_intercept': False, 'intercept_scaling': 0.9516033172793841, 'loss': 'squared_hinge', 'max_iter': 0, 'tol': 0.0485655677714074}\n"
          ],
          "name": "stdout"
        },
        {
          "output_type": "stream",
          "text": [
            "/usr/local/lib/python3.6/dist-packages/sklearn/svm/base.py:931: ConvergenceWarning: Liblinear failed to converge, increase the number of iterations.\n",
            "  \"the number of iterations.\", ConvergenceWarning)\n"
          ],
          "name": "stderr"
        },
        {
          "output_type": "stream",
          "text": [
            "LinearSVC|Raw Normalizer_l2|Normalizer_l1|\n",
            "\n",
            "best estimate parameters {'C': 0.2413186720438596, 'class_weight': 'balanced', 'fit_intercept': True, 'intercept_scaling': 0.34014051213326013, 'loss': 'hinge', 'max_iter': 22, 'tol': 0.9093212101811557}\n",
            "Train score: 0.9362857142857143\n",
            "Test score: 0.9486666666666667\n",
            "Test2 score: 0.9406666666666667\n",
            "LinearSVC|Raw PowerTransformer_std|PowerTransformer|\n",
            "\n",
            "best estimate parameters {'learning_rate': 2.2163271985868884, 'n_estimators': 225}\n",
            "Train score: 0.9377142857142857\n",
            "Test score: 0.948\n",
            "Test2 score: 0.9413333333333334\n",
            "AdaBoostClassifier|Raw Normalizer_l2|Normalizer_l1|\n",
            "\n",
            "best estimate parameters {'learning_rate': 2.3311504616555485, 'n_estimators': 71}\n",
            "Train score: 0.9368571428571428\n",
            "Test score: 0.9486666666666667\n",
            "Test2 score: 0.9426666666666667\n",
            "AdaBoostClassifier|Raw PowerTransformer_std|PowerTransformer|\n",
            "\n"
          ],
          "name": "stdout"
        },
        {
          "output_type": "stream",
          "text": [
            "/usr/local/lib/python3.6/dist-packages/sklearn/ensemble/forest.py:246: FutureWarning: The default value of n_estimators will change from 10 in version 0.20 to 100 in 0.22.\n",
            "  \"10 in version 0.20 to 100 in 0.22.\", FutureWarning)\n"
          ],
          "name": "stderr"
        },
        {
          "output_type": "stream",
          "text": [
            "RandomForestClassifier|PCA Normalizer_l2|Normalizer_l1|\n",
            "\n"
          ],
          "name": "stdout"
        },
        {
          "output_type": "stream",
          "text": [
            "/usr/local/lib/python3.6/dist-packages/sklearn/ensemble/forest.py:246: FutureWarning: The default value of n_estimators will change from 10 in version 0.20 to 100 in 0.22.\n",
            "  \"10 in version 0.20 to 100 in 0.22.\", FutureWarning)\n"
          ],
          "name": "stderr"
        },
        {
          "output_type": "stream",
          "text": [
            "Train score: 0.9877142857142858\n",
            "Test score: 0.9466666666666667\n",
            "Test2 score: 0.974\n",
            "RandomForestClassifier|PCA PowerTransformer_std|PowerTransformer|\n",
            "\n",
            "GradientBoostingClassifier|PCA Normalizer_l2|Normalizer_l1|\n",
            "\n",
            "Train score: 0.9457142857142857\n",
            "Test score: 0.94\n",
            "Test2 score: 0.9446666666666667\n",
            "GradientBoostingClassifier|PCA PowerTransformer_std|PowerTransformer|\n",
            "\n",
            "best estimate parameters {'C': 0.634713874876961, 'class_weight': 'balanced', 'fit_intercept': True, 'intercept_scaling': 0.9165476174168317, 'loss': 'squared_hinge', 'max_iter': 62, 'tol': 0.8269151121458964}\n",
            "LinearSVC|PCA Normalizer_l2|Normalizer_l1|\n",
            "\n",
            "best estimate parameters {'C': 0.4392717594223484, 'class_weight': '', 'fit_intercept': True, 'intercept_scaling': 0.38650100837904333, 'loss': 'squared_hinge', 'max_iter': 30, 'tol': 0.2614894917306305}\n"
          ],
          "name": "stdout"
        },
        {
          "output_type": "stream",
          "text": [
            "/usr/local/lib/python3.6/dist-packages/sklearn/svm/base.py:931: ConvergenceWarning: Liblinear failed to converge, increase the number of iterations.\n",
            "  \"the number of iterations.\", ConvergenceWarning)\n"
          ],
          "name": "stderr"
        },
        {
          "output_type": "stream",
          "text": [
            "Train score: 0.9325714285714286\n",
            "Test score: 0.9473333333333334\n",
            "Test2 score: 0.936\n",
            "LinearSVC|PCA PowerTransformer_std|PowerTransformer|\n",
            "\n",
            "best estimate parameters {'learning_rate': 1.7858849811068644, 'n_estimators': 33}\n",
            "AdaBoostClassifier|PCA Normalizer_l2|Normalizer_l1|\n",
            "\n",
            "best estimate parameters {'learning_rate': 1.0890360235445713, 'n_estimators': 15}\n",
            "Train score: 0.9328571428571428\n",
            "Test score: 0.9386666666666666\n",
            "Test2 score: 0.934\n",
            "AdaBoostClassifier|PCA PowerTransformer_std|PowerTransformer|\n",
            "\n"
          ],
          "name": "stdout"
        },
        {
          "output_type": "stream",
          "text": [
            "/usr/local/lib/python3.6/dist-packages/sklearn/ensemble/forest.py:246: FutureWarning: The default value of n_estimators will change from 10 in version 0.20 to 100 in 0.22.\n",
            "  \"10 in version 0.20 to 100 in 0.22.\", FutureWarning)\n"
          ],
          "name": "stderr"
        },
        {
          "output_type": "stream",
          "text": [
            "Train score: 0.9874285714285714\n",
            "Test score: 0.944\n",
            "Test2 score: 0.9726666666666667\n",
            "RandomForestClassifier|Raw Normalizer_l2|Normalizer_l1|\n",
            "\n"
          ],
          "name": "stdout"
        },
        {
          "output_type": "stream",
          "text": [
            "/usr/local/lib/python3.6/dist-packages/sklearn/ensemble/forest.py:246: FutureWarning: The default value of n_estimators will change from 10 in version 0.20 to 100 in 0.22.\n",
            "  \"10 in version 0.20 to 100 in 0.22.\", FutureWarning)\n"
          ],
          "name": "stderr"
        },
        {
          "output_type": "stream",
          "text": [
            "Train score: 0.9894285714285714\n",
            "Test score: 0.9466666666666667\n",
            "Test2 score: 0.9746666666666667\n",
            "RandomForestClassifier|Raw QuantileTransformer_u|QuantileTransformer_n|\n",
            "\n",
            "Train score: 0.9408571428571428\n",
            "Test score: 0.946\n",
            "Test2 score: 0.9433333333333334\n",
            "GradientBoostingClassifier|Raw Normalizer_l2|Normalizer_l1|\n",
            "\n",
            "Train score: 0.9408571428571428\n",
            "Test score: 0.9466666666666667\n",
            "Test2 score: 0.9426666666666667\n",
            "GradientBoostingClassifier|Raw QuantileTransformer_u|QuantileTransformer_n|\n",
            "\n",
            "best estimate parameters {'C': 0.8380524240216288, 'class_weight': 'balanced', 'fit_intercept': False, 'intercept_scaling': 0.8956143206387558, 'loss': 'squared_hinge', 'max_iter': 7, 'tol': 0.8600343123426757}\n",
            "LinearSVC|Raw Normalizer_l2|Normalizer_l1|\n",
            "\n",
            "best estimate parameters {'C': 0.91390422562458, 'class_weight': '', 'fit_intercept': True, 'intercept_scaling': 0.025900016594856634, 'loss': 'squared_hinge', 'max_iter': 11, 'tol': 0.8537793918154895}\n"
          ],
          "name": "stdout"
        },
        {
          "output_type": "stream",
          "text": [
            "/usr/local/lib/python3.6/dist-packages/sklearn/svm/base.py:931: ConvergenceWarning: Liblinear failed to converge, increase the number of iterations.\n",
            "  \"the number of iterations.\", ConvergenceWarning)\n"
          ],
          "name": "stderr"
        },
        {
          "output_type": "stream",
          "text": [
            "Train score: 0.9362857142857143\n",
            "Test score: 0.9486666666666667\n",
            "Test2 score: 0.9406666666666667\n",
            "LinearSVC|Raw QuantileTransformer_u|QuantileTransformer_n|\n",
            "\n",
            "best estimate parameters {'C': 0.4218277828893007, 'intercept_scaling': 0.857068306719671, 'max_iter': 11, 'solver': 'sag', 'tol': 0.6864283448544899}\n",
            "LogisticRegression2|Raw Normalizer_l2|Normalizer_l1|\n",
            "\n",
            "best estimate parameters {'C': 0.23781716259497687, 'intercept_scaling': 0.47578627194625533, 'max_iter': 70, 'solver': 'newton-cg', 'tol': 0.5514393162501738}\n",
            "Train score: 0.9362857142857143\n",
            "Test score: 0.9486666666666667\n",
            "Test2 score: 0.9406666666666667\n",
            "LogisticRegression2|Raw QuantileTransformer_u|QuantileTransformer_n|\n",
            "\n",
            "best estimate parameters {'learning_rate': 2.168918776048103, 'n_estimators': 125}\n",
            "Train score: 0.9362857142857143\n",
            "Test score: 0.9486666666666667\n",
            "Test2 score: 0.9406666666666667\n",
            "AdaBoostClassifier|Raw Normalizer_l2|Normalizer_l1|\n",
            "\n",
            "best estimate parameters {'learning_rate': 2.22998631689071, 'n_estimators': 173}\n",
            "Train score: 0.9374285714285714\n",
            "Test score: 0.9486666666666667\n",
            "Test2 score: 0.9426666666666667\n",
            "AdaBoostClassifier|Raw QuantileTransformer_u|QuantileTransformer_n|\n",
            "\n"
          ],
          "name": "stdout"
        },
        {
          "output_type": "stream",
          "text": [
            "/usr/local/lib/python3.6/dist-packages/sklearn/ensemble/forest.py:246: FutureWarning: The default value of n_estimators will change from 10 in version 0.20 to 100 in 0.22.\n",
            "  \"10 in version 0.20 to 100 in 0.22.\", FutureWarning)\n"
          ],
          "name": "stderr"
        },
        {
          "output_type": "stream",
          "text": [
            "RandomForestClassifier|PCA Normalizer_l2|Normalizer_l1|\n",
            "\n"
          ],
          "name": "stdout"
        },
        {
          "output_type": "stream",
          "text": [
            "/usr/local/lib/python3.6/dist-packages/sklearn/ensemble/forest.py:246: FutureWarning: The default value of n_estimators will change from 10 in version 0.20 to 100 in 0.22.\n",
            "  \"10 in version 0.20 to 100 in 0.22.\", FutureWarning)\n"
          ],
          "name": "stderr"
        },
        {
          "output_type": "stream",
          "text": [
            "Train score: 0.9874285714285714\n",
            "Test score: 0.9486666666666667\n",
            "Test2 score: 0.9746666666666667\n",
            "RandomForestClassifier|PCA QuantileTransformer_u|QuantileTransformer_n|\n",
            "\n",
            "GradientBoostingClassifier|PCA Normalizer_l2|Normalizer_l1|\n",
            "\n",
            "Train score: 0.9411428571428572\n",
            "Test score: 0.948\n",
            "Test2 score: 0.9433333333333334\n",
            "GradientBoostingClassifier|PCA QuantileTransformer_u|QuantileTransformer_n|\n",
            "\n",
            "best estimate parameters {'C': 0.910542091924926, 'class_weight': 'balanced', 'fit_intercept': True, 'intercept_scaling': 0.10014071536562102, 'loss': 'squared_hinge', 'max_iter': 70, 'tol': 0.7567077911602875}\n",
            "LinearSVC|PCA Normalizer_l2|Normalizer_l1|\n",
            "\n",
            "best estimate parameters {'C': 0.38622532419529776, 'class_weight': 'balanced', 'fit_intercept': False, 'intercept_scaling': 0.11433045897055161, 'loss': 'squared_hinge', 'max_iter': 71, 'tol': 0.015482816792186105}\n"
          ],
          "name": "stdout"
        },
        {
          "output_type": "stream",
          "text": [
            "/usr/local/lib/python3.6/dist-packages/sklearn/svm/base.py:931: ConvergenceWarning: Liblinear failed to converge, increase the number of iterations.\n",
            "  \"the number of iterations.\", ConvergenceWarning)\n"
          ],
          "name": "stderr"
        },
        {
          "output_type": "stream",
          "text": [
            "Train score: 0.9362857142857143\n",
            "Test score: 0.9486666666666667\n",
            "Test2 score: 0.9406666666666667\n",
            "LinearSVC|PCA QuantileTransformer_u|QuantileTransformer_n|\n",
            "\n",
            "best estimate parameters {'C': 0.3157408459141469, 'intercept_scaling': 0.5295242534341478, 'max_iter': 69, 'solver': 'sag', 'tol': 0.06664794339498498}\n",
            "LogisticRegression2|PCA Normalizer_l2|Normalizer_l1|\n",
            "\n",
            "best estimate parameters {'C': 0.3561071509831373, 'intercept_scaling': 0.6849052906329384, 'max_iter': 76, 'solver': 'lbfgs', 'tol': 0.20290189371216127}\n",
            "best estimate parameters {'learning_rate': 1.5801671503534138, 'n_estimators': 165}\n",
            "AdaBoostClassifier|PCA Normalizer_l2|Normalizer_l1|\n",
            "\n",
            "best estimate parameters {'learning_rate': 2.1759744046499154, 'n_estimators': 171}\n",
            "Train score: 0.9362857142857143\n",
            "Test score: 0.9486666666666667\n",
            "Test2 score: 0.9406666666666667\n",
            "AdaBoostClassifier|PCA QuantileTransformer_u|QuantileTransformer_n|\n",
            "\n"
          ],
          "name": "stdout"
        },
        {
          "output_type": "stream",
          "text": [
            "/usr/local/lib/python3.6/dist-packages/sklearn/ensemble/forest.py:246: FutureWarning: The default value of n_estimators will change from 10 in version 0.20 to 100 in 0.22.\n",
            "  \"10 in version 0.20 to 100 in 0.22.\", FutureWarning)\n"
          ],
          "name": "stderr"
        },
        {
          "output_type": "stream",
          "text": [
            "Train score: 0.9885714285714285\n",
            "Test score: 0.9513333333333334\n",
            "Test2 score: 0.9766666666666667\n",
            "RandomForestClassifier|Raw StandardScalerMTST|StandardScalerMTSF|StandardScalerMFST|StandardScalerMFSF|\n",
            "\n"
          ],
          "name": "stdout"
        },
        {
          "output_type": "stream",
          "text": [
            "/usr/local/lib/python3.6/dist-packages/sklearn/ensemble/forest.py:246: FutureWarning: The default value of n_estimators will change from 10 in version 0.20 to 100 in 0.22.\n",
            "  \"10 in version 0.20 to 100 in 0.22.\", FutureWarning)\n"
          ],
          "name": "stderr"
        },
        {
          "output_type": "stream",
          "text": [
            "Train score: 0.9888571428571429\n",
            "Test score: 0.952\n",
            "Test2 score: 0.9773333333333334\n",
            "RandomForestClassifier|Raw PowerTransformer_std|PowerTransformer|\n",
            "\n",
            "Train score: 0.9397142857142857\n",
            "Test score: 0.946\n",
            "Test2 score: 0.9413333333333334\n",
            "GradientBoostingClassifier|Raw StandardScalerMTST|StandardScalerMTSF|StandardScalerMFST|StandardScalerMFSF|\n",
            "\n",
            "Train score: 0.9397142857142857\n",
            "Test score: 0.946\n",
            "Test2 score: 0.9413333333333334\n",
            "GradientBoostingClassifier|Raw PowerTransformer_std|PowerTransformer|\n",
            "\n",
            "best estimate parameters {'C': 0.7205202987404103, 'intercept_scaling': 0.9895848506152749, 'max_iter': 79, 'solver': 'lbfgs', 'tol': 0.62661991856943}\n",
            "best estimate parameters {'C': 0.004470392704138182, 'intercept_scaling': 0.20073413803858065, 'max_iter': 13, 'solver': 'sag', 'tol': 0.09548565922139918}\n",
            "Train score: 0.9362857142857143\n",
            "Test score: 0.9486666666666667\n",
            "Test2 score: 0.9406666666666667\n",
            "LogisticRegression2|Raw PowerTransformer_std|PowerTransformer|\n",
            "\n",
            "best estimate parameters {'C': 0.06294875468692729, 'class_weight': '', 'fit_intercept': True, 'intercept_scaling': 0.7576210101113319, 'loss': 'hinge', 'max_iter': 60, 'tol': 0.6186633630645724}\n",
            "Train score: 0.9362857142857143\n",
            "Test score: 0.9486666666666667\n",
            "Test2 score: 0.9406666666666667\n",
            "LinearSVC|Raw StandardScalerMTST|StandardScalerMTSF|StandardScalerMFST|StandardScalerMFSF|\n",
            "\n",
            "best estimate parameters {'C': 0.7498485333535606, 'class_weight': '', 'fit_intercept': False, 'intercept_scaling': 0.880554494515308, 'loss': 'squared_hinge', 'max_iter': 56, 'tol': 0.5543034566175525}\n"
          ],
          "name": "stdout"
        },
        {
          "output_type": "stream",
          "text": [
            "/usr/local/lib/python3.6/dist-packages/sklearn/svm/base.py:931: ConvergenceWarning: Liblinear failed to converge, increase the number of iterations.\n",
            "  \"the number of iterations.\", ConvergenceWarning)\n"
          ],
          "name": "stderr"
        },
        {
          "output_type": "stream",
          "text": [
            "Train score: 0.9362857142857143\n",
            "Test score: 0.9486666666666667\n",
            "Test2 score: 0.9406666666666667\n",
            "LinearSVC|Raw PowerTransformer_std|PowerTransformer|\n",
            "\n",
            "best estimate parameters {'learning_rate': 1.9727762289384654, 'n_estimators': 104}\n",
            "Train score: 0.9331428571428572\n",
            "Test score: 0.944\n",
            "Test2 score: 0.938\n",
            "AdaBoostClassifier|Raw StandardScalerMTST|StandardScalerMTSF|StandardScalerMFST|StandardScalerMFSF|\n",
            "\n",
            "best estimate parameters {'learning_rate': 2.2414658875714157, 'n_estimators': 43}\n",
            "Train score: 0.9374285714285714\n",
            "Test score: 0.9486666666666667\n",
            "Test2 score: 0.9426666666666667\n",
            "AdaBoostClassifier|Raw PowerTransformer_std|PowerTransformer|\n",
            "\n"
          ],
          "name": "stdout"
        },
        {
          "output_type": "stream",
          "text": [
            "/usr/local/lib/python3.6/dist-packages/sklearn/ensemble/forest.py:246: FutureWarning: The default value of n_estimators will change from 10 in version 0.20 to 100 in 0.22.\n",
            "  \"10 in version 0.20 to 100 in 0.22.\", FutureWarning)\n"
          ],
          "name": "stderr"
        },
        {
          "output_type": "stream",
          "text": [
            "Train score: 0.9882857142857143\n",
            "Test score: 0.9466666666666667\n",
            "Test2 score: 0.9766666666666667\n",
            "RandomForestClassifier|PCA StandardScalerMTST|StandardScalerMTSF|StandardScalerMFST|StandardScalerMFSF|\n",
            "\n"
          ],
          "name": "stdout"
        },
        {
          "output_type": "stream",
          "text": [
            "/usr/local/lib/python3.6/dist-packages/sklearn/ensemble/forest.py:246: FutureWarning: The default value of n_estimators will change from 10 in version 0.20 to 100 in 0.22.\n",
            "  \"10 in version 0.20 to 100 in 0.22.\", FutureWarning)\n"
          ],
          "name": "stderr"
        },
        {
          "output_type": "stream",
          "text": [
            "Train score: 0.9877142857142858\n",
            "Test score: 0.9466666666666667\n",
            "Test2 score: 0.974\n",
            "RandomForestClassifier|PCA PowerTransformer_std|PowerTransformer|\n",
            "\n",
            "Train score: 0.9425714285714286\n",
            "Test score: 0.944\n",
            "Test2 score: 0.9406666666666667\n",
            "GradientBoostingClassifier|PCA StandardScalerMTST|StandardScalerMTSF|StandardScalerMFST|StandardScalerMFSF|\n",
            "\n",
            "Train score: 0.9457142857142857\n",
            "Test score: 0.94\n",
            "Test2 score: 0.9446666666666667\n",
            "GradientBoostingClassifier|PCA PowerTransformer_std|PowerTransformer|\n",
            "\n",
            "best estimate parameters {'C': 0.5107849013462148, 'intercept_scaling': 0.8229149827778657, 'max_iter': 59, 'solver': 'lbfgs', 'tol': 0.20208270516680904}\n",
            "best estimate parameters {'C': 0.5148783559515573, 'intercept_scaling': 0.9089952105243791, 'max_iter': 8, 'solver': 'newton-cg', 'tol': 0.7598405440396225}\n"
          ],
          "name": "stdout"
        },
        {
          "output_type": "stream",
          "text": [
            "/usr/local/lib/python3.6/dist-packages/sklearn/utils/optimize.py:203: ConvergenceWarning: newton-cg failed to converge. Increase the number of iterations.\n",
            "  \"number of iterations.\", ConvergenceWarning)\n"
          ],
          "name": "stderr"
        },
        {
          "output_type": "stream",
          "text": [
            "Train score: 0.9362857142857143\n",
            "Test score: 0.9486666666666667\n",
            "Test2 score: 0.9406666666666667\n",
            "LogisticRegression2|PCA PowerTransformer_std|PowerTransformer|\n",
            "\n",
            "best estimate parameters {'C': 0.41917638769449894, 'class_weight': '', 'fit_intercept': True, 'intercept_scaling': 0.3230555209421683, 'loss': 'squared_hinge', 'max_iter': 72, 'tol': 0.6437612397908332}\n"
          ],
          "name": "stdout"
        },
        {
          "output_type": "stream",
          "text": [
            "/usr/local/lib/python3.6/dist-packages/sklearn/svm/base.py:931: ConvergenceWarning: Liblinear failed to converge, increase the number of iterations.\n",
            "  \"the number of iterations.\", ConvergenceWarning)\n"
          ],
          "name": "stderr"
        },
        {
          "output_type": "stream",
          "text": [
            "Train score: 0.9362857142857143\n",
            "Test score: 0.9486666666666667\n",
            "Test2 score: 0.9406666666666667\n",
            "LinearSVC|PCA StandardScalerMTST|StandardScalerMTSF|StandardScalerMFST|StandardScalerMFSF|\n",
            "\n",
            "best estimate parameters {'C': 0.13689143010084126, 'class_weight': 'balanced', 'fit_intercept': False, 'intercept_scaling': 0.29033400224809214, 'loss': 'hinge', 'max_iter': 44, 'tol': 0.45235763763556625}\n",
            "Train score: 0.9362857142857143\n",
            "Test score: 0.9486666666666667\n",
            "Test2 score: 0.9406666666666667\n",
            "LinearSVC|PCA PowerTransformer_std|PowerTransformer|\n",
            "\n",
            "best estimate parameters {'learning_rate': 1.0251268621534104, 'n_estimators': 10}\n",
            "Train score: 0.9308571428571428\n",
            "Test score: 0.944\n",
            "Test2 score: 0.936\n",
            "AdaBoostClassifier|PCA StandardScalerMTST|StandardScalerMTSF|StandardScalerMFST|StandardScalerMFSF|\n",
            "\n",
            "best estimate parameters {'learning_rate': 1.0278018966855245, 'n_estimators': 45}\n",
            "Train score: 0.9371428571428572\n",
            "Test score: 0.94\n",
            "Test2 score: 0.9366666666666666\n",
            "AdaBoostClassifier|PCA PowerTransformer_std|PowerTransformer|\n",
            "\n",
            "best estimate parameters {'learning_rate': 2.3447386517346627, 'n_estimators': 202}\n",
            "AdaBoostClassifier|MDS StandardScalerMTST|StandardScalerMTSF|StandardScalerMFST|StandardScalerMFSF|\n",
            "\n",
            "best estimate parameters {'learning_rate': 2.5495117702211907, 'n_estimators': 269}\n",
            "AdaBoostClassifier|MDS PowerTransformer_std|PowerTransformer|\n",
            "\n"
          ],
          "name": "stdout"
        },
        {
          "output_type": "stream",
          "text": [
            "/usr/local/lib/python3.6/dist-packages/sklearn/ensemble/forest.py:246: FutureWarning: The default value of n_estimators will change from 10 in version 0.20 to 100 in 0.22.\n",
            "  \"10 in version 0.20 to 100 in 0.22.\", FutureWarning)\n"
          ],
          "name": "stderr"
        },
        {
          "output_type": "stream",
          "text": [
            "Train score: 0.9874285714285714\n",
            "Test score: 0.9426666666666667\n",
            "Test2 score: 0.9706666666666667\n",
            "RandomForestClassifier|Raw StandardScalerMTST|StandardScalerMTSF|StandardScalerMFST|StandardScalerMFSF|\n",
            "\n"
          ],
          "name": "stdout"
        },
        {
          "output_type": "stream",
          "text": [
            "/usr/local/lib/python3.6/dist-packages/sklearn/ensemble/forest.py:246: FutureWarning: The default value of n_estimators will change from 10 in version 0.20 to 100 in 0.22.\n",
            "  \"10 in version 0.20 to 100 in 0.22.\", FutureWarning)\n"
          ],
          "name": "stderr"
        },
        {
          "output_type": "stream",
          "text": [
            "Train score: 0.9882857142857143\n",
            "Test score: 0.9413333333333334\n",
            "Test2 score: 0.97\n",
            "RandomForestClassifier|Raw QuantileTransformer_u|QuantileTransformer_n|\n",
            "\n",
            "Train score: 0.9431428571428572\n",
            "Test score: 0.942\n",
            "Test2 score: 0.9433333333333334\n",
            "GradientBoostingClassifier|Raw StandardScalerMTST|StandardScalerMTSF|StandardScalerMFST|StandardScalerMFSF|\n",
            "\n",
            "Train score: 0.942\n",
            "Test score: 0.94\n",
            "Test2 score: 0.9433333333333334\n",
            "GradientBoostingClassifier|Raw QuantileTransformer_u|QuantileTransformer_n|\n",
            "\n",
            "best estimate parameters {'C': 0.11368622138088147, 'class_weight': '', 'fit_intercept': True, 'intercept_scaling': 0.40385299752001214, 'loss': 'squared_hinge', 'max_iter': 50, 'tol': 0.8982143707848586}\n",
            "Train score: 0.9388571428571428\n",
            "Test score: 0.9426666666666667\n",
            "Test2 score: 0.9406666666666667\n",
            "LinearSVC|Raw StandardScalerMTST|StandardScalerMTSF|StandardScalerMFST|StandardScalerMFSF|\n",
            "\n",
            "best estimate parameters {'C': 0.5843359785872794, 'class_weight': 'balanced', 'fit_intercept': True, 'intercept_scaling': 0.7985025658944044, 'loss': 'hinge', 'max_iter': 90, 'tol': 0.8647707857049743}\n",
            "Train score: 0.9388571428571428\n",
            "Test score: 0.9426666666666667\n",
            "Test2 score: 0.9406666666666667\n",
            "LinearSVC|Raw QuantileTransformer_u|QuantileTransformer_n|\n",
            "\n",
            "best estimate parameters {'C': 0.25465918164157764, 'intercept_scaling': 0.21609802971598502, 'max_iter': 69, 'solver': 'sag', 'tol': 0.8781482910815281}\n",
            "Train score: 0.9388571428571428\n",
            "Test score: 0.9426666666666667\n",
            "Test2 score: 0.9406666666666667\n",
            "LogisticRegression2|Raw StandardScalerMTST|StandardScalerMTSF|StandardScalerMFST|StandardScalerMFSF|\n",
            "\n",
            "best estimate parameters {'C': 0.004148021059002027, 'intercept_scaling': 0.1738885874423175, 'max_iter': 29, 'solver': 'lbfgs', 'tol': 0.930578459583777}\n",
            "best estimate parameters {'learning_rate': 2.5536499510405304, 'n_estimators': 179}\n",
            "Train score: 0.9391428571428572\n",
            "Test score: 0.9426666666666667\n",
            "Test2 score: 0.9406666666666667\n",
            "AdaBoostClassifier|Raw StandardScalerMTST|StandardScalerMTSF|StandardScalerMFST|StandardScalerMFSF|\n",
            "\n",
            "best estimate parameters {'learning_rate': 2.5567156596101244, 'n_estimators': 141}\n",
            "Train score: 0.9391428571428572\n",
            "Test score: 0.9426666666666667\n",
            "Test2 score: 0.9406666666666667\n",
            "AdaBoostClassifier|Raw QuantileTransformer_u|QuantileTransformer_n|\n",
            "\n"
          ],
          "name": "stdout"
        },
        {
          "output_type": "stream",
          "text": [
            "/usr/local/lib/python3.6/dist-packages/sklearn/ensemble/forest.py:246: FutureWarning: The default value of n_estimators will change from 10 in version 0.20 to 100 in 0.22.\n",
            "  \"10 in version 0.20 to 100 in 0.22.\", FutureWarning)\n"
          ],
          "name": "stderr"
        },
        {
          "output_type": "stream",
          "text": [
            "Train score: 0.9865714285714285\n",
            "Test score: 0.94\n",
            "Test2 score: 0.9693333333333334\n",
            "RandomForestClassifier|PCA StandardScalerMTST|StandardScalerMTSF|StandardScalerMFST|StandardScalerMFSF|\n",
            "\n"
          ],
          "name": "stdout"
        },
        {
          "output_type": "stream",
          "text": [
            "/usr/local/lib/python3.6/dist-packages/sklearn/ensemble/forest.py:246: FutureWarning: The default value of n_estimators will change from 10 in version 0.20 to 100 in 0.22.\n",
            "  \"10 in version 0.20 to 100 in 0.22.\", FutureWarning)\n"
          ],
          "name": "stderr"
        },
        {
          "output_type": "stream",
          "text": [
            "Train score: 0.9877142857142858\n",
            "Test score: 0.942\n",
            "Test2 score: 0.97\n",
            "RandomForestClassifier|PCA QuantileTransformer_u|QuantileTransformer_n|\n",
            "\n",
            "Train score: 0.946\n",
            "Test score: 0.94\n",
            "Test2 score: 0.9433333333333334\n",
            "GradientBoostingClassifier|PCA StandardScalerMTST|StandardScalerMTSF|StandardScalerMFST|StandardScalerMFSF|\n",
            "\n",
            "Train score: 0.9434285714285714\n",
            "Test score: 0.9426666666666667\n",
            "Test2 score: 0.942\n",
            "GradientBoostingClassifier|PCA QuantileTransformer_u|QuantileTransformer_n|\n",
            "\n",
            "best estimate parameters {'C': 0.10408383219996431, 'class_weight': 'balanced', 'fit_intercept': False, 'intercept_scaling': 0.8748898639646882, 'loss': 'squared_hinge', 'max_iter': 6, 'tol': 0.6797193861678477}\n"
          ],
          "name": "stdout"
        },
        {
          "output_type": "stream",
          "text": [
            "/usr/local/lib/python3.6/dist-packages/sklearn/svm/base.py:931: ConvergenceWarning: Liblinear failed to converge, increase the number of iterations.\n",
            "  \"the number of iterations.\", ConvergenceWarning)\n"
          ],
          "name": "stderr"
        },
        {
          "output_type": "stream",
          "text": [
            "Train score: 0.9388571428571428\n",
            "Test score: 0.9426666666666667\n",
            "Test2 score: 0.9406666666666667\n",
            "LinearSVC|PCA StandardScalerMTST|StandardScalerMTSF|StandardScalerMFST|StandardScalerMFSF|\n",
            "\n",
            "best estimate parameters {'C': 0.3541122876166788, 'class_weight': 'balanced', 'fit_intercept': True, 'intercept_scaling': 0.5101971786461404, 'loss': 'hinge', 'max_iter': 81, 'tol': 0.8433337796994494}\n",
            "Train score: 0.9388571428571428\n",
            "Test score: 0.9426666666666667\n",
            "Test2 score: 0.9406666666666667\n",
            "LinearSVC|PCA QuantileTransformer_u|QuantileTransformer_n|\n",
            "\n",
            "best estimate parameters {'C': 0.6916654096142235, 'intercept_scaling': 0.16845064521987696, 'max_iter': 42, 'solver': 'liblinear', 'tol': 0.5395527443733356}\n"
          ],
          "name": "stdout"
        },
        {
          "output_type": "stream",
          "text": [
            "/usr/local/lib/python3.6/dist-packages/sklearn/linear_model/logistic.py:1300: UserWarning: 'n_jobs' > 1 does not have any effect when 'solver' is set to 'liblinear'. Got 'n_jobs' = 2.\n",
            "  \" = {}.\".format(effective_n_jobs(self.n_jobs)))\n"
          ],
          "name": "stderr"
        },
        {
          "output_type": "stream",
          "text": [
            "Train score: 0.9371428571428572\n",
            "Test score: 0.9426666666666667\n",
            "Test2 score: 0.9393333333333334\n",
            "LogisticRegression2|PCA StandardScalerMTST|StandardScalerMTSF|StandardScalerMFST|StandardScalerMFSF|\n",
            "\n",
            "best estimate parameters {'C': 0.16050992204958725, 'intercept_scaling': 0.9331434119703754, 'max_iter': 49, 'solver': 'saga', 'tol': 0.36854614620488735}\n",
            "Train score: 0.9388571428571428\n",
            "Test score: 0.9426666666666667\n",
            "Test2 score: 0.9406666666666667\n",
            "LogisticRegression2|PCA QuantileTransformer_u|QuantileTransformer_n|\n",
            "\n",
            "best estimate parameters {'learning_rate': 1.0658943994766095, 'n_estimators': 5}\n",
            "Train score: 0.9334285714285714\n",
            "Test score: 0.9386666666666666\n",
            "Test2 score: 0.9366666666666666\n",
            "AdaBoostClassifier|PCA StandardScalerMTST|StandardScalerMTSF|StandardScalerMFST|StandardScalerMFSF|\n",
            "\n",
            "best estimate parameters {'learning_rate': 1.4740981216764666, 'n_estimators': 1}\n",
            "Train score: 0.9388571428571428\n",
            "Test score: 0.9426666666666667\n",
            "Test2 score: 0.9406666666666667\n",
            "AdaBoostClassifier|PCA QuantileTransformer_u|QuantileTransformer_n|\n",
            "\n",
            "best estimate parameters {'C': 0.41453356589624063, 'class_weight': 'balanced', 'fit_intercept': False, 'intercept_scaling': 0.8662639904627788, 'loss': 'squared_hinge', 'max_iter': 55, 'tol': 0.5582485073667178}\n",
            "LinearSVC|MDS StandardScalerMTST|StandardScalerMTSF|StandardScalerMFST|StandardScalerMFSF|\n",
            "\n",
            "best estimate parameters {'C': 0.6131288121426341, 'class_weight': 'balanced', 'fit_intercept': False, 'intercept_scaling': 0.60242647890894, 'loss': 'squared_hinge', 'max_iter': 77, 'tol': 0.8681515099821918}\n",
            "LinearSVC|MDS QuantileTransformer_u|QuantileTransformer_n|\n",
            "\n"
          ],
          "name": "stdout"
        },
        {
          "output_type": "stream",
          "text": [
            "/usr/local/lib/python3.6/dist-packages/sklearn/ensemble/forest.py:246: FutureWarning: The default value of n_estimators will change from 10 in version 0.20 to 100 in 0.22.\n",
            "  \"10 in version 0.20 to 100 in 0.22.\", FutureWarning)\n"
          ],
          "name": "stderr"
        },
        {
          "output_type": "stream",
          "text": [
            "Train score: 0.986\n",
            "Test score: 0.9446666666666667\n",
            "Test2 score: 0.9733333333333334\n",
            "RandomForestClassifier|Raw PowerTransformer_std|PowerTransformer|\n",
            "\n"
          ],
          "name": "stdout"
        },
        {
          "output_type": "stream",
          "text": [
            "/usr/local/lib/python3.6/dist-packages/sklearn/ensemble/forest.py:246: FutureWarning: The default value of n_estimators will change from 10 in version 0.20 to 100 in 0.22.\n",
            "  \"10 in version 0.20 to 100 in 0.22.\", FutureWarning)\n"
          ],
          "name": "stderr"
        },
        {
          "output_type": "stream",
          "text": [
            "Train score: 0.9868571428571429\n",
            "Test score: 0.9473333333333334\n",
            "Test2 score: 0.9766666666666667\n",
            "RandomForestClassifier|Raw QuantileTransformer_u|QuantileTransformer_n|\n",
            "\n",
            "Train score: 0.9417142857142857\n",
            "Test score: 0.9426666666666667\n",
            "Test2 score: 0.9433333333333334\n",
            "GradientBoostingClassifier|Raw PowerTransformer_std|PowerTransformer|\n",
            "\n",
            "Train score: 0.9411428571428572\n",
            "Test score: 0.9446666666666667\n",
            "Test2 score: 0.9426666666666667\n",
            "GradientBoostingClassifier|Raw QuantileTransformer_u|QuantileTransformer_n|\n",
            "\n",
            "best estimate parameters {'C': 0.36014176268052644, 'class_weight': 'balanced', 'fit_intercept': False, 'intercept_scaling': 0.17016956414916884, 'loss': 'squared_hinge', 'max_iter': 41, 'tol': 0.9735475630994394}\n"
          ],
          "name": "stdout"
        },
        {
          "output_type": "stream",
          "text": [
            "/usr/local/lib/python3.6/dist-packages/sklearn/svm/base.py:931: ConvergenceWarning: Liblinear failed to converge, increase the number of iterations.\n",
            "  \"the number of iterations.\", ConvergenceWarning)\n"
          ],
          "name": "stderr"
        },
        {
          "output_type": "stream",
          "text": [
            "Train score: 0.938\n",
            "Test score: 0.9446666666666667\n",
            "Test2 score: 0.9406666666666667\n",
            "LinearSVC|Raw PowerTransformer_std|PowerTransformer|\n",
            "\n",
            "best estimate parameters {'C': 0.6453125662892449, 'class_weight': 'balanced', 'fit_intercept': True, 'intercept_scaling': 0.6571380668675609, 'loss': 'squared_hinge', 'max_iter': 76, 'tol': 0.0230999727868888}\n"
          ],
          "name": "stdout"
        },
        {
          "output_type": "stream",
          "text": [
            "/usr/local/lib/python3.6/dist-packages/sklearn/svm/base.py:931: ConvergenceWarning: Liblinear failed to converge, increase the number of iterations.\n",
            "  \"the number of iterations.\", ConvergenceWarning)\n"
          ],
          "name": "stderr"
        },
        {
          "output_type": "stream",
          "text": [
            "Train score: 0.938\n",
            "Test score: 0.9446666666666667\n",
            "Test2 score: 0.9406666666666667\n",
            "LinearSVC|Raw QuantileTransformer_u|QuantileTransformer_n|\n",
            "\n",
            "best estimate parameters {'learning_rate': 2.1928532068219617, 'n_estimators': 233}\n",
            "Train score: 0.9394285714285714\n",
            "Test score: 0.9446666666666667\n",
            "Test2 score: 0.9426666666666667\n",
            "AdaBoostClassifier|Raw PowerTransformer_std|PowerTransformer|\n",
            "\n",
            "best estimate parameters {'learning_rate': 1.7683656709215798, 'n_estimators': 40}\n",
            "Train score: 0.9382857142857143\n",
            "Test score: 0.9446666666666667\n",
            "Test2 score: 0.9413333333333334\n",
            "AdaBoostClassifier|Raw QuantileTransformer_u|QuantileTransformer_n|\n",
            "\n"
          ],
          "name": "stdout"
        },
        {
          "output_type": "stream",
          "text": [
            "/usr/local/lib/python3.6/dist-packages/sklearn/ensemble/forest.py:246: FutureWarning: The default value of n_estimators will change from 10 in version 0.20 to 100 in 0.22.\n",
            "  \"10 in version 0.20 to 100 in 0.22.\", FutureWarning)\n"
          ],
          "name": "stderr"
        },
        {
          "output_type": "stream",
          "text": [
            "Train score: 0.9897142857142858\n",
            "Test score: 0.942\n",
            "Test2 score: 0.9793333333333333\n",
            "RandomForestClassifier|PCA PowerTransformer_std|PowerTransformer|\n",
            "\n"
          ],
          "name": "stdout"
        },
        {
          "output_type": "stream",
          "text": [
            "/usr/local/lib/python3.6/dist-packages/sklearn/ensemble/forest.py:246: FutureWarning: The default value of n_estimators will change from 10 in version 0.20 to 100 in 0.22.\n",
            "  \"10 in version 0.20 to 100 in 0.22.\", FutureWarning)\n"
          ],
          "name": "stderr"
        },
        {
          "output_type": "stream",
          "text": [
            "Train score: 0.9874285714285714\n",
            "Test score: 0.9426666666666667\n",
            "Test2 score: 0.9733333333333334\n",
            "RandomForestClassifier|PCA QuantileTransformer_u|QuantileTransformer_n|\n",
            "\n",
            "Train score: 0.9454285714285714\n",
            "Test score: 0.94\n",
            "Test2 score: 0.942\n",
            "GradientBoostingClassifier|PCA PowerTransformer_std|PowerTransformer|\n",
            "\n",
            "Train score: 0.9428571428571428\n",
            "Test score: 0.944\n",
            "Test2 score: 0.9413333333333334\n",
            "GradientBoostingClassifier|PCA QuantileTransformer_u|QuantileTransformer_n|\n",
            "\n",
            "best estimate parameters {'C': 0.38344854071566803, 'class_weight': '', 'fit_intercept': False, 'intercept_scaling': 0.39986197488953534, 'loss': 'squared_hinge', 'max_iter': 54, 'tol': 0.9601687731861072}\n"
          ],
          "name": "stdout"
        },
        {
          "output_type": "stream",
          "text": [
            "/usr/local/lib/python3.6/dist-packages/sklearn/svm/base.py:931: ConvergenceWarning: Liblinear failed to converge, increase the number of iterations.\n",
            "  \"the number of iterations.\", ConvergenceWarning)\n"
          ],
          "name": "stderr"
        },
        {
          "output_type": "stream",
          "text": [
            "Train score: 0.938\n",
            "Test score: 0.9446666666666667\n",
            "Test2 score: 0.9406666666666667\n",
            "LinearSVC|PCA PowerTransformer_std|PowerTransformer|\n",
            "\n",
            "best estimate parameters {'C': 0.8537075288968811, 'class_weight': '', 'fit_intercept': False, 'intercept_scaling': 0.9711874752818523, 'loss': 'hinge', 'max_iter': 54, 'tol': 0.5864567024932658}\n",
            "Train score: 0.938\n",
            "Test score: 0.9446666666666667\n",
            "Test2 score: 0.9406666666666667\n",
            "LinearSVC|PCA QuantileTransformer_u|QuantileTransformer_n|\n",
            "\n",
            "best estimate parameters {'C': 0.7397767512807573, 'intercept_scaling': 0.3273948353867686, 'max_iter': 38, 'solver': 'saga', 'tol': 0.684233905220926}\n",
            "Train score: 0.938\n",
            "Test score: 0.9446666666666667\n",
            "Test2 score: 0.9406666666666667\n",
            "LogisticRegression2|PCA PowerTransformer_std|PowerTransformer|\n",
            "\n",
            "best estimate parameters {'C': 0.058774950394611, 'intercept_scaling': 0.44758907093754075, 'max_iter': 88, 'solver': 'saga', 'tol': 0.6958996929715967}\n",
            "Train score: 0.938\n",
            "Test score: 0.9446666666666667\n",
            "Test2 score: 0.9406666666666667\n",
            "LogisticRegression2|PCA QuantileTransformer_u|QuantileTransformer_n|\n",
            "\n",
            "best estimate parameters {'learning_rate': 1.0913120247061818, 'n_estimators': 4}\n",
            "Train score: 0.9165714285714286\n",
            "Test score: 0.9106666666666666\n",
            "Test2 score: 0.9113333333333333\n",
            "AdaBoostClassifier|PCA PowerTransformer_std|PowerTransformer|\n",
            "\n",
            "best estimate parameters {'learning_rate': 2.210979405959443, 'n_estimators': 193}\n",
            "Train score: 0.938\n",
            "Test score: 0.9446666666666667\n",
            "Test2 score: 0.9406666666666667\n",
            "AdaBoostClassifier|PCA QuantileTransformer_u|QuantileTransformer_n|\n",
            "\n"
          ],
          "name": "stdout"
        }
      ]
    },
    {
      "metadata": {
        "id": "sMZ6tm1BS8Bb",
        "colab_type": "code",
        "colab": {
          "base_uri": "https://localhost:8080/",
          "height": 33
        },
        "outputId": "d744ac7c-99e5-4cca-d8fe-9e77441b25ec"
      },
      "cell_type": "code",
      "source": [
        "clfs32 = clfs3.copy()\n",
        "clfs_score32 = clfs_score3.copy()\n",
        "\n",
        "joblib.dump(clfs32, 'clfs624.pkl', compress=True)\n",
        "joblib.dump(clfs_score32, 'clfs_score624.pkl', compress=True)"
      ],
      "execution_count": 25,
      "outputs": [
        {
          "output_type": "execute_result",
          "data": {
            "text/plain": [
              "['clfs_score624.pkl']"
            ]
          },
          "metadata": {
            "tags": []
          },
          "execution_count": 25
        }
      ]
    },
    {
      "metadata": {
        "id": "jGRPZwvLZbXX",
        "colab_type": "code",
        "colab": {
          "base_uri": "https://localhost:8080/",
          "height": 485
        },
        "outputId": "b8db618e-5a0e-4493-a29e-999d0434ec44"
      },
      "cell_type": "code",
      "source": [
        "folder_id = '1wRbAVDSYm-NJsRMUqkRsreELnGaNM88R'\n",
        "file = drive.CreateFile({'mimeType': 'content/clfs624.pkl','parents': [{'kind': 'drive#fileLink', 'id':folder_id}]})\n",
        "file.SetContentFile('clfs624.pkl')\n",
        "file.Upload() \n",
        "file = drive.CreateFile({'mimeType': 'content/clfs_score624.pkl','parents': [{'kind': 'drive#fileLink', 'id':folder_id}]})\n",
        "file.SetContentFile('clfs_score624.pkl')\n",
        "file.Upload() "
      ],
      "execution_count": 28,
      "outputs": [
        {
          "output_type": "stream",
          "text": [
            "WARNING:googleapiclient.discovery_cache:file_cache is unavailable when using oauth2client >= 4.0.0\n",
            "Traceback (most recent call last):\n",
            "  File \"/usr/local/lib/python3.6/dist-packages/googleapiclient/discovery_cache/__init__.py\", line 36, in autodetect\n",
            "    from google.appengine.api import memcache\n",
            "ModuleNotFoundError: No module named 'google.appengine'\n",
            "\n",
            "During handling of the above exception, another exception occurred:\n",
            "\n",
            "Traceback (most recent call last):\n",
            "  File \"/usr/local/lib/python3.6/dist-packages/googleapiclient/discovery_cache/file_cache.py\", line 33, in <module>\n",
            "    from oauth2client.contrib.locked_file import LockedFile\n",
            "ModuleNotFoundError: No module named 'oauth2client.contrib.locked_file'\n",
            "\n",
            "During handling of the above exception, another exception occurred:\n",
            "\n",
            "Traceback (most recent call last):\n",
            "  File \"/usr/local/lib/python3.6/dist-packages/googleapiclient/discovery_cache/file_cache.py\", line 37, in <module>\n",
            "    from oauth2client.locked_file import LockedFile\n",
            "ModuleNotFoundError: No module named 'oauth2client.locked_file'\n",
            "\n",
            "During handling of the above exception, another exception occurred:\n",
            "\n",
            "Traceback (most recent call last):\n",
            "  File \"/usr/local/lib/python3.6/dist-packages/googleapiclient/discovery_cache/__init__.py\", line 41, in autodetect\n",
            "    from . import file_cache\n",
            "  File \"/usr/local/lib/python3.6/dist-packages/googleapiclient/discovery_cache/file_cache.py\", line 41, in <module>\n",
            "    'file_cache is unavailable when using oauth2client >= 4.0.0')\n",
            "ImportError: file_cache is unavailable when using oauth2client >= 4.0.0\n"
          ],
          "name": "stderr"
        }
      ]
    }
  ]
}