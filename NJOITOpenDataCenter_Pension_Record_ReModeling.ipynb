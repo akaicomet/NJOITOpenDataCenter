{
  "nbformat": 4,
  "nbformat_minor": 0,
  "metadata": {
    "colab": {
      "name": "NJOITOpenDataCenter-Pension-Record-ModelEaluating.ipynb",
      "version": "0.3.2",
      "provenance": [],
      "include_colab_link": true
    },
    "kernelspec": {
      "name": "python3",
      "display_name": "Python 3"
    }
  },
  "cells": [
    {
      "cell_type": "markdown",
      "metadata": {
        "id": "view-in-github",
        "colab_type": "text"
      },
      "source": [
        "<a href=\"https://colab.research.google.com/github/akaicomet/NJOITOpenDataCenter-Pension-Record/blob/master/NJOITOpenDataCenter_Pension_Record_ReModeling.ipynb\" target=\"_parent\"><img src=\"https://colab.research.google.com/assets/colab-badge.svg\" alt=\"Open In Colab\"/></a>"
      ]
    },
    {
      "metadata": {
        "id": "xpYZu3ckkCEn",
        "colab_type": "code",
        "outputId": "5a61b335-c29c-4965-a881-090ef2c3e4c7",
        "colab": {
          "base_uri": "https://localhost:8080/",
          "height": 1462
        }
      },
      "cell_type": "code",
      "source": [
        "!pip install pandas\n",
        "!pip install tqdm\n",
        "!pip install scikit-learn\n",
        "!pip install sodapy\n",
        "!pip install matplotlib\n",
        "!pip install hyperopt\n",
        "!pip install bayesian-optimization\n",
        "!pip install tbvaccine \n",
        "!pip install MulticoreTSNE\n",
        "!pip install -U -q PyDrive"
      ],
      "execution_count": 2,
      "outputs": [
        {
          "output_type": "stream",
          "text": [
            "Requirement already satisfied: pandas in /usr/local/lib/python3.6/dist-packages (0.22.0)\n",
            "Requirement already satisfied: numpy>=1.9.0 in /usr/local/lib/python3.6/dist-packages (from pandas) (1.14.6)\n",
            "Requirement already satisfied: pytz>=2011k in /usr/local/lib/python3.6/dist-packages (from pandas) (2018.9)\n",
            "Requirement already satisfied: python-dateutil>=2 in /usr/local/lib/python3.6/dist-packages (from pandas) (2.5.3)\n",
            "Requirement already satisfied: six>=1.5 in /usr/local/lib/python3.6/dist-packages (from python-dateutil>=2->pandas) (1.11.0)\n",
            "Requirement already satisfied: tqdm in /usr/local/lib/python3.6/dist-packages (4.28.1)\n",
            "Requirement already satisfied: scikit-learn in /usr/local/lib/python3.6/dist-packages (0.20.2)\n",
            "Requirement already satisfied: scipy>=0.13.3 in /usr/local/lib/python3.6/dist-packages (from scikit-learn) (1.1.0)\n",
            "Requirement already satisfied: numpy>=1.8.2 in /usr/local/lib/python3.6/dist-packages (from scikit-learn) (1.14.6)\n",
            "Collecting sodapy\n",
            "  Downloading https://files.pythonhosted.org/packages/11/02/5baf6e10a47018babcc43e3ed03a6f13712187f4ab1fbe263b479c77d117/sodapy-1.5.2-py2.py3-none-any.whl\n",
            "Collecting requests>=2.20.0 (from sodapy)\n",
            "\u001b[?25l  Downloading https://files.pythonhosted.org/packages/7d/e3/20f3d364d6c8e5d2353c72a67778eb189176f08e873c9900e10c0287b84b/requests-2.21.0-py2.py3-none-any.whl (57kB)\n",
            "\u001b[K    100% |████████████████████████████████| 61kB 4.7MB/s \n",
            "\u001b[?25hCollecting future>=0.17.1 (from sodapy)\n",
            "\u001b[?25l  Downloading https://files.pythonhosted.org/packages/90/52/e20466b85000a181e1e144fd8305caf2cf475e2f9674e797b222f8105f5f/future-0.17.1.tar.gz (829kB)\n",
            "\u001b[K    100% |████████████████████████████████| 829kB 17.8MB/s \n",
            "\u001b[?25hRequirement already satisfied: certifi>=2017.4.17 in /usr/local/lib/python3.6/dist-packages (from requests>=2.20.0->sodapy) (2018.11.29)\n",
            "Requirement already satisfied: idna<2.9,>=2.5 in /usr/local/lib/python3.6/dist-packages (from requests>=2.20.0->sodapy) (2.6)\n",
            "Requirement already satisfied: chardet<3.1.0,>=3.0.2 in /usr/local/lib/python3.6/dist-packages (from requests>=2.20.0->sodapy) (3.0.4)\n",
            "Requirement already satisfied: urllib3<1.25,>=1.21.1 in /usr/local/lib/python3.6/dist-packages (from requests>=2.20.0->sodapy) (1.22)\n",
            "Building wheels for collected packages: future\n",
            "  Building wheel for future (setup.py) ... \u001b[?25ldone\n",
            "\u001b[?25h  Stored in directory: /root/.cache/pip/wheels/0c/61/d2/d6b7317325828fbb39ee6ad559dbe4664d0896da4721bf379e\n",
            "Successfully built future\n",
            "\u001b[31mspacy 2.0.18 has requirement numpy>=1.15.0, but you'll have numpy 1.14.6 which is incompatible.\u001b[0m\n",
            "\u001b[31mgoogle-colab 0.0.1a1 has requirement requests~=2.18.0, but you'll have requests 2.21.0 which is incompatible.\u001b[0m\n",
            "\u001b[31mfeaturetools 0.4.1 has requirement pandas>=0.23.0, but you'll have pandas 0.22.0 which is incompatible.\u001b[0m\n",
            "Installing collected packages: requests, future, sodapy\n",
            "  Found existing installation: requests 2.18.4\n",
            "    Uninstalling requests-2.18.4:\n",
            "      Successfully uninstalled requests-2.18.4\n",
            "  Found existing installation: future 0.16.0\n",
            "    Uninstalling future-0.16.0:\n",
            "      Successfully uninstalled future-0.16.0\n",
            "Successfully installed future-0.17.1 requests-2.21.0 sodapy-1.5.2\n"
          ],
          "name": "stdout"
        },
        {
          "output_type": "display_data",
          "data": {
            "application/vnd.colab-display-data+json": {
              "pip_warning": {
                "packages": [
                  "requests"
                ]
              }
            }
          },
          "metadata": {
            "tags": []
          }
        },
        {
          "output_type": "stream",
          "text": [
            "Requirement already satisfied: matplotlib in /usr/local/lib/python3.6/dist-packages (3.0.2)\n",
            "Requirement already satisfied: cycler>=0.10 in /usr/local/lib/python3.6/dist-packages (from matplotlib) (0.10.0)\n",
            "Requirement already satisfied: kiwisolver>=1.0.1 in /usr/local/lib/python3.6/dist-packages (from matplotlib) (1.0.1)\n",
            "Requirement already satisfied: pyparsing!=2.0.4,!=2.1.2,!=2.1.6,>=2.0.1 in /usr/local/lib/python3.6/dist-packages (from matplotlib) (2.3.1)\n",
            "Requirement already satisfied: python-dateutil>=2.1 in /usr/local/lib/python3.6/dist-packages (from matplotlib) (2.5.3)\n",
            "Requirement already satisfied: numpy>=1.10.0 in /usr/local/lib/python3.6/dist-packages (from matplotlib) (1.14.6)\n",
            "Requirement already satisfied: six in /usr/local/lib/python3.6/dist-packages (from cycler>=0.10->matplotlib) (1.11.0)\n",
            "Requirement already satisfied: setuptools in /usr/local/lib/python3.6/dist-packages (from kiwisolver>=1.0.1->matplotlib) (40.8.0)\n",
            "Requirement already satisfied: hyperopt in /usr/local/lib/python3.6/dist-packages (0.1.1)\n",
            "Requirement already satisfied: networkx in /usr/local/lib/python3.6/dist-packages (from hyperopt) (2.2)\n",
            "Requirement already satisfied: pymongo in /usr/local/lib/python3.6/dist-packages (from hyperopt) (3.7.2)\n",
            "Requirement already satisfied: future in /usr/local/lib/python3.6/dist-packages (from hyperopt) (0.17.1)\n",
            "Requirement already satisfied: scipy in /usr/local/lib/python3.6/dist-packages (from hyperopt) (1.1.0)\n",
            "Requirement already satisfied: numpy in /usr/local/lib/python3.6/dist-packages (from hyperopt) (1.14.6)\n",
            "Requirement already satisfied: six in /usr/local/lib/python3.6/dist-packages (from hyperopt) (1.11.0)\n",
            "Requirement already satisfied: decorator>=4.3.0 in /usr/local/lib/python3.6/dist-packages (from networkx->hyperopt) (4.3.2)\n",
            "Collecting bayesian-optimization\n",
            "  Downloading https://files.pythonhosted.org/packages/72/0c/173ac467d0a53e33e41b521e4ceba74a8ac7c7873d7b857a8fbdca88302d/bayesian-optimization-1.0.1.tar.gz\n",
            "Requirement already satisfied: numpy>=1.9.0 in /usr/local/lib/python3.6/dist-packages (from bayesian-optimization) (1.14.6)\n",
            "Requirement already satisfied: scipy>=0.14.0 in /usr/local/lib/python3.6/dist-packages (from bayesian-optimization) (1.1.0)\n",
            "Requirement already satisfied: scikit-learn>=0.18.0 in /usr/local/lib/python3.6/dist-packages (from bayesian-optimization) (0.20.2)\n",
            "Building wheels for collected packages: bayesian-optimization\n",
            "  Building wheel for bayesian-optimization (setup.py) ... \u001b[?25ldone\n",
            "\u001b[?25h  Stored in directory: /root/.cache/pip/wheels/1d/0d/3b/6b9d4477a34b3905f246ff4e7acf6aafd4cc9b77d473629b77\n",
            "Successfully built bayesian-optimization\n",
            "Installing collected packages: bayesian-optimization\n",
            "Successfully installed bayesian-optimization-1.0.1\n",
            "Collecting tbvaccine\n",
            "  Downloading https://files.pythonhosted.org/packages/b1/fb/84c930393fb23cf5fef93629df6370c51639306f0f403b9628f1d44b3b26/tbvaccine-0.3.1-py2.py3-none-any.whl\n",
            "Requirement already satisfied: pygments in /usr/local/lib/python3.6/dist-packages (from tbvaccine) (2.1.3)\n",
            "Installing collected packages: tbvaccine\n",
            "Successfully installed tbvaccine-0.3.1\n",
            "Collecting MulticoreTSNE\n",
            "  Downloading https://files.pythonhosted.org/packages/2d/e8/2afa896fa4eebfa1d0d0ba2673fddac45582ec0f06b2bdda88108ced5425/MulticoreTSNE-0.1.tar.gz\n",
            "Requirement already satisfied: numpy in /usr/local/lib/python3.6/dist-packages (from MulticoreTSNE) (1.14.6)\n",
            "Requirement already satisfied: cffi in /usr/local/lib/python3.6/dist-packages (from MulticoreTSNE) (1.11.5)\n",
            "Requirement already satisfied: pycparser in /usr/local/lib/python3.6/dist-packages (from cffi->MulticoreTSNE) (2.19)\n",
            "Building wheels for collected packages: MulticoreTSNE\n",
            "  Building wheel for MulticoreTSNE (setup.py) ... \u001b[?25ldone\n",
            "\u001b[?25h  Stored in directory: /root/.cache/pip/wheels/27/59/53/3b52ee63add3692254c30d687fa4dff4d128d0557861fb028e\n",
            "Successfully built MulticoreTSNE\n",
            "Installing collected packages: MulticoreTSNE\n",
            "Successfully installed MulticoreTSNE-0.1\n",
            "\u001b[K    100% |████████████████████████████████| 993kB 19.6MB/s \n",
            "\u001b[?25h  Building wheel for PyDrive (setup.py) ... \u001b[?25ldone\n",
            "\u001b[?25h"
          ],
          "name": "stdout"
        }
      ]
    },
    {
      "metadata": {
        "id": "JPRrqTJr11-4",
        "colab_type": "text"
      },
      "cell_type": "markdown",
      "source": [
        "#1. Copy python files from  GItHub repository to local"
      ]
    },
    {
      "metadata": {
        "id": "4yirMDyHy6HF",
        "colab_type": "code",
        "outputId": "b078c0df-dc0d-42d0-a956-7c4e7a7cee3d",
        "colab": {
          "base_uri": "https://localhost:8080/",
          "height": 454
        }
      },
      "cell_type": "code",
      "source": [
        "!git clone https://github.com/akaicomet/NJOITOpenDataCenter.git\n",
        "!git clone https://github.com/akaicomet/akaicomet_Utility.git\n",
        "!git clone https://github.com/akaicomet/akaicomet_Chart.git\n",
        "!git clone https://github.com/akaicomet/akaicomet_ML.git"
      ],
      "execution_count": 3,
      "outputs": [
        {
          "output_type": "stream",
          "text": [
            "Cloning into 'NJOITOpenDataCenter'...\n",
            "remote: Enumerating objects: 145, done.\u001b[K\n",
            "remote: Counting objects: 100% (145/145), done.\u001b[K\n",
            "remote: Compressing objects: 100% (145/145), done.\u001b[K\n",
            "remote: Total 145 (delta 87), reused 0 (delta 0), pack-reused 0\u001b[K\n",
            "Receiving objects: 100% (145/145), 11.33 MiB | 9.53 MiB/s, done.\n",
            "Resolving deltas: 100% (87/87), done.\n",
            "Cloning into 'akaicomet_Utility'...\n",
            "remote: Enumerating objects: 12, done.\u001b[K\n",
            "remote: Counting objects: 100% (12/12), done.\u001b[K\n",
            "remote: Compressing objects: 100% (8/8), done.\u001b[K\n",
            "remote: Total 12 (delta 3), reused 0 (delta 0), pack-reused 0\u001b[K\n",
            "Unpacking objects: 100% (12/12), done.\n",
            "Cloning into 'akaicomet_Chart'...\n",
            "remote: Enumerating objects: 73, done.\u001b[K\n",
            "remote: Counting objects: 100% (73/73), done.\u001b[K\n",
            "remote: Compressing objects: 100% (61/61), done.\u001b[K\n",
            "remote: Total 73 (delta 21), reused 0 (delta 0), pack-reused 0\u001b[K\n",
            "Unpacking objects: 100% (73/73), done.\n",
            "Cloning into 'akaicomet_ML'...\n",
            "remote: Enumerating objects: 26, done.\u001b[K\n",
            "remote: Counting objects: 100% (26/26), done.\u001b[K\n",
            "remote: Compressing objects: 100% (26/26), done.\u001b[K\n",
            "remote: Total 177 (delta 14), reused 0 (delta 0), pack-reused 151\u001b[K\n",
            "Receiving objects: 100% (177/177), 55.18 KiB | 6.13 MiB/s, done.\n",
            "Resolving deltas: 100% (74/74), done.\n"
          ],
          "name": "stdout"
        }
      ]
    },
    {
      "metadata": {
        "id": "R80YSeU836YS",
        "colab_type": "text"
      },
      "cell_type": "markdown",
      "source": [
        "#2. Run .py files in local"
      ]
    },
    {
      "metadata": {
        "id": "dl8bTQ7Ms7hJ",
        "colab_type": "code",
        "colab": {}
      },
      "cell_type": "code",
      "source": [
        "%run -i /content/akaicomet_Utility/ErrorHandling.py\n",
        "\n",
        "%run -i /content/NJOITOpenDataCenter/YourMoneyActivePensionMembers.py \n",
        "%run -i /content/NJOITOpenDataCenter/YourMoneyRetiredPensionMembers.py\n",
        "%run -i /content/NJOITOpenDataCenter/YourMoneyPensionMembersMerge.py\n",
        "\n",
        "%run -i /content/akaicomet_Chart/X-Ray_Scan.py\n",
        "%run -i /content/akaicomet_Chart/akaicomet_Chart.py\n",
        "\n",
        "%run -i /content/akaicomet_ML/ML_Init.py\n",
        "%run -i /content/akaicomet_ML/ML_Auto.py\n",
        "%run -i /content/akaicomet_ML/AutoFeatureEngineering.py\n"
      ],
      "execution_count": 0,
      "outputs": []
    },
    {
      "metadata": {
        "id": "ML9MALdY4Z74",
        "colab_type": "text"
      },
      "cell_type": "markdown",
      "source": [
        "#3. Import libraries"
      ]
    },
    {
      "metadata": {
        "id": "yAmvqv05tHPz",
        "colab_type": "code",
        "colab": {}
      },
      "cell_type": "code",
      "source": [
        "import pandas as pd\n",
        "import numpy as np\n",
        "#import matplotlib.pyplot as plt\n",
        "import random\n",
        "from sodapy import Socrata\n",
        "#from pandas.plotting import scatter_matrix\n",
        "#from datetime import datetime\n",
        "import seaborn as sb\n",
        "from tqdm import tqdm\n",
        "import warnings\n",
        "from textwrap import wrap"
      ],
      "execution_count": 0,
      "outputs": []
    },
    {
      "metadata": {
        "id": "bshpCLEA8PcF",
        "colab_type": "text"
      },
      "cell_type": "markdown",
      "source": [
        "#4. YourMoney and the NJOIT Open Data Center \n",
        "##4.1 YourMoney Active Pension Members API\n",
        "\n",
        "**Pension member data load from NJOIT** "
      ]
    },
    {
      "metadata": {
        "id": "jEJfm4bqtKfJ",
        "colab_type": "code",
        "outputId": "082b4442-a1c2-49ac-a8ca-1dfcae47393e",
        "colab": {
          "base_uri": "https://localhost:8080/",
          "height": 34
        }
      },
      "cell_type": "code",
      "source": [
        "client = Socrata(\"data.nj.gov\", None)\n",
        "results = client.get(\"45bd-gwii\", limit=100000000)"
      ],
      "execution_count": 6,
      "outputs": [
        {
          "output_type": "stream",
          "text": [
            "WARNING:root:Requests made without an app_token will be subject to strict throttling limits.\n"
          ],
          "name": "stderr"
        }
      ]
    },
    {
      "metadata": {
        "id": "plM06Z5vBlAh",
        "colab_type": "text"
      },
      "cell_type": "markdown",
      "source": [
        "**Data Cleansing and Preparation for YourMoney Active Pension Members data**"
      ]
    },
    {
      "metadata": {
        "id": "_X0n-m4XtWdT",
        "colab_type": "code",
        "colab": {}
      },
      "cell_type": "code",
      "source": [
        "ActivePension_df = ActivePensionDataWrangler(results)"
      ],
      "execution_count": 0,
      "outputs": []
    },
    {
      "metadata": {
        "id": "AvLEEgGb9pbg",
        "colab_type": "text"
      },
      "cell_type": "markdown",
      "source": [
        "##4.2 YourMoney Retired Pension Members API\n",
        "**Pension payment member data load from NJOIT**"
      ]
    },
    {
      "metadata": {
        "id": "Pmixfdlx3a5H",
        "colab_type": "code",
        "colab": {}
      },
      "cell_type": "code",
      "source": [
        "results = client.get(\"8up4-62p6\",   limit=100000000)"
      ],
      "execution_count": 0,
      "outputs": []
    },
    {
      "metadata": {
        "id": "ysBme-6pAl4G",
        "colab_type": "text"
      },
      "cell_type": "markdown",
      "source": [
        "**Data Cleansing and Preparation for YourMoney Retired Pension data**"
      ]
    },
    {
      "metadata": {
        "id": "VMnmExggP835",
        "colab_type": "code",
        "colab": {}
      },
      "cell_type": "code",
      "source": [
        "RetiredPension_df_grped = RetiredPensionMembersDataWrangler(results)"
      ],
      "execution_count": 0,
      "outputs": []
    },
    {
      "metadata": {
        "id": "2RMSdT2fCMvo",
        "colab_type": "text"
      },
      "cell_type": "markdown",
      "source": [
        "**Merge YourMoney Active Pension Members data and YourMoney Retired Pension data**"
      ]
    },
    {
      "metadata": {
        "id": "gDDk7d-CV8jm",
        "colab_type": "code",
        "colab": {}
      },
      "cell_type": "code",
      "source": [
        "ActivePension_df = PensionMembersMerge(ActivePension_df,RetiredPension_df_grped)\n",
        "del results"
      ],
      "execution_count": 0,
      "outputs": []
    },
    {
      "metadata": {
        "id": "QKY-9NBXlCSQ",
        "colab_type": "text"
      },
      "cell_type": "markdown",
      "source": [
        "# 5 Recheck  Correlation Variable Validation:"
      ]
    },
    {
      "metadata": {
        "id": "iK84o24evCgM",
        "colab_type": "code",
        "outputId": "2515c66c-0ad0-4e82-f94e-9deda86d6cff",
        "colab": {
          "base_uri": "https://localhost:8080/",
          "height": 334
        }
      },
      "cell_type": "code",
      "source": [
        "#x_cols2 = ['_20_year_status',\t'all_employers_salary_amt',\t\t'employer_freq_pensioned', 'total_months_qty',\t'location_freq_pensioned',\t\t'current_employer_salary_rollingamt', \t'service_months_qty',\t'pension_freq_pensioned', 'pension_fund_name_enc', 'pension_group_name_enc' ]\n",
        "x_cols2 = ['_20_year_status','all_employers_salary_amt','employer_freq_pensioned','total_months_qty','location_freq_pensioned','service_months_qty','pension_freq_pensioned','pension_fund_name_enc','pension_group_name_enc' ]\n",
        "ActivePension_df[x_cols2].corr()"
      ],
      "execution_count": 11,
      "outputs": [
        {
          "output_type": "execute_result",
          "data": {
            "text/html": [
              "<div>\n",
              "<style scoped>\n",
              "    .dataframe tbody tr th:only-of-type {\n",
              "        vertical-align: middle;\n",
              "    }\n",
              "\n",
              "    .dataframe tbody tr th {\n",
              "        vertical-align: top;\n",
              "    }\n",
              "\n",
              "    .dataframe thead th {\n",
              "        text-align: right;\n",
              "    }\n",
              "</style>\n",
              "<table border=\"1\" class=\"dataframe\">\n",
              "  <thead>\n",
              "    <tr style=\"text-align: right;\">\n",
              "      <th></th>\n",
              "      <th>_20_year_status</th>\n",
              "      <th>all_employers_salary_amt</th>\n",
              "      <th>employer_freq_pensioned</th>\n",
              "      <th>total_months_qty</th>\n",
              "      <th>location_freq_pensioned</th>\n",
              "      <th>service_months_qty</th>\n",
              "      <th>pension_freq_pensioned</th>\n",
              "      <th>pension_fund_name_enc</th>\n",
              "      <th>pension_group_name_enc</th>\n",
              "    </tr>\n",
              "  </thead>\n",
              "  <tbody>\n",
              "    <tr>\n",
              "      <th>_20_year_status</th>\n",
              "      <td>1.000000</td>\n",
              "      <td>0.296121</td>\n",
              "      <td>-0.075399</td>\n",
              "      <td>0.843661</td>\n",
              "      <td>0.082801</td>\n",
              "      <td>-0.001872</td>\n",
              "      <td>0.090456</td>\n",
              "      <td>-0.234559</td>\n",
              "      <td>-0.111928</td>\n",
              "    </tr>\n",
              "    <tr>\n",
              "      <th>all_employers_salary_amt</th>\n",
              "      <td>0.296121</td>\n",
              "      <td>1.000000</td>\n",
              "      <td>-0.067666</td>\n",
              "      <td>0.398653</td>\n",
              "      <td>-0.029870</td>\n",
              "      <td>-0.025237</td>\n",
              "      <td>-0.440353</td>\n",
              "      <td>0.207960</td>\n",
              "      <td>0.095488</td>\n",
              "    </tr>\n",
              "    <tr>\n",
              "      <th>employer_freq_pensioned</th>\n",
              "      <td>-0.075399</td>\n",
              "      <td>-0.067666</td>\n",
              "      <td>1.000000</td>\n",
              "      <td>-0.066242</td>\n",
              "      <td>0.191595</td>\n",
              "      <td>0.025102</td>\n",
              "      <td>0.042643</td>\n",
              "      <td>0.097229</td>\n",
              "      <td>-0.041309</td>\n",
              "    </tr>\n",
              "    <tr>\n",
              "      <th>total_months_qty</th>\n",
              "      <td>0.843661</td>\n",
              "      <td>0.398653</td>\n",
              "      <td>-0.066242</td>\n",
              "      <td>1.000000</td>\n",
              "      <td>0.065996</td>\n",
              "      <td>0.001912</td>\n",
              "      <td>0.044909</td>\n",
              "      <td>-0.182735</td>\n",
              "      <td>-0.119353</td>\n",
              "    </tr>\n",
              "    <tr>\n",
              "      <th>location_freq_pensioned</th>\n",
              "      <td>0.082801</td>\n",
              "      <td>-0.029870</td>\n",
              "      <td>0.191595</td>\n",
              "      <td>0.065996</td>\n",
              "      <td>1.000000</td>\n",
              "      <td>0.055229</td>\n",
              "      <td>0.306982</td>\n",
              "      <td>0.048206</td>\n",
              "      <td>-0.062512</td>\n",
              "    </tr>\n",
              "    <tr>\n",
              "      <th>service_months_qty</th>\n",
              "      <td>-0.001872</td>\n",
              "      <td>-0.025237</td>\n",
              "      <td>0.025102</td>\n",
              "      <td>0.001912</td>\n",
              "      <td>0.055229</td>\n",
              "      <td>1.000000</td>\n",
              "      <td>0.076532</td>\n",
              "      <td>0.056533</td>\n",
              "      <td>-0.033170</td>\n",
              "    </tr>\n",
              "    <tr>\n",
              "      <th>pension_freq_pensioned</th>\n",
              "      <td>0.090456</td>\n",
              "      <td>-0.440353</td>\n",
              "      <td>0.042643</td>\n",
              "      <td>0.044909</td>\n",
              "      <td>0.306982</td>\n",
              "      <td>0.076532</td>\n",
              "      <td>1.000000</td>\n",
              "      <td>-0.305136</td>\n",
              "      <td>-0.302495</td>\n",
              "    </tr>\n",
              "    <tr>\n",
              "      <th>pension_fund_name_enc</th>\n",
              "      <td>-0.234559</td>\n",
              "      <td>0.207960</td>\n",
              "      <td>0.097229</td>\n",
              "      <td>-0.182735</td>\n",
              "      <td>0.048206</td>\n",
              "      <td>0.056533</td>\n",
              "      <td>-0.305136</td>\n",
              "      <td>1.000000</td>\n",
              "      <td>0.180077</td>\n",
              "    </tr>\n",
              "    <tr>\n",
              "      <th>pension_group_name_enc</th>\n",
              "      <td>-0.111928</td>\n",
              "      <td>0.095488</td>\n",
              "      <td>-0.041309</td>\n",
              "      <td>-0.119353</td>\n",
              "      <td>-0.062512</td>\n",
              "      <td>-0.033170</td>\n",
              "      <td>-0.302495</td>\n",
              "      <td>0.180077</td>\n",
              "      <td>1.000000</td>\n",
              "    </tr>\n",
              "  </tbody>\n",
              "</table>\n",
              "</div>"
            ],
            "text/plain": [
              "                          _20_year_status  all_employers_salary_amt  \\\n",
              "_20_year_status                  1.000000                  0.296121   \n",
              "all_employers_salary_amt         0.296121                  1.000000   \n",
              "employer_freq_pensioned         -0.075399                 -0.067666   \n",
              "total_months_qty                 0.843661                  0.398653   \n",
              "location_freq_pensioned          0.082801                 -0.029870   \n",
              "service_months_qty              -0.001872                 -0.025237   \n",
              "pension_freq_pensioned           0.090456                 -0.440353   \n",
              "pension_fund_name_enc           -0.234559                  0.207960   \n",
              "pension_group_name_enc          -0.111928                  0.095488   \n",
              "\n",
              "                          employer_freq_pensioned  total_months_qty  \\\n",
              "_20_year_status                         -0.075399          0.843661   \n",
              "all_employers_salary_amt                -0.067666          0.398653   \n",
              "employer_freq_pensioned                  1.000000         -0.066242   \n",
              "total_months_qty                        -0.066242          1.000000   \n",
              "location_freq_pensioned                  0.191595          0.065996   \n",
              "service_months_qty                       0.025102          0.001912   \n",
              "pension_freq_pensioned                   0.042643          0.044909   \n",
              "pension_fund_name_enc                    0.097229         -0.182735   \n",
              "pension_group_name_enc                  -0.041309         -0.119353   \n",
              "\n",
              "                          location_freq_pensioned  service_months_qty  \\\n",
              "_20_year_status                          0.082801           -0.001872   \n",
              "all_employers_salary_amt                -0.029870           -0.025237   \n",
              "employer_freq_pensioned                  0.191595            0.025102   \n",
              "total_months_qty                         0.065996            0.001912   \n",
              "location_freq_pensioned                  1.000000            0.055229   \n",
              "service_months_qty                       0.055229            1.000000   \n",
              "pension_freq_pensioned                   0.306982            0.076532   \n",
              "pension_fund_name_enc                    0.048206            0.056533   \n",
              "pension_group_name_enc                  -0.062512           -0.033170   \n",
              "\n",
              "                          pension_freq_pensioned  pension_fund_name_enc  \\\n",
              "_20_year_status                         0.090456              -0.234559   \n",
              "all_employers_salary_amt               -0.440353               0.207960   \n",
              "employer_freq_pensioned                 0.042643               0.097229   \n",
              "total_months_qty                        0.044909              -0.182735   \n",
              "location_freq_pensioned                 0.306982               0.048206   \n",
              "service_months_qty                      0.076532               0.056533   \n",
              "pension_freq_pensioned                  1.000000              -0.305136   \n",
              "pension_fund_name_enc                  -0.305136               1.000000   \n",
              "pension_group_name_enc                 -0.302495               0.180077   \n",
              "\n",
              "                          pension_group_name_enc  \n",
              "_20_year_status                        -0.111928  \n",
              "all_employers_salary_amt                0.095488  \n",
              "employer_freq_pensioned                -0.041309  \n",
              "total_months_qty                       -0.119353  \n",
              "location_freq_pensioned                -0.062512  \n",
              "service_months_qty                     -0.033170  \n",
              "pension_freq_pensioned                 -0.302495  \n",
              "pension_fund_name_enc                   0.180077  \n",
              "pension_group_name_enc                  1.000000  "
            ]
          },
          "metadata": {
            "tags": []
          },
          "execution_count": 11
        }
      ]
    },
    {
      "metadata": {
        "id": "pcRJQ40HGIdy",
        "colab_type": "text"
      },
      "cell_type": "markdown",
      "source": [
        "#6 Initial Basic Model Selected "
      ]
    },
    {
      "metadata": {
        "id": "efeTQgy-F6Vf",
        "colab_type": "code",
        "outputId": "3973b63d-6969-4f9d-c2df-021439225377",
        "colab": {
          "base_uri": "https://localhost:8080/",
          "height": 134
        }
      },
      "cell_type": "code",
      "source": [
        "y_train = ActivePension_df['IsPensionPaid']\n",
        "X_train = ActivePension_df[x_cols2]\n",
        "\n",
        "X_train = X_train.astype(float)\n",
        "\n",
        "clfs = dict()\n",
        "clfs_score = dict()\n",
        "\n",
        "scaling_def = {'QuantileTransformer_n':QuantileTransformer(output_distribution='normal')}\n",
        "redemensioning_def = {'PCA': PCA(n_components=0.99, svd_solver='full')}\n",
        "\n",
        "for data in map(lambda x:Redimensioning2(x[1],x[0],redemensioning_def), scaling3(X_train,scaling_def)):\n",
        "  for x in data:\n",
        "    MLModelBuilding('RandomForestClassifier', x[1], x[0], y_train, 0.3, clfs, [0.1, 1],clfs_score)"
      ],
      "execution_count": 12,
      "outputs": [
        {
          "output_type": "stream",
          "text": [
            "/usr/local/lib/python3.6/dist-packages/sklearn/ensemble/forest.py:246: FutureWarning: The default value of n_estimators will change from 10 in version 0.20 to 100 in 0.22.\n",
            "  \"10 in version 0.20 to 100 in 0.22.\", FutureWarning)\n"
          ],
          "name": "stderr"
        },
        {
          "output_type": "stream",
          "text": [
            "Train score: 0.991438896029879\n",
            "Test score: 0.9558623811679493\n",
            "Test2 score: 0.9803078315980082\n",
            "RandomForestClassifier|PCA QuantileTransformer_n|\n",
            "\n"
          ],
          "name": "stdout"
        }
      ]
    },
    {
      "metadata": {
        "id": "-_Dhxmm_KyZP",
        "colab_type": "code",
        "outputId": "c242fced-d3ca-4fda-93eb-bdb692841cef",
        "colab": {
          "base_uri": "https://localhost:8080/",
          "height": 118
        }
      },
      "cell_type": "code",
      "source": [
        "clfs['RandomForestClassifier|PCA QuantileTransformer_n|']"
      ],
      "execution_count": 13,
      "outputs": [
        {
          "output_type": "execute_result",
          "data": {
            "text/plain": [
              "RandomForestClassifier(bootstrap=True, class_weight=None, criterion='gini',\n",
              "            max_depth=None, max_features='auto', max_leaf_nodes=None,\n",
              "            min_impurity_decrease=0.0, min_impurity_split=None,\n",
              "            min_samples_leaf=1, min_samples_split=2,\n",
              "            min_weight_fraction_leaf=0.0, n_estimators=10, n_jobs=-1,\n",
              "            oob_score=False, random_state=0, verbose=0, warm_start=False)"
            ]
          },
          "metadata": {
            "tags": []
          },
          "execution_count": 13
        }
      ]
    },
    {
      "metadata": {
        "id": "xLX6k87jIGOc",
        "colab_type": "text"
      },
      "cell_type": "markdown",
      "source": [
        "#7 Forecast Model Review"
      ]
    },
    {
      "metadata": {
        "id": "VSsVM9A4IRwt",
        "colab_type": "code",
        "colab": {}
      },
      "cell_type": "code",
      "source": [
        "scaling_def = {'QuantileTransformer_n':QuantileTransformer(output_distribution='normal')}\n",
        "redemensioning_def = {'PCA': PCA(n_components=0.99, svd_solver='full')}\n",
        "\n",
        "sample = ActivePension_df[x_cols2 + ['IsPensionPaid']].sample(n=50000, random_state=5)\n",
        "sample2 = ActivePension_df.sample(n=50000, random_state=5)\n",
        "\n",
        "for data in map(lambda x:Redimensioning2(x[1],x[0],redemensioning_def), scaling3(sample[x_cols2],scaling_def)):\n",
        "  for x in data:\n",
        "    clf_pred = clfs['RandomForestClassifier|PCA QuantileTransformer_n|'].predict(x[0])"
      ],
      "execution_count": 0,
      "outputs": []
    },
    {
      "metadata": {
        "id": "QedMECpkJHmc",
        "colab_type": "code",
        "colab": {}
      },
      "cell_type": "code",
      "source": [
        "Predict_df = sample\n",
        "Predict_df['Predict'] = clf_pred\n",
        "sample2['Predict'] = clf_pred"
      ],
      "execution_count": 0,
      "outputs": []
    },
    {
      "metadata": {
        "id": "a4HbgWUKNX2H",
        "colab_type": "text"
      },
      "cell_type": "markdown",
      "source": [
        "## 7.1 Collect Mismatched Subset of Predicted and Actual data  "
      ]
    },
    {
      "metadata": {
        "id": "vwS05qC0ixLi",
        "colab_type": "code",
        "colab": {}
      },
      "cell_type": "code",
      "source": [
        "df_mismatched = sample2[sample2['IsPensionPaid'] != sample2['Predict']]"
      ],
      "execution_count": 0,
      "outputs": []
    },
    {
      "metadata": {
        "id": "QldrUsPINiO7",
        "colab_type": "text"
      },
      "cell_type": "markdown",
      "source": [
        "## 7.2 Find Attributes Contributing to Mismatching Subset and Split Value Set"
      ]
    },
    {
      "metadata": {
        "id": "MmeTRwNTrQcB",
        "colab_type": "code",
        "colab": {
          "base_uri": "https://localhost:8080/",
          "height": 50
        },
        "outputId": "67342198-1df2-471d-d8f8-dcd627359dd5"
      },
      "cell_type": "code",
      "source": [
        "print(len(df_mismatched.groupby(['employer_name'])))\n",
        "print(len(sample2.groupby(['employer_name'])))\n",
        "df = (df_mismatched[['employer_name','IsPensionPaid']].groupby(['employer_name']).count()/len(df_mismatched)).sort_values('IsPensionPaid', ascending=False)\n",
        "df['cum_sum'] = df.IsPensionPaid.cumsum()\n",
        "employer_name_split_c_list = df[df.cum_sum <= 0.9 ].index.tolist()"
      ],
      "execution_count": 17,
      "outputs": [
        {
          "output_type": "stream",
          "text": [
            "782\n",
            "1698\n"
          ],
          "name": "stdout"
        }
      ]
    },
    {
      "metadata": {
        "id": "GmKWPZ7Xg846",
        "colab_type": "code",
        "colab": {
          "base_uri": "https://localhost:8080/",
          "height": 50
        },
        "outputId": "c1dfc48b-7fab-42d3-f273-eb088006eed8"
      },
      "cell_type": "code",
      "source": [
        "print(len(df_mismatched.groupby(['veteran_status'])))\n",
        "print(len(sample2.groupby(['veteran_status'])))"
      ],
      "execution_count": 18,
      "outputs": [
        {
          "output_type": "stream",
          "text": [
            "2\n",
            "2\n"
          ],
          "name": "stdout"
        }
      ]
    },
    {
      "metadata": {
        "id": "Xnfos0VO_DBJ",
        "colab_type": "code",
        "colab": {
          "base_uri": "https://localhost:8080/",
          "height": 50
        },
        "outputId": "755ed763-8093-4067-a880-e8d5a281f292"
      },
      "cell_type": "code",
      "source": [
        "print(len(df_mismatched.groupby(['location_name'])))\n",
        "print(len(sample2.groupby(['location_name'])))\n",
        "df = (df_mismatched[['location_name','IsPensionPaid']].groupby(['location_name']).count()/len(df_mismatched)).sort_values('IsPensionPaid', ascending=False)\n",
        "df['cum_sum'] = df.IsPensionPaid.cumsum()\n",
        "location_name_split_c_list = df[df.cum_sum <= 0.9 ].index.tolist()"
      ],
      "execution_count": 19,
      "outputs": [
        {
          "output_type": "stream",
          "text": [
            "23\n",
            "23\n"
          ],
          "name": "stdout"
        }
      ]
    },
    {
      "metadata": {
        "id": "EKoDMD3jAvH0",
        "colab_type": "code",
        "colab": {
          "base_uri": "https://localhost:8080/",
          "height": 50
        },
        "outputId": "0f6254bb-8874-4b9f-906f-97cbbfff1f12"
      },
      "cell_type": "code",
      "source": [
        "print(len(df_mismatched.groupby(['pension_fund_name'])))\n",
        "print(len(sample2.groupby(['pension_fund_name'])))\n",
        "pension_fund_name_split_c_list = ['PUBLIC EMPLOYEES\\' RETIREMENT SYSTEM','TEACHERS\\' PENSION AND ANNUITY FUND']"
      ],
      "execution_count": 20,
      "outputs": [
        {
          "output_type": "stream",
          "text": [
            "4\n",
            "4\n"
          ],
          "name": "stdout"
        }
      ]
    },
    {
      "metadata": {
        "id": "tuiTlHQjA5Y4",
        "colab_type": "code",
        "colab": {
          "base_uri": "https://localhost:8080/",
          "height": 50
        },
        "outputId": "7236dd4b-ece2-4fd0-9431-04977e13672c"
      },
      "cell_type": "code",
      "source": [
        "print(len(df_mismatched.groupby(['pension_group_id'])))\n",
        "print(len(sample2.groupby(['pension_group_id'])))\n",
        "pension_group_id_split_c_list = ['2','1']"
      ],
      "execution_count": 21,
      "outputs": [
        {
          "output_type": "stream",
          "text": [
            "6\n",
            "10\n"
          ],
          "name": "stdout"
        }
      ]
    },
    {
      "metadata": {
        "id": "tXf4tkifpY9s",
        "colab_type": "code",
        "colab": {
          "base_uri": "https://localhost:8080/",
          "height": 50
        },
        "outputId": "e9777e89-aed9-4c95-dafc-0965f39634e0"
      },
      "cell_type": "code",
      "source": [
        "print(len(df_mismatched.groupby(['veteran_status'])))\n",
        "print(len(sample2.groupby(['veteran_status'])))"
      ],
      "execution_count": 22,
      "outputs": [
        {
          "output_type": "stream",
          "text": [
            "2\n",
            "2\n"
          ],
          "name": "stdout"
        }
      ]
    },
    {
      "metadata": {
        "id": "v6ak6SjsPBAC",
        "colab_type": "code",
        "colab": {}
      },
      "cell_type": "code",
      "source": [
        "ActivePension_df['employer_name_split'] = ActivePension_df['employer_name'] .apply(lambda x: 1 if x in employer_name_split_c_list else 0)  \n",
        "ActivePension_df['location_name_split'] = ActivePension_df['location_name'] .apply(lambda x: 1 if x in location_name_split_c_list else 0)  \n",
        "ActivePension_df['pension_fund_name_split'] = ActivePension_df['pension_fund_name'] .apply(lambda x: 1 if x in pension_fund_name_split_c_list else 0)  \n",
        "ActivePension_df['pension_group_id_split'] = ActivePension_df['pension_group_id'] .apply(lambda x: 1 if x in pension_group_id_split_c_list else 0)  "
      ],
      "execution_count": 0,
      "outputs": []
    },
    {
      "metadata": {
        "id": "ru2j5NIGFM5k",
        "colab_type": "text"
      },
      "cell_type": "markdown",
      "source": [
        "# 8 Remodeling"
      ]
    },
    {
      "metadata": {
        "id": "5vP6RuDrDXLx",
        "colab_type": "code",
        "colab": {
          "base_uri": "https://localhost:8080/",
          "height": 134
        },
        "outputId": "ce579603-26bf-4abc-9f9b-c770d7acee55"
      },
      "cell_type": "code",
      "source": [
        "y_train = ActivePension_df['IsPensionPaid']\n",
        "X_train = ActivePension_df[x_cols2 + ['employer_name_split','location_name_split','pension_fund_name_split','pension_group_id_split'] + ['veteran_status']]\n",
        "\n",
        "X_train = X_train.astype(float)\n",
        "\n",
        "clfs = dict()\n",
        "clfs_score = dict()\n",
        "\n",
        "scaling_def = {'QuantileTransformer_n':QuantileTransformer(output_distribution='normal')}\n",
        "redemensioning_def = {'PCA': PCA(n_components=0.99, svd_solver='full')}\n",
        "\n",
        "for data in map(lambda x:Redimensioning2(x[1],x[0],redemensioning_def), scaling3(X_train,scaling_def)):\n",
        "  for x in data:\n",
        "    MLModelBuilding('RandomForestClassifier', x[1], x[0], y_train, 0.3, clfs, [0.1, 1],clfs_score)"
      ],
      "execution_count": 35,
      "outputs": [
        {
          "output_type": "stream",
          "text": [
            "/usr/local/lib/python3.6/dist-packages/sklearn/ensemble/forest.py:246: FutureWarning: The default value of n_estimators will change from 10 in version 0.20 to 100 in 0.22.\n",
            "  \"10 in version 0.20 to 100 in 0.22.\", FutureWarning)\n"
          ],
          "name": "stderr"
        },
        {
          "output_type": "stream",
          "text": [
            "Train score: 0.9913176339339849\n",
            "Test score: 0.953881846989588\n",
            "Test2 score: 0.9802512449071978\n",
            "RandomForestClassifier|PCA QuantileTransformer_n|\n",
            "\n"
          ],
          "name": "stdout"
        }
      ]
    }
  ]
}